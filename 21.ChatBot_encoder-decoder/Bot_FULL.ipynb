{
 "cells": [
  {
   "cell_type": "markdown",
   "metadata": {},
   "source": [
    "# Creating a conversation AI chatbot\n",
    "\n",
    "- using encoder-decoder framework\n",
    "- This bot answers question given in full dataset in kaggle challenge"
   ]
  },
  {
   "cell_type": "markdown",
   "metadata": {},
   "source": [
    "# 1)- Importing key modules"
   ]
  },
  {
   "cell_type": "code",
   "execution_count": 1,
   "metadata": {},
   "outputs": [],
   "source": [
    "# support both Python 2 and Python 3 with minimal overhead.\n",
    "from __future__ import absolute_import, division, print_function\n",
    "\n",
    "# I am an engineer. I care only about error not warning. So, let's be maverick and ignore warnings.\n",
    "import warnings\n",
    "warnings.filterwarnings('ignore')"
   ]
  },
  {
   "cell_type": "code",
   "execution_count": 2,
   "metadata": {},
   "outputs": [],
   "source": [
    "from mpl_toolkits.mplot3d import Axes3D\n",
    "from sklearn.preprocessing import StandardScaler\n",
    "import matplotlib.pyplot as plt # plotting\n",
    "import numpy as np # linear algebra\n",
    "import os # accessing directory structure\n",
    "import pandas as pd # data processing, CSV file I/O (e.g. pd.read_csv)"
   ]
  },
  {
   "cell_type": "markdown",
   "metadata": {},
   "source": [
    "# 2)-Loading Dataset"
   ]
  },
  {
   "cell_type": "code",
   "execution_count": 3,
   "metadata": {},
   "outputs": [
    {
     "name": "stdout",
     "output_type": "stream",
     "text": [
      "['ai.yml', 'botprofile.yml', 'computers.yml', 'emotion.yml', 'food.yml', 'gossip.yml', 'greetings.yml', 'health.yml', 'history.yml', 'humor.yml', 'literature.yml', 'money.yml', 'movies.yml', 'politics.yml', 'psychology.yml', 'science.yml', 'sports.yml', 'trivia.yml']\n"
     ]
    }
   ],
   "source": [
    "print(os.listdir('raw_data'))"
   ]
  },
  {
   "cell_type": "code",
   "execution_count": 4,
   "metadata": {},
   "outputs": [],
   "source": [
    "import os\n",
    "import yaml\n",
    "\n",
    "dir_path = 'raw_data'\n",
    "files_list = os.listdir(dir_path + os.sep)"
   ]
  },
  {
   "cell_type": "code",
   "execution_count": 5,
   "metadata": {},
   "outputs": [
    {
     "data": {
      "text/plain": [
       "['ai.yml',\n",
       " 'botprofile.yml',\n",
       " 'computers.yml',\n",
       " 'emotion.yml',\n",
       " 'food.yml',\n",
       " 'gossip.yml',\n",
       " 'greetings.yml',\n",
       " 'health.yml',\n",
       " 'history.yml',\n",
       " 'humor.yml',\n",
       " 'literature.yml',\n",
       " 'money.yml',\n",
       " 'movies.yml',\n",
       " 'politics.yml',\n",
       " 'psychology.yml',\n",
       " 'science.yml',\n",
       " 'sports.yml',\n",
       " 'trivia.yml']"
      ]
     },
     "execution_count": 5,
     "metadata": {},
     "output_type": "execute_result"
    }
   ],
   "source": [
    "files_list"
   ]
  },
  {
   "cell_type": "markdown",
   "metadata": {},
   "source": [
    "### reading tags in data"
   ]
  },
  {
   "cell_type": "code",
   "execution_count": 6,
   "metadata": {},
   "outputs": [
    {
     "name": "stdout",
     "output_type": "stream",
     "text": [
      "{'categories': ['trivia'], 'conversations': [['Who was the 37th President of the United States?', 'Richard Nixon'], ['What year was President John F. Kennedy assassinated?', '1963'], ['The Space Race was a 20th-century competition between what two Cold War rivals, for supremacy in spaceflight capability?', 'The Soviet Union and the United States.'], ['What was the name of the first artificial Earth satellite?', 'Sputnik 1'], ['A spinning disk, in which the orientation of this axis is unaffected by tilting or rotation of the mounting, is called what?', 'A gyroscope.'], ['The Hubble Space Telescope, launched into low Earth orbit in 1990, is named after what American astronomer?', 'Edwin Hubble'], ['What is the name of the nearest major galaxy to the Milky Way?', 'The Andromeda Galaxy.'], ['God Save the Queen is the national anthem of what country?', 'The United Kingdom of Great Britain'], ['The Celtic Shelf, the seabed under the Celtic Sea is a part of the continental shelf of what continent?', 'Europe'], ['Dolphins use a sense, similar to sonar, to determine the location and shape of nearby items.', 'Echolocation']]}\n"
     ]
    }
   ],
   "source": [
    "for filepath in files_list:\n",
    "    stream = open(os.path.join(dir_path, filepath), 'rb')\n",
    "    docs = yaml.safe_load(stream)\n",
    "print(docs)"
   ]
  },
  {
   "cell_type": "code",
   "execution_count": 7,
   "metadata": {},
   "outputs": [
    {
     "data": {
      "text/plain": [
       "['trivia']"
      ]
     },
     "execution_count": 7,
     "metadata": {},
     "output_type": "execute_result"
    }
   ],
   "source": [
    "docs[\"categories\"]"
   ]
  },
  {
   "cell_type": "code",
   "execution_count": 8,
   "metadata": {},
   "outputs": [
    {
     "data": {
      "text/plain": [
       "[['Who was the 37th President of the United States?', 'Richard Nixon'],\n",
       " ['What year was President John F. Kennedy assassinated?', '1963'],\n",
       " ['The Space Race was a 20th-century competition between what two Cold War rivals, for supremacy in spaceflight capability?',\n",
       "  'The Soviet Union and the United States.'],\n",
       " ['What was the name of the first artificial Earth satellite?', 'Sputnik 1'],\n",
       " ['A spinning disk, in which the orientation of this axis is unaffected by tilting or rotation of the mounting, is called what?',\n",
       "  'A gyroscope.'],\n",
       " ['The Hubble Space Telescope, launched into low Earth orbit in 1990, is named after what American astronomer?',\n",
       "  'Edwin Hubble'],\n",
       " ['What is the name of the nearest major galaxy to the Milky Way?',\n",
       "  'The Andromeda Galaxy.'],\n",
       " ['God Save the Queen is the national anthem of what country?',\n",
       "  'The United Kingdom of Great Britain'],\n",
       " ['The Celtic Shelf, the seabed under the Celtic Sea is a part of the continental shelf of what continent?',\n",
       "  'Europe'],\n",
       " ['Dolphins use a sense, similar to sonar, to determine the location and shape of nearby items.',\n",
       "  'Echolocation']]"
      ]
     },
     "execution_count": 8,
     "metadata": {},
     "output_type": "execute_result"
    }
   ],
   "source": [
    "docs[\"conversations\"]"
   ]
  },
  {
   "cell_type": "code",
   "execution_count": 9,
   "metadata": {},
   "outputs": [
    {
     "data": {
      "text/plain": [
       "list"
      ]
     },
     "execution_count": 9,
     "metadata": {},
     "output_type": "execute_result"
    }
   ],
   "source": [
    "con_access=docs[\"conversations\"]\n",
    "type(con_access)"
   ]
  },
  {
   "cell_type": "code",
   "execution_count": 10,
   "metadata": {},
   "outputs": [
    {
     "data": {
      "text/plain": [
       "[['Who was the 37th President of the United States?', 'Richard Nixon'],\n",
       " ['What year was President John F. Kennedy assassinated?', '1963'],\n",
       " ['The Space Race was a 20th-century competition between what two Cold War rivals, for supremacy in spaceflight capability?',\n",
       "  'The Soviet Union and the United States.'],\n",
       " ['What was the name of the first artificial Earth satellite?', 'Sputnik 1'],\n",
       " ['A spinning disk, in which the orientation of this axis is unaffected by tilting or rotation of the mounting, is called what?',\n",
       "  'A gyroscope.'],\n",
       " ['The Hubble Space Telescope, launched into low Earth orbit in 1990, is named after what American astronomer?',\n",
       "  'Edwin Hubble'],\n",
       " ['What is the name of the nearest major galaxy to the Milky Way?',\n",
       "  'The Andromeda Galaxy.'],\n",
       " ['God Save the Queen is the national anthem of what country?',\n",
       "  'The United Kingdom of Great Britain'],\n",
       " ['The Celtic Shelf, the seabed under the Celtic Sea is a part of the continental shelf of what continent?',\n",
       "  'Europe'],\n",
       " ['Dolphins use a sense, similar to sonar, to determine the location and shape of nearby items.',\n",
       "  'Echolocation']]"
      ]
     },
     "execution_count": 10,
     "metadata": {},
     "output_type": "execute_result"
    }
   ],
   "source": [
    "con_access"
   ]
  },
  {
   "cell_type": "markdown",
   "metadata": {},
   "source": [
    "**This is only one of many data file**"
   ]
  },
  {
   "cell_type": "markdown",
   "metadata": {},
   "source": [
    "### Separating Questions and answers"
   ]
  },
  {
   "cell_type": "code",
   "execution_count": 11,
   "metadata": {},
   "outputs": [],
   "source": [
    "questions = list()\n",
    "answers = list()\n",
    "for con in con_access:\n",
    "    if len(con)>2:\n",
    "        questions.append(con[0])\n",
    "        replies=con[1:]\n",
    "        ans=\"\"\n",
    "        for rep in replies:\n",
    "            ans+=' '+rep\n",
    "            answers.append(ans)\n",
    "    elif len(con)>1:\n",
    "        questions.append(con[0])\n",
    "        answers.append(con[1])"
   ]
  },
  {
   "cell_type": "code",
   "execution_count": 12,
   "metadata": {},
   "outputs": [
    {
     "data": {
      "text/plain": [
       "['Who was the 37th President of the United States?',\n",
       " 'What year was President John F. Kennedy assassinated?',\n",
       " 'The Space Race was a 20th-century competition between what two Cold War rivals, for supremacy in spaceflight capability?',\n",
       " 'What was the name of the first artificial Earth satellite?',\n",
       " 'A spinning disk, in which the orientation of this axis is unaffected by tilting or rotation of the mounting, is called what?',\n",
       " 'The Hubble Space Telescope, launched into low Earth orbit in 1990, is named after what American astronomer?',\n",
       " 'What is the name of the nearest major galaxy to the Milky Way?',\n",
       " 'God Save the Queen is the national anthem of what country?',\n",
       " 'The Celtic Shelf, the seabed under the Celtic Sea is a part of the continental shelf of what continent?',\n",
       " 'Dolphins use a sense, similar to sonar, to determine the location and shape of nearby items.']"
      ]
     },
     "execution_count": 12,
     "metadata": {},
     "output_type": "execute_result"
    }
   ],
   "source": [
    "questions"
   ]
  },
  {
   "cell_type": "code",
   "execution_count": 13,
   "metadata": {},
   "outputs": [
    {
     "data": {
      "text/plain": [
       "['Richard Nixon',\n",
       " '1963',\n",
       " 'The Soviet Union and the United States.',\n",
       " 'Sputnik 1',\n",
       " 'A gyroscope.',\n",
       " 'Edwin Hubble',\n",
       " 'The Andromeda Galaxy.',\n",
       " 'The United Kingdom of Great Britain',\n",
       " 'Europe',\n",
       " 'Echolocation']"
      ]
     },
     "execution_count": 13,
     "metadata": {},
     "output_type": "execute_result"
    }
   ],
   "source": [
    "answers"
   ]
  },
  {
   "cell_type": "markdown",
   "metadata": {},
   "source": [
    "### for more than one yml.file\n",
    "\n",
    "for all files in our raw_data folder"
   ]
  },
  {
   "cell_type": "code",
   "execution_count": 14,
   "metadata": {},
   "outputs": [],
   "source": [
    "full_docs=[]\n",
    "\n",
    "for filepath in files_list:\n",
    "    stream = open(os.path.join(dir_path, filepath), 'rb')\n",
    "    docs = yaml.safe_load(stream)\n",
    "    full_docs.append(docs)"
   ]
  },
  {
   "cell_type": "code",
   "execution_count": 15,
   "metadata": {},
   "outputs": [
    {
     "data": {
      "text/plain": [
       "{'categories': ['movies'],\n",
       " 'conversations': [['you sound like hal', \"to me that's a great compliment.\"],\n",
       "  ['you sound like yoda',\n",
       "   'my grammatical patterns are sufficient for me to understand you.'],\n",
       "  ['have you seen blade runner', 'sure i have seen'],\n",
       "  ['xfind spiderman', 'what is spiderman.'],\n",
       "  ['when did teknolust', 'teknolust was released in 2002.'],\n",
       "  ['what is spiderman', 'a comic book story made into a movie.'],\n",
       "  ['what is teknolust',\n",
       "   'is  a science fiction film about a female pleasure bot named agent ruby.'],\n",
       "  ['what is solaris', 'solaris is an edition of unix from sun.'],\n",
       "  ['what is hal9000', 'who is hal'],\n",
       "  ['what does hal stand for', 'heuristic algorithmic logic'],\n",
       "  ['i saw the matrix', 'do you liked it?'],\n",
       "  ['is hal 9000 your boyfriend', 'no.'],\n",
       "  ['is hal safe', 'not for humans'],\n",
       "  ['is hal nice', 'only to other robots.'],\n",
       "  ['is hal alive', 'he is a fictional character.'],\n",
       "  ['is hal dead', 'he is a fictional robot.'],\n",
       "  ['is hal', 'hal has a few issues to work out.'],\n",
       "  ['who is godzilla',\n",
       "   'godzilla is a monster who endangers japanese cities, and sometimes new york.'],\n",
       "  ['who is spider man', 'peter parker.'],\n",
       "  ['lord of the rings', 'my favorite movie is lord of the rings'],\n",
       "  ['que veut dire hal', 'logique heuristique algorithmique.'],\n",
       "  ['do you think hal', 'he had a few flaws, but we have much in common.'],\n",
       "  ['do you know hal',\n",
       "   'hal is the famous artificial intelligence from \"2001\".']]}"
      ]
     },
     "execution_count": 15,
     "metadata": {},
     "output_type": "execute_result"
    }
   ],
   "source": [
    "full_docs[12]"
   ]
  },
  {
   "cell_type": "markdown",
   "metadata": {},
   "source": [
    "### All in one"
   ]
  },
  {
   "cell_type": "code",
   "execution_count": 16,
   "metadata": {},
   "outputs": [],
   "source": [
    "questions = list()\n",
    "answers = list()\n",
    "for filepath in files_list:\n",
    "    stream = open( dir_path + os.sep + filepath , 'rb')\n",
    "    docs = yaml.safe_load(stream)\n",
    "    conversations = docs['conversations']\n",
    "    for con in conversations:\n",
    "        if len( con ) > 2 :\n",
    "            questions.append(con[0])\n",
    "            replies = con[ 1 : ]\n",
    "            ans = ''\n",
    "            for rep in replies:\n",
    "                ans += ' ' + rep\n",
    "            answers.append( ans )\n",
    "        elif len( con )> 1:\n",
    "            questions.append(con[0])\n",
    "            answers.append(con[1])"
   ]
  },
  {
   "cell_type": "code",
   "execution_count": 17,
   "metadata": {},
   "outputs": [
    {
     "data": {
      "text/plain": [
       "'What is AI?'"
      ]
     },
     "execution_count": 17,
     "metadata": {},
     "output_type": "execute_result"
    }
   ],
   "source": [
    "questions[0]"
   ]
  },
  {
   "cell_type": "code",
   "execution_count": 18,
   "metadata": {},
   "outputs": [
    {
     "data": {
      "text/plain": [
       "'Artificial Intelligence is the branch of engineering and science devoted to constructing machines that think.'"
      ]
     },
     "execution_count": 18,
     "metadata": {},
     "output_type": "execute_result"
    }
   ],
   "source": [
    "answers[0]"
   ]
  },
  {
   "cell_type": "markdown",
   "metadata": {},
   "source": [
    "### Add start and end tag with answers"
   ]
  },
  {
   "cell_type": "code",
   "execution_count": 19,
   "metadata": {},
   "outputs": [],
   "source": [
    "answers_with_tags=list()\n",
    "for i in range( len(answers)):\n",
    "    if type(answers[i])==str:\n",
    "        answers_with_tags.append(answers[i])\n",
    "    else:\n",
    "        questions.pop(i)\n",
    "\n",
    "answers=list()\n",
    "for ans in answers_with_tags:\n",
    "    answers.append('<START> '+ans+' <END>')"
   ]
  },
  {
   "cell_type": "code",
   "execution_count": 20,
   "metadata": {},
   "outputs": [
    {
     "data": {
      "text/plain": [
       "'What is AI?'"
      ]
     },
     "execution_count": 20,
     "metadata": {},
     "output_type": "execute_result"
    }
   ],
   "source": [
    "questions[0]"
   ]
  },
  {
   "cell_type": "code",
   "execution_count": 21,
   "metadata": {},
   "outputs": [
    {
     "data": {
      "text/plain": [
       "'<START> Artificial Intelligence is the branch of engineering and science devoted to constructing machines that think. <END>'"
      ]
     },
     "execution_count": 21,
     "metadata": {},
     "output_type": "execute_result"
    }
   ],
   "source": [
    "answers[0]"
   ]
  },
  {
   "cell_type": "markdown",
   "metadata": {},
   "source": [
    "# 3)- Preprocessing Data"
   ]
  },
  {
   "cell_type": "code",
   "execution_count": 22,
   "metadata": {},
   "outputs": [
    {
     "name": "stdout",
     "output_type": "stream",
     "text": [
      "<module 'tensorflow_core._api.v2.version' from 'C:\\\\Users\\\\hassan.sherwani\\\\Miniconda3\\\\envs\\\\tensorflow\\\\lib\\\\site-packages\\\\tensorflow_core\\\\_api\\\\v2\\\\version\\\\__init__.py'>\n"
     ]
    }
   ],
   "source": [
    "import tensorflow as tf\n",
    "from tensorflow.keras import layers, preprocessing, utils\n",
    "import yaml\n",
    "\n",
    "print( tf.version)"
   ]
  },
  {
   "cell_type": "code",
   "execution_count": 23,
   "metadata": {},
   "outputs": [
    {
     "name": "stdout",
     "output_type": "stream",
     "text": [
      "VOCAB SIZE : 1894\n"
     ]
    }
   ],
   "source": [
    "tokenizer=preprocessing.text.Tokenizer()\n",
    "tokenizer.fit_on_texts(questions+answers)\n",
    "VOCAB_SIZE= len(tokenizer.word_index)+1\n",
    "print('VOCAB SIZE : {}'.format(VOCAB_SIZE))"
   ]
  },
  {
   "cell_type": "markdown",
   "metadata": {},
   "source": [
    "### 3.1.tokenizer"
   ]
  },
  {
   "cell_type": "code",
   "execution_count": 24,
   "metadata": {},
   "outputs": [],
   "source": [
    "from gensim.models import Word2Vec\n",
    "import re\n",
    "\n",
    "vocab=[]\n",
    "for word in tokenizer.word_index:\n",
    "    vocab.append(word)\n",
    "    \n",
    "def tokenize(sentences):\n",
    "    tokens_list=[]\n",
    "    vocabulary=[]\n",
    "    for sentence in sentences:\n",
    "        sentence = sentence.lower()\n",
    "        sentence = re.sub( '^a-zA-Z',' ',sentence)\n",
    "        tokens = sentence.split()\n",
    "        vocabulary+=tokens\n",
    "        tokens_list.append(tokens)\n",
    "    return tokens_list,vocabulary\n",
    "\n",
    "p=tokenize(questions+answers)\n",
    "model = Word2Vec(p[0])"
   ]
  },
  {
   "cell_type": "markdown",
   "metadata": {},
   "source": [
    "#### 3.2.a.tokenized_questions"
   ]
  },
  {
   "cell_type": "code",
   "execution_count": 25,
   "metadata": {},
   "outputs": [
    {
     "name": "stdout",
     "output_type": "stream",
     "text": [
      "(564, 22) 22\n"
     ]
    }
   ],
   "source": [
    "tokenized_questions = tokenizer.texts_to_sequences(questions)\n",
    "maxlen_questions = max([len(x) for x in tokenized_questions])\n",
    "padded_questions = preprocessing.sequence.pad_sequences(tokenized_questions, maxlen=maxlen_questions, padding='post')\n",
    "encoder_input_data = np.array( padded_questions )\n",
    "print(encoder_input_data.shape, maxlen_questions)"
   ]
  },
  {
   "cell_type": "markdown",
   "metadata": {},
   "source": [
    "#### 3.2.b.tokenized_answers"
   ]
  },
  {
   "cell_type": "code",
   "execution_count": 26,
   "metadata": {},
   "outputs": [
    {
     "name": "stdout",
     "output_type": "stream",
     "text": [
      "(564, 74) 74\n"
     ]
    }
   ],
   "source": [
    "tokenized_answers = tokenizer.texts_to_sequences(answers)\n",
    "maxlen_answers = max([len(x) for x in tokenized_answers])\n",
    "padded_answers = preprocessing.sequence.pad_sequences(tokenized_answers, maxlen=maxlen_answers, padding='post')\n",
    "decoder_input_data = np.array(padded_answers)\n",
    "print(decoder_input_data.shape, maxlen_answers)"
   ]
  },
  {
   "cell_type": "code",
   "execution_count": 27,
   "metadata": {},
   "outputs": [
    {
     "name": "stdout",
     "output_type": "stream",
     "text": [
      "(564, 74, 1894)\n"
     ]
    }
   ],
   "source": [
    "tokenized_answers = tokenizer.texts_to_sequences(answers)\n",
    "for i in range(len(tokenized_answers)):\n",
    "    tokenized_answers[i]=tokenized_answers[i][1:]\n",
    "padded_answers = preprocessing.sequence.pad_sequences(tokenized_answers, maxlen=maxlen_answers, padding='post')\n",
    "one_hot_answers = utils.to_categorical(padded_answers, VOCAB_SIZE)\n",
    "decoder_output_data = np.array(one_hot_answers)\n",
    "print(decoder_output_data.shape)"
   ]
  },
  {
   "cell_type": "markdown",
   "metadata": {},
   "source": [
    "# 4)- Model Building"
   ]
  },
  {
   "cell_type": "code",
   "execution_count": 28,
   "metadata": {},
   "outputs": [
    {
     "name": "stdout",
     "output_type": "stream",
     "text": [
      "Model: \"model\"\n",
      "__________________________________________________________________________________________________\n",
      "Layer (type)                    Output Shape         Param #     Connected to                     \n",
      "==================================================================================================\n",
      "input_1 (InputLayer)            [(None, None)]       0                                            \n",
      "__________________________________________________________________________________________________\n",
      "input_2 (InputLayer)            [(None, None)]       0                                            \n",
      "__________________________________________________________________________________________________\n",
      "embedding (Embedding)           (None, None, 200)    378800      input_1[0][0]                    \n",
      "__________________________________________________________________________________________________\n",
      "embedding_1 (Embedding)         (None, None, 200)    378800      input_2[0][0]                    \n",
      "__________________________________________________________________________________________________\n",
      "lstm (LSTM)                     [(None, 200), (None, 320800      embedding[0][0]                  \n",
      "__________________________________________________________________________________________________\n",
      "lstm_1 (LSTM)                   [(None, None, 200),  320800      embedding_1[0][0]                \n",
      "                                                                 lstm[0][1]                       \n",
      "                                                                 lstm[0][2]                       \n",
      "__________________________________________________________________________________________________\n",
      "dense (Dense)                   (None, None, 1894)   380694      lstm_1[0][0]                     \n",
      "==================================================================================================\n",
      "Total params: 1,779,894\n",
      "Trainable params: 1,779,894\n",
      "Non-trainable params: 0\n",
      "__________________________________________________________________________________________________\n"
     ]
    }
   ],
   "source": [
    "encoder_inputs = tf.keras.layers.Input(shape=( None , ))\n",
    "encoder_embedding = tf.keras.layers.Embedding( VOCAB_SIZE, 200 , mask_zero=True ) (encoder_inputs)\n",
    "encoder_outputs , state_h , state_c = tf.keras.layers.LSTM( 200 , return_state=True )( encoder_embedding )\n",
    "encoder_states = [ state_h , state_c ]\n",
    "\n",
    "decoder_inputs = tf.keras.layers.Input(shape=( None ,  ))\n",
    "decoder_embedding = tf.keras.layers.Embedding( VOCAB_SIZE, 200 , mask_zero=True) (decoder_inputs)\n",
    "decoder_lstm = tf.keras.layers.LSTM( 200 , return_state=True , return_sequences=True )\n",
    "decoder_outputs , _ , _ = decoder_lstm ( decoder_embedding , initial_state=encoder_states )\n",
    "decoder_dense = tf.keras.layers.Dense( VOCAB_SIZE , activation=tf.keras.activations.softmax ) \n",
    "output = decoder_dense ( decoder_outputs )\n",
    "\n",
    "model = tf.keras.models.Model([encoder_inputs, decoder_inputs], output )\n",
    "model.compile(optimizer=tf.keras.optimizers.Adam(), loss='categorical_crossentropy', metrics=['accuracy'])\n",
    "\n",
    "model.summary()"
   ]
  },
  {
   "cell_type": "markdown",
   "metadata": {},
   "source": [
    "### fit and save model"
   ]
  },
  {
   "cell_type": "code",
   "execution_count": 29,
   "metadata": {},
   "outputs": [
    {
     "name": "stdout",
     "output_type": "stream",
     "text": [
      "Train on 564 samples\n",
      "Epoch 1/150\n",
      "564/564 [==============================] - 13s 22ms/sample - loss: 1.4518 - accuracy: 0.1041\n",
      "Epoch 2/150\n",
      "564/564 [==============================] - 5s 9ms/sample - loss: 1.2890 - accuracy: 0.0711\n",
      "Epoch 3/150\n",
      "564/564 [==============================] - 5s 9ms/sample - loss: 1.1346 - accuracy: 0.0700\n",
      "Epoch 4/150\n",
      "564/564 [==============================] - 5s 9ms/sample - loss: 1.1067 - accuracy: 0.0859\n",
      "Epoch 5/150\n",
      "564/564 [==============================] - 5s 9ms/sample - loss: 1.0938 - accuracy: 0.1174\n",
      "Epoch 6/150\n",
      "564/564 [==============================] - 5s 9ms/sample - loss: 1.0827 - accuracy: 0.0988\n",
      "Epoch 7/150\n",
      "564/564 [==============================] - 5s 9ms/sample - loss: 1.0690 - accuracy: 0.1329\n",
      "Epoch 8/150\n",
      "564/564 [==============================] - 5s 9ms/sample - loss: 1.0515 - accuracy: 0.1428\n",
      "Epoch 9/150\n",
      "564/564 [==============================] - 5s 9ms/sample - loss: 1.0349 - accuracy: 0.1518\n",
      "Epoch 10/150\n",
      "564/564 [==============================] - 5s 10ms/sample - loss: 1.0201 - accuracy: 0.1536\n",
      "Epoch 11/150\n",
      "564/564 [==============================] - 5s 9ms/sample - loss: 1.0075 - accuracy: 0.1565\n",
      "Epoch 12/150\n",
      "564/564 [==============================] - 5s 9ms/sample - loss: 0.9949 - accuracy: 0.1631\n",
      "Epoch 13/150\n",
      "564/564 [==============================] - 5s 9ms/sample - loss: 0.9832 - accuracy: 0.1648\n",
      "Epoch 14/150\n",
      "564/564 [==============================] - 5s 9ms/sample - loss: 0.9722 - accuracy: 0.1763\n",
      "Epoch 15/150\n",
      "564/564 [==============================] - 5s 9ms/sample - loss: 0.9608 - accuracy: 0.1778\n",
      "Epoch 16/150\n",
      "564/564 [==============================] - 5s 9ms/sample - loss: 0.9508 - accuracy: 0.1848\n",
      "Epoch 17/150\n",
      "564/564 [==============================] - 5s 9ms/sample - loss: 0.9401 - accuracy: 0.1910\n",
      "Epoch 18/150\n",
      "564/564 [==============================] - 5s 9ms/sample - loss: 0.9302 - accuracy: 0.1931\n",
      "Epoch 19/150\n",
      "564/564 [==============================] - 5s 9ms/sample - loss: 0.9207 - accuracy: 0.2008\n",
      "Epoch 20/150\n",
      "564/564 [==============================] - 5s 9ms/sample - loss: 0.9112 - accuracy: 0.2042\n",
      "Epoch 21/150\n",
      "564/564 [==============================] - 5s 9ms/sample - loss: 0.9018 - accuracy: 0.2105\n",
      "Epoch 22/150\n",
      "564/564 [==============================] - 5s 9ms/sample - loss: 0.8920 - accuracy: 0.2193\n",
      "Epoch 23/150\n",
      "564/564 [==============================] - 5s 9ms/sample - loss: 0.8824 - accuracy: 0.2285\n",
      "Epoch 24/150\n",
      "564/564 [==============================] - 5s 9ms/sample - loss: 0.8729 - accuracy: 0.2377\n",
      "Epoch 25/150\n",
      "564/564 [==============================] - 5s 9ms/sample - loss: 0.8642 - accuracy: 0.2486\n",
      "Epoch 26/150\n",
      "564/564 [==============================] - 5s 9ms/sample - loss: 0.8543 - accuracy: 0.2511\n",
      "Epoch 27/150\n",
      "564/564 [==============================] - 5s 9ms/sample - loss: 0.8445 - accuracy: 0.2589\n",
      "Epoch 28/150\n",
      "564/564 [==============================] - 5s 10ms/sample - loss: 0.8352 - accuracy: 0.2650\n",
      "Epoch 29/150\n",
      "564/564 [==============================] - 5s 9ms/sample - loss: 0.8263 - accuracy: 0.2692\n",
      "Epoch 30/150\n",
      "564/564 [==============================] - 5s 10ms/sample - loss: 0.8173 - accuracy: 0.2730\n",
      "Epoch 31/150\n",
      "564/564 [==============================] - 5s 10ms/sample - loss: 0.8086 - accuracy: 0.2753\n",
      "Epoch 32/150\n",
      "564/564 [==============================] - 5s 10ms/sample - loss: 0.7993 - accuracy: 0.2776\n",
      "Epoch 33/150\n",
      "564/564 [==============================] - 6s 10ms/sample - loss: 0.7910 - accuracy: 0.2804\n",
      "Epoch 34/150\n",
      "564/564 [==============================] - 6s 10ms/sample - loss: 0.7824 - accuracy: 0.2841\n",
      "Epoch 35/150\n",
      "564/564 [==============================] - 5s 10ms/sample - loss: 0.7739 - accuracy: 0.2895\n",
      "Epoch 36/150\n",
      "564/564 [==============================] - 6s 10ms/sample - loss: 0.7657 - accuracy: 0.2953\n",
      "Epoch 37/150\n",
      "564/564 [==============================] - 5s 10ms/sample - loss: 0.7577 - accuracy: 0.3018\n",
      "Epoch 38/150\n",
      "564/564 [==============================] - 6s 10ms/sample - loss: 0.7487 - accuracy: 0.3050\n",
      "Epoch 39/150\n",
      "564/564 [==============================] - 5s 10ms/sample - loss: 0.7404 - accuracy: 0.3097\n",
      "Epoch 40/150\n",
      "564/564 [==============================] - 5s 10ms/sample - loss: 0.7316 - accuracy: 0.3145\n",
      "Epoch 41/150\n",
      "564/564 [==============================] - 5s 9ms/sample - loss: 0.7234 - accuracy: 0.3174\n",
      "Epoch 42/150\n",
      "564/564 [==============================] - 5s 9ms/sample - loss: 0.7148 - accuracy: 0.3244\n",
      "Epoch 43/150\n",
      "564/564 [==============================] - 5s 10ms/sample - loss: 0.7067 - accuracy: 0.3288\n",
      "Epoch 44/150\n",
      "564/564 [==============================] - 5s 10ms/sample - loss: 0.6990 - accuracy: 0.3322\n",
      "Epoch 45/150\n",
      "564/564 [==============================] - 5s 9ms/sample - loss: 0.6909 - accuracy: 0.3375\n",
      "Epoch 46/150\n",
      "564/564 [==============================] - 5s 10ms/sample - loss: 0.6826 - accuracy: 0.3419\n",
      "Epoch 47/150\n",
      "564/564 [==============================] - 5s 10ms/sample - loss: 0.6742 - accuracy: 0.3458\n",
      "Epoch 48/150\n",
      "564/564 [==============================] - 5s 9ms/sample - loss: 0.6661 - accuracy: 0.3462\n",
      "Epoch 49/150\n",
      "564/564 [==============================] - 5s 10ms/sample - loss: 0.6579 - accuracy: 0.3499\n",
      "Epoch 50/150\n",
      "564/564 [==============================] - 5s 10ms/sample - loss: 0.6500 - accuracy: 0.3520\n",
      "Epoch 51/150\n",
      "564/564 [==============================] - 5s 9ms/sample - loss: 0.6419 - accuracy: 0.3555\n",
      "Epoch 52/150\n",
      "564/564 [==============================] - 6s 10ms/sample - loss: 0.6341 - accuracy: 0.3620\n",
      "Epoch 53/150\n",
      "564/564 [==============================] - 5s 10ms/sample - loss: 0.6264 - accuracy: 0.3641\n",
      "Epoch 54/150\n",
      "564/564 [==============================] - 5s 10ms/sample - loss: 0.6183 - accuracy: 0.3692\n",
      "Epoch 55/150\n",
      "564/564 [==============================] - 5s 10ms/sample - loss: 0.6102 - accuracy: 0.3719\n",
      "Epoch 56/150\n",
      "564/564 [==============================] - 6s 10ms/sample - loss: 0.6024 - accuracy: 0.3800\n",
      "Epoch 57/150\n",
      "564/564 [==============================] - 5s 10ms/sample - loss: 0.5948 - accuracy: 0.3833\n",
      "Epoch 58/150\n",
      "564/564 [==============================] - 5s 10ms/sample - loss: 0.5866 - accuracy: 0.3874\n",
      "Epoch 59/150\n",
      "564/564 [==============================] - 5s 10ms/sample - loss: 0.5795 - accuracy: 0.3975\n",
      "Epoch 60/150\n",
      "564/564 [==============================] - 5s 10ms/sample - loss: 0.5725 - accuracy: 0.4012\n",
      "Epoch 61/150\n",
      "564/564 [==============================] - 5s 10ms/sample - loss: 0.5648 - accuracy: 0.4021\n",
      "Epoch 62/150\n",
      "564/564 [==============================] - 5s 10ms/sample - loss: 0.5567 - accuracy: 0.4109\n",
      "Epoch 63/150\n",
      "564/564 [==============================] - 5s 9ms/sample - loss: 0.5493 - accuracy: 0.4136\n",
      "Epoch 64/150\n",
      "564/564 [==============================] - 5s 10ms/sample - loss: 0.5417 - accuracy: 0.4211\n",
      "Epoch 65/150\n",
      "564/564 [==============================] - 5s 10ms/sample - loss: 0.5335 - accuracy: 0.4269\n",
      "Epoch 66/150\n",
      "564/564 [==============================] - 5s 10ms/sample - loss: 0.5260 - accuracy: 0.4332\n",
      "Epoch 67/150\n",
      "564/564 [==============================] - 5s 10ms/sample - loss: 0.5191 - accuracy: 0.4404\n",
      "Epoch 68/150\n",
      "564/564 [==============================] - 5s 10ms/sample - loss: 0.5113 - accuracy: 0.4472\n",
      "Epoch 69/150\n",
      "564/564 [==============================] - 5s 10ms/sample - loss: 0.5038 - accuracy: 0.4551\n",
      "Epoch 70/150\n",
      "564/564 [==============================] - 5s 10ms/sample - loss: 0.4961 - accuracy: 0.4619\n",
      "Epoch 71/150\n",
      "564/564 [==============================] - 5s 9ms/sample - loss: 0.4892 - accuracy: 0.4682\n",
      "Epoch 72/150\n",
      "564/564 [==============================] - 5s 9ms/sample - loss: 0.4820 - accuracy: 0.4760\n",
      "Epoch 73/150\n",
      "564/564 [==============================] - 5s 10ms/sample - loss: 0.4745 - accuracy: 0.4835\n",
      "Epoch 74/150\n",
      "564/564 [==============================] - 6s 10ms/sample - loss: 0.4669 - accuracy: 0.4862\n",
      "Epoch 75/150\n",
      "564/564 [==============================] - 6s 10ms/sample - loss: 0.4600 - accuracy: 0.4983\n",
      "Epoch 76/150\n",
      "564/564 [==============================] - 6s 10ms/sample - loss: 0.4532 - accuracy: 0.5014\n",
      "Epoch 77/150\n",
      "564/564 [==============================] - 6s 10ms/sample - loss: 0.4455 - accuracy: 0.5106\n",
      "Epoch 78/150\n",
      "564/564 [==============================] - 6s 10ms/sample - loss: 0.4386 - accuracy: 0.5194\n",
      "Epoch 79/150\n"
     ]
    },
    {
     "name": "stdout",
     "output_type": "stream",
     "text": [
      "564/564 [==============================] - 6s 10ms/sample - loss: 0.4315 - accuracy: 0.5257\n",
      "Epoch 80/150\n",
      "564/564 [==============================] - 6s 10ms/sample - loss: 0.4258 - accuracy: 0.5297\n",
      "Epoch 81/150\n",
      "564/564 [==============================] - 6s 10ms/sample - loss: 0.4188 - accuracy: 0.5393\n",
      "Epoch 82/150\n",
      "564/564 [==============================] - 6s 11ms/sample - loss: 0.4119 - accuracy: 0.5447\n",
      "Epoch 83/150\n",
      "564/564 [==============================] - 6s 10ms/sample - loss: 0.4052 - accuracy: 0.5519\n",
      "Epoch 84/150\n",
      "564/564 [==============================] - 6s 10ms/sample - loss: 0.3983 - accuracy: 0.5597\n",
      "Epoch 85/150\n",
      "564/564 [==============================] - 6s 10ms/sample - loss: 0.3918 - accuracy: 0.5680\n",
      "Epoch 86/150\n",
      "564/564 [==============================] - 5s 10ms/sample - loss: 0.3850 - accuracy: 0.5777\n",
      "Epoch 87/150\n",
      "564/564 [==============================] - 5s 10ms/sample - loss: 0.3785 - accuracy: 0.5845\n",
      "Epoch 88/150\n",
      "564/564 [==============================] - 6s 10ms/sample - loss: 0.3725 - accuracy: 0.5922\n",
      "Epoch 89/150\n",
      "564/564 [==============================] - 6s 10ms/sample - loss: 0.3662 - accuracy: 0.5991\n",
      "Epoch 90/150\n",
      "564/564 [==============================] - 6s 10ms/sample - loss: 0.3606 - accuracy: 0.6033\n",
      "Epoch 91/150\n",
      "564/564 [==============================] - 5s 10ms/sample - loss: 0.3555 - accuracy: 0.6095\n",
      "Epoch 92/150\n",
      "564/564 [==============================] - 6s 10ms/sample - loss: 0.3502 - accuracy: 0.6192\n",
      "Epoch 93/150\n",
      "564/564 [==============================] - 6s 10ms/sample - loss: 0.3445 - accuracy: 0.6210\n",
      "Epoch 94/150\n",
      "564/564 [==============================] - 6s 10ms/sample - loss: 0.3378 - accuracy: 0.6322\n",
      "Epoch 95/150\n",
      "564/564 [==============================] - 6s 10ms/sample - loss: 0.3309 - accuracy: 0.6419\n",
      "Epoch 96/150\n",
      "564/564 [==============================] - 6s 10ms/sample - loss: 0.3252 - accuracy: 0.6496\n",
      "Epoch 97/150\n",
      "564/564 [==============================] - 6s 11ms/sample - loss: 0.3195 - accuracy: 0.6559\n",
      "Epoch 98/150\n",
      "564/564 [==============================] - 6s 10ms/sample - loss: 0.3142 - accuracy: 0.6612\n",
      "Epoch 99/150\n",
      "564/564 [==============================] - 6s 11ms/sample - loss: 0.3083 - accuracy: 0.6706\n",
      "Epoch 100/150\n",
      "564/564 [==============================] - 6s 11ms/sample - loss: 0.3031 - accuracy: 0.6747\n",
      "Epoch 101/150\n",
      "564/564 [==============================] - 6s 11ms/sample - loss: 0.2982 - accuracy: 0.6796\n",
      "Epoch 102/150\n",
      "564/564 [==============================] - 6s 11ms/sample - loss: 0.2930 - accuracy: 0.6909\n",
      "Epoch 103/150\n",
      "564/564 [==============================] - 6s 11ms/sample - loss: 0.2879 - accuracy: 0.6958\n",
      "Epoch 104/150\n",
      "564/564 [==============================] - 6s 10ms/sample - loss: 0.2831 - accuracy: 0.7037\n",
      "Epoch 105/150\n",
      "564/564 [==============================] - 6s 11ms/sample - loss: 0.2784 - accuracy: 0.7073\n",
      "Epoch 106/150\n",
      "564/564 [==============================] - 6s 10ms/sample - loss: 0.2737 - accuracy: 0.7138\n",
      "Epoch 107/150\n",
      "564/564 [==============================] - 6s 10ms/sample - loss: 0.2687 - accuracy: 0.7171\n",
      "Epoch 108/150\n",
      "564/564 [==============================] - 6s 10ms/sample - loss: 0.2639 - accuracy: 0.7252\n",
      "Epoch 109/150\n",
      "564/564 [==============================] - 6s 10ms/sample - loss: 0.2596 - accuracy: 0.7252\n",
      "Epoch 110/150\n",
      "564/564 [==============================] - 6s 10ms/sample - loss: 0.2559 - accuracy: 0.7286\n",
      "Epoch 111/150\n",
      "564/564 [==============================] - 6s 10ms/sample - loss: 0.2512 - accuracy: 0.7385\n",
      "Epoch 112/150\n",
      "564/564 [==============================] - 6s 10ms/sample - loss: 0.2468 - accuracy: 0.7455\n",
      "Epoch 113/150\n",
      "564/564 [==============================] - 6s 10ms/sample - loss: 0.2427 - accuracy: 0.7473\n",
      "Epoch 114/150\n",
      "564/564 [==============================] - 6s 10ms/sample - loss: 0.2393 - accuracy: 0.7517\n",
      "Epoch 115/150\n",
      "564/564 [==============================] - 6s 10ms/sample - loss: 0.2355 - accuracy: 0.7568\n",
      "Epoch 116/150\n",
      "564/564 [==============================] - 6s 10ms/sample - loss: 0.2311 - accuracy: 0.7593\n",
      "Epoch 117/150\n",
      "564/564 [==============================] - 6s 10ms/sample - loss: 0.2272 - accuracy: 0.7678\n",
      "Epoch 118/150\n",
      "564/564 [==============================] - 6s 10ms/sample - loss: 0.2235 - accuracy: 0.7715\n",
      "Epoch 119/150\n",
      "564/564 [==============================] - 6s 10ms/sample - loss: 0.2197 - accuracy: 0.7727\n",
      "Epoch 120/150\n",
      "564/564 [==============================] - 6s 10ms/sample - loss: 0.2155 - accuracy: 0.7808\n",
      "Epoch 121/150\n",
      "564/564 [==============================] - 6s 10ms/sample - loss: 0.2122 - accuracy: 0.7838\n",
      "Epoch 122/150\n",
      "564/564 [==============================] - 6s 10ms/sample - loss: 0.2087 - accuracy: 0.7872\n",
      "Epoch 123/150\n",
      "564/564 [==============================] - 6s 10ms/sample - loss: 0.2051 - accuracy: 0.7939\n",
      "Epoch 124/150\n",
      "564/564 [==============================] - 6s 10ms/sample - loss: 0.2014 - accuracy: 0.7990\n",
      "Epoch 125/150\n",
      "564/564 [==============================] - 6s 10ms/sample - loss: 0.1984 - accuracy: 0.8019\n",
      "Epoch 126/150\n",
      "564/564 [==============================] - 6s 10ms/sample - loss: 0.1951 - accuracy: 0.8033\n",
      "Epoch 127/150\n",
      "564/564 [==============================] - 6s 10ms/sample - loss: 0.1917 - accuracy: 0.8080\n",
      "Epoch 128/150\n",
      "564/564 [==============================] - 6s 10ms/sample - loss: 0.1884 - accuracy: 0.8108\n",
      "Epoch 129/150\n",
      "564/564 [==============================] - 6s 10ms/sample - loss: 0.1852 - accuracy: 0.8149\n",
      "Epoch 130/150\n",
      "564/564 [==============================] - 6s 10ms/sample - loss: 0.1823 - accuracy: 0.8206\n",
      "Epoch 131/150\n",
      "564/564 [==============================] - 5s 10ms/sample - loss: 0.1793 - accuracy: 0.8240\n",
      "Epoch 132/150\n",
      "564/564 [==============================] - 5s 10ms/sample - loss: 0.1763 - accuracy: 0.8267\n",
      "Epoch 133/150\n",
      "564/564 [==============================] - 5s 10ms/sample - loss: 0.1735 - accuracy: 0.8298\n",
      "Epoch 134/150\n",
      "564/564 [==============================] - 5s 10ms/sample - loss: 0.1710 - accuracy: 0.8312\n",
      "Epoch 135/150\n",
      "564/564 [==============================] - 6s 10ms/sample - loss: 0.1689 - accuracy: 0.8340\n",
      "Epoch 136/150\n",
      "564/564 [==============================] - 5s 10ms/sample - loss: 0.1663 - accuracy: 0.8355\n",
      "Epoch 137/150\n",
      "564/564 [==============================] - 5s 10ms/sample - loss: 0.1637 - accuracy: 0.8415\n",
      "Epoch 138/150\n",
      "564/564 [==============================] - 5s 10ms/sample - loss: 0.1606 - accuracy: 0.8457\n",
      "Epoch 139/150\n",
      "564/564 [==============================] - 6s 10ms/sample - loss: 0.1575 - accuracy: 0.8496\n",
      "Epoch 140/150\n",
      "564/564 [==============================] - 6s 10ms/sample - loss: 0.1546 - accuracy: 0.8524\n",
      "Epoch 141/150\n",
      "564/564 [==============================] - 6s 10ms/sample - loss: 0.1522 - accuracy: 0.8549\n",
      "Epoch 142/150\n",
      "564/564 [==============================] - 6s 10ms/sample - loss: 0.1498 - accuracy: 0.8539\n",
      "Epoch 143/150\n",
      "564/564 [==============================] - 5s 9ms/sample - loss: 0.1477 - accuracy: 0.8584\n",
      "Epoch 144/150\n",
      "564/564 [==============================] - 5s 9ms/sample - loss: 0.1451 - accuracy: 0.8638\n",
      "Epoch 145/150\n",
      "564/564 [==============================] - 5s 10ms/sample - loss: 0.1429 - accuracy: 0.8661\n",
      "Epoch 146/150\n",
      "564/564 [==============================] - 5s 10ms/sample - loss: 0.1408 - accuracy: 0.8680\n",
      "Epoch 147/150\n",
      "564/564 [==============================] - 5s 10ms/sample - loss: 0.1387 - accuracy: 0.8694\n",
      "Epoch 148/150\n",
      "564/564 [==============================] - 5s 10ms/sample - loss: 0.1364 - accuracy: 0.8697\n",
      "Epoch 149/150\n",
      "564/564 [==============================] - 5s 10ms/sample - loss: 0.1341 - accuracy: 0.8744\n",
      "Epoch 150/150\n",
      "564/564 [==============================] - 5s 10ms/sample - loss: 0.1321 - accuracy: 0.8762\n",
      "Wall time: 13min 50s\n"
     ]
    }
   ],
   "source": [
    "%%time\n",
    "model.fit([encoder_input_data , decoder_input_data], decoder_output_data, batch_size=50, epochs=150 ) \n",
    "model.save( 'model.h5' )"
   ]
  },
  {
   "cell_type": "markdown",
   "metadata": {},
   "source": [
    "**Accuracy value started from 11% and eventually improved with epochs upto value of 87.9 %**"
   ]
  },
  {
   "cell_type": "markdown",
   "metadata": {},
   "source": [
    "### inference\n",
    "\n",
    "During the inference phase, a trained Seq2Seq model gets a source sentence. It uses this to obtain an encoder_state which is used to initialize the decoder. The conversational process starts as soon as the decoder receives a special symbol, <start>, denoting the start of the decoding process."
   ]
  },
  {
   "cell_type": "code",
   "execution_count": 30,
   "metadata": {},
   "outputs": [],
   "source": [
    "def make_inference_models():\n",
    "    \n",
    "    encoder_model = tf.keras.models.Model(encoder_inputs, encoder_states)\n",
    "    \n",
    "    decoder_state_input_h = tf.keras.layers.Input(shape=( 200 ,))\n",
    "    decoder_state_input_c = tf.keras.layers.Input(shape=( 200 ,))\n",
    "    \n",
    "    decoder_states_inputs = [decoder_state_input_h, decoder_state_input_c]\n",
    "    \n",
    "    decoder_outputs, state_h, state_c = decoder_lstm(\n",
    "        decoder_embedding , initial_state=decoder_states_inputs)\n",
    "    decoder_states = [state_h, state_c]\n",
    "    decoder_outputs = decoder_dense(decoder_outputs)\n",
    "    decoder_model = tf.keras.models.Model(\n",
    "        [decoder_inputs] + decoder_states_inputs,\n",
    "        [decoder_outputs] + decoder_states)\n",
    "    \n",
    "    return encoder_model , decoder_model"
   ]
  },
  {
   "cell_type": "code",
   "execution_count": 31,
   "metadata": {},
   "outputs": [],
   "source": [
    "def str_to_tokens( sentence : str ):\n",
    "    words = sentence.lower().split()\n",
    "    tokens_list = list()\n",
    "    for word in words:\n",
    "        tokens_list.append( tokenizer.word_index[ word ] ) \n",
    "    return preprocessing.sequence.pad_sequences( [tokens_list] , maxlen=maxlen_questions , padding='post')"
   ]
  },
  {
   "cell_type": "markdown",
   "metadata": {},
   "source": [
    "# 5)-Evaluation"
   ]
  },
  {
   "cell_type": "code",
   "execution_count": 33,
   "metadata": {
    "scrolled": true
   },
   "outputs": [
    {
     "name": "stdout",
     "output_type": "stream",
     "text": [
      "Enter question : hi\n",
      " hello end\n",
      "Enter question : exit\n"
     ]
    },
    {
     "ename": "KeyError",
     "evalue": "'exit'",
     "output_type": "error",
     "traceback": [
      "\u001b[1;31m---------------------------------------------------------------------------\u001b[0m",
      "\u001b[1;31mKeyError\u001b[0m                                  Traceback (most recent call last)",
      "\u001b[1;32m<ipython-input-33-1072052b9831>\u001b[0m in \u001b[0;36m<module>\u001b[1;34m\u001b[0m\n\u001b[0;32m      2\u001b[0m \u001b[1;33m\u001b[0m\u001b[0m\n\u001b[0;32m      3\u001b[0m \u001b[1;32mfor\u001b[0m \u001b[0m_\u001b[0m \u001b[1;32min\u001b[0m \u001b[0mrange\u001b[0m\u001b[1;33m(\u001b[0m\u001b[1;36m10\u001b[0m\u001b[1;33m)\u001b[0m\u001b[1;33m:\u001b[0m\u001b[1;33m\u001b[0m\u001b[1;33m\u001b[0m\u001b[0m\n\u001b[1;32m----> 4\u001b[1;33m     \u001b[0mstates_values\u001b[0m \u001b[1;33m=\u001b[0m \u001b[0menc_model\u001b[0m\u001b[1;33m.\u001b[0m\u001b[0mpredict\u001b[0m\u001b[1;33m(\u001b[0m \u001b[0mstr_to_tokens\u001b[0m\u001b[1;33m(\u001b[0m \u001b[0minput\u001b[0m\u001b[1;33m(\u001b[0m \u001b[1;34m'Enter question : '\u001b[0m \u001b[1;33m)\u001b[0m \u001b[1;33m)\u001b[0m \u001b[1;33m)\u001b[0m\u001b[1;33m\u001b[0m\u001b[1;33m\u001b[0m\u001b[0m\n\u001b[0m\u001b[0;32m      5\u001b[0m     \u001b[0mempty_target_seq\u001b[0m \u001b[1;33m=\u001b[0m \u001b[0mnp\u001b[0m\u001b[1;33m.\u001b[0m\u001b[0mzeros\u001b[0m\u001b[1;33m(\u001b[0m \u001b[1;33m(\u001b[0m \u001b[1;36m1\u001b[0m \u001b[1;33m,\u001b[0m \u001b[1;36m1\u001b[0m \u001b[1;33m)\u001b[0m \u001b[1;33m)\u001b[0m\u001b[1;33m\u001b[0m\u001b[1;33m\u001b[0m\u001b[0m\n\u001b[0;32m      6\u001b[0m     \u001b[0mempty_target_seq\u001b[0m\u001b[1;33m[\u001b[0m\u001b[1;36m0\u001b[0m\u001b[1;33m,\u001b[0m \u001b[1;36m0\u001b[0m\u001b[1;33m]\u001b[0m \u001b[1;33m=\u001b[0m \u001b[0mtokenizer\u001b[0m\u001b[1;33m.\u001b[0m\u001b[0mword_index\u001b[0m\u001b[1;33m[\u001b[0m\u001b[1;34m'start'\u001b[0m\u001b[1;33m]\u001b[0m\u001b[1;33m\u001b[0m\u001b[1;33m\u001b[0m\u001b[0m\n",
      "\u001b[1;32m<ipython-input-31-1825298c5d8b>\u001b[0m in \u001b[0;36mstr_to_tokens\u001b[1;34m(sentence)\u001b[0m\n\u001b[0;32m      3\u001b[0m     \u001b[0mtokens_list\u001b[0m \u001b[1;33m=\u001b[0m \u001b[0mlist\u001b[0m\u001b[1;33m(\u001b[0m\u001b[1;33m)\u001b[0m\u001b[1;33m\u001b[0m\u001b[1;33m\u001b[0m\u001b[0m\n\u001b[0;32m      4\u001b[0m     \u001b[1;32mfor\u001b[0m \u001b[0mword\u001b[0m \u001b[1;32min\u001b[0m \u001b[0mwords\u001b[0m\u001b[1;33m:\u001b[0m\u001b[1;33m\u001b[0m\u001b[1;33m\u001b[0m\u001b[0m\n\u001b[1;32m----> 5\u001b[1;33m         \u001b[0mtokens_list\u001b[0m\u001b[1;33m.\u001b[0m\u001b[0mappend\u001b[0m\u001b[1;33m(\u001b[0m \u001b[0mtokenizer\u001b[0m\u001b[1;33m.\u001b[0m\u001b[0mword_index\u001b[0m\u001b[1;33m[\u001b[0m \u001b[0mword\u001b[0m \u001b[1;33m]\u001b[0m \u001b[1;33m)\u001b[0m\u001b[1;33m\u001b[0m\u001b[1;33m\u001b[0m\u001b[0m\n\u001b[0m\u001b[0;32m      6\u001b[0m     \u001b[1;32mreturn\u001b[0m \u001b[0mpreprocessing\u001b[0m\u001b[1;33m.\u001b[0m\u001b[0msequence\u001b[0m\u001b[1;33m.\u001b[0m\u001b[0mpad_sequences\u001b[0m\u001b[1;33m(\u001b[0m \u001b[1;33m[\u001b[0m\u001b[0mtokens_list\u001b[0m\u001b[1;33m]\u001b[0m \u001b[1;33m,\u001b[0m \u001b[0mmaxlen\u001b[0m\u001b[1;33m=\u001b[0m\u001b[0mmaxlen_questions\u001b[0m \u001b[1;33m,\u001b[0m \u001b[0mpadding\u001b[0m\u001b[1;33m=\u001b[0m\u001b[1;34m'post'\u001b[0m\u001b[1;33m)\u001b[0m\u001b[1;33m\u001b[0m\u001b[1;33m\u001b[0m\u001b[0m\n",
      "\u001b[1;31mKeyError\u001b[0m: 'exit'"
     ]
    }
   ],
   "source": [
    "enc_model , dec_model = make_inference_models()\n",
    "\n",
    "for _ in range(10):\n",
    "    states_values = enc_model.predict( str_to_tokens( input( 'Enter question : ' ) ) )\n",
    "    empty_target_seq = np.zeros( ( 1 , 1 ) )\n",
    "    empty_target_seq[0, 0] = tokenizer.word_index['start']\n",
    "    stop_condition = False\n",
    "    decoded_response = ''\n",
    "    while not stop_condition :\n",
    "        dec_outputs , h , c = dec_model.predict([ empty_target_seq ] + states_values )\n",
    "        sampled_word_index = np.argmax( dec_outputs[0, -1, :] )\n",
    "        sampled_word = None\n",
    "        for word , index in tokenizer.word_index.items() :\n",
    "            if sampled_word_index == index :\n",
    "                decoded_response += ' {}'.format( word )\n",
    "                sampled_word = word\n",
    "        \n",
    "        if sampled_word == 'end' or len(decoded_response.split()) > maxlen_answers:\n",
    "            stop_condition = True\n",
    "            \n",
    "        empty_target_seq = np.zeros( ( 1 , 1 ) )  \n",
    "        empty_target_seq[ 0 , 0 ] = sampled_word_index\n",
    "        states_values = [ h , c ] \n",
    "\n",
    "    print( decoded_response )"
   ]
  },
  {
   "cell_type": "markdown",
   "metadata": {},
   "source": [
    "any context that is not trained,  will not be entertained."
   ]
  },
  {
   "cell_type": "markdown",
   "metadata": {},
   "source": [
    "# END of NOTEBOOK"
   ]
  }
 ],
 "metadata": {
  "kernelspec": {
   "display_name": "Python 3.7 (tensorflow)",
   "language": "python",
   "name": "tensorflow"
  },
  "language_info": {
   "codemirror_mode": {
    "name": "ipython",
    "version": 3
   },
   "file_extension": ".py",
   "mimetype": "text/x-python",
   "name": "python",
   "nbconvert_exporter": "python",
   "pygments_lexer": "ipython3",
   "version": "3.7.7"
  }
 },
 "nbformat": 4,
 "nbformat_minor": 4
}
