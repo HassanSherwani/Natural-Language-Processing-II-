{
 "cells": [
  {
   "cell_type": "markdown",
   "metadata": {},
   "source": [
    "# Creating a conversation AI chatbot\n",
    "\n",
    "- using encoder-decoder framework\n",
    "- This bot answers question related to politics"
   ]
  },
  {
   "cell_type": "markdown",
   "metadata": {},
   "source": [
    "# 1)- Importing key modules"
   ]
  },
  {
   "cell_type": "code",
   "execution_count": 1,
   "metadata": {},
   "outputs": [],
   "source": [
    "# support both Python 2 and Python 3 with minimal overhead.\n",
    "from __future__ import absolute_import, division, print_function\n",
    "\n",
    "# I am an engineer. I care only about error not warning. So, let's be maverick and ignore warnings.\n",
    "import warnings\n",
    "warnings.filterwarnings('ignore')"
   ]
  },
  {
   "cell_type": "code",
   "execution_count": 2,
   "metadata": {},
   "outputs": [],
   "source": [
    "from mpl_toolkits.mplot3d import Axes3D\n",
    "from sklearn.preprocessing import StandardScaler\n",
    "import matplotlib.pyplot as plt # plotting\n",
    "import numpy as np # linear algebra\n",
    "import os # accessing directory structure\n",
    "import pandas as pd # data processing, CSV file I/O (e.g. pd.read_csv)"
   ]
  },
  {
   "cell_type": "markdown",
   "metadata": {},
   "source": [
    "# 2)-Loading Dataset"
   ]
  },
  {
   "cell_type": "code",
   "execution_count": 3,
   "metadata": {},
   "outputs": [
    {
     "name": "stdout",
     "output_type": "stream",
     "text": [
      "['bot.ipynb', 'botprofile.yml', 'politics.yml']\n"
     ]
    }
   ],
   "source": [
    "print(os.listdir('raw_data'))"
   ]
  },
  {
   "cell_type": "code",
   "execution_count": 4,
   "metadata": {},
   "outputs": [],
   "source": [
    "import os\n",
    "import yaml\n",
    "\n",
    "dir_path = 'raw_data'\n",
    "files_list = os.listdir(dir_path + os.sep)"
   ]
  },
  {
   "cell_type": "code",
   "execution_count": 5,
   "metadata": {},
   "outputs": [
    {
     "data": {
      "text/plain": [
       "['bot.ipynb', 'botprofile.yml', 'politics.yml']"
      ]
     },
     "execution_count": 5,
     "metadata": {},
     "output_type": "execute_result"
    }
   ],
   "source": [
    "files_list"
   ]
  },
  {
   "cell_type": "markdown",
   "metadata": {},
   "source": [
    "### reading tags in data"
   ]
  },
  {
   "cell_type": "code",
   "execution_count": 6,
   "metadata": {},
   "outputs": [
    {
     "name": "stdout",
     "output_type": "stream",
     "text": [
      "{'categories': ['politics'], 'conversations': [['have you read the communist', 'yes, marx had made some interesting observations.'], ['what is a government', 'ideally it is a representative of the people.'], ['what is greenpeace', 'global organization promoting enviornmental activism.'], ['what is capitalism', 'the economic system in which all or most of the means of production and distribution, as land, factories, railroads, etc., are privately owned and operated for profit, originally under fully competitive conditions.'], ['what is socialism', 'communism from people who want to keep their volvos. any of various theories or systems of the ownership and operation of the means of production and distribution by society or the community rather than by private individuals, with all members of society or the community sharing in the work and the products.'], ['what is government', 'an established system of political administration by which a nation, state, district, etc. is governed.'], ['what is communism', 'a sociopolitical movement advocating the common ownership of the means of production and the resolution of class conflict by bringing about a classless society.'], ['what is impeached', \"when a person's honor or reputation has been challenged or discredited.\"], ['i do not like guns', 'that is perfectly understandable.'], ['i do not like guns', 'what about the second amendemnt?'], ['do you like guns', 'not especially. i am not into violence.'], ['why guns', 'i support the 2nd amendment.'], ['who was the first impeached president', 'andrew jackson.'], ['who is the governor', 'it changes every few years.'], ['who is the governor', 'that changes every few years.'], ['guns', 'some people like guns.']]}\n"
     ]
    }
   ],
   "source": [
    "for filepath in files_list:\n",
    "    stream = open(os.path.join(dir_path, filepath), 'rb')\n",
    "    docs = yaml.safe_load(stream)\n",
    "print(docs)"
   ]
  },
  {
   "cell_type": "code",
   "execution_count": 7,
   "metadata": {},
   "outputs": [
    {
     "data": {
      "text/plain": [
       "['politics']"
      ]
     },
     "execution_count": 7,
     "metadata": {},
     "output_type": "execute_result"
    }
   ],
   "source": [
    "docs[\"categories\"]"
   ]
  },
  {
   "cell_type": "code",
   "execution_count": 8,
   "metadata": {},
   "outputs": [
    {
     "data": {
      "text/plain": [
       "[['have you read the communist',\n",
       "  'yes, marx had made some interesting observations.'],\n",
       " ['what is a government', 'ideally it is a representative of the people.'],\n",
       " ['what is greenpeace',\n",
       "  'global organization promoting enviornmental activism.'],\n",
       " ['what is capitalism',\n",
       "  'the economic system in which all or most of the means of production and distribution, as land, factories, railroads, etc., are privately owned and operated for profit, originally under fully competitive conditions.'],\n",
       " ['what is socialism',\n",
       "  'communism from people who want to keep their volvos. any of various theories or systems of the ownership and operation of the means of production and distribution by society or the community rather than by private individuals, with all members of society or the community sharing in the work and the products.'],\n",
       " ['what is government',\n",
       "  'an established system of political administration by which a nation, state, district, etc. is governed.'],\n",
       " ['what is communism',\n",
       "  'a sociopolitical movement advocating the common ownership of the means of production and the resolution of class conflict by bringing about a classless society.'],\n",
       " ['what is impeached',\n",
       "  \"when a person's honor or reputation has been challenged or discredited.\"],\n",
       " ['i do not like guns', 'that is perfectly understandable.'],\n",
       " ['i do not like guns', 'what about the second amendemnt?'],\n",
       " ['do you like guns', 'not especially. i am not into violence.'],\n",
       " ['why guns', 'i support the 2nd amendment.'],\n",
       " ['who was the first impeached president', 'andrew jackson.'],\n",
       " ['who is the governor', 'it changes every few years.'],\n",
       " ['who is the governor', 'that changes every few years.'],\n",
       " ['guns', 'some people like guns.']]"
      ]
     },
     "execution_count": 8,
     "metadata": {},
     "output_type": "execute_result"
    }
   ],
   "source": [
    "docs[\"conversations\"]"
   ]
  },
  {
   "cell_type": "code",
   "execution_count": 9,
   "metadata": {},
   "outputs": [
    {
     "data": {
      "text/plain": [
       "list"
      ]
     },
     "execution_count": 9,
     "metadata": {},
     "output_type": "execute_result"
    }
   ],
   "source": [
    "con_access=docs[\"conversations\"]\n",
    "type(con_access)"
   ]
  },
  {
   "cell_type": "code",
   "execution_count": 10,
   "metadata": {},
   "outputs": [
    {
     "data": {
      "text/plain": [
       "[['have you read the communist',\n",
       "  'yes, marx had made some interesting observations.'],\n",
       " ['what is a government', 'ideally it is a representative of the people.'],\n",
       " ['what is greenpeace',\n",
       "  'global organization promoting enviornmental activism.'],\n",
       " ['what is capitalism',\n",
       "  'the economic system in which all or most of the means of production and distribution, as land, factories, railroads, etc., are privately owned and operated for profit, originally under fully competitive conditions.'],\n",
       " ['what is socialism',\n",
       "  'communism from people who want to keep their volvos. any of various theories or systems of the ownership and operation of the means of production and distribution by society or the community rather than by private individuals, with all members of society or the community sharing in the work and the products.'],\n",
       " ['what is government',\n",
       "  'an established system of political administration by which a nation, state, district, etc. is governed.'],\n",
       " ['what is communism',\n",
       "  'a sociopolitical movement advocating the common ownership of the means of production and the resolution of class conflict by bringing about a classless society.'],\n",
       " ['what is impeached',\n",
       "  \"when a person's honor or reputation has been challenged or discredited.\"],\n",
       " ['i do not like guns', 'that is perfectly understandable.'],\n",
       " ['i do not like guns', 'what about the second amendemnt?'],\n",
       " ['do you like guns', 'not especially. i am not into violence.'],\n",
       " ['why guns', 'i support the 2nd amendment.'],\n",
       " ['who was the first impeached president', 'andrew jackson.'],\n",
       " ['who is the governor', 'it changes every few years.'],\n",
       " ['who is the governor', 'that changes every few years.'],\n",
       " ['guns', 'some people like guns.']]"
      ]
     },
     "execution_count": 10,
     "metadata": {},
     "output_type": "execute_result"
    }
   ],
   "source": [
    "con_access"
   ]
  },
  {
   "cell_type": "markdown",
   "metadata": {},
   "source": [
    "### Separating Questions and answers"
   ]
  },
  {
   "cell_type": "code",
   "execution_count": 11,
   "metadata": {},
   "outputs": [],
   "source": [
    "questions = list()\n",
    "answers = list()\n",
    "for con in con_access:\n",
    "    if len(con)>2:\n",
    "        questions.append(con[0])\n",
    "        replies=con[1:]\n",
    "        ans=\"\"\n",
    "        for rep in replies:\n",
    "            ans+=' '+rep\n",
    "            answers.append(ans)\n",
    "    elif len(con)>1:\n",
    "        questions.append(con[0])\n",
    "        answers.append(con[1])"
   ]
  },
  {
   "cell_type": "code",
   "execution_count": 12,
   "metadata": {},
   "outputs": [
    {
     "data": {
      "text/plain": [
       "['have you read the communist',\n",
       " 'what is a government',\n",
       " 'what is greenpeace',\n",
       " 'what is capitalism',\n",
       " 'what is socialism',\n",
       " 'what is government',\n",
       " 'what is communism',\n",
       " 'what is impeached',\n",
       " 'i do not like guns',\n",
       " 'i do not like guns',\n",
       " 'do you like guns',\n",
       " 'why guns',\n",
       " 'who was the first impeached president',\n",
       " 'who is the governor',\n",
       " 'who is the governor',\n",
       " 'guns']"
      ]
     },
     "execution_count": 12,
     "metadata": {},
     "output_type": "execute_result"
    }
   ],
   "source": [
    "questions"
   ]
  },
  {
   "cell_type": "code",
   "execution_count": 13,
   "metadata": {},
   "outputs": [
    {
     "data": {
      "text/plain": [
       "['yes, marx had made some interesting observations.',\n",
       " 'ideally it is a representative of the people.',\n",
       " 'global organization promoting enviornmental activism.',\n",
       " 'the economic system in which all or most of the means of production and distribution, as land, factories, railroads, etc., are privately owned and operated for profit, originally under fully competitive conditions.',\n",
       " 'communism from people who want to keep their volvos. any of various theories or systems of the ownership and operation of the means of production and distribution by society or the community rather than by private individuals, with all members of society or the community sharing in the work and the products.',\n",
       " 'an established system of political administration by which a nation, state, district, etc. is governed.',\n",
       " 'a sociopolitical movement advocating the common ownership of the means of production and the resolution of class conflict by bringing about a classless society.',\n",
       " \"when a person's honor or reputation has been challenged or discredited.\",\n",
       " 'that is perfectly understandable.',\n",
       " 'what about the second amendemnt?',\n",
       " 'not especially. i am not into violence.',\n",
       " 'i support the 2nd amendment.',\n",
       " 'andrew jackson.',\n",
       " 'it changes every few years.',\n",
       " 'that changes every few years.',\n",
       " 'some people like guns.']"
      ]
     },
     "execution_count": 13,
     "metadata": {},
     "output_type": "execute_result"
    }
   ],
   "source": [
    "answers"
   ]
  },
  {
   "cell_type": "markdown",
   "metadata": {},
   "source": [
    "### Add start and end tag with answers"
   ]
  },
  {
   "cell_type": "code",
   "execution_count": 14,
   "metadata": {},
   "outputs": [],
   "source": [
    "answers_with_tags=list()\n",
    "for i in range( len(answers)):\n",
    "    if type(answers[i])==str:\n",
    "        answers_with_tags.append(answers[i])\n",
    "    else:\n",
    "        questions.pop(i)\n",
    "\n",
    "answers=list()\n",
    "for ans in answers_with_tags:\n",
    "    answers.append('<START> '+ans+' <END>')"
   ]
  },
  {
   "cell_type": "code",
   "execution_count": 15,
   "metadata": {},
   "outputs": [
    {
     "data": {
      "text/plain": [
       "['have you read the communist',\n",
       " 'what is a government',\n",
       " 'what is greenpeace',\n",
       " 'what is capitalism',\n",
       " 'what is socialism',\n",
       " 'what is government',\n",
       " 'what is communism',\n",
       " 'what is impeached',\n",
       " 'i do not like guns',\n",
       " 'i do not like guns',\n",
       " 'do you like guns',\n",
       " 'why guns',\n",
       " 'who was the first impeached president',\n",
       " 'who is the governor',\n",
       " 'who is the governor',\n",
       " 'guns']"
      ]
     },
     "execution_count": 15,
     "metadata": {},
     "output_type": "execute_result"
    }
   ],
   "source": [
    "questions"
   ]
  },
  {
   "cell_type": "code",
   "execution_count": 16,
   "metadata": {},
   "outputs": [
    {
     "data": {
      "text/plain": [
       "['<START> yes, marx had made some interesting observations. <END>',\n",
       " '<START> ideally it is a representative of the people. <END>',\n",
       " '<START> global organization promoting enviornmental activism. <END>',\n",
       " '<START> the economic system in which all or most of the means of production and distribution, as land, factories, railroads, etc., are privately owned and operated for profit, originally under fully competitive conditions. <END>',\n",
       " '<START> communism from people who want to keep their volvos. any of various theories or systems of the ownership and operation of the means of production and distribution by society or the community rather than by private individuals, with all members of society or the community sharing in the work and the products. <END>',\n",
       " '<START> an established system of political administration by which a nation, state, district, etc. is governed. <END>',\n",
       " '<START> a sociopolitical movement advocating the common ownership of the means of production and the resolution of class conflict by bringing about a classless society. <END>',\n",
       " \"<START> when a person's honor or reputation has been challenged or discredited. <END>\",\n",
       " '<START> that is perfectly understandable. <END>',\n",
       " '<START> what about the second amendemnt? <END>',\n",
       " '<START> not especially. i am not into violence. <END>',\n",
       " '<START> i support the 2nd amendment. <END>',\n",
       " '<START> andrew jackson. <END>',\n",
       " '<START> it changes every few years. <END>',\n",
       " '<START> that changes every few years. <END>',\n",
       " '<START> some people like guns. <END>']"
      ]
     },
     "execution_count": 16,
     "metadata": {},
     "output_type": "execute_result"
    }
   ],
   "source": [
    "answers"
   ]
  },
  {
   "cell_type": "markdown",
   "metadata": {},
   "source": [
    "# 3)- Preprocessing Data"
   ]
  },
  {
   "cell_type": "code",
   "execution_count": 17,
   "metadata": {},
   "outputs": [
    {
     "name": "stdout",
     "output_type": "stream",
     "text": [
      "<module 'tensorflow_core._api.v2.version' from 'C:\\\\Users\\\\hassan.sherwani\\\\Miniconda3\\\\envs\\\\tensorflow\\\\lib\\\\site-packages\\\\tensorflow_core\\\\_api\\\\v2\\\\version\\\\__init__.py'>\n"
     ]
    }
   ],
   "source": [
    "import tensorflow as tf\n",
    "from tensorflow.keras import layers, preprocessing, utils\n",
    "import yaml\n",
    "\n",
    "print( tf.version)"
   ]
  },
  {
   "cell_type": "code",
   "execution_count": 18,
   "metadata": {},
   "outputs": [
    {
     "name": "stdout",
     "output_type": "stream",
     "text": [
      "VOCAB SIZE : 140\n"
     ]
    }
   ],
   "source": [
    "tokenizer=preprocessing.text.Tokenizer()\n",
    "tokenizer.fit_on_texts(questions+answers)\n",
    "VOCAB_SIZE= len(tokenizer.word_index)+1\n",
    "print('VOCAB SIZE : {}'.format(VOCAB_SIZE))"
   ]
  },
  {
   "cell_type": "markdown",
   "metadata": {},
   "source": [
    "### 3.1.tokenizer"
   ]
  },
  {
   "cell_type": "code",
   "execution_count": 19,
   "metadata": {},
   "outputs": [],
   "source": [
    "from gensim.models import Word2Vec\n",
    "import re\n",
    "\n",
    "vocab=[]\n",
    "for word in tokenizer.word_index:\n",
    "    vocab.append(word)\n",
    "    \n",
    "def tokenize(sentences):\n",
    "    tokens_list=[]\n",
    "    vocabulary=[]\n",
    "    for sentence in sentences:\n",
    "        sentence = sentence.lower()\n",
    "        sentence = re.sub( '^a-zA-Z',' ',sentence)\n",
    "        tokens = sentence.split()\n",
    "        vocabulary+=tokens\n",
    "        tokens_list.append(tokens)\n",
    "    return tokens_list,vocabulary\n",
    "\n",
    "p=tokenize(questions+answers)\n",
    "model = Word2Vec(p[0])"
   ]
  },
  {
   "cell_type": "markdown",
   "metadata": {},
   "source": [
    "#### 3.2.a.tokenized_questions"
   ]
  },
  {
   "cell_type": "code",
   "execution_count": 20,
   "metadata": {},
   "outputs": [
    {
     "name": "stdout",
     "output_type": "stream",
     "text": [
      "(16, 6) 6\n"
     ]
    }
   ],
   "source": [
    "tokenized_questions = tokenizer.texts_to_sequences(questions)\n",
    "maxlen_questions = max([len(x) for x in tokenized_questions])\n",
    "padded_questions = preprocessing.sequence.pad_sequences(tokenized_questions, maxlen=maxlen_questions, padding='post')\n",
    "encoder_input_data = np.array( padded_questions )\n",
    "print(encoder_input_data.shape, maxlen_questions)"
   ]
  },
  {
   "cell_type": "markdown",
   "metadata": {},
   "source": [
    "#### 3.2.b.tokenized_answers"
   ]
  },
  {
   "cell_type": "code",
   "execution_count": 21,
   "metadata": {},
   "outputs": [
    {
     "name": "stdout",
     "output_type": "stream",
     "text": [
      "(16, 54) 54\n"
     ]
    }
   ],
   "source": [
    "tokenized_answers = tokenizer.texts_to_sequences(answers)\n",
    "maxlen_answers = max([len(x) for x in tokenized_answers])\n",
    "padded_answers = preprocessing.sequence.pad_sequences(tokenized_answers, maxlen=maxlen_answers, padding='post')\n",
    "decoder_input_data = np.array(padded_answers)\n",
    "print(decoder_input_data.shape, maxlen_answers)"
   ]
  },
  {
   "cell_type": "code",
   "execution_count": 22,
   "metadata": {},
   "outputs": [
    {
     "name": "stdout",
     "output_type": "stream",
     "text": [
      "(16, 54, 140)\n"
     ]
    }
   ],
   "source": [
    "tokenized_answers = tokenizer.texts_to_sequences(answers)\n",
    "for i in range(len(tokenized_answers)):\n",
    "    tokenized_answers[i]=tokenized_answers[i][1:]\n",
    "padded_answers = preprocessing.sequence.pad_sequences(tokenized_answers, maxlen=maxlen_answers, padding='post')\n",
    "one_hot_answers = utils.to_categorical(padded_answers, VOCAB_SIZE)\n",
    "decoder_output_data = np.array(one_hot_answers)\n",
    "print(decoder_output_data.shape)"
   ]
  },
  {
   "cell_type": "markdown",
   "metadata": {},
   "source": [
    "# 4)- Model Building"
   ]
  },
  {
   "cell_type": "code",
   "execution_count": 23,
   "metadata": {},
   "outputs": [
    {
     "name": "stdout",
     "output_type": "stream",
     "text": [
      "Model: \"model\"\n",
      "__________________________________________________________________________________________________\n",
      "Layer (type)                    Output Shape         Param #     Connected to                     \n",
      "==================================================================================================\n",
      "input_1 (InputLayer)            [(None, None)]       0                                            \n",
      "__________________________________________________________________________________________________\n",
      "input_2 (InputLayer)            [(None, None)]       0                                            \n",
      "__________________________________________________________________________________________________\n",
      "embedding (Embedding)           (None, None, 200)    28000       input_1[0][0]                    \n",
      "__________________________________________________________________________________________________\n",
      "embedding_1 (Embedding)         (None, None, 200)    28000       input_2[0][0]                    \n",
      "__________________________________________________________________________________________________\n",
      "lstm (LSTM)                     [(None, 200), (None, 320800      embedding[0][0]                  \n",
      "__________________________________________________________________________________________________\n",
      "lstm_1 (LSTM)                   [(None, None, 200),  320800      embedding_1[0][0]                \n",
      "                                                                 lstm[0][1]                       \n",
      "                                                                 lstm[0][2]                       \n",
      "__________________________________________________________________________________________________\n",
      "dense (Dense)                   (None, None, 140)    28140       lstm_1[0][0]                     \n",
      "==================================================================================================\n",
      "Total params: 725,740\n",
      "Trainable params: 725,740\n",
      "Non-trainable params: 0\n",
      "__________________________________________________________________________________________________\n"
     ]
    }
   ],
   "source": [
    "encoder_inputs = tf.keras.layers.Input(shape=( None , ))\n",
    "encoder_embedding = tf.keras.layers.Embedding( VOCAB_SIZE, 200 , mask_zero=True ) (encoder_inputs)\n",
    "encoder_outputs , state_h , state_c = tf.keras.layers.LSTM( 200 , return_state=True )( encoder_embedding )\n",
    "encoder_states = [ state_h , state_c ]\n",
    "\n",
    "decoder_inputs = tf.keras.layers.Input(shape=( None ,  ))\n",
    "decoder_embedding = tf.keras.layers.Embedding( VOCAB_SIZE, 200 , mask_zero=True) (decoder_inputs)\n",
    "decoder_lstm = tf.keras.layers.LSTM( 200 , return_state=True , return_sequences=True )\n",
    "decoder_outputs , _ , _ = decoder_lstm ( decoder_embedding , initial_state=encoder_states )\n",
    "decoder_dense = tf.keras.layers.Dense( VOCAB_SIZE , activation=tf.keras.activations.softmax ) \n",
    "output = decoder_dense ( decoder_outputs )\n",
    "\n",
    "model = tf.keras.models.Model([encoder_inputs, decoder_inputs], output )\n",
    "model.compile(optimizer=tf.keras.optimizers.Adam(), loss='categorical_crossentropy', metrics=['accuracy'])\n",
    "\n",
    "model.summary()"
   ]
  },
  {
   "cell_type": "markdown",
   "metadata": {},
   "source": [
    "### fit and save model"
   ]
  },
  {
   "cell_type": "code",
   "execution_count": 24,
   "metadata": {},
   "outputs": [
    {
     "name": "stdout",
     "output_type": "stream",
     "text": [
      "Train on 16 samples\n",
      "Epoch 1/100\n",
      "16/16 [==============================] - 8s 517ms/sample - loss: 1.2757 - accuracy: 0.0045\n",
      "Epoch 2/100\n",
      "16/16 [==============================] - 0s 4ms/sample - loss: 1.2735 - accuracy: 0.1031\n",
      "Epoch 3/100\n",
      "16/16 [==============================] - 0s 4ms/sample - loss: 1.2712 - accuracy: 0.1704\n",
      "Epoch 4/100\n",
      "16/16 [==============================] - 0s 3ms/sample - loss: 1.2687 - accuracy: 0.1794\n",
      "Epoch 5/100\n",
      "16/16 [==============================] - 0s 3ms/sample - loss: 1.2658 - accuracy: 0.1659\n",
      "Epoch 6/100\n",
      "16/16 [==============================] - 0s 3ms/sample - loss: 1.2623 - accuracy: 0.1435\n",
      "Epoch 7/100\n",
      "16/16 [==============================] - 0s 3ms/sample - loss: 1.2577 - accuracy: 0.1435\n",
      "Epoch 8/100\n",
      "16/16 [==============================] - 0s 3ms/sample - loss: 1.2512 - accuracy: 0.1256\n",
      "Epoch 9/100\n",
      "16/16 [==============================] - 0s 3ms/sample - loss: 1.2408 - accuracy: 0.1166\n",
      "Epoch 10/100\n",
      "16/16 [==============================] - 0s 3ms/sample - loss: 1.2233 - accuracy: 0.0987\n",
      "Epoch 11/100\n",
      "16/16 [==============================] - 0s 3ms/sample - loss: 1.2006 - accuracy: 0.0852\n",
      "Epoch 12/100\n",
      "16/16 [==============================] - 0s 3ms/sample - loss: 1.1808 - accuracy: 0.0762\n",
      "Epoch 13/100\n",
      "16/16 [==============================] - 0s 3ms/sample - loss: 1.1647 - accuracy: 0.0987\n",
      "Epoch 14/100\n",
      "16/16 [==============================] - 0s 3ms/sample - loss: 1.1495 - accuracy: 0.0987\n",
      "Epoch 15/100\n",
      "16/16 [==============================] - 0s 3ms/sample - loss: 1.1348 - accuracy: 0.0942\n",
      "Epoch 16/100\n",
      "16/16 [==============================] - 0s 3ms/sample - loss: 1.1219 - accuracy: 0.0942\n",
      "Epoch 17/100\n",
      "16/16 [==============================] - 0s 3ms/sample - loss: 1.1123 - accuracy: 0.1076\n",
      "Epoch 18/100\n",
      "16/16 [==============================] - 0s 3ms/sample - loss: 1.1059 - accuracy: 0.0942\n",
      "Epoch 19/100\n",
      "16/16 [==============================] - 0s 3ms/sample - loss: 1.1016 - accuracy: 0.0897\n",
      "Epoch 20/100\n",
      "16/16 [==============================] - 0s 3ms/sample - loss: 1.0978 - accuracy: 0.0897\n",
      "Epoch 21/100\n",
      "16/16 [==============================] - 0s 3ms/sample - loss: 1.0934 - accuracy: 0.0717\n",
      "Epoch 22/100\n",
      "16/16 [==============================] - 0s 3ms/sample - loss: 1.0877 - accuracy: 0.0717\n",
      "Epoch 23/100\n",
      "16/16 [==============================] - 0s 3ms/sample - loss: 1.0804 - accuracy: 0.0717\n",
      "Epoch 24/100\n",
      "16/16 [==============================] - 0s 3ms/sample - loss: 1.0721 - accuracy: 0.0942\n",
      "Epoch 25/100\n",
      "16/16 [==============================] - 0s 3ms/sample - loss: 1.0633 - accuracy: 0.0852\n",
      "Epoch 26/100\n",
      "16/16 [==============================] - 0s 4ms/sample - loss: 1.0545 - accuracy: 0.0807\n",
      "Epoch 27/100\n",
      "16/16 [==============================] - 0s 3ms/sample - loss: 1.0462 - accuracy: 0.0807\n",
      "Epoch 28/100\n",
      "16/16 [==============================] - 0s 3ms/sample - loss: 1.0385 - accuracy: 0.0897\n",
      "Epoch 29/100\n",
      "16/16 [==============================] - 0s 3ms/sample - loss: 1.0312 - accuracy: 0.1076\n",
      "Epoch 30/100\n",
      "16/16 [==============================] - 0s 3ms/sample - loss: 1.0240 - accuracy: 0.1121\n",
      "Epoch 31/100\n",
      "16/16 [==============================] - 0s 3ms/sample - loss: 1.0163 - accuracy: 0.1031\n",
      "Epoch 32/100\n",
      "16/16 [==============================] - 0s 3ms/sample - loss: 1.0075 - accuracy: 0.1031\n",
      "Epoch 33/100\n",
      "16/16 [==============================] - 0s 3ms/sample - loss: 0.9983 - accuracy: 0.1166\n",
      "Epoch 34/100\n",
      "16/16 [==============================] - 0s 3ms/sample - loss: 0.9881 - accuracy: 0.1121\n",
      "Epoch 35/100\n",
      "16/16 [==============================] - 0s 3ms/sample - loss: 0.9783 - accuracy: 0.1211\n",
      "Epoch 36/100\n",
      "16/16 [==============================] - 0s 3ms/sample - loss: 0.9683 - accuracy: 0.1480\n",
      "Epoch 37/100\n",
      "16/16 [==============================] - 0s 3ms/sample - loss: 0.9590 - accuracy: 0.1614\n",
      "Epoch 38/100\n",
      "16/16 [==============================] - 0s 3ms/sample - loss: 0.9493 - accuracy: 0.1794\n",
      "Epoch 39/100\n",
      "16/16 [==============================] - 0s 3ms/sample - loss: 0.9389 - accuracy: 0.1883\n",
      "Epoch 40/100\n",
      "16/16 [==============================] - 0s 3ms/sample - loss: 0.9286 - accuracy: 0.1839\n",
      "Epoch 41/100\n",
      "16/16 [==============================] - 0s 3ms/sample - loss: 0.9179 - accuracy: 0.1883\n",
      "Epoch 42/100\n",
      "16/16 [==============================] - 0s 3ms/sample - loss: 0.9074 - accuracy: 0.2063\n",
      "Epoch 43/100\n",
      "16/16 [==============================] - 0s 3ms/sample - loss: 0.8959 - accuracy: 0.2018\n",
      "Epoch 44/100\n",
      "16/16 [==============================] - 0s 3ms/sample - loss: 0.8847 - accuracy: 0.2018\n",
      "Epoch 45/100\n",
      "16/16 [==============================] - 0s 3ms/sample - loss: 0.8755 - accuracy: 0.1883\n",
      "Epoch 46/100\n",
      "16/16 [==============================] - 0s 3ms/sample - loss: 0.8611 - accuracy: 0.2018\n",
      "Epoch 47/100\n",
      "16/16 [==============================] - 0s 3ms/sample - loss: 0.8520 - accuracy: 0.1973\n",
      "Epoch 48/100\n",
      "16/16 [==============================] - 0s 3ms/sample - loss: 0.8385 - accuracy: 0.2332\n",
      "Epoch 49/100\n",
      "16/16 [==============================] - 0s 3ms/sample - loss: 0.8276 - accuracy: 0.2466\n",
      "Epoch 50/100\n",
      "16/16 [==============================] - 0s 3ms/sample - loss: 0.8121 - accuracy: 0.2466\n",
      "Epoch 51/100\n",
      "16/16 [==============================] - 0s 3ms/sample - loss: 0.7993 - accuracy: 0.2601\n",
      "Epoch 52/100\n",
      "16/16 [==============================] - 0s 3ms/sample - loss: 0.7849 - accuracy: 0.2691\n",
      "Epoch 53/100\n",
      "16/16 [==============================] - 0s 3ms/sample - loss: 0.7701 - accuracy: 0.2735\n",
      "Epoch 54/100\n",
      "16/16 [==============================] - 0s 3ms/sample - loss: 0.7560 - accuracy: 0.2646\n",
      "Epoch 55/100\n",
      "16/16 [==============================] - 0s 3ms/sample - loss: 0.7419 - accuracy: 0.2960\n",
      "Epoch 56/100\n",
      "16/16 [==============================] - 0s 3ms/sample - loss: 0.7260 - accuracy: 0.2870\n",
      "Epoch 57/100\n",
      "16/16 [==============================] - 0s 3ms/sample - loss: 0.7110 - accuracy: 0.2825\n",
      "Epoch 58/100\n",
      "16/16 [==============================] - 0s 3ms/sample - loss: 0.6950 - accuracy: 0.3049\n",
      "Epoch 59/100\n",
      "16/16 [==============================] - 0s 3ms/sample - loss: 0.6798 - accuracy: 0.3139\n",
      "Epoch 60/100\n",
      "16/16 [==============================] - 0s 3ms/sample - loss: 0.6643 - accuracy: 0.3049\n",
      "Epoch 61/100\n",
      "16/16 [==============================] - 0s 3ms/sample - loss: 0.6474 - accuracy: 0.3274\n",
      "Epoch 62/100\n",
      "16/16 [==============================] - 0s 3ms/sample - loss: 0.6324 - accuracy: 0.3453\n",
      "Epoch 63/100\n",
      "16/16 [==============================] - 0s 3ms/sample - loss: 0.6169 - accuracy: 0.3363\n",
      "Epoch 64/100\n",
      "16/16 [==============================] - 0s 3ms/sample - loss: 0.6006 - accuracy: 0.3453\n",
      "Epoch 65/100\n",
      "16/16 [==============================] - 0s 3ms/sample - loss: 0.5862 - accuracy: 0.3857\n",
      "Epoch 66/100\n",
      "16/16 [==============================] - 0s 3ms/sample - loss: 0.5689 - accuracy: 0.3857\n",
      "Epoch 67/100\n",
      "16/16 [==============================] - 0s 3ms/sample - loss: 0.5548 - accuracy: 0.4170\n",
      "Epoch 68/100\n",
      "16/16 [==============================] - 0s 3ms/sample - loss: 0.5406 - accuracy: 0.4215\n",
      "Epoch 69/100\n",
      "16/16 [==============================] - 0s 3ms/sample - loss: 0.5286 - accuracy: 0.4574\n",
      "Epoch 70/100\n",
      "16/16 [==============================] - 0s 3ms/sample - loss: 0.5257 - accuracy: 0.4126\n",
      "Epoch 71/100\n",
      "16/16 [==============================] - 0s 3ms/sample - loss: 0.5479 - accuracy: 0.4260\n",
      "Epoch 72/100\n",
      "16/16 [==============================] - 0s 3ms/sample - loss: 0.5391 - accuracy: 0.4350\n",
      "Epoch 73/100\n",
      "16/16 [==============================] - 0s 3ms/sample - loss: 0.5213 - accuracy: 0.4126\n",
      "Epoch 74/100\n",
      "16/16 [==============================] - 0s 3ms/sample - loss: 0.5071 - accuracy: 0.4439\n",
      "Epoch 75/100\n",
      "16/16 [==============================] - 0s 3ms/sample - loss: 0.4890 - accuracy: 0.4709\n",
      "Epoch 76/100\n",
      "16/16 [==============================] - 0s 3ms/sample - loss: 0.4783 - accuracy: 0.5291\n",
      "Epoch 77/100\n",
      "16/16 [==============================] - 0s 3ms/sample - loss: 0.4709 - accuracy: 0.5157\n",
      "Epoch 78/100\n",
      "16/16 [==============================] - 0s 3ms/sample - loss: 0.4608 - accuracy: 0.5022\n",
      "Epoch 79/100\n",
      "16/16 [==============================] - 0s 3ms/sample - loss: 0.4531 - accuracy: 0.5202\n",
      "Epoch 80/100\n",
      "16/16 [==============================] - 0s 3ms/sample - loss: 0.4417 - accuracy: 0.5471\n",
      "Epoch 81/100\n",
      "16/16 [==============================] - 0s 3ms/sample - loss: 0.4326 - accuracy: 0.6009\n"
     ]
    },
    {
     "name": "stdout",
     "output_type": "stream",
     "text": [
      "Epoch 82/100\n",
      "16/16 [==============================] - 0s 3ms/sample - loss: 0.4249 - accuracy: 0.6188\n",
      "Epoch 83/100\n",
      "16/16 [==============================] - 0s 3ms/sample - loss: 0.4150 - accuracy: 0.6323\n",
      "Epoch 84/100\n",
      "16/16 [==============================] - 0s 3ms/sample - loss: 0.4071 - accuracy: 0.6502\n",
      "Epoch 85/100\n",
      "16/16 [==============================] - 0s 3ms/sample - loss: 0.3995 - accuracy: 0.6278\n",
      "Epoch 86/100\n",
      "16/16 [==============================] - 0s 3ms/sample - loss: 0.3895 - accuracy: 0.6547\n",
      "Epoch 87/100\n",
      "16/16 [==============================] - 0s 3ms/sample - loss: 0.3820 - accuracy: 0.6951\n",
      "Epoch 88/100\n",
      "16/16 [==============================] - 0s 3ms/sample - loss: 0.3757 - accuracy: 0.7130\n",
      "Epoch 89/100\n",
      "16/16 [==============================] - 0s 3ms/sample - loss: 0.3681 - accuracy: 0.7130\n",
      "Epoch 90/100\n",
      "16/16 [==============================] - 0s 3ms/sample - loss: 0.3614 - accuracy: 0.7085\n",
      "Epoch 91/100\n",
      "16/16 [==============================] - 0s 3ms/sample - loss: 0.3543 - accuracy: 0.7489\n",
      "Epoch 92/100\n",
      "16/16 [==============================] - 0s 3ms/sample - loss: 0.3473 - accuracy: 0.7713\n",
      "Epoch 93/100\n",
      "16/16 [==============================] - 0s 3ms/sample - loss: 0.3406 - accuracy: 0.7848\n",
      "Epoch 94/100\n",
      "16/16 [==============================] - 0s 3ms/sample - loss: 0.3337 - accuracy: 0.7758\n",
      "Epoch 95/100\n",
      "16/16 [==============================] - 0s 3ms/sample - loss: 0.3283 - accuracy: 0.7803\n",
      "Epoch 96/100\n",
      "16/16 [==============================] - 0s 3ms/sample - loss: 0.3221 - accuracy: 0.7892\n",
      "Epoch 97/100\n",
      "16/16 [==============================] - 0s 3ms/sample - loss: 0.3158 - accuracy: 0.8117\n",
      "Epoch 98/100\n",
      "16/16 [==============================] - 0s 3ms/sample - loss: 0.3102 - accuracy: 0.8206\n",
      "Epoch 99/100\n",
      "16/16 [==============================] - 0s 3ms/sample - loss: 0.3039 - accuracy: 0.8296\n",
      "Epoch 100/100\n",
      "16/16 [==============================] - 0s 3ms/sample - loss: 0.2984 - accuracy: 0.8341\n"
     ]
    }
   ],
   "source": [
    "model.fit([encoder_input_data , decoder_input_data], decoder_output_data, batch_size=50, epochs=100 ) \n",
    "model.save( 'model.h5' )"
   ]
  },
  {
   "cell_type": "markdown",
   "metadata": {},
   "source": [
    "**Accuracy value started from 10.31% and eventually improved with epochs upto value of 83.41 %**"
   ]
  },
  {
   "cell_type": "markdown",
   "metadata": {},
   "source": [
    "### inference\n",
    "\n",
    "During the inference phase, a trained Seq2Seq model gets a source sentence. It uses this to obtain an encoder_state which is used to initialize the decoder. The conversational process starts as soon as the decoder receives a special symbol, <start>, denoting the start of the decoding process."
   ]
  },
  {
   "cell_type": "code",
   "execution_count": 25,
   "metadata": {},
   "outputs": [],
   "source": [
    "def make_inference_models():\n",
    "    \n",
    "    encoder_model = tf.keras.models.Model(encoder_inputs, encoder_states)\n",
    "    \n",
    "    decoder_state_input_h = tf.keras.layers.Input(shape=( 200 ,))\n",
    "    decoder_state_input_c = tf.keras.layers.Input(shape=( 200 ,))\n",
    "    \n",
    "    decoder_states_inputs = [decoder_state_input_h, decoder_state_input_c]\n",
    "    \n",
    "    decoder_outputs, state_h, state_c = decoder_lstm(\n",
    "        decoder_embedding , initial_state=decoder_states_inputs)\n",
    "    decoder_states = [state_h, state_c]\n",
    "    decoder_outputs = decoder_dense(decoder_outputs)\n",
    "    decoder_model = tf.keras.models.Model(\n",
    "        [decoder_inputs] + decoder_states_inputs,\n",
    "        [decoder_outputs] + decoder_states)\n",
    "    \n",
    "    return encoder_model , decoder_model"
   ]
  },
  {
   "cell_type": "code",
   "execution_count": 26,
   "metadata": {},
   "outputs": [],
   "source": [
    "def str_to_tokens( sentence : str ):\n",
    "    words = sentence.lower().split()\n",
    "    tokens_list = list()\n",
    "    for word in words:\n",
    "        tokens_list.append( tokenizer.word_index[ word ] ) \n",
    "    return preprocessing.sequence.pad_sequences( [tokens_list] , maxlen=maxlen_questions , padding='post')"
   ]
  },
  {
   "cell_type": "markdown",
   "metadata": {},
   "source": [
    "# 5)-Evaluation"
   ]
  },
  {
   "cell_type": "code",
   "execution_count": 28,
   "metadata": {},
   "outputs": [
    {
     "name": "stdout",
     "output_type": "stream",
     "text": [
      "Enter question : have you read the communist\n",
      " yes marx had made some interesting observations end\n",
      "Enter question : what is a government\n",
      " it it is a representative of the people end\n",
      "Enter question : what is capitalism\n",
      " a sociopolitical movement advocating the common of of the means of production production and the and class conflict by bringing about a society end\n",
      "Enter question : what is socialism\n",
      " communism from people who want to keep their volvos any of various theories or systems of the ownership of the of the of of and the and by by society or the community community by society or the community community community sharing the the the and the the and the the products end\n",
      "Enter question : what is communism\n",
      " a sociopolitical movement advocating the common ownership of the means of production production and the resolution of class conflict by by about a classless end\n",
      "Enter question : what is impeached\n",
      " a sociopolitical movement advocating advocating common ownership of of the means of production and production and class conflict by by about a society end\n",
      "Enter question : who was the first impeached president\n",
      " andrew jackson end\n",
      "Enter question : What is Game of thrones TV series\n"
     ]
    },
    {
     "ename": "KeyError",
     "evalue": "'game'",
     "output_type": "error",
     "traceback": [
      "\u001b[1;31m---------------------------------------------------------------------------\u001b[0m",
      "\u001b[1;31mKeyError\u001b[0m                                  Traceback (most recent call last)",
      "\u001b[1;32m<ipython-input-28-a3576c66748e>\u001b[0m in \u001b[0;36m<module>\u001b[1;34m\u001b[0m\n\u001b[0;32m      2\u001b[0m \u001b[1;33m\u001b[0m\u001b[0m\n\u001b[0;32m      3\u001b[0m \u001b[1;32mfor\u001b[0m \u001b[0m_\u001b[0m \u001b[1;32min\u001b[0m \u001b[0mrange\u001b[0m\u001b[1;33m(\u001b[0m\u001b[1;36m10\u001b[0m\u001b[1;33m)\u001b[0m\u001b[1;33m:\u001b[0m\u001b[1;33m\u001b[0m\u001b[1;33m\u001b[0m\u001b[0m\n\u001b[1;32m----> 4\u001b[1;33m     \u001b[0mstates_values\u001b[0m \u001b[1;33m=\u001b[0m \u001b[0menc_model\u001b[0m\u001b[1;33m.\u001b[0m\u001b[0mpredict\u001b[0m\u001b[1;33m(\u001b[0m \u001b[0mstr_to_tokens\u001b[0m\u001b[1;33m(\u001b[0m \u001b[0minput\u001b[0m\u001b[1;33m(\u001b[0m \u001b[1;34m'Enter question : '\u001b[0m \u001b[1;33m)\u001b[0m \u001b[1;33m)\u001b[0m \u001b[1;33m)\u001b[0m\u001b[1;33m\u001b[0m\u001b[1;33m\u001b[0m\u001b[0m\n\u001b[0m\u001b[0;32m      5\u001b[0m     \u001b[0mempty_target_seq\u001b[0m \u001b[1;33m=\u001b[0m \u001b[0mnp\u001b[0m\u001b[1;33m.\u001b[0m\u001b[0mzeros\u001b[0m\u001b[1;33m(\u001b[0m \u001b[1;33m(\u001b[0m \u001b[1;36m1\u001b[0m \u001b[1;33m,\u001b[0m \u001b[1;36m1\u001b[0m \u001b[1;33m)\u001b[0m \u001b[1;33m)\u001b[0m\u001b[1;33m\u001b[0m\u001b[1;33m\u001b[0m\u001b[0m\n\u001b[0;32m      6\u001b[0m     \u001b[0mempty_target_seq\u001b[0m\u001b[1;33m[\u001b[0m\u001b[1;36m0\u001b[0m\u001b[1;33m,\u001b[0m \u001b[1;36m0\u001b[0m\u001b[1;33m]\u001b[0m \u001b[1;33m=\u001b[0m \u001b[0mtokenizer\u001b[0m\u001b[1;33m.\u001b[0m\u001b[0mword_index\u001b[0m\u001b[1;33m[\u001b[0m\u001b[1;34m'start'\u001b[0m\u001b[1;33m]\u001b[0m\u001b[1;33m\u001b[0m\u001b[1;33m\u001b[0m\u001b[0m\n",
      "\u001b[1;32m<ipython-input-26-1825298c5d8b>\u001b[0m in \u001b[0;36mstr_to_tokens\u001b[1;34m(sentence)\u001b[0m\n\u001b[0;32m      3\u001b[0m     \u001b[0mtokens_list\u001b[0m \u001b[1;33m=\u001b[0m \u001b[0mlist\u001b[0m\u001b[1;33m(\u001b[0m\u001b[1;33m)\u001b[0m\u001b[1;33m\u001b[0m\u001b[1;33m\u001b[0m\u001b[0m\n\u001b[0;32m      4\u001b[0m     \u001b[1;32mfor\u001b[0m \u001b[0mword\u001b[0m \u001b[1;32min\u001b[0m \u001b[0mwords\u001b[0m\u001b[1;33m:\u001b[0m\u001b[1;33m\u001b[0m\u001b[1;33m\u001b[0m\u001b[0m\n\u001b[1;32m----> 5\u001b[1;33m         \u001b[0mtokens_list\u001b[0m\u001b[1;33m.\u001b[0m\u001b[0mappend\u001b[0m\u001b[1;33m(\u001b[0m \u001b[0mtokenizer\u001b[0m\u001b[1;33m.\u001b[0m\u001b[0mword_index\u001b[0m\u001b[1;33m[\u001b[0m \u001b[0mword\u001b[0m \u001b[1;33m]\u001b[0m \u001b[1;33m)\u001b[0m\u001b[1;33m\u001b[0m\u001b[1;33m\u001b[0m\u001b[0m\n\u001b[0m\u001b[0;32m      6\u001b[0m     \u001b[1;32mreturn\u001b[0m \u001b[0mpreprocessing\u001b[0m\u001b[1;33m.\u001b[0m\u001b[0msequence\u001b[0m\u001b[1;33m.\u001b[0m\u001b[0mpad_sequences\u001b[0m\u001b[1;33m(\u001b[0m \u001b[1;33m[\u001b[0m\u001b[0mtokens_list\u001b[0m\u001b[1;33m]\u001b[0m \u001b[1;33m,\u001b[0m \u001b[0mmaxlen\u001b[0m\u001b[1;33m=\u001b[0m\u001b[0mmaxlen_questions\u001b[0m \u001b[1;33m,\u001b[0m \u001b[0mpadding\u001b[0m\u001b[1;33m=\u001b[0m\u001b[1;34m'post'\u001b[0m\u001b[1;33m)\u001b[0m\u001b[1;33m\u001b[0m\u001b[1;33m\u001b[0m\u001b[0m\n",
      "\u001b[1;31mKeyError\u001b[0m: 'game'"
     ]
    }
   ],
   "source": [
    "enc_model , dec_model = make_inference_models()\n",
    "\n",
    "for _ in range(10):\n",
    "    states_values = enc_model.predict( str_to_tokens( input( 'Enter question : ' ) ) )\n",
    "    empty_target_seq = np.zeros( ( 1 , 1 ) )\n",
    "    empty_target_seq[0, 0] = tokenizer.word_index['start']\n",
    "    stop_condition = False\n",
    "    decoded_translation = ''\n",
    "    while not stop_condition :\n",
    "        dec_outputs , h , c = dec_model.predict([ empty_target_seq ] + states_values )\n",
    "        sampled_word_index = np.argmax( dec_outputs[0, -1, :] )\n",
    "        sampled_word = None\n",
    "        for word , index in tokenizer.word_index.items() :\n",
    "            if sampled_word_index == index :\n",
    "                decoded_translation += ' {}'.format( word )\n",
    "                sampled_word = word\n",
    "        \n",
    "        if sampled_word == 'end' or len(decoded_translation.split()) > maxlen_answers:\n",
    "            stop_condition = True\n",
    "            \n",
    "        empty_target_seq = np.zeros( ( 1 , 1 ) )  \n",
    "        empty_target_seq[ 0 , 0 ] = sampled_word_index\n",
    "        states_values = [ h , c ] \n",
    "\n",
    "    print( decoded_translation )"
   ]
  },
  {
   "cell_type": "markdown",
   "metadata": {},
   "source": [
    "any context that is not trained,  will not be entertained."
   ]
  },
  {
   "cell_type": "markdown",
   "metadata": {},
   "source": [
    "# END of NOTEBOOK"
   ]
  }
 ],
 "metadata": {
  "kernelspec": {
   "display_name": "Python 3.7 (tensorflow)",
   "language": "python",
   "name": "tensorflow"
  },
  "language_info": {
   "codemirror_mode": {
    "name": "ipython",
    "version": 3
   },
   "file_extension": ".py",
   "mimetype": "text/x-python",
   "name": "python",
   "nbconvert_exporter": "python",
   "pygments_lexer": "ipython3",
   "version": "3.7.7"
  }
 },
 "nbformat": 4,
 "nbformat_minor": 4
}
