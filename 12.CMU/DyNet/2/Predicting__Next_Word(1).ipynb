{
  "nbformat": 4,
  "nbformat_minor": 0,
  "metadata": {
    "anaconda-cloud": {},
    "kernelspec": {
      "name": "python3",
      "display_name": "Python 3"
    },
    "language_info": {
      "codemirror_mode": {
        "name": "ipython",
        "version": 3
      },
      "file_extension": ".py",
      "mimetype": "text/x-python",
      "name": "python",
      "nbconvert_exporter": "python",
      "pygments_lexer": "ipython3",
      "version": "3.6.0"
    },
    "colab": {
      "name": "Predicting _Next_Word(1).ipynb",
      "provenance": []
    },
    "accelerator": "GPU"
  },
  "cells": [
    {
      "cell_type": "markdown",
      "metadata": {
        "id": "RFBOqODHw6mV",
        "colab_type": "text"
      },
      "source": [
        "# Using Linear model\n",
        "\n",
        "- for starting point\n",
        "\n"
      ]
    },
    {
      "cell_type": "markdown",
      "metadata": {
        "id": "70Vdw8_niYm0",
        "colab_type": "text"
      },
      "source": [
        "# 1)-Importing key Modules"
      ]
    },
    {
      "cell_type": "code",
      "metadata": {
        "id": "n9CuXeO1xlV1",
        "colab_type": "code",
        "colab": {}
      },
      "source": [
        "#support both Python 2 and Python 3 with minimal overhead.\n",
        "from __future__ import absolute_import, division, print_function\n",
        "\n",
        "# I am an engineer. I care only about error not warning. So, let's be maverick and ignore warnings.\n",
        "import warnings\n",
        "warnings.filterwarnings('ignore')"
      ],
      "execution_count": 0,
      "outputs": []
    },
    {
      "cell_type": "code",
      "metadata": {
        "id": "c8TutW-ygWhX",
        "colab_type": "code",
        "colab": {
          "base_uri": "https://localhost:8080/",
          "height": 67
        },
        "outputId": "a0c3d8a3-1784-4777-829b-3bb243e271aa"
      },
      "source": [
        "! pip install dynet"
      ],
      "execution_count": 2,
      "outputs": [
        {
          "output_type": "stream",
          "text": [
            "Requirement already satisfied: dynet in /usr/local/lib/python3.6/dist-packages (2.1)\n",
            "Requirement already satisfied: numpy in /usr/local/lib/python3.6/dist-packages (from dynet) (1.17.4)\n",
            "Requirement already satisfied: cython in /usr/local/lib/python3.6/dist-packages (from dynet) (0.29.14)\n"
          ],
          "name": "stdout"
        }
      ]
    },
    {
      "cell_type": "code",
      "metadata": {
        "id": "OiA4L15Iw7kb",
        "colab_type": "code",
        "colab": {}
      },
      "source": [
        "from collections import defaultdict\n",
        "import math\n",
        "import time\n",
        "import random\n",
        "import dynet as dy\n",
        "import numpy as np"
      ],
      "execution_count": 0,
      "outputs": []
    },
    {
      "cell_type": "code",
      "metadata": {
        "id": "XcCkkT0mx2Yc",
        "colab_type": "code",
        "outputId": "0b8c4582-a031-46e8-9a4a-ff59450a2a17",
        "colab": {
          "base_uri": "https://localhost:8080/",
          "height": 34
        }
      },
      "source": [
        "! pip install version_information"
      ],
      "execution_count": 4,
      "outputs": [
        {
          "output_type": "stream",
          "text": [
            "Requirement already satisfied: version_information in /usr/local/lib/python3.6/dist-packages (1.0.3)\n"
          ],
          "name": "stdout"
        }
      ]
    },
    {
      "cell_type": "code",
      "metadata": {
        "id": "z56btwC7x268",
        "colab_type": "code",
        "outputId": "6ca2d9d1-8a67-43c8-9518-8da9160dd0fe",
        "colab": {
          "base_uri": "https://localhost:8080/",
          "height": 178
        }
      },
      "source": [
        "# first install: pip install version_information\n",
        "%reload_ext version_information\n",
        "%version_information pandas,torch,numpy"
      ],
      "execution_count": 5,
      "outputs": [
        {
          "output_type": "execute_result",
          "data": {
            "text/latex": "\\begin{tabular}{|l|l|}\\hline\n{\\bf Software} & {\\bf Version} \\\\ \\hline\\hline\nPython & 3.6.8 64bit [GCC 8.3.0] \\\\ \\hline\nIPython & 5.5.0 \\\\ \\hline\nOS & Linux 4.14.137+ x86\\_64 with Ubuntu 18.04 bionic \\\\ \\hline\npandas & 0.25.3 \\\\ \\hline\ntorch & 1.3.1+cu100 \\\\ \\hline\nnumpy & 1.17.4 \\\\ \\hline\n\\hline \\multicolumn{2}{|l|}{Sat Nov 16 16:29:35 2019 UTC} \\\\ \\hline\n\\end{tabular}\n",
            "application/json": {
              "Software versions": [
                {
                  "version": "3.6.8 64bit [GCC 8.3.0]",
                  "module": "Python"
                },
                {
                  "version": "5.5.0",
                  "module": "IPython"
                },
                {
                  "version": "Linux 4.14.137+ x86_64 with Ubuntu 18.04 bionic",
                  "module": "OS"
                },
                {
                  "version": "0.25.3",
                  "module": "pandas"
                },
                {
                  "version": "1.3.1+cu100",
                  "module": "torch"
                },
                {
                  "version": "1.17.4",
                  "module": "numpy"
                }
              ]
            },
            "text/html": [
              "<table><tr><th>Software</th><th>Version</th></tr><tr><td>Python</td><td>3.6.8 64bit [GCC 8.3.0]</td></tr><tr><td>IPython</td><td>5.5.0</td></tr><tr><td>OS</td><td>Linux 4.14.137+ x86_64 with Ubuntu 18.04 bionic</td></tr><tr><td>pandas</td><td>0.25.3</td></tr><tr><td>torch</td><td>1.3.1+cu100</td></tr><tr><td>numpy</td><td>1.17.4</td></tr><tr><td colspan='2'>Sat Nov 16 16:29:35 2019 UTC</td></tr></table>"
            ],
            "text/plain": [
              "Software versions\n",
              "Python 3.6.8 64bit [GCC 8.3.0]\n",
              "IPython 5.5.0\n",
              "OS Linux 4.14.137+ x86_64 with Ubuntu 18.04 bionic\n",
              "pandas 0.25.3\n",
              "torch 1.3.1+cu100\n",
              "numpy 1.17.4\n",
              "Sat Nov 16 16:29:35 2019 UTC"
            ]
          },
          "metadata": {
            "tags": []
          },
          "execution_count": 5
        }
      ]
    },
    {
      "cell_type": "markdown",
      "metadata": {
        "id": "vw-J6S79LU8O",
        "colab_type": "text"
      },
      "source": [
        "# 2)- Setting up neural network"
      ]
    },
    {
      "cell_type": "code",
      "metadata": {
        "id": "cFX88YgmLWsU",
        "colab_type": "code",
        "colab": {}
      },
      "source": [
        "# The length of the n-gram\n",
        "N = 2\n",
        "\n",
        "# Functions to read in the corpus\n",
        "w2i = defaultdict(lambda: len(w2i))\n",
        "S = w2i[\"<s>\"]\n",
        "UNK = w2i[\"<unk>\"]\n",
        "def read_dataset(filename):\n",
        "  with open(filename, \"r\") as f:\n",
        "    for line in f:\n",
        "      yield [w2i[x] for x in line.strip().split(\" \")]"
      ],
      "execution_count": 0,
      "outputs": []
    },
    {
      "cell_type": "markdown",
      "metadata": {
        "id": "rTa40YTaxRXk",
        "colab_type": "text"
      },
      "source": [
        "# 3)- Loading Data"
      ]
    },
    {
      "cell_type": "markdown",
      "metadata": {
        "id": "MwirF9WxNbAY",
        "colab_type": "text"
      },
      "source": [
        "### loading data using traditional format\n",
        "using read()"
      ]
    },
    {
      "cell_type": "code",
      "metadata": {
        "id": "XguR09WKw5uo",
        "colab_type": "code",
        "colab": {}
      },
      "source": [
        "train = list(read_dataset(\"train.txt\"))\n",
        "w2i = defaultdict(lambda: UNK, w2i)\n",
        "dev = list(read_dataset(\"valid.txt\"))\n",
        "i2w = {v: k for k, v in w2i.items()}\n",
        "nwords = len(w2i)"
      ],
      "execution_count": 0,
      "outputs": []
    },
    {
      "cell_type": "markdown",
      "metadata": {
        "id": "bL8Mi4OWMWtT",
        "colab_type": "text"
      },
      "source": [
        "# 4)- Model Building"
      ]
    },
    {
      "cell_type": "markdown",
      "metadata": {
        "id": "qPuE-EyrMZeT",
        "colab_type": "text"
      },
      "source": [
        "### 4.1)- Start DyNet and define trainer"
      ]
    },
    {
      "cell_type": "code",
      "metadata": {
        "id": "ZT3XMPH3Mex7",
        "colab_type": "code",
        "colab": {}
      },
      "source": [
        "model = dy.ParameterCollection()\n",
        "trainer = dy.SimpleSGDTrainer(model, learning_rate=0.1)"
      ],
      "execution_count": 0,
      "outputs": []
    },
    {
      "cell_type": "markdown",
      "metadata": {
        "id": "Z_JwS6zcMmZT",
        "colab_type": "text"
      },
      "source": [
        "### 4.2)-Define the model"
      ]
    },
    {
      "cell_type": "code",
      "metadata": {
        "id": "dKI5ySThMe0v",
        "colab_type": "code",
        "colab": {}
      },
      "source": [
        "W_sm = [model.add_lookup_parameters((nwords, nwords)) for _ in range(N)] # Word weights at each position\n",
        "b_sm = model.add_parameters((nwords))                # Softmax bias"
      ],
      "execution_count": 0,
      "outputs": []
    },
    {
      "cell_type": "markdown",
      "metadata": {
        "id": "BxGBAs7aMuhz",
        "colab_type": "text"
      },
      "source": [
        "### 4.3)-A function to calculate scores for one value"
      ]
    },
    {
      "cell_type": "code",
      "metadata": {
        "id": "SC_uuRKvMe32",
        "colab_type": "code",
        "colab": {}
      },
      "source": [
        "def calc_score_of_history(words):\n",
        "  # Create a list of things to sum up with only the bias vector at first\n",
        "  score_vecs = [b_sm]\n",
        "  for word_id, lookup_param in zip(words, W_sm): \n",
        "    score_vecs.append(lookup_param[word_id])\n",
        "  return dy.esum(score_vecs)"
      ],
      "execution_count": 0,
      "outputs": []
    },
    {
      "cell_type": "markdown",
      "metadata": {
        "id": "0Oo9CdoWM3DM",
        "colab_type": "text"
      },
      "source": [
        "### 4.4)-Calculate the loss value for the entire sentence"
      ]
    },
    {
      "cell_type": "code",
      "metadata": {
        "id": "Yg0yiErZMe6Y",
        "colab_type": "code",
        "colab": {}
      },
      "source": [
        "def calc_sent_loss(sent):\n",
        "  # Create a computation graph\n",
        "  dy.renew_cg()\n",
        "  # The initial history is equal to end of sentence symbols\n",
        "  hist = [S] * N\n",
        "  # Step through the sentence, including the end of sentence token\n",
        "  all_losses = []\n",
        "  for next_word in sent + [S]:\n",
        "    s = calc_score_of_history(hist)\n",
        "    all_losses.append(dy.pickneglogsoftmax(s, next_word))\n",
        "    hist = hist[1:] + [next_word]\n",
        "  return dy.esum(all_losses)"
      ],
      "execution_count": 0,
      "outputs": []
    },
    {
      "cell_type": "markdown",
      "metadata": {
        "id": "O8b1JUI0hvhk",
        "colab_type": "text"
      },
      "source": [
        "### 4.5)-Generate a sentence"
      ]
    },
    {
      "cell_type": "code",
      "metadata": {
        "id": "S-xgWIVrh0pc",
        "colab_type": "code",
        "colab": {}
      },
      "source": [
        "MAX_LEN = 100"
      ],
      "execution_count": 0,
      "outputs": []
    },
    {
      "cell_type": "code",
      "metadata": {
        "id": "M-8xXLvEMe87",
        "colab_type": "code",
        "colab": {}
      },
      "source": [
        "def generate_sent():\n",
        "  dy.renew_cg()\n",
        "  hist = [S] * N\n",
        "  sent = []\n",
        "  while True:\n",
        "    p = dy.softmax(calc_score_of_history(hist)).npvalue()\n",
        "    next_word = np.random.choice(nwords, p=p/p.sum())\n",
        "    if next_word == S or len(sent) == MAX_LEN:\n",
        "      break\n",
        "    sent.append(next_word)\n",
        "    hist = hist[1:] + [next_word]\n",
        "  return sent"
      ],
      "execution_count": 0,
      "outputs": []
    },
    {
      "cell_type": "markdown",
      "metadata": {
        "id": "1Huvgc_Gh959",
        "colab_type": "text"
      },
      "source": [
        "# 5)- Train Model"
      ]
    },
    {
      "cell_type": "code",
      "metadata": {
        "id": "V6BKC7H9iAxM",
        "colab_type": "code",
        "colab": {
          "base_uri": "https://localhost:8080/",
          "height": 1000
        },
        "outputId": "ad6cff7a-adff-4607-825e-16f0d08640ae"
      },
      "source": [
        "for ITER in range(10):\n",
        "  # Perform training\n",
        "  random.shuffle(train)\n",
        "  train_words, train_loss = 0, 0.0\n",
        "  start = time.time()\n",
        "  for sent_id, sent in enumerate(train):\n",
        "    my_loss = calc_sent_loss(sent)\n",
        "    train_loss += my_loss.value()\n",
        "    train_words += len(sent)\n",
        "    my_loss.backward()\n",
        "    trainer.update()\n",
        "    if (sent_id+1) % 5000 == 0:\n",
        "      print(\"--finished %r sentences\" % (sent_id+1))\n",
        "  print(\"iter %r: train loss/word=%.4f, ppl=%.4f, time=%.2fs\" % (ITER, train_loss/train_words, math.exp(train_loss/train_words), time.time()-start))"
      ],
      "execution_count": 14,
      "outputs": [
        {
          "output_type": "stream",
          "text": [
            "--finished 5000 sentences\n",
            "--finished 10000 sentences\n",
            "--finished 15000 sentences\n",
            "--finished 20000 sentences\n",
            "--finished 25000 sentences\n",
            "--finished 30000 sentences\n",
            "--finished 35000 sentences\n",
            "--finished 40000 sentences\n",
            "iter 0: train loss/word=6.2143, ppl=499.8656, time=99.87s\n",
            "--finished 5000 sentences\n",
            "--finished 10000 sentences\n",
            "--finished 15000 sentences\n",
            "--finished 20000 sentences\n",
            "--finished 25000 sentences\n",
            "--finished 30000 sentences\n",
            "--finished 35000 sentences\n",
            "--finished 40000 sentences\n",
            "iter 1: train loss/word=5.7742, ppl=321.8879, time=98.28s\n",
            "--finished 5000 sentences\n",
            "--finished 10000 sentences\n",
            "--finished 15000 sentences\n",
            "--finished 20000 sentences\n",
            "--finished 25000 sentences\n",
            "--finished 30000 sentences\n",
            "--finished 35000 sentences\n",
            "--finished 40000 sentences\n",
            "iter 2: train loss/word=5.5815, ppl=265.4671, time=102.50s\n",
            "--finished 5000 sentences\n",
            "--finished 10000 sentences\n",
            "--finished 15000 sentences\n",
            "--finished 20000 sentences\n",
            "--finished 25000 sentences\n",
            "--finished 30000 sentences\n",
            "--finished 35000 sentences\n",
            "--finished 40000 sentences\n",
            "iter 3: train loss/word=5.4431, ppl=231.1622, time=102.52s\n",
            "--finished 5000 sentences\n",
            "--finished 10000 sentences\n",
            "--finished 15000 sentences\n",
            "--finished 20000 sentences\n",
            "--finished 25000 sentences\n",
            "--finished 30000 sentences\n",
            "--finished 35000 sentences\n",
            "--finished 40000 sentences\n",
            "iter 4: train loss/word=5.3333, ppl=207.1178, time=102.65s\n",
            "--finished 5000 sentences\n",
            "--finished 10000 sentences\n",
            "--finished 15000 sentences\n",
            "--finished 20000 sentences\n",
            "--finished 25000 sentences\n",
            "--finished 30000 sentences\n",
            "--finished 35000 sentences\n",
            "--finished 40000 sentences\n",
            "iter 5: train loss/word=5.2408, ppl=188.8232, time=108.51s\n",
            "--finished 5000 sentences\n",
            "--finished 10000 sentences\n",
            "--finished 15000 sentences\n",
            "--finished 20000 sentences\n",
            "--finished 25000 sentences\n",
            "--finished 30000 sentences\n",
            "--finished 35000 sentences\n",
            "--finished 40000 sentences\n",
            "iter 6: train loss/word=5.1607, ppl=174.2851, time=109.74s\n",
            "--finished 5000 sentences\n",
            "--finished 10000 sentences\n",
            "--finished 15000 sentences\n",
            "--finished 20000 sentences\n",
            "--finished 25000 sentences\n",
            "--finished 30000 sentences\n",
            "--finished 35000 sentences\n",
            "--finished 40000 sentences\n",
            "iter 7: train loss/word=5.0894, ppl=162.2945, time=110.86s\n",
            "--finished 5000 sentences\n",
            "--finished 10000 sentences\n",
            "--finished 15000 sentences\n",
            "--finished 20000 sentences\n",
            "--finished 25000 sentences\n",
            "--finished 30000 sentences\n",
            "--finished 35000 sentences\n",
            "--finished 40000 sentences\n",
            "iter 8: train loss/word=5.0251, ppl=152.1858, time=111.07s\n",
            "--finished 5000 sentences\n",
            "--finished 10000 sentences\n",
            "--finished 15000 sentences\n",
            "--finished 20000 sentences\n",
            "--finished 25000 sentences\n",
            "--finished 30000 sentences\n",
            "--finished 35000 sentences\n",
            "--finished 40000 sentences\n",
            "iter 9: train loss/word=4.9663, ppl=143.5010, time=111.78s\n"
          ],
          "name": "stdout"
        }
      ]
    },
    {
      "cell_type": "markdown",
      "metadata": {
        "id": "i2-RYk7_QXuB",
        "colab_type": "text"
      },
      "source": [
        "# 5)- Evaluate"
      ]
    },
    {
      "cell_type": "code",
      "metadata": {
        "id": "aOm0Wq1FM9wT",
        "colab_type": "code",
        "colab": {
          "base_uri": "https://localhost:8080/",
          "height": 34
        },
        "outputId": "fe78c48b-3150-4009-bed7-7679a8a97b62"
      },
      "source": [
        "dev_words, dev_loss = 0, 0.0\n",
        "start = time.time()\n",
        "for sent_id, sent in enumerate(dev):\n",
        "  my_loss = calc_sent_loss(sent)\n",
        "  dev_loss += my_loss.value()\n",
        "  dev_words += len(sent)\n",
        "print(\"iter %r: dev loss/word=%.4f, ppl=%.4f, time=%.2fs\" % (ITER, dev_loss/dev_words, math.exp(dev_loss/dev_words), time.time()-start))"
      ],
      "execution_count": 15,
      "outputs": [
        {
          "output_type": "stream",
          "text": [
            "iter 9: dev loss/word=5.4608, ppl=235.2843, time=3.49s\n"
          ],
          "name": "stdout"
        }
      ]
    },
    {
      "cell_type": "markdown",
      "metadata": {
        "id": "xwmInnJOQpdg",
        "colab_type": "text"
      },
      "source": [
        "# 6)-Generate a few sentences"
      ]
    },
    {
      "cell_type": "code",
      "metadata": {
        "id": "2aIqjrDFQmXI",
        "colab_type": "code",
        "colab": {
          "base_uri": "https://localhost:8080/",
          "height": 121
        },
        "outputId": "150eb98c-b77e-4cf5-a928-4505a3e471d3"
      },
      "source": [
        "for _ in range(5):\n",
        "  sent = generate_sent()\n",
        "  print(\" \".join([i2w[x] for x in sent]))"
      ],
      "execution_count": 16,
      "outputs": [
        {
          "output_type": "stream",
          "text": [
            "<unk> worried that the bugs wo n't measure\n",
            "the return came to spreads $ N billion to N barrels at a $ N billion yen\n",
            "for example $ N a share a year earlier the president to <unk> eastern exhibition underestimated <unk> culmination on <unk> relations down or in N futures of N N N N from $ N million of existing <unk> in eastern europe\n",
            "indeed the telephone lines of the american <unk> & inner-city eventual ciba-geigy turner by the fed are not only by some spring producing free low-cost on <unk> an analyst with <unk> the army company firm legislative force as an clues spill <unk> young said\n",
            "the average where none <unk> <unk> up gives important before the house energy out should be spent again on nov. N and increase fraud holders\n"
          ],
          "name": "stdout"
        }
      ]
    }
  ]
}