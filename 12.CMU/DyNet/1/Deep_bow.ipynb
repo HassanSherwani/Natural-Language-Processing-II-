{
  "nbformat": 4,
  "nbformat_minor": 0,
  "metadata": {
    "anaconda-cloud": {},
    "kernelspec": {
      "name": "python3",
      "display_name": "Python 3"
    },
    "language_info": {
      "codemirror_mode": {
        "name": "ipython",
        "version": 3
      },
      "file_extension": ".py",
      "mimetype": "text/x-python",
      "name": "python",
      "nbconvert_exporter": "python",
      "pygments_lexer": "ipython3",
      "version": "3.6.0"
    },
    "colab": {
      "name": "Deep_bow.ipynb",
      "provenance": []
    },
    "accelerator": "GPU"
  },
  "cells": [
    {
      "cell_type": "markdown",
      "metadata": {
        "id": "RFBOqODHw6mV",
        "colab_type": "text"
      },
      "source": [
        "# 1)-Importing key Modules\n",
        "\n"
      ]
    },
    {
      "cell_type": "code",
      "metadata": {
        "id": "n9CuXeO1xlV1",
        "colab_type": "code",
        "colab": {}
      },
      "source": [
        "#support both Python 2 and Python 3 with minimal overhead.\n",
        "from __future__ import absolute_import, division, print_function\n",
        "\n",
        "# I am an engineer. I care only about error not warning. So, let's be maverick and ignore warnings.\n",
        "import warnings\n",
        "warnings.filterwarnings('ignore')"
      ],
      "execution_count": 0,
      "outputs": []
    },
    {
      "cell_type": "code",
      "metadata": {
        "id": "0WRoiH9wxGPL",
        "colab_type": "code",
        "outputId": "c2e4e5f9-1e59-44d1-def5-2b0c045f7218",
        "colab": {
          "base_uri": "https://localhost:8080/",
          "height": 67
        }
      },
      "source": [
        "! pip install dynet"
      ],
      "execution_count": 9,
      "outputs": [
        {
          "output_type": "stream",
          "text": [
            "Requirement already satisfied: dynet in /usr/local/lib/python3.6/dist-packages (2.1)\n",
            "Requirement already satisfied: cython in /usr/local/lib/python3.6/dist-packages (from dynet) (0.29.13)\n",
            "Requirement already satisfied: numpy in /usr/local/lib/python3.6/dist-packages (from dynet) (1.17.3)\n"
          ],
          "name": "stdout"
        }
      ]
    },
    {
      "cell_type": "code",
      "metadata": {
        "id": "OiA4L15Iw7kb",
        "colab_type": "code",
        "colab": {}
      },
      "source": [
        "import pandas as pd\n",
        "from collections import defaultdict\n",
        "import time\n",
        "import random\n",
        "import dynet as dy\n",
        "import numpy as np"
      ],
      "execution_count": 0,
      "outputs": []
    },
    {
      "cell_type": "code",
      "metadata": {
        "id": "XcCkkT0mx2Yc",
        "colab_type": "code",
        "outputId": "7eacffc2-b874-43b4-a87c-068c412d8a9a",
        "colab": {
          "base_uri": "https://localhost:8080/",
          "height": 34
        }
      },
      "source": [
        "! pip install version_information"
      ],
      "execution_count": 11,
      "outputs": [
        {
          "output_type": "stream",
          "text": [
            "Requirement already satisfied: version_information in /usr/local/lib/python3.6/dist-packages (1.0.3)\n"
          ],
          "name": "stdout"
        }
      ]
    },
    {
      "cell_type": "code",
      "metadata": {
        "id": "z56btwC7x268",
        "colab_type": "code",
        "outputId": "ea1f0992-e69b-4b03-8b59-516cbec9d50c",
        "colab": {
          "base_uri": "https://localhost:8080/",
          "height": 178
        }
      },
      "source": [
        "# first install: pip install version_information\n",
        "%reload_ext version_information\n",
        "%version_information pandas,dynet,numpy"
      ],
      "execution_count": 12,
      "outputs": [
        {
          "output_type": "execute_result",
          "data": {
            "text/latex": "\\begin{tabular}{|l|l|}\\hline\n{\\bf Software} & {\\bf Version} \\\\ \\hline\\hline\nPython & 3.6.8 64bit [GCC 8.3.0] \\\\ \\hline\nIPython & 5.5.0 \\\\ \\hline\nOS & Linux 4.14.137+ x86\\_64 with Ubuntu 18.04 bionic \\\\ \\hline\npandas & 0.25.3 \\\\ \\hline\ndynet & 2.0.3 \\\\ \\hline\nnumpy & 1.17.3 \\\\ \\hline\n\\hline \\multicolumn{2}{|l|}{Mon Nov 11 16:03:36 2019 UTC} \\\\ \\hline\n\\end{tabular}\n",
            "application/json": {
              "Software versions": [
                {
                  "version": "3.6.8 64bit [GCC 8.3.0]",
                  "module": "Python"
                },
                {
                  "version": "5.5.0",
                  "module": "IPython"
                },
                {
                  "version": "Linux 4.14.137+ x86_64 with Ubuntu 18.04 bionic",
                  "module": "OS"
                },
                {
                  "version": "0.25.3",
                  "module": "pandas"
                },
                {
                  "version": "2.0.3",
                  "module": "dynet"
                },
                {
                  "version": "1.17.3",
                  "module": "numpy"
                }
              ]
            },
            "text/html": [
              "<table><tr><th>Software</th><th>Version</th></tr><tr><td>Python</td><td>3.6.8 64bit [GCC 8.3.0]</td></tr><tr><td>IPython</td><td>5.5.0</td></tr><tr><td>OS</td><td>Linux 4.14.137+ x86_64 with Ubuntu 18.04 bionic</td></tr><tr><td>pandas</td><td>0.25.3</td></tr><tr><td>dynet</td><td>2.0.3</td></tr><tr><td>numpy</td><td>1.17.3</td></tr><tr><td colspan='2'>Mon Nov 11 16:03:36 2019 UTC</td></tr></table>"
            ],
            "text/plain": [
              "Software versions\n",
              "Python 3.6.8 64bit [GCC 8.3.0]\n",
              "IPython 5.5.0\n",
              "OS Linux 4.14.137+ x86_64 with Ubuntu 18.04 bionic\n",
              "pandas 0.25.3\n",
              "dynet 2.0.3\n",
              "numpy 1.17.3\n",
              "Mon Nov 11 16:03:36 2019 UTC"
            ]
          },
          "metadata": {
            "tags": []
          },
          "execution_count": 12
        }
      ]
    },
    {
      "cell_type": "markdown",
      "metadata": {
        "id": "rTa40YTaxRXk",
        "colab_type": "text"
      },
      "source": [
        "# 2)- Loading Data"
      ]
    },
    {
      "cell_type": "code",
      "metadata": {
        "id": "MO2kSQmrMuQX",
        "colab_type": "code",
        "outputId": "bad23052-d7e0-4427-81f7-7c3610812927",
        "colab": {
          "base_uri": "https://localhost:8080/",
          "height": 34
        }
      },
      "source": [
        "df_train = pd.read_fwf('train.txt', sep='|||', names=['sentiment','sep','text','NaN'])\n",
        "df_train.shape"
      ],
      "execution_count": 15,
      "outputs": [
        {
          "output_type": "execute_result",
          "data": {
            "text/plain": [
              "(8544, 4)"
            ]
          },
          "metadata": {
            "tags": []
          },
          "execution_count": 15
        }
      ]
    },
    {
      "cell_type": "code",
      "metadata": {
        "id": "W_oK4ZiVMuYI",
        "colab_type": "code",
        "colab": {
          "base_uri": "https://localhost:8080/",
          "height": 195
        },
        "outputId": "817ac840-1667-4af9-f3de-6c3cdcc9e9a1"
      },
      "source": [
        "df_train.head()"
      ],
      "execution_count": 16,
      "outputs": [
        {
          "output_type": "execute_result",
          "data": {
            "text/html": [
              "<div>\n",
              "<style scoped>\n",
              "    .dataframe tbody tr th:only-of-type {\n",
              "        vertical-align: middle;\n",
              "    }\n",
              "\n",
              "    .dataframe tbody tr th {\n",
              "        vertical-align: top;\n",
              "    }\n",
              "\n",
              "    .dataframe thead th {\n",
              "        text-align: right;\n",
              "    }\n",
              "</style>\n",
              "<table border=\"1\" class=\"dataframe\">\n",
              "  <thead>\n",
              "    <tr style=\"text-align: right;\">\n",
              "      <th></th>\n",
              "      <th>sentiment</th>\n",
              "      <th>sep</th>\n",
              "      <th>text</th>\n",
              "      <th>NaN</th>\n",
              "    </tr>\n",
              "  </thead>\n",
              "  <tbody>\n",
              "    <tr>\n",
              "      <th>0</th>\n",
              "      <td>3</td>\n",
              "      <td>|||</td>\n",
              "      <td>The Rock is destined to be the 21st Century 's...</td>\n",
              "      <td>NaN</td>\n",
              "    </tr>\n",
              "    <tr>\n",
              "      <th>1</th>\n",
              "      <td>4</td>\n",
              "      <td>|||</td>\n",
              "      <td>The gorgeously elaborate continuation of `` Th...</td>\n",
              "      <td>NaN</td>\n",
              "    </tr>\n",
              "    <tr>\n",
              "      <th>2</th>\n",
              "      <td>3</td>\n",
              "      <td>|||</td>\n",
              "      <td>Singer\\/composer Bryan Adams contributes a sle...</td>\n",
              "      <td>NaN</td>\n",
              "    </tr>\n",
              "    <tr>\n",
              "      <th>3</th>\n",
              "      <td>2</td>\n",
              "      <td>|||</td>\n",
              "      <td>You 'd think by now America would have had eno...</td>\n",
              "      <td>NaN</td>\n",
              "    </tr>\n",
              "    <tr>\n",
              "      <th>4</th>\n",
              "      <td>3</td>\n",
              "      <td>|||</td>\n",
              "      <td>Yet the act is still charming here .</td>\n",
              "      <td>NaN</td>\n",
              "    </tr>\n",
              "  </tbody>\n",
              "</table>\n",
              "</div>"
            ],
            "text/plain": [
              "   sentiment  sep                                               text  NaN\n",
              "0          3  |||  The Rock is destined to be the 21st Century 's...  NaN\n",
              "1          4  |||  The gorgeously elaborate continuation of `` Th...  NaN\n",
              "2          3  |||  Singer\\/composer Bryan Adams contributes a sle...  NaN\n",
              "3          2  |||  You 'd think by now America would have had eno...  NaN\n",
              "4          3  |||               Yet the act is still charming here .  NaN"
            ]
          },
          "metadata": {
            "tags": []
          },
          "execution_count": 16
        }
      ]
    },
    {
      "cell_type": "code",
      "metadata": {
        "id": "XBVvY97yMucw",
        "colab_type": "code",
        "colab": {
          "base_uri": "https://localhost:8080/",
          "height": 118
        },
        "outputId": "c202563b-e261-409f-9fa5-4fe46ea860ad"
      },
      "source": [
        "df_train.sentiment.value_counts()"
      ],
      "execution_count": 17,
      "outputs": [
        {
          "output_type": "execute_result",
          "data": {
            "text/plain": [
              "3    2322\n",
              "1    2218\n",
              "2    1624\n",
              "4    1288\n",
              "0    1092\n",
              "Name: sentiment, dtype: int64"
            ]
          },
          "metadata": {
            "tags": []
          },
          "execution_count": 17
        }
      ]
    },
    {
      "cell_type": "code",
      "metadata": {
        "id": "1b2eqfPeNYGr",
        "colab_type": "code",
        "colab": {
          "base_uri": "https://localhost:8080/",
          "height": 279
        },
        "outputId": "6c64fec4-be13-494a-f8bc-f61188bea49c"
      },
      "source": [
        "df_train.sentiment.value_counts().plot(kind='bar')"
      ],
      "execution_count": 18,
      "outputs": [
        {
          "output_type": "execute_result",
          "data": {
            "text/plain": [
              "<matplotlib.axes._subplots.AxesSubplot at 0x7f23e225cdd8>"
            ]
          },
          "metadata": {
            "tags": []
          },
          "execution_count": 18
        },
        {
          "output_type": "display_data",
          "data": {
            "image/png": "[encoded data removed]",
            "text/plain": [
              "<Figure size 432x288 with 1 Axes>"
            ]
          },
          "metadata": {
            "tags": []
          }
        }
      ]
    },
    {
      "cell_type": "markdown",
      "metadata": {
        "id": "MwirF9WxNbAY",
        "colab_type": "text"
      },
      "source": [
        "### loading data using traditional format\n",
        "using open()"
      ]
    },
    {
      "cell_type": "code",
      "metadata": {
        "id": "XguR09WKw5uo",
        "colab_type": "code",
        "colab": {}
      },
      "source": [
        "# Functions to read in the corpus\n",
        "w2i = defaultdict(lambda: len(w2i))\n",
        "t2i = defaultdict(lambda: len(t2i))\n",
        "UNK = w2i[\"<unk>\"]\n",
        "def read_dataset(filename):\n",
        "  with open(filename, \"r\") as f:\n",
        "    for line in f:\n",
        "      tag, words = line.lower().strip().split(\" ||| \")\n",
        "      yield ([w2i[x] for x in words.split(\" \")], t2i[tag])"
      ],
      "execution_count": 0,
      "outputs": []
    },
    {
      "cell_type": "code",
      "metadata": {
        "id": "FIeUL6YSw5us",
        "colab_type": "code",
        "colab": {}
      },
      "source": [
        "# Read in the data\n",
        "train = list(read_dataset(\"train.txt\"))\n",
        "w2i = defaultdict(lambda: UNK, w2i)\n",
        "dev = list(read_dataset(\"test.txt\"))"
      ],
      "execution_count": 0,
      "outputs": []
    },
    {
      "cell_type": "code",
      "metadata": {
        "id": "JHhdGGgOyMqs",
        "colab_type": "code",
        "outputId": "24aca547-3a62-4cd0-abbf-994df14427b2",
        "colab": {
          "base_uri": "https://localhost:8080/",
          "height": 50
        }
      },
      "source": [
        "print(len(w2i))\n",
        "print(len(dev))"
      ],
      "execution_count": 21,
      "outputs": [
        {
          "output_type": "stream",
          "text": [
            "18648\n",
            "2210\n"
          ],
          "name": "stdout"
        }
      ]
    },
    {
      "cell_type": "code",
      "metadata": {
        "id": "6imEBuKaxZxb",
        "colab_type": "code",
        "colab": {}
      },
      "source": [
        "nwords = len(w2i)\n",
        "ntags = len(t2i)"
      ],
      "execution_count": 0,
      "outputs": []
    },
    {
      "cell_type": "code",
      "metadata": {
        "id": "8uK91esbw5uv",
        "colab_type": "code",
        "outputId": "5af6f8f6-ff10-41cb-c2d7-a559416489a7",
        "colab": {
          "base_uri": "https://localhost:8080/",
          "height": 34
        }
      },
      "source": [
        "train[0][1]"
      ],
      "execution_count": 23,
      "outputs": [
        {
          "output_type": "execute_result",
          "data": {
            "text/plain": [
              "0"
            ]
          },
          "metadata": {
            "tags": []
          },
          "execution_count": 23
        }
      ]
    },
    {
      "cell_type": "code",
      "metadata": {
        "id": "MGroI8b4w5uy",
        "colab_type": "code",
        "colab": {}
      },
      "source": [
        "# Start DyNet and define trainer\n",
        "model = dy.ParameterCollection()\n",
        "trainer = dy.AdamTrainer(model)"
      ],
      "execution_count": 0,
      "outputs": []
    },
    {
      "cell_type": "markdown",
      "metadata": {
        "id": "bFL2bEke1g8K",
        "colab_type": "text"
      },
      "source": [
        "# 3)- Define Model\n",
        "\n",
        "Using embedding+layer"
      ]
    },
    {
      "cell_type": "code",
      "metadata": {
        "id": "ZU14n8zgw5u1",
        "colab_type": "code",
        "colab": {}
      },
      "source": [
        "EMB_SIZE = 64\n",
        "HID_SIZE = 64\n",
        "HID_LAY = 2\n",
        "W_emb = model.add_lookup_parameters((nwords, EMB_SIZE)) # Word embeddings\n",
        "W_h = [model.add_parameters((HID_SIZE, EMB_SIZE if lay == 0 else HID_SIZE)) for lay in range(HID_LAY)]\n",
        "b_h = [model.add_parameters((HID_SIZE)) for lay in range(HID_LAY)]\n",
        "W_sm = model.add_parameters((ntags, HID_SIZE))          # Softmax weights\n",
        "b_sm = model.add_parameters((ntags))                      # Softmax bias"
      ],
      "execution_count": 0,
      "outputs": []
    },
    {
      "cell_type": "code",
      "metadata": {
        "id": "3B5K7C0gw5u5",
        "colab_type": "code",
        "colab": {}
      },
      "source": [
        "# A function to calculate scores for one value\n",
        "def calc_scores(words):\n",
        "  dy.renew_cg()\n",
        "  h = dy.esum([dy.lookup(W_emb, x) for x in words])\n",
        "  for W_h_i, b_h_i in zip(W_h, b_h):\n",
        "    h = dy.tanh( W_h_i * h + b_h_i )\n",
        "  return W_sm * h + b_sm"
      ],
      "execution_count": 0,
      "outputs": []
    },
    {
      "cell_type": "markdown",
      "metadata": {
        "id": "KdzRsP_XywvD",
        "colab_type": "text"
      },
      "source": [
        "# 4)- Train the Model"
      ]
    },
    {
      "cell_type": "code",
      "metadata": {
        "scrolled": false,
        "id": "kiDfLwG9w5u7",
        "colab_type": "code",
        "outputId": "cde75913-e230-4433-b9dc-4b0838c10050",
        "colab": {
          "base_uri": "https://localhost:8080/",
          "height": 1000
        }
      },
      "source": [
        "for ITER in range(100):\n",
        "  # Perform training\n",
        "  random.shuffle(train)\n",
        "  train_loss = 0.0\n",
        "  start = time.time()\n",
        "  for words, tag in train:\n",
        "    my_loss = dy.pickneglogsoftmax(calc_scores(words), tag)\n",
        "    train_loss += my_loss.value()\n",
        "    my_loss.backward()\n",
        "    trainer.update()\n",
        "  print(\"iter %r: train loss/sent=%.4f, time=%.2fs\" % (ITER, train_loss/len(train), time.time()-start))\n",
        "  # Perform training\n",
        "  test_correct = 0.0\n",
        "  for words, tag in dev:\n",
        "    scores = calc_scores(words).npvalue()\n",
        "    predict = np.argmax(scores)\n",
        "    if predict == tag:\n",
        "      test_correct += 1\n",
        "  print(\"iter %r: test acc=%.4f\" % (ITER, test_correct/len(dev)))"
      ],
      "execution_count": 27,
      "outputs": [
        {
          "output_type": "stream",
          "text": [
            "iter 0: train loss/sent=1.5105, time=0.54s\n",
            "iter 0: test acc=0.3796\n",
            "iter 1: train loss/sent=1.1805, time=0.53s\n",
            "iter 1: test acc=0.4217\n",
            "iter 2: train loss/sent=0.8881, time=0.51s\n",
            "iter 2: test acc=0.4199\n",
            "iter 3: train loss/sent=0.6228, time=0.51s\n",
            "iter 3: test acc=0.3968\n",
            "iter 4: train loss/sent=0.4246, time=0.52s\n",
            "iter 4: test acc=0.3864\n",
            "iter 5: train loss/sent=0.2958, time=0.52s\n",
            "iter 5: test acc=0.3814\n",
            "iter 6: train loss/sent=0.2127, time=0.51s\n",
            "iter 6: test acc=0.3855\n",
            "iter 7: train loss/sent=0.1676, time=0.53s\n",
            "iter 7: test acc=0.3828\n",
            "iter 8: train loss/sent=0.1308, time=0.51s\n",
            "iter 8: test acc=0.3747\n",
            "iter 9: train loss/sent=0.1032, time=0.51s\n",
            "iter 9: test acc=0.3914\n",
            "iter 10: train loss/sent=0.0810, time=0.51s\n",
            "iter 10: test acc=0.3864\n",
            "iter 11: train loss/sent=0.0792, time=0.52s\n",
            "iter 11: test acc=0.3860\n",
            "iter 12: train loss/sent=0.0780, time=0.50s\n",
            "iter 12: test acc=0.3919\n",
            "iter 13: train loss/sent=0.0573, time=0.53s\n",
            "iter 13: test acc=0.4023\n",
            "iter 14: train loss/sent=0.0609, time=0.50s\n",
            "iter 14: test acc=0.3801\n",
            "iter 15: train loss/sent=0.0585, time=0.51s\n",
            "iter 15: test acc=0.3729\n",
            "iter 16: train loss/sent=0.0488, time=0.51s\n",
            "iter 16: test acc=0.3810\n",
            "iter 17: train loss/sent=0.0512, time=0.53s\n",
            "iter 17: test acc=0.3805\n",
            "iter 18: train loss/sent=0.0410, time=0.51s\n",
            "iter 18: test acc=0.3760\n",
            "iter 19: train loss/sent=0.0488, time=0.51s\n",
            "iter 19: test acc=0.3729\n",
            "iter 20: train loss/sent=0.0385, time=0.51s\n",
            "iter 20: test acc=0.3683\n",
            "iter 21: train loss/sent=0.0427, time=0.50s\n",
            "iter 21: test acc=0.3629\n",
            "iter 22: train loss/sent=0.0463, time=0.50s\n",
            "iter 22: test acc=0.3719\n",
            "iter 23: train loss/sent=0.0463, time=0.52s\n",
            "iter 23: test acc=0.3652\n",
            "iter 24: train loss/sent=0.0416, time=0.50s\n",
            "iter 24: test acc=0.3756\n",
            "iter 25: train loss/sent=0.0308, time=0.51s\n",
            "iter 25: test acc=0.3701\n",
            "iter 26: train loss/sent=0.0501, time=0.50s\n",
            "iter 26: test acc=0.3769\n",
            "iter 27: train loss/sent=0.0354, time=0.53s\n",
            "iter 27: test acc=0.3715\n",
            "iter 28: train loss/sent=0.0352, time=0.51s\n",
            "iter 28: test acc=0.3706\n",
            "iter 29: train loss/sent=0.0403, time=0.51s\n",
            "iter 29: test acc=0.3837\n",
            "iter 30: train loss/sent=0.0321, time=0.51s\n",
            "iter 30: test acc=0.3751\n",
            "iter 31: train loss/sent=0.0435, time=0.50s\n",
            "iter 31: test acc=0.3801\n",
            "iter 32: train loss/sent=0.0334, time=0.51s\n",
            "iter 32: test acc=0.3810\n",
            "iter 33: train loss/sent=0.0382, time=0.51s\n",
            "iter 33: test acc=0.3756\n",
            "iter 34: train loss/sent=0.0351, time=0.52s\n",
            "iter 34: test acc=0.3520\n",
            "iter 35: train loss/sent=0.0332, time=0.50s\n",
            "iter 35: test acc=0.3851\n",
            "iter 36: train loss/sent=0.0352, time=0.52s\n",
            "iter 36: test acc=0.3964\n",
            "iter 37: train loss/sent=0.0286, time=0.51s\n",
            "iter 37: test acc=0.3760\n",
            "iter 38: train loss/sent=0.0337, time=0.50s\n",
            "iter 38: test acc=0.3851\n",
            "iter 39: train loss/sent=0.0231, time=0.51s\n",
            "iter 39: test acc=0.3792\n",
            "iter 40: train loss/sent=0.0284, time=0.50s\n",
            "iter 40: test acc=0.3588\n",
            "iter 41: train loss/sent=0.0302, time=0.51s\n",
            "iter 41: test acc=0.3656\n",
            "iter 42: train loss/sent=0.0327, time=0.50s\n",
            "iter 42: test acc=0.3783\n",
            "iter 43: train loss/sent=0.0292, time=0.52s\n",
            "iter 43: test acc=0.3534\n",
            "iter 44: train loss/sent=0.0319, time=0.51s\n",
            "iter 44: test acc=0.3624\n",
            "iter 45: train loss/sent=0.0328, time=0.51s\n",
            "iter 45: test acc=0.3814\n",
            "iter 46: train loss/sent=0.0323, time=0.51s\n",
            "iter 46: test acc=0.3792\n",
            "iter 47: train loss/sent=0.0357, time=0.50s\n",
            "iter 47: test acc=0.3873\n",
            "iter 48: train loss/sent=0.0406, time=0.52s\n",
            "iter 48: test acc=0.3724\n",
            "iter 49: train loss/sent=0.0244, time=0.51s\n",
            "iter 49: test acc=0.3647\n",
            "iter 50: train loss/sent=0.0365, time=0.53s\n",
            "iter 50: test acc=0.3891\n",
            "iter 51: train loss/sent=0.0383, time=0.50s\n",
            "iter 51: test acc=0.3842\n",
            "iter 52: train loss/sent=0.0250, time=0.51s\n",
            "iter 52: test acc=0.3665\n",
            "iter 53: train loss/sent=0.0283, time=0.52s\n",
            "iter 53: test acc=0.3783\n",
            "iter 54: train loss/sent=0.0333, time=0.50s\n",
            "iter 54: test acc=0.3710\n",
            "iter 55: train loss/sent=0.0247, time=0.51s\n",
            "iter 55: test acc=0.3873\n",
            "iter 56: train loss/sent=0.0275, time=0.50s\n",
            "iter 56: test acc=0.3606\n",
            "iter 57: train loss/sent=0.0358, time=0.51s\n",
            "iter 57: test acc=0.3824\n",
            "iter 58: train loss/sent=0.0264, time=0.51s\n",
            "iter 58: test acc=0.3919\n",
            "iter 59: train loss/sent=0.0326, time=0.51s\n",
            "iter 59: test acc=0.3792\n",
            "iter 60: train loss/sent=0.0307, time=0.50s\n",
            "iter 60: test acc=0.3715\n",
            "iter 61: train loss/sent=0.0320, time=0.51s\n",
            "iter 61: test acc=0.3706\n",
            "iter 62: train loss/sent=0.0337, time=0.51s\n",
            "iter 62: test acc=0.3661\n",
            "iter 63: train loss/sent=0.0300, time=0.51s\n",
            "iter 63: test acc=0.3738\n",
            "iter 64: train loss/sent=0.0222, time=0.51s\n",
            "iter 64: test acc=0.3769\n",
            "iter 65: train loss/sent=0.0260, time=0.50s\n",
            "iter 65: test acc=0.3787\n",
            "iter 66: train loss/sent=0.0309, time=0.51s\n",
            "iter 66: test acc=0.3783\n",
            "iter 67: train loss/sent=0.0346, time=0.50s\n",
            "iter 67: test acc=0.3828\n",
            "iter 68: train loss/sent=0.0220, time=0.51s\n",
            "iter 68: test acc=0.3756\n",
            "iter 69: train loss/sent=0.0231, time=0.52s\n",
            "iter 69: test acc=0.3692\n",
            "iter 70: train loss/sent=0.0246, time=0.50s\n",
            "iter 70: test acc=0.3688\n",
            "iter 71: train loss/sent=0.0332, time=0.51s\n",
            "iter 71: test acc=0.3624\n",
            "iter 72: train loss/sent=0.0237, time=0.51s\n",
            "iter 72: test acc=0.3774\n",
            "iter 73: train loss/sent=0.0212, time=0.50s\n",
            "iter 73: test acc=0.3706\n",
            "iter 74: train loss/sent=0.0340, time=0.51s\n",
            "iter 74: test acc=0.3787\n",
            "iter 75: train loss/sent=0.0209, time=0.50s\n",
            "iter 75: test acc=0.3774\n",
            "iter 76: train loss/sent=0.0283, time=0.51s\n",
            "iter 76: test acc=0.3661\n",
            "iter 77: train loss/sent=0.0287, time=0.50s\n",
            "iter 77: test acc=0.3638\n",
            "iter 78: train loss/sent=0.0347, time=0.51s\n",
            "iter 78: test acc=0.3724\n",
            "iter 79: train loss/sent=0.0249, time=0.50s\n",
            "iter 79: test acc=0.3706\n",
            "iter 80: train loss/sent=0.0276, time=0.52s\n",
            "iter 80: test acc=0.3701\n",
            "iter 81: train loss/sent=0.0239, time=0.50s\n",
            "iter 81: test acc=0.3715\n",
            "iter 82: train loss/sent=0.0269, time=0.51s\n",
            "iter 82: test acc=0.3828\n",
            "iter 83: train loss/sent=0.0229, time=0.50s\n",
            "iter 83: test acc=0.3810\n",
            "iter 84: train loss/sent=0.0295, time=0.50s\n",
            "iter 84: test acc=0.3819\n",
            "iter 85: train loss/sent=0.0234, time=0.52s\n",
            "iter 85: test acc=0.3624\n",
            "iter 86: train loss/sent=0.0134, time=0.51s\n",
            "iter 86: test acc=0.3756\n",
            "iter 87: train loss/sent=0.0289, time=0.51s\n",
            "iter 87: test acc=0.3747\n",
            "iter 88: train loss/sent=0.0296, time=0.51s\n",
            "iter 88: test acc=0.3810\n",
            "iter 89: train loss/sent=0.0236, time=0.52s\n",
            "iter 89: test acc=0.3661\n",
            "iter 90: train loss/sent=0.0178, time=0.56s\n",
            "iter 90: test acc=0.3792\n",
            "iter 91: train loss/sent=0.0207, time=0.52s\n",
            "iter 91: test acc=0.3851\n",
            "iter 92: train loss/sent=0.0196, time=0.51s\n",
            "iter 92: test acc=0.3688\n",
            "iter 93: train loss/sent=0.0185, time=0.52s\n",
            "iter 93: test acc=0.3629\n",
            "iter 94: train loss/sent=0.0207, time=0.53s\n",
            "iter 94: test acc=0.3819\n",
            "iter 95: train loss/sent=0.0229, time=0.51s\n",
            "iter 95: test acc=0.3860\n",
            "iter 96: train loss/sent=0.0232, time=0.53s\n",
            "iter 96: test acc=0.3706\n",
            "iter 97: train loss/sent=0.0284, time=0.51s\n",
            "iter 97: test acc=0.3778\n",
            "iter 98: train loss/sent=0.0294, time=0.54s\n",
            "iter 98: test acc=0.3805\n",
            "iter 99: train loss/sent=0.0221, time=0.52s\n",
            "iter 99: test acc=0.3950\n"
          ],
          "name": "stdout"
        }
      ]
    }
  ]
}