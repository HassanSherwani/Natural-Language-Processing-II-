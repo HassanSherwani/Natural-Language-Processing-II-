{
  "nbformat": 4,
  "nbformat_minor": 0,
  "metadata": {
    "anaconda-cloud": {},
    "kernelspec": {
      "name": "python3",
      "display_name": "Python 3"
    },
    "language_info": {
      "codemirror_mode": {
        "name": "ipython",
        "version": 3
      },
      "file_extension": ".py",
      "mimetype": "text/x-python",
      "name": "python",
      "nbconvert_exporter": "python",
      "pygments_lexer": "ipython3",
      "version": "3.6.0"
    },
    "colab": {
      "name": "Deep_bow.ipynb",
      "provenance": []
    },
    "accelerator": "GPU"
  },
  "cells": [
    {
      "cell_type": "markdown",
      "metadata": {
        "id": "RFBOqODHw6mV",
        "colab_type": "text"
      },
      "source": [
        "# 1)-Importing key Modules\n",
        "\n"
      ]
    },
    {
      "cell_type": "code",
      "metadata": {
        "id": "n9CuXeO1xlV1",
        "colab_type": "code",
        "colab": {}
      },
      "source": [
        "#support both Python 2 and Python 3 with minimal overhead.\n",
        "from __future__ import absolute_import, division, print_function\n",
        "\n",
        "# I am an engineer. I care only about error not warning. So, let's be maverick and ignore warnings.\n",
        "import warnings\n",
        "warnings.filterwarnings('ignore')"
      ],
      "execution_count": 0,
      "outputs": []
    },
    {
      "cell_type": "code",
      "metadata": {
        "id": "0WRoiH9wxGPL",
        "colab_type": "code",
        "outputId": "04188fe9-1283-4134-bdb2-bce55182e2c7",
        "colab": {
          "base_uri": "https://localhost:8080/",
          "height": 134
        }
      },
      "source": [
        "! pip install dynet"
      ],
      "execution_count": 2,
      "outputs": [
        {
          "output_type": "stream",
          "text": [
            "Collecting dynet\n",
            "\u001b[?25l  Downloading https://files.pythonhosted.org/packages/88/f0/01a561a301a8ea9aea1c28f82e108c38cd103964c7a46286ab01757a4092/dyNET-2.1-cp36-cp36m-manylinux1_x86_64.whl (28.1MB)\n",
            "\u001b[K     |████████████████████████████████| 28.1MB 53.2MB/s \n",
            "\u001b[?25hRequirement already satisfied: cython in /usr/local/lib/python3.6/dist-packages (from dynet) (0.29.13)\n",
            "Requirement already satisfied: numpy in /usr/local/lib/python3.6/dist-packages (from dynet) (1.17.3)\n",
            "Installing collected packages: dynet\n",
            "Successfully installed dynet-2.1\n"
          ],
          "name": "stdout"
        }
      ]
    },
    {
      "cell_type": "code",
      "metadata": {
        "id": "OiA4L15Iw7kb",
        "colab_type": "code",
        "colab": {}
      },
      "source": [
        "from collections import defaultdict\n",
        "import time\n",
        "import random\n",
        "import dynet as dy\n",
        "import numpy as np"
      ],
      "execution_count": 0,
      "outputs": []
    },
    {
      "cell_type": "code",
      "metadata": {
        "id": "XcCkkT0mx2Yc",
        "colab_type": "code",
        "outputId": "d23cb6a9-f862-45a4-dd2f-6ab29ecda8d6",
        "colab": {
          "base_uri": "https://localhost:8080/",
          "height": 168
        }
      },
      "source": [
        "! pip install version_information"
      ],
      "execution_count": 4,
      "outputs": [
        {
          "output_type": "stream",
          "text": [
            "Collecting version_information\n",
            "  Downloading https://files.pythonhosted.org/packages/ff/b0/6088e15b9ac43a08ccd300d68e0b900a20cf62077596c11ad11dd8cc9e4b/version_information-1.0.3.tar.gz\n",
            "Building wheels for collected packages: version-information\n",
            "  Building wheel for version-information (setup.py) ... \u001b[?25l\u001b[?25hdone\n",
            "  Created wheel for version-information: filename=version_information-1.0.3-cp36-none-any.whl size=3880 sha256=36edc0e3ef4e21017c307f1558886f3fe0f02315ef320bd2e60428c0f683cd47\n",
            "  Stored in directory: /root/.cache/pip/wheels/1f/4c/b3/1976ac11dbd802723b564de1acaa453a72c36c95827e576321\n",
            "Successfully built version-information\n",
            "Installing collected packages: version-information\n",
            "Successfully installed version-information-1.0.3\n"
          ],
          "name": "stdout"
        }
      ]
    },
    {
      "cell_type": "code",
      "metadata": {
        "id": "z56btwC7x268",
        "colab_type": "code",
        "outputId": "bbd2e535-1226-4e81-f0f5-927b0fdd0726",
        "colab": {
          "base_uri": "https://localhost:8080/",
          "height": 178
        }
      },
      "source": [
        "# first install: pip install version_information\n",
        "%reload_ext version_information\n",
        "%version_information pandas,dynet,numpy"
      ],
      "execution_count": 5,
      "outputs": [
        {
          "output_type": "execute_result",
          "data": {
            "text/latex": "\\begin{tabular}{|l|l|}\\hline\n{\\bf Software} & {\\bf Version} \\\\ \\hline\\hline\nPython & 3.6.8 64bit [GCC 8.3.0] \\\\ \\hline\nIPython & 5.5.0 \\\\ \\hline\nOS & Linux 4.14.137+ x86\\_64 with Ubuntu 18.04 bionic \\\\ \\hline\npandas & 0.25.3 \\\\ \\hline\ndynet & 2.0.3 \\\\ \\hline\nnumpy & 1.17.3 \\\\ \\hline\n\\hline \\multicolumn{2}{|l|}{Thu Nov 07 22:01:01 2019 UTC} \\\\ \\hline\n\\end{tabular}\n",
            "application/json": {
              "Software versions": [
                {
                  "version": "3.6.8 64bit [GCC 8.3.0]",
                  "module": "Python"
                },
                {
                  "version": "5.5.0",
                  "module": "IPython"
                },
                {
                  "version": "Linux 4.14.137+ x86_64 with Ubuntu 18.04 bionic",
                  "module": "OS"
                },
                {
                  "version": "0.25.3",
                  "module": "pandas"
                },
                {
                  "version": "2.0.3",
                  "module": "dynet"
                },
                {
                  "version": "1.17.3",
                  "module": "numpy"
                }
              ]
            },
            "text/html": [
              "<table><tr><th>Software</th><th>Version</th></tr><tr><td>Python</td><td>3.6.8 64bit [GCC 8.3.0]</td></tr><tr><td>IPython</td><td>5.5.0</td></tr><tr><td>OS</td><td>Linux 4.14.137+ x86_64 with Ubuntu 18.04 bionic</td></tr><tr><td>pandas</td><td>0.25.3</td></tr><tr><td>dynet</td><td>2.0.3</td></tr><tr><td>numpy</td><td>1.17.3</td></tr><tr><td colspan='2'>Thu Nov 07 22:01:01 2019 UTC</td></tr></table>"
            ],
            "text/plain": [
              "Software versions\n",
              "Python 3.6.8 64bit [GCC 8.3.0]\n",
              "IPython 5.5.0\n",
              "OS Linux 4.14.137+ x86_64 with Ubuntu 18.04 bionic\n",
              "pandas 0.25.3\n",
              "dynet 2.0.3\n",
              "numpy 1.17.3\n",
              "Thu Nov 07 22:01:01 2019 UTC"
            ]
          },
          "metadata": {
            "tags": []
          },
          "execution_count": 5
        }
      ]
    },
    {
      "cell_type": "markdown",
      "metadata": {
        "id": "rTa40YTaxRXk",
        "colab_type": "text"
      },
      "source": [
        "# 2)- Loading Data"
      ]
    },
    {
      "cell_type": "code",
      "metadata": {
        "id": "XguR09WKw5uo",
        "colab_type": "code",
        "colab": {}
      },
      "source": [
        "# Functions to read in the corpus\n",
        "w2i = defaultdict(lambda: len(w2i))\n",
        "t2i = defaultdict(lambda: len(t2i))\n",
        "UNK = w2i[\"<unk>\"]\n",
        "def read_dataset(filename):\n",
        "  with open(filename, \"r\") as f:\n",
        "    for line in f:\n",
        "      tag, words = line.lower().strip().split(\" ||| \")\n",
        "      yield ([w2i[x] for x in words.split(\" \")], t2i[tag])"
      ],
      "execution_count": 0,
      "outputs": []
    },
    {
      "cell_type": "code",
      "metadata": {
        "id": "FIeUL6YSw5us",
        "colab_type": "code",
        "colab": {}
      },
      "source": [
        "# Read in the data\n",
        "train = list(read_dataset(\"train.txt\"))\n",
        "w2i = defaultdict(lambda: UNK, w2i)\n",
        "dev = list(read_dataset(\"test.txt\"))"
      ],
      "execution_count": 0,
      "outputs": []
    },
    {
      "cell_type": "code",
      "metadata": {
        "id": "JHhdGGgOyMqs",
        "colab_type": "code",
        "outputId": "4e402446-4e2d-41b4-ea54-139339598890",
        "colab": {
          "base_uri": "https://localhost:8080/",
          "height": 50
        }
      },
      "source": [
        "print(len(w2i))\n",
        "print(len(dev))"
      ],
      "execution_count": 8,
      "outputs": [
        {
          "output_type": "stream",
          "text": [
            "18648\n",
            "2210\n"
          ],
          "name": "stdout"
        }
      ]
    },
    {
      "cell_type": "code",
      "metadata": {
        "id": "6imEBuKaxZxb",
        "colab_type": "code",
        "colab": {}
      },
      "source": [
        "nwords = len(w2i)\n",
        "ntags = len(t2i)"
      ],
      "execution_count": 0,
      "outputs": []
    },
    {
      "cell_type": "code",
      "metadata": {
        "id": "8uK91esbw5uv",
        "colab_type": "code",
        "outputId": "f9ea2ff5-e7ba-475f-822c-707cc9c354f3",
        "colab": {
          "base_uri": "https://localhost:8080/",
          "height": 34
        }
      },
      "source": [
        "train[0][1]"
      ],
      "execution_count": 10,
      "outputs": [
        {
          "output_type": "execute_result",
          "data": {
            "text/plain": [
              "0"
            ]
          },
          "metadata": {
            "tags": []
          },
          "execution_count": 10
        }
      ]
    },
    {
      "cell_type": "code",
      "metadata": {
        "id": "MGroI8b4w5uy",
        "colab_type": "code",
        "colab": {}
      },
      "source": [
        "# Start DyNet and define trainer\n",
        "model = dy.ParameterCollection()\n",
        "trainer = dy.AdamTrainer(model)"
      ],
      "execution_count": 0,
      "outputs": []
    },
    {
      "cell_type": "markdown",
      "metadata": {
        "id": "bFL2bEke1g8K",
        "colab_type": "text"
      },
      "source": [
        "# 3)- Define Model\n",
        "\n",
        "Using embedding+layer"
      ]
    },
    {
      "cell_type": "code",
      "metadata": {
        "id": "ZU14n8zgw5u1",
        "colab_type": "code",
        "colab": {}
      },
      "source": [
        "EMB_SIZE = 64\n",
        "HID_SIZE = 64\n",
        "HID_LAY = 2\n",
        "W_emb = model.add_lookup_parameters((nwords, EMB_SIZE)) # Word embeddings\n",
        "W_h = [model.add_parameters((HID_SIZE, EMB_SIZE if lay == 0 else HID_SIZE)) for lay in range(HID_LAY)]\n",
        "b_h = [model.add_parameters((HID_SIZE)) for lay in range(HID_LAY)]\n",
        "W_sm = model.add_parameters((ntags, HID_SIZE))          # Softmax weights\n",
        "b_sm = model.add_parameters((ntags))                      # Softmax bias"
      ],
      "execution_count": 0,
      "outputs": []
    },
    {
      "cell_type": "code",
      "metadata": {
        "id": "3B5K7C0gw5u5",
        "colab_type": "code",
        "colab": {}
      },
      "source": [
        "# A function to calculate scores for one value\n",
        "def calc_scores(words):\n",
        "  dy.renew_cg()\n",
        "  h = dy.esum([dy.lookup(W_emb, x) for x in words])\n",
        "  for W_h_i, b_h_i in zip(W_h, b_h):\n",
        "    h = dy.tanh( W_h_i * h + b_h_i )\n",
        "  return W_sm * h + b_sm"
      ],
      "execution_count": 0,
      "outputs": []
    },
    {
      "cell_type": "markdown",
      "metadata": {
        "id": "KdzRsP_XywvD",
        "colab_type": "text"
      },
      "source": [
        "# 4)- Train the Model"
      ]
    },
    {
      "cell_type": "code",
      "metadata": {
        "scrolled": false,
        "id": "kiDfLwG9w5u7",
        "colab_type": "code",
        "outputId": "42cdeaa0-3258-4ee0-d08c-ff8e3db2914f",
        "colab": {
          "base_uri": "https://localhost:8080/",
          "height": 1000
        }
      },
      "source": [
        "for ITER in range(100):\n",
        "  # Perform training\n",
        "  random.shuffle(train)\n",
        "  train_loss = 0.0\n",
        "  start = time.time()\n",
        "  for words, tag in train:\n",
        "    my_loss = dy.pickneglogsoftmax(calc_scores(words), tag)\n",
        "    train_loss += my_loss.value()\n",
        "    my_loss.backward()\n",
        "    trainer.update()\n",
        "  print(\"iter %r: train loss/sent=%.4f, time=%.2fs\" % (ITER, train_loss/len(train), time.time()-start))\n",
        "  # Perform training\n",
        "  test_correct = 0.0\n",
        "  for words, tag in dev:\n",
        "    scores = calc_scores(words).npvalue()\n",
        "    predict = np.argmax(scores)\n",
        "    if predict == tag:\n",
        "      test_correct += 1\n",
        "  print(\"iter %r: test acc=%.4f\" % (ITER, test_correct/len(dev)))"
      ],
      "execution_count": 14,
      "outputs": [
        {
          "output_type": "stream",
          "text": [
            "iter 0: train loss/sent=1.5136, time=0.61s\n",
            "iter 0: test acc=0.4032\n",
            "iter 1: train loss/sent=1.1745, time=0.58s\n",
            "iter 1: test acc=0.4109\n",
            "iter 2: train loss/sent=0.8996, time=0.58s\n",
            "iter 2: test acc=0.4181\n",
            "iter 3: train loss/sent=0.6380, time=0.58s\n",
            "iter 3: test acc=0.3919\n",
            "iter 4: train loss/sent=0.4474, time=0.58s\n",
            "iter 4: test acc=0.3959\n",
            "iter 5: train loss/sent=0.3231, time=0.60s\n",
            "iter 5: test acc=0.3887\n",
            "iter 6: train loss/sent=0.2327, time=0.58s\n",
            "iter 6: test acc=0.3991\n",
            "iter 7: train loss/sent=0.1795, time=0.59s\n",
            "iter 7: test acc=0.3842\n",
            "iter 8: train loss/sent=0.1452, time=0.57s\n",
            "iter 8: test acc=0.3869\n",
            "iter 9: train loss/sent=0.1109, time=0.58s\n",
            "iter 9: test acc=0.3910\n",
            "iter 10: train loss/sent=0.0890, time=0.58s\n",
            "iter 10: test acc=0.3710\n",
            "iter 11: train loss/sent=0.0842, time=0.61s\n",
            "iter 11: test acc=0.3846\n",
            "iter 12: train loss/sent=0.0737, time=0.59s\n",
            "iter 12: test acc=0.3706\n",
            "iter 13: train loss/sent=0.0607, time=0.59s\n",
            "iter 13: test acc=0.3787\n",
            "iter 14: train loss/sent=0.0649, time=0.58s\n",
            "iter 14: test acc=0.3864\n",
            "iter 15: train loss/sent=0.0489, time=0.57s\n",
            "iter 15: test acc=0.3932\n",
            "iter 16: train loss/sent=0.0456, time=0.56s\n",
            "iter 16: test acc=0.3783\n",
            "iter 17: train loss/sent=0.0525, time=0.58s\n",
            "iter 17: test acc=0.3643\n",
            "iter 18: train loss/sent=0.0485, time=0.57s\n",
            "iter 18: test acc=0.3602\n",
            "iter 19: train loss/sent=0.0408, time=0.56s\n",
            "iter 19: test acc=0.3688\n",
            "iter 20: train loss/sent=0.0482, time=0.58s\n",
            "iter 20: test acc=0.3824\n",
            "iter 21: train loss/sent=0.0477, time=0.59s\n",
            "iter 21: test acc=0.3792\n",
            "iter 22: train loss/sent=0.0479, time=0.58s\n",
            "iter 22: test acc=0.3688\n",
            "iter 23: train loss/sent=0.0387, time=0.57s\n",
            "iter 23: test acc=0.3905\n",
            "iter 24: train loss/sent=0.0416, time=0.58s\n",
            "iter 24: test acc=0.3774\n",
            "iter 25: train loss/sent=0.0377, time=0.58s\n",
            "iter 25: test acc=0.3928\n",
            "iter 26: train loss/sent=0.0386, time=0.57s\n",
            "iter 26: test acc=0.3584\n",
            "iter 27: train loss/sent=0.0401, time=0.58s\n",
            "iter 27: test acc=0.3792\n",
            "iter 28: train loss/sent=0.0423, time=0.59s\n",
            "iter 28: test acc=0.3738\n",
            "iter 29: train loss/sent=0.0319, time=0.58s\n",
            "iter 29: test acc=0.3778\n",
            "iter 30: train loss/sent=0.0480, time=0.58s\n",
            "iter 30: test acc=0.3774\n",
            "iter 31: train loss/sent=0.0365, time=0.59s\n",
            "iter 31: test acc=0.3715\n",
            "iter 32: train loss/sent=0.0337, time=0.57s\n",
            "iter 32: test acc=0.3805\n",
            "iter 33: train loss/sent=0.0469, time=0.58s\n",
            "iter 33: test acc=0.3837\n",
            "iter 34: train loss/sent=0.0364, time=0.58s\n",
            "iter 34: test acc=0.3656\n",
            "iter 35: train loss/sent=0.0361, time=0.56s\n",
            "iter 35: test acc=0.3796\n",
            "iter 36: train loss/sent=0.0334, time=0.57s\n",
            "iter 36: test acc=0.3733\n",
            "iter 37: train loss/sent=0.0348, time=0.59s\n",
            "iter 37: test acc=0.3719\n",
            "iter 38: train loss/sent=0.0316, time=0.58s\n",
            "iter 38: test acc=0.3796\n",
            "iter 39: train loss/sent=0.0290, time=0.58s\n",
            "iter 39: test acc=0.3833\n",
            "iter 40: train loss/sent=0.0429, time=0.58s\n",
            "iter 40: test acc=0.3480\n",
            "iter 41: train loss/sent=0.0319, time=0.57s\n",
            "iter 41: test acc=0.3701\n",
            "iter 42: train loss/sent=0.0332, time=0.57s\n",
            "iter 42: test acc=0.3760\n",
            "iter 43: train loss/sent=0.0305, time=0.58s\n",
            "iter 43: test acc=0.3810\n",
            "iter 44: train loss/sent=0.0372, time=0.60s\n",
            "iter 44: test acc=0.3747\n",
            "iter 45: train loss/sent=0.0251, time=0.59s\n",
            "iter 45: test acc=0.3751\n",
            "iter 46: train loss/sent=0.0341, time=0.57s\n",
            "iter 46: test acc=0.3810\n",
            "iter 47: train loss/sent=0.0274, time=0.58s\n",
            "iter 47: test acc=0.3629\n",
            "iter 48: train loss/sent=0.0336, time=0.57s\n",
            "iter 48: test acc=0.3805\n",
            "iter 49: train loss/sent=0.0291, time=0.58s\n",
            "iter 49: test acc=0.3679\n",
            "iter 50: train loss/sent=0.0298, time=0.58s\n",
            "iter 50: test acc=0.3674\n",
            "iter 51: train loss/sent=0.0372, time=0.57s\n",
            "iter 51: test acc=0.3719\n",
            "iter 52: train loss/sent=0.0298, time=0.56s\n",
            "iter 52: test acc=0.3792\n",
            "iter 53: train loss/sent=0.0289, time=0.56s\n",
            "iter 53: test acc=0.3697\n",
            "iter 54: train loss/sent=0.0227, time=0.56s\n",
            "iter 54: test acc=0.3701\n",
            "iter 55: train loss/sent=0.0299, time=0.55s\n",
            "iter 55: test acc=0.3597\n",
            "iter 56: train loss/sent=0.0331, time=0.56s\n",
            "iter 56: test acc=0.3738\n",
            "iter 57: train loss/sent=0.0193, time=0.56s\n",
            "iter 57: test acc=0.3756\n",
            "iter 58: train loss/sent=0.0231, time=0.58s\n",
            "iter 58: test acc=0.3715\n",
            "iter 59: train loss/sent=0.0321, time=0.58s\n",
            "iter 59: test acc=0.3796\n",
            "iter 60: train loss/sent=0.0293, time=0.56s\n",
            "iter 60: test acc=0.3787\n",
            "iter 61: train loss/sent=0.0303, time=0.58s\n",
            "iter 61: test acc=0.3769\n",
            "iter 62: train loss/sent=0.0264, time=0.57s\n",
            "iter 62: test acc=0.3814\n",
            "iter 63: train loss/sent=0.0265, time=0.55s\n",
            "iter 63: test acc=0.3796\n",
            "iter 64: train loss/sent=0.0252, time=0.58s\n",
            "iter 64: test acc=0.3783\n",
            "iter 65: train loss/sent=0.0171, time=0.55s\n",
            "iter 65: test acc=0.3701\n",
            "iter 66: train loss/sent=0.0358, time=0.57s\n",
            "iter 66: test acc=0.3747\n",
            "iter 67: train loss/sent=0.0275, time=0.57s\n",
            "iter 67: test acc=0.3796\n",
            "iter 68: train loss/sent=0.0265, time=0.55s\n",
            "iter 68: test acc=0.3828\n",
            "iter 69: train loss/sent=0.0331, time=0.57s\n",
            "iter 69: test acc=0.3697\n",
            "iter 70: train loss/sent=0.0145, time=0.54s\n",
            "iter 70: test acc=0.3692\n",
            "iter 71: train loss/sent=0.0259, time=0.56s\n",
            "iter 71: test acc=0.3792\n",
            "iter 72: train loss/sent=0.0234, time=0.57s\n",
            "iter 72: test acc=0.3706\n",
            "iter 73: train loss/sent=0.0255, time=0.54s\n",
            "iter 73: test acc=0.3837\n",
            "iter 74: train loss/sent=0.0296, time=0.59s\n",
            "iter 74: test acc=0.3882\n",
            "iter 75: train loss/sent=0.0261, time=0.57s\n",
            "iter 75: test acc=0.3837\n",
            "iter 76: train loss/sent=0.0338, time=0.56s\n",
            "iter 76: test acc=0.3833\n",
            "iter 77: train loss/sent=0.0314, time=0.57s\n",
            "iter 77: test acc=0.3715\n",
            "iter 78: train loss/sent=0.0267, time=0.58s\n",
            "iter 78: test acc=0.3692\n",
            "iter 79: train loss/sent=0.0270, time=0.55s\n",
            "iter 79: test acc=0.3615\n",
            "iter 80: train loss/sent=0.0293, time=0.57s\n",
            "iter 80: test acc=0.3910\n",
            "iter 81: train loss/sent=0.0267, time=0.55s\n",
            "iter 81: test acc=0.3824\n",
            "iter 82: train loss/sent=0.0256, time=0.56s\n",
            "iter 82: test acc=0.3765\n",
            "iter 83: train loss/sent=0.0184, time=0.57s\n",
            "iter 83: test acc=0.3846\n",
            "iter 84: train loss/sent=0.0255, time=0.55s\n",
            "iter 84: test acc=0.3878\n",
            "iter 85: train loss/sent=0.0243, time=0.55s\n",
            "iter 85: test acc=0.3769\n",
            "iter 86: train loss/sent=0.0204, time=0.57s\n",
            "iter 86: test acc=0.3742\n",
            "iter 87: train loss/sent=0.0267, time=0.55s\n",
            "iter 87: test acc=0.3733\n",
            "iter 88: train loss/sent=0.0220, time=0.55s\n",
            "iter 88: test acc=0.3701\n",
            "iter 89: train loss/sent=0.0279, time=0.55s\n",
            "iter 89: test acc=0.3729\n",
            "iter 90: train loss/sent=0.0449, time=0.54s\n",
            "iter 90: test acc=0.3855\n",
            "iter 91: train loss/sent=0.0251, time=0.56s\n",
            "iter 91: test acc=0.3842\n",
            "iter 92: train loss/sent=0.0228, time=0.54s\n",
            "iter 92: test acc=0.3805\n",
            "iter 93: train loss/sent=0.0245, time=0.55s\n",
            "iter 93: test acc=0.3765\n",
            "iter 94: train loss/sent=0.0309, time=0.56s\n",
            "iter 94: test acc=0.3765\n",
            "iter 95: train loss/sent=0.0276, time=0.55s\n",
            "iter 95: test acc=0.3756\n",
            "iter 96: train loss/sent=0.0187, time=0.55s\n",
            "iter 96: test acc=0.3647\n",
            "iter 97: train loss/sent=0.0156, time=0.55s\n",
            "iter 97: test acc=0.3900\n",
            "iter 98: train loss/sent=0.0337, time=0.55s\n",
            "iter 98: test acc=0.3778\n",
            "iter 99: train loss/sent=0.0202, time=0.57s\n",
            "iter 99: test acc=0.3724\n"
          ],
          "name": "stdout"
        }
      ]
    },
    {
      "cell_type": "code",
      "metadata": {
        "id": "3kihQWoy40TH",
        "colab_type": "code",
        "colab": {}
      },
      "source": [
        ""
      ],
      "execution_count": 0,
      "outputs": []
    }
  ]
}