{
 "cells": [
  {
   "cell_type": "markdown",
   "metadata": {},
   "source": [
    "# Data Creation\n",
    "\n",
    "For future data labeling and also for data exploration"
   ]
  },
  {
   "cell_type": "code",
   "execution_count": 1,
   "metadata": {},
   "outputs": [],
   "source": [
    "# support both Python 2 and Python 3 with minimal overhead.\n",
    "from __future__ import absolute_import, division, print_function\n",
    "\n",
    "# I am an engineer. I care only about error not warning. So, let's be maverick and ignore warnings.\n",
    "import warnings\n",
    "warnings.filterwarnings('ignore')"
   ]
  },
  {
   "cell_type": "code",
   "execution_count": 2,
   "metadata": {},
   "outputs": [],
   "source": [
    "import numpy as np \n",
    "import pandas as pd "
   ]
  },
  {
   "cell_type": "code",
   "execution_count": 3,
   "metadata": {},
   "outputs": [
    {
     "data": {
      "text/plain": [
       "(1000, 12)"
      ]
     },
     "execution_count": 3,
     "metadata": {},
     "output_type": "execute_result"
    }
   ],
   "source": [
    "data=pd.read_excel('data1.xlsx')\n",
    "data.shape"
   ]
  },
  {
   "cell_type": "code",
   "execution_count": 4,
   "metadata": {},
   "outputs": [
    {
     "data": {
      "text/html": [
       "<div>\n",
       "<style scoped>\n",
       "    .dataframe tbody tr th:only-of-type {\n",
       "        vertical-align: middle;\n",
       "    }\n",
       "\n",
       "    .dataframe tbody tr th {\n",
       "        vertical-align: top;\n",
       "    }\n",
       "\n",
       "    .dataframe thead th {\n",
       "        text-align: right;\n",
       "    }\n",
       "</style>\n",
       "<table border=\"1\" class=\"dataframe\">\n",
       "  <thead>\n",
       "    <tr style=\"text-align: right;\">\n",
       "      <th></th>\n",
       "      <th>tickettype</th>\n",
       "      <th>ticketnumber</th>\n",
       "      <th>title</th>\n",
       "      <th>ticketstatus</th>\n",
       "      <th>createdon</th>\n",
       "      <th>language</th>\n",
       "      <th>dep</th>\n",
       "      <th>firstmessage</th>\n",
       "      <th>firstusedtextblock</th>\n",
       "      <th>firstmessageToCustomer</th>\n",
       "      <th>counter</th>\n",
       "      <th>counterwithdepartment</th>\n",
       "    </tr>\n",
       "  </thead>\n",
       "  <tbody>\n",
       "    <tr>\n",
       "      <th>0</th>\n",
       "      <td>04D2D9FA-EF85-E911-A83F-005056B47E52</td>\n",
       "      <td>USSD200027656</td>\n",
       "      <td>Re: Thank you for your order 802006062223358 a...</td>\n",
       "      <td>7</td>\n",
       "      <td>2020-06-06 22:53:18</td>\n",
       "      <td>English (GB)</td>\n",
       "      <td>Shipping issues</td>\n",
       "      <td>Hello:&lt;br&gt;&lt;br&gt;I tried to apply a voucher to th...</td>\n",
       "      <td>nichtkombiwb</td>\n",
       "      <td>&lt;p&gt;Thank you for your request.&lt;/p&gt; &lt;p&gt;The wall...</td>\n",
       "      <td>323.0</td>\n",
       "      <td>NaN</td>\n",
       "    </tr>\n",
       "    <tr>\n",
       "      <th>1</th>\n",
       "      <td>04D2D9FA-EF85-E911-A83F-005056B47E52</td>\n",
       "      <td>UKSD200021019</td>\n",
       "      <td>Re: Your order Shipping confirmation 512006011...</td>\n",
       "      <td>7</td>\n",
       "      <td>2020-06-05 14:00:50</td>\n",
       "      <td>English (GB)</td>\n",
       "      <td>Shipping issues</td>\n",
       "      <td>&lt;br&gt;Hi,&lt;br&gt;&lt;br&gt;Do you have a tracking number p...</td>\n",
       "      <td>renscom</td>\n",
       "      <td>&lt;p&gt;Thank you for your request.&lt;/p&gt; &lt;p&gt;The orde...</td>\n",
       "      <td>11411.0</td>\n",
       "      <td>84.0</td>\n",
       "    </tr>\n",
       "  </tbody>\n",
       "</table>\n",
       "</div>"
      ],
      "text/plain": [
       "                             tickettype   ticketnumber  \\\n",
       "0  04D2D9FA-EF85-E911-A83F-005056B47E52  USSD200027656   \n",
       "1  04D2D9FA-EF85-E911-A83F-005056B47E52  UKSD200021019   \n",
       "\n",
       "                                               title  ticketstatus  \\\n",
       "0  Re: Thank you for your order 802006062223358 a...             7   \n",
       "1  Re: Your order Shipping confirmation 512006011...             7   \n",
       "\n",
       "            createdon      language              dep  \\\n",
       "0 2020-06-06 22:53:18  English (GB)  Shipping issues   \n",
       "1 2020-06-05 14:00:50  English (GB)  Shipping issues   \n",
       "\n",
       "                                        firstmessage firstusedtextblock  \\\n",
       "0  Hello:<br><br>I tried to apply a voucher to th...       nichtkombiwb   \n",
       "1  <br>Hi,<br><br>Do you have a tracking number p...            renscom   \n",
       "\n",
       "                              firstmessageToCustomer  counter  \\\n",
       "0  <p>Thank you for your request.</p> <p>The wall...    323.0   \n",
       "1  <p>Thank you for your request.</p> <p>The orde...  11411.0   \n",
       "\n",
       "   counterwithdepartment  \n",
       "0                    NaN  \n",
       "1                   84.0  "
      ]
     },
     "execution_count": 4,
     "metadata": {},
     "output_type": "execute_result"
    }
   ],
   "source": [
    "data.head(2)"
   ]
  },
  {
   "cell_type": "code",
   "execution_count": 5,
   "metadata": {},
   "outputs": [
    {
     "data": {
      "text/plain": [
       "tickettype                             1A913E3B-D735-E911-A81D-005056B47E52\n",
       "ticketnumber                                                  UKSD200020898\n",
       "title                                                       Customer review\n",
       "ticketstatus                                                              7\n",
       "createdon                                               2020-06-04 16:49:06\n",
       "language                                                       English (GB)\n",
       "dep                                                       Customer feedback\n",
       "firstmessage              Amazing website, company and product! As a pro...\n",
       "firstusedtextblock                                                 feedback\n",
       "firstmessageToCustomer    <p>Thank you very much for this positive messa...\n",
       "counter                                                                3717\n",
       "counterwithdepartment                                                   903\n",
       "Name: 10, dtype: object"
      ]
     },
     "execution_count": 5,
     "metadata": {},
     "output_type": "execute_result"
    }
   ],
   "source": [
    "data.loc[10]"
   ]
  },
  {
   "cell_type": "markdown",
   "metadata": {},
   "source": [
    "### checking titles"
   ]
  },
  {
   "cell_type": "code",
   "execution_count": 6,
   "metadata": {},
   "outputs": [
    {
     "data": {
      "text/plain": [
       "Customer review                                                           157\n",
       "Share your experience with Saal Digital                                   128\n",
       "General inquiries                                                          80\n",
       "Všeobecné dotazy                                                           36\n",
       "Consulta geral                                                             19\n",
       "                                                                         ... \n",
       "Re: Thank you for your order 512005140034004 at www.saal-digital.co.uk      1\n",
       "Book design                                                                 1\n",
       "Order number  512005121345090                                               1\n",
       "Problems with uploading project via android app                             1\n",
       "RE: Ihre Rechnung zum Auftrag 802005202005076 bei www.saal-digital.ch       1\n",
       "Name: title, Length: 512, dtype: int64"
      ]
     },
     "execution_count": 6,
     "metadata": {},
     "output_type": "execute_result"
    }
   ],
   "source": [
    "data['title'].value_counts()"
   ]
  },
  {
   "cell_type": "code",
   "execution_count": 7,
   "metadata": {},
   "outputs": [
    {
     "data": {
      "text/plain": [
       "512"
      ]
     },
     "execution_count": 7,
     "metadata": {},
     "output_type": "execute_result"
    }
   ],
   "source": [
    "data['title'].nunique()"
   ]
  },
  {
   "cell_type": "markdown",
   "metadata": {},
   "source": [
    "### checking dep variable"
   ]
  },
  {
   "cell_type": "code",
   "execution_count": 8,
   "metadata": {},
   "outputs": [
    {
     "data": {
      "text/plain": [
       "18"
      ]
     },
     "execution_count": 8,
     "metadata": {},
     "output_type": "execute_result"
    }
   ],
   "source": [
    "data['dep'].nunique()"
   ]
  },
  {
   "cell_type": "code",
   "execution_count": 9,
   "metadata": {},
   "outputs": [
    {
     "data": {
      "text/plain": [
       "array(['Shipping issues',\n",
       "       'product complaints - products (Reklamation Produkte)',\n",
       "       'ShareWithSaal', 'Order management',\n",
       "       'Professional area (Profibereich)', 'Customer feedback',\n",
       "       'Software/Webshop/App', 'Data protection (Datenschutz)',\n",
       "       'Payment (Bezahlung)',\n",
       "       'product complaints - colours (Reklamation Farben)',\n",
       "       'Samplebook-ProLine', 'Product (Produkt)',\n",
       "       'Bewerbungen SDF - RTB Office',\n",
       "       'product complaints - software (Reklamation Software)',\n",
       "       'Rücksendung', 'Marketing', 'Special conditions',\n",
       "       'Bewerbungen SDF - MAL'], dtype=object)"
      ]
     },
     "execution_count": 9,
     "metadata": {},
     "output_type": "execute_result"
    }
   ],
   "source": [
    "data['dep'].unique()"
   ]
  },
  {
   "cell_type": "code",
   "execution_count": 10,
   "metadata": {},
   "outputs": [
    {
     "data": {
      "text/plain": [
       "Order management                                        339\n",
       "ShareWithSaal                                           131\n",
       "Customer feedback                                       115\n",
       "Software/Webshop/App                                    105\n",
       "product complaints - products (Reklamation Produkte)     88\n",
       "Shipping issues                                          74\n",
       "product complaints - colours (Reklamation Farben)        39\n",
       "Payment (Bezahlung)                                      29\n",
       "Product (Produkt)                                        27\n",
       "Professional area (Profibereich)                         27\n",
       "Data protection (Datenschutz)                            10\n",
       "Bewerbungen SDF - RTB Office                              6\n",
       "Rücksendung                                               4\n",
       "product complaints - software (Reklamation Software)      2\n",
       "Samplebook-ProLine                                        1\n",
       "Special conditions                                        1\n",
       "Bewerbungen SDF - MAL                                     1\n",
       "Marketing                                                 1\n",
       "Name: dep, dtype: int64"
      ]
     },
     "execution_count": 10,
     "metadata": {},
     "output_type": "execute_result"
    }
   ],
   "source": [
    "data['dep'].value_counts()"
   ]
  },
  {
   "cell_type": "markdown",
   "metadata": {},
   "source": [
    "### checking with firstusedtextblock variable"
   ]
  },
  {
   "cell_type": "code",
   "execution_count": 11,
   "metadata": {},
   "outputs": [
    {
     "data": {
      "text/plain": [
       "130"
      ]
     },
     "execution_count": 11,
     "metadata": {},
     "output_type": "execute_result"
    }
   ],
   "source": [
    "data['firstusedtextblock'].nunique()"
   ]
  },
  {
   "cell_type": "code",
   "execution_count": 12,
   "metadata": {},
   "outputs": [
    {
     "data": {
      "text/plain": [
       "array(['nichtkombiwb', 'renscom', 'neupverp', 'teilen2', 'wp',\n",
       "       'keinfortschritt', 'feedback', 'tuto', 'vdn', 'vdv',\n",
       "       'deliverytime', 'package', 'liad', 'liadzuspät', 'systemzeit',\n",
       "       'd_deldata', 'verb', 50, 'saa', 'pay', 'fuo',\n",
       "       'initialemail_reseller_newsletter', 'expressnach', 'csfeed',\n",
       "       'moire', 'feedbackpositiv', 'corona', 'infofotobuch', 'rf',\n",
       "       'uploadfail', 'liefer', 'gse', 'stepstoissue', 'problemscreen',\n",
       "       'Bsystem', 'gznü', 'ccen', 'fus', 'einsicht', 'nichtkombi', 'wei',\n",
       "       'zuge', 'pobox', 'neup', 'nbnm', 'Systemzeit', 'd_delnl', 'verp',\n",
       "       'infoproline', 'b_absn', 'vda', 'csdark', 'pay2', 'dateiformat',\n",
       "       'infowalldecor', 'sampleset', 'nporvo', 'changelang', 'awla',\n",
       "       'verzög', 'p_ofehlt', 'bs', 'süb', 'webissue', 'einge',\n",
       "       'datacheck', 'sorry', 'sm_reseller', 'fb60daysgs', 'designproject',\n",
       "       'rückse', 'protectivefilm', 'l_np', 'dhl', 'condata', 'schrift',\n",
       "       'states', 's_dropb', 'umw', 'paymethod', 'sfehlt', 'p_forw',\n",
       "       'p_auflösung', 'proprü', 'fw', 'rslink', 'payissue', 'musam',\n",
       "       'ffehlt1', nan, 'sfv', 'bestelldaten', 'fbrsthx', 'wellfb',\n",
       "       'erledigt', 'rekla', 'app_download', 'aufsta', 'ThxFoto', 'CCen',\n",
       "       'iccexplain', 'aktion', 'upload', 'appno', 'calgsnf', 'b_g',\n",
       "       'csblurred', 'gpn', 'b_probe', 'icc', 'scgs', 'dhleid', 'vdri',\n",
       "       'za', 'beanst', 'b_asu', 'nichtkombifb', 'close', 'softwaresaal',\n",
       "       'vorsatzpapier', 'bs2', 'TEILEN2', 'temda', 'emailsearch',\n",
       "       'reklat', 'projectlost', 'DHLeid', 'vd', 'NPorVO', 'fus2',\n",
       "       'nichtkombi2'], dtype=object)"
      ]
     },
     "execution_count": 12,
     "metadata": {},
     "output_type": "execute_result"
    }
   ],
   "source": [
    "data['firstusedtextblock'].unique()"
   ]
  },
  {
   "cell_type": "code",
   "execution_count": 13,
   "metadata": {},
   "outputs": [
    {
     "data": {
      "text/plain": [
       "renscom        232\n",
       "teilen2        130\n",
       "feedback        66\n",
       "fuo             35\n",
       "vdn             35\n",
       "              ... \n",
       "emailsearch      1\n",
       "za               1\n",
       "fbrsthx          1\n",
       "wei              1\n",
       "proprü           1\n",
       "Name: firstusedtextblock, Length: 130, dtype: int64"
      ]
     },
     "execution_count": 13,
     "metadata": {},
     "output_type": "execute_result"
    }
   ],
   "source": [
    "data['firstusedtextblock'].value_counts()"
   ]
  },
  {
   "cell_type": "markdown",
   "metadata": {},
   "source": [
    "# Creating smaller dataset"
   ]
  },
  {
   "cell_type": "code",
   "execution_count": 14,
   "metadata": {},
   "outputs": [
    {
     "data": {
      "text/html": [
       "<div>\n",
       "<style scoped>\n",
       "    .dataframe tbody tr th:only-of-type {\n",
       "        vertical-align: middle;\n",
       "    }\n",
       "\n",
       "    .dataframe tbody tr th {\n",
       "        vertical-align: top;\n",
       "    }\n",
       "\n",
       "    .dataframe thead th {\n",
       "        text-align: right;\n",
       "    }\n",
       "</style>\n",
       "<table border=\"1\" class=\"dataframe\">\n",
       "  <thead>\n",
       "    <tr style=\"text-align: right;\">\n",
       "      <th></th>\n",
       "      <th>tickettype</th>\n",
       "      <th>ticketnumber</th>\n",
       "      <th>title</th>\n",
       "      <th>ticketstatus</th>\n",
       "      <th>createdon</th>\n",
       "      <th>language</th>\n",
       "      <th>dep</th>\n",
       "      <th>firstmessage</th>\n",
       "      <th>firstusedtextblock</th>\n",
       "      <th>firstmessageToCustomer</th>\n",
       "      <th>counter</th>\n",
       "      <th>counterwithdepartment</th>\n",
       "    </tr>\n",
       "  </thead>\n",
       "  <tbody>\n",
       "    <tr>\n",
       "      <th>0</th>\n",
       "      <td>04D2D9FA-EF85-E911-A83F-005056B47E52</td>\n",
       "      <td>USSD200027656</td>\n",
       "      <td>Re: Thank you for your order 802006062223358 a...</td>\n",
       "      <td>7</td>\n",
       "      <td>2020-06-06 22:53:18</td>\n",
       "      <td>English (GB)</td>\n",
       "      <td>Shipping issues</td>\n",
       "      <td>Hello:&lt;br&gt;&lt;br&gt;I tried to apply a voucher to th...</td>\n",
       "      <td>nichtkombiwb</td>\n",
       "      <td>&lt;p&gt;Thank you for your request.&lt;/p&gt; &lt;p&gt;The wall...</td>\n",
       "      <td>323.0</td>\n",
       "      <td>NaN</td>\n",
       "    </tr>\n",
       "    <tr>\n",
       "      <th>1</th>\n",
       "      <td>04D2D9FA-EF85-E911-A83F-005056B47E52</td>\n",
       "      <td>UKSD200021019</td>\n",
       "      <td>Re: Your order Shipping confirmation 512006011...</td>\n",
       "      <td>7</td>\n",
       "      <td>2020-06-05 14:00:50</td>\n",
       "      <td>English (GB)</td>\n",
       "      <td>Shipping issues</td>\n",
       "      <td>&lt;br&gt;Hi,&lt;br&gt;&lt;br&gt;Do you have a tracking number p...</td>\n",
       "      <td>renscom</td>\n",
       "      <td>&lt;p&gt;Thank you for your request.&lt;/p&gt; &lt;p&gt;The orde...</td>\n",
       "      <td>11411.0</td>\n",
       "      <td>84.0</td>\n",
       "    </tr>\n",
       "  </tbody>\n",
       "</table>\n",
       "</div>"
      ],
      "text/plain": [
       "                             tickettype   ticketnumber  \\\n",
       "0  04D2D9FA-EF85-E911-A83F-005056B47E52  USSD200027656   \n",
       "1  04D2D9FA-EF85-E911-A83F-005056B47E52  UKSD200021019   \n",
       "\n",
       "                                               title  ticketstatus  \\\n",
       "0  Re: Thank you for your order 802006062223358 a...             7   \n",
       "1  Re: Your order Shipping confirmation 512006011...             7   \n",
       "\n",
       "            createdon      language              dep  \\\n",
       "0 2020-06-06 22:53:18  English (GB)  Shipping issues   \n",
       "1 2020-06-05 14:00:50  English (GB)  Shipping issues   \n",
       "\n",
       "                                        firstmessage firstusedtextblock  \\\n",
       "0  Hello:<br><br>I tried to apply a voucher to th...       nichtkombiwb   \n",
       "1  <br>Hi,<br><br>Do you have a tracking number p...            renscom   \n",
       "\n",
       "                              firstmessageToCustomer  counter  \\\n",
       "0  <p>Thank you for your request.</p> <p>The wall...    323.0   \n",
       "1  <p>Thank you for your request.</p> <p>The orde...  11411.0   \n",
       "\n",
       "   counterwithdepartment  \n",
       "0                    NaN  \n",
       "1                   84.0  "
      ]
     },
     "execution_count": 14,
     "metadata": {},
     "output_type": "execute_result"
    }
   ],
   "source": [
    "data.head(2)"
   ]
  },
  {
   "cell_type": "code",
   "execution_count": 15,
   "metadata": {},
   "outputs": [],
   "source": [
    "df=data[['firstmessage','dep','firstusedtextblock']].astype(str)"
   ]
  },
  {
   "cell_type": "code",
   "execution_count": 16,
   "metadata": {},
   "outputs": [
    {
     "data": {
      "text/html": [
       "<div>\n",
       "<style scoped>\n",
       "    .dataframe tbody tr th:only-of-type {\n",
       "        vertical-align: middle;\n",
       "    }\n",
       "\n",
       "    .dataframe tbody tr th {\n",
       "        vertical-align: top;\n",
       "    }\n",
       "\n",
       "    .dataframe thead th {\n",
       "        text-align: right;\n",
       "    }\n",
       "</style>\n",
       "<table border=\"1\" class=\"dataframe\">\n",
       "  <thead>\n",
       "    <tr style=\"text-align: right;\">\n",
       "      <th></th>\n",
       "      <th>firstmessage</th>\n",
       "      <th>dep</th>\n",
       "      <th>firstusedtextblock</th>\n",
       "    </tr>\n",
       "  </thead>\n",
       "  <tbody>\n",
       "    <tr>\n",
       "      <th>0</th>\n",
       "      <td>Hello:&lt;br&gt;&lt;br&gt;I tried to apply a voucher to th...</td>\n",
       "      <td>Shipping issues</td>\n",
       "      <td>nichtkombiwb</td>\n",
       "    </tr>\n",
       "    <tr>\n",
       "      <th>1</th>\n",
       "      <td>&lt;br&gt;Hi,&lt;br&gt;&lt;br&gt;Do you have a tracking number p...</td>\n",
       "      <td>Shipping issues</td>\n",
       "      <td>renscom</td>\n",
       "    </tr>\n",
       "  </tbody>\n",
       "</table>\n",
       "</div>"
      ],
      "text/plain": [
       "                                        firstmessage              dep  \\\n",
       "0  Hello:<br><br>I tried to apply a voucher to th...  Shipping issues   \n",
       "1  <br>Hi,<br><br>Do you have a tracking number p...  Shipping issues   \n",
       "\n",
       "  firstusedtextblock  \n",
       "0       nichtkombiwb  \n",
       "1            renscom  "
      ]
     },
     "execution_count": 16,
     "metadata": {},
     "output_type": "execute_result"
    }
   ],
   "source": [
    "df.head(2)"
   ]
  },
  {
   "cell_type": "code",
   "execution_count": 17,
   "metadata": {},
   "outputs": [],
   "source": [
    "df.rename(columns={'firstmessage':'text',\n",
    "                          'dep':'intent',\n",
    "                          'firstusedtextblock':'response'}, \n",
    "                 inplace=True)"
   ]
  },
  {
   "cell_type": "code",
   "execution_count": 18,
   "metadata": {},
   "outputs": [
    {
     "data": {
      "text/html": [
       "<div>\n",
       "<style scoped>\n",
       "    .dataframe tbody tr th:only-of-type {\n",
       "        vertical-align: middle;\n",
       "    }\n",
       "\n",
       "    .dataframe tbody tr th {\n",
       "        vertical-align: top;\n",
       "    }\n",
       "\n",
       "    .dataframe thead th {\n",
       "        text-align: right;\n",
       "    }\n",
       "</style>\n",
       "<table border=\"1\" class=\"dataframe\">\n",
       "  <thead>\n",
       "    <tr style=\"text-align: right;\">\n",
       "      <th></th>\n",
       "      <th>text</th>\n",
       "      <th>intent</th>\n",
       "      <th>response</th>\n",
       "    </tr>\n",
       "  </thead>\n",
       "  <tbody>\n",
       "    <tr>\n",
       "      <th>0</th>\n",
       "      <td>Hello:&lt;br&gt;&lt;br&gt;I tried to apply a voucher to th...</td>\n",
       "      <td>Shipping issues</td>\n",
       "      <td>nichtkombiwb</td>\n",
       "    </tr>\n",
       "    <tr>\n",
       "      <th>1</th>\n",
       "      <td>&lt;br&gt;Hi,&lt;br&gt;&lt;br&gt;Do you have a tracking number p...</td>\n",
       "      <td>Shipping issues</td>\n",
       "      <td>renscom</td>\n",
       "    </tr>\n",
       "  </tbody>\n",
       "</table>\n",
       "</div>"
      ],
      "text/plain": [
       "                                                text           intent  \\\n",
       "0  Hello:<br><br>I tried to apply a voucher to th...  Shipping issues   \n",
       "1  <br>Hi,<br><br>Do you have a tracking number p...  Shipping issues   \n",
       "\n",
       "       response  \n",
       "0  nichtkombiwb  \n",
       "1       renscom  "
      ]
     },
     "execution_count": 18,
     "metadata": {},
     "output_type": "execute_result"
    }
   ],
   "source": [
    "df.head(2)"
   ]
  },
  {
   "cell_type": "markdown",
   "metadata": {},
   "source": [
    "# Cleaning for future use"
   ]
  },
  {
   "cell_type": "code",
   "execution_count": 19,
   "metadata": {},
   "outputs": [],
   "source": [
    "from nltk.corpus import stopwords\n",
    "from nltk.stem.porter import PorterStemmer\n",
    "import re\n",
    "from bs4 import BeautifulSoup"
   ]
  },
  {
   "cell_type": "code",
   "execution_count": 20,
   "metadata": {},
   "outputs": [
    {
     "name": "stdout",
     "output_type": "stream",
     "text": [
      "Amazing website, company and product! As a professional photographer through 5 years, I can vouch for Saal Digital and their high quality service\n",
      "Label: Customer feedback\n"
     ]
    }
   ],
   "source": [
    "def print_plot(index):\n",
    "    example = df[df.index == index][['text', 'intent']].values[0]\n",
    "    if len(example) > 0:\n",
    "        print(example[0])\n",
    "        print('Label:', example[1])\n",
    "print_plot(10)"
   ]
  },
  {
   "cell_type": "code",
   "execution_count": 21,
   "metadata": {},
   "outputs": [
    {
     "data": {
      "text/plain": [
       "105422"
      ]
     },
     "execution_count": 21,
     "metadata": {},
     "output_type": "execute_result"
    }
   ],
   "source": [
    "df['text'].apply(lambda x: len(x.split(' '))).sum()"
   ]
  },
  {
   "cell_type": "code",
   "execution_count": 22,
   "metadata": {},
   "outputs": [
    {
     "name": "stdout",
     "output_type": "stream",
     "text": [
      "amazing website company product professional photographer 5 years vouch saal digital high quality service\n",
      "Label: Customer feedback\n"
     ]
    }
   ],
   "source": [
    "REPLACE_BY_SPACE_RE = re.compile('[/(){}\\[\\]\\|@,;]')\n",
    "BAD_SYMBOLS_RE = re.compile('[^0-9a-z #+_]')\n",
    "STOPWORDS = set(stopwords.words('english'))\n",
    "\n",
    "def clean_text(text):\n",
    "    \"\"\"\n",
    "        text: a string\n",
    "        \n",
    "        return: modified initial string\n",
    "    \"\"\"\n",
    "    text = BeautifulSoup(text, \"lxml\").text # HTML decoding\n",
    "    text = text.lower() # lowercase text\n",
    "    text = REPLACE_BY_SPACE_RE.sub(' ', text) # replace REPLACE_BY_SPACE_RE symbols by space in text\n",
    "    text = BAD_SYMBOLS_RE.sub('', text) # delete symbols which are in BAD_SYMBOLS_RE from text\n",
    "    text = ' '.join(word for word in text.split() if word not in STOPWORDS) # delete stopwors from text\n",
    "    return text\n",
    "    \n",
    "df['text'] = df['text'].apply(clean_text)\n",
    "print_plot(10)"
   ]
  },
  {
   "cell_type": "code",
   "execution_count": 23,
   "metadata": {},
   "outputs": [
    {
     "name": "stdout",
     "output_type": "stream",
     "text": [
      "dobr den mm od vs objednanou fotoknihu objednvkyhttps wwwsaaldigitalcz ordercockpit emailvvyslouzilova40seznamczordernumber512005210955444 jej pedpokldan doruen mlo bt 26 fotokniha vak stle nedorazila ke stavu objednvky nelze dohledat dn bli daje prosm proto informaci kdy bude fotokniha doruena dkuji pozdravem vyslouilov veronika\n",
      "Label: Order management\n"
     ]
    }
   ],
   "source": [
    "print_plot(5)"
   ]
  },
  {
   "cell_type": "code",
   "execution_count": 24,
   "metadata": {},
   "outputs": [
    {
     "data": {
      "text/plain": [
       "61986"
      ]
     },
     "execution_count": 24,
     "metadata": {},
     "output_type": "execute_result"
    }
   ],
   "source": [
    "df['text'].apply(lambda x: len(x.split(' '))).sum()"
   ]
  },
  {
   "cell_type": "markdown",
   "metadata": {},
   "source": [
    "### Json file"
   ]
  },
  {
   "cell_type": "markdown",
   "metadata": {},
   "source": [
    "**For now, we choose few samples for each of coding**"
   ]
  },
  {
   "cell_type": "code",
   "execution_count": 25,
   "metadata": {},
   "outputs": [],
   "source": [
    "df=df.head(6)"
   ]
  },
  {
   "cell_type": "code",
   "execution_count": 26,
   "metadata": {},
   "outputs": [],
   "source": [
    "df_json=df.to_json(orient='records')"
   ]
  },
  {
   "cell_type": "code",
   "execution_count": 27,
   "metadata": {},
   "outputs": [
    {
     "data": {
      "text/plain": [
       "str"
      ]
     },
     "execution_count": 27,
     "metadata": {},
     "output_type": "execute_result"
    }
   ],
   "source": [
    "type(df_json)"
   ]
  },
  {
   "cell_type": "code",
   "execution_count": 28,
   "metadata": {},
   "outputs": [
    {
     "data": {
      "text/plain": [
       "'[{\"text\":\"helloi tried apply voucher order received mail didnt appear order total your40 voucher 12999 rfk93r3anfpvgcan please apply orderthank colinon sat jun 6 2020 249 pm wrote http wwwsaaldigitalcom dear mr shreffler thank order pleased chosen wwwsaaldigitalcomyour order number https wwwsaaldigitalcom ordercockpit emailc40colinshrefflercomordernumber802006062223358 order article quantity total price metal print 197x295 metal print aluminium subframe 1 85 39 metal print 197x295 metal print aluminium subframe 1 85 39 metal print 118x177 metal print aluminium subframe 1 44 09 metal print 118x177 metal print aluminium subframe 1 44 09 metal print 118x177 metal print aluminium subframe 1 44 09 metal print 157x197 metal print aluminium subframe 1 53 54 metal print 118x177 metal print aluminium subframe 1 44 09 metal print 118x177 metal print aluminium subframe 1 44 09 metal print 118x177 metal print aluminium subframe 1 44 09 shipping costs 15 00 voucher 0 00 total 503 86 selected method payment already paid via paypal estimated delivery date 6 16 2020 delivery address colin shreffler '"
      ]
     },
     "execution_count": 28,
     "metadata": {},
     "output_type": "execute_result"
    }
   ],
   "source": [
    "df_json[:1100]"
   ]
  },
  {
   "cell_type": "code",
   "execution_count": 29,
   "metadata": {},
   "outputs": [],
   "source": [
    "with open('data_json.json', 'w') as f:\n",
    "    f.write(df_json)"
   ]
  },
  {
   "cell_type": "code",
   "execution_count": null,
   "metadata": {},
   "outputs": [],
   "source": []
  }
 ],
 "metadata": {
  "kernelspec": {
   "display_name": "Python 3.7 (tensorflow)",
   "language": "python",
   "name": "tensorflow"
  },
  "language_info": {
   "codemirror_mode": {
    "name": "ipython",
    "version": 3
   },
   "file_extension": ".py",
   "mimetype": "text/x-python",
   "name": "python",
   "nbconvert_exporter": "python",
   "pygments_lexer": "ipython3",
   "version": "3.7.7"
  }
 },
 "nbformat": 4,
 "nbformat_minor": 4
}
