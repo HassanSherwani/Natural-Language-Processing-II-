{
  "nbformat": 4,
  "nbformat_minor": 0,
  "metadata": {
    "kernelspec": {
      "name": "python3",
      "display_name": "Python 3"
    },
    "language_info": {
      "codemirror_mode": {
        "name": "ipython",
        "version": 3
      },
      "file_extension": ".py",
      "mimetype": "text/x-python",
      "name": "python",
      "nbconvert_exporter": "python",
      "pygments_lexer": "ipython3",
      "version": "3.7.4"
    },
    "colab": {
      "name": "information_extraction(4a).ipynb",
      "provenance": [],
      "toc_visible": true
    },
    "accelerator": "GPU"
  },
  "cells": [
    {
      "cell_type": "markdown",
      "metadata": {
        "id": "kZre-5qSaHaA",
        "colab_type": "text"
      },
      "source": [
        "# Extracting key information from documents\n",
        "\n",
        "It is tough to read and retrieve informarion manually from documents. So, this project is an attempt to automate this process."
      ]
    },
    {
      "cell_type": "markdown",
      "metadata": {
        "id": "fjZRF5evaHaB",
        "colab_type": "text"
      },
      "source": [
        "# 1)- Importing key modules"
      ]
    },
    {
      "cell_type": "code",
      "metadata": {
        "id": "SaGDIeSTaHaC",
        "colab_type": "code",
        "colab": {}
      },
      "source": [
        "#support both Python 2 and Python 3 with minimal overhead.\n",
        "from __future__ import absolute_import, division, print_function\n",
        "import warnings\n",
        "warnings.filterwarnings('ignore')"
      ],
      "execution_count": 0,
      "outputs": []
    },
    {
      "cell_type": "code",
      "metadata": {
        "id": "kF5yaDJ1aHaE",
        "colab_type": "code",
        "outputId": "149e5e4e-4dd1-4614-9121-54126df70f2c",
        "colab": {
          "base_uri": "https://localhost:8080/",
          "height": 34
        }
      },
      "source": [
        "import re    # for regular expressions \n",
        "import nltk  # for text manipulation \n",
        "import string \n",
        "import re    # for regular expressions\n",
        "import numpy as np \n",
        "import pickle\n",
        "import pandas as pd \n",
        "\n",
        "#For Visuals\n",
        "import matplotlib.pyplot as plt\n",
        "%matplotlib inline\n",
        "%pylab inline\n",
        "import seaborn as sns\n",
        "sns.set(rc={'figure.figsize':(15,9)})\n",
        "from matplotlib import rcParams\n",
        "rcParams['figure.figsize'] = 11, 8\n",
        "%config InlineBackend.figure_format = 'svg'"
      ],
      "execution_count": 2,
      "outputs": [
        {
          "output_type": "stream",
          "text": [
            "Populating the interactive namespace from numpy and matplotlib\n"
          ],
          "name": "stdout"
        }
      ]
    },
    {
      "cell_type": "code",
      "metadata": {
        "id": "59qXPeCzaHaH",
        "colab_type": "code",
        "colab": {}
      },
      "source": [
        "# Gensim\n",
        "import gensim, spacy, logging, warnings\n",
        "import gensim.corpora as corpora\n",
        "from gensim.utils import lemmatize, simple_preprocess\n",
        "from gensim.models import CoherenceModel"
      ],
      "execution_count": 0,
      "outputs": []
    },
    {
      "cell_type": "code",
      "metadata": {
        "id": "M1P0LSnqa_te",
        "colab_type": "code",
        "outputId": "dbdad4ff-3e08-4893-f605-235256eaef56",
        "colab": {
          "base_uri": "https://localhost:8080/",
          "height": 68
        }
      },
      "source": [
        "import nltk\n",
        "nltk.download('stopwords')"
      ],
      "execution_count": 4,
      "outputs": [
        {
          "output_type": "stream",
          "text": [
            "[nltk_data] Downloading package stopwords to /root/nltk_data...\n",
            "[nltk_data]   Package stopwords is already up-to-date!\n"
          ],
          "name": "stdout"
        },
        {
          "output_type": "execute_result",
          "data": {
            "text/plain": [
              "True"
            ]
          },
          "metadata": {
            "tags": []
          },
          "execution_count": 4
        }
      ]
    },
    {
      "cell_type": "code",
      "metadata": {
        "id": "BvGzZPULaHaI",
        "colab_type": "code",
        "colab": {}
      },
      "source": [
        "# NLTK Stop words\n",
        "from nltk.corpus import stopwords\n",
        "stop_words = stopwords.words('english')\n",
        "stop_words.extend(['from', 'subject', 're', 'edu', 'use', 'not', 'would', 'say', 'could', '_', 'be', 'know', 'good', 'go', 'get', 'do', 'done', 'try', 'many', 'some', 'nice', 'thank', 'think', 'see', 'rather', 'easy', 'easily', 'lot', 'lack', \n",
        "                   'make', 'want', 'seem', 'run', 'need', 'even', 'right', 'line', 'even', 'also', 'may', 'take', 'come'])\n",
        "stop_words = set(stopwords.words(\"english\"))\n",
        "##Creating a list of custom stopwords\n",
        "new_words = [\"using\", \"show\", \"result\", \"large\", \"also\", \"iv\", \"one\", \"two\", \"new\", \"previously\", \"shown\"]\n",
        "stop_words = stop_words.union(new_words)"
      ],
      "execution_count": 0,
      "outputs": []
    },
    {
      "cell_type": "code",
      "metadata": {
        "id": "EWXyNf31bM5F",
        "colab_type": "code",
        "outputId": "816e478e-4b56-4ea3-a154-7192593a696f",
        "colab": {
          "base_uri": "https://localhost:8080/",
          "height": 527
        }
      },
      "source": [
        "! pip install https://github.com/explosion/spacy-models/releases/download/en_core_web_md-2.2.0/en_core_web_md-2.2.0.tar.gz"
      ],
      "execution_count": 6,
      "outputs": [
        {
          "output_type": "stream",
          "text": [
            "Collecting https://github.com/explosion/spacy-models/releases/download/en_core_web_md-2.2.0/en_core_web_md-2.2.0.tar.gz\n",
            "\u001b[?25l  Downloading https://github.com/explosion/spacy-models/releases/download/en_core_web_md-2.2.0/en_core_web_md-2.2.0.tar.gz (96.4MB)\n",
            "\u001b[K     |████████████████████████████████| 96.4MB 93kB/s \n",
            "\u001b[?25hRequirement already satisfied (use --upgrade to upgrade): en-core-web-md==2.2.0 from https://github.com/explosion/spacy-models/releases/download/en_core_web_md-2.2.0/en_core_web_md-2.2.0.tar.gz in /usr/local/lib/python3.6/dist-packages\n",
            "Requirement already satisfied: spacy>=2.2.0 in /usr/local/lib/python3.6/dist-packages (from en-core-web-md==2.2.0) (2.2.3)\n",
            "Requirement already satisfied: blis<0.5.0,>=0.4.0 in /usr/local/lib/python3.6/dist-packages (from spacy>=2.2.0->en-core-web-md==2.2.0) (0.4.1)\n",
            "Requirement already satisfied: cymem<2.1.0,>=2.0.2 in /usr/local/lib/python3.6/dist-packages (from spacy>=2.2.0->en-core-web-md==2.2.0) (2.0.3)\n",
            "Requirement already satisfied: setuptools in /usr/local/lib/python3.6/dist-packages (from spacy>=2.2.0->en-core-web-md==2.2.0) (42.0.2)\n",
            "Requirement already satisfied: numpy>=1.15.0 in /usr/local/lib/python3.6/dist-packages (from spacy>=2.2.0->en-core-web-md==2.2.0) (1.17.4)\n",
            "Requirement already satisfied: srsly<1.1.0,>=0.1.0 in /usr/local/lib/python3.6/dist-packages (from spacy>=2.2.0->en-core-web-md==2.2.0) (0.2.0)\n",
            "Requirement already satisfied: thinc<7.4.0,>=7.3.0 in /usr/local/lib/python3.6/dist-packages (from spacy>=2.2.0->en-core-web-md==2.2.0) (7.3.1)\n",
            "Requirement already satisfied: requests<3.0.0,>=2.13.0 in /usr/local/lib/python3.6/dist-packages (from spacy>=2.2.0->en-core-web-md==2.2.0) (2.21.0)\n",
            "Requirement already satisfied: catalogue<1.1.0,>=0.0.7 in /usr/local/lib/python3.6/dist-packages (from spacy>=2.2.0->en-core-web-md==2.2.0) (0.0.8)\n",
            "Requirement already satisfied: murmurhash<1.1.0,>=0.28.0 in /usr/local/lib/python3.6/dist-packages (from spacy>=2.2.0->en-core-web-md==2.2.0) (1.0.2)\n",
            "Requirement already satisfied: wasabi<1.1.0,>=0.4.0 in /usr/local/lib/python3.6/dist-packages (from spacy>=2.2.0->en-core-web-md==2.2.0) (0.4.2)\n",
            "Requirement already satisfied: plac<1.2.0,>=0.9.6 in /usr/local/lib/python3.6/dist-packages (from spacy>=2.2.0->en-core-web-md==2.2.0) (0.9.6)\n",
            "Requirement already satisfied: preshed<3.1.0,>=3.0.2 in /usr/local/lib/python3.6/dist-packages (from spacy>=2.2.0->en-core-web-md==2.2.0) (3.0.2)\n",
            "Requirement already satisfied: tqdm<5.0.0,>=4.10.0 in /usr/local/lib/python3.6/dist-packages (from thinc<7.4.0,>=7.3.0->spacy>=2.2.0->en-core-web-md==2.2.0) (4.28.1)\n",
            "Requirement already satisfied: certifi>=2017.4.17 in /usr/local/lib/python3.6/dist-packages (from requests<3.0.0,>=2.13.0->spacy>=2.2.0->en-core-web-md==2.2.0) (2019.11.28)\n",
            "Requirement already satisfied: idna<2.9,>=2.5 in /usr/local/lib/python3.6/dist-packages (from requests<3.0.0,>=2.13.0->spacy>=2.2.0->en-core-web-md==2.2.0) (2.8)\n",
            "Requirement already satisfied: chardet<3.1.0,>=3.0.2 in /usr/local/lib/python3.6/dist-packages (from requests<3.0.0,>=2.13.0->spacy>=2.2.0->en-core-web-md==2.2.0) (3.0.4)\n",
            "Requirement already satisfied: urllib3<1.25,>=1.21.1 in /usr/local/lib/python3.6/dist-packages (from requests<3.0.0,>=2.13.0->spacy>=2.2.0->en-core-web-md==2.2.0) (1.24.3)\n",
            "Requirement already satisfied: importlib-metadata>=0.20; python_version < \"3.8\" in /usr/local/lib/python3.6/dist-packages (from catalogue<1.1.0,>=0.0.7->spacy>=2.2.0->en-core-web-md==2.2.0) (1.3.0)\n",
            "Requirement already satisfied: zipp>=0.5 in /usr/local/lib/python3.6/dist-packages (from importlib-metadata>=0.20; python_version < \"3.8\"->catalogue<1.1.0,>=0.0.7->spacy>=2.2.0->en-core-web-md==2.2.0) (0.6.0)\n",
            "Requirement already satisfied: more-itertools in /usr/local/lib/python3.6/dist-packages (from zipp>=0.5->importlib-metadata>=0.20; python_version < \"3.8\"->catalogue<1.1.0,>=0.0.7->spacy>=2.2.0->en-core-web-md==2.2.0) (8.0.2)\n",
            "Building wheels for collected packages: en-core-web-md\n",
            "  Building wheel for en-core-web-md (setup.py) ... \u001b[?25l\u001b[?25hdone\n",
            "  Created wheel for en-core-web-md: filename=en_core_web_md-2.2.0-cp36-none-any.whl size=98072933 sha256=617fecb2e9fc70c9c25d408ba4a6430db81a8af03b64f8239475fb8546037c6d\n",
            "  Stored in directory: /root/.cache/pip/wheels/5f/3e/c9/36dd6e13b449fd84cd1f94b72dfbc559daf09f53dbf4e697a3\n",
            "Successfully built en-core-web-md\n"
          ],
          "name": "stdout"
        }
      ]
    },
    {
      "cell_type": "code",
      "metadata": {
        "id": "GbBw8uZJaqaP",
        "colab_type": "code",
        "colab": {}
      },
      "source": [
        "# more text related modules\n",
        "import spacy \n",
        "import en_core_web_md\n",
        "nlp = en_core_web_md.load()"
      ],
      "execution_count": 0,
      "outputs": []
    },
    {
      "cell_type": "markdown",
      "metadata": {
        "id": "CNsrs3cRayaG",
        "colab_type": "text"
      },
      "source": [
        "I personally like Spacy more than nltk. But, I never take sides so, I ll use both where they come handy"
      ]
    },
    {
      "cell_type": "code",
      "metadata": {
        "id": "XgDFVTCEaHaK",
        "colab_type": "code",
        "colab": {}
      },
      "source": [
        "# Bokeh\n",
        "from bokeh.io import output_notebook\n",
        "from bokeh.plotting import figure, show\n",
        "from bokeh.models import HoverTool, CustomJS, ColumnDataSource, Slider\n",
        "from bokeh.layouts import column\n",
        "from bokeh.palettes import all_palettes\n",
        "output_notebook()"
      ],
      "execution_count": 0,
      "outputs": []
    },
    {
      "cell_type": "code",
      "metadata": {
        "id": "JKImZzA8a4EZ",
        "colab_type": "code",
        "outputId": "cf487f32-65b7-446d-eac1-ca84d2d30a0f",
        "colab": {
          "base_uri": "https://localhost:8080/",
          "height": 34
        }
      },
      "source": [
        "! pip install version_information"
      ],
      "execution_count": 9,
      "outputs": [
        {
          "output_type": "stream",
          "text": [
            "Requirement already satisfied: version_information in /usr/local/lib/python3.6/dist-packages (1.0.3)\n"
          ],
          "name": "stdout"
        }
      ]
    },
    {
      "cell_type": "code",
      "metadata": {
        "id": "tXDUbEqPaHaN",
        "colab_type": "code",
        "outputId": "a4682868-8699-4df0-d8ad-2115edb5e0a1",
        "colab": {
          "base_uri": "https://localhost:8080/",
          "height": 334
        }
      },
      "source": [
        "%reload_ext version_information\n",
        "%version_information pandas,numpy, nltk, seaborn, matplotlib, re, PyPDF2,gensim, spacy, bokeh"
      ],
      "execution_count": 10,
      "outputs": [
        {
          "output_type": "execute_result",
          "data": {
            "text/latex": "\\begin{tabular}{|l|l|}\\hline\n{\\bf Software} & {\\bf Version} \\\\ \\hline\\hline\nPython & 3.6.9 64bit [GCC 8.3.0] \\\\ \\hline\nIPython & 5.5.0 \\\\ \\hline\nOS & Linux 4.14.137+ x86\\_64 with Ubuntu 18.04 bionic \\\\ \\hline\npandas & 0.25.3 \\\\ \\hline\nnumpy & 1.17.4 \\\\ \\hline\nnltk & 3.2.5 \\\\ \\hline\nseaborn & 0.9.0 \\\\ \\hline\nmatplotlib & 3.1.2 \\\\ \\hline\nre & 2.2.1 \\\\ \\hline\nPyPDF2 & The 'PyPDF2' distribution was not found and is required by the application \\\\ \\hline\ngensim & 3.6.0 \\\\ \\hline\nspacy & 2.2.3 \\\\ \\hline\nbokeh & 1.0.4 \\\\ \\hline\n\\hline \\multicolumn{2}{|l|}{Wed Dec 18 15:42:08 2019 UTC} \\\\ \\hline\n\\end{tabular}\n",
            "application/json": {
              "Software versions": [
                {
                  "version": "3.6.9 64bit [GCC 8.3.0]",
                  "module": "Python"
                },
                {
                  "version": "5.5.0",
                  "module": "IPython"
                },
                {
                  "version": "Linux 4.14.137+ x86_64 with Ubuntu 18.04 bionic",
                  "module": "OS"
                },
                {
                  "version": "0.25.3",
                  "module": "pandas"
                },
                {
                  "version": "1.17.4",
                  "module": "numpy"
                },
                {
                  "version": "3.2.5",
                  "module": "nltk"
                },
                {
                  "version": "0.9.0",
                  "module": "seaborn"
                },
                {
                  "version": "3.1.2",
                  "module": "matplotlib"
                },
                {
                  "version": "2.2.1",
                  "module": "re"
                },
                {
                  "version": "The 'PyPDF2' distribution was not found and is required by the application",
                  "module": "PyPDF2"
                },
                {
                  "version": "3.6.0",
                  "module": "gensim"
                },
                {
                  "version": "2.2.3",
                  "module": "spacy"
                },
                {
                  "version": "1.0.4",
                  "module": "bokeh"
                }
              ]
            },
            "text/html": [
              "<table><tr><th>Software</th><th>Version</th></tr><tr><td>Python</td><td>3.6.9 64bit [GCC 8.3.0]</td></tr><tr><td>IPython</td><td>5.5.0</td></tr><tr><td>OS</td><td>Linux 4.14.137+ x86_64 with Ubuntu 18.04 bionic</td></tr><tr><td>pandas</td><td>0.25.3</td></tr><tr><td>numpy</td><td>1.17.4</td></tr><tr><td>nltk</td><td>3.2.5</td></tr><tr><td>seaborn</td><td>0.9.0</td></tr><tr><td>matplotlib</td><td>3.1.2</td></tr><tr><td>re</td><td>2.2.1</td></tr><tr><td>PyPDF2</td><td>The 'PyPDF2' distribution was not found and is required by the application</td></tr><tr><td>gensim</td><td>3.6.0</td></tr><tr><td>spacy</td><td>2.2.3</td></tr><tr><td>bokeh</td><td>1.0.4</td></tr><tr><td colspan='2'>Wed Dec 18 15:42:08 2019 UTC</td></tr></table>"
            ],
            "text/plain": [
              "Software versions\n",
              "Python 3.6.9 64bit [GCC 8.3.0]\n",
              "IPython 5.5.0\n",
              "OS Linux 4.14.137+ x86_64 with Ubuntu 18.04 bionic\n",
              "pandas 0.25.3\n",
              "numpy 1.17.4\n",
              "nltk 3.2.5\n",
              "seaborn 0.9.0\n",
              "matplotlib 3.1.2\n",
              "re 2.2.1\n",
              "PyPDF2 The 'PyPDF2' distribution was not found and is required by the application\n",
              "gensim 3.6.0\n",
              "spacy 2.2.3\n",
              "bokeh 1.0.4\n",
              "Wed Dec 18 15:42:08 2019 UTC"
            ]
          },
          "metadata": {
            "tags": []
          },
          "execution_count": 10
        }
      ]
    },
    {
      "cell_type": "markdown",
      "metadata": {
        "id": "zLcW7CZ8aHaO",
        "colab_type": "text"
      },
      "source": [
        "# 2)- Loading Dataset\n",
        "\n",
        "from kaggle : https://www.kaggle.com/benhamner/nips-papers/data"
      ]
    },
    {
      "cell_type": "code",
      "metadata": {
        "id": "hkphHQF9fa4t",
        "colab_type": "code",
        "outputId": "740a0a65-a0df-4433-d106-0eb272e72137",
        "colab": {
          "base_uri": "https://localhost:8080/",
          "height": 204
        }
      },
      "source": [
        "! pip install kaggle"
      ],
      "execution_count": 11,
      "outputs": [
        {
          "output_type": "stream",
          "text": [
            "Requirement already satisfied: kaggle in /usr/local/lib/python3.6/dist-packages (1.5.6)\n",
            "Requirement already satisfied: python-slugify in /usr/local/lib/python3.6/dist-packages (from kaggle) (4.0.0)\n",
            "Requirement already satisfied: certifi in /usr/local/lib/python3.6/dist-packages (from kaggle) (2019.11.28)\n",
            "Requirement already satisfied: python-dateutil in /usr/local/lib/python3.6/dist-packages (from kaggle) (2.6.1)\n",
            "Requirement already satisfied: urllib3<1.25,>=1.21.1 in /usr/local/lib/python3.6/dist-packages (from kaggle) (1.24.3)\n",
            "Requirement already satisfied: requests in /usr/local/lib/python3.6/dist-packages (from kaggle) (2.21.0)\n",
            "Requirement already satisfied: tqdm in /usr/local/lib/python3.6/dist-packages (from kaggle) (4.28.1)\n",
            "Requirement already satisfied: six>=1.10 in /usr/local/lib/python3.6/dist-packages (from kaggle) (1.12.0)\n",
            "Requirement already satisfied: text-unidecode>=1.3 in /usr/local/lib/python3.6/dist-packages (from python-slugify->kaggle) (1.3)\n",
            "Requirement already satisfied: chardet<3.1.0,>=3.0.2 in /usr/local/lib/python3.6/dist-packages (from requests->kaggle) (3.0.4)\n",
            "Requirement already satisfied: idna<2.9,>=2.5 in /usr/local/lib/python3.6/dist-packages (from requests->kaggle) (2.8)\n"
          ],
          "name": "stdout"
        }
      ]
    },
    {
      "cell_type": "code",
      "metadata": {
        "id": "l4PN2ZIGfa9o",
        "colab_type": "code",
        "outputId": "f630d2f3-d1c2-4f5e-d0c4-0a57411d3a81",
        "colab": {
          "resources": {
            "http://localhost:8080/nbextensions/google.colab/files.js": {
              "data": "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",
              "ok": true,
              "headers": [
                [
                  "content-type",
                  "application/javascript"
                ]
              ],
              "status": 200,
              "status_text": ""
            }
          },
          "base_uri": "https://localhost:8080/",
          "height": 88
        }
      },
      "source": [
        "from google.colab import files\n",
        "files.upload()"
      ],
      "execution_count": 12,
      "outputs": [
        {
          "output_type": "display_data",
          "data": {
            "text/html": [
              "\n",
              "     <input type=\"file\" id=\"files-9f1439d1-10fa-406a-baf7-659e4a5354f6\" name=\"files[]\" multiple disabled />\n",
              "     <output id=\"result-9f1439d1-10fa-406a-baf7-659e4a5354f6\">\n",
              "      Upload widget is only available when the cell has been executed in the\n",
              "      current browser session. Please rerun this cell to enable.\n",
              "      </output>\n",
              "      <script src=\"/nbextensions/google.colab/files.js\"></script> "
            ],
            "text/plain": [
              "<IPython.core.display.HTML object>"
            ]
          },
          "metadata": {
            "tags": []
          }
        },
        {
          "output_type": "stream",
          "text": [
            "Saving kaggle.json to kaggle (1).json\n"
          ],
          "name": "stdout"
        },
        {
          "output_type": "execute_result",
          "data": {
            "text/plain": [
              "{'kaggle.json': b'{\"username\":\"hassansherwani\",\"key\":\"a1ac088054bfd5d79730da00710c5b13\"}'}"
            ]
          },
          "metadata": {
            "tags": []
          },
          "execution_count": 12
        }
      ]
    },
    {
      "cell_type": "code",
      "metadata": {
        "id": "lvUxWWEFgIQO",
        "colab_type": "code",
        "colab": {}
      },
      "source": [
        "#Kaggle API client\n",
        "! mkdir -p ~/.kaggle\n",
        "! cp kaggle.json ~/.kaggle/\n",
        "\n",
        "# This permission change avoids a warning on kaggle tool startup.\n",
        "\n",
        "! chmod 600 ~/.kaggle/kaggle.json"
      ],
      "execution_count": 0,
      "outputs": []
    },
    {
      "cell_type": "code",
      "metadata": {
        "id": "6m3eL2WRgITX",
        "colab_type": "code",
        "outputId": "fce0c764-46af-4283-df98-d8907fd35520",
        "colab": {
          "base_uri": "https://localhost:8080/",
          "height": 34
        }
      },
      "source": [
        "# import data from kaggle API\n",
        "\n",
        "! kaggle datasets download -d benhamner/nips-papers"
      ],
      "execution_count": 14,
      "outputs": [
        {
          "output_type": "stream",
          "text": [
            "nips-papers.zip: Skipping, found more recently modified local copy (use --force to force download)\n"
          ],
          "name": "stdout"
        }
      ]
    },
    {
      "cell_type": "code",
      "metadata": {
        "id": "dpID-qGvgIWg",
        "colab_type": "code",
        "outputId": "d7a82568-ab58-46f8-9712-c19906eb52d6",
        "colab": {
          "base_uri": "https://localhost:8080/",
          "height": 170
        }
      },
      "source": [
        "!unzip nips-papers.zip"
      ],
      "execution_count": 15,
      "outputs": [
        {
          "output_type": "stream",
          "text": [
            "Archive:  nips-papers.zip\n",
            "replace authors.csv? [y]es, [n]o, [A]ll, [N]one, [r]ename: yes\n",
            "  inflating: authors.csv             \n",
            "replace database.sqlite? [y]es, [n]o, [A]ll, [N]one, [r]ename: yes\n",
            "  inflating: database.sqlite         \n",
            "replace paper_authors.csv? [y]es, [n]o, [A]ll, [N]one, [r]ename: yes\n",
            "  inflating: paper_authors.csv       \n",
            "replace papers.csv? [y]es, [n]o, [A]ll, [N]one, [r]ename: yes\n",
            "  inflating: papers.csv              \n"
          ],
          "name": "stdout"
        }
      ]
    },
    {
      "cell_type": "code",
      "metadata": {
        "id": "4fYloKA6aHaP",
        "colab_type": "code",
        "outputId": "c237caae-fd74-41fc-f18c-3ff5287d985d",
        "colab": {
          "base_uri": "https://localhost:8080/",
          "height": 204
        }
      },
      "source": [
        "data=pd.read_csv('papers.csv')\n",
        "data.head()"
      ],
      "execution_count": 16,
      "outputs": [
        {
          "output_type": "execute_result",
          "data": {
            "text/html": [
              "<div>\n",
              "<style scoped>\n",
              "    .dataframe tbody tr th:only-of-type {\n",
              "        vertical-align: middle;\n",
              "    }\n",
              "\n",
              "    .dataframe tbody tr th {\n",
              "        vertical-align: top;\n",
              "    }\n",
              "\n",
              "    .dataframe thead th {\n",
              "        text-align: right;\n",
              "    }\n",
              "</style>\n",
              "<table border=\"1\" class=\"dataframe\">\n",
              "  <thead>\n",
              "    <tr style=\"text-align: right;\">\n",
              "      <th></th>\n",
              "      <th>id</th>\n",
              "      <th>year</th>\n",
              "      <th>title</th>\n",
              "      <th>event_type</th>\n",
              "      <th>pdf_name</th>\n",
              "      <th>abstract</th>\n",
              "      <th>paper_text</th>\n",
              "    </tr>\n",
              "  </thead>\n",
              "  <tbody>\n",
              "    <tr>\n",
              "      <th>0</th>\n",
              "      <td>1</td>\n",
              "      <td>1987</td>\n",
              "      <td>Self-Organization of Associative Database and ...</td>\n",
              "      <td>NaN</td>\n",
              "      <td>1-self-organization-of-associative-database-an...</td>\n",
              "      <td>Abstract Missing</td>\n",
              "      <td>767\\n\\nSELF-ORGANIZATION OF ASSOCIATIVE DATABA...</td>\n",
              "    </tr>\n",
              "    <tr>\n",
              "      <th>1</th>\n",
              "      <td>10</td>\n",
              "      <td>1987</td>\n",
              "      <td>A Mean Field Theory of Layer IV of Visual Cort...</td>\n",
              "      <td>NaN</td>\n",
              "      <td>10-a-mean-field-theory-of-layer-iv-of-visual-c...</td>\n",
              "      <td>Abstract Missing</td>\n",
              "      <td>683\\n\\nA MEAN FIELD THEORY OF LAYER IV OF VISU...</td>\n",
              "    </tr>\n",
              "    <tr>\n",
              "      <th>2</th>\n",
              "      <td>100</td>\n",
              "      <td>1988</td>\n",
              "      <td>Storing Covariance by the Associative Long-Ter...</td>\n",
              "      <td>NaN</td>\n",
              "      <td>100-storing-covariance-by-the-associative-long...</td>\n",
              "      <td>Abstract Missing</td>\n",
              "      <td>394\\n\\nSTORING COVARIANCE BY THE ASSOCIATIVE\\n...</td>\n",
              "    </tr>\n",
              "    <tr>\n",
              "      <th>3</th>\n",
              "      <td>1000</td>\n",
              "      <td>1994</td>\n",
              "      <td>Bayesian Query Construction for Neural Network...</td>\n",
              "      <td>NaN</td>\n",
              "      <td>1000-bayesian-query-construction-for-neural-ne...</td>\n",
              "      <td>Abstract Missing</td>\n",
              "      <td>Bayesian Query Construction for Neural\\nNetwor...</td>\n",
              "    </tr>\n",
              "    <tr>\n",
              "      <th>4</th>\n",
              "      <td>1001</td>\n",
              "      <td>1994</td>\n",
              "      <td>Neural Network Ensembles, Cross Validation, an...</td>\n",
              "      <td>NaN</td>\n",
              "      <td>1001-neural-network-ensembles-cross-validation...</td>\n",
              "      <td>Abstract Missing</td>\n",
              "      <td>Neural Network Ensembles, Cross\\nValidation, a...</td>\n",
              "    </tr>\n",
              "  </tbody>\n",
              "</table>\n",
              "</div>"
            ],
            "text/plain": [
              "     id  ...                                         paper_text\n",
              "0     1  ...  767\\n\\nSELF-ORGANIZATION OF ASSOCIATIVE DATABA...\n",
              "1    10  ...  683\\n\\nA MEAN FIELD THEORY OF LAYER IV OF VISU...\n",
              "2   100  ...  394\\n\\nSTORING COVARIANCE BY THE ASSOCIATIVE\\n...\n",
              "3  1000  ...  Bayesian Query Construction for Neural\\nNetwor...\n",
              "4  1001  ...  Neural Network Ensembles, Cross\\nValidation, a...\n",
              "\n",
              "[5 rows x 7 columns]"
            ]
          },
          "metadata": {
            "tags": []
          },
          "execution_count": 16
        }
      ]
    },
    {
      "cell_type": "code",
      "metadata": {
        "id": "HabKI8DQaHaR",
        "colab_type": "code",
        "outputId": "2bf52f2e-7784-44a2-9617-bb9062fbcba8",
        "colab": {
          "base_uri": "https://localhost:8080/",
          "height": 68
        }
      },
      "source": [
        "data.columns"
      ],
      "execution_count": 17,
      "outputs": [
        {
          "output_type": "execute_result",
          "data": {
            "text/plain": [
              "Index(['id', 'year', 'title', 'event_type', 'pdf_name', 'abstract',\n",
              "       'paper_text'],\n",
              "      dtype='object')"
            ]
          },
          "metadata": {
            "tags": []
          },
          "execution_count": 17
        }
      ]
    },
    {
      "cell_type": "code",
      "metadata": {
        "scrolled": false,
        "id": "EYad6D5CaHaS",
        "colab_type": "code",
        "outputId": "bc9fc28c-a347-4845-bb0e-cae33eb83d62",
        "colab": {
          "base_uri": "https://localhost:8080/",
          "height": 221
        }
      },
      "source": [
        "data.info()"
      ],
      "execution_count": 18,
      "outputs": [
        {
          "output_type": "stream",
          "text": [
            "<class 'pandas.core.frame.DataFrame'>\n",
            "RangeIndex: 7241 entries, 0 to 7240\n",
            "Data columns (total 7 columns):\n",
            "id            7241 non-null int64\n",
            "year          7241 non-null int64\n",
            "title         7241 non-null object\n",
            "event_type    2422 non-null object\n",
            "pdf_name      7241 non-null object\n",
            "abstract      7241 non-null object\n",
            "paper_text    7241 non-null object\n",
            "dtypes: int64(2), object(5)\n",
            "memory usage: 396.1+ KB\n"
          ],
          "name": "stdout"
        }
      ]
    },
    {
      "cell_type": "code",
      "metadata": {
        "id": "kEED82JQaHaU",
        "colab_type": "code",
        "outputId": "8bb76564-4d92-490e-91ed-37b2c3456faa",
        "colab": {
          "base_uri": "https://localhost:8080/",
          "height": 34
        }
      },
      "source": [
        "data.shape"
      ],
      "execution_count": 19,
      "outputs": [
        {
          "output_type": "execute_result",
          "data": {
            "text/plain": [
              "(7241, 7)"
            ]
          },
          "metadata": {
            "tags": []
          },
          "execution_count": 19
        }
      ]
    },
    {
      "cell_type": "code",
      "metadata": {
        "id": "4u7vVxV9aHaW",
        "colab_type": "code",
        "colab": {}
      },
      "source": [
        "# we shall create a smaller dataset with our features of interest\n",
        "\n",
        "dataset= data[['id','year','title','abstract','paper_text']]"
      ],
      "execution_count": 0,
      "outputs": []
    },
    {
      "cell_type": "code",
      "metadata": {
        "id": "VQsh7WxHaHaY",
        "colab_type": "code",
        "outputId": "13e3ebe9-6f5a-4661-fc9b-8904b967cd07",
        "colab": {
          "base_uri": "https://localhost:8080/",
          "height": 34
        }
      },
      "source": [
        "dataset.shape"
      ],
      "execution_count": 21,
      "outputs": [
        {
          "output_type": "execute_result",
          "data": {
            "text/plain": [
              "(7241, 5)"
            ]
          },
          "metadata": {
            "tags": []
          },
          "execution_count": 21
        }
      ]
    },
    {
      "cell_type": "code",
      "metadata": {
        "id": "AHIAiym4aHaZ",
        "colab_type": "code",
        "outputId": "e1e7ee90-0c2b-453f-85ca-78047cbdc8b4",
        "colab": {
          "base_uri": "https://localhost:8080/",
          "height": 204
        }
      },
      "source": [
        "dataset.head()"
      ],
      "execution_count": 22,
      "outputs": [
        {
          "output_type": "execute_result",
          "data": {
            "text/html": [
              "<div>\n",
              "<style scoped>\n",
              "    .dataframe tbody tr th:only-of-type {\n",
              "        vertical-align: middle;\n",
              "    }\n",
              "\n",
              "    .dataframe tbody tr th {\n",
              "        vertical-align: top;\n",
              "    }\n",
              "\n",
              "    .dataframe thead th {\n",
              "        text-align: right;\n",
              "    }\n",
              "</style>\n",
              "<table border=\"1\" class=\"dataframe\">\n",
              "  <thead>\n",
              "    <tr style=\"text-align: right;\">\n",
              "      <th></th>\n",
              "      <th>id</th>\n",
              "      <th>year</th>\n",
              "      <th>title</th>\n",
              "      <th>abstract</th>\n",
              "      <th>paper_text</th>\n",
              "    </tr>\n",
              "  </thead>\n",
              "  <tbody>\n",
              "    <tr>\n",
              "      <th>0</th>\n",
              "      <td>1</td>\n",
              "      <td>1987</td>\n",
              "      <td>Self-Organization of Associative Database and ...</td>\n",
              "      <td>Abstract Missing</td>\n",
              "      <td>767\\n\\nSELF-ORGANIZATION OF ASSOCIATIVE DATABA...</td>\n",
              "    </tr>\n",
              "    <tr>\n",
              "      <th>1</th>\n",
              "      <td>10</td>\n",
              "      <td>1987</td>\n",
              "      <td>A Mean Field Theory of Layer IV of Visual Cort...</td>\n",
              "      <td>Abstract Missing</td>\n",
              "      <td>683\\n\\nA MEAN FIELD THEORY OF LAYER IV OF VISU...</td>\n",
              "    </tr>\n",
              "    <tr>\n",
              "      <th>2</th>\n",
              "      <td>100</td>\n",
              "      <td>1988</td>\n",
              "      <td>Storing Covariance by the Associative Long-Ter...</td>\n",
              "      <td>Abstract Missing</td>\n",
              "      <td>394\\n\\nSTORING COVARIANCE BY THE ASSOCIATIVE\\n...</td>\n",
              "    </tr>\n",
              "    <tr>\n",
              "      <th>3</th>\n",
              "      <td>1000</td>\n",
              "      <td>1994</td>\n",
              "      <td>Bayesian Query Construction for Neural Network...</td>\n",
              "      <td>Abstract Missing</td>\n",
              "      <td>Bayesian Query Construction for Neural\\nNetwor...</td>\n",
              "    </tr>\n",
              "    <tr>\n",
              "      <th>4</th>\n",
              "      <td>1001</td>\n",
              "      <td>1994</td>\n",
              "      <td>Neural Network Ensembles, Cross Validation, an...</td>\n",
              "      <td>Abstract Missing</td>\n",
              "      <td>Neural Network Ensembles, Cross\\nValidation, a...</td>\n",
              "    </tr>\n",
              "  </tbody>\n",
              "</table>\n",
              "</div>"
            ],
            "text/plain": [
              "     id  ...                                         paper_text\n",
              "0     1  ...  767\\n\\nSELF-ORGANIZATION OF ASSOCIATIVE DATABA...\n",
              "1    10  ...  683\\n\\nA MEAN FIELD THEORY OF LAYER IV OF VISU...\n",
              "2   100  ...  394\\n\\nSTORING COVARIANCE BY THE ASSOCIATIVE\\n...\n",
              "3  1000  ...  Bayesian Query Construction for Neural\\nNetwor...\n",
              "4  1001  ...  Neural Network Ensembles, Cross\\nValidation, a...\n",
              "\n",
              "[5 rows x 5 columns]"
            ]
          },
          "metadata": {
            "tags": []
          },
          "execution_count": 22
        }
      ]
    },
    {
      "cell_type": "code",
      "metadata": {
        "id": "USDa7r2LaHab",
        "colab_type": "code",
        "outputId": "6887aaa0-aaf6-435c-8324-32a809f5ca67",
        "colab": {
          "base_uri": "https://localhost:8080/",
          "height": 204
        }
      },
      "source": [
        "dataset.tail()"
      ],
      "execution_count": 23,
      "outputs": [
        {
          "output_type": "execute_result",
          "data": {
            "text/html": [
              "<div>\n",
              "<style scoped>\n",
              "    .dataframe tbody tr th:only-of-type {\n",
              "        vertical-align: middle;\n",
              "    }\n",
              "\n",
              "    .dataframe tbody tr th {\n",
              "        vertical-align: top;\n",
              "    }\n",
              "\n",
              "    .dataframe thead th {\n",
              "        text-align: right;\n",
              "    }\n",
              "</style>\n",
              "<table border=\"1\" class=\"dataframe\">\n",
              "  <thead>\n",
              "    <tr style=\"text-align: right;\">\n",
              "      <th></th>\n",
              "      <th>id</th>\n",
              "      <th>year</th>\n",
              "      <th>title</th>\n",
              "      <th>abstract</th>\n",
              "      <th>paper_text</th>\n",
              "    </tr>\n",
              "  </thead>\n",
              "  <tbody>\n",
              "    <tr>\n",
              "      <th>7236</th>\n",
              "      <td>994</td>\n",
              "      <td>1994</td>\n",
              "      <td>Single Transistor Learning Synapses</td>\n",
              "      <td>Abstract Missing</td>\n",
              "      <td>Single Transistor Learning Synapses\\n\\nPaul Ha...</td>\n",
              "    </tr>\n",
              "    <tr>\n",
              "      <th>7237</th>\n",
              "      <td>996</td>\n",
              "      <td>1994</td>\n",
              "      <td>Bias, Variance and the Combination of Least Sq...</td>\n",
              "      <td>Abstract Missing</td>\n",
              "      <td>Bias, Variance and the Combination of\\nLeast S...</td>\n",
              "    </tr>\n",
              "    <tr>\n",
              "      <th>7238</th>\n",
              "      <td>997</td>\n",
              "      <td>1994</td>\n",
              "      <td>A Real Time Clustering CMOS Neural Engine</td>\n",
              "      <td>Abstract Missing</td>\n",
              "      <td>A Real Time Clustering CMOS\\nNeural Engine\\nT....</td>\n",
              "    </tr>\n",
              "    <tr>\n",
              "      <th>7239</th>\n",
              "      <td>998</td>\n",
              "      <td>1994</td>\n",
              "      <td>Learning direction in global motion: two class...</td>\n",
              "      <td>Abstract Missing</td>\n",
              "      <td>Learning direction in global motion: two\\nclas...</td>\n",
              "    </tr>\n",
              "    <tr>\n",
              "      <th>7240</th>\n",
              "      <td>999</td>\n",
              "      <td>1994</td>\n",
              "      <td>Correlation and Interpolation Networks for Rea...</td>\n",
              "      <td>Abstract Missing</td>\n",
              "      <td>Correlation and Interpolation Networks for\\nRe...</td>\n",
              "    </tr>\n",
              "  </tbody>\n",
              "</table>\n",
              "</div>"
            ],
            "text/plain": [
              "       id  ...                                         paper_text\n",
              "7236  994  ...  Single Transistor Learning Synapses\\n\\nPaul Ha...\n",
              "7237  996  ...  Bias, Variance and the Combination of\\nLeast S...\n",
              "7238  997  ...  A Real Time Clustering CMOS\\nNeural Engine\\nT....\n",
              "7239  998  ...  Learning direction in global motion: two\\nclas...\n",
              "7240  999  ...  Correlation and Interpolation Networks for\\nRe...\n",
              "\n",
              "[5 rows x 5 columns]"
            ]
          },
          "metadata": {
            "tags": []
          },
          "execution_count": 23
        }
      ]
    },
    {
      "cell_type": "markdown",
      "metadata": {
        "id": "9vVL10mUaHad",
        "colab_type": "text"
      },
      "source": [
        "# 3)- data exploration"
      ]
    },
    {
      "cell_type": "markdown",
      "metadata": {
        "id": "GBeXg6C7aHad",
        "colab_type": "text"
      },
      "source": [
        "### 3.1)-Number of published papers per year"
      ]
    },
    {
      "cell_type": "code",
      "metadata": {
        "id": "v_i80cevaHae",
        "colab_type": "code",
        "outputId": "a8b5492d-605f-4086-ebf2-c34270dbe791",
        "colab": {
          "base_uri": "https://localhost:8080/",
          "height": 709
        }
      },
      "source": [
        "groups = dataset.groupby('year')\n",
        "counts = groups.size()\n",
        "\n",
        "plt.figure(figsize = (13, 8))\n",
        "ax = sns.barplot(counts.index, counts.values, palette=(\"magma\"))\n",
        "ax.set_xlabel(\"Year\",fontsize = 15, labelpad = 15)\n",
        "plt.xticks(rotation = 90)\n",
        "plt.show()"
      ],
      "execution_count": 24,
      "outputs": [
        {
          "output_type": "display_data",
          "data": {
            "text/plain": [
              "<Figure size 936x576 with 1 Axes>"
            ],
            "image/svg+xml": "<?xml version=\"1.0\" encoding=\"utf-8\" standalone=\"no\"?>\n<!DOCTYPE svg PUBLIC \"-//W3C//DTD SVG 1.1//EN\"\n  \"http://www.w3.org/Graphics/SVG/1.1/DTD/svg11.dtd\">\n<!-- Created with matplotlib (https://matplotlib.org/) -->\n<svg height=\"516.292187pt\" version=\"1.1\" viewBox=\"0 0 770.29625 516.292187\" width=\"770.29625pt\" xmlns=\"http://www.w3.org/2000/svg\" xmlns:xlink=\"http://www.w3.org/1999/xlink\">\n <defs>\n  <style type=\"text/css\">\n*{stroke-linecap:butt;stroke-linejoin:round;}\n  </style>\n </defs>\n <g id=\"figure_1\">\n  <g id=\"patch_1\">\n   <path d=\"M 0 516.292187 \nL 770.29625 516.292187 \nL 770.29625 0 \nL 0 0 \nz\n\" style=\"fill:#ffffff;\"/>\n  </g>\n  <g id=\"axes_1\">\n   <g id=\"patch_2\">\n    <path d=\"M 37.69625 442.08 \nL 763.09625 442.08 \nL 763.09625 7.2 \nL 37.69625 7.2 \nz\n\" style=\"fill:#eaeaf2;\"/>\n   </g>\n   <g id=\"matplotlib.axis_1\">\n    <g id=\"xtick_1\">\n     <g id=\"text_1\">\n      <!-- 1987 -->\n      <defs>\n       <path d=\"M 12.40625 8.296875 \nL 28.515625 8.296875 \nL 28.515625 63.921875 \nL 10.984375 60.40625 \nL 10.984375 69.390625 \nL 28.421875 72.90625 \nL 38.28125 72.90625 \nL 38.28125 8.296875 \nL 54.390625 8.296875 \nL 54.390625 0 \nL 12.40625 0 \nz\n\" id=\"DejaVuSans-49\"/>\n       <path d=\"M 10.984375 1.515625 \nL 10.984375 10.5 \nQ 14.703125 8.734375 18.5 7.8125 \nQ 22.3125 6.890625 25.984375 6.890625 \nQ 35.75 6.890625 40.890625 13.453125 \nQ 46.046875 20.015625 46.78125 33.40625 \nQ 43.953125 29.203125 39.59375 26.953125 \nQ 35.25 24.703125 29.984375 24.703125 \nQ 19.046875 24.703125 12.671875 31.3125 \nQ 6.296875 37.9375 6.296875 49.421875 \nQ 6.296875 60.640625 12.9375 67.421875 \nQ 19.578125 74.21875 30.609375 74.21875 \nQ 43.265625 74.21875 49.921875 64.515625 \nQ 56.59375 54.828125 56.59375 36.375 \nQ 56.59375 19.140625 48.40625 8.859375 \nQ 40.234375 -1.421875 26.421875 -1.421875 \nQ 22.703125 -1.421875 18.890625 -0.6875 \nQ 15.09375 0.046875 10.984375 1.515625 \nz\nM 30.609375 32.421875 \nQ 37.25 32.421875 41.125 36.953125 \nQ 45.015625 41.5 45.015625 49.421875 \nQ 45.015625 57.28125 41.125 61.84375 \nQ 37.25 66.40625 30.609375 66.40625 \nQ 23.96875 66.40625 20.09375 61.84375 \nQ 16.21875 57.28125 16.21875 49.421875 \nQ 16.21875 41.5 20.09375 36.953125 \nQ 23.96875 32.421875 30.609375 32.421875 \nz\n\" id=\"DejaVuSans-57\"/>\n       <path d=\"M 31.78125 34.625 \nQ 24.75 34.625 20.71875 30.859375 \nQ 16.703125 27.09375 16.703125 20.515625 \nQ 16.703125 13.921875 20.71875 10.15625 \nQ 24.75 6.390625 31.78125 6.390625 \nQ 38.8125 6.390625 42.859375 10.171875 \nQ 46.921875 13.96875 46.921875 20.515625 \nQ 46.921875 27.09375 42.890625 30.859375 \nQ 38.875 34.625 31.78125 34.625 \nz\nM 21.921875 38.8125 \nQ 15.578125 40.375 12.03125 44.71875 \nQ 8.5 49.078125 8.5 55.328125 \nQ 8.5 64.0625 14.71875 69.140625 \nQ 20.953125 74.21875 31.78125 74.21875 \nQ 42.671875 74.21875 48.875 69.140625 \nQ 55.078125 64.0625 55.078125 55.328125 \nQ 55.078125 49.078125 51.53125 44.71875 \nQ 48 40.375 41.703125 38.8125 \nQ 48.828125 37.15625 52.796875 32.3125 \nQ 56.78125 27.484375 56.78125 20.515625 \nQ 56.78125 9.90625 50.3125 4.234375 \nQ 43.84375 -1.421875 31.78125 -1.421875 \nQ 19.734375 -1.421875 13.25 4.234375 \nQ 6.78125 9.90625 6.78125 20.515625 \nQ 6.78125 27.484375 10.78125 32.3125 \nQ 14.796875 37.15625 21.921875 38.8125 \nz\nM 18.3125 54.390625 \nQ 18.3125 48.734375 21.84375 45.5625 \nQ 25.390625 42.390625 31.78125 42.390625 \nQ 38.140625 42.390625 41.71875 45.5625 \nQ 45.3125 48.734375 45.3125 54.390625 \nQ 45.3125 60.0625 41.71875 63.234375 \nQ 38.140625 66.40625 31.78125 66.40625 \nQ 25.390625 66.40625 21.84375 63.234375 \nQ 18.3125 60.0625 18.3125 54.390625 \nz\n\" id=\"DejaVuSans-56\"/>\n       <path d=\"M 8.203125 72.90625 \nL 55.078125 72.90625 \nL 55.078125 68.703125 \nL 28.609375 0 \nL 18.3125 0 \nL 43.21875 64.59375 \nL 8.203125 64.59375 \nz\n\" id=\"DejaVuSans-55\"/>\n      </defs>\n      <g style=\"fill:#262626;\" transform=\"translate(52.431563 479.575)rotate(-90)scale(0.11 -0.11)\">\n       <use xlink:href=\"#DejaVuSans-49\"/>\n       <use x=\"63.623047\" xlink:href=\"#DejaVuSans-57\"/>\n       <use x=\"127.246094\" xlink:href=\"#DejaVuSans-56\"/>\n       <use x=\"190.869141\" xlink:href=\"#DejaVuSans-55\"/>\n      </g>\n     </g>\n    </g>\n    <g id=\"xtick_2\">\n     <g id=\"text_2\">\n      <!-- 1988 -->\n      <g style=\"fill:#262626;\" transform=\"translate(75.831563 479.575)rotate(-90)scale(0.11 -0.11)\">\n       <use xlink:href=\"#DejaVuSans-49\"/>\n       <use x=\"63.623047\" xlink:href=\"#DejaVuSans-57\"/>\n       <use x=\"127.246094\" xlink:href=\"#DejaVuSans-56\"/>\n       <use x=\"190.869141\" xlink:href=\"#DejaVuSans-56\"/>\n      </g>\n     </g>\n    </g>\n    <g id=\"xtick_3\">\n     <g id=\"text_3\">\n      <!-- 1989 -->\n      <g style=\"fill:#262626;\" transform=\"translate(99.231563 479.575)rotate(-90)scale(0.11 -0.11)\">\n       <use xlink:href=\"#DejaVuSans-49\"/>\n       <use x=\"63.623047\" xlink:href=\"#DejaVuSans-57\"/>\n       <use x=\"127.246094\" xlink:href=\"#DejaVuSans-56\"/>\n       <use x=\"190.869141\" xlink:href=\"#DejaVuSans-57\"/>\n      </g>\n     </g>\n    </g>\n    <g id=\"xtick_4\">\n     <g id=\"text_4\">\n      <!-- 1990 -->\n      <defs>\n       <path d=\"M 31.78125 66.40625 \nQ 24.171875 66.40625 20.328125 58.90625 \nQ 16.5 51.421875 16.5 36.375 \nQ 16.5 21.390625 20.328125 13.890625 \nQ 24.171875 6.390625 31.78125 6.390625 \nQ 39.453125 6.390625 43.28125 13.890625 \nQ 47.125 21.390625 47.125 36.375 \nQ 47.125 51.421875 43.28125 58.90625 \nQ 39.453125 66.40625 31.78125 66.40625 \nz\nM 31.78125 74.21875 \nQ 44.046875 74.21875 50.515625 64.515625 \nQ 56.984375 54.828125 56.984375 36.375 \nQ 56.984375 17.96875 50.515625 8.265625 \nQ 44.046875 -1.421875 31.78125 -1.421875 \nQ 19.53125 -1.421875 13.0625 8.265625 \nQ 6.59375 17.96875 6.59375 36.375 \nQ 6.59375 54.828125 13.0625 64.515625 \nQ 19.53125 74.21875 31.78125 74.21875 \nz\n\" id=\"DejaVuSans-48\"/>\n      </defs>\n      <g style=\"fill:#262626;\" transform=\"translate(122.631563 479.575)rotate(-90)scale(0.11 -0.11)\">\n       <use xlink:href=\"#DejaVuSans-49\"/>\n       <use x=\"63.623047\" xlink:href=\"#DejaVuSans-57\"/>\n       <use x=\"127.246094\" xlink:href=\"#DejaVuSans-57\"/>\n       <use x=\"190.869141\" xlink:href=\"#DejaVuSans-48\"/>\n      </g>\n     </g>\n    </g>\n    <g id=\"xtick_5\">\n     <g id=\"text_5\">\n      <!-- 1991 -->\n      <g style=\"fill:#262626;\" transform=\"translate(146.031563 479.575)rotate(-90)scale(0.11 -0.11)\">\n       <use xlink:href=\"#DejaVuSans-49\"/>\n       <use x=\"63.623047\" xlink:href=\"#DejaVuSans-57\"/>\n       <use x=\"127.246094\" xlink:href=\"#DejaVuSans-57\"/>\n       <use x=\"190.869141\" xlink:href=\"#DejaVuSans-49\"/>\n      </g>\n     </g>\n    </g>\n    <g id=\"xtick_6\">\n     <g id=\"text_6\">\n      <!-- 1992 -->\n      <defs>\n       <path d=\"M 19.1875 8.296875 \nL 53.609375 8.296875 \nL 53.609375 0 \nL 7.328125 0 \nL 7.328125 8.296875 \nQ 12.9375 14.109375 22.625 23.890625 \nQ 32.328125 33.6875 34.8125 36.53125 \nQ 39.546875 41.84375 41.421875 45.53125 \nQ 43.3125 49.21875 43.3125 52.78125 \nQ 43.3125 58.59375 39.234375 62.25 \nQ 35.15625 65.921875 28.609375 65.921875 \nQ 23.96875 65.921875 18.8125 64.3125 \nQ 13.671875 62.703125 7.8125 59.421875 \nL 7.8125 69.390625 \nQ 13.765625 71.78125 18.9375 73 \nQ 24.125 74.21875 28.421875 74.21875 \nQ 39.75 74.21875 46.484375 68.546875 \nQ 53.21875 62.890625 53.21875 53.421875 \nQ 53.21875 48.921875 51.53125 44.890625 \nQ 49.859375 40.875 45.40625 35.40625 \nQ 44.1875 33.984375 37.640625 27.21875 \nQ 31.109375 20.453125 19.1875 8.296875 \nz\n\" id=\"DejaVuSans-50\"/>\n      </defs>\n      <g style=\"fill:#262626;\" transform=\"translate(169.431563 479.575)rotate(-90)scale(0.11 -0.11)\">\n       <use xlink:href=\"#DejaVuSans-49\"/>\n       <use x=\"63.623047\" xlink:href=\"#DejaVuSans-57\"/>\n       <use x=\"127.246094\" xlink:href=\"#DejaVuSans-57\"/>\n       <use x=\"190.869141\" xlink:href=\"#DejaVuSans-50\"/>\n      </g>\n     </g>\n    </g>\n    <g id=\"xtick_7\">\n     <g id=\"text_7\">\n      <!-- 1993 -->\n      <defs>\n       <path d=\"M 40.578125 39.3125 \nQ 47.65625 37.796875 51.625 33 \nQ 55.609375 28.21875 55.609375 21.1875 \nQ 55.609375 10.40625 48.1875 4.484375 \nQ 40.765625 -1.421875 27.09375 -1.421875 \nQ 22.515625 -1.421875 17.65625 -0.515625 \nQ 12.796875 0.390625 7.625 2.203125 \nL 7.625 11.71875 \nQ 11.71875 9.328125 16.59375 8.109375 \nQ 21.484375 6.890625 26.8125 6.890625 \nQ 36.078125 6.890625 40.9375 10.546875 \nQ 45.796875 14.203125 45.796875 21.1875 \nQ 45.796875 27.640625 41.28125 31.265625 \nQ 36.765625 34.90625 28.71875 34.90625 \nL 20.21875 34.90625 \nL 20.21875 43.015625 \nL 29.109375 43.015625 \nQ 36.375 43.015625 40.234375 45.921875 \nQ 44.09375 48.828125 44.09375 54.296875 \nQ 44.09375 59.90625 40.109375 62.90625 \nQ 36.140625 65.921875 28.71875 65.921875 \nQ 24.65625 65.921875 20.015625 65.03125 \nQ 15.375 64.15625 9.8125 62.3125 \nL 9.8125 71.09375 \nQ 15.4375 72.65625 20.34375 73.4375 \nQ 25.25 74.21875 29.59375 74.21875 \nQ 40.828125 74.21875 47.359375 69.109375 \nQ 53.90625 64.015625 53.90625 55.328125 \nQ 53.90625 49.265625 50.4375 45.09375 \nQ 46.96875 40.921875 40.578125 39.3125 \nz\n\" id=\"DejaVuSans-51\"/>\n      </defs>\n      <g style=\"fill:#262626;\" transform=\"translate(192.831563 479.575)rotate(-90)scale(0.11 -0.11)\">\n       <use xlink:href=\"#DejaVuSans-49\"/>\n       <use x=\"63.623047\" xlink:href=\"#DejaVuSans-57\"/>\n       <use x=\"127.246094\" xlink:href=\"#DejaVuSans-57\"/>\n       <use x=\"190.869141\" xlink:href=\"#DejaVuSans-51\"/>\n      </g>\n     </g>\n    </g>\n    <g id=\"xtick_8\">\n     <g id=\"text_8\">\n      <!-- 1994 -->\n      <defs>\n       <path d=\"M 37.796875 64.3125 \nL 12.890625 25.390625 \nL 37.796875 25.390625 \nz\nM 35.203125 72.90625 \nL 47.609375 72.90625 \nL 47.609375 25.390625 \nL 58.015625 25.390625 \nL 58.015625 17.1875 \nL 47.609375 17.1875 \nL 47.609375 0 \nL 37.796875 0 \nL 37.796875 17.1875 \nL 4.890625 17.1875 \nL 4.890625 26.703125 \nz\n\" id=\"DejaVuSans-52\"/>\n      </defs>\n      <g style=\"fill:#262626;\" transform=\"translate(216.231563 479.575)rotate(-90)scale(0.11 -0.11)\">\n       <use xlink:href=\"#DejaVuSans-49\"/>\n       <use x=\"63.623047\" xlink:href=\"#DejaVuSans-57\"/>\n       <use x=\"127.246094\" xlink:href=\"#DejaVuSans-57\"/>\n       <use x=\"190.869141\" xlink:href=\"#DejaVuSans-52\"/>\n      </g>\n     </g>\n    </g>\n    <g id=\"xtick_9\">\n     <g id=\"text_9\">\n      <!-- 1995 -->\n      <defs>\n       <path d=\"M 10.796875 72.90625 \nL 49.515625 72.90625 \nL 49.515625 64.59375 \nL 19.828125 64.59375 \nL 19.828125 46.734375 \nQ 21.96875 47.46875 24.109375 47.828125 \nQ 26.265625 48.1875 28.421875 48.1875 \nQ 40.625 48.1875 47.75 41.5 \nQ 54.890625 34.8125 54.890625 23.390625 \nQ 54.890625 11.625 47.5625 5.09375 \nQ 40.234375 -1.421875 26.90625 -1.421875 \nQ 22.3125 -1.421875 17.546875 -0.640625 \nQ 12.796875 0.140625 7.71875 1.703125 \nL 7.71875 11.625 \nQ 12.109375 9.234375 16.796875 8.0625 \nQ 21.484375 6.890625 26.703125 6.890625 \nQ 35.15625 6.890625 40.078125 11.328125 \nQ 45.015625 15.765625 45.015625 23.390625 \nQ 45.015625 31 40.078125 35.4375 \nQ 35.15625 39.890625 26.703125 39.890625 \nQ 22.75 39.890625 18.8125 39.015625 \nQ 14.890625 38.140625 10.796875 36.28125 \nz\n\" id=\"DejaVuSans-53\"/>\n      </defs>\n      <g style=\"fill:#262626;\" transform=\"translate(239.631563 479.575)rotate(-90)scale(0.11 -0.11)\">\n       <use xlink:href=\"#DejaVuSans-49\"/>\n       <use x=\"63.623047\" xlink:href=\"#DejaVuSans-57\"/>\n       <use x=\"127.246094\" xlink:href=\"#DejaVuSans-57\"/>\n       <use x=\"190.869141\" xlink:href=\"#DejaVuSans-53\"/>\n      </g>\n     </g>\n    </g>\n    <g id=\"xtick_10\">\n     <g id=\"text_10\">\n      <!-- 1996 -->\n      <defs>\n       <path d=\"M 33.015625 40.375 \nQ 26.375 40.375 22.484375 35.828125 \nQ 18.609375 31.296875 18.609375 23.390625 \nQ 18.609375 15.53125 22.484375 10.953125 \nQ 26.375 6.390625 33.015625 6.390625 \nQ 39.65625 6.390625 43.53125 10.953125 \nQ 47.40625 15.53125 47.40625 23.390625 \nQ 47.40625 31.296875 43.53125 35.828125 \nQ 39.65625 40.375 33.015625 40.375 \nz\nM 52.59375 71.296875 \nL 52.59375 62.3125 \nQ 48.875 64.0625 45.09375 64.984375 \nQ 41.3125 65.921875 37.59375 65.921875 \nQ 27.828125 65.921875 22.671875 59.328125 \nQ 17.53125 52.734375 16.796875 39.40625 \nQ 19.671875 43.65625 24.015625 45.921875 \nQ 28.375 48.1875 33.59375 48.1875 \nQ 44.578125 48.1875 50.953125 41.515625 \nQ 57.328125 34.859375 57.328125 23.390625 \nQ 57.328125 12.15625 50.6875 5.359375 \nQ 44.046875 -1.421875 33.015625 -1.421875 \nQ 20.359375 -1.421875 13.671875 8.265625 \nQ 6.984375 17.96875 6.984375 36.375 \nQ 6.984375 53.65625 15.1875 63.9375 \nQ 23.390625 74.21875 37.203125 74.21875 \nQ 40.921875 74.21875 44.703125 73.484375 \nQ 48.484375 72.75 52.59375 71.296875 \nz\n\" id=\"DejaVuSans-54\"/>\n      </defs>\n      <g style=\"fill:#262626;\" transform=\"translate(263.031563 479.575)rotate(-90)scale(0.11 -0.11)\">\n       <use xlink:href=\"#DejaVuSans-49\"/>\n       <use x=\"63.623047\" xlink:href=\"#DejaVuSans-57\"/>\n       <use x=\"127.246094\" xlink:href=\"#DejaVuSans-57\"/>\n       <use x=\"190.869141\" xlink:href=\"#DejaVuSans-54\"/>\n      </g>\n     </g>\n    </g>\n    <g id=\"xtick_11\">\n     <g id=\"text_11\">\n      <!-- 1997 -->\n      <g style=\"fill:#262626;\" transform=\"translate(286.431563 479.575)rotate(-90)scale(0.11 -0.11)\">\n       <use xlink:href=\"#DejaVuSans-49\"/>\n       <use x=\"63.623047\" xlink:href=\"#DejaVuSans-57\"/>\n       <use x=\"127.246094\" xlink:href=\"#DejaVuSans-57\"/>\n       <use x=\"190.869141\" xlink:href=\"#DejaVuSans-55\"/>\n      </g>\n     </g>\n    </g>\n    <g id=\"xtick_12\">\n     <g id=\"text_12\">\n      <!-- 1998 -->\n      <g style=\"fill:#262626;\" transform=\"translate(309.831563 479.575)rotate(-90)scale(0.11 -0.11)\">\n       <use xlink:href=\"#DejaVuSans-49\"/>\n       <use x=\"63.623047\" xlink:href=\"#DejaVuSans-57\"/>\n       <use x=\"127.246094\" xlink:href=\"#DejaVuSans-57\"/>\n       <use x=\"190.869141\" xlink:href=\"#DejaVuSans-56\"/>\n      </g>\n     </g>\n    </g>\n    <g id=\"xtick_13\">\n     <g id=\"text_13\">\n      <!-- 1999 -->\n      <g style=\"fill:#262626;\" transform=\"translate(333.231562 479.575)rotate(-90)scale(0.11 -0.11)\">\n       <use xlink:href=\"#DejaVuSans-49\"/>\n       <use x=\"63.623047\" xlink:href=\"#DejaVuSans-57\"/>\n       <use x=\"127.246094\" xlink:href=\"#DejaVuSans-57\"/>\n       <use x=\"190.869141\" xlink:href=\"#DejaVuSans-57\"/>\n      </g>\n     </g>\n    </g>\n    <g id=\"xtick_14\">\n     <g id=\"text_14\">\n      <!-- 2000 -->\n      <g style=\"fill:#262626;\" transform=\"translate(356.631563 479.575)rotate(-90)scale(0.11 -0.11)\">\n       <use xlink:href=\"#DejaVuSans-50\"/>\n       <use x=\"63.623047\" xlink:href=\"#DejaVuSans-48\"/>\n       <use x=\"127.246094\" xlink:href=\"#DejaVuSans-48\"/>\n       <use x=\"190.869141\" xlink:href=\"#DejaVuSans-48\"/>\n      </g>\n     </g>\n    </g>\n    <g id=\"xtick_15\">\n     <g id=\"text_15\">\n      <!-- 2001 -->\n      <g style=\"fill:#262626;\" transform=\"translate(380.031563 479.575)rotate(-90)scale(0.11 -0.11)\">\n       <use xlink:href=\"#DejaVuSans-50\"/>\n       <use x=\"63.623047\" xlink:href=\"#DejaVuSans-48\"/>\n       <use x=\"127.246094\" xlink:href=\"#DejaVuSans-48\"/>\n       <use x=\"190.869141\" xlink:href=\"#DejaVuSans-49\"/>\n      </g>\n     </g>\n    </g>\n    <g id=\"xtick_16\">\n     <g id=\"text_16\">\n      <!-- 2002 -->\n      <g style=\"fill:#262626;\" transform=\"translate(403.431563 479.575)rotate(-90)scale(0.11 -0.11)\">\n       <use xlink:href=\"#DejaVuSans-50\"/>\n       <use x=\"63.623047\" xlink:href=\"#DejaVuSans-48\"/>\n       <use x=\"127.246094\" xlink:href=\"#DejaVuSans-48\"/>\n       <use x=\"190.869141\" xlink:href=\"#DejaVuSans-50\"/>\n      </g>\n     </g>\n    </g>\n    <g id=\"xtick_17\">\n     <g id=\"text_17\">\n      <!-- 2003 -->\n      <g style=\"fill:#262626;\" transform=\"translate(426.831563 479.575)rotate(-90)scale(0.11 -0.11)\">\n       <use xlink:href=\"#DejaVuSans-50\"/>\n       <use x=\"63.623047\" xlink:href=\"#DejaVuSans-48\"/>\n       <use x=\"127.246094\" xlink:href=\"#DejaVuSans-48\"/>\n       <use x=\"190.869141\" xlink:href=\"#DejaVuSans-51\"/>\n      </g>\n     </g>\n    </g>\n    <g id=\"xtick_18\">\n     <g id=\"text_18\">\n      <!-- 2004 -->\n      <g style=\"fill:#262626;\" transform=\"translate(450.231562 479.575)rotate(-90)scale(0.11 -0.11)\">\n       <use xlink:href=\"#DejaVuSans-50\"/>\n       <use x=\"63.623047\" xlink:href=\"#DejaVuSans-48\"/>\n       <use x=\"127.246094\" xlink:href=\"#DejaVuSans-48\"/>\n       <use x=\"190.869141\" xlink:href=\"#DejaVuSans-52\"/>\n      </g>\n     </g>\n    </g>\n    <g id=\"xtick_19\">\n     <g id=\"text_19\">\n      <!-- 2005 -->\n      <g style=\"fill:#262626;\" transform=\"translate(473.631563 479.575)rotate(-90)scale(0.11 -0.11)\">\n       <use xlink:href=\"#DejaVuSans-50\"/>\n       <use x=\"63.623047\" xlink:href=\"#DejaVuSans-48\"/>\n       <use x=\"127.246094\" xlink:href=\"#DejaVuSans-48\"/>\n       <use x=\"190.869141\" xlink:href=\"#DejaVuSans-53\"/>\n      </g>\n     </g>\n    </g>\n    <g id=\"xtick_20\">\n     <g id=\"text_20\">\n      <!-- 2006 -->\n      <g style=\"fill:#262626;\" transform=\"translate(497.031563 479.575)rotate(-90)scale(0.11 -0.11)\">\n       <use xlink:href=\"#DejaVuSans-50\"/>\n       <use x=\"63.623047\" xlink:href=\"#DejaVuSans-48\"/>\n       <use x=\"127.246094\" xlink:href=\"#DejaVuSans-48\"/>\n       <use x=\"190.869141\" xlink:href=\"#DejaVuSans-54\"/>\n      </g>\n     </g>\n    </g>\n    <g id=\"xtick_21\">\n     <g id=\"text_21\">\n      <!-- 2007 -->\n      <g style=\"fill:#262626;\" transform=\"translate(520.431563 479.575)rotate(-90)scale(0.11 -0.11)\">\n       <use xlink:href=\"#DejaVuSans-50\"/>\n       <use x=\"63.623047\" xlink:href=\"#DejaVuSans-48\"/>\n       <use x=\"127.246094\" xlink:href=\"#DejaVuSans-48\"/>\n       <use x=\"190.869141\" xlink:href=\"#DejaVuSans-55\"/>\n      </g>\n     </g>\n    </g>\n    <g id=\"xtick_22\">\n     <g id=\"text_22\">\n      <!-- 2008 -->\n      <g style=\"fill:#262626;\" transform=\"translate(543.831563 479.575)rotate(-90)scale(0.11 -0.11)\">\n       <use xlink:href=\"#DejaVuSans-50\"/>\n       <use x=\"63.623047\" xlink:href=\"#DejaVuSans-48\"/>\n       <use x=\"127.246094\" xlink:href=\"#DejaVuSans-48\"/>\n       <use x=\"190.869141\" xlink:href=\"#DejaVuSans-56\"/>\n      </g>\n     </g>\n    </g>\n    <g id=\"xtick_23\">\n     <g id=\"text_23\">\n      <!-- 2009 -->\n      <g style=\"fill:#262626;\" transform=\"translate(567.231563 479.575)rotate(-90)scale(0.11 -0.11)\">\n       <use xlink:href=\"#DejaVuSans-50\"/>\n       <use x=\"63.623047\" xlink:href=\"#DejaVuSans-48\"/>\n       <use x=\"127.246094\" xlink:href=\"#DejaVuSans-48\"/>\n       <use x=\"190.869141\" xlink:href=\"#DejaVuSans-57\"/>\n      </g>\n     </g>\n    </g>\n    <g id=\"xtick_24\">\n     <g id=\"text_24\">\n      <!-- 2010 -->\n      <g style=\"fill:#262626;\" transform=\"translate(590.631563 479.575)rotate(-90)scale(0.11 -0.11)\">\n       <use xlink:href=\"#DejaVuSans-50\"/>\n       <use x=\"63.623047\" xlink:href=\"#DejaVuSans-48\"/>\n       <use x=\"127.246094\" xlink:href=\"#DejaVuSans-49\"/>\n       <use x=\"190.869141\" xlink:href=\"#DejaVuSans-48\"/>\n      </g>\n     </g>\n    </g>\n    <g id=\"xtick_25\">\n     <g id=\"text_25\">\n      <!-- 2011 -->\n      <g style=\"fill:#262626;\" transform=\"translate(614.031563 479.575)rotate(-90)scale(0.11 -0.11)\">\n       <use xlink:href=\"#DejaVuSans-50\"/>\n       <use x=\"63.623047\" xlink:href=\"#DejaVuSans-48\"/>\n       <use x=\"127.246094\" xlink:href=\"#DejaVuSans-49\"/>\n       <use x=\"190.869141\" xlink:href=\"#DejaVuSans-49\"/>\n      </g>\n     </g>\n    </g>\n    <g id=\"xtick_26\">\n     <g id=\"text_26\">\n      <!-- 2012 -->\n      <g style=\"fill:#262626;\" transform=\"translate(637.431563 479.575)rotate(-90)scale(0.11 -0.11)\">\n       <use xlink:href=\"#DejaVuSans-50\"/>\n       <use x=\"63.623047\" xlink:href=\"#DejaVuSans-48\"/>\n       <use x=\"127.246094\" xlink:href=\"#DejaVuSans-49\"/>\n       <use x=\"190.869141\" xlink:href=\"#DejaVuSans-50\"/>\n      </g>\n     </g>\n    </g>\n    <g id=\"xtick_27\">\n     <g id=\"text_27\">\n      <!-- 2013 -->\n      <g style=\"fill:#262626;\" transform=\"translate(660.831563 479.575)rotate(-90)scale(0.11 -0.11)\">\n       <use xlink:href=\"#DejaVuSans-50\"/>\n       <use x=\"63.623047\" xlink:href=\"#DejaVuSans-48\"/>\n       <use x=\"127.246094\" xlink:href=\"#DejaVuSans-49\"/>\n       <use x=\"190.869141\" xlink:href=\"#DejaVuSans-51\"/>\n      </g>\n     </g>\n    </g>\n    <g id=\"xtick_28\">\n     <g id=\"text_28\">\n      <!-- 2014 -->\n      <g style=\"fill:#262626;\" transform=\"translate(684.231563 479.575)rotate(-90)scale(0.11 -0.11)\">\n       <use xlink:href=\"#DejaVuSans-50\"/>\n       <use x=\"63.623047\" xlink:href=\"#DejaVuSans-48\"/>\n       <use x=\"127.246094\" xlink:href=\"#DejaVuSans-49\"/>\n       <use x=\"190.869141\" xlink:href=\"#DejaVuSans-52\"/>\n      </g>\n     </g>\n    </g>\n    <g id=\"xtick_29\">\n     <g id=\"text_29\">\n      <!-- 2015 -->\n      <g style=\"fill:#262626;\" transform=\"translate(707.631563 479.575)rotate(-90)scale(0.11 -0.11)\">\n       <use xlink:href=\"#DejaVuSans-50\"/>\n       <use x=\"63.623047\" xlink:href=\"#DejaVuSans-48\"/>\n       <use x=\"127.246094\" xlink:href=\"#DejaVuSans-49\"/>\n       <use x=\"190.869141\" xlink:href=\"#DejaVuSans-53\"/>\n      </g>\n     </g>\n    </g>\n    <g id=\"xtick_30\">\n     <g id=\"text_30\">\n      <!-- 2016 -->\n      <g style=\"fill:#262626;\" transform=\"translate(731.031563 479.575)rotate(-90)scale(0.11 -0.11)\">\n       <use xlink:href=\"#DejaVuSans-50\"/>\n       <use x=\"63.623047\" xlink:href=\"#DejaVuSans-48\"/>\n       <use x=\"127.246094\" xlink:href=\"#DejaVuSans-49\"/>\n       <use x=\"190.869141\" xlink:href=\"#DejaVuSans-54\"/>\n      </g>\n     </g>\n    </g>\n    <g id=\"xtick_31\">\n     <g id=\"text_31\">\n      <!-- 2017 -->\n      <g style=\"fill:#262626;\" transform=\"translate(754.431563 479.575)rotate(-90)scale(0.11 -0.11)\">\n       <use xlink:href=\"#DejaVuSans-50\"/>\n       <use x=\"63.623047\" xlink:href=\"#DejaVuSans-48\"/>\n       <use x=\"127.246094\" xlink:href=\"#DejaVuSans-49\"/>\n       <use x=\"190.869141\" xlink:href=\"#DejaVuSans-55\"/>\n      </g>\n     </g>\n    </g>\n    <g id=\"text_32\">\n     <!-- Year -->\n     <defs>\n      <path d=\"M -0.203125 72.90625 \nL 10.40625 72.90625 \nL 30.609375 42.921875 \nL 50.6875 72.90625 \nL 61.28125 72.90625 \nL 35.5 34.71875 \nL 35.5 0 \nL 25.59375 0 \nL 25.59375 34.71875 \nz\n\" id=\"DejaVuSans-89\"/>\n      <path d=\"M 56.203125 29.59375 \nL 56.203125 25.203125 \nL 14.890625 25.203125 \nQ 15.484375 15.921875 20.484375 11.0625 \nQ 25.484375 6.203125 34.421875 6.203125 \nQ 39.59375 6.203125 44.453125 7.46875 \nQ 49.3125 8.734375 54.109375 11.28125 \nL 54.109375 2.78125 \nQ 49.265625 0.734375 44.1875 -0.34375 \nQ 39.109375 -1.421875 33.890625 -1.421875 \nQ 20.796875 -1.421875 13.15625 6.1875 \nQ 5.515625 13.8125 5.515625 26.8125 \nQ 5.515625 40.234375 12.765625 48.109375 \nQ 20.015625 56 32.328125 56 \nQ 43.359375 56 49.78125 48.890625 \nQ 56.203125 41.796875 56.203125 29.59375 \nz\nM 47.21875 32.234375 \nQ 47.125 39.59375 43.09375 43.984375 \nQ 39.0625 48.390625 32.421875 48.390625 \nQ 24.90625 48.390625 20.390625 44.140625 \nQ 15.875 39.890625 15.1875 32.171875 \nz\n\" id=\"DejaVuSans-101\"/>\n      <path d=\"M 34.28125 27.484375 \nQ 23.390625 27.484375 19.1875 25 \nQ 14.984375 22.515625 14.984375 16.5 \nQ 14.984375 11.71875 18.140625 8.90625 \nQ 21.296875 6.109375 26.703125 6.109375 \nQ 34.1875 6.109375 38.703125 11.40625 \nQ 43.21875 16.703125 43.21875 25.484375 \nL 43.21875 27.484375 \nz\nM 52.203125 31.203125 \nL 52.203125 0 \nL 43.21875 0 \nL 43.21875 8.296875 \nQ 40.140625 3.328125 35.546875 0.953125 \nQ 30.953125 -1.421875 24.3125 -1.421875 \nQ 15.921875 -1.421875 10.953125 3.296875 \nQ 6 8.015625 6 15.921875 \nQ 6 25.140625 12.171875 29.828125 \nQ 18.359375 34.515625 30.609375 34.515625 \nL 43.21875 34.515625 \nL 43.21875 35.40625 \nQ 43.21875 41.609375 39.140625 45 \nQ 35.0625 48.390625 27.6875 48.390625 \nQ 23 48.390625 18.546875 47.265625 \nQ 14.109375 46.140625 10.015625 43.890625 \nL 10.015625 52.203125 \nQ 14.9375 54.109375 19.578125 55.046875 \nQ 24.21875 56 28.609375 56 \nQ 40.484375 56 46.34375 49.84375 \nQ 52.203125 43.703125 52.203125 31.203125 \nz\n\" id=\"DejaVuSans-97\"/>\n      <path d=\"M 41.109375 46.296875 \nQ 39.59375 47.171875 37.8125 47.578125 \nQ 36.03125 48 33.890625 48 \nQ 26.265625 48 22.1875 43.046875 \nQ 18.109375 38.09375 18.109375 28.8125 \nL 18.109375 0 \nL 9.078125 0 \nL 9.078125 54.6875 \nL 18.109375 54.6875 \nL 18.109375 46.1875 \nQ 20.953125 51.171875 25.484375 53.578125 \nQ 30.03125 56 36.53125 56 \nQ 37.453125 56 38.578125 55.875 \nQ 39.703125 55.765625 41.0625 55.515625 \nz\n\" id=\"DejaVuSans-114\"/>\n     </defs>\n     <g style=\"fill:#262626;\" transform=\"translate(383.536484 505.972656)scale(0.15 -0.15)\">\n      <use xlink:href=\"#DejaVuSans-89\"/>\n      <use x=\"60.880859\" xlink:href=\"#DejaVuSans-101\"/>\n      <use x=\"122.404297\" xlink:href=\"#DejaVuSans-97\"/>\n      <use x=\"183.683594\" xlink:href=\"#DejaVuSans-114\"/>\n     </g>\n    </g>\n   </g>\n   <g id=\"matplotlib.axis_2\">\n    <g id=\"ytick_1\">\n     <g id=\"line2d_1\">\n      <path clip-path=\"url(#p155084b8bf)\" d=\"M 37.69625 442.08 \nL 763.09625 442.08 \n\" style=\"fill:none;stroke:#ffffff;stroke-linecap:round;\"/>\n     </g>\n     <g id=\"text_33\">\n      <!-- 0 -->\n      <g style=\"fill:#262626;\" transform=\"translate(21.1975 446.259141)scale(0.11 -0.11)\">\n       <use xlink:href=\"#DejaVuSans-48\"/>\n      </g>\n     </g>\n    </g>\n    <g id=\"ytick_2\">\n     <g id=\"line2d_2\">\n      <path clip-path=\"url(#p155084b8bf)\" d=\"M 37.69625 381.082735 \nL 763.09625 381.082735 \n\" style=\"fill:none;stroke:#ffffff;stroke-linecap:round;\"/>\n     </g>\n     <g id=\"text_34\">\n      <!-- 100 -->\n      <g style=\"fill:#262626;\" transform=\"translate(7.2 385.261876)scale(0.11 -0.11)\">\n       <use xlink:href=\"#DejaVuSans-49\"/>\n       <use x=\"63.623047\" xlink:href=\"#DejaVuSans-48\"/>\n       <use x=\"127.246094\" xlink:href=\"#DejaVuSans-48\"/>\n      </g>\n     </g>\n    </g>\n    <g id=\"ytick_3\">\n     <g id=\"line2d_3\">\n      <path clip-path=\"url(#p155084b8bf)\" d=\"M 37.69625 320.08547 \nL 763.09625 320.08547 \n\" style=\"fill:none;stroke:#ffffff;stroke-linecap:round;\"/>\n     </g>\n     <g id=\"text_35\">\n      <!-- 200 -->\n      <g style=\"fill:#262626;\" transform=\"translate(7.2 324.264611)scale(0.11 -0.11)\">\n       <use xlink:href=\"#DejaVuSans-50\"/>\n       <use x=\"63.623047\" xlink:href=\"#DejaVuSans-48\"/>\n       <use x=\"127.246094\" xlink:href=\"#DejaVuSans-48\"/>\n      </g>\n     </g>\n    </g>\n    <g id=\"ytick_4\">\n     <g id=\"line2d_4\">\n      <path clip-path=\"url(#p155084b8bf)\" d=\"M 37.69625 259.088205 \nL 763.09625 259.088205 \n\" style=\"fill:none;stroke:#ffffff;stroke-linecap:round;\"/>\n     </g>\n     <g id=\"text_36\">\n      <!-- 300 -->\n      <g style=\"fill:#262626;\" transform=\"translate(7.2 263.267346)scale(0.11 -0.11)\">\n       <use xlink:href=\"#DejaVuSans-51\"/>\n       <use x=\"63.623047\" xlink:href=\"#DejaVuSans-48\"/>\n       <use x=\"127.246094\" xlink:href=\"#DejaVuSans-48\"/>\n      </g>\n     </g>\n    </g>\n    <g id=\"ytick_5\">\n     <g id=\"line2d_5\">\n      <path clip-path=\"url(#p155084b8bf)\" d=\"M 37.69625 198.09094 \nL 763.09625 198.09094 \n\" style=\"fill:none;stroke:#ffffff;stroke-linecap:round;\"/>\n     </g>\n     <g id=\"text_37\">\n      <!-- 400 -->\n      <g style=\"fill:#262626;\" transform=\"translate(7.2 202.270081)scale(0.11 -0.11)\">\n       <use xlink:href=\"#DejaVuSans-52\"/>\n       <use x=\"63.623047\" xlink:href=\"#DejaVuSans-48\"/>\n       <use x=\"127.246094\" xlink:href=\"#DejaVuSans-48\"/>\n      </g>\n     </g>\n    </g>\n    <g id=\"ytick_6\">\n     <g id=\"line2d_6\">\n      <path clip-path=\"url(#p155084b8bf)\" d=\"M 37.69625 137.093676 \nL 763.09625 137.093676 \n\" style=\"fill:none;stroke:#ffffff;stroke-linecap:round;\"/>\n     </g>\n     <g id=\"text_38\">\n      <!-- 500 -->\n      <g style=\"fill:#262626;\" transform=\"translate(7.2 141.272816)scale(0.11 -0.11)\">\n       <use xlink:href=\"#DejaVuSans-53\"/>\n       <use x=\"63.623047\" xlink:href=\"#DejaVuSans-48\"/>\n       <use x=\"127.246094\" xlink:href=\"#DejaVuSans-48\"/>\n      </g>\n     </g>\n    </g>\n    <g id=\"ytick_7\">\n     <g id=\"line2d_7\">\n      <path clip-path=\"url(#p155084b8bf)\" d=\"M 37.69625 76.096411 \nL 763.09625 76.096411 \n\" style=\"fill:none;stroke:#ffffff;stroke-linecap:round;\"/>\n     </g>\n     <g id=\"text_39\">\n      <!-- 600 -->\n      <g style=\"fill:#262626;\" transform=\"translate(7.2 80.275551)scale(0.11 -0.11)\">\n       <use xlink:href=\"#DejaVuSans-54\"/>\n       <use x=\"63.623047\" xlink:href=\"#DejaVuSans-48\"/>\n       <use x=\"127.246094\" xlink:href=\"#DejaVuSans-48\"/>\n      </g>\n     </g>\n    </g>\n    <g id=\"ytick_8\">\n     <g id=\"line2d_8\">\n      <path clip-path=\"url(#p155084b8bf)\" d=\"M 37.69625 15.099146 \nL 763.09625 15.099146 \n\" style=\"fill:none;stroke:#ffffff;stroke-linecap:round;\"/>\n     </g>\n     <g id=\"text_40\">\n      <!-- 700 -->\n      <g style=\"fill:#262626;\" transform=\"translate(7.2 19.278286)scale(0.11 -0.11)\">\n       <use xlink:href=\"#DejaVuSans-55\"/>\n       <use x=\"63.623047\" xlink:href=\"#DejaVuSans-48\"/>\n       <use x=\"127.246094\" xlink:href=\"#DejaVuSans-48\"/>\n      </g>\n     </g>\n    </g>\n   </g>\n   <g id=\"patch_3\">\n    <path clip-path=\"url(#p155084b8bf)\" d=\"M 40.03625 442.08 \nL 58.75625 442.08 \nL 58.75625 387.182462 \nL 40.03625 387.182462 \nz\n\" style=\"fill:#050510;stroke:#ffffff;stroke-linejoin:miter;\"/>\n   </g>\n   <g id=\"patch_4\">\n    <path clip-path=\"url(#p155084b8bf)\" d=\"M 63.43625 442.08 \nL 82.15625 442.08 \nL 82.15625 384.742571 \nL 63.43625 384.742571 \nz\n\" style=\"fill:#0d0b1f;stroke:#ffffff;stroke-linejoin:miter;\"/>\n   </g>\n   <g id=\"patch_5\">\n    <path clip-path=\"url(#p155084b8bf)\" d=\"M 86.83625 442.08 \nL 105.55625 442.08 \nL 105.55625 380.472762 \nL 86.83625 380.472762 \nz\n\" style=\"fill:#16122f;stroke:#ffffff;stroke-linejoin:miter;\"/>\n   </g>\n   <g id=\"patch_6\">\n    <path clip-path=\"url(#p155084b8bf)\" d=\"M 110.23625 442.08 \nL 128.95625 442.08 \nL 128.95625 354.853911 \nL 110.23625 354.853911 \nz\n\" style=\"fill:#211740;stroke:#ffffff;stroke-linejoin:miter;\"/>\n   </g>\n   <g id=\"patch_7\">\n    <path clip-path=\"url(#p155084b8bf)\" d=\"M 133.63625 442.08 \nL 152.35625 442.08 \nL 152.35625 354.243939 \nL 133.63625 354.243939 \nz\n\" style=\"fill:#2c1a51;stroke:#ffffff;stroke-linejoin:miter;\"/>\n   </g>\n   <g id=\"patch_8\">\n    <path clip-path=\"url(#p155084b8bf)\" d=\"M 157.03625 442.08 \nL 175.75625 442.08 \nL 175.75625 364.613474 \nL 157.03625 364.613474 \nz\n\" style=\"fill:#381b5f;stroke:#ffffff;stroke-linejoin:miter;\"/>\n   </g>\n   <g id=\"patch_9\">\n    <path clip-path=\"url(#p155084b8bf)\" d=\"M 180.43625 442.08 \nL 199.15625 442.08 \nL 199.15625 345.704321 \nL 180.43625 345.704321 \nz\n\" style=\"fill:#431c69;stroke:#ffffff;stroke-linejoin:miter;\"/>\n   </g>\n   <g id=\"patch_10\">\n    <path clip-path=\"url(#p155084b8bf)\" d=\"M 203.83625 442.08 \nL 222.55625 442.08 \nL 222.55625 356.683829 \nL 203.83625 356.683829 \nz\n\" style=\"fill:#4e1f6f;stroke:#ffffff;stroke-linejoin:miter;\"/>\n   </g>\n   <g id=\"patch_11\">\n    <path clip-path=\"url(#p155084b8bf)\" d=\"M 227.23625 442.08 \nL 245.95625 442.08 \nL 245.95625 349.364157 \nL 227.23625 349.364157 \nz\n\" style=\"fill:#592472;stroke:#ffffff;stroke-linejoin:miter;\"/>\n   </g>\n   <g id=\"patch_12\">\n    <path clip-path=\"url(#p155084b8bf)\" d=\"M 250.63625 442.08 \nL 269.35625 442.08 \nL 269.35625 349.364157 \nL 250.63625 349.364157 \nz\n\" style=\"fill:#632974;stroke:#ffffff;stroke-linejoin:miter;\"/>\n   </g>\n   <g id=\"patch_13\">\n    <path clip-path=\"url(#p155084b8bf)\" d=\"M 274.03625 442.08 \nL 292.75625 442.08 \nL 292.75625 350.584103 \nL 274.03625 350.584103 \nz\n\" style=\"fill:#6d2d75;stroke:#ffffff;stroke-linejoin:miter;\"/>\n   </g>\n   <g id=\"patch_14\">\n    <path clip-path=\"url(#p155084b8bf)\" d=\"M 297.43625 442.08 \nL 316.15625 442.08 \nL 316.15625 349.97413 \nL 297.43625 349.97413 \nz\n\" style=\"fill:#773176;stroke:#ffffff;stroke-linejoin:miter;\"/>\n   </g>\n   <g id=\"patch_15\">\n    <path clip-path=\"url(#p155084b8bf)\" d=\"M 320.83625 442.08 \nL 339.55625 442.08 \nL 339.55625 350.584103 \nL 320.83625 350.584103 \nz\n\" style=\"fill:#833778;stroke:#ffffff;stroke-linejoin:miter;\"/>\n   </g>\n   <g id=\"patch_16\">\n    <path clip-path=\"url(#p155084b8bf)\" d=\"M 344.23625 442.08 \nL 362.95625 442.08 \nL 362.95625 349.364157 \nL 344.23625 349.364157 \nz\n\" style=\"fill:#8f3c79;stroke:#ffffff;stroke-linejoin:miter;\"/>\n   </g>\n   <g id=\"patch_17\">\n    <path clip-path=\"url(#p155084b8bf)\" d=\"M 367.63625 442.08 \nL 386.35625 442.08 \nL 386.35625 321.915388 \nL 367.63625 321.915388 \nz\n\" style=\"fill:#9b4179;stroke:#ffffff;stroke-linejoin:miter;\"/>\n   </g>\n   <g id=\"patch_18\">\n    <path clip-path=\"url(#p155084b8bf)\" d=\"M 391.03625 442.08 \nL 409.75625 442.08 \nL 409.75625 315.815662 \nL 391.03625 315.815662 \nz\n\" style=\"fill:#a74779;stroke:#ffffff;stroke-linejoin:miter;\"/>\n   </g>\n   <g id=\"patch_19\">\n    <path clip-path=\"url(#p155084b8bf)\" d=\"M 414.43625 442.08 \nL 433.15625 442.08 \nL 433.15625 321.305416 \nL 414.43625 321.305416 \nz\n\" style=\"fill:#b34d77;stroke:#ffffff;stroke-linejoin:miter;\"/>\n   </g>\n   <g id=\"patch_20\">\n    <path clip-path=\"url(#p155084b8bf)\" d=\"M 437.83625 442.08 \nL 456.55625 442.08 \nL 456.55625 315.815662 \nL 437.83625 315.815662 \nz\n\" style=\"fill:#be5376;stroke:#ffffff;stroke-linejoin:miter;\"/>\n   </g>\n   <g id=\"patch_21\">\n    <path clip-path=\"url(#p155084b8bf)\" d=\"M 461.23625 442.08 \nL 479.95625 442.08 \nL 479.95625 315.815662 \nL 461.23625 315.815662 \nz\n\" style=\"fill:#ca5b73;stroke:#ffffff;stroke-linejoin:miter;\"/>\n   </g>\n   <g id=\"patch_22\">\n    <path clip-path=\"url(#p155084b8bf)\" d=\"M 484.63625 442.08 \nL 503.35625 442.08 \nL 503.35625 317.64558 \nL 484.63625 317.64558 \nz\n\" style=\"fill:#d46471;stroke:#ffffff;stroke-linejoin:miter;\"/>\n   </g>\n   <g id=\"patch_23\">\n    <path clip-path=\"url(#p155084b8bf)\" d=\"M 508.03625 442.08 \nL 526.75625 442.08 \nL 526.75625 309.715935 \nL 508.03625 309.715935 \nz\n\" style=\"fill:#dd6f70;stroke:#ffffff;stroke-linejoin:miter;\"/>\n   </g>\n   <g id=\"patch_24\">\n    <path clip-path=\"url(#p155084b8bf)\" d=\"M 531.43625 442.08 \nL 550.15625 442.08 \nL 550.15625 289.586838 \nL 531.43625 289.586838 \nz\n\" style=\"fill:#e27a6f;stroke:#ffffff;stroke-linejoin:miter;\"/>\n   </g>\n   <g id=\"patch_25\">\n    <path clip-path=\"url(#p155084b8bf)\" d=\"M 554.83625 442.08 \nL 573.55625 442.08 \nL 573.55625 282.267166 \nL 554.83625 282.267166 \nz\n\" style=\"fill:#e68670;stroke:#ffffff;stroke-linejoin:miter;\"/>\n   </g>\n   <g id=\"patch_26\">\n    <path clip-path=\"url(#p155084b8bf)\" d=\"M 578.23625 442.08 \nL 596.95625 442.08 \nL 596.95625 263.967987 \nL 578.23625 263.967987 \nz\n\" style=\"fill:#e89275;stroke:#ffffff;stroke-linejoin:miter;\"/>\n   </g>\n   <g id=\"patch_27\">\n    <path clip-path=\"url(#p155084b8bf)\" d=\"M 601.63625 442.08 \nL 620.35625 442.08 \nL 620.35625 255.428369 \nL 601.63625 255.428369 \nz\n\" style=\"fill:#eb9e7b;stroke:#ffffff;stroke-linejoin:miter;\"/>\n   </g>\n   <g id=\"patch_28\">\n    <path clip-path=\"url(#p155084b8bf)\" d=\"M 625.03625 442.08 \nL 643.75625 442.08 \nL 643.75625 217.610065 \nL 625.03625 217.610065 \nz\n\" style=\"fill:#ecab83;stroke:#ffffff;stroke-linejoin:miter;\"/>\n   </g>\n   <g id=\"patch_29\">\n    <path clip-path=\"url(#p155084b8bf)\" d=\"M 648.43625 442.08 \nL 667.15625 442.08 \nL 667.15625 222.489846 \nL 648.43625 222.489846 \nz\n\" style=\"fill:#eeb78d;stroke:#ffffff;stroke-linejoin:miter;\"/>\n   </g>\n   <g id=\"patch_30\">\n    <path clip-path=\"url(#p155084b8bf)\" d=\"M 671.83625 442.08 \nL 690.55625 442.08 \nL 690.55625 191.381241 \nL 671.83625 191.381241 \nz\n\" style=\"fill:#efc497;stroke:#ffffff;stroke-linejoin:miter;\"/>\n   </g>\n   <g id=\"patch_31\">\n    <path clip-path=\"url(#p155084b8bf)\" d=\"M 695.23625 442.08 \nL 713.95625 442.08 \nL 713.95625 196.261023 \nL 695.23625 196.261023 \nz\n\" style=\"fill:#f1d1a2;stroke:#ffffff;stroke-linejoin:miter;\"/>\n   </g>\n   <g id=\"patch_32\">\n    <path clip-path=\"url(#p155084b8bf)\" d=\"M 718.63625 442.08 \nL 737.35625 442.08 \nL 737.35625 95.005563 \nL 718.63625 95.005563 \nz\n\" style=\"fill:#f2ddae;stroke:#ffffff;stroke-linejoin:miter;\"/>\n   </g>\n   <g id=\"patch_33\">\n    <path clip-path=\"url(#p155084b8bf)\" d=\"M 742.03625 442.08 \nL 760.75625 442.08 \nL 760.75625 27.908571 \nL 742.03625 27.908571 \nz\n\" style=\"fill:#f3eabb;stroke:#ffffff;stroke-linejoin:miter;\"/>\n   </g>\n   <g id=\"line2d_9\">\n    <path clip-path=\"url(#p155084b8bf)\" style=\"fill:none;stroke:#424242;stroke-linecap:round;stroke-width:2.7;\"/>\n   </g>\n   <g id=\"line2d_10\">\n    <path clip-path=\"url(#p155084b8bf)\" style=\"fill:none;stroke:#424242;stroke-linecap:round;stroke-width:2.7;\"/>\n   </g>\n   <g id=\"line2d_11\">\n    <path clip-path=\"url(#p155084b8bf)\" style=\"fill:none;stroke:#424242;stroke-linecap:round;stroke-width:2.7;\"/>\n   </g>\n   <g id=\"line2d_12\">\n    <path clip-path=\"url(#p155084b8bf)\" style=\"fill:none;stroke:#424242;stroke-linecap:round;stroke-width:2.7;\"/>\n   </g>\n   <g id=\"line2d_13\">\n    <path clip-path=\"url(#p155084b8bf)\" style=\"fill:none;stroke:#424242;stroke-linecap:round;stroke-width:2.7;\"/>\n   </g>\n   <g id=\"line2d_14\">\n    <path clip-path=\"url(#p155084b8bf)\" style=\"fill:none;stroke:#424242;stroke-linecap:round;stroke-width:2.7;\"/>\n   </g>\n   <g id=\"line2d_15\">\n    <path clip-path=\"url(#p155084b8bf)\" style=\"fill:none;stroke:#424242;stroke-linecap:round;stroke-width:2.7;\"/>\n   </g>\n   <g id=\"line2d_16\">\n    <path clip-path=\"url(#p155084b8bf)\" style=\"fill:none;stroke:#424242;stroke-linecap:round;stroke-width:2.7;\"/>\n   </g>\n   <g id=\"line2d_17\">\n    <path clip-path=\"url(#p155084b8bf)\" style=\"fill:none;stroke:#424242;stroke-linecap:round;stroke-width:2.7;\"/>\n   </g>\n   <g id=\"line2d_18\">\n    <path clip-path=\"url(#p155084b8bf)\" style=\"fill:none;stroke:#424242;stroke-linecap:round;stroke-width:2.7;\"/>\n   </g>\n   <g id=\"line2d_19\">\n    <path clip-path=\"url(#p155084b8bf)\" style=\"fill:none;stroke:#424242;stroke-linecap:round;stroke-width:2.7;\"/>\n   </g>\n   <g id=\"line2d_20\">\n    <path clip-path=\"url(#p155084b8bf)\" style=\"fill:none;stroke:#424242;stroke-linecap:round;stroke-width:2.7;\"/>\n   </g>\n   <g id=\"line2d_21\">\n    <path clip-path=\"url(#p155084b8bf)\" style=\"fill:none;stroke:#424242;stroke-linecap:round;stroke-width:2.7;\"/>\n   </g>\n   <g id=\"line2d_22\">\n    <path clip-path=\"url(#p155084b8bf)\" style=\"fill:none;stroke:#424242;stroke-linecap:round;stroke-width:2.7;\"/>\n   </g>\n   <g id=\"line2d_23\">\n    <path clip-path=\"url(#p155084b8bf)\" style=\"fill:none;stroke:#424242;stroke-linecap:round;stroke-width:2.7;\"/>\n   </g>\n   <g id=\"line2d_24\">\n    <path clip-path=\"url(#p155084b8bf)\" style=\"fill:none;stroke:#424242;stroke-linecap:round;stroke-width:2.7;\"/>\n   </g>\n   <g id=\"line2d_25\">\n    <path clip-path=\"url(#p155084b8bf)\" style=\"fill:none;stroke:#424242;stroke-linecap:round;stroke-width:2.7;\"/>\n   </g>\n   <g id=\"line2d_26\">\n    <path clip-path=\"url(#p155084b8bf)\" style=\"fill:none;stroke:#424242;stroke-linecap:round;stroke-width:2.7;\"/>\n   </g>\n   <g id=\"line2d_27\">\n    <path clip-path=\"url(#p155084b8bf)\" style=\"fill:none;stroke:#424242;stroke-linecap:round;stroke-width:2.7;\"/>\n   </g>\n   <g id=\"line2d_28\">\n    <path clip-path=\"url(#p155084b8bf)\" style=\"fill:none;stroke:#424242;stroke-linecap:round;stroke-width:2.7;\"/>\n   </g>\n   <g id=\"line2d_29\">\n    <path clip-path=\"url(#p155084b8bf)\" style=\"fill:none;stroke:#424242;stroke-linecap:round;stroke-width:2.7;\"/>\n   </g>\n   <g id=\"line2d_30\">\n    <path clip-path=\"url(#p155084b8bf)\" style=\"fill:none;stroke:#424242;stroke-linecap:round;stroke-width:2.7;\"/>\n   </g>\n   <g id=\"line2d_31\">\n    <path clip-path=\"url(#p155084b8bf)\" style=\"fill:none;stroke:#424242;stroke-linecap:round;stroke-width:2.7;\"/>\n   </g>\n   <g id=\"line2d_32\">\n    <path clip-path=\"url(#p155084b8bf)\" style=\"fill:none;stroke:#424242;stroke-linecap:round;stroke-width:2.7;\"/>\n   </g>\n   <g id=\"line2d_33\">\n    <path clip-path=\"url(#p155084b8bf)\" style=\"fill:none;stroke:#424242;stroke-linecap:round;stroke-width:2.7;\"/>\n   </g>\n   <g id=\"line2d_34\">\n    <path clip-path=\"url(#p155084b8bf)\" style=\"fill:none;stroke:#424242;stroke-linecap:round;stroke-width:2.7;\"/>\n   </g>\n   <g id=\"line2d_35\">\n    <path clip-path=\"url(#p155084b8bf)\" style=\"fill:none;stroke:#424242;stroke-linecap:round;stroke-width:2.7;\"/>\n   </g>\n   <g id=\"line2d_36\">\n    <path clip-path=\"url(#p155084b8bf)\" style=\"fill:none;stroke:#424242;stroke-linecap:round;stroke-width:2.7;\"/>\n   </g>\n   <g id=\"line2d_37\">\n    <path clip-path=\"url(#p155084b8bf)\" style=\"fill:none;stroke:#424242;stroke-linecap:round;stroke-width:2.7;\"/>\n   </g>\n   <g id=\"line2d_38\">\n    <path clip-path=\"url(#p155084b8bf)\" style=\"fill:none;stroke:#424242;stroke-linecap:round;stroke-width:2.7;\"/>\n   </g>\n   <g id=\"line2d_39\">\n    <path clip-path=\"url(#p155084b8bf)\" style=\"fill:none;stroke:#424242;stroke-linecap:round;stroke-width:2.7;\"/>\n   </g>\n   <g id=\"patch_34\">\n    <path d=\"M 37.69625 442.08 \nL 37.69625 7.2 \n\" style=\"fill:none;stroke:#ffffff;stroke-linecap:square;stroke-linejoin:miter;stroke-width:1.25;\"/>\n   </g>\n   <g id=\"patch_35\">\n    <path d=\"M 763.09625 442.08 \nL 763.09625 7.2 \n\" style=\"fill:none;stroke:#ffffff;stroke-linecap:square;stroke-linejoin:miter;stroke-width:1.25;\"/>\n   </g>\n   <g id=\"patch_36\">\n    <path d=\"M 37.69625 442.08 \nL 763.09625 442.08 \n\" style=\"fill:none;stroke:#ffffff;stroke-linecap:square;stroke-linejoin:miter;stroke-width:1.25;\"/>\n   </g>\n   <g id=\"patch_37\">\n    <path d=\"M 37.69625 7.2 \nL 763.09625 7.2 \n\" style=\"fill:none;stroke:#ffffff;stroke-linecap:square;stroke-linejoin:miter;stroke-width:1.25;\"/>\n   </g>\n  </g>\n </g>\n <defs>\n  <clipPath id=\"p155084b8bf\">\n   <rect height=\"434.88\" width=\"725.4\" x=\"37.69625\" y=\"7.2\"/>\n  </clipPath>\n </defs>\n</svg>\n"
          },
          "metadata": {
            "tags": []
          }
        }
      ]
    },
    {
      "cell_type": "markdown",
      "metadata": {
        "id": "Xo5htuRMaHag",
        "colab_type": "text"
      },
      "source": [
        "This graph shows how amount of papers are being accumulted over the years. Recent years have seen an increase in publication and it is a nice trend to consider for further analysis."
      ]
    },
    {
      "cell_type": "markdown",
      "metadata": {
        "id": "vXE4rDHAaHag",
        "colab_type": "text"
      },
      "source": [
        "### 3.2)- Word count for text"
      ]
    },
    {
      "cell_type": "code",
      "metadata": {
        "id": "4vsRVyhZaHah",
        "colab_type": "code",
        "outputId": "b2f104ff-95f4-4aa6-9fa5-e05bc4caba06",
        "colab": {
          "base_uri": "https://localhost:8080/",
          "height": 359
        }
      },
      "source": [
        "#Fetch wordcount for each text document\n",
        "dataset['w_count'] = dataset['paper_text'].apply(lambda x: len(str(x).split(\" \")))\n",
        "dataset[['paper_text','w_count']].head(10)"
      ],
      "execution_count": 25,
      "outputs": [
        {
          "output_type": "execute_result",
          "data": {
            "text/html": [
              "<div>\n",
              "<style scoped>\n",
              "    .dataframe tbody tr th:only-of-type {\n",
              "        vertical-align: middle;\n",
              "    }\n",
              "\n",
              "    .dataframe tbody tr th {\n",
              "        vertical-align: top;\n",
              "    }\n",
              "\n",
              "    .dataframe thead th {\n",
              "        text-align: right;\n",
              "    }\n",
              "</style>\n",
              "<table border=\"1\" class=\"dataframe\">\n",
              "  <thead>\n",
              "    <tr style=\"text-align: right;\">\n",
              "      <th></th>\n",
              "      <th>paper_text</th>\n",
              "      <th>w_count</th>\n",
              "    </tr>\n",
              "  </thead>\n",
              "  <tbody>\n",
              "    <tr>\n",
              "      <th>0</th>\n",
              "      <td>767\\n\\nSELF-ORGANIZATION OF ASSOCIATIVE DATABA...</td>\n",
              "      <td>3315</td>\n",
              "    </tr>\n",
              "    <tr>\n",
              "      <th>1</th>\n",
              "      <td>683\\n\\nA MEAN FIELD THEORY OF LAYER IV OF VISU...</td>\n",
              "      <td>2233</td>\n",
              "    </tr>\n",
              "    <tr>\n",
              "      <th>2</th>\n",
              "      <td>394\\n\\nSTORING COVARIANCE BY THE ASSOCIATIVE\\n...</td>\n",
              "      <td>2727</td>\n",
              "    </tr>\n",
              "    <tr>\n",
              "      <th>3</th>\n",
              "      <td>Bayesian Query Construction for Neural\\nNetwor...</td>\n",
              "      <td>2923</td>\n",
              "    </tr>\n",
              "    <tr>\n",
              "      <th>4</th>\n",
              "      <td>Neural Network Ensembles, Cross\\nValidation, a...</td>\n",
              "      <td>3009</td>\n",
              "    </tr>\n",
              "    <tr>\n",
              "      <th>5</th>\n",
              "      <td>U sing a neural net to instantiate a\\ndeformab...</td>\n",
              "      <td>3335</td>\n",
              "    </tr>\n",
              "    <tr>\n",
              "      <th>6</th>\n",
              "      <td>Plasticity-Mediated Competitive Learning\\n\\nTe...</td>\n",
              "      <td>1659</td>\n",
              "    </tr>\n",
              "    <tr>\n",
              "      <th>7</th>\n",
              "      <td>ICEG Morphology Classification using an\\nAnalo...</td>\n",
              "      <td>2470</td>\n",
              "    </tr>\n",
              "    <tr>\n",
              "      <th>8</th>\n",
              "      <td>Real-Time Control of a Tokamak Plasma\\nUsing N...</td>\n",
              "      <td>2397</td>\n",
              "    </tr>\n",
              "    <tr>\n",
              "      <th>9</th>\n",
              "      <td>Real-Time Control of a Tokamak Plasma\\nUsing N...</td>\n",
              "      <td>4283</td>\n",
              "    </tr>\n",
              "  </tbody>\n",
              "</table>\n",
              "</div>"
            ],
            "text/plain": [
              "                                          paper_text  w_count\n",
              "0  767\\n\\nSELF-ORGANIZATION OF ASSOCIATIVE DATABA...     3315\n",
              "1  683\\n\\nA MEAN FIELD THEORY OF LAYER IV OF VISU...     2233\n",
              "2  394\\n\\nSTORING COVARIANCE BY THE ASSOCIATIVE\\n...     2727\n",
              "3  Bayesian Query Construction for Neural\\nNetwor...     2923\n",
              "4  Neural Network Ensembles, Cross\\nValidation, a...     3009\n",
              "5  U sing a neural net to instantiate a\\ndeformab...     3335\n",
              "6  Plasticity-Mediated Competitive Learning\\n\\nTe...     1659\n",
              "7  ICEG Morphology Classification using an\\nAnalo...     2470\n",
              "8  Real-Time Control of a Tokamak Plasma\\nUsing N...     2397\n",
              "9  Real-Time Control of a Tokamak Plasma\\nUsing N...     4283"
            ]
          },
          "metadata": {
            "tags": []
          },
          "execution_count": 25
        }
      ]
    },
    {
      "cell_type": "code",
      "metadata": {
        "id": "VtkCNhZNaHaj",
        "colab_type": "code",
        "outputId": "ae2e272d-4d05-46ae-b3cd-1ee4509f93ae",
        "colab": {
          "base_uri": "https://localhost:8080/",
          "height": 359
        }
      },
      "source": [
        "dataset[['paper_text','w_count']].tail(10)"
      ],
      "execution_count": 26,
      "outputs": [
        {
          "output_type": "execute_result",
          "data": {
            "text/html": [
              "<div>\n",
              "<style scoped>\n",
              "    .dataframe tbody tr th:only-of-type {\n",
              "        vertical-align: middle;\n",
              "    }\n",
              "\n",
              "    .dataframe tbody tr th {\n",
              "        vertical-align: top;\n",
              "    }\n",
              "\n",
              "    .dataframe thead th {\n",
              "        text-align: right;\n",
              "    }\n",
              "</style>\n",
              "<table border=\"1\" class=\"dataframe\">\n",
              "  <thead>\n",
              "    <tr style=\"text-align: right;\">\n",
              "      <th></th>\n",
              "      <th>paper_text</th>\n",
              "      <th>w_count</th>\n",
              "    </tr>\n",
              "  </thead>\n",
              "  <tbody>\n",
              "    <tr>\n",
              "      <th>7231</th>\n",
              "      <td>695\\n\\nANALOG IMPLEMENTATION OF SHUNTING\\nNEUR...</td>\n",
              "      <td>1749</td>\n",
              "    </tr>\n",
              "    <tr>\n",
              "      <th>7232</th>\n",
              "      <td>Comparing the prediction accuracy of\\nartifici...</td>\n",
              "      <td>4561</td>\n",
              "    </tr>\n",
              "    <tr>\n",
              "      <th>7233</th>\n",
              "      <td>Stochastic Dynamics of Three-State\\nNeural Net...</td>\n",
              "      <td>1673</td>\n",
              "    </tr>\n",
              "    <tr>\n",
              "      <th>7234</th>\n",
              "      <td>Grouping Components of\\n?\\nThree-Dimensional M...</td>\n",
              "      <td>1213</td>\n",
              "    </tr>\n",
              "    <tr>\n",
              "      <th>7235</th>\n",
              "      <td>Visual Speech Recognition with\\nStochastic Net...</td>\n",
              "      <td>2391</td>\n",
              "    </tr>\n",
              "    <tr>\n",
              "      <th>7236</th>\n",
              "      <td>Single Transistor Learning Synapses\\n\\nPaul Ha...</td>\n",
              "      <td>2639</td>\n",
              "    </tr>\n",
              "    <tr>\n",
              "      <th>7237</th>\n",
              "      <td>Bias, Variance and the Combination of\\nLeast S...</td>\n",
              "      <td>3611</td>\n",
              "    </tr>\n",
              "    <tr>\n",
              "      <th>7238</th>\n",
              "      <td>A Real Time Clustering CMOS\\nNeural Engine\\nT....</td>\n",
              "      <td>2016</td>\n",
              "    </tr>\n",
              "    <tr>\n",
              "      <th>7239</th>\n",
              "      <td>Learning direction in global motion: two\\nclas...</td>\n",
              "      <td>2818</td>\n",
              "    </tr>\n",
              "    <tr>\n",
              "      <th>7240</th>\n",
              "      <td>Correlation and Interpolation Networks for\\nRe...</td>\n",
              "      <td>3075</td>\n",
              "    </tr>\n",
              "  </tbody>\n",
              "</table>\n",
              "</div>"
            ],
            "text/plain": [
              "                                             paper_text  w_count\n",
              "7231  695\\n\\nANALOG IMPLEMENTATION OF SHUNTING\\nNEUR...     1749\n",
              "7232  Comparing the prediction accuracy of\\nartifici...     4561\n",
              "7233  Stochastic Dynamics of Three-State\\nNeural Net...     1673\n",
              "7234  Grouping Components of\\n?\\nThree-Dimensional M...     1213\n",
              "7235  Visual Speech Recognition with\\nStochastic Net...     2391\n",
              "7236  Single Transistor Learning Synapses\\n\\nPaul Ha...     2639\n",
              "7237  Bias, Variance and the Combination of\\nLeast S...     3611\n",
              "7238  A Real Time Clustering CMOS\\nNeural Engine\\nT....     2016\n",
              "7239  Learning direction in global motion: two\\nclas...     2818\n",
              "7240  Correlation and Interpolation Networks for\\nRe...     3075"
            ]
          },
          "metadata": {
            "tags": []
          },
          "execution_count": 26
        }
      ]
    },
    {
      "cell_type": "code",
      "metadata": {
        "id": "oq_MjlGJaHak",
        "colab_type": "code",
        "outputId": "5c486538-5c61-4cb8-bf13-c818a271590f",
        "colab": {
          "base_uri": "https://localhost:8080/",
          "height": 170
        }
      },
      "source": [
        "##Descriptive statistics of word counts\n",
        "\n",
        "dataset.w_count.describe()"
      ],
      "execution_count": 27,
      "outputs": [
        {
          "output_type": "execute_result",
          "data": {
            "text/plain": [
              "count     7241.000000\n",
              "mean      4259.252037\n",
              "std       1237.864868\n",
              "min          1.000000\n",
              "25%       3211.000000\n",
              "50%       4473.000000\n",
              "75%       5194.000000\n",
              "max      11519.000000\n",
              "Name: w_count, dtype: float64"
            ]
          },
          "metadata": {
            "tags": []
          },
          "execution_count": 27
        }
      ]
    },
    {
      "cell_type": "markdown",
      "metadata": {
        "id": "AKC4mspwaHan",
        "colab_type": "text"
      },
      "source": [
        "**Some insight from above:**\n",
        "\n",
        "- Average word count in our text document is 4259 words per document. The word count ranges from a minimum of 1 word to maximum of 11519 words. This is useful information in a sense that it indicates size of dataset and also variation in word count across the rows\n",
        "    \n",
        "    \n",
        "    "
      ]
    },
    {
      "cell_type": "markdown",
      "metadata": {
        "id": "R6mgZZR2aHao",
        "colab_type": "text"
      },
      "source": [
        "### 3.3)- Most common and uncommon words\n",
        "\n",
        "A peek into the most common words gives insights not only on the frequently used words but also words that could also be potential data specific stop words. A comparison of the most common words and the default English stop words will give us a list of words that need to be added to a custom stop word list."
      ]
    },
    {
      "cell_type": "code",
      "metadata": {
        "id": "3x2-kORIaHao",
        "colab_type": "code",
        "outputId": "5b511296-acfd-4ad7-befb-bade8cdb1316",
        "colab": {
          "base_uri": "https://localhost:8080/",
          "height": 374
        }
      },
      "source": [
        "#Identify top 20 most common/frequently occuring words\n",
        "common = pd.Series(' '.join(dataset['paper_text']).split()).value_counts()[:20]\n",
        "common"
      ],
      "execution_count": 28,
      "outputs": [
        {
          "output_type": "execute_result",
          "data": {
            "text/plain": [
              "the     1741341\n",
              "of       992459\n",
              "and      737835\n",
              "?        643837\n",
              "a        585149\n",
              "to       565402\n",
              "is       496162\n",
              "in       472178\n",
              "for      350809\n",
              "that     291198\n",
              "=        282147\n",
              ",        226448\n",
              "we       226390\n",
              "with     223759\n",
              "The      208088\n",
              "on       193614\n",
              ".        190768\n",
              "by       184927\n",
              "are      182535\n",
              "as       181125\n",
              "dtype: int64"
            ]
          },
          "metadata": {
            "tags": []
          },
          "execution_count": 28
        }
      ]
    },
    {
      "cell_type": "markdown",
      "metadata": {
        "id": "uZh3oPWxaHar",
        "colab_type": "text"
      },
      "source": [
        "Most of them are stop words and if we remove them then our data will be lighter. Also they are not contributing towards meaning of document so, removing them won't take away any useful information"
      ]
    },
    {
      "cell_type": "code",
      "metadata": {
        "id": "JIQIPIy6aHar",
        "colab_type": "code",
        "outputId": "ff6c34b1-480d-48ce-ee0f-4a3578189469",
        "colab": {
          "base_uri": "https://localhost:8080/",
          "height": 374
        }
      },
      "source": [
        "#Identify top 20 uncommon words\n",
        "uncommon=pd.Series(' '.join(dataset['paper_text']).split()).value_counts()[-20:]\n",
        "uncommon"
      ],
      "execution_count": 29,
      "outputs": [
        {
          "output_type": "execute_result",
          "data": {
            "text/plain": [
              "Lnj(t)oo~         1\n",
              "null;null;null    1\n",
              "103.64            1\n",
              "J.P.S.,           1\n",
              "x?Nd              1\n",
              "'repeat'          1\n",
              "Pa[xt             1\n",
              "a/(               1\n",
              "smoohting         1\n",
              "{O,1}             1\n",
              "defintion,        1\n",
              "0n+l              1\n",
              "hOllnd            1\n",
              "(4-1)             1\n",
              "\u0013##\u0011\"\"            1\n",
              "lin:              1\n",
              "0,,(              1\n",
              "Y(klk             1\n",
              "d-values.         1\n",
              "Pdi=Pbc(Bm,       1\n",
              "dtype: int64"
            ]
          },
          "metadata": {
            "tags": []
          },
          "execution_count": 29
        }
      ]
    },
    {
      "cell_type": "markdown",
      "metadata": {
        "id": "J7uKr3tbaHat",
        "colab_type": "text"
      },
      "source": [
        "Some of these words are non-sense strings and we can drop them as well and there won't be any change in meaning of document."
      ]
    },
    {
      "cell_type": "markdown",
      "metadata": {
        "id": "v73GF9YTaHat",
        "colab_type": "text"
      },
      "source": [
        "# 4)- Text Preprocessing"
      ]
    },
    {
      "cell_type": "markdown",
      "metadata": {
        "id": "K6Dmt9W2aHau",
        "colab_type": "text"
      },
      "source": [
        "### 4.1)- Text intution "
      ]
    },
    {
      "cell_type": "code",
      "metadata": {
        "id": "RgXJpl4waHau",
        "colab_type": "code",
        "outputId": "955e36bf-e0e0-42f2-a669-c57ae2a49541",
        "colab": {
          "base_uri": "https://localhost:8080/",
          "height": 51
        }
      },
      "source": [
        "docu=dataset['paper_text']\n",
        "chars=list(set(docu))\n",
        "\n",
        "data_size, vocab_size = len(docu), len(chars)\n",
        "print (\"Contract data has chars\", data_size)\n",
        "print (\"Contract data has unique chars\", vocab_size)"
      ],
      "execution_count": 30,
      "outputs": [
        {
          "output_type": "stream",
          "text": [
            "Contract data has chars 7241\n",
            "Contract data has unique chars 7237\n"
          ],
          "name": "stdout"
        }
      ]
    },
    {
      "cell_type": "code",
      "metadata": {
        "id": "5ehdHLGCaHaw",
        "colab_type": "code",
        "outputId": "e0f9746c-9316-4cef-ebde-cb899984cdaa",
        "colab": {
          "base_uri": "https://localhost:8080/",
          "height": 34
        }
      },
      "source": [
        "type(docu)"
      ],
      "execution_count": 31,
      "outputs": [
        {
          "output_type": "execute_result",
          "data": {
            "text/plain": [
              "pandas.core.series.Series"
            ]
          },
          "metadata": {
            "tags": []
          },
          "execution_count": 31
        }
      ]
    },
    {
      "cell_type": "markdown",
      "metadata": {
        "id": "DD8tQO7eaHay",
        "colab_type": "text"
      },
      "source": [
        "### 4.2)- Tokenize sentence"
      ]
    },
    {
      "cell_type": "code",
      "metadata": {
        "id": "SCWsj4S3aHay",
        "colab_type": "code",
        "colab": {}
      },
      "source": [
        "def sent_to_words(sentences):\n",
        "    for sent in sentences:\n",
        "        sent = re.sub('\\S*@\\S*\\s?', '', sent)  # remove extra characters\n",
        "        sent = re.sub('\\s+', ' ', sent)  # remove newline chars\n",
        "        sent = re.sub(\"\\'\", \"\", sent)  # remove single quotes\n",
        "        sent = gensim.utils.simple_preprocess(str(sent), deacc=True) \n",
        "        yield(sent)"
      ],
      "execution_count": 0,
      "outputs": []
    },
    {
      "cell_type": "code",
      "metadata": {
        "id": "GF-HooqRaHa0",
        "colab_type": "code",
        "outputId": "dac2b631-9b32-4a32-b1b8-bad63c1317b4",
        "colab": {
          "base_uri": "https://localhost:8080/",
          "height": 54
        }
      },
      "source": [
        "# Convert to list\n",
        "data = dataset.paper_text.values.tolist()\n",
        "data_words = list(sent_to_words(data))\n",
        "print(data_words[:1])"
      ],
      "execution_count": 33,
      "outputs": [
        {
          "output_type": "stream",
          "text": [
            "[['self', 'organization', 'of', 'associative', 'database', 'and', 'its', 'applications', 'hisashi', 'suzuki', 'and', 'suguru', 'arimoto', 'osaka', 'university', 'toyonaka', 'osaka', 'japan', 'abstract', 'an', 'efficient', 'method', 'of', 'self', 'organizing', 'associative', 'databases', 'is', 'proposed', 'together', 'with', 'applications', 'to', 'robot', 'eyesight', 'systems', 'the', 'proposed', 'databases', 'can', 'associate', 'any', 'input', 'with', 'some', 'output', 'in', 'the', 'first', 'half', 'part', 'of', 'discussion', 'an', 'algorithm', 'of', 'self', 'organization', 'is', 'proposed', 'from', 'an', 'aspect', 'of', 'hardware', 'it', 'produces', 'new', 'style', 'of', 'neural', 'network', 'in', 'the', 'latter', 'half', 'part', 'an', 'applicability', 'to', 'handwritten', 'letter', 'recognition', 'and', 'that', 'to', 'an', 'autonomous', 'mobile', 'robot', 'system', 'are', 'demonstrated', 'introduction', 'let', 'mapping', 'be', 'given', 'here', 'is', 'finite', 'or', 'infinite', 'set', 'and', 'is', 'another', 'finite', 'or', 'infinite', 'set', 'learning', 'machine', 'observes', 'any', 'set', 'of', 'pairs', 'sampled', 'randomly', 'from', 'means', 'the', 'cartesian', 'product', 'of', 'and', 'and', 'it', 'computes', 'some', 'estimate', 'of', 'to', 'make', 'small', 'the', 'estimation', 'error', 'in', 'some', 'measure', 'usually', 'we', 'say', 'that', 'the', 'faster', 'the', 'decrease', 'of', 'estimation', 'error', 'with', 'increase', 'of', 'the', 'number', 'of', 'samples', 'the', 'better', 'the', 'learning', 'machine', 'however', 'such', 'expression', 'on', 'performance', 'is', 'incomplete', 'since', 'it', 'lacks', 'consideration', 'on', 'the', 'candidates', 'of', 'of', 'assumed', 'preliminarily', 'then', 'how', 'should', 'we', 'find', 'out', 'good', 'learning', 'machines', 'to', 'clarify', 'this', 'conception', 'let', 'us', 'discuss', 'for', 'while', 'on', 'some', 'types', 'of', 'learning', 'machines', 'and', 'let', 'us', 'advance', 'the', 'understanding', 'of', 'the', 'self', 'organization', 'of', 'associative', 'database', 'parameter', 'type', 'an', 'ordinary', 'type', 'of', 'learning', 'machine', 'assumes', 'an', 'equation', 'relating', 'xs', 'and', 'ys', 'with', 'parameters', 'being', 'indefinite', 'namely', 'structure', 'of', 'it', 'is', 'equivalent', 'to', 'define', 'implicitly', 'set', 'of', 'candidates', 'of', 'is', 'some', 'subset', 'of', 'mappings', 'from', 'to', 'and', 'it', 'computes', 'values', 'of', 'the', 'parameters', 'based', 'on', 'the', 'observed', 'samples', 'we', 'call', 'such', 'type', 'parameter', 'type', 'for', 'learning', 'machine', 'defined', 'well', 'if', 'approaches', 'as', 'the', 'number', 'of', 'samples', 'increases', 'in', 'the', 'alternative', 'case', 'however', 'some', 'estimation', 'error', 'remains', 'eternally', 'thus', 'problem', 'of', 'designing', 'learning', 'machine', 'returns', 'to', 'find', 'out', 'proper', 'structure', 'of', 'in', 'this', 'sense', 'on', 'the', 'other', 'hand', 'the', 'assumed', 'structure', 'of', 'is', 'demanded', 'to', 'be', 'as', 'compact', 'as', 'possible', 'to', 'achieve', 'fast', 'learning', 'in', 'other', 'words', 'the', 'number', 'of', 'parameters', 'should', 'be', 'small', 'since', 'if', 'the', 'parameters', 'are', 'few', 'some', 'can', 'be', 'uniquely', 'determined', 'even', 'though', 'the', 'observed', 'samples', 'are', 'few', 'however', 'this', 'demand', 'of', 'being', 'proper', 'contradicts', 'to', 'that', 'of', 'being', 'compact', 'consequently', 'in', 'the', 'parameter', 'type', 'the', 'better', 'the', 'compactness', 'of', 'the', 'assumed', 'structure', 'that', 'is', 'proper', 'the', 'better', 'the', 'learning', 'machine', 'this', 'is', 'the', 'most', 'elementary', 'conception', 'when', 'we', 'design', 'learning', 'machines', 'universality', 'and', 'ordinary', 'neural', 'networks', 'now', 'suppose', 'that', 'sufficient', 'knowledge', 'on', 'is', 'given', 'though', 'itself', 'is', 'unknown', 'in', 'this', 'case', 'it', 'is', 'comparatively', 'easy', 'to', 'find', 'out', 'proper', 'and', 'compact', 'structures', 'of', 'in', 'the', 'alternative', 'case', 'however', 'it', 'is', 'sometimes', 'difficult', 'possible', 'solution', 'is', 'to', 'give', 'up', 'the', 'compactness', 'and', 'assume', 'an', 'almighty', 'structure', 'that', 'can', 'cover', 'various', 'combination', 'of', 'some', 'orthogonal', 'bases', 'of', 'the', 'infinite', 'dimension', 'is', 'such', 'structure', 'neural', 'networks', 'are', 'its', 'approximations', 'obtained', 'by', 'truncating', 'finitely', 'the', 'dimension', 'for', 'implementation', 'american', 'institute', 'of', 'physics', 'main', 'topic', 'in', 'designing', 'neural', 'networks', 'is', 'to', 'establish', 'such', 'desirable', 'structures', 'of', 'this', 'work', 'includes', 'developing', 'practical', 'procedures', 'that', 'compute', 'values', 'of', 'coefficients', 'from', 'the', 'observed', 'samples', 'such', 'discussions', 'are', 'flourishing', 'since', 'while', 'many', 'efficient', 'methods', 'have', 'been', 'proposed', 'recently', 'even', 'hardware', 'units', 'computing', 'coefficients', 'in', 'parallel', 'for', 'speed', 'up', 'are', 'sold', 'anza', 'mark', 'iii', 'odyssey', 'and', 'nevertheless', 'in', 'neural', 'networks', 'there', 'always', 'exists', 'danger', 'of', 'some', 'error', 'remaining', 'eternally', 'in', 'estimating', 'precisely', 'speaking', 'suppose', 'that', 'combination', 'of', 'the', 'bases', 'of', 'finite', 'number', 'can', 'define', 'structure', 'of', 'essentially', 'in', 'other', 'words', 'suppose', 'that', 'or', 'is', 'located', 'near', 'in', 'such', 'case', 'the', 'estimation', 'error', 'is', 'none', 'or', 'negligible', 'however', 'if', 'is', 'distant', 'from', 'the', 'estimation', 'error', 'never', 'becomes', 'negligible', 'indeed', 'many', 'researches', 'report', 'that', 'the', 'following', 'situation', 'appears', 'when', 'is', 'too', 'complex', 'once', 'the', 'estimation', 'error', 'converges', 'to', 'some', 'value', 'as', 'the', 'number', 'of', 'samples', 'increases', 'it', 'decreases', 'hardly', 'even', 'though', 'the', 'dimension', 'is', 'heighten', 'this', 'property', 'sometimes', 'is', 'considerable', 'defect', 'of', 'neural', 'networks', 'recursi', 've', 'type', 'the', 'recursive', 'type', 'is', 'founded', 'on', 'another', 'methodology', 'of', 'learning', 'that', 'should', 'be', 'as', 'follows', 'at', 'the', 'initial', 'stage', 'of', 'no', 'sample', 'the', 'set', 'fa', 'instead', 'of', 'notation', 'of', 'candidates', 'of', 'equals', 'to', 'the', 'set', 'of', 'all', 'mappings', 'from', 'to', 'after', 'observing', 'the', 'first', 'sample', 'xl', 'yl', 'fa', 'is', 'reduced', 'to', 'fi', 'so', 'that', 'xt', 'yl', 'for', 'any', 'after', 'observing', 'the', 'second', 'sample', 'fl', 'is', 'further', 'reduced', 'to', 'so', 'that', 'xt', 'yl', 'and', 'for', 'any', 'thus', 'the', 'candidate', 'set', 'becomes', 'gradually', 'small', 'as', 'observation', 'of', 'samples', 'proceeds', 'the', 'after', 'observing', 'samples', 'which', 'we', 'write', 'is', 'one', 'of', 'the', 'most', 'likelihood', 'estimation', 'of', 'selected', 'in', 'fi', 'hence', 'contrarily', 'to', 'the', 'parameter', 'type', 'the', 'recursive', 'type', 'guarantees', 'surely', 'that', 'approaches', 'to', 'as', 'the', 'number', 'of', 'samples', 'increases', 'the', 'recursive', 'type', 'if', 'observes', 'sample', 'yd', 'rewrites', 'values', 'to', 'for', 'some', 'xs', 'correlated', 'to', 'the', 'sample', 'hence', 'this', 'type', 'has', 'an', 'architecture', 'composed', 'of', 'rule', 'for', 'rewriting', 'and', 'free', 'memory', 'space', 'such', 'architecture', 'forms', 'naturally', 'kind', 'of', 'database', 'that', 'builds', 'up', 'management', 'systems', 'of', 'data', 'in', 'self', 'organizing', 'way', 'however', 'this', 'database', 'differs', 'from', 'ordinary', 'ones', 'in', 'the', 'following', 'sense', 'it', 'does', 'not', 'only', 'record', 'the', 'samples', 'already', 'observed', 'but', 'computes', 'some', 'estimation', 'of', 'for', 'any', 'we', 'call', 'such', 'database', 'an', 'associative', 'database', 'the', 'first', 'subject', 'in', 'constructing', 'associative', 'databases', 'is', 'how', 'we', 'establish', 'the', 'rule', 'for', 'rewri', 'ting', 'for', 'this', 'purpose', 'we', 'adap', 'measure', 'called', 'the', 'dissimilari', 'ty', 'here', 'dissimilari', 'ty', 'means', 'mapping', 'reals', 'such', 'that', 'for', 'any', 'whenever', 'however', 'it', 'is', 'not', 'necessarily', 'defined', 'with', 'single', 'formula', 'it', 'is', 'definable', 'with', 'for', 'example', 'collection', 'of', 'rules', 'written', 'in', 'forms', 'of', 'if', 'then', 'the', 'dissimilarity', 'defines', 'structure', 'of', 'locally', 'in', 'hence', 'even', 'though', 'the', 'knowledge', 'on', 'is', 'imperfect', 'we', 'can', 're', 'flect', 'it', 'on', 'in', 'some', 'heuristic', 'way', 'hence', 'contrarily', 'to', 'neural', 'networks', 'it', 'is', 'possible', 'to', 'accelerate', 'the', 'speed', 'of', 'learning', 'by', 'establishing', 'well', 'especially', 'we', 'can', 'easily', 'find', 'out', 'simple', 'ds', 'for', 'those', 'ls', 'which', 'process', 'analogically', 'information', 'like', 'human', 'see', 'the', 'applications', 'in', 'this', 'paper', 'and', 'for', 'such', 'the', 'recursive', 'type', 'shows', 'strongly', 'its', 'effectiveness', 'we', 'denote', 'sequence', 'of', 'observed', 'samples', 'by', 'xl', 'yd', 'one', 'of', 'the', 'simplest', 'constructions', 'of', 'associative', 'databases', 'after', 'observing', 'samples', 'is', 'as', 'follows', 'algorithm', 'at', 'the', 'initial', 'stage', 'let', 'so', 'be', 'the', 'empty', 'set', 'for', 'every', 'let', 'for', 'any', 'equal', 'some', 'such', 'that', 'and', 'min', 'es', 'furthermore', 'add', 'to', 'to', 'produce', 'sa', 'another', 'version', 'improved', 'to', 'economize', 'the', 'memory', 'is', 'as', 'follows', 'algorithm', 'at', 'the', 'initial', 'stage', 'let', 'so', 'be', 'composed', 'of', 'an', 'arbitrary', 'element', 'in', 'for', 'every', 'let', 'ii', 'lex', 'for', 'any', 'equal', 'some', 'such', 'that', 'si', 'and', 'min', 'es', 'furthermore', 'if', 'ii', 'xi', 'yi', 'then', 'let', 'si', 'si', 'or', 'add', 'xi', 'yi', 'to', 'si', 'to', 'produce', 'si', 'si', 'si', 'xi', 'yi', 'in', 'either', 'construction', 'ii', 'approaches', 'to', 'as', 'increases', 'however', 'the', 'computation', 'time', 'grows', 'proportionally', 'to', 'the', 'size', 'of', 'si', 'the', 'second', 'subject', 'in', 'constructing', 'associative', 'databases', 'is', 'what', 'addressing', 'rule', 'we', 'should', 'employ', 'to', 'economize', 'the', 'computation', 'time', 'in', 'the', 'subsequent', 'chapters', 'construction', 'of', 'associative', 'database', 'for', 'this', 'purpose', 'is', 'proposed', 'it', 'manages', 'data', 'in', 'form', 'of', 'binary', 'tree', 'self', 'organization', 'of', 'associative', 'database', 'given', 'sample', 'sequence', 'xl', 'yl', 'the', 'algorithm', 'for', 'constructing', 'associative', 'database', 'is', 'as', 'follows', 'algorithm', 'step', 'initialization', 'let', 'root', 'root', 'xl', 'yd', 'here', 'and', 'are', 'variables', 'assigned', 'for', 'respective', 'nodes', 'to', 'memorize', 'data', 'furthermore', 'let', 'step', 'increase', 'by', 'and', 'put', 'in', 'after', 'reset', 'pointer', 'to', 'the', 'root', 'repeat', 'the', 'following', 'until', 'arrives', 'at', 'some', 'terminal', 'node', 'leaf', 'notations', 'nand', 'xt', 'let', 'mean', 'the', 'descendant', 'nodes', 'of', 'otherwise', 'let', 'if', 'step', 'display', 'yin', 'as', 'the', 'related', 'information', 'next', 'put', 'in', 'if', 'yin', 'back', 'to', 'step', 'otherwise', 'first', 'establish', 'new', 'descendant', 'nodes', 'and', 'secondly', 'let', 'yin', 'yin', 'yin', 'xt', 'finally', 'back', 'to', 'step', 'here', 'the', 'loop', 'of', 'step', 'can', 'be', 'stopped', 'at', 'any', 'time', 'and', 'also', 'can', 'be', 'continued', 'now', 'suppose', 'that', 'gate', 'elements', 'namely', 'artificial', 'synapses', 'that', 'play', 'the', 'role', 'of', 'branching', 'by', 'are', 'prepared', 'then', 'we', 'obtain', 'new', 'style', 'of', 'neural', 'network', 'with', 'gate', 'elements', 'being', 'randomly', 'connected', 'by', 'this', 'algorithm', 'letter', 'recognition', 'recen', 'tly', 'the', 'vertical', 'slitting', 'method', 'for', 'recognizing', 'typographic', 'english', 'letters', 'the', 'elastic', 'matching', 'method', 'for', 'recognizing', 'hand', 'written', 'discrete', 'english', 'letters', 'the', 'global', 'training', 'and', 'fuzzy', 'logic', 'search', 'method', 'for', 'recognizing', 'chinese', 'characters', 'written', 'in', 'square', 'styles', 'etc', 'are', 'published', 'the', 'self', 'organization', 'of', 'associative', 'database', 'realizes', 'the', 'recognition', 'of', 'handwritten', 'continuous', 'english', 'letters', 'wn', 'nov', 'xk', 'la', 'dw', 'lo', 'of', 'fig', 'source', 'document', 'loo', 'fig', 'windowing', 'number', 'of', 'samples', 'nualber', 'of', 'sampl', 'es', 'fig', 'an', 'experiment', 'result', 'an', 'image', 'scanner', 'takes', 'document', 'image', 'fig', 'the', 'letter', 'recognizer', 'uses', 'parallelogram', 'window', 'that', 'at', 'least', 'can', 'cover', 'the', 'maximal', 'letter', 'fig', 'and', 'processes', 'the', 'sequence', 'of', 'letters', 'while', 'shifting', 'the', 'window', 'that', 'is', 'the', 'recognizer', 'scans', 'word', 'in', 'slant', 'direction', 'and', 'it', 'places', 'the', 'window', 'so', 'that', 'its', 'left', 'vicinity', 'may', 'be', 'on', 'the', 'first', 'black', 'point', 'detected', 'then', 'the', 'window', 'catches', 'letter', 'and', 'some', 'part', 'of', 'the', 'succeeding', 'letter', 'if', 'recognition', 'of', 'the', 'head', 'letter', 'is', 'performed', 'its', 'end', 'position', 'namely', 'the', 'boundary', 'line', 'between', 'two', 'letters', 'becomes', 'known', 'hence', 'by', 'starting', 'the', 'scanning', 'from', 'this', 'boundary', 'and', 'repeating', 'the', 'above', 'operations', 'the', 'recognizer', 'accomplishes', 'recursively', 'the', 'task', 'thus', 'the', 'major', 'problem', 'comes', 'to', 'identifying', 'the', 'head', 'letter', 'in', 'the', 'window', 'considering', 'it', 'we', 'define', 'the', 'following', 'regard', 'window', 'images', 'as', 'xs', 'and', 'define', 'accordingly', 'for', 'denote', 'by', 'black', 'point', 'in', 'the', 'left', 'area', 'from', 'the', 'boundary', 'on', 'window', 'image', 'project', 'each', 'onto', 'window', 'image', 'then', 'measure', 'the', 'euclidean', 'distance', 'between', 'fj', 'and', 'black', 'point', 'on', 'being', 'the', 'closest', 'to', 'let', 'be', 'the', 'summation', 'of', 'for', 'all', 'black', 'points', 'bs', 'on', 'divided', 'by', 'the', 'number', 'of', 'bs', 'regard', 'couples', 'of', 'the', 'reading', 'and', 'the', 'position', 'of', 'boundary', 'as', 'ys', 'and', 'define', 'accordingly', 'an', 'operator', 'teaches', 'the', 'recognizer', 'in', 'interaction', 'the', 'relation', 'between', 'window', 'image', 'and', 'reading', 'boundary', 'with', 'algorithm', 'precisely', 'if', 'the', 'recalled', 'reading', 'is', 'incorrect', 'the', 'operator', 'teaches', 'correct', 'reading', 'via', 'the', 'console', 'moreover', 'if', 'the', 'boundary', 'position', 'is', 'incorrect', 'he', 'teaches', 'correct', 'position', 'via', 'the', 'mouse', 'fig', 'shows', 'partially', 'document', 'image', 'used', 'in', 'this', 'experiment', 'fig', 'shows', 'the', 'change', 'of', 'the', 'number', 'of', 'nodes', 'and', 'that', 'of', 'the', 'recognition', 'rate', 'defined', 'as', 'the', 'relative', 'frequency', 'of', 'correct', 'answers', 'in', 'the', 'past', 'trials', 'speciiications', 'of', 'the', 'window', 'are', 'height', 'dot', 'width', 'dot', 'and', 'slant', 'angular', 'deg', 'in', 'this', 'example', 'the', 'levels', 'of', 'tree', 'were', 'distributed', 'in', 'at', 'time', 'and', 'the', 'recognition', 'rate', 'converged', 'to', 'about', 'experimentally', 'the', 'recognition', 'rate', 'converges', 'to', 'about', 'in', 'most', 'cases', 'and', 'to', 'at', 'rare', 'case', 'however', 'it', 'does', 'not', 'attain', 'since', 'and', 'are', 'not', 'distinguishable', 'because', 'of', 'excessive', 'lluctuation', 'in', 'writing', 'if', 'the', 'consistency', 'of', 'the', 'relation', 'is', 'not', 'assured', 'like', 'this', 'the', 'number', 'of', 'nodes', 'increases', 'endlessly', 'fig', 'hence', 'it', 'is', 'clever', 'to', 'stop', 'the', 'learning', 'when', 'the', 'recognition', 'rate', 'attains', 'some', 'upper', 'limit', 'to', 'improve', 'further', 'the', 'recognition', 'rate', 'we', 'must', 'consider', 'the', 'spelling', 'of', 'words', 'it', 'is', 'one', 'of', 'future', 'subjects', 'obstacle', 'avoiding', 'movement', 'various', 'systems', 'of', 'camera', 'type', 'autonomous', 'mobile', 'robot', 'are', 'reported', 'flourishingly', 'the', 'system', 'made', 'up', 'by', 'the', 'authors', 'fig', 'also', 'belongs', 'to', 'this', 'category', 'now', 'in', 'mathematical', 'methodologies', 'we', 'solve', 'usually', 'the', 'problem', 'of', 'obstacle', 'avoiding', 'movement', 'as', 'cost', 'minimization', 'problem', 'under', 'some', 'cost', 'criterion', 'established', 'artificially', 'contrarily', 'the', 'self', 'organization', 'of', 'associative', 'database', 'reproduces', 'faithfully', 'the', 'cost', 'criterion', 'of', 'an', 'operator', 'therefore', 'motion', 'of', 'the', 'robot', 'after', 'learning', 'becomes', 'very', 'natural', 'now', 'the', 'length', 'width', 'and', 'height', 'of', 'the', 'robot', 'are', 'all', 'about', 'and', 'the', 'weight', 'is', 'about', 'kg', 'the', 'visual', 'angle', 'of', 'camera', 'is', 'about', 'deg', 'the', 'robot', 'has', 'the', 'following', 'three', 'factors', 'of', 'motion', 'it', 'turns', 'less', 'than', 'deg', 'advances', 'less', 'than', 'and', 'controls', 'speed', 'less', 'than', 'km', 'the', 'experiment', 'was', 'done', 'on', 'the', 'passageway', 'of', 'wid', 'th', 'inside', 'building', 'which', 'the', 'authors', 'laboratories', 'exist', 'in', 'fig', 'because', 'of', 'an', 'experimental', 'intention', 'we', 'arrange', 'boxes', 'smoking', 'stands', 'gas', 'cylinders', 'stools', 'handcarts', 'etc', 'on', 'the', 'passage', 'way', 'at', 'random', 'we', 'let', 'the', 'robot', 'take', 'an', 'image', 'through', 'the', 'camera', 'recall', 'similar', 'image', 'and', 'trace', 'the', 'route', 'preliminarily', 'recorded', 'on', 'it', 'for', 'this', 'purpose', 'we', 'define', 'the', 'following', 'let', 'the', 'camera', 'face', 'deg', 'downward', 'to', 'take', 'an', 'image', 'and', 'process', 'it', 'through', 'low', 'pass', 'filter', 'scanning', 'vertically', 'the', 'filtered', 'image', 'from', 'the', 'bottom', 'to', 'the', 'top', 'search', 'the', 'first', 'point', 'where', 'the', 'luminance', 'changes', 'excessively', 'then', 'su', 'bstitu', 'te', 'all', 'points', 'from', 'the', 'bottom', 'to', 'for', 'white', 'and', 'all', 'points', 'from', 'to', 'the', 'top', 'for', 'black', 'fig', 'if', 'no', 'obstacle', 'exists', 'just', 'in', 'front', 'of', 'the', 'robot', 'the', 'white', 'area', 'shows', 'the', 'free', 'area', 'where', 'the', 'robot', 'can', 'move', 'around', 'regard', 'binary', 'dot', 'images', 'processed', 'thus', 'as', 'xs', 'and', 'define', 'accordingly', 'for', 'every', 'let', 'be', 'the', 'number', 'of', 'black', 'points', 'on', 'the', 'exclusive', 'or', 'image', 'between', 'and', 'regard', 'as', 'ys', 'the', 'images', 'obtained', 'by', 'drawing', 'routes', 'on', 'images', 'xs', 'and', 'define', 'accordingly', 'the', 'robot', 'superimposes', 'on', 'the', 'current', 'camera', 'image', 'the', 'route', 'recalled', 'for', 'and', 'inquires', 'the', 'operator', 'instructions', 'the', 'operator', 'judges', 'subjectively', 'whether', 'the', 'suggested', 'route', 'is', 'appropriate', 'or', 'not', 'in', 'the', 'negative', 'answer', 'he', 'draws', 'desirable', 'route', 'on', 'with', 'the', 'mouse', 'to', 'teach', 'new', 'to', 'the', 'robot', 'this', 'opera', 'tion', 'defines', 'implicitly', 'sample', 'sequence', 'of', 'reflecting', 'the', 'cost', 'criterion', 'of', 'the', 'operator', 'iibube', 'roan', 'stationary', 'uni', 'fig', 'configuration', 'of', 'autonomous', 'mobile', 'robot', 'system', 'north', 'rmbi', 'ie', 'unit', 'robot', 'roan', 'fig', 'experimental', 'environment', 'wall', 'camera', 'image', 'preprocessing', 'fa', 'preprocessing', 'course', 'suggest', 'ion', 'search', 'fig', 'processing', 'for', 'obstacle', 'avoiding', 'movement', 'fig', 'processing', 'for', 'position', 'identification', 'we', 'define', 'the', 'satisfaction', 'rate', 'by', 'the', 'relative', 'frequency', 'of', 'acceptable', 'suggestions', 'of', 'route', 'in', 'the', 'past', 'trials', 'in', 'typical', 'experiment', 'the', 'change', 'of', 'satisfaction', 'rate', 'showed', 'similar', 'tendency', 'to', 'fig', 'and', 'it', 'attains', 'about', 'around', 'time', 'here', 'notice', 'that', 'the', 'rest', 'does', 'not', 'mean', 'directly', 'the', 'percentage', 'of', 'collision', 'in', 'practice', 'we', 'prevent', 'the', 'collision', 'by', 'adopting', 'some', 'supplementary', 'measure', 'at', 'time', 'the', 'number', 'of', 'nodes', 'was', 'and', 'the', 'levels', 'of', 'tree', 'were', 'distributed', 'in', 'the', 'proposed', 'method', 'reflects', 'delicately', 'various', 'characters', 'of', 'operator', 'for', 'example', 'robot', 'trained', 'by', 'an', 'operator', 'moves', 'slowly', 'with', 'enough', 'space', 'against', 'obstacles', 'while', 'one', 'trained', 'by', 'another', 'operator', 'brushes', 'quickly', 'against', 'obstacles', 'this', 'fact', 'gives', 'us', 'hint', 'on', 'method', 'of', 'printing', 'characters', 'into', 'machines', 'position', 'identification', 'the', 'robot', 'can', 'identify', 'its', 'position', 'by', 'recalling', 'similar', 'landscape', 'with', 'the', 'position', 'data', 'to', 'camera', 'image', 'for', 'this', 'purpose', 'in', 'principle', 'it', 'suffices', 'to', 'regard', 'camera', 'images', 'and', 'position', 'data', 'as', 'xs', 'and', 'ys', 'respectively', 'however', 'the', 'memory', 'capacity', 'is', 'finite', 'in', 'actual', 'compu', 'ters', 'hence', 'we', 'cannot', 'but', 'compress', 'the', 'camera', 'images', 'at', 'slight', 'loss', 'of', 'information', 'such', 'compression', 'is', 'admittable', 'as', 'long', 'as', 'the', 'precision', 'of', 'position', 'identification', 'is', 'in', 'an', 'acceptable', 'area', 'thus', 'the', 'major', 'problem', 'comes', 'to', 'find', 'out', 'some', 'suitable', 'compression', 'method', 'in', 'the', 'experimental', 'environment', 'fig', 'juts', 'are', 'on', 'the', 'passageway', 'at', 'intervals', 'of', 'and', 'each', 'section', 'between', 'adjacent', 'juts', 'has', 'at', 'most', 'one', 'door', 'the', 'robot', 'identifies', 'roughly', 'from', 'surrounding', 'landscape', 'which', 'section', 'itself', 'places', 'in', 'and', 'it', 'uses', 'temporarily', 'triangular', 'surveying', 'technique', 'if', 'an', 'exact', 'measure', 'is', 'necessary', 'to', 'realize', 'the', 'former', 'task', 'we', 'define', 'the', 'following', 'turn', 'the', 'camera', 'to', 'take', 'panorama', 'image', 'of', 'deg', 'scanning', 'horizontally', 'the', 'center', 'line', 'substitute', 'the', 'points', 'where', 'the', 'luminance', 'excessively', 'changes', 'for', 'black', 'and', 'the', 'other', 'points', 'for', 'white', 'fig', 'regard', 'binary', 'dot', 'line', 'images', 'processed', 'thus', 'as', 'xs', 'and', 'define', 'accordingly', 'for', 'every', 'project', 'each', 'black', 'point', 'on', 'onto', 'and', 'measure', 'the', 'euclidean', 'distance', 'between', 'and', 'black', 'point', 'on', 'being', 'the', 'closest', 'to', 'let', 'the', 'summation', 'of', 'be', 'similarly', 'calculate', 'by', 'exchanging', 'the', 'roles', 'of', 'and', 'denoting', 'the', 'numbers', 'of', 'as', 'and', 'as', 'respectively', 'by', 'nand', 'define', 'regard', 'positive', 'integers', 'labeled', 'on', 'sections', 'as', 'ys', 'cf', 'fig', 'and', 'define', 'accordingly', 'in', 'the', 'learning', 'mode', 'the', 'robot', 'checks', 'exactly', 'its', 'position', 'with', 'counter', 'that', 'is', 'reset', 'periodically', 'by', 'the', 'operator', 'the', 'robot', 'runs', 'arbitrarily', 'on', 'the', 'passageways', 'within', 'area', 'and', 'learns', 'the', 'relation', 'between', 'landscapes', 'and', 'position', 'data', 'position', 'identification', 'beyond', 'area', 'is', 'achieved', 'by', 'crossing', 'plural', 'databases', 'one', 'another', 'this', 'task', 'is', 'automatic', 'excepting', 'the', 'periodic', 'reset', 'of', 'counter', 'namely', 'it', 'is', 'kind', 'of', 'learning', 'without', 'teacher', 'we', 'define', 'the', 'identification', 'rate', 'by', 'the', 'relative', 'frequency', 'of', 'correct', 'recalls', 'of', 'position', 'data', 'in', 'the', 'past', 'trials', 'in', 'typical', 'example', 'it', 'converged', 'to', 'about', 'around', 'time', 'at', 'time', 'the', 'number', 'of', 'levels', 'was', 'and', 'the', 'levels', 'oftree', 'were', 'distributed', 'in', 'since', 'the', 'identification', 'failures', 'of', 'can', 'be', 'rejected', 'by', 'considering', 'the', 'trajectory', 'no', 'pro', 'blem', 'arises', 'in', 'practical', 'use', 'in', 'order', 'to', 'improve', 'the', 'identification', 'rate', 'the', 'compression', 'ratio', 'of', 'camera', 'images', 'must', 'be', 'loosened', 'such', 'possibility', 'depends', 'on', 'improvement', 'of', 'the', 'hardware', 'in', 'the', 'future', 'fig', 'shows', 'an', 'example', 'of', 'actual', 'motion', 'of', 'the', 'robot', 'based', 'on', 'the', 'database', 'for', 'obstacle', 'avoiding', 'movement', 'and', 'that', 'for', 'position', 'identification', 'this', 'example', 'corresponds', 'to', 'case', 'of', 'moving', 'from', 'to', 'in', 'fig', 'here', 'the', 'time', 'interval', 'per', 'frame', 'is', 'about', 'sec', 'ii', 'fig', 'actual', 'motion', 'of', 'the', 'robot', 'conclusion', 'method', 'of', 'self', 'organizing', 'associative', 'databases', 'was', 'proposed', 'with', 'the', 'application', 'to', 'robot', 'eyesight', 'systems', 'the', 'machine', 'decomposes', 'global', 'structure', 'unknown', 'into', 'set', 'of', 'local', 'structures', 'known', 'and', 'learns', 'universally', 'any', 'input', 'output', 'response', 'this', 'framework', 'of', 'problem', 'implies', 'wide', 'application', 'area', 'other', 'than', 'the', 'examples', 'shown', 'in', 'this', 'paper', 'defect', 'of', 'the', 'algorithm', 'of', 'self', 'organization', 'is', 'that', 'the', 'tree', 'is', 'balanced', 'well', 'only', 'for', 'subclass', 'of', 'structures', 'of', 'subject', 'imposed', 'us', 'is', 'to', 'widen', 'the', 'class', 'probable', 'solution', 'is', 'to', 'abolish', 'the', 'addressing', 'rule', 'depending', 'directly', 'on', 'values', 'of', 'and', 'instead', 'to', 'establish', 'another', 'rule', 'depending', 'on', 'the', 'distribution', 'function', 'of', 'values', 'of', 'it', 'is', 'now', 'under', 'investigation', 'references', 'hopfield', 'and', 'tank', 'computing', 'with', 'neural', 'circuit', 'model', 'science', 'pp', 'rumelhart', 'et', 'al', 'learning', 'representations', 'by', 'back', 'propagating', 'errors', 'nature', 'pp', 'hull', 'hypothesis', 'generation', 'in', 'computational', 'model', 'for', 'visual', 'word', 'recognition', 'ieee', 'expert', 'fall', 'pp', 'kurtzberg', 'feature', 'analysis', 'for', 'symbol', 'recognition', 'by', 'elastic', 'matching', 'ibm', 'res', 'develop', 'pp', 'wang', 'and', 'suen', 'large', 'tree', 'classifier', 'with', 'heuristic', 'search', 'and', 'global', 'training', 'ieee', 'trans', 'pattern', 'anal', 'mach', 'intell', 'pami', 'pp', 'brooks', 'et', 'al', 'self', 'calibration', 'of', 'motion', 'and', 'stereo', 'vision', 'for', 'mobile', 'robots', 'th', 'int', 'symp', 'of', 'robotics', 'research', 'pp', 'goto', 'and', 'stentz', 'the', 'cmu', 'system', 'for', 'mobile', 'robot', 'navigation', 'ieee', 'int', 'conf', 'on', 'robotics', 'automation', 'pp', 'madarasz', 'et', 'al', 'the', 'design', 'of', 'an', 'autonomous', 'vehicle', 'for', 'the', 'disabled', 'ieee', 'jour', 'of', 'robotics', 'automation', 'ra', 'pp', 'triendl', 'and', 'kriegman', 'stereo', 'vision', 'and', 'navigation', 'within', 'buildings', 'ieee', 'int', 'conf', 'on', 'robotics', 'automation', 'pp', 'turk', 'et', 'al', 'video', 'road', 'following', 'for', 'the', 'autonomous', 'land', 'vehicle', 'ieee', 'int', 'conf', 'on', 'robotics', 'automation', 'pp']]\n"
          ],
          "name": "stdout"
        }
      ]
    },
    {
      "cell_type": "code",
      "metadata": {
        "id": "A1pVFc0JaHa1",
        "colab_type": "code",
        "outputId": "75e6c2c1-98d9-408b-cb21-2d8d857b8d6f",
        "colab": {
          "base_uri": "https://localhost:8080/",
          "height": 54
        }
      },
      "source": [
        "print(data_words[2])"
      ],
      "execution_count": 34,
      "outputs": [
        {
          "output_type": "stream",
          "text": [
            "['storing', 'covariance', 'by', 'the', 'associative', 'long', 'term', 'potentiation', 'and', 'depression', 'of', 'synaptic', 'strengths', 'in', 'the', 'hippocampus', 'patric', 'stanton', 'and', 'terrence', 'sejnowski', 'department', 'of', 'biophysics', 'johns', 'hopkins', 'university', 'baltimore', 'md', 'abstract', 'in', 'modeling', 'studies', 'or', 'memory', 'based', 'on', 'neural', 'networks', 'both', 'the', 'selective', 'enhancement', 'and', 'depression', 'or', 'synaptic', 'strengths', 'are', 'required', 'ror', 'effident', 'storage', 'or', 'inrormation', 'sejnowski', 'kohonen', 'bienenstock', 'et', 'ai', 'sejnowski', 'and', 'tesauro', 'we', 'have', 'tested', 'this', 'assumption', 'in', 'the', 'hippocampus', 'cortical', 'structure', 'or', 'the', 'brain', 'that', 'is', 'involved', 'in', 'long', 'term', 'memory', 'brier', 'high', 'frequency', 'activation', 'or', 'excitatory', 'synapses', 'in', 'the', 'hippocampus', 'produces', 'an', 'increase', 'in', 'synaptic', 'strength', 'known', 'as', 'long', 'term', 'potentiation', 'or', 'ltp', 'buss', 'and', 'lomo', 'that', 'can', 'last', 'ror', 'many', 'days', 'ltp', 'is', 'known', 'to', 'be', 'hebbian', 'since', 'it', 'requires', 'the', 'simultaneous', 'release', 'or', 'from', 'presynaptic', 'terminals', 'coupled', 'with', 'postsynaptic', 'depolarization', 'kelso', 'et', 'al', 'malinow', 'and', 'miller', 'gustatrson', 'et', 'al', 'however', 'mechanism', 'ror', 'the', 'persistent', 'reduction', 'or', 'synaptic', 'strength', 'that', 'could', 'balance', 'ltp', 'has', 'not', 'yet', 'been', 'demonstrated', 'we', 'studied', 'the', 'associative', 'interactions', 'between', 'separate', 'inputs', 'onto', 'the', 'same', 'dendritic', 'trees', 'or', 'hippocampal', 'pyramidal', 'cells', 'or', 'field', 'cal', 'and', 'round', 'that', 'low', 'frequency', 'input', 'which', 'by', 'itselr', 'does', 'not', 'persistently', 'change', 'synaptic', 'strength', 'can', 'either', 'increase', 'associative', 'ltp', 'or', 'decrease', 'in', 'strength', 'associative', 'long', 'term', 'depression', 'or', 'ltd', 'depending', 'upon', 'whether', 'it', 'is', 'positively', 'or', 'negatively', 'correlated', 'in', 'time', 'with', 'second', 'high', 'frequency', 'bursting', 'input', 'ltp', 'or', 'synaptic', 'strength', 'is', 'hebbian', 'and', 'ltd', 'is', 'anti', 'hebbian', 'since', 'it', 'is', 'elicited', 'by', 'pairing', 'presynaptic', 'firing', 'with', 'postsynaptic', 'sufficient', 'to', 'block', 'postsynaptic', 'activity', 'thus', 'associative', 'ltp', 'and', 'associative', 'lto', 'are', 'capable', 'or', 'storing', 'inrormation', 'contained', 'in', 'the', 'covariance', 'between', 'separate', 'converging', 'hippocampal', 'inputs', 'present', 'address', 'dep', 'ents', 'of', 'newoscience', 'and', 'neurology', 'albert', 'einstein', 'college', 'of', 'medicine', 'pelham', 'parkway', 'south', 'bronx', 'ny', 'usa', 'tpresent', 'address', 'computational', 'neurobiology', 'laboratory', 'the', 'salk', 'institute', 'box', 'san', 'diego', 'ca', 'usa', 'storing', 'covariance', 'by', 'synaptic', 'strengths', 'in', 'the', 'hippocampus', 'introduction', 'associative', 'ltp', 'can', 'be', 'produced', 'in', 'some', 'hippocampal', 'neuroos', 'when', 'lowfrequency', 'weak', 'and', 'high', 'frequency', 'strong', 'inputs', 'to', 'the', 'same', 'cells', 'are', 'simultaneously', 'activated', 'levy', 'and', 'steward', 'levy', 'and', 'steward', 'barrionuevo', 'and', 'brown', 'when', 'stimulated', 'alone', 'weak', 'input', 'does', 'not', 'have', 'long', 'lasting', 'effect', 'on', 'synaptic', 'strength', 'however', 'when', 'paired', 'with', 'stimulation', 'of', 'separate', 'strong', 'input', 'sufficient', 'to', 'produce', 'homo', 'synaptic', 'ltp', 'of', 'that', 'pathway', 'the', 'weak', 'pathway', 'is', 'associatively', 'potentiated', 'neural', 'network', 'modeling', 'studies', 'have', 'predicted', 'that', 'in', 'addition', 'to', 'this', 'hebbian', 'form', 'of', 'plasticity', 'synaptic', 'strength', 'should', 'be', 'weakened', 'when', 'weak', 'and', 'strong', 'inputs', 'are', 'anti', 'correlated', 'sejnowski', 'kohonen', 'bienenstock', 'et', 'al', 'sejnowski', 'and', 'tesauro', 'evidence', 'for', 'heterosynaptic', 'depression', 'in', 'the', 'hippocampus', 'has', 'been', 'found', 'for', 'inputs', 'that', 'are', 'inactive', 'levy', 'and', 'steward', 'lynch', 'et', 'al', 'or', 'weakly', 'active', 'levy', 'and', 'steward', 'during', 'the', 'stimulation', 'of', 'strong', 'input', 'but', 'this', 'depression', 'did', 'not', 'depend', 'on', 'any', 'pattern', 'of', 'weak', 'input', 'activity', 'and', 'was', 'not', 'typically', 'as', 'long', 'lasting', 'as', 'ltp', 'therefore', 'we', 'searched', 'for', 'conditions', 'under', 'which', 'stimulation', 'of', 'hippocampal', 'pathway', 'rather', 'than', 'its', 'inactivity', 'could', 'produce', 'either', 'long', 'term', 'depression', 'or', 'potentiation', 'of', 'synaptic', 'strengths', 'depending', 'on', 'the', 'pattern', 'of', 'stimulation', 'the', 'stimulus', 'paradigm', 'that', 'we', 'used', 'illustrated', 'in', 'fig', 'is', 'based', 'on', 'the', 'finding', 'that', 'bursts', 'of', 'stimuli', 'at', 'hz', 'are', 'optimal', 'in', 'eliciting', 'ltp', 'in', 'the', 'hippocampus', 'larson', 'and', 'lynch', 'highfrequency', 'burst', 'sirong', 'stimulus', 'was', 'applied', 'to', 'schaffer', 'collateral', 'axons', 'and', 'lowfrequency', 'weak', 'stimulus', 'given', 'to', 'separate', 'subicular', 'input', 'coming', 'from', 'the', 'opposite', 'side', 'of', 'the', 'recording', 'site', 'but', 'terminating', 'on', 'dendrites', 'of', 'the', 'same', 'population', 'of', 'cal', 'pyramidal', 'neurons', 'due', 'to', 'the', 'rhythmic', 'nature', 'of', 'the', 'strong', 'input', 'bursts', 'each', 'weak', 'input', 'shock', 'could', 'be', 'either', 'superimposed', 'on', 'the', 'middle', 'of', 'each', 'burst', 'of', 'the', 'strong', 'input', 'in', 'phase', 'or', 'placed', 'symmetrically', 'between', 'bursts', 'out', 'of', 'phase', 'results', 'extracellular', 'evoked', 'field', 'potentials', 'were', 'recorded', 'from', 'the', 'apical', 'dendritic', 'and', 'somatic', 'layers', 'of', 'cal', 'pyramidal', 'cells', 'the', 'weak', 'stimulus', 'train', 'was', 'first', 'applied', 'alone', 'and', 'did', 'not', 'itself', 'induce', 'long', 'lasting', 'changes', 'the', 'strong', 'site', 'was', 'then', 'stimulated', 'alone', 'which', 'elicited', 'homosynaptic', 'ltp', 'of', 'the', 'strong', 'pathway', 'but', 'did', 'not', 'significantly', 'alter', 'amplitude', 'of', 'responses', 'to', 'the', 'weak', 'input', 'when', 'weak', 'and', 'strong', 'inputs', 'were', 'activated', 'in', 'phase', 'there', 'was', 'an', 'associative', 'ltp', 'of', 'the', 'weak', 'input', 'synapses', 'as', 'shown', 'in', 'fig', 'both', 'the', 'synaptic', 'excitatory', 'post', 'synaptic', 'potential', 'ae', 'and', 'population', 'action', 'potential', 'pike', 'were', 'significantly', 'enhanced', 'for', 'at', 'least', 'min', 'up', 'to', 'min', 'following', 'stimulation', 'in', 'contrast', 'when', 'weak', 'and', 'strong', 'inputs', 'were', 'applied', 'out', 'of', 'phase', 'they', 'elicited', 'an', 'associative', 'long', 'term', 'depression', 'lto', 'of', 'the', 'weak', 'input', 'synapses', 'as', 'shown', 'in', 'fig', 'there', 'was', 'marked', 'reduction', 'in', 'the', 'population', 'spike', 'with', 'smaller', 'decreases', 'in', 'the', 'note', 'that', 'the', 'stimulus', 'patterns', 'applied', 'to', 'each', 'input', 'were', 'identical', 'in', 'these', 'two', 'experiments', 'and', 'only', 'the', 'relative', 'stanton', 'and', 'sejnowski', 'phase', 'of', 'the', 'weak', 'and', 'strong', 'stimuli', 'was', 'altered', 'with', 'these', 'stimulus', 'patterns', 'synaptic', 'strength', 'could', 'be', 'repeatedly', 'enhanced', 'and', 'depressed', 'in', 'single', 'slice', 'as', 'illustrated', 'in', 'fig', 'as', 'control', 'experiment', 'to', 'determine', 'whether', 'information', 'concerning', 'covariance', 'between', 'the', 'inputs', 'was', 'actually', 'determinant', 'of', 'plasticity', 'we', 'combined', 'the', 'in', 'phase', 'and', 'out', 'of', 'phase', 'conditions', 'giving', 'both', 'the', 'weak', 'input', 'shocks', 'superimposed', 'on', 'the', 'bursts', 'plus', 'those', 'between', 'the', 'bursts', 'for', 'net', 'frequency', 'of', 'hz', 'this', 'pattern', 'which', 'resulted', 'in', 'zero', 'covariance', 'between', 'weak', 'and', 'strong', 'inputs', 'produced', 'no', 'net', 'change', 'in', 'weak', 'input', 'synaptic', 'strength', 'measmed', 'by', 'extracellular', 'evoked', 'potentials', 'thus', 'the', 'assoa', 'ssocia', 'tive', 'stimulus', 'pa', 'ra', 'digms', 'posjtive', 'ly', 'corkela', 'ted', 'in', 'phase', 'i____', 'i____', 'i_', 'si', 'iong', 'njo', 'it', 'jj', 'iiii', 'negatively', 'correlated', 'our', 'of', 'phase', 'akinltf', 'stiong', 'figure', 'hippocampal', 'slice', 'preparation', 'and', 'stimulus', 'paradigms', 'the', 'in', 'vitro', 'hippocampal', 'slice', 'showing', 'recording', 'sites', 'in', 'cal', 'pyramidal', 'cell', 'somatic', 'stratum', 'pyramidale', 'and', 'dendritic', 'stratum', 'radiatum', 'layers', 'and', 'stimulus', 'sites', 'activating', 'schaffer', 'collateral', 'strong', 'and', 'commissural', 'weak', 'afferents', 'hippocampal', 'slices', 'jlm', 'thick', 'were', 'incubated', 'in', 'an', 'interface', 'slice', 'chamber', 'at', 'extracellular', 'resistance', 'naci', 'filled', 'and', 'intracellular', 'acetate', 'filled', 'recording', 'electrodes', 'and', 'bipolar', 'glass', 'insulated', 'platinum', 'wire', 'stimulating', 'electrodes', 'jlm', 'tip', 'diameter', 'were', 'prepared', 'by', 'standard', 'methods', 'mody', 'et', 'al', 'stimulus', 'paradigms', 'used', 'strong', 'input', 'stimuli', 'strong', 'input', 'were', 'four', 'trains', 'of', 'hz', 'bursts', 'each', 'burst', 'had', 'stimuli', 'and', 'the', 'interburst', 'interval', 'was', 'msec', 'each', 'train', 'lasted', 'seconds', 'for', 'total', 'of', 'stimuli', 'weak', 'input', 'stimuli', 'weak', 'input', 'were', 'four', 'trains', 'of', 'shocks', 'at', 'hz', 'frequency', 'each', 'train', 'lasting', 'for', 'seconds', 'when', 'these', 'inputs', 'were', 'in', 'phase', 'the', 'weak', 'single', 'shocks', 'were', 'superimposed', 'on', 'the', 'middle', 'of', 'each', 'burst', 'of', 'the', 'strong', 'input', 'when', 'the', 'weak', 'input', 'was', 'out', 'of', 'phase', 'the', 'single', 'shocks', 'were', 'placed', 'symmetrically', 'between', 'the', 'bursts', 'storing', 'covariance', 'by', 'synaptic', 'strengths', 'in', 'the', 'hippocampus', 'ciative', 'ltp', 'and', 'ltd', 'mechanisms', 'appear', 'to', 'be', 'balanced', 'in', 'manner', 'ideal', 'for', 'the', 'storage', 'of', 'temporal', 'covariance', 'relations', 'the', 'simultaneous', 'depolarization', 'of', 'the', 'postsynaptic', 'membrane', 'and', 'activation', 'of', 'glutamate', 'receptors', 'of', 'the', 'methyl', 'aspartate', 'nmda', 'subtype', 'appears', 'to', 'be', 'necessary', 'for', 'ltp', 'induction', 'collingridge', 'et', 'ai', 'harris', 'et', 'al', 'wigstrom', 'and', 'gustaffson', 'the', 'sj', 'read', 'of', 'current', 'from', 'strong', 'to', 'weak', 'synapses', 'in', 'the', 'dendritic', 'tree', 'associative', 'lon', 'te', 'iotentiation', 'long', 'te', 'de', 'tession', 'll', 'associative', 'figure', 'mustration', 'of', 'associative', 'long', 'term', 'potentiation', 'ltp', 'and', 'associative', 'longterm', 'depression', 'ltd', 'using', 'extracellular', 'recordings', 'associative', 'ltp', 'of', 'evoked', 'excitatory', 'postsynaptic', 'potentials', 'and', 'population', 'action', 'potential', 'responses', 'in', 'the', 'weak', 'inpul', 'test', 'responses', 'are', 'shown', 'before', 'pre', 'and', 'min', 'after', 'post', 'application', 'of', 'weak', 'stimuli', 'in', 'phase', 'with', 'the', 'coactive', 'strong', 'input', 'associative', 'ltd', 'of', 'evoked', 'and', 'population', 'spike', 'responses', 'in', 'the', 'weak', 'input', 'test', 'responses', 'are', 'shown', 'before', 'pre', 'and', 'min', 'after', 'post', 'application', 'of', 'weak', 'stimuli', 'out', 'of', 'phase', 'with', 'the', 'coactive', 'strong', 'input', 'time', 'course', 'of', 'the', 'changes', 'in', 'population', 'spike', 'amplitude', 'observed', 'at', 'each', 'input', 'for', 'typical', 'experiment', 'test', 'responses', 'from', 'the', 'strong', 'input', 'open', 'circles', 'show', 'that', 'the', 'high', 'frequency', 'bursts', 'pulses', 'hz', 'msec', 'interburst', 'interval', 'as', 'in', 'fig', 'elicited', 'synapse', 'specific', 'ltp', 'independent', 'of', 'other', 'input', 'activity', 'test', 'responses', 'from', 'the', 'weak', 'input', 'filled', 'circles', 'show', 'that', 'stimulation', 'of', 'the', 'weak', 'pathway', 'out', 'of', 'phase', 'with', 'the', 'strong', 'one', 'produced', 'associative', 'ltd', 'assoc', 'ltd', 'of', 'this', 'input', 'associative', 'ltp', 'assoc', 'ltp', 'of', 'the', 'same', 'pathway', 'was', 'then', 'elicited', 'following', 'in', 'phase', 'stimulation', 'amplitude', 'and', 'duration', 'of', 'associative', 'ltd', 'or', 'ltp', 'could', 'be', 'increased', 'by', 'stimulating', 'input', 'pathways', 'with', 'more', 'trains', 'of', 'shocks', 'stanton', 'and', 'sejnowski', 'coupled', 'with', 'release', 'of', 'glutamate', 'from', 'the', 'weak', 'inputs', 'could', 'account', 'for', 'the', 'ability', 'of', 'the', 'strong', 'pathway', 'to', 'associatively', 'potentiate', 'weak', 'one', 'kelso', 'et', 'al', 'malinow', 'and', 'miller', 'gustaffson', 'et', 'al', 'consistent', 'with', 'this', 'hypothesis', 'we', 'find', 'that', 'the', 'nmda', 'receptor', 'antagonist', 'amino', 'acid', 'aps', 'blocks', 'induction', 'of', 'associative', 'ltp', 'in', 'cal', 'pyramidal', 'neurons', 'data', 'not', 'shown', 'in', 'contrast', 'the', 'application', 'of', 'aps', 'to', 'the', 'bathing', 'solution', 'at', 'this', 'same', 'concentration', 'had', 'no', 'significant', 'effect', 'on', 'associative', 'ltd', 'data', 'not', 'shown', 'thus', 'the', 'induction', 'of', 'ltd', 'seems', 'to', 'involve', 'cellular', 'mechanisms', 'different', 'from', 'associative', 'ltp', 'the', 'conditions', 'necessary', 'for', 'ltd', 'induction', 'were', 'explored', 'in', 'another', 'series', 'of', 'experiments', 'using', 'intracellular', 'recordings', 'from', 'cal', 'pyramidal', 'neurons', 'made', 'using', 'standard', 'techniques', 'mody', 'et', 'al', 'induction', 'of', 'associative', 'ltp', 'fig', 'weak', 'in', 'phase', 'produced', 'an', 'increase', 'in', 'amplitude', 'of', 'the', 'single', 'cell', 'evoked', 'and', 'lowered', 'action', 'potential', 'threshold', 'in', 'the', 'weak', 'pathway', 'as', 'reported', 'previously', 'barrionuevo', 'and', 'brown', 'conversely', 'the', 'induction', 'of', 'associative', 'ltd', 'fig', 'weak', 'out', 'of', 'phase', 'was', 'accompanied', 'by', 'long', 'lasting', 'reduction', 'of', 'amplitude', 'and', 'reduced', 'ability', 'to', 'elicit', 'action', 'potential', 'firing', 'as', 'in', 'control', 'extracellular', 'experiments', 'the', 'weak', 'input', 'alone', 'produced', 'no', 'long', 'lasting', 'alterations', 'in', 'intracellular', 'or', 'firing', 'properties', 'while', 'the', 'strong', 'input', 'alone', 'yielded', 'specific', 'increases', 'of', 'the', 'strong', 'pathway', 'without', 'altering', 'elicited', 'by', 'weak', 'input', 'stimulation', 'pre', 'min', 'post', 'out', 'of', 'phase', 'min', 'post', 'in', 'phase', 'figure', 'demonstration', 'of', 'associative', 'ltp', 'and', 'ltd', 'using', 'intracellular', 'recordings', 'from', 'cal', 'pyramidal', 'neuron', 'intracellular', 'prior', 'to', 'repetitive', 'stimulation', 'pre', 'min', 'after', 'out', 'of', 'phase', 'stimulation', 'out', 'of', 'phase', 'and', 'min', 'after', 'subsequent', 'in', 'phase', 'stimuli', 'in', 'phase', 'the', 'strong', 'input', 'schaffer', 'collateral', 'side', 'lower', 'traces', 'exhibited', 'ltp', 'of', 'the', 'evoked', 'independent', 'of', 'weak', 'input', 'activity', 'out', 'of', 'phase', 'stimulation', 'of', 'the', 'weak', 'subicular', 'side', 'upper', 'traces', 'pathway', 'produced', 'marked', 'persistent', 'reduction', 'in', 'amplitude', 'in', 'the', 'same', 'cell', 'subsequent', 'in', 'phase', 'stimuli', 'resulted', 'in', 'associative', 'ltp', 'of', 'the', 'weak', 'input', 'that', 'reversed', 'the', 'ltd', 'and', 'enhanced', 'amplitude', 'of', 'the', 'past', 'the', 'original', 'baseline', 'rmp', 'my', 'rn', 'mo', 'storing', 'covariance', 'by', 'synaptic', 'strengths', 'in', 'the', 'hippocampus', 'weak', 'stimulus', 'that', 'is', 'out', 'of', 'phase', 'with', 'strong', 'one', 'anives', 'when', 'the', 'postsynaptic', 'neuron', 'is', 'hyperpolarized', 'as', 'consequence', 'of', 'inhibitory', 'postsynaptic', 'potentials', 'and', 'from', 'mechanisms', 'intrinsic', 'to', 'pyramidal', 'neurons', 'this', 'suggests', 'that', 'postsynaptic', 'coupled', 'with', 'presynaptic', 'activation', 'may', 'trigger', 'lid', 'to', 'test', 'this', 'hypothesis', 'we', 'injected', 'current', 'with', 'intracellular', 'microelectrodes', 'to', 'hyperpolarize', 'or', 'depolarize', 'the', 'cell', 'while', 'stimulating', 'synaptic', 'input', 'pairing', 'the', 'injection', 'of', 'depolarizing', 'current', 'with', 'the', 'weak', 'input', 'led', 'to', 'ltp', 'of', 'those', 'synapses', 'fig', 'stim', 'pre', 'idpost', 'si', 'depol', 'ls', 'coiitrol', 'jj', 'ulvllj', 'pre', 'loliiin', 'post', 'stlm', 'hyperpol', 'figure', 'pairing', 'of', 'postsynaptic', 'with', 'stimulation', 'of', 'synapses', 'on', 'cal', 'hippocampal', 'pyramidal', 'neurons', 'produces', 'lid', 'specific', 'to', 'the', 'activated', 'pathway', 'while', 'pairing', 'of', 'postsynaptic', 'depolarization', 'with', 'synaptic', 'stimulation', 'produces', 'synapsespecific', 'ltp', 'intracellular', 'evoked', 'are', 'shown', 'at', 'stimulated', 'stim', 'and', 'unstimulated', 'control', 'pathway', 'synapses', 'before', 'pre', 'and', 'min', 'after', 'post', 'pairing', 'my', 'depolarization', 'constant', 'current', 'na', 'with', 'hz', 'synaptic', 'stimulation', 'the', 'stimulated', 'pathway', 'exhibited', 'associative', 'ltp', 'of', 'the', 'while', 'the', 'control', 'unstimulated', 'input', 'showed', 'no', 'change', 'in', 'synaptic', 'strength', 'rmp', 'my', 'rn', 'mfl', 'intracellular', 'are', 'shown', 'evoked', 'at', 'stimulated', 'and', 'control', 'pathway', 'synapses', 'before', 'pre', 'and', 'min', 'after', 'post', 'pairing', 'mv', 'constant', 'current', 'na', 'with', 'hz', 'synaptic', 'stimulation', 'the', 'input', 'stim', 'activated', 'during', 'the', 'showed', 'associative', 'ltd', 'of', 'synaptic', 'evoked', 'while', 'synaptic', 'strength', 'of', 'the', 'silent', 'input', 'control', 'was', 'unaltered', 'rmp', 'mv', 'rn', 'stanton', 'and', 'sejnowski', 'while', 'control', 'input', 'inactive', 'during', 'the', 'stimulation', 'did', 'not', 'change', 'control', 'as', 'reported', 'previously', 'kelso', 'et', 'al', 'malinow', 'and', 'miller', 'gustaffson', 'et', 'al', 'conversely', 'prolonged', 'hyperpolarizing', 'current', 'injection', 'paired', 'with', 'the', 'same', 'low', 'frequency', 'stimuli', 'led', 'to', 'induction', 'of', 'ltd', 'in', 'the', 'stimulated', 'pathway', 'fig', 'stim', 'but', 'not', 'in', 'the', 'unstimulated', 'pathway', 'control', 'the', 'application', 'of', 'either', 'depolarizing', 'current', 'hyperpolarizing', 'current', 'or', 'the', 'weak', 'hz', 'synaptic', 'stimulation', 'alone', 'did', 'not', 'induce', 'long', 'term', 'alterations', 'in', 'synaptic', 'strengths', 'thus', 'and', 'simultaneous', 'presynaptic', 'activity', 'supply', 'sufficient', 'conditions', 'for', 'the', 'induction', 'of', 'ltd', 'in', 'cal', 'pyramidal', 'neurons', 'conclusions', 'these', 'experiments', 'identify', 'novel', 'fono', 'of', 'anti', 'hebbian', 'synaptic', 'plasticity', 'in', 'the', 'hippocampus', 'and', 'confirm', 'predictions', 'made', 'from', 'modeling', 'studies', 'of', 'information', 'storage', 'in', 'neural', 'networks', 'unlike', 'previous', 'reports', 'of', 'synaptic', 'depression', 'in', 'the', 'hippocampus', 'the', 'plasticity', 'is', 'associative', 'long', 'lasting', 'and', 'is', 'produced', 'when', 'presynaptic', 'activity', 'occurs', 'while', 'the', 'postsynaptic', 'membrane', 'is', 'hyperpolarized', 'in', 'combination', 'with', 'hebbian', 'mechanisms', 'also', 'present', 'at', 'hippocampal', 'synapses', 'associative', 'ltp', 'and', 'associative', 'ltd', 'may', 'allow', 'neurons', 'in', 'the', 'hippocampus', 'to', 'compute', 'and', 'store', 'covariance', 'between', 'inputs', 'sejnowski', 'stanton', 'and', 'sejnowski', 'these', 'finding', 'make', 'temporal', 'as', 'well', 'as', 'spatial', 'context', 'an', 'important', 'feature', 'of', 'memory', 'mechanisms', 'in', 'the', 'hippocampus', 'elsewhere', 'in', 'the', 'brain', 'the', 'receptive', 'field', 'properties', 'of', 'cells', 'in', 'cat', 'visual', 'cortex', 'can', 'be', 'altered', 'by', 'visual', 'experience', 'paired', 'with', 'iontophoretic', 'excitation', 'or', 'depression', 'of', 'cellular', 'activity', 'fregnac', 'et', 'al', 'greuel', 'et', 'al', 'in', 'particular', 'the', 'chronic', 'of', 'neurons', 'in', 'visual', 'cortex', 'coupled', 'with', 'presynaptic', 'transmitter', 'release', 'leads', 'to', 'long', 'teno', 'depression', 'of', 'the', 'active', 'but', 'not', 'inactive', 'inputs', 'from', 'the', 'lateral', 'geniculate', 'nucleus', 'reiter', 'and', 'stryker', 'thus', 'both', 'hebbian', 'and', 'anti', 'hebbian', 'mechanisms', 'found', 'in', 'the', 'hippocampus', 'seem', 'to', 'also', 'be', 'present', 'in', 'other', 'brain', 'areas', 'and', 'covariance', 'of', 'firing', 'patterns', 'between', 'converging', 'inputs', 'likely', 'key', 'to', 'understanding', 'higher', 'cognitive', 'function', 'this', 'research', 'was', 'supported', 'by', 'grants', 'from', 'the', 'national', 'science', 'foundation', 'and', 'the', 'office', 'of', 'naval', 'research', 'to', 'tjs', 'we', 'thank', 'drs', 'charles', 'stevens', 'and', 'richard', 'morris', 'for', 'discussions', 'about', 'related', 'experiments', 'rererences', 'bienenstock', 'cooper', 'ln', 'and', 'munro', 'theory', 'for', 'the', 'development', 'of', 'neuron', 'selectivity', 'orientation', 'specificity', 'and', 'binocular', 'interaction', 'in', 'visual', 'cortex', 'neurosci', 'barrionuevo', 'and', 'brown', 'associative', 'long', 'teno', 'potentiation', 'in', 'hippocampal', 'slices', 'proc', 'nat', 'acad', 'sci', 'usa', 'bliss', 'and', 'lomo', 'long', 'lasting', 'potentiation', 'of', 'synaptic', 'ttansmission', 'in', 'the', 'dentate', 'area', 'of', 'the', 'anaesthetized', 'rabbit', 'following', 'stimulation', 'of', 'the', 'perforant', 'path', 'physiol', 'lond', 'storing', 'covariance', 'by', 'synaptic', 'strengths', 'in', 'the', 'hippocampus', 'collingridge', 'gl', 'kehl', 'sj', 'and', 'mclennan', 'excitatory', 'amino', 'acids', 'in', 'synaptic', 'transmission', 'in', 'the', 'schaffer', 'collateral', 'commissural', 'pathway', 'of', 'the', 'rat', 'hippocampus', 'physiol', 'lond', 'fregnac', 'shulz', 'thorpe', 'and', 'bienenstock', 'cellular', 'analogue', 'of', 'visual', 'cortical', 'plasticity', 'nature', 'lond', 'greuel', 'luhmann', 'and', 'singer', 'pharmacological', 'induction', 'of', 'usedependent', 'receptive', 'field', 'modifications', 'in', 'visual', 'cortex', 'science', 'gustafsson', 'wigstrom', 'abraham', 'and', 'huang', 'long', 'term', 'potentiation', 'in', 'the', 'hippocampus', 'using', 'depolarizing', 'current', 'pulses', 'as', 'the', 'conditioning', 'stimulus', 'to', 'single', 'volley', 'synaptic', 'potentials', 'neurosci', 'harris', 'ganong', 'and', 'cotman', 'long', 'term', 'potentiation', 'in', 'the', 'hippocampus', 'involves', 'activation', 'of', 'metbyl', 'aspartate', 'receptors', 'brain', 'res', 'kelso', 'ganong', 'and', 'brown', 'hebbian', 'synapses', 'in', 'hippocampus', 'proc', 'natl', 'acad', 'sci', 'usa', 'kohonen', 'self', 'organization', 'and', 'associative', 'memory', 'springer', 'verlag', 'heidelberg', 'larson', 'and', 'lynch', 'synaptic', 'potentiation', 'in', 'hippocampus', 'by', 'patterned', 'stimulation', 'involves', 'two', 'events', 'science', 'levy', 'and', 'steward', 'synapses', 'as', 'associative', 'memory', 'elements', 'in', 'the', 'hippocampal', 'formation', 'brain', 'res', 'levy', 'and', 'steward', 'temporal', 'contiguity', 'requirements', 'for', 'long', 'term', 'associative', 'potentiation', 'depression', 'in', 'the', 'hippocampus', 'neuroscience', 'lynch', 'dunwiddie', 'and', 'gribkoff', 'heterosynaptic', 'depression', 'postsynaptic', 'correlate', 'oflong', 'term', 'potentiation', 'nature', 'lond', 'malinow', 'and', 'miller', 'postsynaptic', 'during', 'conditioning', 'reversibly', 'blocks', 'induction', 'of', 'long', 'term', 'potentiation', 'nature', 'lond', 'mody', 'stanton', 'pk', 'and', 'heinemann', 'activation', 'of', 'methyl', 'aspartate', 'nmda', 'receptors', 'parallels', 'changes', 'in', 'cellular', 'and', 'synaptic', 'properties', 'of', 'dentate', 'gyrus', 'granule', 'cells', 'after', 'kindling', 'neurophysiol', 'reiter', 'and', 'stryker', 'neural', 'plasticity', 'without', 'postsynaptic', 'action', 'potentials', 'less', 'active', 'inputs', 'become', 'dominant', 'when', 'kitten', 'visual', 'cortical', 'cells', 'are', 'inhibited', 'proc', 'natl', 'acad', 'sci', 'usa', 'sejnowski', 'and', 'tesauro', 'building', 'network', 'learning', 'algorithms', 'from', 'hebbian', 'synapses', 'in', 'brain', 'organization', 'and', 'memory', 'jl', 'mcgaugh', 'weinberger', 'and', 'lynch', 'eds', 'oxford', 'univ', 'press', 'new', 'york', 'in', 'press', 'sejnowski', 'tj', 'storing', 'covariance', 'with', 'nonlinearly', 'interacting', 'neurons', 'math', 'biology', 'sejnowski', 'statistical', 'constraints', 'on', 'synaptic', 'plasticity', 'theor', 'biology', 'stanton', 'and', 'sejnowski', 'tj', 'associative', 'long', 'term', 'depression', 'in', 'the', 'hippocampus', 'evidence', 'for', 'anti', 'hebbian', 'synaptic', 'plasticity', 'nature', 'lond', 'in', 'review', 'wigstrom', 'and', 'gustafsson', 'possible', 'correlate', 'of', 'the', 'postsynaptic', 'condition', 'for', 'long', 'lasting', 'potentiation', 'in', 'the', 'guinea', 'pig', 'hippocampus', 'in', 'vitro', 'neurosci', 'lett']\n"
          ],
          "name": "stdout"
        }
      ]
    },
    {
      "cell_type": "code",
      "metadata": {
        "id": "wmeji9gVaHa3",
        "colab_type": "code",
        "outputId": "bd36a9d5-db19-4f66-dde5-5d1cda660939",
        "colab": {
          "base_uri": "https://localhost:8080/",
          "height": 34
        }
      },
      "source": [
        "len(data_words[2])"
      ],
      "execution_count": 35,
      "outputs": [
        {
          "output_type": "execute_result",
          "data": {
            "text/plain": [
              "2687"
            ]
          },
          "metadata": {
            "tags": []
          },
          "execution_count": 35
        }
      ]
    },
    {
      "cell_type": "code",
      "metadata": {
        "id": "zoC3PhIYqi1O",
        "colab_type": "code",
        "colab": {
          "base_uri": "https://localhost:8080/",
          "height": 34
        },
        "outputId": "a27a18ea-4cee-4b94-a131-3705071fa18f"
      },
      "source": [
        "len(data_words)"
      ],
      "execution_count": 36,
      "outputs": [
        {
          "output_type": "execute_result",
          "data": {
            "text/plain": [
              "7241"
            ]
          },
          "metadata": {
            "tags": []
          },
          "execution_count": 36
        }
      ]
    },
    {
      "cell_type": "code",
      "metadata": {
        "id": "oG5h0kwLupMU",
        "colab_type": "code",
        "colab": {}
      },
      "source": [
        ""
      ],
      "execution_count": 0,
      "outputs": []
    },
    {
      "cell_type": "markdown",
      "metadata": {
        "id": "2f-TMX1gvfpR",
        "colab_type": "text"
      },
      "source": [
        "### 4.3)- More Cleaning\n",
        "\n",
        "Remove extra words <br>\n",
        "Remove anything but word contain a-z sequence <br>\n",
        "Normalize data i.e Lemma"
      ]
    },
    {
      "cell_type": "code",
      "metadata": {
        "id": "IksIG-7HvUNH",
        "colab_type": "code",
        "colab": {
          "base_uri": "https://localhost:8080/",
          "height": 68
        },
        "outputId": "4412a1c0-1b30-43a7-9abd-fdc641807976"
      },
      "source": [
        "from nltk.stem import WordNetLemmatizer\n",
        "lemm = WordNetLemmatizer()\n",
        "nltk.download('wordnet')"
      ],
      "execution_count": 43,
      "outputs": [
        {
          "output_type": "stream",
          "text": [
            "[nltk_data] Downloading package wordnet to /root/nltk_data...\n",
            "[nltk_data]   Package wordnet is already up-to-date!\n"
          ],
          "name": "stdout"
        },
        {
          "output_type": "execute_result",
          "data": {
            "text/plain": [
              "True"
            ]
          },
          "metadata": {
            "tags": []
          },
          "execution_count": 43
        }
      ]
    },
    {
      "cell_type": "code",
      "metadata": {
        "id": "Zpr1t2X0upTs",
        "colab_type": "code",
        "colab": {}
      },
      "source": [
        "from nltk.corpus import stopwords\n",
        "clean_text = [] # defining corpus\n",
        "for i in range(0, len(dataset['paper_text'])): # giving range of values from 0 to end point of dataset i.e 7241\n",
        "    processed_text = re.sub('[^a-zA-Z]', ' ', dataset['paper_text'][i]) # using i for all values instead of 1 column\n",
        "    processed_text = processed_text.lower()\n",
        "    processed_text = processed_text.split()\n",
        "    lemm = WordNetLemmatizer()\n",
        "    stopword_set = set(stopwords.words('english'))\n",
        "    processed_text = [lemm.lemmatize(word) for word in processed_text if not word in stopword_set]\n",
        "    processed_text = ' '.join(processed_text )\n",
        "    clean_text.append(processed_text) # finally attach all these cleaned values to corpus directory"
      ],
      "execution_count": 0,
      "outputs": []
    },
    {
      "cell_type": "code",
      "metadata": {
        "id": "HQ2UmBY5upXF",
        "colab_type": "code",
        "colab": {}
      },
      "source": [
        "# remove digits for double safety\n",
        "\n",
        "# Remove numbers\n",
        "data_ready = [word for word in clean_text if not word.isnumeric()]"
      ],
      "execution_count": 0,
      "outputs": []
    },
    {
      "cell_type": "code",
      "metadata": {
        "id": "kxgj99Suupbw",
        "colab_type": "code",
        "colab": {
          "base_uri": "https://localhost:8080/",
          "height": 34
        },
        "outputId": "bde60aaf-ec2b-477d-f17f-3649cab43152"
      },
      "source": [
        "type(data_ready)"
      ],
      "execution_count": 46,
      "outputs": [
        {
          "output_type": "execute_result",
          "data": {
            "text/plain": [
              "list"
            ]
          },
          "metadata": {
            "tags": []
          },
          "execution_count": 46
        }
      ]
    },
    {
      "cell_type": "code",
      "metadata": {
        "id": "g7ub_Z27wPk_",
        "colab_type": "code",
        "colab": {}
      },
      "source": [
        "# convert to series to check words\n",
        "text_corpus = pd.Series(clean_text)"
      ],
      "execution_count": 0,
      "outputs": []
    },
    {
      "cell_type": "code",
      "metadata": {
        "id": "3e2h0_bewVcb",
        "colab_type": "code",
        "colab": {
          "base_uri": "https://localhost:8080/",
          "height": 204
        },
        "outputId": "2f047823-cc12-4414-e57f-6c7c36deb53e"
      },
      "source": [
        "dataset['clean_text'] = text_corpus\n",
        "dataset.head()"
      ],
      "execution_count": 49,
      "outputs": [
        {
          "output_type": "execute_result",
          "data": {
            "text/html": [
              "<div>\n",
              "<style scoped>\n",
              "    .dataframe tbody tr th:only-of-type {\n",
              "        vertical-align: middle;\n",
              "    }\n",
              "\n",
              "    .dataframe tbody tr th {\n",
              "        vertical-align: top;\n",
              "    }\n",
              "\n",
              "    .dataframe thead th {\n",
              "        text-align: right;\n",
              "    }\n",
              "</style>\n",
              "<table border=\"1\" class=\"dataframe\">\n",
              "  <thead>\n",
              "    <tr style=\"text-align: right;\">\n",
              "      <th></th>\n",
              "      <th>id</th>\n",
              "      <th>year</th>\n",
              "      <th>title</th>\n",
              "      <th>abstract</th>\n",
              "      <th>paper_text</th>\n",
              "      <th>w_count</th>\n",
              "      <th>clean_text</th>\n",
              "    </tr>\n",
              "  </thead>\n",
              "  <tbody>\n",
              "    <tr>\n",
              "      <th>0</th>\n",
              "      <td>1</td>\n",
              "      <td>1987</td>\n",
              "      <td>Self-Organization of Associative Database and ...</td>\n",
              "      <td>Abstract Missing</td>\n",
              "      <td>767\\n\\nSELF-ORGANIZATION OF ASSOCIATIVE DATABA...</td>\n",
              "      <td>3315</td>\n",
              "      <td>self organization associative database applica...</td>\n",
              "    </tr>\n",
              "    <tr>\n",
              "      <th>1</th>\n",
              "      <td>10</td>\n",
              "      <td>1987</td>\n",
              "      <td>A Mean Field Theory of Layer IV of Visual Cort...</td>\n",
              "      <td>Abstract Missing</td>\n",
              "      <td>683\\n\\nA MEAN FIELD THEORY OF LAYER IV OF VISU...</td>\n",
              "      <td>2233</td>\n",
              "      <td>mean field theory layer iv visual cortex appli...</td>\n",
              "    </tr>\n",
              "    <tr>\n",
              "      <th>2</th>\n",
              "      <td>100</td>\n",
              "      <td>1988</td>\n",
              "      <td>Storing Covariance by the Associative Long-Ter...</td>\n",
              "      <td>Abstract Missing</td>\n",
              "      <td>394\\n\\nSTORING COVARIANCE BY THE ASSOCIATIVE\\n...</td>\n",
              "      <td>2727</td>\n",
              "      <td>storing covariance associative long term poten...</td>\n",
              "    </tr>\n",
              "    <tr>\n",
              "      <th>3</th>\n",
              "      <td>1000</td>\n",
              "      <td>1994</td>\n",
              "      <td>Bayesian Query Construction for Neural Network...</td>\n",
              "      <td>Abstract Missing</td>\n",
              "      <td>Bayesian Query Construction for Neural\\nNetwor...</td>\n",
              "      <td>2923</td>\n",
              "      <td>bayesian query construction neural network mod...</td>\n",
              "    </tr>\n",
              "    <tr>\n",
              "      <th>4</th>\n",
              "      <td>1001</td>\n",
              "      <td>1994</td>\n",
              "      <td>Neural Network Ensembles, Cross Validation, an...</td>\n",
              "      <td>Abstract Missing</td>\n",
              "      <td>Neural Network Ensembles, Cross\\nValidation, a...</td>\n",
              "      <td>3009</td>\n",
              "      <td>neural network ensemble cross validation activ...</td>\n",
              "    </tr>\n",
              "  </tbody>\n",
              "</table>\n",
              "</div>"
            ],
            "text/plain": [
              "     id  year  ... w_count                                         clean_text\n",
              "0     1  1987  ...    3315  self organization associative database applica...\n",
              "1    10  1987  ...    2233  mean field theory layer iv visual cortex appli...\n",
              "2   100  1988  ...    2727  storing covariance associative long term poten...\n",
              "3  1000  1994  ...    2923  bayesian query construction neural network mod...\n",
              "4  1001  1994  ...    3009  neural network ensemble cross validation activ...\n",
              "\n",
              "[5 rows x 7 columns]"
            ]
          },
          "metadata": {
            "tags": []
          },
          "execution_count": 49
        }
      ]
    },
    {
      "cell_type": "markdown",
      "metadata": {
        "id": "7HDyDaryaHbB",
        "colab_type": "text"
      },
      "source": [
        "# 5)-Pre-Model step"
      ]
    },
    {
      "cell_type": "markdown",
      "metadata": {
        "id": "_-Ivcw09iboV",
        "colab_type": "text"
      },
      "source": [
        "### 5.1)- Create Dictionary"
      ]
    },
    {
      "cell_type": "code",
      "metadata": {
        "id": "7SAxoLZTx1e1",
        "colab_type": "code",
        "colab": {
          "base_uri": "https://localhost:8080/",
          "height": 54
        },
        "outputId": "d47b42f9-46b9-4fcd-ca1c-067ff2e76f92"
      },
      "source": [
        "# make series into tokenized list to make id2word. \n",
        "data = dataset.clean_text.values.tolist()\n",
        "data_words = list(sent_to_words(data))\n",
        "print(data_words[:1])"
      ],
      "execution_count": 60,
      "outputs": [
        {
          "output_type": "stream",
          "text": [
            "[['self', 'organization', 'associative', 'database', 'application', 'hisashi', 'suzuki', 'suguru', 'arimoto', 'osaka', 'university', 'toyonaka', 'osaka', 'japan', 'abstract', 'efficient', 'method', 'self', 'organizing', 'associative', 'database', 'proposed', 'together', 'application', 'robot', 'eyesight', 'system', 'proposed', 'database', 'associate', 'input', 'output', 'first', 'half', 'part', 'discussion', 'algorithm', 'self', 'organization', 'proposed', 'aspect', 'hardware', 'produce', 'new', 'style', 'neural', 'network', 'latter', 'half', 'part', 'applicability', 'handwritten', 'letter', 'recognition', 'autonomous', 'mobile', 'robot', 'system', 'demonstrated', 'introduction', 'let', 'mapping', 'given', 'finite', 'infinite', 'set', 'another', 'finite', 'infinite', 'set', 'learning', 'machine', 'observes', 'set', 'pair', 'sampled', 'randomly', 'mean', 'cartesian', 'product', 'computes', 'estimate', 'make', 'small', 'estimation', 'error', 'measure', 'usually', 'say', 'faster', 'decrease', 'estimation', 'error', 'increase', 'number', 'sample', 'better', 'learning', 'machine', 'however', 'expression', 'performance', 'incomplete', 'since', 'lack', 'consideration', 'candidate', 'assumed', 'preliminarily', 'find', 'good', 'learning', 'machine', 'clarify', 'conception', 'let', 'discus', 'type', 'learning', 'machine', 'let', 'advance', 'understanding', 'self', 'organization', 'associative', 'database', 'parameter', 'type', 'ordinary', 'type', 'learning', 'machine', 'assumes', 'equation', 'relating', 'parameter', 'indefinite', 'namely', 'structure', 'equivalent', 'define', 'implicitly', 'set', 'candidate', 'subset', 'mapping', 'computes', 'value', 'parameter', 'based', 'observed', 'sample', 'call', 'type', 'parameter', 'type', 'learning', 'machine', 'defined', 'well', 'approach', 'number', 'sample', 'increase', 'alternative', 'case', 'however', 'estimation', 'error', 'remains', 'eternally', 'thus', 'problem', 'designing', 'learning', 'machine', 'return', 'find', 'proper', 'structure', 'sense', 'hand', 'assumed', 'structure', 'demanded', 'compact', 'possible', 'achieve', 'fast', 'learning', 'word', 'number', 'parameter', 'small', 'since', 'parameter', 'uniquely', 'determined', 'even', 'though', 'observed', 'sample', 'however', 'demand', 'proper', 'contradicts', 'compact', 'consequently', 'parameter', 'type', 'better', 'compactness', 'assumed', 'structure', 'proper', 'better', 'learning', 'machine', 'elementary', 'conception', 'design', 'learning', 'machine', 'universality', 'ordinary', 'neural', 'network', 'suppose', 'sufficient', 'knowledge', 'given', 'though', 'unknown', 'case', 'comparatively', 'easy', 'find', 'proper', 'compact', 'structure', 'alternative', 'case', 'however', 'sometimes', 'difficult', 'possible', 'solution', 'give', 'compactness', 'assume', 'almighty', 'structure', 'cover', 'various', 'combination', 'orthogonal', 'base', 'infinite', 'dimension', 'structure', 'neural', 'network', 'approximation', 'obtained', 'truncating', 'finitely', 'dimension', 'implementation', 'american', 'institute', 'physic', 'main', 'topic', 'designing', 'neural', 'network', 'establish', 'desirable', 'structure', 'work', 'includes', 'developing', 'practical', 'procedure', 'compute', 'value', 'coefficient', 'observed', 'sample', 'discussion', 'flourishing', 'since', 'many', 'efficient', 'method', 'proposed', 'recently', 'even', 'hardware', 'unit', 'computing', 'coefficient', 'parallel', 'speed', 'sold', 'anza', 'mark', 'iii', 'odyssey', 'nevertheless', 'neural', 'network', 'always', 'exists', 'danger', 'error', 'remaining', 'eternally', 'estimating', 'precisely', 'speaking', 'suppose', 'combination', 'base', 'finite', 'number', 'define', 'structure', 'essentially', 'word', 'suppose', 'located', 'near', 'case', 'estimation', 'error', 'none', 'negligible', 'however', 'distant', 'estimation', 'error', 'never', 'becomes', 'negligible', 'indeed', 'many', 'research', 'report', 'following', 'situation', 'appears', 'complex', 'estimation', 'error', 'converges', 'value', 'number', 'sample', 'increase', 'decrease', 'hardly', 'even', 'though', 'dimension', 'heighten', 'property', 'sometimes', 'considerable', 'defect', 'neural', 'network', 'recursi', 'type', 'recursive', 'type', 'founded', 'another', 'methodology', 'learning', 'follows', 'initial', 'stage', 'sample', 'set', 'fa', 'instead', 'notation', 'candidate', 'equal', 'set', 'mapping', 'observing', 'first', 'sample', 'xl', 'yl', 'fa', 'reduced', 'fi', 'xt', 'yl', 'observing', 'second', 'sample', 'fl', 'reduced', 'xt', 'yl', 'thus', 'candidate', 'set', 'becomes', 'gradually', 'small', 'observation', 'sample', 'proceeds', 'observing', 'sample', 'write', 'one', 'likelihood', 'estimation', 'selected', 'fi', 'hence', 'contrarily', 'parameter', 'type', 'recursive', 'type', 'guarantee', 'surely', 'approach', 'number', 'sample', 'increase', 'recursive', 'type', 'observes', 'sample', 'yd', 'rewrite', 'value', 'correlated', 'sample', 'hence', 'type', 'architecture', 'composed', 'rule', 'rewriting', 'free', 'memory', 'space', 'architecture', 'form', 'naturally', 'kind', 'database', 'build', 'management', 'system', 'data', 'self', 'organizing', 'way', 'however', 'database', 'differs', 'ordinary', 'one', 'following', 'sense', 'record', 'sample', 'already', 'observed', 'computes', 'estimation', 'call', 'database', 'associative', 'database', 'first', 'subject', 'constructing', 'associative', 'database', 'establish', 'rule', 'rewri', 'ting', 'purpose', 'adap', 'measure', 'called', 'dissimilari', 'ty', 'dissimilari', 'ty', 'mean', 'mapping', 'real', 'whenever', 'however', 'necessarily', 'defined', 'single', 'formula', 'definable', 'example', 'collection', 'rule', 'written', 'form', 'dissimilarity', 'defines', 'structure', 'locally', 'hence', 'even', 'though', 'knowledge', 'imperfect', 'flect', 'heuristic', 'way', 'hence', 'contrarily', 'neural', 'network', 'possible', 'accelerate', 'speed', 'learning', 'establishing', 'well', 'especially', 'easily', 'find', 'simple', 'process', 'analogically', 'information', 'like', 'human', 'see', 'application', 'paper', 'recursive', 'type', 'show', 'strongly', 'effectiveness', 'denote', 'sequence', 'observed', 'sample', 'xl', 'yd', 'one', 'simplest', 'construction', 'associative', 'database', 'observing', 'sample', 'follows', 'algorithm', 'initial', 'stage', 'let', 'empty', 'set', 'every', 'let', 'equal', 'min', 'furthermore', 'add', 'produce', 'sa', 'another', 'version', 'improved', 'economize', 'memory', 'follows', 'algorithm', 'initial', 'stage', 'let', 'composed', 'arbitrary', 'element', 'every', 'let', 'ii', 'lex', 'equal', 'si', 'min', 'furthermore', 'ii', 'xi', 'yi', 'let', 'si', 'si', 'add', 'xi', 'yi', 'si', 'produce', 'si', 'si', 'si', 'xi', 'yi', 'either', 'construction', 'ii', 'approach', 'increase', 'however', 'computation', 'time', 'grows', 'proportionally', 'size', 'si', 'second', 'subject', 'constructing', 'associative', 'database', 'addressing', 'rule', 'employ', 'economize', 'computation', 'time', 'subsequent', 'chapter', 'construction', 'associative', 'database', 'purpose', 'proposed', 'manages', 'data', 'form', 'binary', 'tree', 'self', 'organization', 'associative', 'database', 'given', 'sample', 'sequence', 'xl', 'yl', 'algorithm', 'constructing', 'associative', 'database', 'follows', 'algorithm', 'step', 'initialization', 'let', 'root', 'root', 'xl', 'yd', 'variable', 'assigned', 'respective', 'node', 'memorize', 'data', 'furthermore', 'let', 'step', 'increase', 'put', 'reset', 'pointer', 'root', 'repeat', 'following', 'arrives', 'terminal', 'node', 'leaf', 'notation', 'nand', 'xt', 'let', 'mean', 'descendant', 'node', 'otherwise', 'let', 'step', 'display', 'yin', 'related', 'information', 'next', 'put', 'yin', 'back', 'step', 'otherwise', 'first', 'establish', 'new', 'descendant', 'node', 'secondly', 'let', 'yin', 'yin', 'yin', 'xt', 'finally', 'back', 'step', 'loop', 'step', 'stopped', 'time', 'also', 'continued', 'suppose', 'gate', 'element', 'namely', 'artificial', 'synapsis', 'play', 'role', 'branching', 'prepared', 'obtain', 'new', 'style', 'neural', 'network', 'gate', 'element', 'randomly', 'connected', 'algorithm', 'letter', 'recognition', 'recen', 'tly', 'vertical', 'slitting', 'method', 'recognizing', 'typographic', 'english', 'letter', 'elastic', 'matching', 'method', 'recognizing', 'hand', 'written', 'discrete', 'english', 'letter', 'global', 'training', 'fuzzy', 'logic', 'search', 'method', 'recognizing', 'chinese', 'character', 'written', 'square', 'style', 'etc', 'published', 'self', 'organization', 'associative', 'database', 'realizes', 'recognition', 'handwritten', 'continuous', 'english', 'letter', 'wn', 'nov', 'xk', 'la', 'dw', 'lo', 'fig', 'source', 'document', 'loo', 'fig', 'windowing', 'number', 'sample', 'nualber', 'sampl', 'fig', 'experiment', 'result', 'image', 'scanner', 'take', 'document', 'image', 'fig', 'letter', 'recognizer', 'us', 'parallelogram', 'window', 'least', 'cover', 'maximal', 'letter', 'fig', 'process', 'sequence', 'letter', 'shifting', 'window', 'recognizer', 'scan', 'word', 'slant', 'direction', 'place', 'window', 'left', 'vicinity', 'may', 'first', 'black', 'point', 'detected', 'window', 'catch', 'letter', 'part', 'succeeding', 'letter', 'recognition', 'head', 'letter', 'performed', 'end', 'position', 'namely', 'boundary', 'line', 'two', 'letter', 'becomes', 'known', 'hence', 'starting', 'scanning', 'boundary', 'repeating', 'operation', 'recognizer', 'accomplishes', 'recursively', 'task', 'thus', 'major', 'problem', 'come', 'identifying', 'head', 'letter', 'window', 'considering', 'define', 'following', 'regard', 'window', 'image', 'define', 'accordingly', 'denote', 'black', 'point', 'left', 'area', 'boundary', 'window', 'image', 'project', 'onto', 'window', 'image', 'measure', 'euclidean', 'distance', 'fj', 'black', 'point', 'closest', 'let', 'summation', 'black', 'point', 'divided', 'number', 'regard', 'couple', 'reading', 'position', 'boundary', 'define', 'accordingly', 'operator', 'teach', 'recognizer', 'interaction', 'relation', 'window', 'image', 'reading', 'boundary', 'algorithm', 'precisely', 'recalled', 'reading', 'incorrect', 'operator', 'teach', 'correct', 'reading', 'via', 'console', 'moreover', 'boundary', 'position', 'incorrect', 'teach', 'correct', 'position', 'via', 'mouse', 'fig', 'show', 'partially', 'document', 'image', 'used', 'experiment', 'fig', 'show', 'change', 'number', 'node', 'recognition', 'rate', 'defined', 'relative', 'frequency', 'correct', 'answer', 'past', 'trial', 'speciiications', 'window', 'height', 'dot', 'width', 'dot', 'slant', 'angular', 'deg', 'example', 'level', 'tree', 'distributed', 'time', 'recognition', 'rate', 'converged', 'experimentally', 'recognition', 'rate', 'converges', 'case', 'rare', 'case', 'however', 'attain', 'since', 'distinguishable', 'excessive', 'lluctuation', 'writing', 'consistency', 'relation', 'assured', 'like', 'number', 'node', 'increase', 'endlessly', 'fig', 'hence', 'clever', 'stop', 'learning', 'recognition', 'rate', 'attains', 'upper', 'limit', 'improve', 'recognition', 'rate', 'must', 'consider', 'spelling', 'word', 'one', 'future', 'subject', 'obstacle', 'avoiding', 'movement', 'various', 'system', 'camera', 'type', 'autonomous', 'mobile', 'robot', 'reported', 'flourishingly', 'system', 'made', 'author', 'fig', 'also', 'belongs', 'category', 'mathematical', 'methodology', 'solve', 'usually', 'problem', 'obstacle', 'avoiding', 'movement', 'cost', 'minimization', 'problem', 'cost', 'criterion', 'established', 'artificially', 'contrarily', 'self', 'organization', 'associative', 'database', 'reproduces', 'faithfully', 'cost', 'criterion', 'operator', 'therefore', 'motion', 'robot', 'learning', 'becomes', 'natural', 'length', 'width', 'height', 'robot', 'weight', 'kg', 'visual', 'angle', 'camera', 'deg', 'robot', 'following', 'three', 'factor', 'motion', 'turn', 'le', 'deg', 'advance', 'le', 'control', 'speed', 'le', 'km', 'experiment', 'done', 'passageway', 'wid', 'th', 'inside', 'building', 'author', 'laboratory', 'exist', 'fig', 'experimental', 'intention', 'arrange', 'box', 'smoking', 'stand', 'gas', 'cylinder', 'stool', 'handcart', 'etc', 'passage', 'way', 'random', 'let', 'robot', 'take', 'image', 'camera', 'recall', 'similar', 'image', 'trace', 'route', 'preliminarily', 'recorded', 'purpose', 'define', 'following', 'let', 'camera', 'face', 'deg', 'downward', 'take', 'image', 'process', 'low', 'pas', 'filter', 'scanning', 'vertically', 'filtered', 'image', 'bottom', 'top', 'search', 'first', 'point', 'luminance', 'change', 'excessively', 'su', 'bstitu', 'te', 'point', 'bottom', 'white', 'point', 'top', 'black', 'fig', 'obstacle', 'exists', 'front', 'robot', 'white', 'area', 'show', 'free', 'area', 'robot', 'move', 'around', 'regard', 'binary', 'dot', 'image', 'processed', 'thus', 'define', 'accordingly', 'every', 'let', 'number', 'black', 'point', 'exclusive', 'image', 'regard', 'image', 'obtained', 'drawing', 'route', 'image', 'define', 'accordingly', 'robot', 'superimposes', 'current', 'camera', 'image', 'route', 'recalled', 'inquires', 'operator', 'instruction', 'operator', 'judge', 'subjectively', 'whether', 'suggested', 'route', 'appropriate', 'negative', 'answer', 'draw', 'desirable', 'route', 'mouse', 'teach', 'new', 'robot', 'opera', 'tion', 'defines', 'implicitly', 'sample', 'sequence', 'reflecting', 'cost', 'criterion', 'operator', 'iibube', 'roan', 'stationary', 'uni', 'fig', 'configuration', 'autonomous', 'mobile', 'robot', 'system', 'north', 'rmbi', 'ie', 'unit', 'robot', 'roan', 'fig', 'experimental', 'environment', 'wall', 'camera', 'image', 'preprocessing', 'fa', 'preprocessing', 'course', 'suggest', 'ion', 'search', 'fig', 'processing', 'obstacle', 'avoiding', 'movement', 'fig', 'processing', 'position', 'identification', 'define', 'satisfaction', 'rate', 'relative', 'frequency', 'acceptable', 'suggestion', 'route', 'past', 'trial', 'typical', 'experiment', 'change', 'satisfaction', 'rate', 'showed', 'similar', 'tendency', 'fig', 'attains', 'around', 'time', 'notice', 'rest', 'mean', 'directly', 'percentage', 'collision', 'practice', 'prevent', 'collision', 'adopting', 'supplementary', 'measure', 'time', 'number', 'node', 'level', 'tree', 'distributed', 'proposed', 'method', 'reflects', 'delicately', 'various', 'character', 'operator', 'example', 'robot', 'trained', 'operator', 'move', 'slowly', 'enough', 'space', 'obstacle', 'one', 'trained', 'another', 'operator', 'brush', 'quickly', 'obstacle', 'fact', 'give', 'hint', 'method', 'printing', 'character', 'machine', 'position', 'identification', 'robot', 'identify', 'position', 'recalling', 'similar', 'landscape', 'position', 'data', 'camera', 'image', 'purpose', 'principle', 'suffices', 'regard', 'camera', 'image', 'position', 'data', 'respectively', 'however', 'memory', 'capacity', 'finite', 'actual', 'compu', 'ters', 'hence', 'cannot', 'compress', 'camera', 'image', 'slight', 'loss', 'information', 'compression', 'admittable', 'long', 'precision', 'position', 'identification', 'acceptable', 'area', 'thus', 'major', 'problem', 'come', 'find', 'suitable', 'compression', 'method', 'experimental', 'environment', 'fig', 'jut', 'passageway', 'interval', 'section', 'adjacent', 'jut', 'one', 'door', 'robot', 'identifies', 'roughly', 'surrounding', 'landscape', 'section', 'place', 'us', 'temporarily', 'triangular', 'surveying', 'technique', 'exact', 'measure', 'necessary', 'realize', 'former', 'task', 'define', 'following', 'turn', 'camera', 'take', 'panorama', 'image', 'deg', 'scanning', 'horizontally', 'center', 'line', 'substitute', 'point', 'luminance', 'excessively', 'change', 'black', 'point', 'white', 'fig', 'regard', 'binary', 'dot', 'line', 'image', 'processed', 'thus', 'define', 'accordingly', 'every', 'project', 'black', 'point', 'onto', 'measure', 'euclidean', 'distance', 'black', 'point', 'closest', 'let', 'summation', 'similarly', 'calculate', 'exchanging', 'role', 'denoting', 'number', 'respectively', 'nand', 'define', 'regard', 'positive', 'integer', 'labeled', 'section', 'cf', 'fig', 'define', 'accordingly', 'learning', 'mode', 'robot', 'check', 'exactly', 'position', 'counter', 'reset', 'periodically', 'operator', 'robot', 'run', 'arbitrarily', 'passageway', 'within', 'area', 'learns', 'relation', 'landscape', 'position', 'data', 'position', 'identification', 'beyond', 'area', 'achieved', 'crossing', 'plural', 'database', 'one', 'another', 'task', 'automatic', 'excepting', 'periodic', 'reset', 'counter', 'namely', 'kind', 'learning', 'without', 'teacher', 'define', 'identification', 'rate', 'relative', 'frequency', 'correct', 'recall', 'position', 'data', 'past', 'trial', 'typical', 'example', 'converged', 'around', 'time', 'time', 'number', 'level', 'level', 'oftree', 'distributed', 'since', 'identification', 'failure', 'rejected', 'considering', 'trajectory', 'pro', 'blem', 'arises', 'practical', 'use', 'order', 'improve', 'identification', 'rate', 'compression', 'ratio', 'camera', 'image', 'must', 'loosened', 'possibility', 'depends', 'improvement', 'hardware', 'future', 'fig', 'show', 'example', 'actual', 'motion', 'robot', 'based', 'database', 'obstacle', 'avoiding', 'movement', 'position', 'identification', 'example', 'corresponds', 'case', 'moving', 'fig', 'time', 'interval', 'per', 'frame', 'sec', 'ii', 'fig', 'actual', 'motion', 'robot', 'conclusion', 'method', 'self', 'organizing', 'associative', 'database', 'proposed', 'application', 'robot', 'eyesight', 'system', 'machine', 'decomposes', 'global', 'structure', 'unknown', 'set', 'local', 'structure', 'known', 'learns', 'universally', 'input', 'output', 'response', 'framework', 'problem', 'implies', 'wide', 'application', 'area', 'example', 'shown', 'paper', 'defect', 'algorithm', 'self', 'organization', 'tree', 'balanced', 'well', 'subclass', 'structure', 'subject', 'imposed', 'widen', 'class', 'probable', 'solution', 'abolish', 'addressing', 'rule', 'depending', 'directly', 'value', 'instead', 'establish', 'another', 'rule', 'depending', 'distribution', 'function', 'value', 'investigation', 'reference', 'hopfield', 'tank', 'computing', 'neural', 'circuit', 'model', 'science', 'pp', 'rumelhart', 'et', 'al', 'learning', 'representation', 'back', 'propagating', 'error', 'nature', 'pp', 'hull', 'hypothesis', 'generation', 'computational', 'model', 'visual', 'word', 'recognition', 'ieee', 'expert', 'fall', 'pp', 'kurtzberg', 'feature', 'analysis', 'symbol', 'recognition', 'elastic', 'matching', 'ibm', 're', 'develop', 'pp', 'wang', 'suen', 'large', 'tree', 'classifier', 'heuristic', 'search', 'global', 'training', 'ieee', 'trans', 'pattern', 'anal', 'mach', 'intell', 'pami', 'pp', 'brook', 'et', 'al', 'self', 'calibration', 'motion', 'stereo', 'vision', 'mobile', 'robot', 'th', 'int', 'symp', 'robotics', 'research', 'pp', 'goto', 'stentz', 'cmu', 'system', 'mobile', 'robot', 'navigation', 'ieee', 'int', 'conf', 'robotics', 'automation', 'pp', 'madarasz', 'et', 'al', 'design', 'autonomous', 'vehicle', 'disabled', 'ieee', 'jour', 'robotics', 'automation', 'ra', 'pp', 'triendl', 'kriegman', 'stereo', 'vision', 'navigation', 'within', 'building', 'ieee', 'int', 'conf', 'robotics', 'automation', 'pp', 'turk', 'et', 'al', 'video', 'road', 'following', 'autonomous', 'land', 'vehicle', 'ieee', 'int', 'conf', 'robotics', 'automation', 'pp']]\n"
          ],
          "name": "stdout"
        }
      ]
    },
    {
      "cell_type": "code",
      "metadata": {
        "id": "cFZio-uSyOqI",
        "colab_type": "code",
        "colab": {
          "base_uri": "https://localhost:8080/",
          "height": 34
        },
        "outputId": "0fca2841-9a68-46c1-bb60-12167763ae4c"
      },
      "source": [
        "type(data)"
      ],
      "execution_count": 61,
      "outputs": [
        {
          "output_type": "execute_result",
          "data": {
            "text/plain": [
              "list"
            ]
          },
          "metadata": {
            "tags": []
          },
          "execution_count": 61
        }
      ]
    },
    {
      "cell_type": "code",
      "metadata": {
        "id": "DHjJPUl5yOxd",
        "colab_type": "code",
        "colab": {
          "base_uri": "https://localhost:8080/",
          "height": 34
        },
        "outputId": "4aeec280-c751-40da-8c82-f199c064bb14"
      },
      "source": [
        "type(data_words)"
      ],
      "execution_count": 62,
      "outputs": [
        {
          "output_type": "execute_result",
          "data": {
            "text/plain": [
              "list"
            ]
          },
          "metadata": {
            "tags": []
          },
          "execution_count": 62
        }
      ]
    },
    {
      "cell_type": "markdown",
      "metadata": {
        "id": "NRvpv60czJ1n",
        "colab_type": "text"
      },
      "source": [
        "data_words is like our data_ready but, with right data type."
      ]
    },
    {
      "cell_type": "code",
      "metadata": {
        "id": "d0tGK81HaHbB",
        "colab_type": "code",
        "colab": {}
      },
      "source": [
        "#bag of words\n",
        "from gensim import corpora, models\n",
        "id2word = corpora.Dictionary(data_words)"
      ],
      "execution_count": 0,
      "outputs": []
    },
    {
      "cell_type": "code",
      "metadata": {
        "id": "V_LYOQ4TaHbC",
        "colab_type": "code",
        "colab": {
          "base_uri": "https://localhost:8080/",
          "height": 34
        },
        "outputId": "ff7bbafc-7cb3-4af0-feef-2bb6dde15a4d"
      },
      "source": [
        "print(len(id2word))"
      ],
      "execution_count": 64,
      "outputs": [
        {
          "output_type": "stream",
          "text": [
            "164281\n"
          ],
          "name": "stdout"
        }
      ]
    },
    {
      "cell_type": "code",
      "metadata": {
        "id": "Cw3Xc0hsaHbE",
        "colab_type": "code",
        "colab": {
          "base_uri": "https://localhost:8080/",
          "height": 204
        },
        "outputId": "3581c888-3672-477c-9b8c-cabb449038e7"
      },
      "source": [
        "count = 0\n",
        "for k, v in id2word.iteritems():\n",
        "    print(k, v, id2word.dfs[k])\n",
        "    count += 1\n",
        "    if count > 10:\n",
        "        break"
      ],
      "execution_count": 65,
      "outputs": [
        {
          "output_type": "stream",
          "text": [
            "0 abolish 8\n",
            "1 abstract 7179\n",
            "2 accelerate 244\n",
            "3 acceptable 274\n",
            "4 accomplishes 61\n",
            "5 accordingly 622\n",
            "6 achieve 2991\n",
            "7 achieved 2720\n",
            "8 actual 1747\n",
            "9 adap 8\n",
            "10 add 1930\n"
          ],
          "name": "stdout"
        }
      ]
    },
    {
      "cell_type": "markdown",
      "metadata": {
        "id": "_v0XrD14io4O",
        "colab_type": "text"
      },
      "source": [
        "**Filter out tokens that appear in**\n",
        "\n",
        "- less than 15 documents (absolute number) or\n",
        "- more than 0.5 documents (fraction of total corpus size, not absolute number).\n",
        "- after the above two steps, keep only the first 4000 most frequent tokens."
      ]
    },
    {
      "cell_type": "code",
      "metadata": {
        "id": "ddTGEsWlaHbF",
        "colab_type": "code",
        "colab": {}
      },
      "source": [
        "id2word.filter_extremes(no_below=15, no_above=0.5, keep_n=4000)"
      ],
      "execution_count": 0,
      "outputs": []
    },
    {
      "cell_type": "code",
      "metadata": {
        "id": "ih08ucE5aHbG",
        "colab_type": "code",
        "colab": {
          "base_uri": "https://localhost:8080/",
          "height": 34
        },
        "outputId": "f33cfa66-5156-4c8a-c134-3cc0030382b1"
      },
      "source": [
        "print(len(id2word))"
      ],
      "execution_count": 67,
      "outputs": [
        {
          "output_type": "stream",
          "text": [
            "4000\n"
          ],
          "name": "stdout"
        }
      ]
    },
    {
      "cell_type": "code",
      "metadata": {
        "id": "XpSP5sEtaHbH",
        "colab_type": "code",
        "colab": {
          "base_uri": "https://localhost:8080/",
          "height": 34
        },
        "outputId": "97a96ba7-fcb5-4859-fe37-2c6cdb3d45de"
      },
      "source": [
        "print (id2word[3])"
      ],
      "execution_count": 68,
      "outputs": [
        {
          "output_type": "stream",
          "text": [
            "achieve\n"
          ],
          "name": "stdout"
        }
      ]
    },
    {
      "cell_type": "code",
      "metadata": {
        "id": "_Cl-sK26i9zx",
        "colab_type": "code",
        "colab": {
          "base_uri": "https://localhost:8080/",
          "height": 34
        },
        "outputId": "4cbf5d52-56a8-4a47-ad84-bf52551debe6"
      },
      "source": [
        "print (id2word[17])"
      ],
      "execution_count": 69,
      "outputs": [
        {
          "output_type": "stream",
          "text": [
            "appears\n"
          ],
          "name": "stdout"
        }
      ]
    },
    {
      "cell_type": "markdown",
      "metadata": {
        "id": "liRcvx_ri4mt",
        "colab_type": "text"
      },
      "source": [
        "id2word is a dictionary that contains words. All of our data word."
      ]
    },
    {
      "cell_type": "markdown",
      "metadata": {
        "id": "0TuIeNqOyvM1",
        "colab_type": "text"
      },
      "source": [
        "### 5.2)- Create Corpus: Term Document Freq"
      ]
    },
    {
      "cell_type": "code",
      "metadata": {
        "id": "3GI0ZIUgaHbK",
        "colab_type": "code",
        "colab": {
          "base_uri": "https://localhost:8080/",
          "height": 1000
        },
        "outputId": "f861e6d1-1707-405e-a0c7-3dcb88116310"
      },
      "source": [
        "corpus = [id2word.doc2bow(text) for text in data_words]\n",
        "corpus[50]"
      ],
      "execution_count": 71,
      "outputs": [
        {
          "output_type": "execute_result",
          "data": {
            "text/plain": [
              "[(4, 3),\n",
              " (5, 1),\n",
              " (11, 1),\n",
              " (19, 1),\n",
              " (20, 1),\n",
              " (21, 1),\n",
              " (24, 1),\n",
              " (25, 2),\n",
              " (32, 1),\n",
              " (43, 1),\n",
              " (56, 2),\n",
              " (57, 5),\n",
              " (60, 2),\n",
              " (72, 1),\n",
              " (74, 5),\n",
              " (76, 2),\n",
              " (89, 4),\n",
              " (90, 28),\n",
              " (92, 2),\n",
              " (95, 2),\n",
              " (96, 3),\n",
              " (100, 1),\n",
              " (104, 1),\n",
              " (105, 1),\n",
              " (111, 2),\n",
              " (115, 3),\n",
              " (119, 1),\n",
              " (120, 1),\n",
              " (122, 1),\n",
              " (123, 1),\n",
              " (130, 1),\n",
              " (138, 3),\n",
              " (142, 1),\n",
              " (145, 1),\n",
              " (146, 1),\n",
              " (147, 1),\n",
              " (148, 1),\n",
              " (150, 3),\n",
              " (154, 9),\n",
              " (159, 5),\n",
              " (160, 5),\n",
              " (173, 2),\n",
              " (176, 1),\n",
              " (177, 2),\n",
              " (191, 1),\n",
              " (197, 2),\n",
              " (204, 2),\n",
              " (209, 4),\n",
              " (214, 1),\n",
              " (216, 1),\n",
              " (219, 2),\n",
              " (224, 5),\n",
              " (227, 3),\n",
              " (239, 1),\n",
              " (241, 2),\n",
              " (249, 2),\n",
              " (250, 1),\n",
              " (255, 11),\n",
              " (258, 3),\n",
              " (283, 1),\n",
              " (284, 2),\n",
              " (294, 1),\n",
              " (299, 1),\n",
              " (305, 1),\n",
              " (306, 1),\n",
              " (311, 1),\n",
              " (324, 1),\n",
              " (333, 1),\n",
              " (337, 1),\n",
              " (355, 1),\n",
              " (362, 1),\n",
              " (368, 2),\n",
              " (371, 2),\n",
              " (372, 2),\n",
              " (384, 2),\n",
              " (387, 1),\n",
              " (388, 2),\n",
              " (415, 1),\n",
              " (425, 1),\n",
              " (432, 3),\n",
              " (438, 1),\n",
              " (447, 4),\n",
              " (448, 2),\n",
              " (453, 1),\n",
              " (457, 1),\n",
              " (458, 5),\n",
              " (462, 2),\n",
              " (476, 2),\n",
              " (479, 2),\n",
              " (480, 1),\n",
              " (482, 3),\n",
              " (483, 7),\n",
              " (484, 8),\n",
              " (485, 1),\n",
              " (489, 1),\n",
              " (497, 2),\n",
              " (516, 12),\n",
              " (517, 1),\n",
              " (521, 1),\n",
              " (524, 1),\n",
              " (525, 1),\n",
              " (528, 1),\n",
              " (534, 5),\n",
              " (536, 3),\n",
              " (537, 1),\n",
              " (544, 1),\n",
              " (545, 2),\n",
              " (565, 2),\n",
              " (568, 1),\n",
              " (570, 2),\n",
              " (571, 2),\n",
              " (572, 2),\n",
              " (580, 1),\n",
              " (583, 1),\n",
              " (585, 2),\n",
              " (592, 1),\n",
              " (593, 1),\n",
              " (600, 1),\n",
              " (611, 1),\n",
              " (612, 1),\n",
              " (627, 3),\n",
              " (628, 2),\n",
              " (630, 4),\n",
              " (643, 1),\n",
              " (654, 1),\n",
              " (664, 1),\n",
              " (667, 1),\n",
              " (671, 1),\n",
              " (677, 1),\n",
              " (678, 1),\n",
              " (684, 1),\n",
              " (692, 10),\n",
              " (693, 10),\n",
              " (702, 1),\n",
              " (707, 2),\n",
              " (710, 1),\n",
              " (722, 1),\n",
              " (723, 3),\n",
              " (729, 1),\n",
              " (735, 1),\n",
              " (738, 1),\n",
              " (758, 1),\n",
              " (775, 1),\n",
              " (779, 1),\n",
              " (780, 1),\n",
              " (805, 1),\n",
              " (813, 1),\n",
              " (818, 1),\n",
              " (825, 1),\n",
              " (833, 1),\n",
              " (838, 1),\n",
              " (842, 1),\n",
              " (852, 1),\n",
              " (860, 1),\n",
              " (867, 1),\n",
              " (876, 1),\n",
              " (882, 1),\n",
              " (888, 1),\n",
              " (889, 1),\n",
              " (897, 1),\n",
              " (899, 3),\n",
              " (907, 1),\n",
              " (909, 2),\n",
              " (913, 4),\n",
              " (922, 1),\n",
              " (926, 1),\n",
              " (930, 1),\n",
              " (938, 2),\n",
              " (940, 1),\n",
              " (955, 1),\n",
              " (964, 1),\n",
              " (980, 5),\n",
              " (1009, 29),\n",
              " (1012, 3),\n",
              " (1028, 1),\n",
              " (1030, 2),\n",
              " (1050, 1),\n",
              " (1053, 1),\n",
              " (1057, 1),\n",
              " (1058, 5),\n",
              " (1065, 1),\n",
              " (1072, 2),\n",
              " (1073, 2),\n",
              " (1084, 1),\n",
              " (1085, 5),\n",
              " (1088, 1),\n",
              " (1093, 1),\n",
              " (1094, 2),\n",
              " (1100, 9),\n",
              " (1105, 1),\n",
              " (1112, 1),\n",
              " (1115, 1),\n",
              " (1126, 2),\n",
              " (1131, 1),\n",
              " (1134, 1),\n",
              " (1136, 2),\n",
              " (1151, 1),\n",
              " (1152, 1),\n",
              " (1153, 4),\n",
              " (1155, 1),\n",
              " (1161, 2),\n",
              " (1174, 1),\n",
              " (1179, 1),\n",
              " (1213, 2),\n",
              " (1215, 1),\n",
              " (1216, 7),\n",
              " (1219, 1),\n",
              " (1222, 1),\n",
              " (1229, 2),\n",
              " (1231, 1),\n",
              " (1233, 1),\n",
              " (1236, 3),\n",
              " (1238, 1),\n",
              " (1243, 1),\n",
              " (1258, 2),\n",
              " (1265, 4),\n",
              " (1280, 1),\n",
              " (1282, 13),\n",
              " (1283, 2),\n",
              " (1286, 1),\n",
              " (1295, 1),\n",
              " (1312, 1),\n",
              " (1326, 1),\n",
              " (1344, 11),\n",
              " (1356, 1),\n",
              " (1399, 2),\n",
              " (1408, 3),\n",
              " (1424, 2),\n",
              " (1461, 1),\n",
              " (1491, 1),\n",
              " (1508, 1),\n",
              " (1527, 1),\n",
              " (1537, 1),\n",
              " (1540, 4),\n",
              " (1541, 2),\n",
              " (1566, 1),\n",
              " (1592, 1),\n",
              " (1597, 1),\n",
              " (1600, 1),\n",
              " (1609, 1),\n",
              " (1615, 1),\n",
              " (1620, 1),\n",
              " (1629, 1),\n",
              " (1636, 1),\n",
              " (1658, 1),\n",
              " (1662, 1),\n",
              " (1676, 1),\n",
              " (1690, 1),\n",
              " (1731, 2),\n",
              " (1733, 1),\n",
              " (1736, 1),\n",
              " (1739, 1),\n",
              " (1759, 2),\n",
              " (1780, 1),\n",
              " (1797, 1),\n",
              " (1809, 1),\n",
              " (1812, 2),\n",
              " (1824, 1),\n",
              " (1830, 1),\n",
              " (1851, 1),\n",
              " (1856, 1),\n",
              " (1858, 1),\n",
              " (1866, 1),\n",
              " (1870, 1),\n",
              " (1874, 1),\n",
              " (1886, 1),\n",
              " (1889, 1),\n",
              " (1893, 1),\n",
              " (1895, 2),\n",
              " (1908, 1),\n",
              " (1923, 3),\n",
              " (1938, 1),\n",
              " (1939, 1),\n",
              " (1940, 3),\n",
              " (1945, 11),\n",
              " (1961, 5),\n",
              " (1971, 1),\n",
              " (1988, 3),\n",
              " (2062, 2),\n",
              " (2075, 1),\n",
              " (2093, 1),\n",
              " (2111, 1),\n",
              " (2123, 13),\n",
              " (2126, 2),\n",
              " (2129, 4),\n",
              " (2147, 4),\n",
              " (2152, 2),\n",
              " (2181, 3),\n",
              " (2189, 1),\n",
              " (2213, 1),\n",
              " (2218, 8),\n",
              " (2227, 1),\n",
              " (2234, 2),\n",
              " (2237, 2),\n",
              " (2243, 1),\n",
              " (2247, 1),\n",
              " (2250, 2),\n",
              " (2264, 8),\n",
              " (2265, 1),\n",
              " (2267, 1),\n",
              " (2277, 2),\n",
              " (2296, 27),\n",
              " (2320, 3),\n",
              " (2330, 2),\n",
              " (2353, 2),\n",
              " (2362, 1),\n",
              " (2370, 2),\n",
              " (2385, 1),\n",
              " (2437, 1),\n",
              " (2442, 15),\n",
              " (2456, 1),\n",
              " (2458, 1),\n",
              " (2493, 1),\n",
              " (2513, 1),\n",
              " (2535, 1),\n",
              " (2536, 1),\n",
              " (2546, 1),\n",
              " (2580, 3),\n",
              " (2589, 2),\n",
              " (2651, 3),\n",
              " (2669, 2),\n",
              " (2674, 1),\n",
              " (2712, 1),\n",
              " (2720, 1),\n",
              " (2758, 1),\n",
              " (2774, 6),\n",
              " (2788, 6),\n",
              " (2796, 1),\n",
              " (2800, 2),\n",
              " (2887, 1),\n",
              " (2901, 8),\n",
              " (2916, 1),\n",
              " (2918, 1),\n",
              " (2961, 1),\n",
              " (2964, 11),\n",
              " (3019, 1),\n",
              " (3053, 1),\n",
              " (3059, 4),\n",
              " (3062, 21),\n",
              " (3082, 1),\n",
              " (3098, 1),\n",
              " (3122, 1),\n",
              " (3148, 4),\n",
              " (3166, 1),\n",
              " (3174, 1),\n",
              " (3175, 3),\n",
              " (3178, 1),\n",
              " (3220, 1),\n",
              " (3238, 2),\n",
              " (3282, 1),\n",
              " (3317, 1),\n",
              " (3318, 1),\n",
              " (3319, 1),\n",
              " (3320, 1),\n",
              " (3321, 2),\n",
              " (3322, 2),\n",
              " (3323, 1),\n",
              " (3324, 3),\n",
              " (3325, 1),\n",
              " (3326, 1),\n",
              " (3327, 10)]"
            ]
          },
          "metadata": {
            "tags": []
          },
          "execution_count": 71
        }
      ]
    },
    {
      "cell_type": "code",
      "metadata": {
        "id": "Yvh4fMNHjIOe",
        "colab_type": "code",
        "colab": {
          "base_uri": "https://localhost:8080/",
          "height": 34
        },
        "outputId": "7aa3625c-cc81-4051-c303-4de3af0c874d"
      },
      "source": [
        "print(len(corpus))"
      ],
      "execution_count": 72,
      "outputs": [
        {
          "output_type": "stream",
          "text": [
            "7241\n"
          ],
          "name": "stdout"
        }
      ]
    },
    {
      "cell_type": "code",
      "metadata": {
        "id": "OqCPA8cPjIR2",
        "colab_type": "code",
        "colab": {
          "base_uri": "https://localhost:8080/",
          "height": 1000
        },
        "outputId": "13e7f16b-fd91-4758-8425-8a6efe9162a4"
      },
      "source": [
        "bow_doc_50 = corpus[50]\n",
        "\n",
        "for i in range(len(bow_doc_50)):\n",
        "    print(\"Word {} (\\\"{}\\\") appears {} time.\".format(bow_doc_50[i][0], \n",
        "                                                     id2word[bow_doc_50[i][0]], \n",
        "                                                     bow_doc_50[i][1]))"
      ],
      "execution_count": 73,
      "outputs": [
        {
          "output_type": "stream",
          "text": [
            "Word 4 (\"achieved\") appears 3 time.\n",
            "Word 5 (\"actual\") appears 1 time.\n",
            "Word 11 (\"always\") appears 1 time.\n",
            "Word 19 (\"appropriate\") appears 1 time.\n",
            "Word 20 (\"arbitrarily\") appears 1 time.\n",
            "Word 21 (\"arbitrary\") appears 1 time.\n",
            "Word 24 (\"arises\") appears 1 time.\n",
            "Word 25 (\"around\") appears 2 time.\n",
            "Word 32 (\"assumed\") appears 1 time.\n",
            "Word 43 (\"becomes\") appears 1 time.\n",
            "Word 56 (\"candidate\") appears 2 time.\n",
            "Word 57 (\"cannot\") appears 5 time.\n",
            "Word 60 (\"center\") appears 2 time.\n",
            "Word 72 (\"combination\") appears 1 time.\n",
            "Word 74 (\"compact\") appears 5 time.\n",
            "Word 76 (\"composed\") appears 2 time.\n",
            "Word 89 (\"continuous\") appears 4 time.\n",
            "Word 90 (\"control\") appears 28 time.\n",
            "Word 92 (\"converges\") appears 2 time.\n",
            "Word 95 (\"corresponds\") appears 2 time.\n",
            "Word 96 (\"cost\") appears 3 time.\n",
            "Word 100 (\"cover\") appears 1 time.\n",
            "Word 104 (\"decrease\") appears 1 time.\n",
            "Word 105 (\"defines\") appears 1 time.\n",
            "Word 111 (\"design\") appears 2 time.\n",
            "Word 115 (\"determined\") appears 3 time.\n",
            "Word 119 (\"difficult\") appears 1 time.\n",
            "Word 120 (\"dimension\") appears 1 time.\n",
            "Word 122 (\"discrete\") appears 1 time.\n",
            "Word 123 (\"discus\") appears 1 time.\n",
            "Word 130 (\"done\") appears 1 time.\n",
            "Word 138 (\"element\") appears 3 time.\n",
            "Word 142 (\"end\") appears 1 time.\n",
            "Word 145 (\"environment\") appears 1 time.\n",
            "Word 146 (\"equal\") appears 1 time.\n",
            "Word 147 (\"equivalent\") appears 1 time.\n",
            "Word 148 (\"especially\") appears 1 time.\n",
            "Word 150 (\"establish\") appears 3 time.\n",
            "Word 154 (\"estimation\") appears 9 time.\n",
            "Word 159 (\"exist\") appears 5 time.\n",
            "Word 160 (\"exists\") appears 5 time.\n",
            "Word 173 (\"filter\") appears 2 time.\n",
            "Word 176 (\"fj\") appears 1 time.\n",
            "Word 177 (\"fl\") appears 2 time.\n",
            "Word 191 (\"guarantee\") appears 1 time.\n",
            "Word 197 (\"hence\") appears 2 time.\n",
            "Word 204 (\"identification\") appears 2 time.\n",
            "Word 209 (\"ii\") appears 4 time.\n",
            "Word 214 (\"implies\") appears 1 time.\n",
            "Word 216 (\"improve\") appears 1 time.\n",
            "Word 219 (\"includes\") appears 2 time.\n",
            "Word 224 (\"initial\") appears 5 time.\n",
            "Word 227 (\"institute\") appears 3 time.\n",
            "Word 239 (\"la\") appears 1 time.\n",
            "Word 241 (\"laboratory\") appears 2 time.\n",
            "Word 249 (\"limit\") appears 2 time.\n",
            "Word 250 (\"lo\") appears 1 time.\n",
            "Word 255 (\"loop\") appears 11 time.\n",
            "Word 258 (\"made\") appears 3 time.\n",
            "Word 283 (\"necessary\") appears 1 time.\n",
            "Word 284 (\"negative\") appears 2 time.\n",
            "Word 294 (\"observation\") appears 1 time.\n",
            "Word 299 (\"operation\") appears 1 time.\n",
            "Word 305 (\"otherwise\") appears 1 time.\n",
            "Word 306 (\"pair\") appears 1 time.\n",
            "Word 311 (\"past\") appears 1 time.\n",
            "Word 324 (\"precisely\") appears 1 time.\n",
            "Word 333 (\"product\") appears 1 time.\n",
            "Word 337 (\"published\") appears 1 time.\n",
            "Word 355 (\"recursively\") appears 1 time.\n",
            "Word 362 (\"relation\") appears 1 time.\n",
            "Word 368 (\"report\") appears 2 time.\n",
            "Word 371 (\"respective\") appears 2 time.\n",
            "Word 372 (\"response\") appears 2 time.\n",
            "Word 384 (\"rumelhart\") appears 2 time.\n",
            "Word 387 (\"sampled\") appears 1 time.\n",
            "Word 388 (\"say\") appears 2 time.\n",
            "Word 415 (\"stop\") appears 1 time.\n",
            "Word 425 (\"sufficient\") appears 1 time.\n",
            "Word 432 (\"suppose\") appears 3 time.\n",
            "Word 438 (\"teacher\") appears 1 time.\n",
            "Word 447 (\"trained\") appears 4 time.\n",
            "Word 448 (\"trajectory\") appears 2 time.\n",
            "Word 453 (\"typical\") appears 1 time.\n",
            "Word 457 (\"unit\") appears 1 time.\n",
            "Word 458 (\"unknown\") appears 5 time.\n",
            "Word 462 (\"various\") appears 2 time.\n",
            "Word 476 (\"word\") appears 2 time.\n",
            "Word 479 (\"written\") appears 2 time.\n",
            "Word 480 (\"xi\") appears 1 time.\n",
            "Word 482 (\"xl\") appears 3 time.\n",
            "Word 483 (\"xt\") appears 7 time.\n",
            "Word 484 (\"yi\") appears 8 time.\n",
            "Word 485 (\"yl\") appears 1 time.\n",
            "Word 489 (\"addition\") appears 1 time.\n",
            "Word 497 (\"applicable\") appears 2 time.\n",
            "Word 516 (\"closed\") appears 12 time.\n",
            "Word 517 (\"complexity\") appears 1 time.\n",
            "Word 521 (\"considered\") appears 1 time.\n",
            "Word 524 (\"constraint\") appears 1 time.\n",
            "Word 525 (\"contain\") appears 1 time.\n",
            "Word 528 (\"contract\") appears 1 time.\n",
            "Word 534 (\"denotes\") appears 5 time.\n",
            "Word 536 (\"department\") appears 3 time.\n",
            "Word 537 (\"depend\") appears 1 time.\n",
            "Word 544 (\"di\") appears 1 time.\n",
            "Word 545 (\"discussed\") appears 2 time.\n",
            "Word 565 (\"extended\") appears 2 time.\n",
            "Word 568 (\"fairly\") appears 1 time.\n",
            "Word 570 (\"feedback\") appears 2 time.\n",
            "Word 571 (\"field\") appears 2 time.\n",
            "Word 572 (\"focus\") appears 2 time.\n",
            "Word 580 (\"idea\") appears 1 time.\n",
            "Word 583 (\"imply\") appears 1 time.\n",
            "Word 585 (\"inc\") appears 2 time.\n",
            "Word 592 (\"introduce\") appears 1 time.\n",
            "Word 593 (\"introduced\") appears 1 time.\n",
            "Word 600 (\"li\") appears 1 time.\n",
            "Word 611 (\"minimum\") appears 1 time.\n",
            "Word 612 (\"mj\") appears 1 time.\n",
            "Word 627 (\"occur\") appears 3 time.\n",
            "Word 628 (\"occurs\") appears 2 time.\n",
            "Word 630 (\"open\") appears 4 time.\n",
            "Word 643 (\"prediction\") appears 1 time.\n",
            "Word 654 (\"quantity\") appears 1 time.\n",
            "Word 664 (\"region\") appears 1 time.\n",
            "Word 667 (\"remain\") appears 1 time.\n",
            "Word 671 (\"required\") appears 1 time.\n",
            "Word 677 (\"satisfies\") appears 1 time.\n",
            "Word 678 (\"scalar\") appears 1 time.\n",
            "Word 684 (\"signal\") appears 1 time.\n",
            "Word 692 (\"stability\") appears 10 time.\n",
            "Word 693 (\"stable\") appears 10 time.\n",
            "Word 702 (\"supported\") appears 1 time.\n",
            "Word 707 (\"total\") appears 2 time.\n",
            "Word 710 (\"unstable\") appears 1 time.\n",
            "Word 722 (\"address\") appears 1 time.\n",
            "Word 723 (\"ai\") appears 3 time.\n",
            "Word 729 (\"appear\") appears 1 time.\n",
            "Word 735 (\"ca\") appears 1 time.\n",
            "Word 738 (\"cognitive\") appears 1 time.\n",
            "Word 758 (\"determine\") appears 1 time.\n",
            "Word 775 (\"foundation\") appears 1 time.\n",
            "Word 779 (\"grant\") appears 1 time.\n",
            "Word 780 (\"higher\") appears 1 time.\n",
            "Word 805 (\"mechanism\") appears 1 time.\n",
            "Word 813 (\"national\") appears 1 time.\n",
            "Word 818 (\"ny\") appears 1 time.\n",
            "Word 825 (\"phase\") appears 1 time.\n",
            "Word 833 (\"prior\") appears 1 time.\n",
            "Word 838 (\"requirement\") appears 1 time.\n",
            "Word 842 (\"rn\") appears 1 time.\n",
            "Word 852 (\"significantly\") appears 1 time.\n",
            "Word 860 (\"springer\") appears 1 time.\n",
            "Word 867 (\"tested\") appears 1 time.\n",
            "Word 876 (\"verlag\") appears 1 time.\n",
            "Word 882 (\"york\") appears 1 time.\n",
            "Word 888 (\"addressed\") appears 1 time.\n",
            "Word 889 (\"adequate\") appears 1 time.\n",
            "Word 897 (\"approximates\") appears 1 time.\n",
            "Word 899 (\"asymptotically\") appears 3 time.\n",
            "Word 907 (\"calculated\") appears 1 time.\n",
            "Word 909 (\"cambridge\") appears 2 time.\n",
            "Word 913 (\"choose\") appears 4 time.\n",
            "Word 922 (\"construct\") appears 1 time.\n",
            "Word 926 (\"decision\") appears 1 time.\n",
            "Word 930 (\"desired\") appears 1 time.\n",
            "Word 938 (\"estimated\") appears 2 time.\n",
            "Word 940 (\"except\") appears 1 time.\n",
            "Word 955 (\"fr\") appears 1 time.\n",
            "Word 964 (\"gradient\") appears 1 time.\n",
            "Word 980 (\"ir\") appears 5 time.\n",
            "Word 1009 (\"nonlinear\") appears 29 time.\n",
            "Word 1012 (\"objective\") appears 3 time.\n",
            "Word 1028 (\"quite\") appears 1 time.\n",
            "Word 1030 (\"range\") appears 2 time.\n",
            "Word 1050 (\"seen\") appears 1 time.\n",
            "Word 1053 (\"selection\") appears 1 time.\n",
            "Word 1057 (\"simulated\") appears 1 time.\n",
            "Word 1058 (\"simulation\") appears 5 time.\n",
            "Word 1065 (\"summarized\") appears 1 time.\n",
            "Word 1072 (\"technical\") appears 2 time.\n",
            "Word 1073 (\"technology\") appears 2 time.\n",
            "Word 1084 (\"uncertain\") appears 1 time.\n",
            "Word 1085 (\"uncertainty\") appears 5 time.\n",
            "Word 1088 (\"valid\") appears 1 time.\n",
            "Word 1093 (\"variation\") appears 1 time.\n",
            "Word 1094 (\"vi\") appears 2 time.\n",
            "Word 1100 (\"wi\") appears 9 time.\n",
            "Word 1105 (\"yn\") appears 1 time.\n",
            "Word 1112 (\"almost\") appears 1 time.\n",
            "Word 1115 (\"analytical\") appears 1 time.\n",
            "Word 1126 (\"certain\") appears 2 time.\n",
            "Word 1131 (\"clearly\") appears 1 time.\n",
            "Word 1134 (\"common\") appears 1 time.\n",
            "Word 1136 (\"completely\") appears 2 time.\n",
            "Word 1151 (\"delay\") appears 1 time.\n",
            "Word 1152 (\"denoted\") appears 1 time.\n",
            "Word 1153 (\"derivative\") appears 4 time.\n",
            "Word 1155 (\"developed\") appears 1 time.\n",
            "Word 1161 (\"email\") appears 2 time.\n",
            "Word 1174 (\"forward\") appears 1 time.\n",
            "Word 1179 (\"hall\") appears 1 time.\n",
            "Word 1213 (\"minimize\") appears 2 time.\n",
            "Word 1215 (\"needed\") appears 1 time.\n",
            "Word 1216 (\"neighborhood\") appears 7 time.\n",
            "Word 1219 (\"obvious\") appears 1 time.\n",
            "Word 1222 (\"overall\") appears 1 time.\n",
            "Word 1229 (\"predictor\") appears 2 time.\n",
            "Word 1231 (\"programming\") appears 1 time.\n",
            "Word 1233 (\"propose\") appears 1 time.\n",
            "Word 1236 (\"quadratic\") appears 3 time.\n",
            "Word 1238 (\"refer\") appears 1 time.\n",
            "Word 1243 (\"scheme\") appears 1 time.\n",
            "Word 1258 (\"testing\") appears 2 time.\n",
            "Word 1265 (\"transaction\") appears 4 time.\n",
            "Word 1280 (\"yield\") appears 1 time.\n",
            "Word 1282 (\"adaptive\") appears 13 time.\n",
            "Word 1283 (\"adjust\") appears 2 time.\n",
            "Word 1286 (\"along\") appears 1 time.\n",
            "Word 1295 (\"away\") appears 1 time.\n",
            "Word 1312 (\"classified\") appears 1 time.\n",
            "Word 1326 (\"constructed\") appears 1 time.\n",
            "Word 1344 (\"dynamic\") appears 11 time.\n",
            "Word 1356 (\"fit\") appears 1 time.\n",
            "Word 1399 (\"jordan\") appears 2 time.\n",
            "Word 1408 (\"mit\") appears 3 time.\n",
            "Word 1424 (\"penalty\") appears 2 time.\n",
            "Word 1461 (\"six\") appears 1 time.\n",
            "Word 1491 (\"unconstrained\") appears 1 time.\n",
            "Word 1508 (\"adaptation\") appears 1 time.\n",
            "Word 1527 (\"controlled\") appears 1 time.\n",
            "Word 1537 (\"distinct\") appears 1 time.\n",
            "Word 1540 (\"engineering\") appears 4 time.\n",
            "Word 1541 (\"ensure\") appears 2 time.\n",
            "Word 1566 (\"maintain\") appears 1 time.\n",
            "Word 1592 (\"yj\") appears 1 time.\n",
            "Word 1597 (\"adjusted\") appears 1 time.\n",
            "Word 1600 (\"au\") appears 1 time.\n",
            "Word 1609 (\"conventional\") appears 1 time.\n",
            "Word 1615 (\"derived\") appears 1 time.\n",
            "Word 1620 (\"differential\") appears 1 time.\n",
            "Word 1629 (\"electrical\") appears 1 time.\n",
            "Word 1636 (\"formed\") appears 1 time.\n",
            "Word 1658 (\"leading\") appears 1 time.\n",
            "Word 1662 (\"linearly\") appears 1 time.\n",
            "Word 1676 (\"november\") appears 1 time.\n",
            "Word 1690 (\"power\") appears 1 time.\n",
            "Word 1731 (\"vt\") appears 2 time.\n",
            "Word 1733 (\"whereas\") appears 1 time.\n",
            "Word 1736 (\"year\") appears 1 time.\n",
            "Word 1739 (\"accurately\") appears 1 time.\n",
            "Word 1759 (\"containing\") appears 2 time.\n",
            "Word 1780 (\"external\") appears 1 time.\n",
            "Word 1797 (\"minimizes\") appears 1 time.\n",
            "Word 1809 (\"partial\") appears 1 time.\n",
            "Word 1812 (\"plotted\") appears 2 time.\n",
            "Word 1824 (\"represents\") appears 1 time.\n",
            "Word 1830 (\"shall\") appears 1 time.\n",
            "Word 1851 (\"apply\") appears 1 time.\n",
            "Word 1856 (\"bt\") appears 1 time.\n",
            "Word 1858 (\"completed\") appears 1 time.\n",
            "Word 1866 (\"direct\") appears 1 time.\n",
            "Word 1870 (\"exhibit\") appears 1 time.\n",
            "Word 1874 (\"index\") appears 1 time.\n",
            "Word 1886 (\"operating\") appears 1 time.\n",
            "Word 1889 (\"referred\") appears 1 time.\n",
            "Word 1893 (\"rl\") appears 1 time.\n",
            "Word 1895 (\"scope\") appears 2 time.\n",
            "Word 1908 (\"acknowledgment\") appears 1 time.\n",
            "Word 1923 (\"bounded\") appears 3 time.\n",
            "Word 1938 (\"despite\") appears 1 time.\n",
            "Word 1939 (\"determining\") appears 1 time.\n",
            "Word 1940 (\"differentiable\") appears 3 time.\n",
            "Word 1945 (\"eq\") appears 11 time.\n",
            "Word 1961 (\"goal\") appears 5 time.\n",
            "Word 1971 (\"illustrate\") appears 1 time.\n",
            "Word 1988 (\"max\") appears 3 time.\n",
            "Word 2062 (\"convex\") appears 2 time.\n",
            "Word 2075 (\"ec\") appears 1 time.\n",
            "Word 2093 (\"inequality\") appears 1 time.\n",
            "Word 2111 (\"lt\") appears 1 time.\n",
            "Word 2123 (\"origin\") appears 13 time.\n",
            "Word 2126 (\"parametric\") appears 2 time.\n",
            "Word 2129 (\"pi\") appears 4 time.\n",
            "Word 2147 (\"satisfied\") appears 4 time.\n",
            "Word 2152 (\"solving\") appears 2 time.\n",
            "Word 2181 (\"dynamical\") appears 3 time.\n",
            "Word 2189 (\"guaranteed\") appears 1 time.\n",
            "Word 2213 (\"surprising\") appears 1 time.\n",
            "Word 2218 (\"ui\") appears 8 time.\n",
            "Word 2227 (\"cast\") appears 1 time.\n",
            "Word 2234 (\"converge\") appears 2 time.\n",
            "Word 2237 (\"ei\") appears 2 time.\n",
            "Word 2243 (\"filtering\") appears 1 time.\n",
            "Word 2247 (\"ht\") appears 1 time.\n",
            "Word 2250 (\"kalman\") appears 2 time.\n",
            "Word 2264 (\"ot\") appears 8 time.\n",
            "Word 2265 (\"outline\") appears 1 time.\n",
            "Word 2267 (\"prentice\") appears 1 time.\n",
            "Word 2277 (\"tl\") appears 2 time.\n",
            "Word 2296 (\"controller\") appears 27 time.\n",
            "Word 2320 (\"mechanical\") appears 3 time.\n",
            "Word 2330 (\"presence\") appears 2 time.\n",
            "Word 2353 (\"choosing\") appears 2 time.\n",
            "Word 2362 (\"expressed\") appears 1 time.\n",
            "Word 2370 (\"massachusetts\") appears 2 time.\n",
            "Word 2385 (\"supervised\") appears 1 time.\n",
            "Word 2437 (\"toward\") appears 1 time.\n",
            "Word 2442 (\"ut\") appears 15 time.\n",
            "Word 2456 (\"closely\") appears 1 time.\n",
            "Word 2458 (\"continuously\") appears 1 time.\n",
            "Word 2493 (\"scientific\") appears 1 time.\n",
            "Word 2513 (\"confirmed\") appears 1 time.\n",
            "Word 2535 (\"satisfy\") appears 1 time.\n",
            "Word 2536 (\"specified\") appears 1 time.\n",
            "Word 2546 (\"adapts\") appears 1 time.\n",
            "Word 2580 (\"regarding\") appears 3 time.\n",
            "Word 2589 (\"tracking\") appears 2 time.\n",
            "Word 2651 (\"en\") appears 3 time.\n",
            "Word 2669 (\"twice\") appears 2 time.\n",
            "Word 2674 (\"appearing\") appears 1 time.\n",
            "Word 2712 (\"scenario\") appears 1 time.\n",
            "Word 2720 (\"ahead\") appears 1 time.\n",
            "Word 2758 (\"realized\") appears 1 time.\n",
            "Word 2774 (\"bi\") appears 6 time.\n",
            "Word 2788 (\"ic\") appears 6 time.\n",
            "Word 2796 (\"ld\") appears 1 time.\n",
            "Word 2800 (\"march\") appears 2 time.\n",
            "Word 2887 (\"statement\") appears 1 time.\n",
            "Word 2901 (\"definite\") appears 8 time.\n",
            "Word 2916 (\"newton\") appears 1 time.\n",
            "Word 2918 (\"oo\") appears 1 time.\n",
            "Word 2961 (\"steady\") appears 1 time.\n",
            "Word 2964 (\"wt\") appears 11 time.\n",
            "Word 3019 (\"submitted\") appears 1 time.\n",
            "Word 3053 (\"monotonically\") appears 1 time.\n",
            "Word 3059 (\"theorem\") appears 4 time.\n",
            "Word 3062 (\"yt\") appears 21 time.\n",
            "Word 3082 (\"updating\") appears 1 time.\n",
            "Word 3098 (\"resort\") appears 1 time.\n",
            "Word 3122 (\"ri\") appears 1 time.\n",
            "Word 3148 (\"er\") appears 4 time.\n",
            "Word 3166 (\"el\") appears 1 time.\n",
            "Word 3174 (\"qt\") appears 1 time.\n",
            "Word 3175 (\"sin\") appears 3 time.\n",
            "Word 3178 (\"adjusting\") appears 1 time.\n",
            "Word 3220 (\"posse\") appears 1 time.\n",
            "Word 3238 (\"bertsekas\") appears 2 time.\n",
            "Word 3282 (\"ib\") appears 1 time.\n",
            "Word 3317 (\"tf\") appears 1 time.\n",
            "Word 3318 (\"bk\") appears 1 time.\n",
            "Word 3319 (\"bm\") appears 1 time.\n",
            "Word 3320 (\"controlling\") appears 1 time.\n",
            "Word 3321 (\"interior\") appears 2 time.\n",
            "Word 3322 (\"measurable\") appears 2 time.\n",
            "Word 3323 (\"posed\") appears 1 time.\n",
            "Word 3324 (\"px\") appears 3 time.\n",
            "Word 3325 (\"reader\") appears 1 time.\n",
            "Word 3326 (\"retains\") appears 1 time.\n",
            "Word 3327 (\"yu\") appears 10 time.\n"
          ],
          "name": "stdout"
        }
      ]
    },
    {
      "cell_type": "markdown",
      "metadata": {
        "id": "5U8gY91o0E0p",
        "colab_type": "text"
      },
      "source": [
        "### 5.3)- Building LDA Model"
      ]
    },
    {
      "cell_type": "code",
      "metadata": {
        "id": "i0ugw1oYjIUf",
        "colab_type": "code",
        "colab": {}
      },
      "source": [
        "lda_model = gensim.models.LdaMulticore(corpus=corpus, num_topics=10, id2word=id2word, passes=2, workers=2)"
      ],
      "execution_count": 0,
      "outputs": []
    },
    {
      "cell_type": "code",
      "metadata": {
        "id": "6CLOSiBJjIXz",
        "colab_type": "code",
        "colab": {}
      },
      "source": [
        "lda_model.save('topic_model')"
      ],
      "execution_count": 0,
      "outputs": []
    },
    {
      "cell_type": "code",
      "metadata": {
        "id": "_s4EeNO4jIac",
        "colab_type": "code",
        "colab": {}
      },
      "source": [
        "from gensim.models import LdaModel\n",
        "lda_model = LdaModel.load('topic_model')"
      ],
      "execution_count": 0,
      "outputs": []
    },
    {
      "cell_type": "code",
      "metadata": {
        "id": "82BcXgZJjIdd",
        "colab_type": "code",
        "colab": {
          "base_uri": "https://localhost:8080/",
          "height": 697
        },
        "outputId": "04b3ec5d-4146-4ca8-9c83-35e1d2879974"
      },
      "source": [
        "#The trained topics (keywords and weights)\n",
        "from pprint import pprint\n",
        "pprint(lda_model.print_topics())"
      ],
      "execution_count": 77,
      "outputs": [
        {
          "output_type": "stream",
          "text": [
            "[(0,\n",
            "  '0.008*\"gradient\" + 0.007*\"convex\" + 0.006*\"convergence\" + 0.006*\"xt\" + '\n",
            "  '0.005*\"loss\" + 0.005*\"iteration\" + 0.005*\"theorem\" + 0.004*\"update\" + '\n",
            "  '0.004*\"stochastic\" + 0.004*\"xi\"'),\n",
            " (1,\n",
            "  '0.013*\"policy\" + 0.009*\"action\" + 0.007*\"reward\" + 0.005*\"control\" + '\n",
            "  '0.004*\"agent\" + 0.004*\"group\" + 0.004*\"trajectory\" + 0.004*\"dynamic\" + '\n",
            "  '0.004*\"decision\" + 0.004*\"st\"'),\n",
            " (2,\n",
            "  '0.007*\"layer\" + 0.005*\"image\" + 0.005*\"deep\" + 0.004*\"tensor\" + '\n",
            "  '0.004*\"stochastic\" + 0.004*\"label\" + 0.004*\"prediction\" + 0.004*\"inference\" '\n",
            "  '+ 0.004*\"loss\" + 0.004*\"sequence\"'),\n",
            " (3,\n",
            "  '0.006*\"graph\" + 0.006*\"object\" + 0.004*\"edge\" + 0.004*\"xi\" + 0.004*\"neuron\" '\n",
            "  '+ 0.004*\"agent\" + 0.003*\"image\" + 0.003*\"constraint\" + 0.003*\"prior\" + '\n",
            "  '0.003*\"action\"'),\n",
            " (4,\n",
            "  '0.006*\"node\" + 0.006*\"tree\" + 0.005*\"theorem\" + 0.005*\"kernel\" + '\n",
            "  '0.004*\"rank\" + 0.004*\"graph\" + 0.003*\"label\" + 0.003*\"neuron\" + '\n",
            "  '0.003*\"spike\" + 0.003*\"complexity\"'),\n",
            " (5,\n",
            "  '0.021*\"image\" + 0.005*\"object\" + 0.003*\"topic\" + 0.003*\"search\" + '\n",
            "  '0.003*\"response\" + 0.003*\"arm\" + 0.003*\"unit\" + 0.003*\"dataset\" + '\n",
            "  '0.003*\"target\" + 0.003*\"visual\"'),\n",
            " (6,\n",
            "  '0.011*\"kernel\" + 0.009*\"xi\" + 0.007*\"image\" + 0.006*\"graph\" + '\n",
            "  '0.005*\"classification\" + 0.004*\"object\" + 0.003*\"label\" + 0.003*\"layer\" + '\n",
            "  '0.003*\"inference\" + 0.003*\"distance\"'),\n",
            " (7,\n",
            "  '0.006*\"clustering\" + 0.005*\"image\" + 0.005*\"cluster\" + 0.005*\"neuron\" + '\n",
            "  '0.005*\"theorem\" + 0.004*\"norm\" + 0.004*\"signal\" + 0.003*\"rank\" + '\n",
            "  '0.003*\"graph\" + 0.003*\"xi\"'),\n",
            " (8,\n",
            "  '0.007*\"loss\" + 0.006*\"classifier\" + 0.005*\"neuron\" + 0.004*\"prediction\" + '\n",
            "  '0.004*\"classification\" + 0.004*\"noise\" + 0.004*\"layer\" + 0.004*\"word\" + '\n",
            "  '0.003*\"response\" + 0.003*\"xi\"'),\n",
            " (9,\n",
            "  '0.006*\"unit\" + 0.005*\"inference\" + 0.004*\"variational\" + 0.004*\"word\" + '\n",
            "  '0.004*\"node\" + 0.004*\"layer\" + 0.004*\"bayesian\" + 0.003*\"latent\" + '\n",
            "  '0.003*\"gradient\" + 0.003*\"topic\"')]\n"
          ],
          "name": "stdout"
        }
      ]
    },
    {
      "cell_type": "markdown",
      "metadata": {
        "id": "93e-iSyJ0pjO",
        "colab_type": "text"
      },
      "source": [
        "# 6)- Model Results"
      ]
    },
    {
      "cell_type": "markdown",
      "metadata": {
        "id": "35y2c8PW0thK",
        "colab_type": "text"
      },
      "source": [
        "### 6.1)- Compute Proplexity and Coherence Score"
      ]
    },
    {
      "cell_type": "code",
      "metadata": {
        "id": "4bU9QhArjIge",
        "colab_type": "code",
        "colab": {
          "base_uri": "https://localhost:8080/",
          "height": 51
        },
        "outputId": "3e172a63-fe75-465a-969e-b82e847a9b30"
      },
      "source": [
        "# Compute Perplexity:a measure of how good the model is. lower the better.\n",
        "print('\\nPerplexity: ', lda_model.log_perplexity(corpus))"
      ],
      "execution_count": 78,
      "outputs": [
        {
          "output_type": "stream",
          "text": [
            "\n",
            "Perplexity:  -7.616274956751226\n"
          ],
          "name": "stdout"
        }
      ]
    },
    {
      "cell_type": "code",
      "metadata": {
        "id": "QPLEJ8LujIjb",
        "colab_type": "code",
        "colab": {
          "base_uri": "https://localhost:8080/",
          "height": 51
        },
        "outputId": "4e900e8b-3a8c-4bb0-c9ae-9b017637ea50"
      },
      "source": [
        "# Compute Coherence Score\n",
        "coherence_model_lda = CoherenceModel(model=lda_model, texts=data_ready, dictionary=id2word, coherence='c_v')\n",
        "coherence_lda = coherence_model_lda.get_coherence()\n",
        "print('\\nCoherence Score: ', coherence_lda)"
      ],
      "execution_count": 79,
      "outputs": [
        {
          "output_type": "stream",
          "text": [
            "\n",
            "Coherence Score:  nan\n"
          ],
          "name": "stdout"
        }
      ]
    },
    {
      "cell_type": "markdown",
      "metadata": {
        "id": "rAQFcxes1Cah",
        "colab_type": "text"
      },
      "source": [
        "### 6.2)- Visualization through pyLDAvis"
      ]
    },
    {
      "cell_type": "code",
      "metadata": {
        "id": "7HG7FKGe1Nfo",
        "colab_type": "code",
        "colab": {
          "base_uri": "https://localhost:8080/",
          "height": 612
        },
        "outputId": "6f726e8f-cccc-4c3a-ce41-de388fe9a38a"
      },
      "source": [
        "! pip install pyLDAvis"
      ],
      "execution_count": 81,
      "outputs": [
        {
          "output_type": "stream",
          "text": [
            "Collecting pyLDAvis\n",
            "\u001b[?25l  Downloading https://files.pythonhosted.org/packages/a5/3a/af82e070a8a96e13217c8f362f9a73e82d61ac8fff3a2561946a97f96266/pyLDAvis-2.1.2.tar.gz (1.6MB)\n",
            "\u001b[K     |████████████████████████████████| 1.6MB 2.5MB/s \n",
            "\u001b[?25hRequirement already satisfied: wheel>=0.23.0 in /usr/local/lib/python3.6/dist-packages (from pyLDAvis) (0.33.6)\n",
            "Requirement already satisfied: numpy>=1.9.2 in /usr/local/lib/python3.6/dist-packages (from pyLDAvis) (1.17.4)\n",
            "Requirement already satisfied: scipy>=0.18.0 in /usr/local/lib/python3.6/dist-packages (from pyLDAvis) (1.3.3)\n",
            "Requirement already satisfied: pandas>=0.17.0 in /usr/local/lib/python3.6/dist-packages (from pyLDAvis) (0.25.3)\n",
            "Requirement already satisfied: joblib>=0.8.4 in /usr/local/lib/python3.6/dist-packages (from pyLDAvis) (0.14.1)\n",
            "Requirement already satisfied: jinja2>=2.7.2 in /usr/local/lib/python3.6/dist-packages (from pyLDAvis) (2.10.3)\n",
            "Requirement already satisfied: numexpr in /usr/local/lib/python3.6/dist-packages (from pyLDAvis) (2.7.0)\n",
            "Requirement already satisfied: pytest in /usr/local/lib/python3.6/dist-packages (from pyLDAvis) (3.6.4)\n",
            "Requirement already satisfied: future in /usr/local/lib/python3.6/dist-packages (from pyLDAvis) (0.16.0)\n",
            "Collecting funcy\n",
            "\u001b[?25l  Downloading https://files.pythonhosted.org/packages/ce/4b/6ffa76544e46614123de31574ad95758c421aae391a1764921b8a81e1eae/funcy-1.14.tar.gz (548kB)\n",
            "\u001b[K     |████████████████████████████████| 552kB 19.8MB/s \n",
            "\u001b[?25hRequirement already satisfied: python-dateutil>=2.6.1 in /usr/local/lib/python3.6/dist-packages (from pandas>=0.17.0->pyLDAvis) (2.6.1)\n",
            "Requirement already satisfied: pytz>=2017.2 in /usr/local/lib/python3.6/dist-packages (from pandas>=0.17.0->pyLDAvis) (2018.9)\n",
            "Requirement already satisfied: MarkupSafe>=0.23 in /usr/local/lib/python3.6/dist-packages (from jinja2>=2.7.2->pyLDAvis) (1.1.1)\n",
            "Requirement already satisfied: pluggy<0.8,>=0.5 in /usr/local/lib/python3.6/dist-packages (from pytest->pyLDAvis) (0.7.1)\n",
            "Requirement already satisfied: more-itertools>=4.0.0 in /usr/local/lib/python3.6/dist-packages (from pytest->pyLDAvis) (8.0.2)\n",
            "Requirement already satisfied: six>=1.10.0 in /usr/local/lib/python3.6/dist-packages (from pytest->pyLDAvis) (1.12.0)\n",
            "Requirement already satisfied: py>=1.5.0 in /usr/local/lib/python3.6/dist-packages (from pytest->pyLDAvis) (1.8.0)\n",
            "Requirement already satisfied: attrs>=17.4.0 in /usr/local/lib/python3.6/dist-packages (from pytest->pyLDAvis) (19.3.0)\n",
            "Requirement already satisfied: setuptools in /usr/local/lib/python3.6/dist-packages (from pytest->pyLDAvis) (42.0.2)\n",
            "Requirement already satisfied: atomicwrites>=1.0 in /usr/local/lib/python3.6/dist-packages (from pytest->pyLDAvis) (1.3.0)\n",
            "Building wheels for collected packages: pyLDAvis, funcy\n",
            "  Building wheel for pyLDAvis (setup.py) ... \u001b[?25l\u001b[?25hdone\n",
            "  Created wheel for pyLDAvis: filename=pyLDAvis-2.1.2-py2.py3-none-any.whl size=97711 sha256=d2f610c649d30fe9a98d759f684c267f321ed3644aa895bcbbb6abea78f544f0\n",
            "  Stored in directory: /root/.cache/pip/wheels/98/71/24/513a99e58bb6b8465bae4d2d5e9dba8f0bef8179e3051ac414\n",
            "  Building wheel for funcy (setup.py) ... \u001b[?25l\u001b[?25hdone\n",
            "  Created wheel for funcy: filename=funcy-1.14-py2.py3-none-any.whl size=32040 sha256=f04110c6a5f06537c5b3ef3d03216eb35dc61d73344dcc7a9b8025b80a26c474\n",
            "  Stored in directory: /root/.cache/pip/wheels/20/5a/d8/1d875df03deae6f178dfdf70238cca33f948ef8a6f5209f2eb\n",
            "Successfully built pyLDAvis funcy\n",
            "Installing collected packages: funcy, pyLDAvis\n",
            "Successfully installed funcy-1.14 pyLDAvis-2.1.2\n"
          ],
          "name": "stdout"
        }
      ]
    },
    {
      "cell_type": "code",
      "metadata": {
        "id": "V-rI3OE7jImr",
        "colab_type": "code",
        "colab": {}
      },
      "source": [
        "import pyLDAvis\n",
        "import pyLDAvis.gensim\n",
        "pyLDAvis.enable_notebook()"
      ],
      "execution_count": 0,
      "outputs": []
    },
    {
      "cell_type": "code",
      "metadata": {
        "id": "JEU3yFbGjIpN",
        "colab_type": "code",
        "colab": {}
      },
      "source": [
        "vis = pyLDAvis.gensim.prepare(lda_model, corpus, dictionary=lda_model.id2word)"
      ],
      "execution_count": 0,
      "outputs": []
    },
    {
      "cell_type": "code",
      "metadata": {
        "id": "slzF3sqyjIsN",
        "colab_type": "code",
        "colab": {}
      },
      "source": [
        "pyLDAvis.save_html(vis, 'topics_LDApyvis.html')"
      ],
      "execution_count": 0,
      "outputs": []
    },
    {
      "cell_type": "markdown",
      "metadata": {
        "id": "weYtTjvP19-l",
        "colab_type": "text"
      },
      "source": [
        "### 6.3)- Visualisation through WordCloud"
      ]
    },
    {
      "cell_type": "code",
      "metadata": {
        "id": "P9luhcil5Yua",
        "colab_type": "code",
        "colab": {}
      },
      "source": [
        "from matplotlib import pyplot as plt\n",
        "from wordcloud import WordCloud, STOPWORDS\n",
        "import matplotlib.colors as mcolors"
      ],
      "execution_count": 0,
      "outputs": []
    },
    {
      "cell_type": "code",
      "metadata": {
        "id": "1Luv76PcjI1S",
        "colab_type": "code",
        "colab": {
          "base_uri": "https://localhost:8080/",
          "height": 966
        },
        "outputId": "e6b7bc8e-990e-48a9-fbb4-f8f1c514f625"
      },
      "source": [
        "cols = [color for name, color in mcolors.TABLEAU_COLORS.items()]  # more colors: 'mcolors.XKCD_COLORS'\n",
        "\n",
        "cloud = WordCloud(stopwords=stop_words,\n",
        "                  background_color='white',\n",
        "                  width=2500,\n",
        "                  height=1800,\n",
        "                  max_words=10,\n",
        "                  colormap='tab10',\n",
        "                  color_func=lambda *args, **kwargs: cols[i],\n",
        "                  prefer_horizontal=1.0)\n",
        "\n",
        "topics = lda_model.show_topics(formatted=False)\n",
        "\n",
        "fig, axes = plt.subplots(4, 2, figsize=(10,10), sharex=True, sharey=True) # watch this value\n",
        "\n",
        "for i, ax in enumerate(axes.flatten()):\n",
        "    fig.add_subplot(ax)\n",
        "    topic_words = dict(topics[i][1]) # for 8 topics\n",
        "    cloud.generate_from_frequencies(topic_words, max_font_size=300)\n",
        "    plt.gca().imshow(cloud)\n",
        "    plt.gca().set_title('Topic ' + str(i), fontdict=dict(size=16))\n",
        "    plt.gca().axis('off')\n",
        "\n",
        "\n",
        "plt.subplots_adjust(wspace=0, hspace=0)\n",
        "plt.axis('off')\n",
        "plt.margins(x=0, y=0)\n",
        "plt.tight_layout()\n",
        "plt.show()"
      ],
      "execution_count": 96,
      "outputs": [
        {
          "output_type": "display_data",
          "data": {
            "text/plain": [
              "<Figure size 720x720 with 8 Axes>"
            ],
            "image/svg+xml": "<?xml version=\"1.0\" encoding=\"utf-8\" standalone=\"no\"?>\n<!DOCTYPE svg PUBLIC \"-//W3C//DTD SVG 1.1//EN\"\n  \"http://www.w3.org/Graphics/SVG/1.1/DTD/svg11.dtd\">\n<!-- Created with matplotlib (https://matplotlib.org/) -->\n<svg height=\"708.6375pt\" version=\"1.1\" viewBox=\"0 0 525.295 708.6375\" width=\"525.295pt\" xmlns=\"http://www.w3.org/2000/svg\" xmlns:xlink=\"http://www.w3.org/1999/xlink\">\n <defs>\n  <style type=\"text/css\">\n*{stroke-linecap:butt;stroke-linejoin:round;}\n  </style>\n </defs>\n <g id=\"figure_1\">\n  <g id=\"patch_1\">\n   <path d=\"M 0 708.6375 \nL 525.295 708.6375 \nL 525.295 0 \nL 0 0 \nz\n\" style=\"fill:#ffffff;\"/>\n  </g>\n  <g id=\"axes_1\">\n   <g clip-path=\"url(#p93f64b67a3)\">\n    <image height=\"146\" id=\"image2ea323f09a\" transform=\"scale(1 -1)translate(0 -146)\" width=\"203\" x=\"7.2\" xlink:href=\"data:image/png;base64,\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\" y=\"-25.1575\"/>\n   </g>\n   <g id=\"text_1\">\n    <!-- Topic 0 -->\n    <defs>\n     <path d=\"M -0.296875 72.90625 \nL 61.375 72.90625 \nL 61.375 64.59375 \nL 35.5 64.59375 \nL 35.5 0 \nL 25.59375 0 \nL 25.59375 64.59375 \nL -0.296875 64.59375 \nz\n\" id=\"DejaVuSans-84\"/>\n     <path d=\"M 30.609375 48.390625 \nQ 23.390625 48.390625 19.1875 42.75 \nQ 14.984375 37.109375 14.984375 27.296875 \nQ 14.984375 17.484375 19.15625 11.84375 \nQ 23.34375 6.203125 30.609375 6.203125 \nQ 37.796875 6.203125 41.984375 11.859375 \nQ 46.1875 17.53125 46.1875 27.296875 \nQ 46.1875 37.015625 41.984375 42.703125 \nQ 37.796875 48.390625 30.609375 48.390625 \nz\nM 30.609375 56 \nQ 42.328125 56 49.015625 48.375 \nQ 55.71875 40.765625 55.71875 27.296875 \nQ 55.71875 13.875 49.015625 6.21875 \nQ 42.328125 -1.421875 30.609375 -1.421875 \nQ 18.84375 -1.421875 12.171875 6.21875 \nQ 5.515625 13.875 5.515625 27.296875 \nQ 5.515625 40.765625 12.171875 48.375 \nQ 18.84375 56 30.609375 56 \nz\n\" id=\"DejaVuSans-111\"/>\n     <path d=\"M 18.109375 8.203125 \nL 18.109375 -20.796875 \nL 9.078125 -20.796875 \nL 9.078125 54.6875 \nL 18.109375 54.6875 \nL 18.109375 46.390625 \nQ 20.953125 51.265625 25.265625 53.625 \nQ 29.59375 56 35.59375 56 \nQ 45.5625 56 51.78125 48.09375 \nQ 58.015625 40.1875 58.015625 27.296875 \nQ 58.015625 14.40625 51.78125 6.484375 \nQ 45.5625 -1.421875 35.59375 -1.421875 \nQ 29.59375 -1.421875 25.265625 0.953125 \nQ 20.953125 3.328125 18.109375 8.203125 \nz\nM 48.6875 27.296875 \nQ 48.6875 37.203125 44.609375 42.84375 \nQ 40.53125 48.484375 33.40625 48.484375 \nQ 26.265625 48.484375 22.1875 42.84375 \nQ 18.109375 37.203125 18.109375 27.296875 \nQ 18.109375 17.390625 22.1875 11.75 \nQ 26.265625 6.109375 33.40625 6.109375 \nQ 40.53125 6.109375 44.609375 11.75 \nQ 48.6875 17.390625 48.6875 27.296875 \nz\n\" id=\"DejaVuSans-112\"/>\n     <path d=\"M 9.421875 54.6875 \nL 18.40625 54.6875 \nL 18.40625 0 \nL 9.421875 0 \nz\nM 9.421875 75.984375 \nL 18.40625 75.984375 \nL 18.40625 64.59375 \nL 9.421875 64.59375 \nz\n\" id=\"DejaVuSans-105\"/>\n     <path d=\"M 48.78125 52.59375 \nL 48.78125 44.1875 \nQ 44.96875 46.296875 41.140625 47.34375 \nQ 37.3125 48.390625 33.40625 48.390625 \nQ 24.65625 48.390625 19.8125 42.84375 \nQ 14.984375 37.3125 14.984375 27.296875 \nQ 14.984375 17.28125 19.8125 11.734375 \nQ 24.65625 6.203125 33.40625 6.203125 \nQ 37.3125 6.203125 41.140625 7.25 \nQ 44.96875 8.296875 48.78125 10.40625 \nL 48.78125 2.09375 \nQ 45.015625 0.34375 40.984375 -0.53125 \nQ 36.96875 -1.421875 32.421875 -1.421875 \nQ 20.0625 -1.421875 12.78125 6.34375 \nQ 5.515625 14.109375 5.515625 27.296875 \nQ 5.515625 40.671875 12.859375 48.328125 \nQ 20.21875 56 33.015625 56 \nQ 37.15625 56 41.109375 55.140625 \nQ 45.0625 54.296875 48.78125 52.59375 \nz\n\" id=\"DejaVuSans-99\"/>\n     <path id=\"DejaVuSans-32\"/>\n     <path d=\"M 31.78125 66.40625 \nQ 24.171875 66.40625 20.328125 58.90625 \nQ 16.5 51.421875 16.5 36.375 \nQ 16.5 21.390625 20.328125 13.890625 \nQ 24.171875 6.390625 31.78125 6.390625 \nQ 39.453125 6.390625 43.28125 13.890625 \nQ 47.125 21.390625 47.125 36.375 \nQ 47.125 51.421875 43.28125 58.90625 \nQ 39.453125 66.40625 31.78125 66.40625 \nz\nM 31.78125 74.21875 \nQ 44.046875 74.21875 50.515625 64.515625 \nQ 56.984375 54.828125 56.984375 36.375 \nQ 56.984375 17.96875 50.515625 8.265625 \nQ 44.046875 -1.421875 31.78125 -1.421875 \nQ 19.53125 -1.421875 13.0625 8.265625 \nQ 6.59375 17.96875 6.59375 36.375 \nQ 6.59375 54.828125 13.0625 64.515625 \nQ 19.53125 74.21875 31.78125 74.21875 \nz\n\" id=\"DejaVuSans-48\"/>\n    </defs>\n    <g style=\"fill:#262626;\" transform=\"translate(79.3575 19.3575)scale(0.16 -0.16)\">\n     <use xlink:href=\"#DejaVuSans-84\"/>\n     <use x=\"60.818359\" xlink:href=\"#DejaVuSans-111\"/>\n     <use x=\"122\" xlink:href=\"#DejaVuSans-112\"/>\n     <use x=\"185.476562\" xlink:href=\"#DejaVuSans-105\"/>\n     <use x=\"213.259766\" xlink:href=\"#DejaVuSans-99\"/>\n     <use x=\"268.240234\" xlink:href=\"#DejaVuSans-32\"/>\n     <use x=\"300.027344\" xlink:href=\"#DejaVuSans-48\"/>\n    </g>\n   </g>\n  </g>\n  <g id=\"axes_2\">\n   <g clip-path=\"url(#p4ffc9f1b72)\">\n    <image height=\"146\" id=\"imageb73ca7a428\" transform=\"scale(1 -1)translate(0 -146)\" width=\"203\" x=\"315.595\" xlink:href=\"data:image/png;base64,\niVBORw0KGgoAAAANSUhEUgAAAMsAAACSCAYAAADrej4MAAAABHNCSVQICAgIfAhkiAAADRVJREFUeJztnXvQFWUdx78vVxHhEAK9UN4QSQzvIxMmWJSZEkrooFageUkzrRlDMRh7D3JJuTREJY7iZch0RiPEmRoRBuUFGQ2yTMQkuQn0voIpr6/KndMf+65nd8+zu79nb2f37Pczc+bsPvtcfufs893nss+lrlQqlUAI8aVdtQ0gJCtQLIQIoVgIEUKxECKEYiFECMVCiBCKhRAhFAshQigWQoRQLIQIoVgIEUKxECKEYiFECMVCiJAO1TYgEYoFhVuLnp9iwT2M071xNrBiqndcR3UH7t7ubvOCbwA71tnd7twEdO3lbbPKnqRx+18yTu2LRXLjigUjE965ye5WKgF1dfpprpgKXL8UOP4r+mFNdqxTi9Mmurbj9zcCvzsvPZmz2AK0NqkfMBkmH9UwyQ2zCsVkSo/gaYYRiluJAQA71gaPN0m69TX+d6/fkjGiF0uxYP+kfSLmxufV7uMWJ2uHlAXfrLYFuSXaapiqypP2+uuJw9TuW1bGm+6+j+KNP24k7UCrX78qpdPNjL/H8cCed8ullPW65NjPRqcfj3wafZulwpiUF8WduqrdV8+tdEtDHbza6QPeD0WnvzD33y9+aXi3+6Z5P6OvhjXOjjzKUJx5jeyP1nlSRsE9u4HGWS62tKW7+BaLW8oeOMMnJJveDS8km54CvZJFVWTZir0W4L//rPTXvqN3PNb4zOvSblq/YvS7DwLvLPP299nvKKivO/25xlNQH6via98JWDHN+HjZ9PpT3jZVixH3eF//1RfLx1c9oV8qp7BGIheLtOh96ELvP+Xg3sp4wuIXl6qnSzcO6wPB149PxpDEJbleTab0ABr2uF/f31q2f9CoYGlYf/+RQ8C9xwaLJyLi6Tr2eiJMrwcmbIwl2dRwxthqWxAvDR8G6+X85H37uTUOv1LETShrF5SPV87Ut0mj9NIoWSxVlQvvAr4+GagfDDSv9zfC+YTcsEQdZsiPxOakmjEPJ5POoxcD776STFpW6tqesa7V6QIw3nGPnVV2oPI9lm+HgUfVXFrzUdpk8fezfwGfO0HpvS7QipR79wDLG4C/P6420O/cy3hVGGs4SRckSZ4c3Idg1bAuPYBRv6l0P7RfHkexpfxRXk9X444QPbGoMvDlvy8fd+gsiKNNHC071e5Wtq42vlub3P0Q4kdED179apjkjafum1O3qpXVz8RtRonmlYabPYREQLA2S5rIQV2ZpIN8jDomJAKyX7IQkhAsWQgRQrEQIoRiIUQIxUKIEIqFECEUCyFCKBZChFAshAihWAgRUvsrUpLwbFgCPD3eOO410FgBU3cthOfvBl6Zr/bjNyj28ZHlEehu8aviuGU1UH+62o/u0kwAUCLEj4bueueq8H5+SqVSafEtan+zBtjPD+51j0/qLvkNDjdWw4g3fnNB9ngsbm6LJ8TI8An/sZ93OEovvNf0Zw0oFuKPV0afOzg5O4DynHld8bVr74hHX7xssxB/dm0A+pzm7SfuRQrDLgN85HBoE1iyEH8eGOp+zboGmteaClEQNO6Lpyvi8qmCKWauUCzEGzODrry/7dyn/v/BFns487hYAGYNMM6XN1T2bumwdBKwcanc/9Db7DY+d3uljdbrgLFMU+dutsuc/EVkONfoclt7ofMxwC92Vl4DgLmnGyvim/EEteGErwI//Kt++O1/Ax65CBhyE3Cpy5rcU3sBhw8q7aNYiD45XfcgXw183UaidAUZnX1p3BrCqgy48DJg88rw9qrsSCNR7OUTo5DzJRYdotqE6c1ngS+P9o4zinWtgixfmjaiyOQxPhTYwFfxznLjW/LH+2XIZ671j0O1umcQVBtJWVm/yPKewvIJm452+IyJuA2KRcUTV+j571ZvfD90ofH9yW7j25mpOh2tDn/udXrpOZnWR+bvT9fbu3hN+2b0C5d+TmA1zAtpG+DnbxsCM0ukWQOA/l+rDDOpSf0079glnJ06a0w7+fEaYP754dLPCRRLVPxgkV0Ezi0XTFRtCnODp7jp0sNIc9gdxrYRrz4I7P8Y6NrLblP3fsAdb7nHc+QwcG9PSxhHCbprg/1FplsHht9OaymDYvFCuo5zFPGHiVe6pdzEbYa/Vb9W2yBh9kDg4/fsw+udQnhgaPn8k90uPYAF7zhSSD7bLJJNbgDgsUu8r0szuG96Ia+7+dvlUjqEGZpiFYoZlxXn5kpde7vb4BZHSslnyVJXV5mxnDds8Bhg/Z/1n/hO/6MfAJ691f26KE5FyaHqPDjwqSz+OKo/Zsmwa0PltX5nGRvzZpx8liwNe/wzyZWPqbtivbpnzeMxD5Xdzvp+pf9zxtvdvjPX3x6/65Oa/LuOre5epePhA95p6dJrYLTxVYl8lSzSzCT1o2zTCNwu+63x8WP8c3JbJH5UpZNKLM6NUiVkpCoVhnyWLHlFOnJg9HygtdkjHku4ptcD2lJQH6eYfJUsxKCihHH0RJ31Pfc2kmqH30AjiFvCx5EwHHVc60Q1xo1QLIRIYZuFECEUCyFCKBZChFAshAihWAgRQrEQIoRiIUQIxUKIEIqFECEcG5YnvBbv9pqpGGQ9sm0vA49d6u9fNP9GOGPVy5/uNQUUS14wM0bHLsDk5kp3v3CA3jRoUyg683QkmXd6fXnNAmfYmKcmsxqWNyY7ht5L5r/85FXZRDiT5jf84w6KSijW8xiH+1MsxJ/ep+r5XzMvHjsevMD4rtIIaoolL5x3o/GdkYlWSswSq0qwzZIXRs4xlm/d+2G2BVNFKJY8MXGr/XxLI7B2gbF1N/GF1bA8c9JwYOzCalshx9zBq0rzFSkW4k7fM43vtFTbzL0hp/TQDxvBb2A1LE+YGeaMscCYh+1uKm5utLz7KAB9zwBuXgVM+zxwaF9lr9TCy4zvXf+2n1txLu9ksneP7Ddc+WjbbgCWdyr39izvRuzXFR6ii5lz8POGdDczK09dA7ztsoej7nrNznQ2vwQsvFxui1dafm/pQ24/TrGQeMjAQt+6sM1CiBCKhaSHoNv2JQTFQuKhxqpgANsshIhhyUKIEIqFECEUCyFCKBZChFAshAihWAgRQrEQIoRiIUQIxUKIEIqFECHpn/zltmtulsjYrrxETbbGhtXCzrs1OM8jL2SrGnbj8mpbQHJMNNWw994E5p9fPq9Yg1awRKg1bJCnr191TTKl1CuOqb2Bwwe8w0ptZumSSaIRy/zzw9183XncFeGFgrT6MdfM9bLFZM6XDKHoPARIzZGtapgKqbicGbtjF3karc3RCKNYAH75gXH84ozw8ZFESYdYwk4lrdYTPojd7dob9q68P3p7SKxUv+vYzOgz+gIHPg0YR4DlfaKg1ylyv87lfkjmSKZkkTyBJzWFb/dY9wy56ongcUm5bZ3DBo/fufmlYLtekdSQkFgsC5y95lhbt1gwdnMCgEP7y/514gbKS3qa6QwaVfZz9jjD/b7jjPMZ/eTxm2kUC5aNdDxKMvPaohtkdpPMEP6l5B9GA5tetLu59Rq5vVT0e8MteYsveUvu5Uena/nWV4A+gyqvuf3OYgE491pg1Dz3MCT1RPMGv1Zueq38DhIL0VTDktq2IO5F2LK0/QJJnGyNDWttBrrVV9sKklOyJZY8UQuDRuNk/SJj6wmTBP6ndLyUJCQsCayTXP2XkoQEYfAVxsfEFMqG54DTFJsoRQBLFlIbmNWwp8fFlgTFQogQioXUDiH2i5RQ222WNfOAF+6xu93xFtDdMdwl7fP8P/0fMLN/pbufnUEGmAad8qCTQYOmX+X7kr+uY9Vb+jS+uTczzRfOAXa+5uFPMLRHxV2bgaOPrXRf1gC8PNc77PAJwAjHQ2j/x8BTVwFbV7uHa9cBuPqPwMBvV1677zhg30fe6eo+HCK+p7VdsjjJ4ijfna95j4X7YDPQs7/6GuAedmZ/9bWLphgfZ1x+Ga/zMcB1f1HbIcm0plB69gd++g9//1UgH20Wax982kqQoJi/Y97Z/n5cr6fk4WG1I6hQEri/tS8Ws4plneuSJU4eoed/WYO/n7T+D1HZFVNDv/bFknXGLdbzb7Y36uqityWtvPFMIsnko83i1vCz1e1rbNXIS2ZV24LkWHSj8R3zfat9sXh2U1pEUwsCsbJqDjDkpmpbUT0+W38uunvLalja2f6qnn9ziafWpuhtSSMJdtxQLEC6S5VHvqXnf3Kzv5+09II5icuuiOKlWLKKmQFOvMDfj+v1lDwkrHY0arS1Ev59td9myTonjyhnivFLKtcfc74IBOyrzBQLwEnDgKG3A0+OLfu5+sl47AWM1Xrclsf1Y8U046PCdbRCMqJnyZJ2rF3HTqFIOi8AYMsqu1CKLcCpI6Oxz5ZmW4M6iFB034OVjsj8nXJR2baQ5G9sGNGj1kY+hIAlCyFCKBZChLCBT+Kh1kZEgGIhKtL6HqbKUCwkHmqkNLHC3jBChLCBT4gQioUQIRQLIUIoFkKEUCyECPk/GvW5vNiWipwAAAAASUVORK5CYII=\" y=\"-25.1575\"/>\n   </g>\n   <g id=\"text_2\">\n    <!-- Topic 1 -->\n    <defs>\n     <path d=\"M 12.40625 8.296875 \nL 28.515625 8.296875 \nL 28.515625 63.921875 \nL 10.984375 60.40625 \nL 10.984375 69.390625 \nL 28.421875 72.90625 \nL 38.28125 72.90625 \nL 38.28125 8.296875 \nL 54.390625 8.296875 \nL 54.390625 0 \nL 12.40625 0 \nz\n\" id=\"DejaVuSans-49\"/>\n    </defs>\n    <g style=\"fill:#262626;\" transform=\"translate(387.7525 19.3575)scale(0.16 -0.16)\">\n     <use xlink:href=\"#DejaVuSans-84\"/>\n     <use x=\"60.818359\" xlink:href=\"#DejaVuSans-111\"/>\n     <use x=\"122\" xlink:href=\"#DejaVuSans-112\"/>\n     <use x=\"185.476562\" xlink:href=\"#DejaVuSans-105\"/>\n     <use x=\"213.259766\" xlink:href=\"#DejaVuSans-99\"/>\n     <use x=\"268.240234\" xlink:href=\"#DejaVuSans-32\"/>\n     <use x=\"300.027344\" xlink:href=\"#DejaVuSans-49\"/>\n    </g>\n   </g>\n  </g>\n  <g id=\"axes_3\">\n   <g clip-path=\"url(#p2c1b851736)\">\n    <image height=\"146\" id=\"image94e9ec19c1\" transform=\"scale(1 -1)translate(0 -146)\" width=\"203\" x=\"7.2\" xlink:href=\"data:image/png;base64,\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\" y=\"-201.9175\"/>\n   </g>\n   <g id=\"text_3\">\n    <!-- Topic 2 -->\n    <defs>\n     <path d=\"M 19.1875 8.296875 \nL 53.609375 8.296875 \nL 53.609375 0 \nL 7.328125 0 \nL 7.328125 8.296875 \nQ 12.9375 14.109375 22.625 23.890625 \nQ 32.328125 33.6875 34.8125 36.53125 \nQ 39.546875 41.84375 41.421875 45.53125 \nQ 43.3125 49.21875 43.3125 52.78125 \nQ 43.3125 58.59375 39.234375 62.25 \nQ 35.15625 65.921875 28.609375 65.921875 \nQ 23.96875 65.921875 18.8125 64.3125 \nQ 13.671875 62.703125 7.8125 59.421875 \nL 7.8125 69.390625 \nQ 13.765625 71.78125 18.9375 73 \nQ 24.125 74.21875 28.421875 74.21875 \nQ 39.75 74.21875 46.484375 68.546875 \nQ 53.21875 62.890625 53.21875 53.421875 \nQ 53.21875 48.921875 51.53125 44.890625 \nQ 49.859375 40.875 45.40625 35.40625 \nQ 44.1875 33.984375 37.640625 27.21875 \nQ 31.109375 20.453125 19.1875 8.296875 \nz\n\" id=\"DejaVuSans-50\"/>\n    </defs>\n    <g style=\"fill:#262626;\" transform=\"translate(79.3575 196.1175)scale(0.16 -0.16)\">\n     <use xlink:href=\"#DejaVuSans-84\"/>\n     <use x=\"60.818359\" xlink:href=\"#DejaVuSans-111\"/>\n     <use x=\"122\" xlink:href=\"#DejaVuSans-112\"/>\n     <use x=\"185.476562\" xlink:href=\"#DejaVuSans-105\"/>\n     <use x=\"213.259766\" xlink:href=\"#DejaVuSans-99\"/>\n     <use x=\"268.240234\" xlink:href=\"#DejaVuSans-32\"/>\n     <use x=\"300.027344\" xlink:href=\"#DejaVuSans-50\"/>\n    </g>\n   </g>\n  </g>\n  <g id=\"axes_4\">\n   <g clip-path=\"url(#p5c8657c132)\">\n    <image height=\"146\" id=\"image7efa19fd47\" transform=\"scale(1 -1)translate(0 -146)\" width=\"203\" x=\"315.595\" xlink:href=\"data:image/png;base64,\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\" y=\"-201.9175\"/>\n   </g>\n   <g id=\"text_4\">\n    <!-- Topic 3 -->\n    <defs>\n     <path d=\"M 40.578125 39.3125 \nQ 47.65625 37.796875 51.625 33 \nQ 55.609375 28.21875 55.609375 21.1875 \nQ 55.609375 10.40625 48.1875 4.484375 \nQ 40.765625 -1.421875 27.09375 -1.421875 \nQ 22.515625 -1.421875 17.65625 -0.515625 \nQ 12.796875 0.390625 7.625 2.203125 \nL 7.625 11.71875 \nQ 11.71875 9.328125 16.59375 8.109375 \nQ 21.484375 6.890625 26.8125 6.890625 \nQ 36.078125 6.890625 40.9375 10.546875 \nQ 45.796875 14.203125 45.796875 21.1875 \nQ 45.796875 27.640625 41.28125 31.265625 \nQ 36.765625 34.90625 28.71875 34.90625 \nL 20.21875 34.90625 \nL 20.21875 43.015625 \nL 29.109375 43.015625 \nQ 36.375 43.015625 40.234375 45.921875 \nQ 44.09375 48.828125 44.09375 54.296875 \nQ 44.09375 59.90625 40.109375 62.90625 \nQ 36.140625 65.921875 28.71875 65.921875 \nQ 24.65625 65.921875 20.015625 65.03125 \nQ 15.375 64.15625 9.8125 62.3125 \nL 9.8125 71.09375 \nQ 15.4375 72.65625 20.34375 73.4375 \nQ 25.25 74.21875 29.59375 74.21875 \nQ 40.828125 74.21875 47.359375 69.109375 \nQ 53.90625 64.015625 53.90625 55.328125 \nQ 53.90625 49.265625 50.4375 45.09375 \nQ 46.96875 40.921875 40.578125 39.3125 \nz\n\" id=\"DejaVuSans-51\"/>\n    </defs>\n    <g style=\"fill:#262626;\" transform=\"translate(387.7525 196.1175)scale(0.16 -0.16)\">\n     <use xlink:href=\"#DejaVuSans-84\"/>\n     <use x=\"60.818359\" xlink:href=\"#DejaVuSans-111\"/>\n     <use x=\"122\" xlink:href=\"#DejaVuSans-112\"/>\n     <use x=\"185.476562\" xlink:href=\"#DejaVuSans-105\"/>\n     <use x=\"213.259766\" xlink:href=\"#DejaVuSans-99\"/>\n     <use x=\"268.240234\" xlink:href=\"#DejaVuSans-32\"/>\n     <use x=\"300.027344\" xlink:href=\"#DejaVuSans-51\"/>\n    </g>\n   </g>\n  </g>\n  <g id=\"axes_5\">\n   <g clip-path=\"url(#p3f3df81612)\">\n    <image height=\"146\" id=\"image6def03c62b\" transform=\"scale(1 -1)translate(0 -146)\" width=\"203\" x=\"7.2\" xlink:href=\"data:image/png;base64,\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\" y=\"-378.6775\"/>\n   </g>\n   <g id=\"text_5\">\n    <!-- Topic 4 -->\n    <defs>\n     <path d=\"M 37.796875 64.3125 \nL 12.890625 25.390625 \nL 37.796875 25.390625 \nz\nM 35.203125 72.90625 \nL 47.609375 72.90625 \nL 47.609375 25.390625 \nL 58.015625 25.390625 \nL 58.015625 17.1875 \nL 47.609375 17.1875 \nL 47.609375 0 \nL 37.796875 0 \nL 37.796875 17.1875 \nL 4.890625 17.1875 \nL 4.890625 26.703125 \nz\n\" id=\"DejaVuSans-52\"/>\n    </defs>\n    <g style=\"fill:#262626;\" transform=\"translate(79.3575 372.8775)scale(0.16 -0.16)\">\n     <use xlink:href=\"#DejaVuSans-84\"/>\n     <use x=\"60.818359\" xlink:href=\"#DejaVuSans-111\"/>\n     <use x=\"122\" xlink:href=\"#DejaVuSans-112\"/>\n     <use x=\"185.476562\" xlink:href=\"#DejaVuSans-105\"/>\n     <use x=\"213.259766\" xlink:href=\"#DejaVuSans-99\"/>\n     <use x=\"268.240234\" xlink:href=\"#DejaVuSans-32\"/>\n     <use x=\"300.027344\" xlink:href=\"#DejaVuSans-52\"/>\n    </g>\n   </g>\n  </g>\n  <g id=\"axes_6\">\n   <g clip-path=\"url(#p72d708b406)\">\n    <image height=\"146\" id=\"image1653dd7b92\" transform=\"scale(1 -1)translate(0 -146)\" width=\"203\" x=\"315.595\" xlink:href=\"data:image/png;base64,\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\" y=\"-378.6775\"/>\n   </g>\n   <g id=\"text_6\">\n    <!-- Topic 5 -->\n    <defs>\n     <path d=\"M 10.796875 72.90625 \nL 49.515625 72.90625 \nL 49.515625 64.59375 \nL 19.828125 64.59375 \nL 19.828125 46.734375 \nQ 21.96875 47.46875 24.109375 47.828125 \nQ 26.265625 48.1875 28.421875 48.1875 \nQ 40.625 48.1875 47.75 41.5 \nQ 54.890625 34.8125 54.890625 23.390625 \nQ 54.890625 11.625 47.5625 5.09375 \nQ 40.234375 -1.421875 26.90625 -1.421875 \nQ 22.3125 -1.421875 17.546875 -0.640625 \nQ 12.796875 0.140625 7.71875 1.703125 \nL 7.71875 11.625 \nQ 12.109375 9.234375 16.796875 8.0625 \nQ 21.484375 6.890625 26.703125 6.890625 \nQ 35.15625 6.890625 40.078125 11.328125 \nQ 45.015625 15.765625 45.015625 23.390625 \nQ 45.015625 31 40.078125 35.4375 \nQ 35.15625 39.890625 26.703125 39.890625 \nQ 22.75 39.890625 18.8125 39.015625 \nQ 14.890625 38.140625 10.796875 36.28125 \nz\n\" id=\"DejaVuSans-53\"/>\n    </defs>\n    <g style=\"fill:#262626;\" transform=\"translate(387.7525 372.8775)scale(0.16 -0.16)\">\n     <use xlink:href=\"#DejaVuSans-84\"/>\n     <use x=\"60.818359\" xlink:href=\"#DejaVuSans-111\"/>\n     <use x=\"122\" xlink:href=\"#DejaVuSans-112\"/>\n     <use x=\"185.476562\" xlink:href=\"#DejaVuSans-105\"/>\n     <use x=\"213.259766\" xlink:href=\"#DejaVuSans-99\"/>\n     <use x=\"268.240234\" xlink:href=\"#DejaVuSans-32\"/>\n     <use x=\"300.027344\" xlink:href=\"#DejaVuSans-53\"/>\n    </g>\n   </g>\n  </g>\n  <g id=\"axes_7\">\n   <g clip-path=\"url(#pd7b77efa91)\">\n    <image height=\"146\" id=\"imagea73b519568\" transform=\"scale(1 -1)translate(0 -146)\" width=\"203\" x=\"7.2\" xlink:href=\"data:image/png;base64,\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\" y=\"-555.4375\"/>\n   </g>\n   <g id=\"text_7\">\n    <!-- Topic 6 -->\n    <defs>\n     <path d=\"M 33.015625 40.375 \nQ 26.375 40.375 22.484375 35.828125 \nQ 18.609375 31.296875 18.609375 23.390625 \nQ 18.609375 15.53125 22.484375 10.953125 \nQ 26.375 6.390625 33.015625 6.390625 \nQ 39.65625 6.390625 43.53125 10.953125 \nQ 47.40625 15.53125 47.40625 23.390625 \nQ 47.40625 31.296875 43.53125 35.828125 \nQ 39.65625 40.375 33.015625 40.375 \nz\nM 52.59375 71.296875 \nL 52.59375 62.3125 \nQ 48.875 64.0625 45.09375 64.984375 \nQ 41.3125 65.921875 37.59375 65.921875 \nQ 27.828125 65.921875 22.671875 59.328125 \nQ 17.53125 52.734375 16.796875 39.40625 \nQ 19.671875 43.65625 24.015625 45.921875 \nQ 28.375 48.1875 33.59375 48.1875 \nQ 44.578125 48.1875 50.953125 41.515625 \nQ 57.328125 34.859375 57.328125 23.390625 \nQ 57.328125 12.15625 50.6875 5.359375 \nQ 44.046875 -1.421875 33.015625 -1.421875 \nQ 20.359375 -1.421875 13.671875 8.265625 \nQ 6.984375 17.96875 6.984375 36.375 \nQ 6.984375 53.65625 15.1875 63.9375 \nQ 23.390625 74.21875 37.203125 74.21875 \nQ 40.921875 74.21875 44.703125 73.484375 \nQ 48.484375 72.75 52.59375 71.296875 \nz\n\" id=\"DejaVuSans-54\"/>\n    </defs>\n    <g style=\"fill:#262626;\" transform=\"translate(79.3575 549.6375)scale(0.16 -0.16)\">\n     <use xlink:href=\"#DejaVuSans-84\"/>\n     <use x=\"60.818359\" xlink:href=\"#DejaVuSans-111\"/>\n     <use x=\"122\" xlink:href=\"#DejaVuSans-112\"/>\n     <use x=\"185.476562\" xlink:href=\"#DejaVuSans-105\"/>\n     <use x=\"213.259766\" xlink:href=\"#DejaVuSans-99\"/>\n     <use x=\"268.240234\" xlink:href=\"#DejaVuSans-32\"/>\n     <use x=\"300.027344\" xlink:href=\"#DejaVuSans-54\"/>\n    </g>\n   </g>\n  </g>\n  <g id=\"axes_8\">\n   <g clip-path=\"url(#pc5b5c559fd)\">\n    <image height=\"146\" id=\"imagee2e1f96c5d\" transform=\"scale(1 -1)translate(0 -146)\" width=\"203\" x=\"315.595\" xlink:href=\"data:image/png;base64,\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\" y=\"-555.4375\"/>\n   </g>\n   <g id=\"text_8\">\n    <!-- Topic 7 -->\n    <defs>\n     <path d=\"M 8.203125 72.90625 \nL 55.078125 72.90625 \nL 55.078125 68.703125 \nL 28.609375 0 \nL 18.3125 0 \nL 43.21875 64.59375 \nL 8.203125 64.59375 \nz\n\" id=\"DejaVuSans-55\"/>\n    </defs>\n    <g style=\"fill:#262626;\" transform=\"translate(387.7525 549.6375)scale(0.16 -0.16)\">\n     <use xlink:href=\"#DejaVuSans-84\"/>\n     <use x=\"60.818359\" xlink:href=\"#DejaVuSans-111\"/>\n     <use x=\"122\" xlink:href=\"#DejaVuSans-112\"/>\n     <use x=\"185.476562\" xlink:href=\"#DejaVuSans-105\"/>\n     <use x=\"213.259766\" xlink:href=\"#DejaVuSans-99\"/>\n     <use x=\"268.240234\" xlink:href=\"#DejaVuSans-32\"/>\n     <use x=\"300.027344\" xlink:href=\"#DejaVuSans-55\"/>\n    </g>\n   </g>\n  </g>\n </g>\n <defs>\n  <clipPath id=\"p93f64b67a3\">\n   <rect height=\"145.8\" width=\"202.5\" x=\"7.2\" y=\"25.3575\"/>\n  </clipPath>\n  <clipPath id=\"p4ffc9f1b72\">\n   <rect height=\"145.8\" width=\"202.5\" x=\"315.595\" y=\"25.3575\"/>\n  </clipPath>\n  <clipPath id=\"p2c1b851736\">\n   <rect height=\"145.8\" width=\"202.5\" x=\"7.2\" y=\"202.1175\"/>\n  </clipPath>\n  <clipPath id=\"p5c8657c132\">\n   <rect height=\"145.8\" width=\"202.5\" x=\"315.595\" y=\"202.1175\"/>\n  </clipPath>\n  <clipPath id=\"p3f3df81612\">\n   <rect height=\"145.8\" width=\"202.5\" x=\"7.2\" y=\"378.8775\"/>\n  </clipPath>\n  <clipPath id=\"p72d708b406\">\n   <rect height=\"145.8\" width=\"202.5\" x=\"315.595\" y=\"378.8775\"/>\n  </clipPath>\n  <clipPath id=\"pd7b77efa91\">\n   <rect height=\"145.8\" width=\"202.5\" x=\"7.2\" y=\"555.6375\"/>\n  </clipPath>\n  <clipPath id=\"pc5b5c559fd\">\n   <rect height=\"145.8\" width=\"202.5\" x=\"315.595\" y=\"555.6375\"/>\n  </clipPath>\n </defs>\n</svg>\n"
          },
          "metadata": {
            "tags": []
          }
        }
      ]
    },
    {
      "cell_type": "markdown",
      "metadata": {
        "id": "DEH7VVYO6VHE",
        "colab_type": "text"
      },
      "source": [
        "### 6.4)- Visualization through Topics' Bar-Plot"
      ]
    },
    {
      "cell_type": "code",
      "metadata": {
        "id": "n7xdW1lb5jvf",
        "colab_type": "code",
        "colab": {
          "base_uri": "https://localhost:8080/",
          "height": 1000
        },
        "outputId": "48527771-e0d7-467b-caaa-6a9cdc550b05"
      },
      "source": [
        "fiz=plt.figure(figsize=(15,30))\n",
        "for i in range(8):\n",
        "    df=pd.DataFrame(lda_model.show_topic(i), columns=['term','prob']).set_index('term')\n",
        "    df=df.sort_values('prob')\n",
        "    \n",
        "    plt.subplot(4,2,i+1)\n",
        "    plt.title('topic '+str(i+1))\n",
        "    sns.barplot(x='prob', y=df.index, data=df, label='patents', palette='Reds_d')\n",
        "    plt.xlabel('probability')\n",
        "    \n",
        "\n",
        "plt.show()"
      ],
      "execution_count": 97,
      "outputs": [
        {
          "output_type": "display_data",
          "data": {
            "text/plain": [
              "<Figure size 1080x2160 with 8 Axes>"
            ],
            "image/svg+xml": "<?xml version=\"1.0\" encoding=\"utf-8\" standalone=\"no\"?>\n<!DOCTYPE svg PUBLIC \"-//W3C//DTD SVG 1.1//EN\"\n  \"http://www.w3.org/Graphics/SVG/1.1/DTD/svg11.dtd\">\n<!-- Created with matplotlib (https://matplotlib.org/) -->\n<svg height=\"1696.077813pt\" version=\"1.1\" viewBox=\"0 0 959.028497 1696.077813\" width=\"959.028497pt\" xmlns=\"http://www.w3.org/2000/svg\" xmlns:xlink=\"http://www.w3.org/1999/xlink\">\n <defs>\n  <style type=\"text/css\">\n*{stroke-linecap:butt;stroke-linejoin:round;}\n  </style>\n </defs>\n <g id=\"figure_1\">\n  <g id=\"patch_1\">\n   <path d=\"M 0 1696.077813 \nL 959.028497 1696.077813 \nL 959.028497 0 \nL 0 0 \nz\n\" style=\"fill:#ffffff;\"/>\n  </g>\n  <g id=\"axes_1\">\n   <g id=\"patch_2\">\n    <path d=\"M 103.463125 376.839864 \nL 483.91767 376.839864 \nL 483.91767 22.318125 \nL 103.463125 22.318125 \nz\n\" style=\"fill:#eaeaf2;\"/>\n   </g>\n   <g id=\"matplotlib.axis_1\">\n    <g id=\"xtick_1\">\n     <g id=\"line2d_1\">\n      <path clip-path=\"url(#p73f44e6a5d)\" d=\"M 103.463125 376.839864 \nL 103.463125 22.318125 \n\" style=\"fill:none;stroke:#ffffff;stroke-linecap:round;\"/>\n     </g>\n     <g id=\"text_1\">\n      <!-- 0.000 -->\n      <defs>\n       <path d=\"M 31.78125 66.40625 \nQ 24.171875 66.40625 20.328125 58.90625 \nQ 16.5 51.421875 16.5 36.375 \nQ 16.5 21.390625 20.328125 13.890625 \nQ 24.171875 6.390625 31.78125 6.390625 \nQ 39.453125 6.390625 43.28125 13.890625 \nQ 47.125 21.390625 47.125 36.375 \nQ 47.125 51.421875 43.28125 58.90625 \nQ 39.453125 66.40625 31.78125 66.40625 \nz\nM 31.78125 74.21875 \nQ 44.046875 74.21875 50.515625 64.515625 \nQ 56.984375 54.828125 56.984375 36.375 \nQ 56.984375 17.96875 50.515625 8.265625 \nQ 44.046875 -1.421875 31.78125 -1.421875 \nQ 19.53125 -1.421875 13.0625 8.265625 \nQ 6.59375 17.96875 6.59375 36.375 \nQ 6.59375 54.828125 13.0625 64.515625 \nQ 19.53125 74.21875 31.78125 74.21875 \nz\n\" id=\"DejaVuSans-48\"/>\n       <path d=\"M 10.6875 12.40625 \nL 21 12.40625 \nL 21 0 \nL 10.6875 0 \nz\n\" id=\"DejaVuSans-46\"/>\n      </defs>\n      <g style=\"fill:#262626;\" transform=\"translate(87.717656 394.698145)scale(0.11 -0.11)\">\n       <use xlink:href=\"#DejaVuSans-48\"/>\n       <use x=\"63.623047\" xlink:href=\"#DejaVuSans-46\"/>\n       <use x=\"95.410156\" xlink:href=\"#DejaVuSans-48\"/>\n       <use x=\"159.033203\" xlink:href=\"#DejaVuSans-48\"/>\n       <use x=\"222.65625\" xlink:href=\"#DejaVuSans-48\"/>\n      </g>\n     </g>\n    </g>\n    <g id=\"xtick_2\">\n     <g id=\"line2d_2\">\n      <path clip-path=\"url(#p73f44e6a5d)\" d=\"M 147.998692 376.839864 \nL 147.998692 22.318125 \n\" style=\"fill:none;stroke:#ffffff;stroke-linecap:round;\"/>\n     </g>\n     <g id=\"text_2\">\n      <!-- 0.001 -->\n      <defs>\n       <path d=\"M 12.40625 8.296875 \nL 28.515625 8.296875 \nL 28.515625 63.921875 \nL 10.984375 60.40625 \nL 10.984375 69.390625 \nL 28.421875 72.90625 \nL 38.28125 72.90625 \nL 38.28125 8.296875 \nL 54.390625 8.296875 \nL 54.390625 0 \nL 12.40625 0 \nz\n\" id=\"DejaVuSans-49\"/>\n      </defs>\n      <g style=\"fill:#262626;\" transform=\"translate(132.253223 394.698145)scale(0.11 -0.11)\">\n       <use xlink:href=\"#DejaVuSans-48\"/>\n       <use x=\"63.623047\" xlink:href=\"#DejaVuSans-46\"/>\n       <use x=\"95.410156\" xlink:href=\"#DejaVuSans-48\"/>\n       <use x=\"159.033203\" xlink:href=\"#DejaVuSans-48\"/>\n       <use x=\"222.65625\" xlink:href=\"#DejaVuSans-49\"/>\n      </g>\n     </g>\n    </g>\n    <g id=\"xtick_3\">\n     <g id=\"line2d_3\">\n      <path clip-path=\"url(#p73f44e6a5d)\" d=\"M 192.534259 376.839864 \nL 192.534259 22.318125 \n\" style=\"fill:none;stroke:#ffffff;stroke-linecap:round;\"/>\n     </g>\n     <g id=\"text_3\">\n      <!-- 0.002 -->\n      <defs>\n       <path d=\"M 19.1875 8.296875 \nL 53.609375 8.296875 \nL 53.609375 0 \nL 7.328125 0 \nL 7.328125 8.296875 \nQ 12.9375 14.109375 22.625 23.890625 \nQ 32.328125 33.6875 34.8125 36.53125 \nQ 39.546875 41.84375 41.421875 45.53125 \nQ 43.3125 49.21875 43.3125 52.78125 \nQ 43.3125 58.59375 39.234375 62.25 \nQ 35.15625 65.921875 28.609375 65.921875 \nQ 23.96875 65.921875 18.8125 64.3125 \nQ 13.671875 62.703125 7.8125 59.421875 \nL 7.8125 69.390625 \nQ 13.765625 71.78125 18.9375 73 \nQ 24.125 74.21875 28.421875 74.21875 \nQ 39.75 74.21875 46.484375 68.546875 \nQ 53.21875 62.890625 53.21875 53.421875 \nQ 53.21875 48.921875 51.53125 44.890625 \nQ 49.859375 40.875 45.40625 35.40625 \nQ 44.1875 33.984375 37.640625 27.21875 \nQ 31.109375 20.453125 19.1875 8.296875 \nz\n\" id=\"DejaVuSans-50\"/>\n      </defs>\n      <g style=\"fill:#262626;\" transform=\"translate(176.78879 394.698145)scale(0.11 -0.11)\">\n       <use xlink:href=\"#DejaVuSans-48\"/>\n       <use x=\"63.623047\" xlink:href=\"#DejaVuSans-46\"/>\n       <use x=\"95.410156\" xlink:href=\"#DejaVuSans-48\"/>\n       <use x=\"159.033203\" xlink:href=\"#DejaVuSans-48\"/>\n       <use x=\"222.65625\" xlink:href=\"#DejaVuSans-50\"/>\n      </g>\n     </g>\n    </g>\n    <g id=\"xtick_4\">\n     <g id=\"line2d_4\">\n      <path clip-path=\"url(#p73f44e6a5d)\" d=\"M 237.069826 376.839864 \nL 237.069826 22.318125 \n\" style=\"fill:none;stroke:#ffffff;stroke-linecap:round;\"/>\n     </g>\n     <g id=\"text_4\">\n      <!-- 0.003 -->\n      <defs>\n       <path d=\"M 40.578125 39.3125 \nQ 47.65625 37.796875 51.625 33 \nQ 55.609375 28.21875 55.609375 21.1875 \nQ 55.609375 10.40625 48.1875 4.484375 \nQ 40.765625 -1.421875 27.09375 -1.421875 \nQ 22.515625 -1.421875 17.65625 -0.515625 \nQ 12.796875 0.390625 7.625 2.203125 \nL 7.625 11.71875 \nQ 11.71875 9.328125 16.59375 8.109375 \nQ 21.484375 6.890625 26.8125 6.890625 \nQ 36.078125 6.890625 40.9375 10.546875 \nQ 45.796875 14.203125 45.796875 21.1875 \nQ 45.796875 27.640625 41.28125 31.265625 \nQ 36.765625 34.90625 28.71875 34.90625 \nL 20.21875 34.90625 \nL 20.21875 43.015625 \nL 29.109375 43.015625 \nQ 36.375 43.015625 40.234375 45.921875 \nQ 44.09375 48.828125 44.09375 54.296875 \nQ 44.09375 59.90625 40.109375 62.90625 \nQ 36.140625 65.921875 28.71875 65.921875 \nQ 24.65625 65.921875 20.015625 65.03125 \nQ 15.375 64.15625 9.8125 62.3125 \nL 9.8125 71.09375 \nQ 15.4375 72.65625 20.34375 73.4375 \nQ 25.25 74.21875 29.59375 74.21875 \nQ 40.828125 74.21875 47.359375 69.109375 \nQ 53.90625 64.015625 53.90625 55.328125 \nQ 53.90625 49.265625 50.4375 45.09375 \nQ 46.96875 40.921875 40.578125 39.3125 \nz\n\" id=\"DejaVuSans-51\"/>\n      </defs>\n      <g style=\"fill:#262626;\" transform=\"translate(221.324357 394.698145)scale(0.11 -0.11)\">\n       <use xlink:href=\"#DejaVuSans-48\"/>\n       <use x=\"63.623047\" xlink:href=\"#DejaVuSans-46\"/>\n       <use x=\"95.410156\" xlink:href=\"#DejaVuSans-48\"/>\n       <use x=\"159.033203\" xlink:href=\"#DejaVuSans-48\"/>\n       <use x=\"222.65625\" xlink:href=\"#DejaVuSans-51\"/>\n      </g>\n     </g>\n    </g>\n    <g id=\"xtick_5\">\n     <g id=\"line2d_5\">\n      <path clip-path=\"url(#p73f44e6a5d)\" d=\"M 281.605393 376.839864 \nL 281.605393 22.318125 \n\" style=\"fill:none;stroke:#ffffff;stroke-linecap:round;\"/>\n     </g>\n     <g id=\"text_5\">\n      <!-- 0.004 -->\n      <defs>\n       <path d=\"M 37.796875 64.3125 \nL 12.890625 25.390625 \nL 37.796875 25.390625 \nz\nM 35.203125 72.90625 \nL 47.609375 72.90625 \nL 47.609375 25.390625 \nL 58.015625 25.390625 \nL 58.015625 17.1875 \nL 47.609375 17.1875 \nL 47.609375 0 \nL 37.796875 0 \nL 37.796875 17.1875 \nL 4.890625 17.1875 \nL 4.890625 26.703125 \nz\n\" id=\"DejaVuSans-52\"/>\n      </defs>\n      <g style=\"fill:#262626;\" transform=\"translate(265.859925 394.698145)scale(0.11 -0.11)\">\n       <use xlink:href=\"#DejaVuSans-48\"/>\n       <use x=\"63.623047\" xlink:href=\"#DejaVuSans-46\"/>\n       <use x=\"95.410156\" xlink:href=\"#DejaVuSans-48\"/>\n       <use x=\"159.033203\" xlink:href=\"#DejaVuSans-48\"/>\n       <use x=\"222.65625\" xlink:href=\"#DejaVuSans-52\"/>\n      </g>\n     </g>\n    </g>\n    <g id=\"xtick_6\">\n     <g id=\"line2d_6\">\n      <path clip-path=\"url(#p73f44e6a5d)\" d=\"M 326.14096 376.839864 \nL 326.14096 22.318125 \n\" style=\"fill:none;stroke:#ffffff;stroke-linecap:round;\"/>\n     </g>\n     <g id=\"text_6\">\n      <!-- 0.005 -->\n      <defs>\n       <path d=\"M 10.796875 72.90625 \nL 49.515625 72.90625 \nL 49.515625 64.59375 \nL 19.828125 64.59375 \nL 19.828125 46.734375 \nQ 21.96875 47.46875 24.109375 47.828125 \nQ 26.265625 48.1875 28.421875 48.1875 \nQ 40.625 48.1875 47.75 41.5 \nQ 54.890625 34.8125 54.890625 23.390625 \nQ 54.890625 11.625 47.5625 5.09375 \nQ 40.234375 -1.421875 26.90625 -1.421875 \nQ 22.3125 -1.421875 17.546875 -0.640625 \nQ 12.796875 0.140625 7.71875 1.703125 \nL 7.71875 11.625 \nQ 12.109375 9.234375 16.796875 8.0625 \nQ 21.484375 6.890625 26.703125 6.890625 \nQ 35.15625 6.890625 40.078125 11.328125 \nQ 45.015625 15.765625 45.015625 23.390625 \nQ 45.015625 31 40.078125 35.4375 \nQ 35.15625 39.890625 26.703125 39.890625 \nQ 22.75 39.890625 18.8125 39.015625 \nQ 14.890625 38.140625 10.796875 36.28125 \nz\n\" id=\"DejaVuSans-53\"/>\n      </defs>\n      <g style=\"fill:#262626;\" transform=\"translate(310.395492 394.698145)scale(0.11 -0.11)\">\n       <use xlink:href=\"#DejaVuSans-48\"/>\n       <use x=\"63.623047\" xlink:href=\"#DejaVuSans-46\"/>\n       <use x=\"95.410156\" xlink:href=\"#DejaVuSans-48\"/>\n       <use x=\"159.033203\" xlink:href=\"#DejaVuSans-48\"/>\n       <use x=\"222.65625\" xlink:href=\"#DejaVuSans-53\"/>\n      </g>\n     </g>\n    </g>\n    <g id=\"xtick_7\">\n     <g id=\"line2d_7\">\n      <path clip-path=\"url(#p73f44e6a5d)\" d=\"M 370.676527 376.839864 \nL 370.676527 22.318125 \n\" style=\"fill:none;stroke:#ffffff;stroke-linecap:round;\"/>\n     </g>\n     <g id=\"text_7\">\n      <!-- 0.006 -->\n      <defs>\n       <path d=\"M 33.015625 40.375 \nQ 26.375 40.375 22.484375 35.828125 \nQ 18.609375 31.296875 18.609375 23.390625 \nQ 18.609375 15.53125 22.484375 10.953125 \nQ 26.375 6.390625 33.015625 6.390625 \nQ 39.65625 6.390625 43.53125 10.953125 \nQ 47.40625 15.53125 47.40625 23.390625 \nQ 47.40625 31.296875 43.53125 35.828125 \nQ 39.65625 40.375 33.015625 40.375 \nz\nM 52.59375 71.296875 \nL 52.59375 62.3125 \nQ 48.875 64.0625 45.09375 64.984375 \nQ 41.3125 65.921875 37.59375 65.921875 \nQ 27.828125 65.921875 22.671875 59.328125 \nQ 17.53125 52.734375 16.796875 39.40625 \nQ 19.671875 43.65625 24.015625 45.921875 \nQ 28.375 48.1875 33.59375 48.1875 \nQ 44.578125 48.1875 50.953125 41.515625 \nQ 57.328125 34.859375 57.328125 23.390625 \nQ 57.328125 12.15625 50.6875 5.359375 \nQ 44.046875 -1.421875 33.015625 -1.421875 \nQ 20.359375 -1.421875 13.671875 8.265625 \nQ 6.984375 17.96875 6.984375 36.375 \nQ 6.984375 53.65625 15.1875 63.9375 \nQ 23.390625 74.21875 37.203125 74.21875 \nQ 40.921875 74.21875 44.703125 73.484375 \nQ 48.484375 72.75 52.59375 71.296875 \nz\n\" id=\"DejaVuSans-54\"/>\n      </defs>\n      <g style=\"fill:#262626;\" transform=\"translate(354.931059 394.698145)scale(0.11 -0.11)\">\n       <use xlink:href=\"#DejaVuSans-48\"/>\n       <use x=\"63.623047\" xlink:href=\"#DejaVuSans-46\"/>\n       <use x=\"95.410156\" xlink:href=\"#DejaVuSans-48\"/>\n       <use x=\"159.033203\" xlink:href=\"#DejaVuSans-48\"/>\n       <use x=\"222.65625\" xlink:href=\"#DejaVuSans-54\"/>\n      </g>\n     </g>\n    </g>\n    <g id=\"xtick_8\">\n     <g id=\"line2d_8\">\n      <path clip-path=\"url(#p73f44e6a5d)\" d=\"M 415.212095 376.839864 \nL 415.212095 22.318125 \n\" style=\"fill:none;stroke:#ffffff;stroke-linecap:round;\"/>\n     </g>\n     <g id=\"text_8\">\n      <!-- 0.007 -->\n      <defs>\n       <path d=\"M 8.203125 72.90625 \nL 55.078125 72.90625 \nL 55.078125 68.703125 \nL 28.609375 0 \nL 18.3125 0 \nL 43.21875 64.59375 \nL 8.203125 64.59375 \nz\n\" id=\"DejaVuSans-55\"/>\n      </defs>\n      <g style=\"fill:#262626;\" transform=\"translate(399.466626 394.698145)scale(0.11 -0.11)\">\n       <use xlink:href=\"#DejaVuSans-48\"/>\n       <use x=\"63.623047\" xlink:href=\"#DejaVuSans-46\"/>\n       <use x=\"95.410156\" xlink:href=\"#DejaVuSans-48\"/>\n       <use x=\"159.033203\" xlink:href=\"#DejaVuSans-48\"/>\n       <use x=\"222.65625\" xlink:href=\"#DejaVuSans-55\"/>\n      </g>\n     </g>\n    </g>\n    <g id=\"xtick_9\">\n     <g id=\"line2d_9\">\n      <path clip-path=\"url(#p73f44e6a5d)\" d=\"M 459.747662 376.839864 \nL 459.747662 22.318125 \n\" style=\"fill:none;stroke:#ffffff;stroke-linecap:round;\"/>\n     </g>\n     <g id=\"text_9\">\n      <!-- 0.008 -->\n      <defs>\n       <path d=\"M 31.78125 34.625 \nQ 24.75 34.625 20.71875 30.859375 \nQ 16.703125 27.09375 16.703125 20.515625 \nQ 16.703125 13.921875 20.71875 10.15625 \nQ 24.75 6.390625 31.78125 6.390625 \nQ 38.8125 6.390625 42.859375 10.171875 \nQ 46.921875 13.96875 46.921875 20.515625 \nQ 46.921875 27.09375 42.890625 30.859375 \nQ 38.875 34.625 31.78125 34.625 \nz\nM 21.921875 38.8125 \nQ 15.578125 40.375 12.03125 44.71875 \nQ 8.5 49.078125 8.5 55.328125 \nQ 8.5 64.0625 14.71875 69.140625 \nQ 20.953125 74.21875 31.78125 74.21875 \nQ 42.671875 74.21875 48.875 69.140625 \nQ 55.078125 64.0625 55.078125 55.328125 \nQ 55.078125 49.078125 51.53125 44.71875 \nQ 48 40.375 41.703125 38.8125 \nQ 48.828125 37.15625 52.796875 32.3125 \nQ 56.78125 27.484375 56.78125 20.515625 \nQ 56.78125 9.90625 50.3125 4.234375 \nQ 43.84375 -1.421875 31.78125 -1.421875 \nQ 19.734375 -1.421875 13.25 4.234375 \nQ 6.78125 9.90625 6.78125 20.515625 \nQ 6.78125 27.484375 10.78125 32.3125 \nQ 14.796875 37.15625 21.921875 38.8125 \nz\nM 18.3125 54.390625 \nQ 18.3125 48.734375 21.84375 45.5625 \nQ 25.390625 42.390625 31.78125 42.390625 \nQ 38.140625 42.390625 41.71875 45.5625 \nQ 45.3125 48.734375 45.3125 54.390625 \nQ 45.3125 60.0625 41.71875 63.234375 \nQ 38.140625 66.40625 31.78125 66.40625 \nQ 25.390625 66.40625 21.84375 63.234375 \nQ 18.3125 60.0625 18.3125 54.390625 \nz\n\" id=\"DejaVuSans-56\"/>\n      </defs>\n      <g style=\"fill:#262626;\" transform=\"translate(444.002193 394.698145)scale(0.11 -0.11)\">\n       <use xlink:href=\"#DejaVuSans-48\"/>\n       <use x=\"63.623047\" xlink:href=\"#DejaVuSans-46\"/>\n       <use x=\"95.410156\" xlink:href=\"#DejaVuSans-48\"/>\n       <use x=\"159.033203\" xlink:href=\"#DejaVuSans-48\"/>\n       <use x=\"222.65625\" xlink:href=\"#DejaVuSans-56\"/>\n      </g>\n     </g>\n    </g>\n    <g id=\"text_10\">\n     <!-- probability -->\n     <defs>\n      <path d=\"M 18.109375 8.203125 \nL 18.109375 -20.796875 \nL 9.078125 -20.796875 \nL 9.078125 54.6875 \nL 18.109375 54.6875 \nL 18.109375 46.390625 \nQ 20.953125 51.265625 25.265625 53.625 \nQ 29.59375 56 35.59375 56 \nQ 45.5625 56 51.78125 48.09375 \nQ 58.015625 40.1875 58.015625 27.296875 \nQ 58.015625 14.40625 51.78125 6.484375 \nQ 45.5625 -1.421875 35.59375 -1.421875 \nQ 29.59375 -1.421875 25.265625 0.953125 \nQ 20.953125 3.328125 18.109375 8.203125 \nz\nM 48.6875 27.296875 \nQ 48.6875 37.203125 44.609375 42.84375 \nQ 40.53125 48.484375 33.40625 48.484375 \nQ 26.265625 48.484375 22.1875 42.84375 \nQ 18.109375 37.203125 18.109375 27.296875 \nQ 18.109375 17.390625 22.1875 11.75 \nQ 26.265625 6.109375 33.40625 6.109375 \nQ 40.53125 6.109375 44.609375 11.75 \nQ 48.6875 17.390625 48.6875 27.296875 \nz\n\" id=\"DejaVuSans-112\"/>\n      <path d=\"M 41.109375 46.296875 \nQ 39.59375 47.171875 37.8125 47.578125 \nQ 36.03125 48 33.890625 48 \nQ 26.265625 48 22.1875 43.046875 \nQ 18.109375 38.09375 18.109375 28.8125 \nL 18.109375 0 \nL 9.078125 0 \nL 9.078125 54.6875 \nL 18.109375 54.6875 \nL 18.109375 46.1875 \nQ 20.953125 51.171875 25.484375 53.578125 \nQ 30.03125 56 36.53125 56 \nQ 37.453125 56 38.578125 55.875 \nQ 39.703125 55.765625 41.0625 55.515625 \nz\n\" id=\"DejaVuSans-114\"/>\n      <path d=\"M 30.609375 48.390625 \nQ 23.390625 48.390625 19.1875 42.75 \nQ 14.984375 37.109375 14.984375 27.296875 \nQ 14.984375 17.484375 19.15625 11.84375 \nQ 23.34375 6.203125 30.609375 6.203125 \nQ 37.796875 6.203125 41.984375 11.859375 \nQ 46.1875 17.53125 46.1875 27.296875 \nQ 46.1875 37.015625 41.984375 42.703125 \nQ 37.796875 48.390625 30.609375 48.390625 \nz\nM 30.609375 56 \nQ 42.328125 56 49.015625 48.375 \nQ 55.71875 40.765625 55.71875 27.296875 \nQ 55.71875 13.875 49.015625 6.21875 \nQ 42.328125 -1.421875 30.609375 -1.421875 \nQ 18.84375 -1.421875 12.171875 6.21875 \nQ 5.515625 13.875 5.515625 27.296875 \nQ 5.515625 40.765625 12.171875 48.375 \nQ 18.84375 56 30.609375 56 \nz\n\" id=\"DejaVuSans-111\"/>\n      <path d=\"M 48.6875 27.296875 \nQ 48.6875 37.203125 44.609375 42.84375 \nQ 40.53125 48.484375 33.40625 48.484375 \nQ 26.265625 48.484375 22.1875 42.84375 \nQ 18.109375 37.203125 18.109375 27.296875 \nQ 18.109375 17.390625 22.1875 11.75 \nQ 26.265625 6.109375 33.40625 6.109375 \nQ 40.53125 6.109375 44.609375 11.75 \nQ 48.6875 17.390625 48.6875 27.296875 \nz\nM 18.109375 46.390625 \nQ 20.953125 51.265625 25.265625 53.625 \nQ 29.59375 56 35.59375 56 \nQ 45.5625 56 51.78125 48.09375 \nQ 58.015625 40.1875 58.015625 27.296875 \nQ 58.015625 14.40625 51.78125 6.484375 \nQ 45.5625 -1.421875 35.59375 -1.421875 \nQ 29.59375 -1.421875 25.265625 0.953125 \nQ 20.953125 3.328125 18.109375 8.203125 \nL 18.109375 0 \nL 9.078125 0 \nL 9.078125 75.984375 \nL 18.109375 75.984375 \nz\n\" id=\"DejaVuSans-98\"/>\n      <path d=\"M 34.28125 27.484375 \nQ 23.390625 27.484375 19.1875 25 \nQ 14.984375 22.515625 14.984375 16.5 \nQ 14.984375 11.71875 18.140625 8.90625 \nQ 21.296875 6.109375 26.703125 6.109375 \nQ 34.1875 6.109375 38.703125 11.40625 \nQ 43.21875 16.703125 43.21875 25.484375 \nL 43.21875 27.484375 \nz\nM 52.203125 31.203125 \nL 52.203125 0 \nL 43.21875 0 \nL 43.21875 8.296875 \nQ 40.140625 3.328125 35.546875 0.953125 \nQ 30.953125 -1.421875 24.3125 -1.421875 \nQ 15.921875 -1.421875 10.953125 3.296875 \nQ 6 8.015625 6 15.921875 \nQ 6 25.140625 12.171875 29.828125 \nQ 18.359375 34.515625 30.609375 34.515625 \nL 43.21875 34.515625 \nL 43.21875 35.40625 \nQ 43.21875 41.609375 39.140625 45 \nQ 35.0625 48.390625 27.6875 48.390625 \nQ 23 48.390625 18.546875 47.265625 \nQ 14.109375 46.140625 10.015625 43.890625 \nL 10.015625 52.203125 \nQ 14.9375 54.109375 19.578125 55.046875 \nQ 24.21875 56 28.609375 56 \nQ 40.484375 56 46.34375 49.84375 \nQ 52.203125 43.703125 52.203125 31.203125 \nz\n\" id=\"DejaVuSans-97\"/>\n      <path d=\"M 9.421875 54.6875 \nL 18.40625 54.6875 \nL 18.40625 0 \nL 9.421875 0 \nz\nM 9.421875 75.984375 \nL 18.40625 75.984375 \nL 18.40625 64.59375 \nL 9.421875 64.59375 \nz\n\" id=\"DejaVuSans-105\"/>\n      <path d=\"M 9.421875 75.984375 \nL 18.40625 75.984375 \nL 18.40625 0 \nL 9.421875 0 \nz\n\" id=\"DejaVuSans-108\"/>\n      <path d=\"M 18.3125 70.21875 \nL 18.3125 54.6875 \nL 36.8125 54.6875 \nL 36.8125 47.703125 \nL 18.3125 47.703125 \nL 18.3125 18.015625 \nQ 18.3125 11.328125 20.140625 9.421875 \nQ 21.96875 7.515625 27.59375 7.515625 \nL 36.8125 7.515625 \nL 36.8125 0 \nL 27.59375 0 \nQ 17.1875 0 13.234375 3.875 \nQ 9.28125 7.765625 9.28125 18.015625 \nL 9.28125 47.703125 \nL 2.6875 47.703125 \nL 2.6875 54.6875 \nL 9.28125 54.6875 \nL 9.28125 70.21875 \nz\n\" id=\"DejaVuSans-116\"/>\n      <path d=\"M 32.171875 -5.078125 \nQ 28.375 -14.84375 24.75 -17.8125 \nQ 21.140625 -20.796875 15.09375 -20.796875 \nL 7.90625 -20.796875 \nL 7.90625 -13.28125 \nL 13.1875 -13.28125 \nQ 16.890625 -13.28125 18.9375 -11.515625 \nQ 21 -9.765625 23.484375 -3.21875 \nL 25.09375 0.875 \nL 2.984375 54.6875 \nL 12.5 54.6875 \nL 29.59375 11.921875 \nL 46.6875 54.6875 \nL 56.203125 54.6875 \nz\n\" id=\"DejaVuSans-121\"/>\n     </defs>\n     <g style=\"fill:#262626;\" transform=\"translate(261.546335 410.103927)scale(0.12 -0.12)\">\n      <use xlink:href=\"#DejaVuSans-112\"/>\n      <use x=\"63.476562\" xlink:href=\"#DejaVuSans-114\"/>\n      <use x=\"104.558594\" xlink:href=\"#DejaVuSans-111\"/>\n      <use x=\"165.740234\" xlink:href=\"#DejaVuSans-98\"/>\n      <use x=\"229.216797\" xlink:href=\"#DejaVuSans-97\"/>\n      <use x=\"290.496094\" xlink:href=\"#DejaVuSans-98\"/>\n      <use x=\"353.972656\" xlink:href=\"#DejaVuSans-105\"/>\n      <use x=\"381.755859\" xlink:href=\"#DejaVuSans-108\"/>\n      <use x=\"409.539062\" xlink:href=\"#DejaVuSans-105\"/>\n      <use x=\"437.322266\" xlink:href=\"#DejaVuSans-116\"/>\n      <use x=\"476.53125\" xlink:href=\"#DejaVuSans-121\"/>\n     </g>\n    </g>\n   </g>\n   <g id=\"matplotlib.axis_2\">\n    <g id=\"ytick_1\">\n     <g id=\"text_11\">\n      <!-- xi -->\n      <defs>\n       <path d=\"M 54.890625 54.6875 \nL 35.109375 28.078125 \nL 55.90625 0 \nL 45.3125 0 \nL 29.390625 21.484375 \nL 13.484375 0 \nL 2.875 0 \nL 24.125 28.609375 \nL 4.6875 54.6875 \nL 15.28125 54.6875 \nL 29.78125 35.203125 \nL 44.28125 54.6875 \nz\n\" id=\"DejaVuSans-120\"/>\n      </defs>\n      <g style=\"fill:#262626;\" transform=\"translate(84.396563 44.223353)scale(0.11 -0.11)\">\n       <use xlink:href=\"#DejaVuSans-120\"/>\n       <use x=\"59.179688\" xlink:href=\"#DejaVuSans-105\"/>\n      </g>\n     </g>\n    </g>\n    <g id=\"ytick_2\">\n     <g id=\"text_12\">\n      <!-- stochastic -->\n      <defs>\n       <path d=\"M 44.28125 53.078125 \nL 44.28125 44.578125 \nQ 40.484375 46.53125 36.375 47.5 \nQ 32.28125 48.484375 27.875 48.484375 \nQ 21.1875 48.484375 17.84375 46.4375 \nQ 14.5 44.390625 14.5 40.28125 \nQ 14.5 37.15625 16.890625 35.375 \nQ 19.28125 33.59375 26.515625 31.984375 \nL 29.59375 31.296875 \nQ 39.15625 29.25 43.1875 25.515625 \nQ 47.21875 21.78125 47.21875 15.09375 \nQ 47.21875 7.46875 41.1875 3.015625 \nQ 35.15625 -1.421875 24.609375 -1.421875 \nQ 20.21875 -1.421875 15.453125 -0.5625 \nQ 10.6875 0.296875 5.421875 2 \nL 5.421875 11.28125 \nQ 10.40625 8.6875 15.234375 7.390625 \nQ 20.0625 6.109375 24.8125 6.109375 \nQ 31.15625 6.109375 34.5625 8.28125 \nQ 37.984375 10.453125 37.984375 14.40625 \nQ 37.984375 18.0625 35.515625 20.015625 \nQ 33.0625 21.96875 24.703125 23.78125 \nL 21.578125 24.515625 \nQ 13.234375 26.265625 9.515625 29.90625 \nQ 5.8125 33.546875 5.8125 39.890625 \nQ 5.8125 47.609375 11.28125 51.796875 \nQ 16.75 56 26.8125 56 \nQ 31.78125 56 36.171875 55.265625 \nQ 40.578125 54.546875 44.28125 53.078125 \nz\n\" id=\"DejaVuSans-115\"/>\n       <path d=\"M 48.78125 52.59375 \nL 48.78125 44.1875 \nQ 44.96875 46.296875 41.140625 47.34375 \nQ 37.3125 48.390625 33.40625 48.390625 \nQ 24.65625 48.390625 19.8125 42.84375 \nQ 14.984375 37.3125 14.984375 27.296875 \nQ 14.984375 17.28125 19.8125 11.734375 \nQ 24.65625 6.203125 33.40625 6.203125 \nQ 37.3125 6.203125 41.140625 7.25 \nQ 44.96875 8.296875 48.78125 10.40625 \nL 48.78125 2.09375 \nQ 45.015625 0.34375 40.984375 -0.53125 \nQ 36.96875 -1.421875 32.421875 -1.421875 \nQ 20.0625 -1.421875 12.78125 6.34375 \nQ 5.515625 14.109375 5.515625 27.296875 \nQ 5.515625 40.671875 12.859375 48.328125 \nQ 20.21875 56 33.015625 56 \nQ 37.15625 56 41.109375 55.140625 \nQ 45.0625 54.296875 48.78125 52.59375 \nz\n\" id=\"DejaVuSans-99\"/>\n       <path d=\"M 54.890625 33.015625 \nL 54.890625 0 \nL 45.90625 0 \nL 45.90625 32.71875 \nQ 45.90625 40.484375 42.875 44.328125 \nQ 39.84375 48.1875 33.796875 48.1875 \nQ 26.515625 48.1875 22.3125 43.546875 \nQ 18.109375 38.921875 18.109375 30.90625 \nL 18.109375 0 \nL 9.078125 0 \nL 9.078125 75.984375 \nL 18.109375 75.984375 \nL 18.109375 46.1875 \nQ 21.34375 51.125 25.703125 53.5625 \nQ 30.078125 56 35.796875 56 \nQ 45.21875 56 50.046875 50.171875 \nQ 54.890625 44.34375 54.890625 33.015625 \nz\n\" id=\"DejaVuSans-104\"/>\n      </defs>\n      <g style=\"fill:#262626;\" transform=\"translate(38.2825 79.675526)scale(0.11 -0.11)\">\n       <use xlink:href=\"#DejaVuSans-115\"/>\n       <use x=\"52.099609\" xlink:href=\"#DejaVuSans-116\"/>\n       <use x=\"91.308594\" xlink:href=\"#DejaVuSans-111\"/>\n       <use x=\"152.490234\" xlink:href=\"#DejaVuSans-99\"/>\n       <use x=\"207.470703\" xlink:href=\"#DejaVuSans-104\"/>\n       <use x=\"270.849609\" xlink:href=\"#DejaVuSans-97\"/>\n       <use x=\"332.128906\" xlink:href=\"#DejaVuSans-115\"/>\n       <use x=\"384.228516\" xlink:href=\"#DejaVuSans-116\"/>\n       <use x=\"423.4375\" xlink:href=\"#DejaVuSans-105\"/>\n       <use x=\"451.220703\" xlink:href=\"#DejaVuSans-99\"/>\n      </g>\n     </g>\n    </g>\n    <g id=\"ytick_3\">\n     <g id=\"text_13\">\n      <!-- update -->\n      <defs>\n       <path d=\"M 8.5 21.578125 \nL 8.5 54.6875 \nL 17.484375 54.6875 \nL 17.484375 21.921875 \nQ 17.484375 14.15625 20.5 10.265625 \nQ 23.53125 6.390625 29.59375 6.390625 \nQ 36.859375 6.390625 41.078125 11.03125 \nQ 45.3125 15.671875 45.3125 23.6875 \nL 45.3125 54.6875 \nL 54.296875 54.6875 \nL 54.296875 0 \nL 45.3125 0 \nL 45.3125 8.40625 \nQ 42.046875 3.421875 37.71875 1 \nQ 33.40625 -1.421875 27.6875 -1.421875 \nQ 18.265625 -1.421875 13.375 4.4375 \nQ 8.5 10.296875 8.5 21.578125 \nz\nM 31.109375 56 \nz\n\" id=\"DejaVuSans-117\"/>\n       <path d=\"M 45.40625 46.390625 \nL 45.40625 75.984375 \nL 54.390625 75.984375 \nL 54.390625 0 \nL 45.40625 0 \nL 45.40625 8.203125 \nQ 42.578125 3.328125 38.25 0.953125 \nQ 33.9375 -1.421875 27.875 -1.421875 \nQ 17.96875 -1.421875 11.734375 6.484375 \nQ 5.515625 14.40625 5.515625 27.296875 \nQ 5.515625 40.1875 11.734375 48.09375 \nQ 17.96875 56 27.875 56 \nQ 33.9375 56 38.25 53.625 \nQ 42.578125 51.265625 45.40625 46.390625 \nz\nM 14.796875 27.296875 \nQ 14.796875 17.390625 18.875 11.75 \nQ 22.953125 6.109375 30.078125 6.109375 \nQ 37.203125 6.109375 41.296875 11.75 \nQ 45.40625 17.390625 45.40625 27.296875 \nQ 45.40625 37.203125 41.296875 42.84375 \nQ 37.203125 48.484375 30.078125 48.484375 \nQ 22.953125 48.484375 18.875 42.84375 \nQ 14.796875 37.203125 14.796875 27.296875 \nz\n\" id=\"DejaVuSans-100\"/>\n       <path d=\"M 56.203125 29.59375 \nL 56.203125 25.203125 \nL 14.890625 25.203125 \nQ 15.484375 15.921875 20.484375 11.0625 \nQ 25.484375 6.203125 34.421875 6.203125 \nQ 39.59375 6.203125 44.453125 7.46875 \nQ 49.3125 8.734375 54.109375 11.28125 \nL 54.109375 2.78125 \nQ 49.265625 0.734375 44.1875 -0.34375 \nQ 39.109375 -1.421875 33.890625 -1.421875 \nQ 20.796875 -1.421875 13.15625 6.1875 \nQ 5.515625 13.8125 5.515625 26.8125 \nQ 5.515625 40.234375 12.765625 48.109375 \nQ 20.015625 56 32.328125 56 \nQ 43.359375 56 49.78125 48.890625 \nQ 56.203125 41.796875 56.203125 29.59375 \nz\nM 47.21875 32.234375 \nQ 47.125 39.59375 43.09375 43.984375 \nQ 39.0625 48.390625 32.421875 48.390625 \nQ 24.90625 48.390625 20.390625 44.140625 \nQ 15.875 39.890625 15.1875 32.171875 \nz\n\" id=\"DejaVuSans-101\"/>\n      </defs>\n      <g style=\"fill:#262626;\" transform=\"translate(55.203594 115.1277)scale(0.11 -0.11)\">\n       <use xlink:href=\"#DejaVuSans-117\"/>\n       <use x=\"63.378906\" xlink:href=\"#DejaVuSans-112\"/>\n       <use x=\"126.855469\" xlink:href=\"#DejaVuSans-100\"/>\n       <use x=\"190.332031\" xlink:href=\"#DejaVuSans-97\"/>\n       <use x=\"251.611328\" xlink:href=\"#DejaVuSans-116\"/>\n       <use x=\"290.820312\" xlink:href=\"#DejaVuSans-101\"/>\n      </g>\n     </g>\n    </g>\n    <g id=\"ytick_4\">\n     <g id=\"text_14\">\n      <!-- theorem -->\n      <defs>\n       <path d=\"M 52 44.1875 \nQ 55.375 50.25 60.0625 53.125 \nQ 64.75 56 71.09375 56 \nQ 79.640625 56 84.28125 50.015625 \nQ 88.921875 44.046875 88.921875 33.015625 \nL 88.921875 0 \nL 79.890625 0 \nL 79.890625 32.71875 \nQ 79.890625 40.578125 77.09375 44.375 \nQ 74.3125 48.1875 68.609375 48.1875 \nQ 61.625 48.1875 57.5625 43.546875 \nQ 53.515625 38.921875 53.515625 30.90625 \nL 53.515625 0 \nL 44.484375 0 \nL 44.484375 32.71875 \nQ 44.484375 40.625 41.703125 44.40625 \nQ 38.921875 48.1875 33.109375 48.1875 \nQ 26.21875 48.1875 22.15625 43.53125 \nQ 18.109375 38.875 18.109375 30.90625 \nL 18.109375 0 \nL 9.078125 0 \nL 9.078125 54.6875 \nL 18.109375 54.6875 \nL 18.109375 46.1875 \nQ 21.1875 51.21875 25.484375 53.609375 \nQ 29.78125 56 35.6875 56 \nQ 41.65625 56 45.828125 52.96875 \nQ 50 49.953125 52 44.1875 \nz\n\" id=\"DejaVuSans-109\"/>\n      </defs>\n      <g style=\"fill:#262626;\" transform=\"translate(47.17875 150.579874)scale(0.11 -0.11)\">\n       <use xlink:href=\"#DejaVuSans-116\"/>\n       <use x=\"39.208984\" xlink:href=\"#DejaVuSans-104\"/>\n       <use x=\"102.587891\" xlink:href=\"#DejaVuSans-101\"/>\n       <use x=\"164.111328\" xlink:href=\"#DejaVuSans-111\"/>\n       <use x=\"225.292969\" xlink:href=\"#DejaVuSans-114\"/>\n       <use x=\"266.375\" xlink:href=\"#DejaVuSans-101\"/>\n       <use x=\"327.898438\" xlink:href=\"#DejaVuSans-109\"/>\n      </g>\n     </g>\n    </g>\n    <g id=\"ytick_5\">\n     <g id=\"text_15\">\n      <!-- iteration -->\n      <defs>\n       <path d=\"M 54.890625 33.015625 \nL 54.890625 0 \nL 45.90625 0 \nL 45.90625 32.71875 \nQ 45.90625 40.484375 42.875 44.328125 \nQ 39.84375 48.1875 33.796875 48.1875 \nQ 26.515625 48.1875 22.3125 43.546875 \nQ 18.109375 38.921875 18.109375 30.90625 \nL 18.109375 0 \nL 9.078125 0 \nL 9.078125 54.6875 \nL 18.109375 54.6875 \nL 18.109375 46.1875 \nQ 21.34375 51.125 25.703125 53.5625 \nQ 30.078125 56 35.796875 56 \nQ 45.21875 56 50.046875 50.171875 \nQ 54.890625 44.34375 54.890625 33.015625 \nz\n\" id=\"DejaVuSans-110\"/>\n      </defs>\n      <g style=\"fill:#262626;\" transform=\"translate(47.493281 186.032048)scale(0.11 -0.11)\">\n       <use xlink:href=\"#DejaVuSans-105\"/>\n       <use x=\"27.783203\" xlink:href=\"#DejaVuSans-116\"/>\n       <use x=\"66.992188\" xlink:href=\"#DejaVuSans-101\"/>\n       <use x=\"128.515625\" xlink:href=\"#DejaVuSans-114\"/>\n       <use x=\"169.628906\" xlink:href=\"#DejaVuSans-97\"/>\n       <use x=\"230.908203\" xlink:href=\"#DejaVuSans-116\"/>\n       <use x=\"270.117188\" xlink:href=\"#DejaVuSans-105\"/>\n       <use x=\"297.900391\" xlink:href=\"#DejaVuSans-111\"/>\n       <use x=\"359.082031\" xlink:href=\"#DejaVuSans-110\"/>\n      </g>\n     </g>\n    </g>\n    <g id=\"ytick_6\">\n     <g id=\"text_16\">\n      <!-- loss -->\n      <g style=\"fill:#262626;\" transform=\"translate(72.715938 221.484222)scale(0.11 -0.11)\">\n       <use xlink:href=\"#DejaVuSans-108\"/>\n       <use x=\"27.783203\" xlink:href=\"#DejaVuSans-111\"/>\n       <use x=\"88.964844\" xlink:href=\"#DejaVuSans-115\"/>\n       <use x=\"141.064453\" xlink:href=\"#DejaVuSans-115\"/>\n      </g>\n     </g>\n    </g>\n    <g id=\"ytick_7\">\n     <g id=\"text_17\">\n      <!-- xt -->\n      <g style=\"fill:#262626;\" transform=\"translate(83.140156 256.936396)scale(0.11 -0.11)\">\n       <use xlink:href=\"#DejaVuSans-120\"/>\n       <use x=\"59.179688\" xlink:href=\"#DejaVuSans-116\"/>\n      </g>\n     </g>\n    </g>\n    <g id=\"ytick_8\">\n     <g id=\"text_18\">\n      <!-- convergence -->\n      <defs>\n       <path d=\"M 2.984375 54.6875 \nL 12.5 54.6875 \nL 29.59375 8.796875 \nL 46.6875 54.6875 \nL 56.203125 54.6875 \nL 35.6875 0 \nL 23.484375 0 \nz\n\" id=\"DejaVuSans-118\"/>\n       <path d=\"M 45.40625 27.984375 \nQ 45.40625 37.75 41.375 43.109375 \nQ 37.359375 48.484375 30.078125 48.484375 \nQ 22.859375 48.484375 18.828125 43.109375 \nQ 14.796875 37.75 14.796875 27.984375 \nQ 14.796875 18.265625 18.828125 12.890625 \nQ 22.859375 7.515625 30.078125 7.515625 \nQ 37.359375 7.515625 41.375 12.890625 \nQ 45.40625 18.265625 45.40625 27.984375 \nz\nM 54.390625 6.78125 \nQ 54.390625 -7.171875 48.1875 -13.984375 \nQ 42 -20.796875 29.203125 -20.796875 \nQ 24.46875 -20.796875 20.265625 -20.09375 \nQ 16.0625 -19.390625 12.109375 -17.921875 \nL 12.109375 -9.1875 \nQ 16.0625 -11.328125 19.921875 -12.34375 \nQ 23.78125 -13.375 27.78125 -13.375 \nQ 36.625 -13.375 41.015625 -8.765625 \nQ 45.40625 -4.15625 45.40625 5.171875 \nL 45.40625 9.625 \nQ 42.625 4.78125 38.28125 2.390625 \nQ 33.9375 0 27.875 0 \nQ 17.828125 0 11.671875 7.65625 \nQ 5.515625 15.328125 5.515625 27.984375 \nQ 5.515625 40.671875 11.671875 48.328125 \nQ 17.828125 56 27.875 56 \nQ 33.9375 56 38.28125 53.609375 \nQ 42.625 51.21875 45.40625 46.390625 \nL 45.40625 54.6875 \nL 54.390625 54.6875 \nz\n\" id=\"DejaVuSans-103\"/>\n      </defs>\n      <g style=\"fill:#262626;\" transform=\"translate(22.873906 292.38857)scale(0.11 -0.11)\">\n       <use xlink:href=\"#DejaVuSans-99\"/>\n       <use x=\"54.980469\" xlink:href=\"#DejaVuSans-111\"/>\n       <use x=\"116.162109\" xlink:href=\"#DejaVuSans-110\"/>\n       <use x=\"179.541016\" xlink:href=\"#DejaVuSans-118\"/>\n       <use x=\"238.720703\" xlink:href=\"#DejaVuSans-101\"/>\n       <use x=\"300.244141\" xlink:href=\"#DejaVuSans-114\"/>\n       <use x=\"341.341797\" xlink:href=\"#DejaVuSans-103\"/>\n       <use x=\"404.818359\" xlink:href=\"#DejaVuSans-101\"/>\n       <use x=\"466.341797\" xlink:href=\"#DejaVuSans-110\"/>\n       <use x=\"529.720703\" xlink:href=\"#DejaVuSans-99\"/>\n       <use x=\"584.701172\" xlink:href=\"#DejaVuSans-101\"/>\n      </g>\n     </g>\n    </g>\n    <g id=\"ytick_9\">\n     <g id=\"text_19\">\n      <!-- convex -->\n      <g style=\"fill:#262626;\" transform=\"translate(54.425 327.840744)scale(0.11 -0.11)\">\n       <use xlink:href=\"#DejaVuSans-99\"/>\n       <use x=\"54.980469\" xlink:href=\"#DejaVuSans-111\"/>\n       <use x=\"116.162109\" xlink:href=\"#DejaVuSans-110\"/>\n       <use x=\"179.541016\" xlink:href=\"#DejaVuSans-118\"/>\n       <use x=\"238.720703\" xlink:href=\"#DejaVuSans-101\"/>\n       <use x=\"300.228516\" xlink:href=\"#DejaVuSans-120\"/>\n      </g>\n     </g>\n    </g>\n    <g id=\"ytick_10\">\n     <g id=\"text_20\">\n      <!-- gradient -->\n      <g style=\"fill:#262626;\" transform=\"translate(47.625625 363.292918)scale(0.11 -0.11)\">\n       <use xlink:href=\"#DejaVuSans-103\"/>\n       <use x=\"63.476562\" xlink:href=\"#DejaVuSans-114\"/>\n       <use x=\"104.589844\" xlink:href=\"#DejaVuSans-97\"/>\n       <use x=\"165.869141\" xlink:href=\"#DejaVuSans-100\"/>\n       <use x=\"229.345703\" xlink:href=\"#DejaVuSans-105\"/>\n       <use x=\"257.128906\" xlink:href=\"#DejaVuSans-101\"/>\n       <use x=\"318.652344\" xlink:href=\"#DejaVuSans-110\"/>\n       <use x=\"382.03125\" xlink:href=\"#DejaVuSans-116\"/>\n      </g>\n     </g>\n    </g>\n    <g id=\"text_21\">\n     <!-- term -->\n     <g style=\"fill:#262626;\" transform=\"translate(16.378281 213.933057)rotate(-90)scale(0.12 -0.12)\">\n      <use xlink:href=\"#DejaVuSans-116\"/>\n      <use x=\"39.208984\" xlink:href=\"#DejaVuSans-101\"/>\n      <use x=\"100.732422\" xlink:href=\"#DejaVuSans-114\"/>\n      <use x=\"141.830078\" xlink:href=\"#DejaVuSans-109\"/>\n     </g>\n    </g>\n   </g>\n   <g id=\"patch_3\">\n    <path clip-path=\"url(#p73f44e6a5d)\" d=\"M 103.463125 25.863342 \nL 263.878369 25.863342 \nL 263.878369 54.225082 \nL 103.463125 54.225082 \nz\n\" style=\"fill:#4f3635;stroke:#ffffff;stroke-linejoin:miter;\"/>\n   </g>\n   <g id=\"patch_4\">\n    <path clip-path=\"url(#p73f44e6a5d)\" d=\"M 103.463125 61.315516 \nL 265.718796 61.315516 \nL 265.718796 89.677255 \nL 103.463125 89.677255 \nz\n\" style=\"fill:#6a3937;stroke:#ffffff;stroke-linejoin:miter;\"/>\n   </g>\n   <g id=\"patch_5\">\n    <path clip-path=\"url(#p73f44e6a5d)\" d=\"M 103.463125 96.76769 \nL 271.021856 96.76769 \nL 271.021856 125.129429 \nL 103.463125 125.129429 \nz\n\" style=\"fill:#863d39;stroke:#ffffff;stroke-linejoin:miter;\"/>\n   </g>\n   <g id=\"patch_6\">\n    <path clip-path=\"url(#p73f44e6a5d)\" d=\"M 103.463125 132.219864 \nL 323.774756 132.219864 \nL 323.774756 160.581603 \nL 103.463125 160.581603 \nz\n\" style=\"fill:#a2403b;stroke:#ffffff;stroke-linejoin:miter;\"/>\n   </g>\n   <g id=\"patch_7\">\n    <path clip-path=\"url(#p73f44e6a5d)\" d=\"M 103.463125 167.672038 \nL 327.209796 167.672038 \nL 327.209796 196.033777 \nL 103.463125 196.033777 \nz\n\" style=\"fill:#be433d;stroke:#ffffff;stroke-linejoin:miter;\"/>\n   </g>\n   <g id=\"patch_8\">\n    <path clip-path=\"url(#p73f44e6a5d)\" d=\"M 103.463125 203.124212 \nL 335.807165 203.124212 \nL 335.807165 231.485951 \nL 103.463125 231.485951 \nz\n\" style=\"fill:#ce4e46;stroke:#ffffff;stroke-linejoin:miter;\"/>\n   </g>\n   <g id=\"patch_9\">\n    <path clip-path=\"url(#p73f44e6a5d)\" d=\"M 103.463125 238.576386 \nL 363.4591 238.576386 \nL 363.4591 266.938125 \nL 103.463125 266.938125 \nz\n\" style=\"fill:#d45f55;stroke:#ffffff;stroke-linejoin:miter;\"/>\n   </g>\n   <g id=\"patch_10\">\n    <path clip-path=\"url(#p73f44e6a5d)\" d=\"M 103.463125 274.02856 \nL 384.270755 274.02856 \nL 384.270755 302.390299 \nL 103.463125 302.390299 \nz\n\" style=\"fill:#db7264;stroke:#ffffff;stroke-linejoin:miter;\"/>\n   </g>\n   <g id=\"patch_11\">\n    <path clip-path=\"url(#p73f44e6a5d)\" d=\"M 103.463125 309.480734 \nL 398.354201 309.480734 \nL 398.354201 337.842473 \nL 103.463125 337.842473 \nz\n\" style=\"fill:#e18473;stroke:#ffffff;stroke-linejoin:miter;\"/>\n   </g>\n   <g id=\"patch_12\">\n    <path clip-path=\"url(#p73f44e6a5d)\" d=\"M 103.463125 344.932908 \nL 465.800787 344.932908 \nL 465.800787 373.294647 \nL 103.463125 373.294647 \nz\n\" style=\"fill:#e79682;stroke:#ffffff;stroke-linejoin:miter;\"/>\n   </g>\n   <g id=\"line2d_10\">\n    <path clip-path=\"url(#p73f44e6a5d)\" style=\"fill:none;stroke:#424242;stroke-linecap:round;stroke-width:2.7;\"/>\n   </g>\n   <g id=\"line2d_11\">\n    <path clip-path=\"url(#p73f44e6a5d)\" style=\"fill:none;stroke:#424242;stroke-linecap:round;stroke-width:2.7;\"/>\n   </g>\n   <g id=\"line2d_12\">\n    <path clip-path=\"url(#p73f44e6a5d)\" style=\"fill:none;stroke:#424242;stroke-linecap:round;stroke-width:2.7;\"/>\n   </g>\n   <g id=\"line2d_13\">\n    <path clip-path=\"url(#p73f44e6a5d)\" style=\"fill:none;stroke:#424242;stroke-linecap:round;stroke-width:2.7;\"/>\n   </g>\n   <g id=\"line2d_14\">\n    <path clip-path=\"url(#p73f44e6a5d)\" style=\"fill:none;stroke:#424242;stroke-linecap:round;stroke-width:2.7;\"/>\n   </g>\n   <g id=\"line2d_15\">\n    <path clip-path=\"url(#p73f44e6a5d)\" style=\"fill:none;stroke:#424242;stroke-linecap:round;stroke-width:2.7;\"/>\n   </g>\n   <g id=\"line2d_16\">\n    <path clip-path=\"url(#p73f44e6a5d)\" style=\"fill:none;stroke:#424242;stroke-linecap:round;stroke-width:2.7;\"/>\n   </g>\n   <g id=\"line2d_17\">\n    <path clip-path=\"url(#p73f44e6a5d)\" style=\"fill:none;stroke:#424242;stroke-linecap:round;stroke-width:2.7;\"/>\n   </g>\n   <g id=\"line2d_18\">\n    <path clip-path=\"url(#p73f44e6a5d)\" style=\"fill:none;stroke:#424242;stroke-linecap:round;stroke-width:2.7;\"/>\n   </g>\n   <g id=\"line2d_19\">\n    <path clip-path=\"url(#p73f44e6a5d)\" style=\"fill:none;stroke:#424242;stroke-linecap:round;stroke-width:2.7;\"/>\n   </g>\n   <g id=\"patch_13\">\n    <path d=\"M 103.463125 376.839864 \nL 103.463125 22.318125 \n\" style=\"fill:none;stroke:#ffffff;stroke-linecap:square;stroke-linejoin:miter;stroke-width:1.25;\"/>\n   </g>\n   <g id=\"patch_14\">\n    <path d=\"M 483.91767 376.839864 \nL 483.91767 22.318125 \n\" style=\"fill:none;stroke:#ffffff;stroke-linecap:square;stroke-linejoin:miter;stroke-width:1.25;\"/>\n   </g>\n   <g id=\"patch_15\">\n    <path d=\"M 103.463125 376.839864 \nL 483.91767 376.839864 \n\" style=\"fill:none;stroke:#ffffff;stroke-linecap:square;stroke-linejoin:miter;stroke-width:1.25;\"/>\n   </g>\n   <g id=\"patch_16\">\n    <path d=\"M 103.463125 22.318125 \nL 483.91767 22.318125 \n\" style=\"fill:none;stroke:#ffffff;stroke-linecap:square;stroke-linejoin:miter;stroke-width:1.25;\"/>\n   </g>\n   <g id=\"text_22\">\n    <!-- topic 1 -->\n    <defs>\n     <path id=\"DejaVuSans-32\"/>\n    </defs>\n    <g style=\"fill:#262626;\" transform=\"translate(273.167585 16.318125)scale(0.12 -0.12)\">\n     <use xlink:href=\"#DejaVuSans-116\"/>\n     <use x=\"39.208984\" xlink:href=\"#DejaVuSans-111\"/>\n     <use x=\"100.390625\" xlink:href=\"#DejaVuSans-112\"/>\n     <use x=\"163.867188\" xlink:href=\"#DejaVuSans-105\"/>\n     <use x=\"191.650391\" xlink:href=\"#DejaVuSans-99\"/>\n     <use x=\"246.630859\" xlink:href=\"#DejaVuSans-32\"/>\n     <use x=\"278.417969\" xlink:href=\"#DejaVuSans-49\"/>\n    </g>\n   </g>\n  </g>\n  <g id=\"axes_2\">\n   <g id=\"patch_17\">\n    <path d=\"M 560.00858 376.839864 \nL 940.463125 376.839864 \nL 940.463125 22.318125 \nL 560.00858 22.318125 \nz\n\" style=\"fill:#eaeaf2;\"/>\n   </g>\n   <g id=\"matplotlib.axis_3\">\n    <g id=\"xtick_10\">\n     <g id=\"line2d_20\">\n      <path clip-path=\"url(#p29f52f8a98)\" d=\"M 560.00858 376.839864 \nL 560.00858 22.318125 \n\" style=\"fill:none;stroke:#ffffff;stroke-linecap:round;\"/>\n     </g>\n     <g id=\"text_23\">\n      <!-- 0.000 -->\n      <g style=\"fill:#262626;\" transform=\"translate(544.263111 394.698145)scale(0.11 -0.11)\">\n       <use xlink:href=\"#DejaVuSans-48\"/>\n       <use x=\"63.623047\" xlink:href=\"#DejaVuSans-46\"/>\n       <use x=\"95.410156\" xlink:href=\"#DejaVuSans-48\"/>\n       <use x=\"159.033203\" xlink:href=\"#DejaVuSans-48\"/>\n       <use x=\"222.65625\" xlink:href=\"#DejaVuSans-48\"/>\n      </g>\n     </g>\n    </g>\n    <g id=\"xtick_11\">\n     <g id=\"line2d_21\">\n      <path clip-path=\"url(#p29f52f8a98)\" d=\"M 616.931152 376.839864 \nL 616.931152 22.318125 \n\" style=\"fill:none;stroke:#ffffff;stroke-linecap:round;\"/>\n     </g>\n     <g id=\"text_24\">\n      <!-- 0.002 -->\n      <g style=\"fill:#262626;\" transform=\"translate(601.185683 394.698145)scale(0.11 -0.11)\">\n       <use xlink:href=\"#DejaVuSans-48\"/>\n       <use x=\"63.623047\" xlink:href=\"#DejaVuSans-46\"/>\n       <use x=\"95.410156\" xlink:href=\"#DejaVuSans-48\"/>\n       <use x=\"159.033203\" xlink:href=\"#DejaVuSans-48\"/>\n       <use x=\"222.65625\" xlink:href=\"#DejaVuSans-50\"/>\n      </g>\n     </g>\n    </g>\n    <g id=\"xtick_12\">\n     <g id=\"line2d_22\">\n      <path clip-path=\"url(#p29f52f8a98)\" d=\"M 673.853725 376.839864 \nL 673.853725 22.318125 \n\" style=\"fill:none;stroke:#ffffff;stroke-linecap:round;\"/>\n     </g>\n     <g id=\"text_25\">\n      <!-- 0.004 -->\n      <g style=\"fill:#262626;\" transform=\"translate(658.108256 394.698145)scale(0.11 -0.11)\">\n       <use xlink:href=\"#DejaVuSans-48\"/>\n       <use x=\"63.623047\" xlink:href=\"#DejaVuSans-46\"/>\n       <use x=\"95.410156\" xlink:href=\"#DejaVuSans-48\"/>\n       <use x=\"159.033203\" xlink:href=\"#DejaVuSans-48\"/>\n       <use x=\"222.65625\" xlink:href=\"#DejaVuSans-52\"/>\n      </g>\n     </g>\n    </g>\n    <g id=\"xtick_13\">\n     <g id=\"line2d_23\">\n      <path clip-path=\"url(#p29f52f8a98)\" d=\"M 730.776297 376.839864 \nL 730.776297 22.318125 \n\" style=\"fill:none;stroke:#ffffff;stroke-linecap:round;\"/>\n     </g>\n     <g id=\"text_26\">\n      <!-- 0.006 -->\n      <g style=\"fill:#262626;\" transform=\"translate(715.030828 394.698145)scale(0.11 -0.11)\">\n       <use xlink:href=\"#DejaVuSans-48\"/>\n       <use x=\"63.623047\" xlink:href=\"#DejaVuSans-46\"/>\n       <use x=\"95.410156\" xlink:href=\"#DejaVuSans-48\"/>\n       <use x=\"159.033203\" xlink:href=\"#DejaVuSans-48\"/>\n       <use x=\"222.65625\" xlink:href=\"#DejaVuSans-54\"/>\n      </g>\n     </g>\n    </g>\n    <g id=\"xtick_14\">\n     <g id=\"line2d_24\">\n      <path clip-path=\"url(#p29f52f8a98)\" d=\"M 787.69887 376.839864 \nL 787.69887 22.318125 \n\" style=\"fill:none;stroke:#ffffff;stroke-linecap:round;\"/>\n     </g>\n     <g id=\"text_27\">\n      <!-- 0.008 -->\n      <g style=\"fill:#262626;\" transform=\"translate(771.953401 394.698145)scale(0.11 -0.11)\">\n       <use xlink:href=\"#DejaVuSans-48\"/>\n       <use x=\"63.623047\" xlink:href=\"#DejaVuSans-46\"/>\n       <use x=\"95.410156\" xlink:href=\"#DejaVuSans-48\"/>\n       <use x=\"159.033203\" xlink:href=\"#DejaVuSans-48\"/>\n       <use x=\"222.65625\" xlink:href=\"#DejaVuSans-56\"/>\n      </g>\n     </g>\n    </g>\n    <g id=\"xtick_15\">\n     <g id=\"line2d_25\">\n      <path clip-path=\"url(#p29f52f8a98)\" d=\"M 844.621442 376.839864 \nL 844.621442 22.318125 \n\" style=\"fill:none;stroke:#ffffff;stroke-linecap:round;\"/>\n     </g>\n     <g id=\"text_28\">\n      <!-- 0.010 -->\n      <g style=\"fill:#262626;\" transform=\"translate(828.875973 394.698145)scale(0.11 -0.11)\">\n       <use xlink:href=\"#DejaVuSans-48\"/>\n       <use x=\"63.623047\" xlink:href=\"#DejaVuSans-46\"/>\n       <use x=\"95.410156\" xlink:href=\"#DejaVuSans-48\"/>\n       <use x=\"159.033203\" xlink:href=\"#DejaVuSans-49\"/>\n       <use x=\"222.65625\" xlink:href=\"#DejaVuSans-48\"/>\n      </g>\n     </g>\n    </g>\n    <g id=\"xtick_16\">\n     <g id=\"line2d_26\">\n      <path clip-path=\"url(#p29f52f8a98)\" d=\"M 901.544015 376.839864 \nL 901.544015 22.318125 \n\" style=\"fill:none;stroke:#ffffff;stroke-linecap:round;\"/>\n     </g>\n     <g id=\"text_29\">\n      <!-- 0.012 -->\n      <g style=\"fill:#262626;\" transform=\"translate(885.798546 394.698145)scale(0.11 -0.11)\">\n       <use xlink:href=\"#DejaVuSans-48\"/>\n       <use x=\"63.623047\" xlink:href=\"#DejaVuSans-46\"/>\n       <use x=\"95.410156\" xlink:href=\"#DejaVuSans-48\"/>\n       <use x=\"159.033203\" xlink:href=\"#DejaVuSans-49\"/>\n       <use x=\"222.65625\" xlink:href=\"#DejaVuSans-50\"/>\n      </g>\n     </g>\n    </g>\n    <g id=\"text_30\">\n     <!-- probability -->\n     <g style=\"fill:#262626;\" transform=\"translate(718.09179 410.103927)scale(0.12 -0.12)\">\n      <use xlink:href=\"#DejaVuSans-112\"/>\n      <use x=\"63.476562\" xlink:href=\"#DejaVuSans-114\"/>\n      <use x=\"104.558594\" xlink:href=\"#DejaVuSans-111\"/>\n      <use x=\"165.740234\" xlink:href=\"#DejaVuSans-98\"/>\n      <use x=\"229.216797\" xlink:href=\"#DejaVuSans-97\"/>\n      <use x=\"290.496094\" xlink:href=\"#DejaVuSans-98\"/>\n      <use x=\"353.972656\" xlink:href=\"#DejaVuSans-105\"/>\n      <use x=\"381.755859\" xlink:href=\"#DejaVuSans-108\"/>\n      <use x=\"409.539062\" xlink:href=\"#DejaVuSans-105\"/>\n      <use x=\"437.322266\" xlink:href=\"#DejaVuSans-116\"/>\n      <use x=\"476.53125\" xlink:href=\"#DejaVuSans-121\"/>\n     </g>\n    </g>\n   </g>\n   <g id=\"matplotlib.axis_4\">\n    <g id=\"ytick_11\">\n     <g id=\"text_31\">\n      <!-- st -->\n      <g style=\"fill:#262626;\" transform=\"translate(540.465923 44.223353)scale(0.11 -0.11)\">\n       <use xlink:href=\"#DejaVuSans-115\"/>\n       <use x=\"52.099609\" xlink:href=\"#DejaVuSans-116\"/>\n      </g>\n     </g>\n    </g>\n    <g id=\"ytick_12\">\n     <g id=\"text_32\">\n      <!-- decision -->\n      <g style=\"fill:#262626;\" transform=\"translate(505.164517 79.675526)scale(0.11 -0.11)\">\n       <use xlink:href=\"#DejaVuSans-100\"/>\n       <use x=\"63.476562\" xlink:href=\"#DejaVuSans-101\"/>\n       <use x=\"125\" xlink:href=\"#DejaVuSans-99\"/>\n       <use x=\"179.980469\" xlink:href=\"#DejaVuSans-105\"/>\n       <use x=\"207.763672\" xlink:href=\"#DejaVuSans-115\"/>\n       <use x=\"259.863281\" xlink:href=\"#DejaVuSans-105\"/>\n       <use x=\"287.646484\" xlink:href=\"#DejaVuSans-111\"/>\n       <use x=\"348.828125\" xlink:href=\"#DejaVuSans-110\"/>\n      </g>\n     </g>\n    </g>\n    <g id=\"ytick_13\">\n     <g id=\"text_33\">\n      <!-- dynamic -->\n      <g style=\"fill:#262626;\" transform=\"translate(503.48358 115.1277)scale(0.11 -0.11)\">\n       <use xlink:href=\"#DejaVuSans-100\"/>\n       <use x=\"63.476562\" xlink:href=\"#DejaVuSans-121\"/>\n       <use x=\"122.65625\" xlink:href=\"#DejaVuSans-110\"/>\n       <use x=\"186.035156\" xlink:href=\"#DejaVuSans-97\"/>\n       <use x=\"247.314453\" xlink:href=\"#DejaVuSans-109\"/>\n       <use x=\"344.726562\" xlink:href=\"#DejaVuSans-105\"/>\n       <use x=\"372.509766\" xlink:href=\"#DejaVuSans-99\"/>\n      </g>\n     </g>\n    </g>\n    <g id=\"ytick_14\">\n     <g id=\"text_34\">\n      <!-- trajectory -->\n      <defs>\n       <path d=\"M 9.421875 54.6875 \nL 18.40625 54.6875 \nL 18.40625 -0.984375 \nQ 18.40625 -11.421875 14.421875 -16.109375 \nQ 10.453125 -20.796875 1.609375 -20.796875 \nL -1.8125 -20.796875 \nL -1.8125 -13.1875 \nL 0.59375 -13.1875 \nQ 5.71875 -13.1875 7.5625 -10.8125 \nQ 9.421875 -8.453125 9.421875 -0.984375 \nz\nM 9.421875 75.984375 \nL 18.40625 75.984375 \nL 18.40625 64.59375 \nL 9.421875 64.59375 \nz\n\" id=\"DejaVuSans-106\"/>\n      </defs>\n      <g style=\"fill:#262626;\" transform=\"translate(496.984986 150.579874)scale(0.11 -0.11)\">\n       <use xlink:href=\"#DejaVuSans-116\"/>\n       <use x=\"39.208984\" xlink:href=\"#DejaVuSans-114\"/>\n       <use x=\"80.322266\" xlink:href=\"#DejaVuSans-97\"/>\n       <use x=\"141.601562\" xlink:href=\"#DejaVuSans-106\"/>\n       <use x=\"169.384766\" xlink:href=\"#DejaVuSans-101\"/>\n       <use x=\"230.908203\" xlink:href=\"#DejaVuSans-99\"/>\n       <use x=\"285.888672\" xlink:href=\"#DejaVuSans-116\"/>\n       <use x=\"325.097656\" xlink:href=\"#DejaVuSans-111\"/>\n       <use x=\"386.279297\" xlink:href=\"#DejaVuSans-114\"/>\n       <use x=\"427.392578\" xlink:href=\"#DejaVuSans-121\"/>\n      </g>\n     </g>\n    </g>\n    <g id=\"ytick_15\">\n     <g id=\"text_35\">\n      <!-- group -->\n      <g style=\"fill:#262626;\" transform=\"translate(518.321548 186.032048)scale(0.11 -0.11)\">\n       <use xlink:href=\"#DejaVuSans-103\"/>\n       <use x=\"63.476562\" xlink:href=\"#DejaVuSans-114\"/>\n       <use x=\"104.558594\" xlink:href=\"#DejaVuSans-111\"/>\n       <use x=\"165.740234\" xlink:href=\"#DejaVuSans-117\"/>\n       <use x=\"229.119141\" xlink:href=\"#DejaVuSans-112\"/>\n      </g>\n     </g>\n    </g>\n    <g id=\"ytick_16\">\n     <g id=\"text_36\">\n      <!-- agent -->\n      <g style=\"fill:#262626;\" transform=\"translate(518.73233 221.484222)scale(0.11 -0.11)\">\n       <use xlink:href=\"#DejaVuSans-97\"/>\n       <use x=\"61.279297\" xlink:href=\"#DejaVuSans-103\"/>\n       <use x=\"124.755859\" xlink:href=\"#DejaVuSans-101\"/>\n       <use x=\"186.279297\" xlink:href=\"#DejaVuSans-110\"/>\n       <use x=\"249.658203\" xlink:href=\"#DejaVuSans-116\"/>\n      </g>\n     </g>\n    </g>\n    <g id=\"ytick_17\">\n     <g id=\"text_37\">\n      <!-- control -->\n      <g style=\"fill:#262626;\" transform=\"translate(512.140923 256.936396)scale(0.11 -0.11)\">\n       <use xlink:href=\"#DejaVuSans-99\"/>\n       <use x=\"54.980469\" xlink:href=\"#DejaVuSans-111\"/>\n       <use x=\"116.162109\" xlink:href=\"#DejaVuSans-110\"/>\n       <use x=\"179.541016\" xlink:href=\"#DejaVuSans-116\"/>\n       <use x=\"218.75\" xlink:href=\"#DejaVuSans-114\"/>\n       <use x=\"259.832031\" xlink:href=\"#DejaVuSans-111\"/>\n       <use x=\"321.013672\" xlink:href=\"#DejaVuSans-108\"/>\n      </g>\n     </g>\n    </g>\n    <g id=\"ytick_18\">\n     <g id=\"text_38\">\n      <!-- reward -->\n      <defs>\n       <path d=\"M 4.203125 54.6875 \nL 13.1875 54.6875 \nL 24.421875 12.015625 \nL 35.59375 54.6875 \nL 46.1875 54.6875 \nL 57.421875 12.015625 \nL 68.609375 54.6875 \nL 77.59375 54.6875 \nL 63.28125 0 \nL 52.6875 0 \nL 40.921875 44.828125 \nL 29.109375 0 \nL 18.5 0 \nz\n\" id=\"DejaVuSans-119\"/>\n      </defs>\n      <g style=\"fill:#262626;\" transform=\"translate(511.98108 292.38857)scale(0.11 -0.11)\">\n       <use xlink:href=\"#DejaVuSans-114\"/>\n       <use x=\"41.082031\" xlink:href=\"#DejaVuSans-101\"/>\n       <use x=\"102.605469\" xlink:href=\"#DejaVuSans-119\"/>\n       <use x=\"184.392578\" xlink:href=\"#DejaVuSans-97\"/>\n       <use x=\"245.671875\" xlink:href=\"#DejaVuSans-114\"/>\n       <use x=\"286.769531\" xlink:href=\"#DejaVuSans-100\"/>\n      </g>\n     </g>\n    </g>\n    <g id=\"ytick_19\">\n     <g id=\"text_39\">\n      <!-- action -->\n      <g style=\"fill:#262626;\" transform=\"translate(516.649205 327.840744)scale(0.11 -0.11)\">\n       <use xlink:href=\"#DejaVuSans-97\"/>\n       <use x=\"61.279297\" xlink:href=\"#DejaVuSans-99\"/>\n       <use x=\"116.259766\" xlink:href=\"#DejaVuSans-116\"/>\n       <use x=\"155.46875\" xlink:href=\"#DejaVuSans-105\"/>\n       <use x=\"183.251953\" xlink:href=\"#DejaVuSans-111\"/>\n       <use x=\"244.433594\" xlink:href=\"#DejaVuSans-110\"/>\n      </g>\n     </g>\n    </g>\n    <g id=\"ytick_20\">\n     <g id=\"text_40\">\n      <!-- policy -->\n      <g style=\"fill:#262626;\" transform=\"translate(518.123892 363.292918)scale(0.11 -0.11)\">\n       <use xlink:href=\"#DejaVuSans-112\"/>\n       <use x=\"63.476562\" xlink:href=\"#DejaVuSans-111\"/>\n       <use x=\"124.658203\" xlink:href=\"#DejaVuSans-108\"/>\n       <use x=\"152.441406\" xlink:href=\"#DejaVuSans-105\"/>\n       <use x=\"180.224609\" xlink:href=\"#DejaVuSans-99\"/>\n       <use x=\"235.205078\" xlink:href=\"#DejaVuSans-121\"/>\n      </g>\n     </g>\n    </g>\n    <g id=\"text_41\">\n     <!-- term -->\n     <g style=\"fill:#262626;\" transform=\"translate(490.489361 213.933057)rotate(-90)scale(0.12 -0.12)\">\n      <use xlink:href=\"#DejaVuSans-116\"/>\n      <use x=\"39.208984\" xlink:href=\"#DejaVuSans-101\"/>\n      <use x=\"100.732422\" xlink:href=\"#DejaVuSans-114\"/>\n      <use x=\"141.830078\" xlink:href=\"#DejaVuSans-109\"/>\n     </g>\n    </g>\n   </g>\n   <g id=\"patch_18\">\n    <path clip-path=\"url(#p29f52f8a98)\" d=\"M 560.00858 25.863342 \nL 664.407261 25.863342 \nL 664.407261 54.225082 \nL 560.00858 54.225082 \nz\n\" style=\"fill:#4f3635;stroke:#ffffff;stroke-linejoin:miter;\"/>\n   </g>\n   <g id=\"patch_19\">\n    <path clip-path=\"url(#p29f52f8a98)\" d=\"M 560.00858 61.315516 \nL 665.100562 61.315516 \nL 665.100562 89.677255 \nL 560.00858 89.677255 \nz\n\" style=\"fill:#6a3937;stroke:#ffffff;stroke-linejoin:miter;\"/>\n   </g>\n   <g id=\"patch_20\">\n    <path clip-path=\"url(#p29f52f8a98)\" d=\"M 560.00858 96.76769 \nL 666.294123 96.76769 \nL 666.294123 125.129429 \nL 560.00858 125.129429 \nz\n\" style=\"fill:#863d39;stroke:#ffffff;stroke-linejoin:miter;\"/>\n   </g>\n   <g id=\"patch_21\">\n    <path clip-path=\"url(#p29f52f8a98)\" d=\"M 560.00858 132.219864 \nL 667.116935 132.219864 \nL 667.116935 160.581603 \nL 560.00858 160.581603 \nz\n\" style=\"fill:#a2403b;stroke:#ffffff;stroke-linejoin:miter;\"/>\n   </g>\n   <g id=\"patch_22\">\n    <path clip-path=\"url(#p29f52f8a98)\" d=\"M 560.00858 167.672038 \nL 671.964615 167.672038 \nL 671.964615 196.033777 \nL 560.00858 196.033777 \nz\n\" style=\"fill:#be433d;stroke:#ffffff;stroke-linejoin:miter;\"/>\n   </g>\n   <g id=\"patch_23\">\n    <path clip-path=\"url(#p29f52f8a98)\" d=\"M 560.00858 203.124212 \nL 682.834325 203.124212 \nL 682.834325 231.485951 \nL 560.00858 231.485951 \nz\n\" style=\"fill:#ce4e46;stroke:#ffffff;stroke-linejoin:miter;\"/>\n   </g>\n   <g id=\"patch_24\">\n    <path clip-path=\"url(#p29f52f8a98)\" d=\"M 560.00858 238.576386 \nL 690.568352 238.576386 \nL 690.568352 266.938125 \nL 560.00858 266.938125 \nz\n\" style=\"fill:#d45f55;stroke:#ffffff;stroke-linejoin:miter;\"/>\n   </g>\n   <g id=\"patch_25\">\n    <path clip-path=\"url(#p29f52f8a98)\" d=\"M 560.00858 274.02856 \nL 758.688743 274.02856 \nL 758.688743 302.390299 \nL 560.00858 302.390299 \nz\n\" style=\"fill:#db7264;stroke:#ffffff;stroke-linejoin:miter;\"/>\n   </g>\n   <g id=\"patch_26\">\n    <path clip-path=\"url(#p29f52f8a98)\" d=\"M 560.00858 309.480734 \nL 811.120888 309.480734 \nL 811.120888 337.842473 \nL 560.00858 337.842473 \nz\n\" style=\"fill:#e18473;stroke:#ffffff;stroke-linejoin:miter;\"/>\n   </g>\n   <g id=\"patch_27\">\n    <path clip-path=\"url(#p29f52f8a98)\" d=\"M 560.00858 344.932908 \nL 922.346242 344.932908 \nL 922.346242 373.294647 \nL 560.00858 373.294647 \nz\n\" style=\"fill:#e79682;stroke:#ffffff;stroke-linejoin:miter;\"/>\n   </g>\n   <g id=\"line2d_27\">\n    <path clip-path=\"url(#p29f52f8a98)\" style=\"fill:none;stroke:#424242;stroke-linecap:round;stroke-width:2.7;\"/>\n   </g>\n   <g id=\"line2d_28\">\n    <path clip-path=\"url(#p29f52f8a98)\" style=\"fill:none;stroke:#424242;stroke-linecap:round;stroke-width:2.7;\"/>\n   </g>\n   <g id=\"line2d_29\">\n    <path clip-path=\"url(#p29f52f8a98)\" style=\"fill:none;stroke:#424242;stroke-linecap:round;stroke-width:2.7;\"/>\n   </g>\n   <g id=\"line2d_30\">\n    <path clip-path=\"url(#p29f52f8a98)\" style=\"fill:none;stroke:#424242;stroke-linecap:round;stroke-width:2.7;\"/>\n   </g>\n   <g id=\"line2d_31\">\n    <path clip-path=\"url(#p29f52f8a98)\" style=\"fill:none;stroke:#424242;stroke-linecap:round;stroke-width:2.7;\"/>\n   </g>\n   <g id=\"line2d_32\">\n    <path clip-path=\"url(#p29f52f8a98)\" style=\"fill:none;stroke:#424242;stroke-linecap:round;stroke-width:2.7;\"/>\n   </g>\n   <g id=\"line2d_33\">\n    <path clip-path=\"url(#p29f52f8a98)\" style=\"fill:none;stroke:#424242;stroke-linecap:round;stroke-width:2.7;\"/>\n   </g>\n   <g id=\"line2d_34\">\n    <path clip-path=\"url(#p29f52f8a98)\" style=\"fill:none;stroke:#424242;stroke-linecap:round;stroke-width:2.7;\"/>\n   </g>\n   <g id=\"line2d_35\">\n    <path clip-path=\"url(#p29f52f8a98)\" style=\"fill:none;stroke:#424242;stroke-linecap:round;stroke-width:2.7;\"/>\n   </g>\n   <g id=\"line2d_36\">\n    <path clip-path=\"url(#p29f52f8a98)\" style=\"fill:none;stroke:#424242;stroke-linecap:round;stroke-width:2.7;\"/>\n   </g>\n   <g id=\"patch_28\">\n    <path d=\"M 560.00858 376.839864 \nL 560.00858 22.318125 \n\" style=\"fill:none;stroke:#ffffff;stroke-linecap:square;stroke-linejoin:miter;stroke-width:1.25;\"/>\n   </g>\n   <g id=\"patch_29\">\n    <path d=\"M 940.463125 376.839864 \nL 940.463125 22.318125 \n\" style=\"fill:none;stroke:#ffffff;stroke-linecap:square;stroke-linejoin:miter;stroke-width:1.25;\"/>\n   </g>\n   <g id=\"patch_30\">\n    <path d=\"M 560.00858 376.839864 \nL 940.463125 376.839864 \n\" style=\"fill:none;stroke:#ffffff;stroke-linecap:square;stroke-linejoin:miter;stroke-width:1.25;\"/>\n   </g>\n   <g id=\"patch_31\">\n    <path d=\"M 560.00858 22.318125 \nL 940.463125 22.318125 \n\" style=\"fill:none;stroke:#ffffff;stroke-linecap:square;stroke-linejoin:miter;stroke-width:1.25;\"/>\n   </g>\n   <g id=\"text_42\">\n    <!-- topic 2 -->\n    <g style=\"fill:#262626;\" transform=\"translate(729.71304 16.318125)scale(0.12 -0.12)\">\n     <use xlink:href=\"#DejaVuSans-116\"/>\n     <use x=\"39.208984\" xlink:href=\"#DejaVuSans-111\"/>\n     <use x=\"100.390625\" xlink:href=\"#DejaVuSans-112\"/>\n     <use x=\"163.867188\" xlink:href=\"#DejaVuSans-105\"/>\n     <use x=\"191.650391\" xlink:href=\"#DejaVuSans-99\"/>\n     <use x=\"246.630859\" xlink:href=\"#DejaVuSans-32\"/>\n     <use x=\"278.417969\" xlink:href=\"#DejaVuSans-50\"/>\n    </g>\n   </g>\n  </g>\n  <g id=\"axes_3\">\n   <g id=\"patch_32\">\n    <path d=\"M 103.463125 802.265951 \nL 483.91767 802.265951 \nL 483.91767 447.744212 \nL 103.463125 447.744212 \nz\n\" style=\"fill:#eaeaf2;\"/>\n   </g>\n   <g id=\"matplotlib.axis_5\">\n    <g id=\"xtick_17\">\n     <g id=\"line2d_37\">\n      <path clip-path=\"url(#pa9de59e7c1)\" d=\"M 103.463125 802.265951 \nL 103.463125 447.744212 \n\" style=\"fill:none;stroke:#ffffff;stroke-linecap:round;\"/>\n     </g>\n     <g id=\"text_43\">\n      <!-- 0.000 -->\n      <g style=\"fill:#262626;\" transform=\"translate(87.717656 820.124232)scale(0.11 -0.11)\">\n       <use xlink:href=\"#DejaVuSans-48\"/>\n       <use x=\"63.623047\" xlink:href=\"#DejaVuSans-46\"/>\n       <use x=\"95.410156\" xlink:href=\"#DejaVuSans-48\"/>\n       <use x=\"159.033203\" xlink:href=\"#DejaVuSans-48\"/>\n       <use x=\"222.65625\" xlink:href=\"#DejaVuSans-48\"/>\n      </g>\n     </g>\n    </g>\n    <g id=\"xtick_18\">\n     <g id=\"line2d_38\">\n      <path clip-path=\"url(#pa9de59e7c1)\" d=\"M 152.254732 802.265951 \nL 152.254732 447.744212 \n\" style=\"fill:none;stroke:#ffffff;stroke-linecap:round;\"/>\n     </g>\n     <g id=\"text_44\">\n      <!-- 0.001 -->\n      <g style=\"fill:#262626;\" transform=\"translate(136.509263 820.124232)scale(0.11 -0.11)\">\n       <use xlink:href=\"#DejaVuSans-48\"/>\n       <use x=\"63.623047\" xlink:href=\"#DejaVuSans-46\"/>\n       <use x=\"95.410156\" xlink:href=\"#DejaVuSans-48\"/>\n       <use x=\"159.033203\" xlink:href=\"#DejaVuSans-48\"/>\n       <use x=\"222.65625\" xlink:href=\"#DejaVuSans-49\"/>\n      </g>\n     </g>\n    </g>\n    <g id=\"xtick_19\">\n     <g id=\"line2d_39\">\n      <path clip-path=\"url(#pa9de59e7c1)\" d=\"M 201.046339 802.265951 \nL 201.046339 447.744212 \n\" style=\"fill:none;stroke:#ffffff;stroke-linecap:round;\"/>\n     </g>\n     <g id=\"text_45\">\n      <!-- 0.002 -->\n      <g style=\"fill:#262626;\" transform=\"translate(185.30087 820.124232)scale(0.11 -0.11)\">\n       <use xlink:href=\"#DejaVuSans-48\"/>\n       <use x=\"63.623047\" xlink:href=\"#DejaVuSans-46\"/>\n       <use x=\"95.410156\" xlink:href=\"#DejaVuSans-48\"/>\n       <use x=\"159.033203\" xlink:href=\"#DejaVuSans-48\"/>\n       <use x=\"222.65625\" xlink:href=\"#DejaVuSans-50\"/>\n      </g>\n     </g>\n    </g>\n    <g id=\"xtick_20\">\n     <g id=\"line2d_40\">\n      <path clip-path=\"url(#pa9de59e7c1)\" d=\"M 249.837946 802.265951 \nL 249.837946 447.744212 \n\" style=\"fill:none;stroke:#ffffff;stroke-linecap:round;\"/>\n     </g>\n     <g id=\"text_46\">\n      <!-- 0.003 -->\n      <g style=\"fill:#262626;\" transform=\"translate(234.092477 820.124232)scale(0.11 -0.11)\">\n       <use xlink:href=\"#DejaVuSans-48\"/>\n       <use x=\"63.623047\" xlink:href=\"#DejaVuSans-46\"/>\n       <use x=\"95.410156\" xlink:href=\"#DejaVuSans-48\"/>\n       <use x=\"159.033203\" xlink:href=\"#DejaVuSans-48\"/>\n       <use x=\"222.65625\" xlink:href=\"#DejaVuSans-51\"/>\n      </g>\n     </g>\n    </g>\n    <g id=\"xtick_21\">\n     <g id=\"line2d_41\">\n      <path clip-path=\"url(#pa9de59e7c1)\" d=\"M 298.629553 802.265951 \nL 298.629553 447.744212 \n\" style=\"fill:none;stroke:#ffffff;stroke-linecap:round;\"/>\n     </g>\n     <g id=\"text_47\">\n      <!-- 0.004 -->\n      <g style=\"fill:#262626;\" transform=\"translate(282.884085 820.124232)scale(0.11 -0.11)\">\n       <use xlink:href=\"#DejaVuSans-48\"/>\n       <use x=\"63.623047\" xlink:href=\"#DejaVuSans-46\"/>\n       <use x=\"95.410156\" xlink:href=\"#DejaVuSans-48\"/>\n       <use x=\"159.033203\" xlink:href=\"#DejaVuSans-48\"/>\n       <use x=\"222.65625\" xlink:href=\"#DejaVuSans-52\"/>\n      </g>\n     </g>\n    </g>\n    <g id=\"xtick_22\">\n     <g id=\"line2d_42\">\n      <path clip-path=\"url(#pa9de59e7c1)\" d=\"M 347.42116 802.265951 \nL 347.42116 447.744212 \n\" style=\"fill:none;stroke:#ffffff;stroke-linecap:round;\"/>\n     </g>\n     <g id=\"text_48\">\n      <!-- 0.005 -->\n      <g style=\"fill:#262626;\" transform=\"translate(331.675692 820.124232)scale(0.11 -0.11)\">\n       <use xlink:href=\"#DejaVuSans-48\"/>\n       <use x=\"63.623047\" xlink:href=\"#DejaVuSans-46\"/>\n       <use x=\"95.410156\" xlink:href=\"#DejaVuSans-48\"/>\n       <use x=\"159.033203\" xlink:href=\"#DejaVuSans-48\"/>\n       <use x=\"222.65625\" xlink:href=\"#DejaVuSans-53\"/>\n      </g>\n     </g>\n    </g>\n    <g id=\"xtick_23\">\n     <g id=\"line2d_43\">\n      <path clip-path=\"url(#pa9de59e7c1)\" d=\"M 396.212767 802.265951 \nL 396.212767 447.744212 \n\" style=\"fill:none;stroke:#ffffff;stroke-linecap:round;\"/>\n     </g>\n     <g id=\"text_49\">\n      <!-- 0.006 -->\n      <g style=\"fill:#262626;\" transform=\"translate(380.467299 820.124232)scale(0.11 -0.11)\">\n       <use xlink:href=\"#DejaVuSans-48\"/>\n       <use x=\"63.623047\" xlink:href=\"#DejaVuSans-46\"/>\n       <use x=\"95.410156\" xlink:href=\"#DejaVuSans-48\"/>\n       <use x=\"159.033203\" xlink:href=\"#DejaVuSans-48\"/>\n       <use x=\"222.65625\" xlink:href=\"#DejaVuSans-54\"/>\n      </g>\n     </g>\n    </g>\n    <g id=\"xtick_24\">\n     <g id=\"line2d_44\">\n      <path clip-path=\"url(#pa9de59e7c1)\" d=\"M 445.004375 802.265951 \nL 445.004375 447.744212 \n\" style=\"fill:none;stroke:#ffffff;stroke-linecap:round;\"/>\n     </g>\n     <g id=\"text_50\">\n      <!-- 0.007 -->\n      <g style=\"fill:#262626;\" transform=\"translate(429.258906 820.124232)scale(0.11 -0.11)\">\n       <use xlink:href=\"#DejaVuSans-48\"/>\n       <use x=\"63.623047\" xlink:href=\"#DejaVuSans-46\"/>\n       <use x=\"95.410156\" xlink:href=\"#DejaVuSans-48\"/>\n       <use x=\"159.033203\" xlink:href=\"#DejaVuSans-48\"/>\n       <use x=\"222.65625\" xlink:href=\"#DejaVuSans-55\"/>\n      </g>\n     </g>\n    </g>\n    <g id=\"text_51\">\n     <!-- probability -->\n     <g style=\"fill:#262626;\" transform=\"translate(261.546335 835.530014)scale(0.12 -0.12)\">\n      <use xlink:href=\"#DejaVuSans-112\"/>\n      <use x=\"63.476562\" xlink:href=\"#DejaVuSans-114\"/>\n      <use x=\"104.558594\" xlink:href=\"#DejaVuSans-111\"/>\n      <use x=\"165.740234\" xlink:href=\"#DejaVuSans-98\"/>\n      <use x=\"229.216797\" xlink:href=\"#DejaVuSans-97\"/>\n      <use x=\"290.496094\" xlink:href=\"#DejaVuSans-98\"/>\n      <use x=\"353.972656\" xlink:href=\"#DejaVuSans-105\"/>\n      <use x=\"381.755859\" xlink:href=\"#DejaVuSans-108\"/>\n      <use x=\"409.539062\" xlink:href=\"#DejaVuSans-105\"/>\n      <use x=\"437.322266\" xlink:href=\"#DejaVuSans-116\"/>\n      <use x=\"476.53125\" xlink:href=\"#DejaVuSans-121\"/>\n     </g>\n    </g>\n   </g>\n   <g id=\"matplotlib.axis_6\">\n    <g id=\"ytick_21\">\n     <g id=\"text_52\">\n      <!-- sequence -->\n      <defs>\n       <path d=\"M 14.796875 27.296875 \nQ 14.796875 17.390625 18.875 11.75 \nQ 22.953125 6.109375 30.078125 6.109375 \nQ 37.203125 6.109375 41.296875 11.75 \nQ 45.40625 17.390625 45.40625 27.296875 \nQ 45.40625 37.203125 41.296875 42.84375 \nQ 37.203125 48.484375 30.078125 48.484375 \nQ 22.953125 48.484375 18.875 42.84375 \nQ 14.796875 37.203125 14.796875 27.296875 \nz\nM 45.40625 8.203125 \nQ 42.578125 3.328125 38.25 0.953125 \nQ 33.9375 -1.421875 27.875 -1.421875 \nQ 17.96875 -1.421875 11.734375 6.484375 \nQ 5.515625 14.40625 5.515625 27.296875 \nQ 5.515625 40.1875 11.734375 48.09375 \nQ 17.96875 56 27.875 56 \nQ 33.9375 56 38.25 53.625 \nQ 42.578125 51.265625 45.40625 46.390625 \nL 45.40625 54.6875 \nL 54.390625 54.6875 \nL 54.390625 -20.796875 \nL 45.40625 -20.796875 \nz\n\" id=\"DejaVuSans-113\"/>\n      </defs>\n      <g style=\"fill:#262626;\" transform=\"translate(40.953438 469.64944)scale(0.11 -0.11)\">\n       <use xlink:href=\"#DejaVuSans-115\"/>\n       <use x=\"52.099609\" xlink:href=\"#DejaVuSans-101\"/>\n       <use x=\"113.623047\" xlink:href=\"#DejaVuSans-113\"/>\n       <use x=\"177.099609\" xlink:href=\"#DejaVuSans-117\"/>\n       <use x=\"240.478516\" xlink:href=\"#DejaVuSans-101\"/>\n       <use x=\"302.001953\" xlink:href=\"#DejaVuSans-110\"/>\n       <use x=\"365.380859\" xlink:href=\"#DejaVuSans-99\"/>\n       <use x=\"420.361328\" xlink:href=\"#DejaVuSans-101\"/>\n      </g>\n     </g>\n    </g>\n    <g id=\"ytick_22\">\n     <g id=\"text_53\">\n      <!-- loss -->\n      <g style=\"fill:#262626;\" transform=\"translate(72.715938 505.101613)scale(0.11 -0.11)\">\n       <use xlink:href=\"#DejaVuSans-108\"/>\n       <use x=\"27.783203\" xlink:href=\"#DejaVuSans-111\"/>\n       <use x=\"88.964844\" xlink:href=\"#DejaVuSans-115\"/>\n       <use x=\"141.064453\" xlink:href=\"#DejaVuSans-115\"/>\n      </g>\n     </g>\n    </g>\n    <g id=\"ytick_23\">\n     <g id=\"text_54\">\n      <!-- inference -->\n      <defs>\n       <path d=\"M 37.109375 75.984375 \nL 37.109375 68.5 \nL 28.515625 68.5 \nQ 23.6875 68.5 21.796875 66.546875 \nQ 19.921875 64.59375 19.921875 59.515625 \nL 19.921875 54.6875 \nL 34.71875 54.6875 \nL 34.71875 47.703125 \nL 19.921875 47.703125 \nL 19.921875 0 \nL 10.890625 0 \nL 10.890625 47.703125 \nL 2.296875 47.703125 \nL 2.296875 54.6875 \nL 10.890625 54.6875 \nL 10.890625 58.5 \nQ 10.890625 67.625 15.140625 71.796875 \nQ 19.390625 75.984375 28.609375 75.984375 \nz\n\" id=\"DejaVuSans-102\"/>\n      </defs>\n      <g style=\"fill:#262626;\" transform=\"translate(42.220156 540.553787)scale(0.11 -0.11)\">\n       <use xlink:href=\"#DejaVuSans-105\"/>\n       <use x=\"27.783203\" xlink:href=\"#DejaVuSans-110\"/>\n       <use x=\"91.162109\" xlink:href=\"#DejaVuSans-102\"/>\n       <use x=\"126.367188\" xlink:href=\"#DejaVuSans-101\"/>\n       <use x=\"187.890625\" xlink:href=\"#DejaVuSans-114\"/>\n       <use x=\"228.972656\" xlink:href=\"#DejaVuSans-101\"/>\n       <use x=\"290.496094\" xlink:href=\"#DejaVuSans-110\"/>\n       <use x=\"353.875\" xlink:href=\"#DejaVuSans-99\"/>\n       <use x=\"408.855469\" xlink:href=\"#DejaVuSans-101\"/>\n      </g>\n     </g>\n    </g>\n    <g id=\"ytick_24\">\n     <g id=\"text_55\">\n      <!-- prediction -->\n      <g style=\"fill:#262626;\" transform=\"translate(38.535156 576.005961)scale(0.11 -0.11)\">\n       <use xlink:href=\"#DejaVuSans-112\"/>\n       <use x=\"63.476562\" xlink:href=\"#DejaVuSans-114\"/>\n       <use x=\"104.558594\" xlink:href=\"#DejaVuSans-101\"/>\n       <use x=\"166.082031\" xlink:href=\"#DejaVuSans-100\"/>\n       <use x=\"229.558594\" xlink:href=\"#DejaVuSans-105\"/>\n       <use x=\"257.341797\" xlink:href=\"#DejaVuSans-99\"/>\n       <use x=\"312.322266\" xlink:href=\"#DejaVuSans-116\"/>\n       <use x=\"351.53125\" xlink:href=\"#DejaVuSans-105\"/>\n       <use x=\"379.314453\" xlink:href=\"#DejaVuSans-111\"/>\n       <use x=\"440.496094\" xlink:href=\"#DejaVuSans-110\"/>\n      </g>\n     </g>\n    </g>\n    <g id=\"ytick_25\">\n     <g id=\"text_56\">\n      <!-- label -->\n      <g style=\"fill:#262626;\" transform=\"translate(67.358594 611.458135)scale(0.11 -0.11)\">\n       <use xlink:href=\"#DejaVuSans-108\"/>\n       <use x=\"27.783203\" xlink:href=\"#DejaVuSans-97\"/>\n       <use x=\"89.0625\" xlink:href=\"#DejaVuSans-98\"/>\n       <use x=\"152.539062\" xlink:href=\"#DejaVuSans-101\"/>\n       <use x=\"214.0625\" xlink:href=\"#DejaVuSans-108\"/>\n      </g>\n     </g>\n    </g>\n    <g id=\"ytick_26\">\n     <g id=\"text_57\">\n      <!-- stochastic -->\n      <g style=\"fill:#262626;\" transform=\"translate(38.2825 646.910309)scale(0.11 -0.11)\">\n       <use xlink:href=\"#DejaVuSans-115\"/>\n       <use x=\"52.099609\" xlink:href=\"#DejaVuSans-116\"/>\n       <use x=\"91.308594\" xlink:href=\"#DejaVuSans-111\"/>\n       <use x=\"152.490234\" xlink:href=\"#DejaVuSans-99\"/>\n       <use x=\"207.470703\" xlink:href=\"#DejaVuSans-104\"/>\n       <use x=\"270.849609\" xlink:href=\"#DejaVuSans-97\"/>\n       <use x=\"332.128906\" xlink:href=\"#DejaVuSans-115\"/>\n       <use x=\"384.228516\" xlink:href=\"#DejaVuSans-116\"/>\n       <use x=\"423.4375\" xlink:href=\"#DejaVuSans-105\"/>\n       <use x=\"451.220703\" xlink:href=\"#DejaVuSans-99\"/>\n      </g>\n     </g>\n    </g>\n    <g id=\"ytick_27\">\n     <g id=\"text_58\">\n      <!-- tensor -->\n      <g style=\"fill:#262626;\" transform=\"translate(58.928125 682.362483)scale(0.11 -0.11)\">\n       <use xlink:href=\"#DejaVuSans-116\"/>\n       <use x=\"39.208984\" xlink:href=\"#DejaVuSans-101\"/>\n       <use x=\"100.732422\" xlink:href=\"#DejaVuSans-110\"/>\n       <use x=\"164.111328\" xlink:href=\"#DejaVuSans-115\"/>\n       <use x=\"216.210938\" xlink:href=\"#DejaVuSans-111\"/>\n       <use x=\"277.392578\" xlink:href=\"#DejaVuSans-114\"/>\n      </g>\n     </g>\n    </g>\n    <g id=\"ytick_28\">\n     <g id=\"text_59\">\n      <!-- deep -->\n      <g style=\"fill:#262626;\" transform=\"translate(66.459688 717.814657)scale(0.11 -0.11)\">\n       <use xlink:href=\"#DejaVuSans-100\"/>\n       <use x=\"63.476562\" xlink:href=\"#DejaVuSans-101\"/>\n       <use x=\"125\" xlink:href=\"#DejaVuSans-101\"/>\n       <use x=\"186.523438\" xlink:href=\"#DejaVuSans-112\"/>\n      </g>\n     </g>\n    </g>\n    <g id=\"ytick_29\">\n     <g id=\"text_60\">\n      <!-- image -->\n      <g style=\"fill:#262626;\" transform=\"translate(59.699844 753.266831)scale(0.11 -0.11)\">\n       <use xlink:href=\"#DejaVuSans-105\"/>\n       <use x=\"27.783203\" xlink:href=\"#DejaVuSans-109\"/>\n       <use x=\"125.195312\" xlink:href=\"#DejaVuSans-97\"/>\n       <use x=\"186.474609\" xlink:href=\"#DejaVuSans-103\"/>\n       <use x=\"249.951172\" xlink:href=\"#DejaVuSans-101\"/>\n      </g>\n     </g>\n    </g>\n    <g id=\"ytick_30\">\n     <g id=\"text_61\">\n      <!-- layer -->\n      <g style=\"fill:#262626;\" transform=\"translate(66.365156 788.719005)scale(0.11 -0.11)\">\n       <use xlink:href=\"#DejaVuSans-108\"/>\n       <use x=\"27.783203\" xlink:href=\"#DejaVuSans-97\"/>\n       <use x=\"89.0625\" xlink:href=\"#DejaVuSans-121\"/>\n       <use x=\"148.242188\" xlink:href=\"#DejaVuSans-101\"/>\n       <use x=\"209.765625\" xlink:href=\"#DejaVuSans-114\"/>\n      </g>\n     </g>\n    </g>\n    <g id=\"text_62\">\n     <!-- term -->\n     <g style=\"fill:#262626;\" transform=\"translate(31.786875 639.359144)rotate(-90)scale(0.12 -0.12)\">\n      <use xlink:href=\"#DejaVuSans-116\"/>\n      <use x=\"39.208984\" xlink:href=\"#DejaVuSans-101\"/>\n      <use x=\"100.732422\" xlink:href=\"#DejaVuSans-114\"/>\n      <use x=\"141.830078\" xlink:href=\"#DejaVuSans-109\"/>\n     </g>\n    </g>\n   </g>\n   <g id=\"patch_33\">\n    <path clip-path=\"url(#pa9de59e7c1)\" d=\"M 103.463125 451.289429 \nL 281.308206 451.289429 \nL 281.308206 479.651168 \nL 103.463125 479.651168 \nz\n\" style=\"fill:#4f3635;stroke:#ffffff;stroke-linejoin:miter;\"/>\n   </g>\n   <g id=\"patch_34\">\n    <path clip-path=\"url(#pa9de59e7c1)\" d=\"M 103.463125 486.741603 \nL 282.042687 486.741603 \nL 282.042687 515.103342 \nL 103.463125 515.103342 \nz\n\" style=\"fill:#6a3937;stroke:#ffffff;stroke-linejoin:miter;\"/>\n   </g>\n   <g id=\"patch_35\">\n    <path clip-path=\"url(#pa9de59e7c1)\" d=\"M 103.463125 522.193777 \nL 284.586425 522.193777 \nL 284.586425 550.555516 \nL 103.463125 550.555516 \nz\n\" style=\"fill:#863d39;stroke:#ffffff;stroke-linejoin:miter;\"/>\n   </g>\n   <g id=\"patch_36\">\n    <path clip-path=\"url(#pa9de59e7c1)\" d=\"M 103.463125 557.645951 \nL 286.051229 557.645951 \nL 286.051229 586.00769 \nL 103.463125 586.00769 \nz\n\" style=\"fill:#a2403b;stroke:#ffffff;stroke-linejoin:miter;\"/>\n   </g>\n   <g id=\"patch_37\">\n    <path clip-path=\"url(#pa9de59e7c1)\" d=\"M 103.463125 593.098125 \nL 293.821604 593.098125 \nL 293.821604 621.459864 \nL 103.463125 621.459864 \nz\n\" style=\"fill:#be433d;stroke:#ffffff;stroke-linejoin:miter;\"/>\n   </g>\n   <g id=\"patch_38\">\n    <path clip-path=\"url(#pa9de59e7c1)\" d=\"M 103.463125 628.550299 \nL 297.319506 628.550299 \nL 297.319506 656.912038 \nL 103.463125 656.912038 \nz\n\" style=\"fill:#ce4e46;stroke:#ffffff;stroke-linejoin:miter;\"/>\n   </g>\n   <g id=\"patch_39\">\n    <path clip-path=\"url(#pa9de59e7c1)\" d=\"M 103.463125 664.002473 \nL 321.490701 664.002473 \nL 321.490701 692.364212 \nL 103.463125 692.364212 \nz\n\" style=\"fill:#d45f55;stroke:#ffffff;stroke-linejoin:miter;\"/>\n   </g>\n   <g id=\"patch_40\">\n    <path clip-path=\"url(#pa9de59e7c1)\" d=\"M 103.463125 699.454647 \nL 329.788836 699.454647 \nL 329.788836 727.816386 \nL 103.463125 727.816386 \nz\n\" style=\"fill:#db7264;stroke:#ffffff;stroke-linejoin:miter;\"/>\n   </g>\n   <g id=\"patch_41\">\n    <path clip-path=\"url(#pa9de59e7c1)\" d=\"M 103.463125 734.906821 \nL 370.830263 734.906821 \nL 370.830263 763.26856 \nL 103.463125 763.26856 \nz\n\" style=\"fill:#e18473;stroke:#ffffff;stroke-linejoin:miter;\"/>\n   </g>\n   <g id=\"patch_42\">\n    <path clip-path=\"url(#pa9de59e7c1)\" d=\"M 103.463125 770.358995 \nL 465.800787 770.358995 \nL 465.800787 798.720734 \nL 103.463125 798.720734 \nz\n\" style=\"fill:#e79682;stroke:#ffffff;stroke-linejoin:miter;\"/>\n   </g>\n   <g id=\"line2d_45\">\n    <path clip-path=\"url(#pa9de59e7c1)\" style=\"fill:none;stroke:#424242;stroke-linecap:round;stroke-width:2.7;\"/>\n   </g>\n   <g id=\"line2d_46\">\n    <path clip-path=\"url(#pa9de59e7c1)\" style=\"fill:none;stroke:#424242;stroke-linecap:round;stroke-width:2.7;\"/>\n   </g>\n   <g id=\"line2d_47\">\n    <path clip-path=\"url(#pa9de59e7c1)\" style=\"fill:none;stroke:#424242;stroke-linecap:round;stroke-width:2.7;\"/>\n   </g>\n   <g id=\"line2d_48\">\n    <path clip-path=\"url(#pa9de59e7c1)\" style=\"fill:none;stroke:#424242;stroke-linecap:round;stroke-width:2.7;\"/>\n   </g>\n   <g id=\"line2d_49\">\n    <path clip-path=\"url(#pa9de59e7c1)\" style=\"fill:none;stroke:#424242;stroke-linecap:round;stroke-width:2.7;\"/>\n   </g>\n   <g id=\"line2d_50\">\n    <path clip-path=\"url(#pa9de59e7c1)\" style=\"fill:none;stroke:#424242;stroke-linecap:round;stroke-width:2.7;\"/>\n   </g>\n   <g id=\"line2d_51\">\n    <path clip-path=\"url(#pa9de59e7c1)\" style=\"fill:none;stroke:#424242;stroke-linecap:round;stroke-width:2.7;\"/>\n   </g>\n   <g id=\"line2d_52\">\n    <path clip-path=\"url(#pa9de59e7c1)\" style=\"fill:none;stroke:#424242;stroke-linecap:round;stroke-width:2.7;\"/>\n   </g>\n   <g id=\"line2d_53\">\n    <path clip-path=\"url(#pa9de59e7c1)\" style=\"fill:none;stroke:#424242;stroke-linecap:round;stroke-width:2.7;\"/>\n   </g>\n   <g id=\"line2d_54\">\n    <path clip-path=\"url(#pa9de59e7c1)\" style=\"fill:none;stroke:#424242;stroke-linecap:round;stroke-width:2.7;\"/>\n   </g>\n   <g id=\"patch_43\">\n    <path d=\"M 103.463125 802.265951 \nL 103.463125 447.744212 \n\" style=\"fill:none;stroke:#ffffff;stroke-linecap:square;stroke-linejoin:miter;stroke-width:1.25;\"/>\n   </g>\n   <g id=\"patch_44\">\n    <path d=\"M 483.91767 802.265951 \nL 483.91767 447.744212 \n\" style=\"fill:none;stroke:#ffffff;stroke-linecap:square;stroke-linejoin:miter;stroke-width:1.25;\"/>\n   </g>\n   <g id=\"patch_45\">\n    <path d=\"M 103.463125 802.265951 \nL 483.91767 802.265951 \n\" style=\"fill:none;stroke:#ffffff;stroke-linecap:square;stroke-linejoin:miter;stroke-width:1.25;\"/>\n   </g>\n   <g id=\"patch_46\">\n    <path d=\"M 103.463125 447.744212 \nL 483.91767 447.744212 \n\" style=\"fill:none;stroke:#ffffff;stroke-linecap:square;stroke-linejoin:miter;stroke-width:1.25;\"/>\n   </g>\n   <g id=\"text_63\">\n    <!-- topic 3 -->\n    <g style=\"fill:#262626;\" transform=\"translate(273.167585 441.744212)scale(0.12 -0.12)\">\n     <use xlink:href=\"#DejaVuSans-116\"/>\n     <use x=\"39.208984\" xlink:href=\"#DejaVuSans-111\"/>\n     <use x=\"100.390625\" xlink:href=\"#DejaVuSans-112\"/>\n     <use x=\"163.867188\" xlink:href=\"#DejaVuSans-105\"/>\n     <use x=\"191.650391\" xlink:href=\"#DejaVuSans-99\"/>\n     <use x=\"246.630859\" xlink:href=\"#DejaVuSans-32\"/>\n     <use x=\"278.417969\" xlink:href=\"#DejaVuSans-51\"/>\n    </g>\n   </g>\n  </g>\n  <g id=\"axes_4\">\n   <g id=\"patch_47\">\n    <path d=\"M 560.00858 802.265951 \nL 940.463125 802.265951 \nL 940.463125 447.744212 \nL 560.00858 447.744212 \nz\n\" style=\"fill:#eaeaf2;\"/>\n   </g>\n   <g id=\"matplotlib.axis_7\">\n    <g id=\"xtick_25\">\n     <g id=\"line2d_55\">\n      <path clip-path=\"url(#pf1a3de1eee)\" d=\"M 560.00858 802.265951 \nL 560.00858 447.744212 \n\" style=\"fill:none;stroke:#ffffff;stroke-linecap:round;\"/>\n     </g>\n     <g id=\"text_64\">\n      <!-- 0.000 -->\n      <g style=\"fill:#262626;\" transform=\"translate(544.263111 820.124232)scale(0.11 -0.11)\">\n       <use xlink:href=\"#DejaVuSans-48\"/>\n       <use x=\"63.623047\" xlink:href=\"#DejaVuSans-46\"/>\n       <use x=\"95.410156\" xlink:href=\"#DejaVuSans-48\"/>\n       <use x=\"159.033203\" xlink:href=\"#DejaVuSans-48\"/>\n       <use x=\"222.65625\" xlink:href=\"#DejaVuSans-48\"/>\n      </g>\n     </g>\n    </g>\n    <g id=\"xtick_26\">\n     <g id=\"line2d_56\">\n      <path clip-path=\"url(#pf1a3de1eee)\" d=\"M 619.03184 802.265951 \nL 619.03184 447.744212 \n\" style=\"fill:none;stroke:#ffffff;stroke-linecap:round;\"/>\n     </g>\n     <g id=\"text_65\">\n      <!-- 0.001 -->\n      <g style=\"fill:#262626;\" transform=\"translate(603.286371 820.124232)scale(0.11 -0.11)\">\n       <use xlink:href=\"#DejaVuSans-48\"/>\n       <use x=\"63.623047\" xlink:href=\"#DejaVuSans-46\"/>\n       <use x=\"95.410156\" xlink:href=\"#DejaVuSans-48\"/>\n       <use x=\"159.033203\" xlink:href=\"#DejaVuSans-48\"/>\n       <use x=\"222.65625\" xlink:href=\"#DejaVuSans-49\"/>\n      </g>\n     </g>\n    </g>\n    <g id=\"xtick_27\">\n     <g id=\"line2d_57\">\n      <path clip-path=\"url(#pf1a3de1eee)\" d=\"M 678.0551 802.265951 \nL 678.0551 447.744212 \n\" style=\"fill:none;stroke:#ffffff;stroke-linecap:round;\"/>\n     </g>\n     <g id=\"text_66\">\n      <!-- 0.002 -->\n      <g style=\"fill:#262626;\" transform=\"translate(662.309631 820.124232)scale(0.11 -0.11)\">\n       <use xlink:href=\"#DejaVuSans-48\"/>\n       <use x=\"63.623047\" xlink:href=\"#DejaVuSans-46\"/>\n       <use x=\"95.410156\" xlink:href=\"#DejaVuSans-48\"/>\n       <use x=\"159.033203\" xlink:href=\"#DejaVuSans-48\"/>\n       <use x=\"222.65625\" xlink:href=\"#DejaVuSans-50\"/>\n      </g>\n     </g>\n    </g>\n    <g id=\"xtick_28\">\n     <g id=\"line2d_58\">\n      <path clip-path=\"url(#pf1a3de1eee)\" d=\"M 737.07836 802.265951 \nL 737.07836 447.744212 \n\" style=\"fill:none;stroke:#ffffff;stroke-linecap:round;\"/>\n     </g>\n     <g id=\"text_67\">\n      <!-- 0.003 -->\n      <g style=\"fill:#262626;\" transform=\"translate(721.332892 820.124232)scale(0.11 -0.11)\">\n       <use xlink:href=\"#DejaVuSans-48\"/>\n       <use x=\"63.623047\" xlink:href=\"#DejaVuSans-46\"/>\n       <use x=\"95.410156\" xlink:href=\"#DejaVuSans-48\"/>\n       <use x=\"159.033203\" xlink:href=\"#DejaVuSans-48\"/>\n       <use x=\"222.65625\" xlink:href=\"#DejaVuSans-51\"/>\n      </g>\n     </g>\n    </g>\n    <g id=\"xtick_29\">\n     <g id=\"line2d_59\">\n      <path clip-path=\"url(#pf1a3de1eee)\" d=\"M 796.101621 802.265951 \nL 796.101621 447.744212 \n\" style=\"fill:none;stroke:#ffffff;stroke-linecap:round;\"/>\n     </g>\n     <g id=\"text_68\">\n      <!-- 0.004 -->\n      <g style=\"fill:#262626;\" transform=\"translate(780.356152 820.124232)scale(0.11 -0.11)\">\n       <use xlink:href=\"#DejaVuSans-48\"/>\n       <use x=\"63.623047\" xlink:href=\"#DejaVuSans-46\"/>\n       <use x=\"95.410156\" xlink:href=\"#DejaVuSans-48\"/>\n       <use x=\"159.033203\" xlink:href=\"#DejaVuSans-48\"/>\n       <use x=\"222.65625\" xlink:href=\"#DejaVuSans-52\"/>\n      </g>\n     </g>\n    </g>\n    <g id=\"xtick_30\">\n     <g id=\"line2d_60\">\n      <path clip-path=\"url(#pf1a3de1eee)\" d=\"M 855.124881 802.265951 \nL 855.124881 447.744212 \n\" style=\"fill:none;stroke:#ffffff;stroke-linecap:round;\"/>\n     </g>\n     <g id=\"text_69\">\n      <!-- 0.005 -->\n      <g style=\"fill:#262626;\" transform=\"translate(839.379412 820.124232)scale(0.11 -0.11)\">\n       <use xlink:href=\"#DejaVuSans-48\"/>\n       <use x=\"63.623047\" xlink:href=\"#DejaVuSans-46\"/>\n       <use x=\"95.410156\" xlink:href=\"#DejaVuSans-48\"/>\n       <use x=\"159.033203\" xlink:href=\"#DejaVuSans-48\"/>\n       <use x=\"222.65625\" xlink:href=\"#DejaVuSans-53\"/>\n      </g>\n     </g>\n    </g>\n    <g id=\"xtick_31\">\n     <g id=\"line2d_61\">\n      <path clip-path=\"url(#pf1a3de1eee)\" d=\"M 914.148141 802.265951 \nL 914.148141 447.744212 \n\" style=\"fill:none;stroke:#ffffff;stroke-linecap:round;\"/>\n     </g>\n     <g id=\"text_70\">\n      <!-- 0.006 -->\n      <g style=\"fill:#262626;\" transform=\"translate(898.402672 820.124232)scale(0.11 -0.11)\">\n       <use xlink:href=\"#DejaVuSans-48\"/>\n       <use x=\"63.623047\" xlink:href=\"#DejaVuSans-46\"/>\n       <use x=\"95.410156\" xlink:href=\"#DejaVuSans-48\"/>\n       <use x=\"159.033203\" xlink:href=\"#DejaVuSans-48\"/>\n       <use x=\"222.65625\" xlink:href=\"#DejaVuSans-54\"/>\n      </g>\n     </g>\n    </g>\n    <g id=\"text_71\">\n     <!-- probability -->\n     <g style=\"fill:#262626;\" transform=\"translate(718.09179 835.530014)scale(0.12 -0.12)\">\n      <use xlink:href=\"#DejaVuSans-112\"/>\n      <use x=\"63.476562\" xlink:href=\"#DejaVuSans-114\"/>\n      <use x=\"104.558594\" xlink:href=\"#DejaVuSans-111\"/>\n      <use x=\"165.740234\" xlink:href=\"#DejaVuSans-98\"/>\n      <use x=\"229.216797\" xlink:href=\"#DejaVuSans-97\"/>\n      <use x=\"290.496094\" xlink:href=\"#DejaVuSans-98\"/>\n      <use x=\"353.972656\" xlink:href=\"#DejaVuSans-105\"/>\n      <use x=\"381.755859\" xlink:href=\"#DejaVuSans-108\"/>\n      <use x=\"409.539062\" xlink:href=\"#DejaVuSans-105\"/>\n      <use x=\"437.322266\" xlink:href=\"#DejaVuSans-116\"/>\n      <use x=\"476.53125\" xlink:href=\"#DejaVuSans-121\"/>\n     </g>\n    </g>\n   </g>\n   <g id=\"matplotlib.axis_8\">\n    <g id=\"ytick_31\">\n     <g id=\"text_72\">\n      <!-- action -->\n      <g style=\"fill:#262626;\" transform=\"translate(516.649205 469.64944)scale(0.11 -0.11)\">\n       <use xlink:href=\"#DejaVuSans-97\"/>\n       <use x=\"61.279297\" xlink:href=\"#DejaVuSans-99\"/>\n       <use x=\"116.259766\" xlink:href=\"#DejaVuSans-116\"/>\n       <use x=\"155.46875\" xlink:href=\"#DejaVuSans-105\"/>\n       <use x=\"183.251953\" xlink:href=\"#DejaVuSans-111\"/>\n       <use x=\"244.433594\" xlink:href=\"#DejaVuSans-110\"/>\n      </g>\n     </g>\n    </g>\n    <g id=\"ytick_32\">\n     <g id=\"text_73\">\n      <!-- prior -->\n      <g style=\"fill:#262626;\" transform=\"translate(524.694673 505.101613)scale(0.11 -0.11)\">\n       <use xlink:href=\"#DejaVuSans-112\"/>\n       <use x=\"63.476562\" xlink:href=\"#DejaVuSans-114\"/>\n       <use x=\"104.589844\" xlink:href=\"#DejaVuSans-105\"/>\n       <use x=\"132.373047\" xlink:href=\"#DejaVuSans-111\"/>\n       <use x=\"193.554688\" xlink:href=\"#DejaVuSans-114\"/>\n      </g>\n     </g>\n    </g>\n    <g id=\"ytick_33\">\n     <g id=\"text_74\">\n      <!-- constraint -->\n      <g style=\"fill:#262626;\" transform=\"translate(495.113267 540.553787)scale(0.11 -0.11)\">\n       <use xlink:href=\"#DejaVuSans-99\"/>\n       <use x=\"54.980469\" xlink:href=\"#DejaVuSans-111\"/>\n       <use x=\"116.162109\" xlink:href=\"#DejaVuSans-110\"/>\n       <use x=\"179.541016\" xlink:href=\"#DejaVuSans-115\"/>\n       <use x=\"231.640625\" xlink:href=\"#DejaVuSans-116\"/>\n       <use x=\"270.849609\" xlink:href=\"#DejaVuSans-114\"/>\n       <use x=\"311.962891\" xlink:href=\"#DejaVuSans-97\"/>\n       <use x=\"373.242188\" xlink:href=\"#DejaVuSans-105\"/>\n       <use x=\"401.025391\" xlink:href=\"#DejaVuSans-110\"/>\n       <use x=\"464.404297\" xlink:href=\"#DejaVuSans-116\"/>\n      </g>\n     </g>\n    </g>\n    <g id=\"ytick_34\">\n     <g id=\"text_75\">\n      <!-- image -->\n      <g style=\"fill:#262626;\" transform=\"translate(516.245298 576.005961)scale(0.11 -0.11)\">\n       <use xlink:href=\"#DejaVuSans-105\"/>\n       <use x=\"27.783203\" xlink:href=\"#DejaVuSans-109\"/>\n       <use x=\"125.195312\" xlink:href=\"#DejaVuSans-97\"/>\n       <use x=\"186.474609\" xlink:href=\"#DejaVuSans-103\"/>\n       <use x=\"249.951172\" xlink:href=\"#DejaVuSans-101\"/>\n      </g>\n     </g>\n    </g>\n    <g id=\"ytick_35\">\n     <g id=\"text_76\">\n      <!-- agent -->\n      <g style=\"fill:#262626;\" transform=\"translate(518.73233 611.458135)scale(0.11 -0.11)\">\n       <use xlink:href=\"#DejaVuSans-97\"/>\n       <use x=\"61.279297\" xlink:href=\"#DejaVuSans-103\"/>\n       <use x=\"124.755859\" xlink:href=\"#DejaVuSans-101\"/>\n       <use x=\"186.279297\" xlink:href=\"#DejaVuSans-110\"/>\n       <use x=\"249.658203\" xlink:href=\"#DejaVuSans-116\"/>\n      </g>\n     </g>\n    </g>\n    <g id=\"ytick_36\">\n     <g id=\"text_77\">\n      <!-- neuron -->\n      <g style=\"fill:#262626;\" transform=\"translate(511.577173 646.910309)scale(0.11 -0.11)\">\n       <use xlink:href=\"#DejaVuSans-110\"/>\n       <use x=\"63.378906\" xlink:href=\"#DejaVuSans-101\"/>\n       <use x=\"124.902344\" xlink:href=\"#DejaVuSans-117\"/>\n       <use x=\"188.28125\" xlink:href=\"#DejaVuSans-114\"/>\n       <use x=\"229.363281\" xlink:href=\"#DejaVuSans-111\"/>\n       <use x=\"290.544922\" xlink:href=\"#DejaVuSans-110\"/>\n      </g>\n     </g>\n    </g>\n    <g id=\"ytick_37\">\n     <g id=\"text_78\">\n      <!-- xi -->\n      <g style=\"fill:#262626;\" transform=\"translate(540.942017 682.362483)scale(0.11 -0.11)\">\n       <use xlink:href=\"#DejaVuSans-120\"/>\n       <use x=\"59.179688\" xlink:href=\"#DejaVuSans-105\"/>\n      </g>\n     </g>\n    </g>\n    <g id=\"ytick_38\">\n     <g id=\"text_79\">\n      <!-- edge -->\n      <g style=\"fill:#262626;\" transform=\"translate(523.005142 717.814657)scale(0.11 -0.11)\">\n       <use xlink:href=\"#DejaVuSans-101\"/>\n       <use x=\"61.523438\" xlink:href=\"#DejaVuSans-100\"/>\n       <use x=\"125\" xlink:href=\"#DejaVuSans-103\"/>\n       <use x=\"188.476562\" xlink:href=\"#DejaVuSans-101\"/>\n      </g>\n     </g>\n    </g>\n    <g id=\"ytick_39\">\n     <g id=\"text_80\">\n      <!-- object -->\n      <g style=\"fill:#262626;\" transform=\"translate(516.609673 753.266831)scale(0.11 -0.11)\">\n       <use xlink:href=\"#DejaVuSans-111\"/>\n       <use x=\"61.181641\" xlink:href=\"#DejaVuSans-98\"/>\n       <use x=\"124.658203\" xlink:href=\"#DejaVuSans-106\"/>\n       <use x=\"152.441406\" xlink:href=\"#DejaVuSans-101\"/>\n       <use x=\"213.964844\" xlink:href=\"#DejaVuSans-99\"/>\n       <use x=\"268.945312\" xlink:href=\"#DejaVuSans-116\"/>\n      </g>\n     </g>\n    </g>\n    <g id=\"ytick_40\">\n     <g id=\"text_81\">\n      <!-- graph -->\n      <g style=\"fill:#262626;\" transform=\"translate(518.307798 788.719005)scale(0.11 -0.11)\">\n       <use xlink:href=\"#DejaVuSans-103\"/>\n       <use x=\"63.476562\" xlink:href=\"#DejaVuSans-114\"/>\n       <use x=\"104.589844\" xlink:href=\"#DejaVuSans-97\"/>\n       <use x=\"165.869141\" xlink:href=\"#DejaVuSans-112\"/>\n       <use x=\"229.345703\" xlink:href=\"#DejaVuSans-104\"/>\n      </g>\n     </g>\n    </g>\n    <g id=\"text_82\">\n     <!-- term -->\n     <g style=\"fill:#262626;\" transform=\"translate(488.617642 639.359144)rotate(-90)scale(0.12 -0.12)\">\n      <use xlink:href=\"#DejaVuSans-116\"/>\n      <use x=\"39.208984\" xlink:href=\"#DejaVuSans-101\"/>\n      <use x=\"100.732422\" xlink:href=\"#DejaVuSans-114\"/>\n      <use x=\"141.830078\" xlink:href=\"#DejaVuSans-109\"/>\n     </g>\n    </g>\n   </g>\n   <g id=\"patch_48\">\n    <path clip-path=\"url(#pf1a3de1eee)\" d=\"M 560.00858 451.289429 \nL 727.925537 451.289429 \nL 727.925537 479.651168 \nL 560.00858 479.651168 \nz\n\" style=\"fill:#4f3635;stroke:#ffffff;stroke-linejoin:miter;\"/>\n   </g>\n   <g id=\"patch_49\">\n    <path clip-path=\"url(#pf1a3de1eee)\" d=\"M 560.00858 486.741603 \nL 740.052992 486.741603 \nL 740.052992 515.103342 \nL 560.00858 515.103342 \nz\n\" style=\"fill:#6a3937;stroke:#ffffff;stroke-linejoin:miter;\"/>\n   </g>\n   <g id=\"patch_50\">\n    <path clip-path=\"url(#pf1a3de1eee)\" d=\"M 560.00858 522.193777 \nL 748.322592 522.193777 \nL 748.322592 550.555516 \nL 560.00858 550.555516 \nz\n\" style=\"fill:#863d39;stroke:#ffffff;stroke-linejoin:miter;\"/>\n   </g>\n   <g id=\"patch_51\">\n    <path clip-path=\"url(#pf1a3de1eee)\" d=\"M 560.00858 557.645951 \nL 757.328565 557.645951 \nL 757.328565 586.00769 \nL 560.00858 586.00769 \nz\n\" style=\"fill:#a2403b;stroke:#ffffff;stroke-linejoin:miter;\"/>\n   </g>\n   <g id=\"patch_52\">\n    <path clip-path=\"url(#pf1a3de1eee)\" d=\"M 560.00858 593.098125 \nL 779.930798 593.098125 \nL 779.930798 621.459864 \nL 560.00858 621.459864 \nz\n\" style=\"fill:#be433d;stroke:#ffffff;stroke-linejoin:miter;\"/>\n   </g>\n   <g id=\"patch_53\">\n    <path clip-path=\"url(#pf1a3de1eee)\" d=\"M 560.00858 628.550299 \nL 783.071684 628.550299 \nL 783.071684 656.912038 \nL 560.00858 656.912038 \nz\n\" style=\"fill:#ce4e46;stroke:#ffffff;stroke-linejoin:miter;\"/>\n   </g>\n   <g id=\"patch_54\">\n    <path clip-path=\"url(#pf1a3de1eee)\" d=\"M 560.00858 664.002473 \nL 785.303055 664.002473 \nL 785.303055 692.364212 \nL 560.00858 692.364212 \nz\n\" style=\"fill:#d45f55;stroke:#ffffff;stroke-linejoin:miter;\"/>\n   </g>\n   <g id=\"patch_55\">\n    <path clip-path=\"url(#pf1a3de1eee)\" d=\"M 560.00858 699.454647 \nL 805.302294 699.454647 \nL 805.302294 727.816386 \nL 560.00858 727.816386 \nz\n\" style=\"fill:#db7264;stroke:#ffffff;stroke-linejoin:miter;\"/>\n   </g>\n   <g id=\"patch_56\">\n    <path clip-path=\"url(#pf1a3de1eee)\" d=\"M 560.00858 734.906821 \nL 905.550472 734.906821 \nL 905.550472 763.26856 \nL 560.00858 763.26856 \nz\n\" style=\"fill:#e18473;stroke:#ffffff;stroke-linejoin:miter;\"/>\n   </g>\n   <g id=\"patch_57\">\n    <path clip-path=\"url(#pf1a3de1eee)\" d=\"M 560.00858 770.358995 \nL 922.346242 770.358995 \nL 922.346242 798.720734 \nL 560.00858 798.720734 \nz\n\" style=\"fill:#e79682;stroke:#ffffff;stroke-linejoin:miter;\"/>\n   </g>\n   <g id=\"line2d_62\">\n    <path clip-path=\"url(#pf1a3de1eee)\" style=\"fill:none;stroke:#424242;stroke-linecap:round;stroke-width:2.7;\"/>\n   </g>\n   <g id=\"line2d_63\">\n    <path clip-path=\"url(#pf1a3de1eee)\" style=\"fill:none;stroke:#424242;stroke-linecap:round;stroke-width:2.7;\"/>\n   </g>\n   <g id=\"line2d_64\">\n    <path clip-path=\"url(#pf1a3de1eee)\" style=\"fill:none;stroke:#424242;stroke-linecap:round;stroke-width:2.7;\"/>\n   </g>\n   <g id=\"line2d_65\">\n    <path clip-path=\"url(#pf1a3de1eee)\" style=\"fill:none;stroke:#424242;stroke-linecap:round;stroke-width:2.7;\"/>\n   </g>\n   <g id=\"line2d_66\">\n    <path clip-path=\"url(#pf1a3de1eee)\" style=\"fill:none;stroke:#424242;stroke-linecap:round;stroke-width:2.7;\"/>\n   </g>\n   <g id=\"line2d_67\">\n    <path clip-path=\"url(#pf1a3de1eee)\" style=\"fill:none;stroke:#424242;stroke-linecap:round;stroke-width:2.7;\"/>\n   </g>\n   <g id=\"line2d_68\">\n    <path clip-path=\"url(#pf1a3de1eee)\" style=\"fill:none;stroke:#424242;stroke-linecap:round;stroke-width:2.7;\"/>\n   </g>\n   <g id=\"line2d_69\">\n    <path clip-path=\"url(#pf1a3de1eee)\" style=\"fill:none;stroke:#424242;stroke-linecap:round;stroke-width:2.7;\"/>\n   </g>\n   <g id=\"line2d_70\">\n    <path clip-path=\"url(#pf1a3de1eee)\" style=\"fill:none;stroke:#424242;stroke-linecap:round;stroke-width:2.7;\"/>\n   </g>\n   <g id=\"line2d_71\">\n    <path clip-path=\"url(#pf1a3de1eee)\" style=\"fill:none;stroke:#424242;stroke-linecap:round;stroke-width:2.7;\"/>\n   </g>\n   <g id=\"patch_58\">\n    <path d=\"M 560.00858 802.265951 \nL 560.00858 447.744212 \n\" style=\"fill:none;stroke:#ffffff;stroke-linecap:square;stroke-linejoin:miter;stroke-width:1.25;\"/>\n   </g>\n   <g id=\"patch_59\">\n    <path d=\"M 940.463125 802.265951 \nL 940.463125 447.744212 \n\" style=\"fill:none;stroke:#ffffff;stroke-linecap:square;stroke-linejoin:miter;stroke-width:1.25;\"/>\n   </g>\n   <g id=\"patch_60\">\n    <path d=\"M 560.00858 802.265951 \nL 940.463125 802.265951 \n\" style=\"fill:none;stroke:#ffffff;stroke-linecap:square;stroke-linejoin:miter;stroke-width:1.25;\"/>\n   </g>\n   <g id=\"patch_61\">\n    <path d=\"M 560.00858 447.744212 \nL 940.463125 447.744212 \n\" style=\"fill:none;stroke:#ffffff;stroke-linecap:square;stroke-linejoin:miter;stroke-width:1.25;\"/>\n   </g>\n   <g id=\"text_83\">\n    <!-- topic 4 -->\n    <g style=\"fill:#262626;\" transform=\"translate(729.71304 441.744212)scale(0.12 -0.12)\">\n     <use xlink:href=\"#DejaVuSans-116\"/>\n     <use x=\"39.208984\" xlink:href=\"#DejaVuSans-111\"/>\n     <use x=\"100.390625\" xlink:href=\"#DejaVuSans-112\"/>\n     <use x=\"163.867188\" xlink:href=\"#DejaVuSans-105\"/>\n     <use x=\"191.650391\" xlink:href=\"#DejaVuSans-99\"/>\n     <use x=\"246.630859\" xlink:href=\"#DejaVuSans-32\"/>\n     <use x=\"278.417969\" xlink:href=\"#DejaVuSans-52\"/>\n    </g>\n   </g>\n  </g>\n  <g id=\"axes_5\">\n   <g id=\"patch_62\">\n    <path d=\"M 103.463125 1227.692038 \nL 483.91767 1227.692038 \nL 483.91767 873.170299 \nL 103.463125 873.170299 \nz\n\" style=\"fill:#eaeaf2;\"/>\n   </g>\n   <g id=\"matplotlib.axis_9\">\n    <g id=\"xtick_32\">\n     <g id=\"line2d_72\">\n      <path clip-path=\"url(#pae0bd56805)\" d=\"M 103.463125 1227.692038 \nL 103.463125 873.170299 \n\" style=\"fill:none;stroke:#ffffff;stroke-linecap:round;\"/>\n     </g>\n     <g id=\"text_84\">\n      <!-- 0.000 -->\n      <g style=\"fill:#262626;\" transform=\"translate(87.717656 1245.550319)scale(0.11 -0.11)\">\n       <use xlink:href=\"#DejaVuSans-48\"/>\n       <use x=\"63.623047\" xlink:href=\"#DejaVuSans-46\"/>\n       <use x=\"95.410156\" xlink:href=\"#DejaVuSans-48\"/>\n       <use x=\"159.033203\" xlink:href=\"#DejaVuSans-48\"/>\n       <use x=\"222.65625\" xlink:href=\"#DejaVuSans-48\"/>\n      </g>\n     </g>\n    </g>\n    <g id=\"xtick_33\">\n     <g id=\"line2d_73\">\n      <path clip-path=\"url(#pae0bd56805)\" d=\"M 161.097381 1227.692038 \nL 161.097381 873.170299 \n\" style=\"fill:none;stroke:#ffffff;stroke-linecap:round;\"/>\n     </g>\n     <g id=\"text_85\">\n      <!-- 0.001 -->\n      <g style=\"fill:#262626;\" transform=\"translate(145.351912 1245.550319)scale(0.11 -0.11)\">\n       <use xlink:href=\"#DejaVuSans-48\"/>\n       <use x=\"63.623047\" xlink:href=\"#DejaVuSans-46\"/>\n       <use x=\"95.410156\" xlink:href=\"#DejaVuSans-48\"/>\n       <use x=\"159.033203\" xlink:href=\"#DejaVuSans-48\"/>\n       <use x=\"222.65625\" xlink:href=\"#DejaVuSans-49\"/>\n      </g>\n     </g>\n    </g>\n    <g id=\"xtick_34\">\n     <g id=\"line2d_74\">\n      <path clip-path=\"url(#pae0bd56805)\" d=\"M 218.731636 1227.692038 \nL 218.731636 873.170299 \n\" style=\"fill:none;stroke:#ffffff;stroke-linecap:round;\"/>\n     </g>\n     <g id=\"text_86\">\n      <!-- 0.002 -->\n      <g style=\"fill:#262626;\" transform=\"translate(202.986167 1245.550319)scale(0.11 -0.11)\">\n       <use xlink:href=\"#DejaVuSans-48\"/>\n       <use x=\"63.623047\" xlink:href=\"#DejaVuSans-46\"/>\n       <use x=\"95.410156\" xlink:href=\"#DejaVuSans-48\"/>\n       <use x=\"159.033203\" xlink:href=\"#DejaVuSans-48\"/>\n       <use x=\"222.65625\" xlink:href=\"#DejaVuSans-50\"/>\n      </g>\n     </g>\n    </g>\n    <g id=\"xtick_35\">\n     <g id=\"line2d_75\">\n      <path clip-path=\"url(#pae0bd56805)\" d=\"M 276.365892 1227.692038 \nL 276.365892 873.170299 \n\" style=\"fill:none;stroke:#ffffff;stroke-linecap:round;\"/>\n     </g>\n     <g id=\"text_87\">\n      <!-- 0.003 -->\n      <g style=\"fill:#262626;\" transform=\"translate(260.620423 1245.550319)scale(0.11 -0.11)\">\n       <use xlink:href=\"#DejaVuSans-48\"/>\n       <use x=\"63.623047\" xlink:href=\"#DejaVuSans-46\"/>\n       <use x=\"95.410156\" xlink:href=\"#DejaVuSans-48\"/>\n       <use x=\"159.033203\" xlink:href=\"#DejaVuSans-48\"/>\n       <use x=\"222.65625\" xlink:href=\"#DejaVuSans-51\"/>\n      </g>\n     </g>\n    </g>\n    <g id=\"xtick_36\">\n     <g id=\"line2d_76\">\n      <path clip-path=\"url(#pae0bd56805)\" d=\"M 334.000147 1227.692038 \nL 334.000147 873.170299 \n\" style=\"fill:none;stroke:#ffffff;stroke-linecap:round;\"/>\n     </g>\n     <g id=\"text_88\">\n      <!-- 0.004 -->\n      <g style=\"fill:#262626;\" transform=\"translate(318.254678 1245.550319)scale(0.11 -0.11)\">\n       <use xlink:href=\"#DejaVuSans-48\"/>\n       <use x=\"63.623047\" xlink:href=\"#DejaVuSans-46\"/>\n       <use x=\"95.410156\" xlink:href=\"#DejaVuSans-48\"/>\n       <use x=\"159.033203\" xlink:href=\"#DejaVuSans-48\"/>\n       <use x=\"222.65625\" xlink:href=\"#DejaVuSans-52\"/>\n      </g>\n     </g>\n    </g>\n    <g id=\"xtick_37\">\n     <g id=\"line2d_77\">\n      <path clip-path=\"url(#pae0bd56805)\" d=\"M 391.634403 1227.692038 \nL 391.634403 873.170299 \n\" style=\"fill:none;stroke:#ffffff;stroke-linecap:round;\"/>\n     </g>\n     <g id=\"text_89\">\n      <!-- 0.005 -->\n      <g style=\"fill:#262626;\" transform=\"translate(375.888934 1245.550319)scale(0.11 -0.11)\">\n       <use xlink:href=\"#DejaVuSans-48\"/>\n       <use x=\"63.623047\" xlink:href=\"#DejaVuSans-46\"/>\n       <use x=\"95.410156\" xlink:href=\"#DejaVuSans-48\"/>\n       <use x=\"159.033203\" xlink:href=\"#DejaVuSans-48\"/>\n       <use x=\"222.65625\" xlink:href=\"#DejaVuSans-53\"/>\n      </g>\n     </g>\n    </g>\n    <g id=\"xtick_38\">\n     <g id=\"line2d_78\">\n      <path clip-path=\"url(#pae0bd56805)\" d=\"M 449.268658 1227.692038 \nL 449.268658 873.170299 \n\" style=\"fill:none;stroke:#ffffff;stroke-linecap:round;\"/>\n     </g>\n     <g id=\"text_90\">\n      <!-- 0.006 -->\n      <g style=\"fill:#262626;\" transform=\"translate(433.523189 1245.550319)scale(0.11 -0.11)\">\n       <use xlink:href=\"#DejaVuSans-48\"/>\n       <use x=\"63.623047\" xlink:href=\"#DejaVuSans-46\"/>\n       <use x=\"95.410156\" xlink:href=\"#DejaVuSans-48\"/>\n       <use x=\"159.033203\" xlink:href=\"#DejaVuSans-48\"/>\n       <use x=\"222.65625\" xlink:href=\"#DejaVuSans-54\"/>\n      </g>\n     </g>\n    </g>\n    <g id=\"text_91\">\n     <!-- probability -->\n     <g style=\"fill:#262626;\" transform=\"translate(261.546335 1260.956101)scale(0.12 -0.12)\">\n      <use xlink:href=\"#DejaVuSans-112\"/>\n      <use x=\"63.476562\" xlink:href=\"#DejaVuSans-114\"/>\n      <use x=\"104.558594\" xlink:href=\"#DejaVuSans-111\"/>\n      <use x=\"165.740234\" xlink:href=\"#DejaVuSans-98\"/>\n      <use x=\"229.216797\" xlink:href=\"#DejaVuSans-97\"/>\n      <use x=\"290.496094\" xlink:href=\"#DejaVuSans-98\"/>\n      <use x=\"353.972656\" xlink:href=\"#DejaVuSans-105\"/>\n      <use x=\"381.755859\" xlink:href=\"#DejaVuSans-108\"/>\n      <use x=\"409.539062\" xlink:href=\"#DejaVuSans-105\"/>\n      <use x=\"437.322266\" xlink:href=\"#DejaVuSans-116\"/>\n      <use x=\"476.53125\" xlink:href=\"#DejaVuSans-121\"/>\n     </g>\n    </g>\n   </g>\n   <g id=\"matplotlib.axis_10\">\n    <g id=\"ytick_41\">\n     <g id=\"text_92\">\n      <!-- complexity -->\n      <g style=\"fill:#262626;\" transform=\"translate(33.274063 895.075526)scale(0.11 -0.11)\">\n       <use xlink:href=\"#DejaVuSans-99\"/>\n       <use x=\"54.980469\" xlink:href=\"#DejaVuSans-111\"/>\n       <use x=\"116.162109\" xlink:href=\"#DejaVuSans-109\"/>\n       <use x=\"213.574219\" xlink:href=\"#DejaVuSans-112\"/>\n       <use x=\"277.050781\" xlink:href=\"#DejaVuSans-108\"/>\n       <use x=\"304.833984\" xlink:href=\"#DejaVuSans-101\"/>\n       <use x=\"366.341797\" xlink:href=\"#DejaVuSans-120\"/>\n       <use x=\"425.521484\" xlink:href=\"#DejaVuSans-105\"/>\n       <use x=\"453.304688\" xlink:href=\"#DejaVuSans-116\"/>\n       <use x=\"492.513672\" xlink:href=\"#DejaVuSans-121\"/>\n      </g>\n     </g>\n    </g>\n    <g id=\"ytick_42\">\n     <g id=\"text_93\">\n      <!-- spike -->\n      <defs>\n       <path d=\"M 9.078125 75.984375 \nL 18.109375 75.984375 \nL 18.109375 31.109375 \nL 44.921875 54.6875 \nL 56.390625 54.6875 \nL 27.390625 29.109375 \nL 57.625 0 \nL 45.90625 0 \nL 18.109375 26.703125 \nL 18.109375 0 \nL 9.078125 0 \nz\n\" id=\"DejaVuSans-107\"/>\n      </defs>\n      <g style=\"fill:#262626;\" transform=\"translate(65.060625 930.5277)scale(0.11 -0.11)\">\n       <use xlink:href=\"#DejaVuSans-115\"/>\n       <use x=\"52.099609\" xlink:href=\"#DejaVuSans-112\"/>\n       <use x=\"115.576172\" xlink:href=\"#DejaVuSans-105\"/>\n       <use x=\"143.359375\" xlink:href=\"#DejaVuSans-107\"/>\n       <use x=\"201.222656\" xlink:href=\"#DejaVuSans-101\"/>\n      </g>\n     </g>\n    </g>\n    <g id=\"ytick_43\">\n     <g id=\"text_94\">\n      <!-- neuron -->\n      <g style=\"fill:#262626;\" transform=\"translate(55.031719 965.979874)scale(0.11 -0.11)\">\n       <use xlink:href=\"#DejaVuSans-110\"/>\n       <use x=\"63.378906\" xlink:href=\"#DejaVuSans-101\"/>\n       <use x=\"124.902344\" xlink:href=\"#DejaVuSans-117\"/>\n       <use x=\"188.28125\" xlink:href=\"#DejaVuSans-114\"/>\n       <use x=\"229.363281\" xlink:href=\"#DejaVuSans-111\"/>\n       <use x=\"290.544922\" xlink:href=\"#DejaVuSans-110\"/>\n      </g>\n     </g>\n    </g>\n    <g id=\"ytick_44\">\n     <g id=\"text_95\">\n      <!-- label -->\n      <g style=\"fill:#262626;\" transform=\"translate(67.358594 1001.432048)scale(0.11 -0.11)\">\n       <use xlink:href=\"#DejaVuSans-108\"/>\n       <use x=\"27.783203\" xlink:href=\"#DejaVuSans-97\"/>\n       <use x=\"89.0625\" xlink:href=\"#DejaVuSans-98\"/>\n       <use x=\"152.539062\" xlink:href=\"#DejaVuSans-101\"/>\n       <use x=\"214.0625\" xlink:href=\"#DejaVuSans-108\"/>\n      </g>\n     </g>\n    </g>\n    <g id=\"ytick_45\">\n     <g id=\"text_96\">\n      <!-- graph -->\n      <g style=\"fill:#262626;\" transform=\"translate(61.762344 1036.884222)scale(0.11 -0.11)\">\n       <use xlink:href=\"#DejaVuSans-103\"/>\n       <use x=\"63.476562\" xlink:href=\"#DejaVuSans-114\"/>\n       <use x=\"104.589844\" xlink:href=\"#DejaVuSans-97\"/>\n       <use x=\"165.869141\" xlink:href=\"#DejaVuSans-112\"/>\n       <use x=\"229.345703\" xlink:href=\"#DejaVuSans-104\"/>\n      </g>\n     </g>\n    </g>\n    <g id=\"ytick_46\">\n     <g id=\"text_97\">\n      <!-- rank -->\n      <g style=\"fill:#262626;\" transform=\"translate(69.359219 1072.336396)scale(0.11 -0.11)\">\n       <use xlink:href=\"#DejaVuSans-114\"/>\n       <use x=\"41.113281\" xlink:href=\"#DejaVuSans-97\"/>\n       <use x=\"102.392578\" xlink:href=\"#DejaVuSans-110\"/>\n       <use x=\"165.771484\" xlink:href=\"#DejaVuSans-107\"/>\n      </g>\n     </g>\n    </g>\n    <g id=\"ytick_47\">\n     <g id=\"text_98\">\n      <!-- kernel -->\n      <g style=\"fill:#262626;\" transform=\"translate(59.514219 1107.78857)scale(0.11 -0.11)\">\n       <use xlink:href=\"#DejaVuSans-107\"/>\n       <use x=\"57.863281\" xlink:href=\"#DejaVuSans-101\"/>\n       <use x=\"119.386719\" xlink:href=\"#DejaVuSans-114\"/>\n       <use x=\"160.484375\" xlink:href=\"#DejaVuSans-110\"/>\n       <use x=\"223.863281\" xlink:href=\"#DejaVuSans-101\"/>\n       <use x=\"285.386719\" xlink:href=\"#DejaVuSans-108\"/>\n      </g>\n     </g>\n    </g>\n    <g id=\"ytick_48\">\n     <g id=\"text_99\">\n      <!-- theorem -->\n      <g style=\"fill:#262626;\" transform=\"translate(47.17875 1143.240744)scale(0.11 -0.11)\">\n       <use xlink:href=\"#DejaVuSans-116\"/>\n       <use x=\"39.208984\" xlink:href=\"#DejaVuSans-104\"/>\n       <use x=\"102.587891\" xlink:href=\"#DejaVuSans-101\"/>\n       <use x=\"164.111328\" xlink:href=\"#DejaVuSans-111\"/>\n       <use x=\"225.292969\" xlink:href=\"#DejaVuSans-114\"/>\n       <use x=\"266.375\" xlink:href=\"#DejaVuSans-101\"/>\n       <use x=\"327.898438\" xlink:href=\"#DejaVuSans-109\"/>\n      </g>\n     </g>\n    </g>\n    <g id=\"ytick_49\">\n     <g id=\"text_100\">\n      <!-- tree -->\n      <g style=\"fill:#262626;\" transform=\"translate(71.595313 1178.692918)scale(0.11 -0.11)\">\n       <use xlink:href=\"#DejaVuSans-116\"/>\n       <use x=\"39.208984\" xlink:href=\"#DejaVuSans-114\"/>\n       <use x=\"80.291016\" xlink:href=\"#DejaVuSans-101\"/>\n       <use x=\"141.814453\" xlink:href=\"#DejaVuSans-101\"/>\n      </g>\n     </g>\n    </g>\n    <g id=\"ytick_50\">\n     <g id=\"text_101\">\n      <!-- node -->\n      <g style=\"fill:#262626;\" transform=\"translate(66.509531 1214.145092)scale(0.11 -0.11)\">\n       <use xlink:href=\"#DejaVuSans-110\"/>\n       <use x=\"63.378906\" xlink:href=\"#DejaVuSans-111\"/>\n       <use x=\"124.560547\" xlink:href=\"#DejaVuSans-100\"/>\n       <use x=\"188.037109\" xlink:href=\"#DejaVuSans-101\"/>\n      </g>\n     </g>\n    </g>\n    <g id=\"text_102\">\n     <!-- term -->\n     <g style=\"fill:#262626;\" transform=\"translate(26.778438 1064.785231)rotate(-90)scale(0.12 -0.12)\">\n      <use xlink:href=\"#DejaVuSans-116\"/>\n      <use x=\"39.208984\" xlink:href=\"#DejaVuSans-101\"/>\n      <use x=\"100.732422\" xlink:href=\"#DejaVuSans-114\"/>\n      <use x=\"141.830078\" xlink:href=\"#DejaVuSans-109\"/>\n     </g>\n    </g>\n   </g>\n   <g id=\"patch_63\">\n    <path clip-path=\"url(#pae0bd56805)\" d=\"M 103.463125 876.715516 \nL 282.053089 876.715516 \nL 282.053089 905.077255 \nL 103.463125 905.077255 \nz\n\" style=\"fill:#4f3635;stroke:#ffffff;stroke-linejoin:miter;\"/>\n   </g>\n   <g id=\"patch_64\">\n    <path clip-path=\"url(#pae0bd56805)\" d=\"M 103.463125 912.16769 \nL 282.792772 912.16769 \nL 282.792772 940.529429 \nL 103.463125 940.529429 \nz\n\" style=\"fill:#6a3937;stroke:#ffffff;stroke-linejoin:miter;\"/>\n   </g>\n   <g id=\"patch_65\">\n    <path clip-path=\"url(#pae0bd56805)\" d=\"M 103.463125 947.619864 \nL 299.186266 947.619864 \nL 299.186266 975.981603 \nL 103.463125 975.981603 \nz\n\" style=\"fill:#863d39;stroke:#ffffff;stroke-linejoin:miter;\"/>\n   </g>\n   <g id=\"patch_66\">\n    <path clip-path=\"url(#pae0bd56805)\" d=\"M 103.463125 983.072038 \nL 302.475805 983.072038 \nL 302.475805 1011.433777 \nL 103.463125 1011.433777 \nz\n\" style=\"fill:#a2403b;stroke:#ffffff;stroke-linejoin:miter;\"/>\n   </g>\n   <g id=\"patch_67\">\n    <path clip-path=\"url(#pae0bd56805)\" d=\"M 103.463125 1018.524212 \nL 326.853912 1018.524212 \nL 326.853912 1046.885951 \nL 103.463125 1046.885951 \nz\n\" style=\"fill:#be433d;stroke:#ffffff;stroke-linejoin:miter;\"/>\n   </g>\n   <g id=\"patch_68\">\n    <path clip-path=\"url(#pae0bd56805)\" d=\"M 103.463125 1053.976386 \nL 336.399506 1053.976386 \nL 336.399506 1082.338125 \nL 103.463125 1082.338125 \nz\n\" style=\"fill:#ce4e46;stroke:#ffffff;stroke-linejoin:miter;\"/>\n   </g>\n   <g id=\"patch_69\">\n    <path clip-path=\"url(#pae0bd56805)\" d=\"M 103.463125 1089.42856 \nL 397.877515 1089.42856 \nL 397.877515 1117.790299 \nL 103.463125 1117.790299 \nz\n\" style=\"fill:#d45f55;stroke:#ffffff;stroke-linejoin:miter;\"/>\n   </g>\n   <g id=\"patch_70\">\n    <path clip-path=\"url(#pae0bd56805)\" d=\"M 103.463125 1124.880734 \nL 405.551799 1124.880734 \nL 405.551799 1153.242473 \nL 103.463125 1153.242473 \nz\n\" style=\"fill:#db7264;stroke:#ffffff;stroke-linejoin:miter;\"/>\n   </g>\n   <g id=\"patch_71\">\n    <path clip-path=\"url(#pae0bd56805)\" d=\"M 103.463125 1160.332908 \nL 439.683079 1160.332908 \nL 439.683079 1188.694647 \nL 103.463125 1188.694647 \nz\n\" style=\"fill:#e18473;stroke:#ffffff;stroke-linejoin:miter;\"/>\n   </g>\n   <g id=\"patch_72\">\n    <path clip-path=\"url(#pae0bd56805)\" d=\"M 103.463125 1195.785082 \nL 465.800787 1195.785082 \nL 465.800787 1224.146821 \nL 103.463125 1224.146821 \nz\n\" style=\"fill:#e79682;stroke:#ffffff;stroke-linejoin:miter;\"/>\n   </g>\n   <g id=\"line2d_79\">\n    <path clip-path=\"url(#pae0bd56805)\" style=\"fill:none;stroke:#424242;stroke-linecap:round;stroke-width:2.7;\"/>\n   </g>\n   <g id=\"line2d_80\">\n    <path clip-path=\"url(#pae0bd56805)\" style=\"fill:none;stroke:#424242;stroke-linecap:round;stroke-width:2.7;\"/>\n   </g>\n   <g id=\"line2d_81\">\n    <path clip-path=\"url(#pae0bd56805)\" style=\"fill:none;stroke:#424242;stroke-linecap:round;stroke-width:2.7;\"/>\n   </g>\n   <g id=\"line2d_82\">\n    <path clip-path=\"url(#pae0bd56805)\" style=\"fill:none;stroke:#424242;stroke-linecap:round;stroke-width:2.7;\"/>\n   </g>\n   <g id=\"line2d_83\">\n    <path clip-path=\"url(#pae0bd56805)\" style=\"fill:none;stroke:#424242;stroke-linecap:round;stroke-width:2.7;\"/>\n   </g>\n   <g id=\"line2d_84\">\n    <path clip-path=\"url(#pae0bd56805)\" style=\"fill:none;stroke:#424242;stroke-linecap:round;stroke-width:2.7;\"/>\n   </g>\n   <g id=\"line2d_85\">\n    <path clip-path=\"url(#pae0bd56805)\" style=\"fill:none;stroke:#424242;stroke-linecap:round;stroke-width:2.7;\"/>\n   </g>\n   <g id=\"line2d_86\">\n    <path clip-path=\"url(#pae0bd56805)\" style=\"fill:none;stroke:#424242;stroke-linecap:round;stroke-width:2.7;\"/>\n   </g>\n   <g id=\"line2d_87\">\n    <path clip-path=\"url(#pae0bd56805)\" style=\"fill:none;stroke:#424242;stroke-linecap:round;stroke-width:2.7;\"/>\n   </g>\n   <g id=\"line2d_88\">\n    <path clip-path=\"url(#pae0bd56805)\" style=\"fill:none;stroke:#424242;stroke-linecap:round;stroke-width:2.7;\"/>\n   </g>\n   <g id=\"patch_73\">\n    <path d=\"M 103.463125 1227.692038 \nL 103.463125 873.170299 \n\" style=\"fill:none;stroke:#ffffff;stroke-linecap:square;stroke-linejoin:miter;stroke-width:1.25;\"/>\n   </g>\n   <g id=\"patch_74\">\n    <path d=\"M 483.91767 1227.692038 \nL 483.91767 873.170299 \n\" style=\"fill:none;stroke:#ffffff;stroke-linecap:square;stroke-linejoin:miter;stroke-width:1.25;\"/>\n   </g>\n   <g id=\"patch_75\">\n    <path d=\"M 103.463125 1227.692038 \nL 483.91767 1227.692038 \n\" style=\"fill:none;stroke:#ffffff;stroke-linecap:square;stroke-linejoin:miter;stroke-width:1.25;\"/>\n   </g>\n   <g id=\"patch_76\">\n    <path d=\"M 103.463125 873.170299 \nL 483.91767 873.170299 \n\" style=\"fill:none;stroke:#ffffff;stroke-linecap:square;stroke-linejoin:miter;stroke-width:1.25;\"/>\n   </g>\n   <g id=\"text_103\">\n    <!-- topic 5 -->\n    <g style=\"fill:#262626;\" transform=\"translate(273.167585 867.170299)scale(0.12 -0.12)\">\n     <use xlink:href=\"#DejaVuSans-116\"/>\n     <use x=\"39.208984\" xlink:href=\"#DejaVuSans-111\"/>\n     <use x=\"100.390625\" xlink:href=\"#DejaVuSans-112\"/>\n     <use x=\"163.867188\" xlink:href=\"#DejaVuSans-105\"/>\n     <use x=\"191.650391\" xlink:href=\"#DejaVuSans-99\"/>\n     <use x=\"246.630859\" xlink:href=\"#DejaVuSans-32\"/>\n     <use x=\"278.417969\" xlink:href=\"#DejaVuSans-53\"/>\n    </g>\n   </g>\n  </g>\n  <g id=\"axes_6\">\n   <g id=\"patch_77\">\n    <path d=\"M 560.00858 1227.692038 \nL 940.463125 1227.692038 \nL 940.463125 873.170299 \nL 560.00858 873.170299 \nz\n\" style=\"fill:#eaeaf2;\"/>\n   </g>\n   <g id=\"matplotlib.axis_11\">\n    <g id=\"xtick_39\">\n     <g id=\"line2d_89\">\n      <path clip-path=\"url(#peed07c4f7d)\" d=\"M 560.00858 1227.692038 \nL 560.00858 873.170299 \n\" style=\"fill:none;stroke:#ffffff;stroke-linecap:round;\"/>\n     </g>\n     <g id=\"text_104\">\n      <!-- 0.0000 -->\n      <g style=\"fill:#262626;\" transform=\"translate(540.763736 1245.550319)scale(0.11 -0.11)\">\n       <use xlink:href=\"#DejaVuSans-48\"/>\n       <use x=\"63.623047\" xlink:href=\"#DejaVuSans-46\"/>\n       <use x=\"95.410156\" xlink:href=\"#DejaVuSans-48\"/>\n       <use x=\"159.033203\" xlink:href=\"#DejaVuSans-48\"/>\n       <use x=\"222.65625\" xlink:href=\"#DejaVuSans-48\"/>\n       <use x=\"286.279297\" xlink:href=\"#DejaVuSans-48\"/>\n      </g>\n     </g>\n    </g>\n    <g id=\"xtick_40\">\n     <g id=\"line2d_90\">\n      <path clip-path=\"url(#peed07c4f7d)\" d=\"M 603.272373 1227.692038 \nL 603.272373 873.170299 \n\" style=\"fill:none;stroke:#ffffff;stroke-linecap:round;\"/>\n     </g>\n     <g id=\"text_105\">\n      <!-- 0.0025 -->\n      <g style=\"fill:#262626;\" transform=\"translate(584.027529 1245.550319)scale(0.11 -0.11)\">\n       <use xlink:href=\"#DejaVuSans-48\"/>\n       <use x=\"63.623047\" xlink:href=\"#DejaVuSans-46\"/>\n       <use x=\"95.410156\" xlink:href=\"#DejaVuSans-48\"/>\n       <use x=\"159.033203\" xlink:href=\"#DejaVuSans-48\"/>\n       <use x=\"222.65625\" xlink:href=\"#DejaVuSans-50\"/>\n       <use x=\"286.279297\" xlink:href=\"#DejaVuSans-53\"/>\n      </g>\n     </g>\n    </g>\n    <g id=\"xtick_41\">\n     <g id=\"line2d_91\">\n      <path clip-path=\"url(#peed07c4f7d)\" d=\"M 646.536166 1227.692038 \nL 646.536166 873.170299 \n\" style=\"fill:none;stroke:#ffffff;stroke-linecap:round;\"/>\n     </g>\n     <g id=\"text_106\">\n      <!-- 0.0050 -->\n      <g style=\"fill:#262626;\" transform=\"translate(627.291322 1245.550319)scale(0.11 -0.11)\">\n       <use xlink:href=\"#DejaVuSans-48\"/>\n       <use x=\"63.623047\" xlink:href=\"#DejaVuSans-46\"/>\n       <use x=\"95.410156\" xlink:href=\"#DejaVuSans-48\"/>\n       <use x=\"159.033203\" xlink:href=\"#DejaVuSans-48\"/>\n       <use x=\"222.65625\" xlink:href=\"#DejaVuSans-53\"/>\n       <use x=\"286.279297\" xlink:href=\"#DejaVuSans-48\"/>\n      </g>\n     </g>\n    </g>\n    <g id=\"xtick_42\">\n     <g id=\"line2d_92\">\n      <path clip-path=\"url(#peed07c4f7d)\" d=\"M 689.799959 1227.692038 \nL 689.799959 873.170299 \n\" style=\"fill:none;stroke:#ffffff;stroke-linecap:round;\"/>\n     </g>\n     <g id=\"text_107\">\n      <!-- 0.0075 -->\n      <g style=\"fill:#262626;\" transform=\"translate(670.555116 1245.550319)scale(0.11 -0.11)\">\n       <use xlink:href=\"#DejaVuSans-48\"/>\n       <use x=\"63.623047\" xlink:href=\"#DejaVuSans-46\"/>\n       <use x=\"95.410156\" xlink:href=\"#DejaVuSans-48\"/>\n       <use x=\"159.033203\" xlink:href=\"#DejaVuSans-48\"/>\n       <use x=\"222.65625\" xlink:href=\"#DejaVuSans-55\"/>\n       <use x=\"286.279297\" xlink:href=\"#DejaVuSans-53\"/>\n      </g>\n     </g>\n    </g>\n    <g id=\"xtick_43\">\n     <g id=\"line2d_93\">\n      <path clip-path=\"url(#peed07c4f7d)\" d=\"M 733.063753 1227.692038 \nL 733.063753 873.170299 \n\" style=\"fill:none;stroke:#ffffff;stroke-linecap:round;\"/>\n     </g>\n     <g id=\"text_108\">\n      <!-- 0.0100 -->\n      <g style=\"fill:#262626;\" transform=\"translate(713.818909 1245.550319)scale(0.11 -0.11)\">\n       <use xlink:href=\"#DejaVuSans-48\"/>\n       <use x=\"63.623047\" xlink:href=\"#DejaVuSans-46\"/>\n       <use x=\"95.410156\" xlink:href=\"#DejaVuSans-48\"/>\n       <use x=\"159.033203\" xlink:href=\"#DejaVuSans-49\"/>\n       <use x=\"222.65625\" xlink:href=\"#DejaVuSans-48\"/>\n       <use x=\"286.279297\" xlink:href=\"#DejaVuSans-48\"/>\n      </g>\n     </g>\n    </g>\n    <g id=\"xtick_44\">\n     <g id=\"line2d_94\">\n      <path clip-path=\"url(#peed07c4f7d)\" d=\"M 776.327546 1227.692038 \nL 776.327546 873.170299 \n\" style=\"fill:none;stroke:#ffffff;stroke-linecap:round;\"/>\n     </g>\n     <g id=\"text_109\">\n      <!-- 0.0125 -->\n      <g style=\"fill:#262626;\" transform=\"translate(757.082702 1245.550319)scale(0.11 -0.11)\">\n       <use xlink:href=\"#DejaVuSans-48\"/>\n       <use x=\"63.623047\" xlink:href=\"#DejaVuSans-46\"/>\n       <use x=\"95.410156\" xlink:href=\"#DejaVuSans-48\"/>\n       <use x=\"159.033203\" xlink:href=\"#DejaVuSans-49\"/>\n       <use x=\"222.65625\" xlink:href=\"#DejaVuSans-50\"/>\n       <use x=\"286.279297\" xlink:href=\"#DejaVuSans-53\"/>\n      </g>\n     </g>\n    </g>\n    <g id=\"xtick_45\">\n     <g id=\"line2d_95\">\n      <path clip-path=\"url(#peed07c4f7d)\" d=\"M 819.591339 1227.692038 \nL 819.591339 873.170299 \n\" style=\"fill:none;stroke:#ffffff;stroke-linecap:round;\"/>\n     </g>\n     <g id=\"text_110\">\n      <!-- 0.0150 -->\n      <g style=\"fill:#262626;\" transform=\"translate(800.346495 1245.550319)scale(0.11 -0.11)\">\n       <use xlink:href=\"#DejaVuSans-48\"/>\n       <use x=\"63.623047\" xlink:href=\"#DejaVuSans-46\"/>\n       <use x=\"95.410156\" xlink:href=\"#DejaVuSans-48\"/>\n       <use x=\"159.033203\" xlink:href=\"#DejaVuSans-49\"/>\n       <use x=\"222.65625\" xlink:href=\"#DejaVuSans-53\"/>\n       <use x=\"286.279297\" xlink:href=\"#DejaVuSans-48\"/>\n      </g>\n     </g>\n    </g>\n    <g id=\"xtick_46\">\n     <g id=\"line2d_96\">\n      <path clip-path=\"url(#peed07c4f7d)\" d=\"M 862.855133 1227.692038 \nL 862.855133 873.170299 \n\" style=\"fill:none;stroke:#ffffff;stroke-linecap:round;\"/>\n     </g>\n     <g id=\"text_111\">\n      <!-- 0.0175 -->\n      <g style=\"fill:#262626;\" transform=\"translate(843.610289 1245.550319)scale(0.11 -0.11)\">\n       <use xlink:href=\"#DejaVuSans-48\"/>\n       <use x=\"63.623047\" xlink:href=\"#DejaVuSans-46\"/>\n       <use x=\"95.410156\" xlink:href=\"#DejaVuSans-48\"/>\n       <use x=\"159.033203\" xlink:href=\"#DejaVuSans-49\"/>\n       <use x=\"222.65625\" xlink:href=\"#DejaVuSans-55\"/>\n       <use x=\"286.279297\" xlink:href=\"#DejaVuSans-53\"/>\n      </g>\n     </g>\n    </g>\n    <g id=\"xtick_47\">\n     <g id=\"line2d_97\">\n      <path clip-path=\"url(#peed07c4f7d)\" d=\"M 906.118926 1227.692038 \nL 906.118926 873.170299 \n\" style=\"fill:none;stroke:#ffffff;stroke-linecap:round;\"/>\n     </g>\n     <g id=\"text_112\">\n      <!-- 0.0200 -->\n      <g style=\"fill:#262626;\" transform=\"translate(886.874082 1245.550319)scale(0.11 -0.11)\">\n       <use xlink:href=\"#DejaVuSans-48\"/>\n       <use x=\"63.623047\" xlink:href=\"#DejaVuSans-46\"/>\n       <use x=\"95.410156\" xlink:href=\"#DejaVuSans-48\"/>\n       <use x=\"159.033203\" xlink:href=\"#DejaVuSans-50\"/>\n       <use x=\"222.65625\" xlink:href=\"#DejaVuSans-48\"/>\n       <use x=\"286.279297\" xlink:href=\"#DejaVuSans-48\"/>\n      </g>\n     </g>\n    </g>\n    <g id=\"text_113\">\n     <!-- probability -->\n     <g style=\"fill:#262626;\" transform=\"translate(718.09179 1260.956101)scale(0.12 -0.12)\">\n      <use xlink:href=\"#DejaVuSans-112\"/>\n      <use x=\"63.476562\" xlink:href=\"#DejaVuSans-114\"/>\n      <use x=\"104.558594\" xlink:href=\"#DejaVuSans-111\"/>\n      <use x=\"165.740234\" xlink:href=\"#DejaVuSans-98\"/>\n      <use x=\"229.216797\" xlink:href=\"#DejaVuSans-97\"/>\n      <use x=\"290.496094\" xlink:href=\"#DejaVuSans-98\"/>\n      <use x=\"353.972656\" xlink:href=\"#DejaVuSans-105\"/>\n      <use x=\"381.755859\" xlink:href=\"#DejaVuSans-108\"/>\n      <use x=\"409.539062\" xlink:href=\"#DejaVuSans-105\"/>\n      <use x=\"437.322266\" xlink:href=\"#DejaVuSans-116\"/>\n      <use x=\"476.53125\" xlink:href=\"#DejaVuSans-121\"/>\n     </g>\n    </g>\n   </g>\n   <g id=\"matplotlib.axis_12\">\n    <g id=\"ytick_51\">\n     <g id=\"text_114\">\n      <!-- visual -->\n      <g style=\"fill:#262626;\" transform=\"translate(518.44358 895.075526)scale(0.11 -0.11)\">\n       <use xlink:href=\"#DejaVuSans-118\"/>\n       <use x=\"59.179688\" xlink:href=\"#DejaVuSans-105\"/>\n       <use x=\"86.962891\" xlink:href=\"#DejaVuSans-115\"/>\n       <use x=\"139.0625\" xlink:href=\"#DejaVuSans-117\"/>\n       <use x=\"202.441406\" xlink:href=\"#DejaVuSans-97\"/>\n       <use x=\"263.720703\" xlink:href=\"#DejaVuSans-108\"/>\n      </g>\n     </g>\n    </g>\n    <g id=\"ytick_52\">\n     <g id=\"text_115\">\n      <!-- target -->\n      <g style=\"fill:#262626;\" transform=\"translate(516.870923 930.5277)scale(0.11 -0.11)\">\n       <use xlink:href=\"#DejaVuSans-116\"/>\n       <use x=\"39.208984\" xlink:href=\"#DejaVuSans-97\"/>\n       <use x=\"100.488281\" xlink:href=\"#DejaVuSans-114\"/>\n       <use x=\"141.585938\" xlink:href=\"#DejaVuSans-103\"/>\n       <use x=\"205.0625\" xlink:href=\"#DejaVuSans-101\"/>\n       <use x=\"266.585938\" xlink:href=\"#DejaVuSans-116\"/>\n      </g>\n     </g>\n    </g>\n    <g id=\"ytick_53\">\n     <g id=\"text_116\">\n      <!-- dataset -->\n      <g style=\"fill:#262626;\" transform=\"translate(508.919986 965.979874)scale(0.11 -0.11)\">\n       <use xlink:href=\"#DejaVuSans-100\"/>\n       <use x=\"63.476562\" xlink:href=\"#DejaVuSans-97\"/>\n       <use x=\"124.755859\" xlink:href=\"#DejaVuSans-116\"/>\n       <use x=\"163.964844\" xlink:href=\"#DejaVuSans-97\"/>\n       <use x=\"225.244141\" xlink:href=\"#DejaVuSans-115\"/>\n       <use x=\"277.34375\" xlink:href=\"#DejaVuSans-101\"/>\n       <use x=\"338.867188\" xlink:href=\"#DejaVuSans-116\"/>\n      </g>\n     </g>\n    </g>\n    <g id=\"ytick_54\">\n     <g id=\"text_117\">\n      <!-- unit -->\n      <g style=\"fill:#262626;\" transform=\"translate(529.197798 1001.432048)scale(0.11 -0.11)\">\n       <use xlink:href=\"#DejaVuSans-117\"/>\n       <use x=\"63.378906\" xlink:href=\"#DejaVuSans-110\"/>\n       <use x=\"126.757812\" xlink:href=\"#DejaVuSans-105\"/>\n       <use x=\"154.541016\" xlink:href=\"#DejaVuSans-116\"/>\n      </g>\n     </g>\n    </g>\n    <g id=\"ytick_55\">\n     <g id=\"text_118\">\n      <!-- arm -->\n      <g style=\"fill:#262626;\" transform=\"translate(528.532642 1036.884222)scale(0.11 -0.11)\">\n       <use xlink:href=\"#DejaVuSans-97\"/>\n       <use x=\"61.279297\" xlink:href=\"#DejaVuSans-114\"/>\n       <use x=\"102.376953\" xlink:href=\"#DejaVuSans-109\"/>\n      </g>\n     </g>\n    </g>\n    <g id=\"ytick_56\">\n     <g id=\"text_119\">\n      <!-- response -->\n      <g style=\"fill:#262626;\" transform=\"translate(500.30733 1072.336396)scale(0.11 -0.11)\">\n       <use xlink:href=\"#DejaVuSans-114\"/>\n       <use x=\"41.082031\" xlink:href=\"#DejaVuSans-101\"/>\n       <use x=\"102.605469\" xlink:href=\"#DejaVuSans-115\"/>\n       <use x=\"154.705078\" xlink:href=\"#DejaVuSans-112\"/>\n       <use x=\"218.181641\" xlink:href=\"#DejaVuSans-111\"/>\n       <use x=\"279.363281\" xlink:href=\"#DejaVuSans-110\"/>\n       <use x=\"342.742188\" xlink:href=\"#DejaVuSans-115\"/>\n       <use x=\"394.841797\" xlink:href=\"#DejaVuSans-101\"/>\n      </g>\n     </g>\n    </g>\n    <g id=\"ytick_57\">\n     <g id=\"text_120\">\n      <!-- search -->\n      <g style=\"fill:#262626;\" transform=\"translate(513.730767 1107.78857)scale(0.11 -0.11)\">\n       <use xlink:href=\"#DejaVuSans-115\"/>\n       <use x=\"52.099609\" xlink:href=\"#DejaVuSans-101\"/>\n       <use x=\"113.623047\" xlink:href=\"#DejaVuSans-97\"/>\n       <use x=\"174.902344\" xlink:href=\"#DejaVuSans-114\"/>\n       <use x=\"215.984375\" xlink:href=\"#DejaVuSans-99\"/>\n       <use x=\"270.964844\" xlink:href=\"#DejaVuSans-104\"/>\n      </g>\n     </g>\n    </g>\n    <g id=\"ytick_58\">\n     <g id=\"text_121\">\n      <!-- topic -->\n      <g style=\"fill:#262626;\" transform=\"translate(523.378111 1143.240744)scale(0.11 -0.11)\">\n       <use xlink:href=\"#DejaVuSans-116\"/>\n       <use x=\"39.208984\" xlink:href=\"#DejaVuSans-111\"/>\n       <use x=\"100.390625\" xlink:href=\"#DejaVuSans-112\"/>\n       <use x=\"163.867188\" xlink:href=\"#DejaVuSans-105\"/>\n       <use x=\"191.650391\" xlink:href=\"#DejaVuSans-99\"/>\n      </g>\n     </g>\n    </g>\n    <g id=\"ytick_59\">\n     <g id=\"text_122\">\n      <!-- object -->\n      <g style=\"fill:#262626;\" transform=\"translate(516.609673 1178.692918)scale(0.11 -0.11)\">\n       <use xlink:href=\"#DejaVuSans-111\"/>\n       <use x=\"61.181641\" xlink:href=\"#DejaVuSans-98\"/>\n       <use x=\"124.658203\" xlink:href=\"#DejaVuSans-106\"/>\n       <use x=\"152.441406\" xlink:href=\"#DejaVuSans-101\"/>\n       <use x=\"213.964844\" xlink:href=\"#DejaVuSans-99\"/>\n       <use x=\"268.945312\" xlink:href=\"#DejaVuSans-116\"/>\n      </g>\n     </g>\n    </g>\n    <g id=\"ytick_60\">\n     <g id=\"text_123\">\n      <!-- image -->\n      <g style=\"fill:#262626;\" transform=\"translate(516.245298 1214.145092)scale(0.11 -0.11)\">\n       <use xlink:href=\"#DejaVuSans-105\"/>\n       <use x=\"27.783203\" xlink:href=\"#DejaVuSans-109\"/>\n       <use x=\"125.195312\" xlink:href=\"#DejaVuSans-97\"/>\n       <use x=\"186.474609\" xlink:href=\"#DejaVuSans-103\"/>\n       <use x=\"249.951172\" xlink:href=\"#DejaVuSans-101\"/>\n      </g>\n     </g>\n    </g>\n    <g id=\"text_124\">\n     <!-- term -->\n     <g style=\"fill:#262626;\" transform=\"translate(493.811705 1064.785231)rotate(-90)scale(0.12 -0.12)\">\n      <use xlink:href=\"#DejaVuSans-116\"/>\n      <use x=\"39.208984\" xlink:href=\"#DejaVuSans-101\"/>\n      <use x=\"100.732422\" xlink:href=\"#DejaVuSans-114\"/>\n      <use x=\"141.830078\" xlink:href=\"#DejaVuSans-109\"/>\n     </g>\n    </g>\n   </g>\n   <g id=\"patch_78\">\n    <path clip-path=\"url(#peed07c4f7d)\" d=\"M 560.00858 876.715516 \nL 607.400029 876.715516 \nL 607.400029 905.077255 \nL 560.00858 905.077255 \nz\n\" style=\"fill:#4f3635;stroke:#ffffff;stroke-linejoin:miter;\"/>\n   </g>\n   <g id=\"patch_79\">\n    <path clip-path=\"url(#peed07c4f7d)\" d=\"M 560.00858 912.16769 \nL 608.06787 912.16769 \nL 608.06787 940.529429 \nL 560.00858 940.529429 \nz\n\" style=\"fill:#6a3937;stroke:#ffffff;stroke-linejoin:miter;\"/>\n   </g>\n   <g id=\"patch_80\">\n    <path clip-path=\"url(#peed07c4f7d)\" d=\"M 560.00858 947.619864 \nL 608.718478 947.619864 \nL 608.718478 975.981603 \nL 560.00858 975.981603 \nz\n\" style=\"fill:#863d39;stroke:#ffffff;stroke-linejoin:miter;\"/>\n   </g>\n   <g id=\"patch_81\">\n    <path clip-path=\"url(#peed07c4f7d)\" d=\"M 560.00858 983.072038 \nL 608.97139 983.072038 \nL 608.97139 1011.433777 \nL 560.00858 1011.433777 \nz\n\" style=\"fill:#a2403b;stroke:#ffffff;stroke-linejoin:miter;\"/>\n   </g>\n   <g id=\"patch_82\">\n    <path clip-path=\"url(#peed07c4f7d)\" d=\"M 560.00858 1018.524212 \nL 610.292341 1018.524212 \nL 610.292341 1046.885951 \nL 560.00858 1046.885951 \nz\n\" style=\"fill:#be433d;stroke:#ffffff;stroke-linejoin:miter;\"/>\n   </g>\n   <g id=\"patch_83\">\n    <path clip-path=\"url(#peed07c4f7d)\" d=\"M 560.00858 1053.976386 \nL 610.572003 1053.976386 \nL 610.572003 1082.338125 \nL 560.00858 1082.338125 \nz\n\" style=\"fill:#ce4e46;stroke:#ffffff;stroke-linejoin:miter;\"/>\n   </g>\n   <g id=\"patch_84\">\n    <path clip-path=\"url(#peed07c4f7d)\" d=\"M 560.00858 1089.42856 \nL 610.581678 1089.42856 \nL 610.581678 1117.790299 \nL 560.00858 1117.790299 \nz\n\" style=\"fill:#d45f55;stroke:#ffffff;stroke-linejoin:miter;\"/>\n   </g>\n   <g id=\"patch_85\">\n    <path clip-path=\"url(#peed07c4f7d)\" d=\"M 560.00858 1124.880734 \nL 614.211581 1124.880734 \nL 614.211581 1153.242473 \nL 560.00858 1153.242473 \nz\n\" style=\"fill:#db7264;stroke:#ffffff;stroke-linejoin:miter;\"/>\n   </g>\n   <g id=\"patch_86\">\n    <path clip-path=\"url(#peed07c4f7d)\" d=\"M 560.00858 1160.332908 \nL 639.622197 1160.332908 \nL 639.622197 1188.694647 \nL 560.00858 1188.694647 \nz\n\" style=\"fill:#e18473;stroke:#ffffff;stroke-linejoin:miter;\"/>\n   </g>\n   <g id=\"patch_87\">\n    <path clip-path=\"url(#peed07c4f7d)\" d=\"M 560.00858 1195.785082 \nL 922.346242 1195.785082 \nL 922.346242 1224.146821 \nL 560.00858 1224.146821 \nz\n\" style=\"fill:#e79682;stroke:#ffffff;stroke-linejoin:miter;\"/>\n   </g>\n   <g id=\"line2d_98\">\n    <path clip-path=\"url(#peed07c4f7d)\" style=\"fill:none;stroke:#424242;stroke-linecap:round;stroke-width:2.7;\"/>\n   </g>\n   <g id=\"line2d_99\">\n    <path clip-path=\"url(#peed07c4f7d)\" style=\"fill:none;stroke:#424242;stroke-linecap:round;stroke-width:2.7;\"/>\n   </g>\n   <g id=\"line2d_100\">\n    <path clip-path=\"url(#peed07c4f7d)\" style=\"fill:none;stroke:#424242;stroke-linecap:round;stroke-width:2.7;\"/>\n   </g>\n   <g id=\"line2d_101\">\n    <path clip-path=\"url(#peed07c4f7d)\" style=\"fill:none;stroke:#424242;stroke-linecap:round;stroke-width:2.7;\"/>\n   </g>\n   <g id=\"line2d_102\">\n    <path clip-path=\"url(#peed07c4f7d)\" style=\"fill:none;stroke:#424242;stroke-linecap:round;stroke-width:2.7;\"/>\n   </g>\n   <g id=\"line2d_103\">\n    <path clip-path=\"url(#peed07c4f7d)\" style=\"fill:none;stroke:#424242;stroke-linecap:round;stroke-width:2.7;\"/>\n   </g>\n   <g id=\"line2d_104\">\n    <path clip-path=\"url(#peed07c4f7d)\" style=\"fill:none;stroke:#424242;stroke-linecap:round;stroke-width:2.7;\"/>\n   </g>\n   <g id=\"line2d_105\">\n    <path clip-path=\"url(#peed07c4f7d)\" style=\"fill:none;stroke:#424242;stroke-linecap:round;stroke-width:2.7;\"/>\n   </g>\n   <g id=\"line2d_106\">\n    <path clip-path=\"url(#peed07c4f7d)\" style=\"fill:none;stroke:#424242;stroke-linecap:round;stroke-width:2.7;\"/>\n   </g>\n   <g id=\"line2d_107\">\n    <path clip-path=\"url(#peed07c4f7d)\" style=\"fill:none;stroke:#424242;stroke-linecap:round;stroke-width:2.7;\"/>\n   </g>\n   <g id=\"patch_88\">\n    <path d=\"M 560.00858 1227.692038 \nL 560.00858 873.170299 \n\" style=\"fill:none;stroke:#ffffff;stroke-linecap:square;stroke-linejoin:miter;stroke-width:1.25;\"/>\n   </g>\n   <g id=\"patch_89\">\n    <path d=\"M 940.463125 1227.692038 \nL 940.463125 873.170299 \n\" style=\"fill:none;stroke:#ffffff;stroke-linecap:square;stroke-linejoin:miter;stroke-width:1.25;\"/>\n   </g>\n   <g id=\"patch_90\">\n    <path d=\"M 560.00858 1227.692038 \nL 940.463125 1227.692038 \n\" style=\"fill:none;stroke:#ffffff;stroke-linecap:square;stroke-linejoin:miter;stroke-width:1.25;\"/>\n   </g>\n   <g id=\"patch_91\">\n    <path d=\"M 560.00858 873.170299 \nL 940.463125 873.170299 \n\" style=\"fill:none;stroke:#ffffff;stroke-linecap:square;stroke-linejoin:miter;stroke-width:1.25;\"/>\n   </g>\n   <g id=\"text_125\">\n    <!-- topic 6 -->\n    <g style=\"fill:#262626;\" transform=\"translate(729.71304 867.170299)scale(0.12 -0.12)\">\n     <use xlink:href=\"#DejaVuSans-116\"/>\n     <use x=\"39.208984\" xlink:href=\"#DejaVuSans-111\"/>\n     <use x=\"100.390625\" xlink:href=\"#DejaVuSans-112\"/>\n     <use x=\"163.867188\" xlink:href=\"#DejaVuSans-105\"/>\n     <use x=\"191.650391\" xlink:href=\"#DejaVuSans-99\"/>\n     <use x=\"246.630859\" xlink:href=\"#DejaVuSans-32\"/>\n     <use x=\"278.417969\" xlink:href=\"#DejaVuSans-54\"/>\n    </g>\n   </g>\n  </g>\n  <g id=\"axes_7\">\n   <g id=\"patch_92\">\n    <path d=\"M 103.463125 1653.118125 \nL 483.91767 1653.118125 \nL 483.91767 1298.596386 \nL 103.463125 1298.596386 \nz\n\" style=\"fill:#eaeaf2;\"/>\n   </g>\n   <g id=\"matplotlib.axis_13\">\n    <g id=\"xtick_48\">\n     <g id=\"line2d_108\">\n      <path clip-path=\"url(#p66a8b0c696)\" d=\"M 103.463125 1653.118125 \nL 103.463125 1298.596386 \n\" style=\"fill:none;stroke:#ffffff;stroke-linecap:round;\"/>\n     </g>\n     <g id=\"text_126\">\n      <!-- 0.000 -->\n      <g style=\"fill:#262626;\" transform=\"translate(87.717656 1670.976406)scale(0.11 -0.11)\">\n       <use xlink:href=\"#DejaVuSans-48\"/>\n       <use x=\"63.623047\" xlink:href=\"#DejaVuSans-46\"/>\n       <use x=\"95.410156\" xlink:href=\"#DejaVuSans-48\"/>\n       <use x=\"159.033203\" xlink:href=\"#DejaVuSans-48\"/>\n       <use x=\"222.65625\" xlink:href=\"#DejaVuSans-48\"/>\n      </g>\n     </g>\n    </g>\n    <g id=\"xtick_49\">\n     <g id=\"line2d_109\">\n      <path clip-path=\"url(#p66a8b0c696)\" d=\"M 169.875896 1653.118125 \nL 169.875896 1298.596386 \n\" style=\"fill:none;stroke:#ffffff;stroke-linecap:round;\"/>\n     </g>\n     <g id=\"text_127\">\n      <!-- 0.002 -->\n      <g style=\"fill:#262626;\" transform=\"translate(154.130427 1670.976406)scale(0.11 -0.11)\">\n       <use xlink:href=\"#DejaVuSans-48\"/>\n       <use x=\"63.623047\" xlink:href=\"#DejaVuSans-46\"/>\n       <use x=\"95.410156\" xlink:href=\"#DejaVuSans-48\"/>\n       <use x=\"159.033203\" xlink:href=\"#DejaVuSans-48\"/>\n       <use x=\"222.65625\" xlink:href=\"#DejaVuSans-50\"/>\n      </g>\n     </g>\n    </g>\n    <g id=\"xtick_50\">\n     <g id=\"line2d_110\">\n      <path clip-path=\"url(#p66a8b0c696)\" d=\"M 236.288667 1653.118125 \nL 236.288667 1298.596386 \n\" style=\"fill:none;stroke:#ffffff;stroke-linecap:round;\"/>\n     </g>\n     <g id=\"text_128\">\n      <!-- 0.004 -->\n      <g style=\"fill:#262626;\" transform=\"translate(220.543198 1670.976406)scale(0.11 -0.11)\">\n       <use xlink:href=\"#DejaVuSans-48\"/>\n       <use x=\"63.623047\" xlink:href=\"#DejaVuSans-46\"/>\n       <use x=\"95.410156\" xlink:href=\"#DejaVuSans-48\"/>\n       <use x=\"159.033203\" xlink:href=\"#DejaVuSans-48\"/>\n       <use x=\"222.65625\" xlink:href=\"#DejaVuSans-52\"/>\n      </g>\n     </g>\n    </g>\n    <g id=\"xtick_51\">\n     <g id=\"line2d_111\">\n      <path clip-path=\"url(#p66a8b0c696)\" d=\"M 302.701437 1653.118125 \nL 302.701437 1298.596386 \n\" style=\"fill:none;stroke:#ffffff;stroke-linecap:round;\"/>\n     </g>\n     <g id=\"text_129\">\n      <!-- 0.006 -->\n      <g style=\"fill:#262626;\" transform=\"translate(286.955969 1670.976406)scale(0.11 -0.11)\">\n       <use xlink:href=\"#DejaVuSans-48\"/>\n       <use x=\"63.623047\" xlink:href=\"#DejaVuSans-46\"/>\n       <use x=\"95.410156\" xlink:href=\"#DejaVuSans-48\"/>\n       <use x=\"159.033203\" xlink:href=\"#DejaVuSans-48\"/>\n       <use x=\"222.65625\" xlink:href=\"#DejaVuSans-54\"/>\n      </g>\n     </g>\n    </g>\n    <g id=\"xtick_52\">\n     <g id=\"line2d_112\">\n      <path clip-path=\"url(#p66a8b0c696)\" d=\"M 369.114208 1653.118125 \nL 369.114208 1298.596386 \n\" style=\"fill:none;stroke:#ffffff;stroke-linecap:round;\"/>\n     </g>\n     <g id=\"text_130\">\n      <!-- 0.008 -->\n      <g style=\"fill:#262626;\" transform=\"translate(353.36874 1670.976406)scale(0.11 -0.11)\">\n       <use xlink:href=\"#DejaVuSans-48\"/>\n       <use x=\"63.623047\" xlink:href=\"#DejaVuSans-46\"/>\n       <use x=\"95.410156\" xlink:href=\"#DejaVuSans-48\"/>\n       <use x=\"159.033203\" xlink:href=\"#DejaVuSans-48\"/>\n       <use x=\"222.65625\" xlink:href=\"#DejaVuSans-56\"/>\n      </g>\n     </g>\n    </g>\n    <g id=\"xtick_53\">\n     <g id=\"line2d_113\">\n      <path clip-path=\"url(#p66a8b0c696)\" d=\"M 435.526979 1653.118125 \nL 435.526979 1298.596386 \n\" style=\"fill:none;stroke:#ffffff;stroke-linecap:round;\"/>\n     </g>\n     <g id=\"text_131\">\n      <!-- 0.010 -->\n      <g style=\"fill:#262626;\" transform=\"translate(419.78151 1670.976406)scale(0.11 -0.11)\">\n       <use xlink:href=\"#DejaVuSans-48\"/>\n       <use x=\"63.623047\" xlink:href=\"#DejaVuSans-46\"/>\n       <use x=\"95.410156\" xlink:href=\"#DejaVuSans-48\"/>\n       <use x=\"159.033203\" xlink:href=\"#DejaVuSans-49\"/>\n       <use x=\"222.65625\" xlink:href=\"#DejaVuSans-48\"/>\n      </g>\n     </g>\n    </g>\n    <g id=\"text_132\">\n     <!-- probability -->\n     <g style=\"fill:#262626;\" transform=\"translate(261.546335 1686.382188)scale(0.12 -0.12)\">\n      <use xlink:href=\"#DejaVuSans-112\"/>\n      <use x=\"63.476562\" xlink:href=\"#DejaVuSans-114\"/>\n      <use x=\"104.558594\" xlink:href=\"#DejaVuSans-111\"/>\n      <use x=\"165.740234\" xlink:href=\"#DejaVuSans-98\"/>\n      <use x=\"229.216797\" xlink:href=\"#DejaVuSans-97\"/>\n      <use x=\"290.496094\" xlink:href=\"#DejaVuSans-98\"/>\n      <use x=\"353.972656\" xlink:href=\"#DejaVuSans-105\"/>\n      <use x=\"381.755859\" xlink:href=\"#DejaVuSans-108\"/>\n      <use x=\"409.539062\" xlink:href=\"#DejaVuSans-105\"/>\n      <use x=\"437.322266\" xlink:href=\"#DejaVuSans-116\"/>\n      <use x=\"476.53125\" xlink:href=\"#DejaVuSans-121\"/>\n     </g>\n    </g>\n   </g>\n   <g id=\"matplotlib.axis_14\">\n    <g id=\"ytick_61\">\n     <g id=\"text_133\">\n      <!-- distance -->\n      <g style=\"fill:#262626;\" transform=\"translate(47.352344 1320.501613)scale(0.11 -0.11)\">\n       <use xlink:href=\"#DejaVuSans-100\"/>\n       <use x=\"63.476562\" xlink:href=\"#DejaVuSans-105\"/>\n       <use x=\"91.259766\" xlink:href=\"#DejaVuSans-115\"/>\n       <use x=\"143.359375\" xlink:href=\"#DejaVuSans-116\"/>\n       <use x=\"182.568359\" xlink:href=\"#DejaVuSans-97\"/>\n       <use x=\"243.847656\" xlink:href=\"#DejaVuSans-110\"/>\n       <use x=\"307.226562\" xlink:href=\"#DejaVuSans-99\"/>\n       <use x=\"362.207031\" xlink:href=\"#DejaVuSans-101\"/>\n      </g>\n     </g>\n    </g>\n    <g id=\"ytick_62\">\n     <g id=\"text_134\">\n      <!-- inference -->\n      <g style=\"fill:#262626;\" transform=\"translate(42.220156 1355.953787)scale(0.11 -0.11)\">\n       <use xlink:href=\"#DejaVuSans-105\"/>\n       <use x=\"27.783203\" xlink:href=\"#DejaVuSans-110\"/>\n       <use x=\"91.162109\" xlink:href=\"#DejaVuSans-102\"/>\n       <use x=\"126.367188\" xlink:href=\"#DejaVuSans-101\"/>\n       <use x=\"187.890625\" xlink:href=\"#DejaVuSans-114\"/>\n       <use x=\"228.972656\" xlink:href=\"#DejaVuSans-101\"/>\n       <use x=\"290.496094\" xlink:href=\"#DejaVuSans-110\"/>\n       <use x=\"353.875\" xlink:href=\"#DejaVuSans-99\"/>\n       <use x=\"408.855469\" xlink:href=\"#DejaVuSans-101\"/>\n      </g>\n     </g>\n    </g>\n    <g id=\"ytick_63\">\n     <g id=\"text_135\">\n      <!-- layer -->\n      <g style=\"fill:#262626;\" transform=\"translate(66.365156 1391.405961)scale(0.11 -0.11)\">\n       <use xlink:href=\"#DejaVuSans-108\"/>\n       <use x=\"27.783203\" xlink:href=\"#DejaVuSans-97\"/>\n       <use x=\"89.0625\" xlink:href=\"#DejaVuSans-121\"/>\n       <use x=\"148.242188\" xlink:href=\"#DejaVuSans-101\"/>\n       <use x=\"209.765625\" xlink:href=\"#DejaVuSans-114\"/>\n      </g>\n     </g>\n    </g>\n    <g id=\"ytick_64\">\n     <g id=\"text_136\">\n      <!-- label -->\n      <g style=\"fill:#262626;\" transform=\"translate(67.358594 1426.858135)scale(0.11 -0.11)\">\n       <use xlink:href=\"#DejaVuSans-108\"/>\n       <use x=\"27.783203\" xlink:href=\"#DejaVuSans-97\"/>\n       <use x=\"89.0625\" xlink:href=\"#DejaVuSans-98\"/>\n       <use x=\"152.539062\" xlink:href=\"#DejaVuSans-101\"/>\n       <use x=\"214.0625\" xlink:href=\"#DejaVuSans-108\"/>\n      </g>\n     </g>\n    </g>\n    <g id=\"ytick_65\">\n     <g id=\"text_137\">\n      <!-- object -->\n      <g style=\"fill:#262626;\" transform=\"translate(60.064219 1462.310309)scale(0.11 -0.11)\">\n       <use xlink:href=\"#DejaVuSans-111\"/>\n       <use x=\"61.181641\" xlink:href=\"#DejaVuSans-98\"/>\n       <use x=\"124.658203\" xlink:href=\"#DejaVuSans-106\"/>\n       <use x=\"152.441406\" xlink:href=\"#DejaVuSans-101\"/>\n       <use x=\"213.964844\" xlink:href=\"#DejaVuSans-99\"/>\n       <use x=\"268.945312\" xlink:href=\"#DejaVuSans-116\"/>\n      </g>\n     </g>\n    </g>\n    <g id=\"ytick_66\">\n     <g id=\"text_138\">\n      <!-- classification -->\n      <g style=\"fill:#262626;\" transform=\"translate(22.81375 1497.762483)scale(0.11 -0.11)\">\n       <use xlink:href=\"#DejaVuSans-99\"/>\n       <use x=\"54.980469\" xlink:href=\"#DejaVuSans-108\"/>\n       <use x=\"82.763672\" xlink:href=\"#DejaVuSans-97\"/>\n       <use x=\"144.042969\" xlink:href=\"#DejaVuSans-115\"/>\n       <use x=\"196.142578\" xlink:href=\"#DejaVuSans-115\"/>\n       <use x=\"248.242188\" xlink:href=\"#DejaVuSans-105\"/>\n       <use x=\"276.025391\" xlink:href=\"#DejaVuSans-102\"/>\n       <use x=\"311.230469\" xlink:href=\"#DejaVuSans-105\"/>\n       <use x=\"339.013672\" xlink:href=\"#DejaVuSans-99\"/>\n       <use x=\"393.994141\" xlink:href=\"#DejaVuSans-97\"/>\n       <use x=\"455.273438\" xlink:href=\"#DejaVuSans-116\"/>\n       <use x=\"494.482422\" xlink:href=\"#DejaVuSans-105\"/>\n       <use x=\"522.265625\" xlink:href=\"#DejaVuSans-111\"/>\n       <use x=\"583.447266\" xlink:href=\"#DejaVuSans-110\"/>\n      </g>\n     </g>\n    </g>\n    <g id=\"ytick_67\">\n     <g id=\"text_139\">\n      <!-- graph -->\n      <g style=\"fill:#262626;\" transform=\"translate(61.762344 1533.214657)scale(0.11 -0.11)\">\n       <use xlink:href=\"#DejaVuSans-103\"/>\n       <use x=\"63.476562\" xlink:href=\"#DejaVuSans-114\"/>\n       <use x=\"104.589844\" xlink:href=\"#DejaVuSans-97\"/>\n       <use x=\"165.869141\" xlink:href=\"#DejaVuSans-112\"/>\n       <use x=\"229.345703\" xlink:href=\"#DejaVuSans-104\"/>\n      </g>\n     </g>\n    </g>\n    <g id=\"ytick_68\">\n     <g id=\"text_140\">\n      <!-- image -->\n      <g style=\"fill:#262626;\" transform=\"translate(59.699844 1568.666831)scale(0.11 -0.11)\">\n       <use xlink:href=\"#DejaVuSans-105\"/>\n       <use x=\"27.783203\" xlink:href=\"#DejaVuSans-109\"/>\n       <use x=\"125.195312\" xlink:href=\"#DejaVuSans-97\"/>\n       <use x=\"186.474609\" xlink:href=\"#DejaVuSans-103\"/>\n       <use x=\"249.951172\" xlink:href=\"#DejaVuSans-101\"/>\n      </g>\n     </g>\n    </g>\n    <g id=\"ytick_69\">\n     <g id=\"text_141\">\n      <!-- xi -->\n      <g style=\"fill:#262626;\" transform=\"translate(84.396563 1604.119005)scale(0.11 -0.11)\">\n       <use xlink:href=\"#DejaVuSans-120\"/>\n       <use x=\"59.179688\" xlink:href=\"#DejaVuSans-105\"/>\n      </g>\n     </g>\n    </g>\n    <g id=\"ytick_70\">\n     <g id=\"text_142\">\n      <!-- kernel -->\n      <g style=\"fill:#262626;\" transform=\"translate(59.514219 1639.571179)scale(0.11 -0.11)\">\n       <use xlink:href=\"#DejaVuSans-107\"/>\n       <use x=\"57.863281\" xlink:href=\"#DejaVuSans-101\"/>\n       <use x=\"119.386719\" xlink:href=\"#DejaVuSans-114\"/>\n       <use x=\"160.484375\" xlink:href=\"#DejaVuSans-110\"/>\n       <use x=\"223.863281\" xlink:href=\"#DejaVuSans-101\"/>\n       <use x=\"285.386719\" xlink:href=\"#DejaVuSans-108\"/>\n      </g>\n     </g>\n    </g>\n    <g id=\"text_143\">\n     <!-- term -->\n     <g style=\"fill:#262626;\" transform=\"translate(16.318125 1490.211318)rotate(-90)scale(0.12 -0.12)\">\n      <use xlink:href=\"#DejaVuSans-116\"/>\n      <use x=\"39.208984\" xlink:href=\"#DejaVuSans-101\"/>\n      <use x=\"100.732422\" xlink:href=\"#DejaVuSans-114\"/>\n      <use x=\"141.830078\" xlink:href=\"#DejaVuSans-109\"/>\n     </g>\n    </g>\n   </g>\n   <g id=\"patch_93\">\n    <path clip-path=\"url(#p66a8b0c696)\" d=\"M 103.463125 1302.141603 \nL 212.990061 1302.141603 \nL 212.990061 1330.503342 \nL 103.463125 1330.503342 \nz\n\" style=\"fill:#4f3635;stroke:#ffffff;stroke-linejoin:miter;\"/>\n   </g>\n   <g id=\"patch_94\">\n    <path clip-path=\"url(#p66a8b0c696)\" d=\"M 103.463125 1337.593777 \nL 215.72812 1337.593777 \nL 215.72812 1365.955516 \nL 103.463125 1365.955516 \nz\n\" style=\"fill:#6a3937;stroke:#ffffff;stroke-linejoin:miter;\"/>\n   </g>\n   <g id=\"patch_95\">\n    <path clip-path=\"url(#p66a8b0c696)\" d=\"M 103.463125 1373.045951 \nL 217.861509 1373.045951 \nL 217.861509 1401.40769 \nL 103.463125 1401.40769 \nz\n\" style=\"fill:#863d39;stroke:#ffffff;stroke-linejoin:miter;\"/>\n   </g>\n   <g id=\"patch_96\">\n    <path clip-path=\"url(#p66a8b0c696)\" d=\"M 103.463125 1408.498125 \nL 219.314414 1408.498125 \nL 219.314414 1436.859864 \nL 103.463125 1436.859864 \nz\n\" style=\"fill:#a2403b;stroke:#ffffff;stroke-linejoin:miter;\"/>\n   </g>\n   <g id=\"patch_97\">\n    <path clip-path=\"url(#p66a8b0c696)\" d=\"M 103.463125 1443.950299 \nL 234.155052 1443.950299 \nL 234.155052 1472.312038 \nL 103.463125 1472.312038 \nz\n\" style=\"fill:#be433d;stroke:#ffffff;stroke-linejoin:miter;\"/>\n   </g>\n   <g id=\"patch_98\">\n    <path clip-path=\"url(#p66a8b0c696)\" d=\"M 103.463125 1479.402473 \nL 265.706724 1479.402473 \nL 265.706724 1507.764212 \nL 103.463125 1507.764212 \nz\n\" style=\"fill:#ce4e46;stroke:#ffffff;stroke-linejoin:miter;\"/>\n   </g>\n   <g id=\"patch_99\">\n    <path clip-path=\"url(#p66a8b0c696)\" d=\"M 103.463125 1514.854647 \nL 312.598471 1514.854647 \nL 312.598471 1543.216386 \nL 103.463125 1543.216386 \nz\n\" style=\"fill:#d45f55;stroke:#ffffff;stroke-linejoin:miter;\"/>\n   </g>\n   <g id=\"patch_100\">\n    <path clip-path=\"url(#p66a8b0c696)\" d=\"M 103.463125 1550.306821 \nL 324.402546 1550.306821 \nL 324.402546 1578.66856 \nL 103.463125 1578.66856 \nz\n\" style=\"fill:#db7264;stroke:#ffffff;stroke-linejoin:miter;\"/>\n   </g>\n   <g id=\"patch_101\">\n    <path clip-path=\"url(#p66a8b0c696)\" d=\"M 103.463125 1585.758995 \nL 385.748064 1585.758995 \nL 385.748064 1614.120734 \nL 103.463125 1614.120734 \nz\n\" style=\"fill:#e18473;stroke:#ffffff;stroke-linejoin:miter;\"/>\n   </g>\n   <g id=\"patch_102\">\n    <path clip-path=\"url(#p66a8b0c696)\" d=\"M 103.463125 1621.211168 \nL 465.800787 1621.211168 \nL 465.800787 1649.572908 \nL 103.463125 1649.572908 \nz\n\" style=\"fill:#e79682;stroke:#ffffff;stroke-linejoin:miter;\"/>\n   </g>\n   <g id=\"line2d_114\">\n    <path clip-path=\"url(#p66a8b0c696)\" style=\"fill:none;stroke:#424242;stroke-linecap:round;stroke-width:2.7;\"/>\n   </g>\n   <g id=\"line2d_115\">\n    <path clip-path=\"url(#p66a8b0c696)\" style=\"fill:none;stroke:#424242;stroke-linecap:round;stroke-width:2.7;\"/>\n   </g>\n   <g id=\"line2d_116\">\n    <path clip-path=\"url(#p66a8b0c696)\" style=\"fill:none;stroke:#424242;stroke-linecap:round;stroke-width:2.7;\"/>\n   </g>\n   <g id=\"line2d_117\">\n    <path clip-path=\"url(#p66a8b0c696)\" style=\"fill:none;stroke:#424242;stroke-linecap:round;stroke-width:2.7;\"/>\n   </g>\n   <g id=\"line2d_118\">\n    <path clip-path=\"url(#p66a8b0c696)\" style=\"fill:none;stroke:#424242;stroke-linecap:round;stroke-width:2.7;\"/>\n   </g>\n   <g id=\"line2d_119\">\n    <path clip-path=\"url(#p66a8b0c696)\" style=\"fill:none;stroke:#424242;stroke-linecap:round;stroke-width:2.7;\"/>\n   </g>\n   <g id=\"line2d_120\">\n    <path clip-path=\"url(#p66a8b0c696)\" style=\"fill:none;stroke:#424242;stroke-linecap:round;stroke-width:2.7;\"/>\n   </g>\n   <g id=\"line2d_121\">\n    <path clip-path=\"url(#p66a8b0c696)\" style=\"fill:none;stroke:#424242;stroke-linecap:round;stroke-width:2.7;\"/>\n   </g>\n   <g id=\"line2d_122\">\n    <path clip-path=\"url(#p66a8b0c696)\" style=\"fill:none;stroke:#424242;stroke-linecap:round;stroke-width:2.7;\"/>\n   </g>\n   <g id=\"line2d_123\">\n    <path clip-path=\"url(#p66a8b0c696)\" style=\"fill:none;stroke:#424242;stroke-linecap:round;stroke-width:2.7;\"/>\n   </g>\n   <g id=\"patch_103\">\n    <path d=\"M 103.463125 1653.118125 \nL 103.463125 1298.596386 \n\" style=\"fill:none;stroke:#ffffff;stroke-linecap:square;stroke-linejoin:miter;stroke-width:1.25;\"/>\n   </g>\n   <g id=\"patch_104\">\n    <path d=\"M 483.91767 1653.118125 \nL 483.91767 1298.596386 \n\" style=\"fill:none;stroke:#ffffff;stroke-linecap:square;stroke-linejoin:miter;stroke-width:1.25;\"/>\n   </g>\n   <g id=\"patch_105\">\n    <path d=\"M 103.463125 1653.118125 \nL 483.91767 1653.118125 \n\" style=\"fill:none;stroke:#ffffff;stroke-linecap:square;stroke-linejoin:miter;stroke-width:1.25;\"/>\n   </g>\n   <g id=\"patch_106\">\n    <path d=\"M 103.463125 1298.596386 \nL 483.91767 1298.596386 \n\" style=\"fill:none;stroke:#ffffff;stroke-linecap:square;stroke-linejoin:miter;stroke-width:1.25;\"/>\n   </g>\n   <g id=\"text_144\">\n    <!-- topic 7 -->\n    <g style=\"fill:#262626;\" transform=\"translate(273.167585 1292.596386)scale(0.12 -0.12)\">\n     <use xlink:href=\"#DejaVuSans-116\"/>\n     <use x=\"39.208984\" xlink:href=\"#DejaVuSans-111\"/>\n     <use x=\"100.390625\" xlink:href=\"#DejaVuSans-112\"/>\n     <use x=\"163.867188\" xlink:href=\"#DejaVuSans-105\"/>\n     <use x=\"191.650391\" xlink:href=\"#DejaVuSans-99\"/>\n     <use x=\"246.630859\" xlink:href=\"#DejaVuSans-32\"/>\n     <use x=\"278.417969\" xlink:href=\"#DejaVuSans-55\"/>\n    </g>\n   </g>\n  </g>\n  <g id=\"axes_8\">\n   <g id=\"patch_107\">\n    <path d=\"M 560.00858 1653.118125 \nL 940.463125 1653.118125 \nL 940.463125 1298.596386 \nL 560.00858 1298.596386 \nz\n\" style=\"fill:#eaeaf2;\"/>\n   </g>\n   <g id=\"matplotlib.axis_15\">\n    <g id=\"xtick_54\">\n     <g id=\"line2d_124\">\n      <path clip-path=\"url(#pffe98cbc09)\" d=\"M 560.00858 1653.118125 \nL 560.00858 1298.596386 \n\" style=\"fill:none;stroke:#ffffff;stroke-linecap:round;\"/>\n     </g>\n     <g id=\"text_145\">\n      <!-- 0.000 -->\n      <g style=\"fill:#262626;\" transform=\"translate(544.263111 1670.976406)scale(0.11 -0.11)\">\n       <use xlink:href=\"#DejaVuSans-48\"/>\n       <use x=\"63.623047\" xlink:href=\"#DejaVuSans-46\"/>\n       <use x=\"95.410156\" xlink:href=\"#DejaVuSans-48\"/>\n       <use x=\"159.033203\" xlink:href=\"#DejaVuSans-48\"/>\n       <use x=\"222.65625\" xlink:href=\"#DejaVuSans-48\"/>\n      </g>\n     </g>\n    </g>\n    <g id=\"xtick_55\">\n     <g id=\"line2d_125\">\n      <path clip-path=\"url(#pffe98cbc09)\" d=\"M 622.687654 1653.118125 \nL 622.687654 1298.596386 \n\" style=\"fill:none;stroke:#ffffff;stroke-linecap:round;\"/>\n     </g>\n     <g id=\"text_146\">\n      <!-- 0.001 -->\n      <g style=\"fill:#262626;\" transform=\"translate(606.942186 1670.976406)scale(0.11 -0.11)\">\n       <use xlink:href=\"#DejaVuSans-48\"/>\n       <use x=\"63.623047\" xlink:href=\"#DejaVuSans-46\"/>\n       <use x=\"95.410156\" xlink:href=\"#DejaVuSans-48\"/>\n       <use x=\"159.033203\" xlink:href=\"#DejaVuSans-48\"/>\n       <use x=\"222.65625\" xlink:href=\"#DejaVuSans-49\"/>\n      </g>\n     </g>\n    </g>\n    <g id=\"xtick_56\">\n     <g id=\"line2d_126\">\n      <path clip-path=\"url(#pffe98cbc09)\" d=\"M 685.366729 1653.118125 \nL 685.366729 1298.596386 \n\" style=\"fill:none;stroke:#ffffff;stroke-linecap:round;\"/>\n     </g>\n     <g id=\"text_147\">\n      <!-- 0.002 -->\n      <g style=\"fill:#262626;\" transform=\"translate(669.62126 1670.976406)scale(0.11 -0.11)\">\n       <use xlink:href=\"#DejaVuSans-48\"/>\n       <use x=\"63.623047\" xlink:href=\"#DejaVuSans-46\"/>\n       <use x=\"95.410156\" xlink:href=\"#DejaVuSans-48\"/>\n       <use x=\"159.033203\" xlink:href=\"#DejaVuSans-48\"/>\n       <use x=\"222.65625\" xlink:href=\"#DejaVuSans-50\"/>\n      </g>\n     </g>\n    </g>\n    <g id=\"xtick_57\">\n     <g id=\"line2d_127\">\n      <path clip-path=\"url(#pffe98cbc09)\" d=\"M 748.045804 1653.118125 \nL 748.045804 1298.596386 \n\" style=\"fill:none;stroke:#ffffff;stroke-linecap:round;\"/>\n     </g>\n     <g id=\"text_148\">\n      <!-- 0.003 -->\n      <g style=\"fill:#262626;\" transform=\"translate(732.300335 1670.976406)scale(0.11 -0.11)\">\n       <use xlink:href=\"#DejaVuSans-48\"/>\n       <use x=\"63.623047\" xlink:href=\"#DejaVuSans-46\"/>\n       <use x=\"95.410156\" xlink:href=\"#DejaVuSans-48\"/>\n       <use x=\"159.033203\" xlink:href=\"#DejaVuSans-48\"/>\n       <use x=\"222.65625\" xlink:href=\"#DejaVuSans-51\"/>\n      </g>\n     </g>\n    </g>\n    <g id=\"xtick_58\">\n     <g id=\"line2d_128\">\n      <path clip-path=\"url(#pffe98cbc09)\" d=\"M 810.724878 1653.118125 \nL 810.724878 1298.596386 \n\" style=\"fill:none;stroke:#ffffff;stroke-linecap:round;\"/>\n     </g>\n     <g id=\"text_149\">\n      <!-- 0.004 -->\n      <g style=\"fill:#262626;\" transform=\"translate(794.97941 1670.976406)scale(0.11 -0.11)\">\n       <use xlink:href=\"#DejaVuSans-48\"/>\n       <use x=\"63.623047\" xlink:href=\"#DejaVuSans-46\"/>\n       <use x=\"95.410156\" xlink:href=\"#DejaVuSans-48\"/>\n       <use x=\"159.033203\" xlink:href=\"#DejaVuSans-48\"/>\n       <use x=\"222.65625\" xlink:href=\"#DejaVuSans-52\"/>\n      </g>\n     </g>\n    </g>\n    <g id=\"xtick_59\">\n     <g id=\"line2d_129\">\n      <path clip-path=\"url(#pffe98cbc09)\" d=\"M 873.403953 1653.118125 \nL 873.403953 1298.596386 \n\" style=\"fill:none;stroke:#ffffff;stroke-linecap:round;\"/>\n     </g>\n     <g id=\"text_150\">\n      <!-- 0.005 -->\n      <g style=\"fill:#262626;\" transform=\"translate(857.658484 1670.976406)scale(0.11 -0.11)\">\n       <use xlink:href=\"#DejaVuSans-48\"/>\n       <use x=\"63.623047\" xlink:href=\"#DejaVuSans-46\"/>\n       <use x=\"95.410156\" xlink:href=\"#DejaVuSans-48\"/>\n       <use x=\"159.033203\" xlink:href=\"#DejaVuSans-48\"/>\n       <use x=\"222.65625\" xlink:href=\"#DejaVuSans-53\"/>\n      </g>\n     </g>\n    </g>\n    <g id=\"xtick_60\">\n     <g id=\"line2d_130\">\n      <path clip-path=\"url(#pffe98cbc09)\" d=\"M 936.083028 1653.118125 \nL 936.083028 1298.596386 \n\" style=\"fill:none;stroke:#ffffff;stroke-linecap:round;\"/>\n     </g>\n     <g id=\"text_151\">\n      <!-- 0.006 -->\n      <g style=\"fill:#262626;\" transform=\"translate(920.337559 1670.976406)scale(0.11 -0.11)\">\n       <use xlink:href=\"#DejaVuSans-48\"/>\n       <use x=\"63.623047\" xlink:href=\"#DejaVuSans-46\"/>\n       <use x=\"95.410156\" xlink:href=\"#DejaVuSans-48\"/>\n       <use x=\"159.033203\" xlink:href=\"#DejaVuSans-48\"/>\n       <use x=\"222.65625\" xlink:href=\"#DejaVuSans-54\"/>\n      </g>\n     </g>\n    </g>\n    <g id=\"text_152\">\n     <!-- probability -->\n     <g style=\"fill:#262626;\" transform=\"translate(718.09179 1686.382188)scale(0.12 -0.12)\">\n      <use xlink:href=\"#DejaVuSans-112\"/>\n      <use x=\"63.476562\" xlink:href=\"#DejaVuSans-114\"/>\n      <use x=\"104.558594\" xlink:href=\"#DejaVuSans-111\"/>\n      <use x=\"165.740234\" xlink:href=\"#DejaVuSans-98\"/>\n      <use x=\"229.216797\" xlink:href=\"#DejaVuSans-97\"/>\n      <use x=\"290.496094\" xlink:href=\"#DejaVuSans-98\"/>\n      <use x=\"353.972656\" xlink:href=\"#DejaVuSans-105\"/>\n      <use x=\"381.755859\" xlink:href=\"#DejaVuSans-108\"/>\n      <use x=\"409.539062\" xlink:href=\"#DejaVuSans-105\"/>\n      <use x=\"437.322266\" xlink:href=\"#DejaVuSans-116\"/>\n      <use x=\"476.53125\" xlink:href=\"#DejaVuSans-121\"/>\n     </g>\n    </g>\n   </g>\n   <g id=\"matplotlib.axis_16\">\n    <g id=\"ytick_71\">\n     <g id=\"text_153\">\n      <!-- xi -->\n      <g style=\"fill:#262626;\" transform=\"translate(540.942017 1320.501613)scale(0.11 -0.11)\">\n       <use xlink:href=\"#DejaVuSans-120\"/>\n       <use x=\"59.179688\" xlink:href=\"#DejaVuSans-105\"/>\n      </g>\n     </g>\n    </g>\n    <g id=\"ytick_72\">\n     <g id=\"text_154\">\n      <!-- graph -->\n      <g style=\"fill:#262626;\" transform=\"translate(518.307798 1355.953787)scale(0.11 -0.11)\">\n       <use xlink:href=\"#DejaVuSans-103\"/>\n       <use x=\"63.476562\" xlink:href=\"#DejaVuSans-114\"/>\n       <use x=\"104.589844\" xlink:href=\"#DejaVuSans-97\"/>\n       <use x=\"165.869141\" xlink:href=\"#DejaVuSans-112\"/>\n       <use x=\"229.345703\" xlink:href=\"#DejaVuSans-104\"/>\n      </g>\n     </g>\n    </g>\n    <g id=\"ytick_73\">\n     <g id=\"text_155\">\n      <!-- rank -->\n      <g style=\"fill:#262626;\" transform=\"translate(525.904673 1391.405961)scale(0.11 -0.11)\">\n       <use xlink:href=\"#DejaVuSans-114\"/>\n       <use x=\"41.113281\" xlink:href=\"#DejaVuSans-97\"/>\n       <use x=\"102.392578\" xlink:href=\"#DejaVuSans-110\"/>\n       <use x=\"165.771484\" xlink:href=\"#DejaVuSans-107\"/>\n      </g>\n     </g>\n    </g>\n    <g id=\"ytick_74\">\n     <g id=\"text_156\">\n      <!-- signal -->\n      <g style=\"fill:#262626;\" transform=\"translate(517.970923 1426.858135)scale(0.11 -0.11)\">\n       <use xlink:href=\"#DejaVuSans-115\"/>\n       <use x=\"52.099609\" xlink:href=\"#DejaVuSans-105\"/>\n       <use x=\"79.882812\" xlink:href=\"#DejaVuSans-103\"/>\n       <use x=\"143.359375\" xlink:href=\"#DejaVuSans-110\"/>\n       <use x=\"206.738281\" xlink:href=\"#DejaVuSans-97\"/>\n       <use x=\"268.017578\" xlink:href=\"#DejaVuSans-108\"/>\n      </g>\n     </g>\n    </g>\n    <g id=\"ytick_75\">\n     <g id=\"text_157\">\n      <!-- norm -->\n      <g style=\"fill:#262626;\" transform=\"translate(521.571705 1462.310309)scale(0.11 -0.11)\">\n       <use xlink:href=\"#DejaVuSans-110\"/>\n       <use x=\"63.378906\" xlink:href=\"#DejaVuSans-111\"/>\n       <use x=\"124.560547\" xlink:href=\"#DejaVuSans-114\"/>\n       <use x=\"165.658203\" xlink:href=\"#DejaVuSans-109\"/>\n      </g>\n     </g>\n    </g>\n    <g id=\"ytick_76\">\n     <g id=\"text_158\">\n      <!-- theorem -->\n      <g style=\"fill:#262626;\" transform=\"translate(503.724205 1497.762483)scale(0.11 -0.11)\">\n       <use xlink:href=\"#DejaVuSans-116\"/>\n       <use x=\"39.208984\" xlink:href=\"#DejaVuSans-104\"/>\n       <use x=\"102.587891\" xlink:href=\"#DejaVuSans-101\"/>\n       <use x=\"164.111328\" xlink:href=\"#DejaVuSans-111\"/>\n       <use x=\"225.292969\" xlink:href=\"#DejaVuSans-114\"/>\n       <use x=\"266.375\" xlink:href=\"#DejaVuSans-101\"/>\n       <use x=\"327.898438\" xlink:href=\"#DejaVuSans-109\"/>\n      </g>\n     </g>\n    </g>\n    <g id=\"ytick_77\">\n     <g id=\"text_159\">\n      <!-- neuron -->\n      <g style=\"fill:#262626;\" transform=\"translate(511.577173 1533.214657)scale(0.11 -0.11)\">\n       <use xlink:href=\"#DejaVuSans-110\"/>\n       <use x=\"63.378906\" xlink:href=\"#DejaVuSans-101\"/>\n       <use x=\"124.902344\" xlink:href=\"#DejaVuSans-117\"/>\n       <use x=\"188.28125\" xlink:href=\"#DejaVuSans-114\"/>\n       <use x=\"229.363281\" xlink:href=\"#DejaVuSans-111\"/>\n       <use x=\"290.544922\" xlink:href=\"#DejaVuSans-110\"/>\n      </g>\n     </g>\n    </g>\n    <g id=\"ytick_78\">\n     <g id=\"text_160\">\n      <!-- cluster -->\n      <g style=\"fill:#262626;\" transform=\"translate(513.099986 1568.666831)scale(0.11 -0.11)\">\n       <use xlink:href=\"#DejaVuSans-99\"/>\n       <use x=\"54.980469\" xlink:href=\"#DejaVuSans-108\"/>\n       <use x=\"82.763672\" xlink:href=\"#DejaVuSans-117\"/>\n       <use x=\"146.142578\" xlink:href=\"#DejaVuSans-115\"/>\n       <use x=\"198.242188\" xlink:href=\"#DejaVuSans-116\"/>\n       <use x=\"237.451172\" xlink:href=\"#DejaVuSans-101\"/>\n       <use x=\"298.974609\" xlink:href=\"#DejaVuSans-114\"/>\n      </g>\n     </g>\n    </g>\n    <g id=\"ytick_79\">\n     <g id=\"text_161\">\n      <!-- image -->\n      <g style=\"fill:#262626;\" transform=\"translate(516.245298 1604.119005)scale(0.11 -0.11)\">\n       <use xlink:href=\"#DejaVuSans-105\"/>\n       <use x=\"27.783203\" xlink:href=\"#DejaVuSans-109\"/>\n       <use x=\"125.195312\" xlink:href=\"#DejaVuSans-97\"/>\n       <use x=\"186.474609\" xlink:href=\"#DejaVuSans-103\"/>\n       <use x=\"249.951172\" xlink:href=\"#DejaVuSans-101\"/>\n      </g>\n     </g>\n    </g>\n    <g id=\"ytick_80\">\n     <g id=\"text_162\">\n      <!-- clustering -->\n      <g style=\"fill:#262626;\" transform=\"translate(496.089517 1639.571179)scale(0.11 -0.11)\">\n       <use xlink:href=\"#DejaVuSans-99\"/>\n       <use x=\"54.980469\" xlink:href=\"#DejaVuSans-108\"/>\n       <use x=\"82.763672\" xlink:href=\"#DejaVuSans-117\"/>\n       <use x=\"146.142578\" xlink:href=\"#DejaVuSans-115\"/>\n       <use x=\"198.242188\" xlink:href=\"#DejaVuSans-116\"/>\n       <use x=\"237.451172\" xlink:href=\"#DejaVuSans-101\"/>\n       <use x=\"298.974609\" xlink:href=\"#DejaVuSans-114\"/>\n       <use x=\"340.087891\" xlink:href=\"#DejaVuSans-105\"/>\n       <use x=\"367.871094\" xlink:href=\"#DejaVuSans-110\"/>\n       <use x=\"431.25\" xlink:href=\"#DejaVuSans-103\"/>\n      </g>\n     </g>\n    </g>\n    <g id=\"text_163\">\n     <!-- term -->\n     <g style=\"fill:#262626;\" transform=\"translate(489.593892 1490.211318)rotate(-90)scale(0.12 -0.12)\">\n      <use xlink:href=\"#DejaVuSans-116\"/>\n      <use x=\"39.208984\" xlink:href=\"#DejaVuSans-101\"/>\n      <use x=\"100.732422\" xlink:href=\"#DejaVuSans-114\"/>\n      <use x=\"141.830078\" xlink:href=\"#DejaVuSans-109\"/>\n     </g>\n    </g>\n   </g>\n   <g id=\"patch_108\">\n    <path clip-path=\"url(#pffe98cbc09)\" d=\"M 560.00858 1302.141603 \nL 746.675655 1302.141603 \nL 746.675655 1330.503342 \nL 560.00858 1330.503342 \nz\n\" style=\"fill:#4f3635;stroke:#ffffff;stroke-linejoin:miter;\"/>\n   </g>\n   <g id=\"patch_109\">\n    <path clip-path=\"url(#pffe98cbc09)\" d=\"M 560.00858 1337.593777 \nL 772.36804 1337.593777 \nL 772.36804 1365.955516 \nL 560.00858 1365.955516 \nz\n\" style=\"fill:#6a3937;stroke:#ffffff;stroke-linejoin:miter;\"/>\n   </g>\n   <g id=\"patch_110\">\n    <path clip-path=\"url(#pffe98cbc09)\" d=\"M 560.00858 1373.045951 \nL 777.946739 1373.045951 \nL 777.946739 1401.40769 \nL 560.00858 1401.40769 \nz\n\" style=\"fill:#863d39;stroke:#ffffff;stroke-linejoin:miter;\"/>\n   </g>\n   <g id=\"patch_111\">\n    <path clip-path=\"url(#pffe98cbc09)\" d=\"M 560.00858 1408.498125 \nL 792.796247 1408.498125 \nL 792.796247 1436.859864 \nL 560.00858 1436.859864 \nz\n\" style=\"fill:#a2403b;stroke:#ffffff;stroke-linejoin:miter;\"/>\n   </g>\n   <g id=\"patch_112\">\n    <path clip-path=\"url(#pffe98cbc09)\" d=\"M 560.00858 1443.950299 \nL 837.796795 1443.950299 \nL 837.796795 1472.312038 \nL 560.00858 1472.312038 \nz\n\" style=\"fill:#be433d;stroke:#ffffff;stroke-linejoin:miter;\"/>\n   </g>\n   <g id=\"patch_113\">\n    <path clip-path=\"url(#pffe98cbc09)\" d=\"M 560.00858 1479.402473 \nL 856.692074 1479.402473 \nL 856.692074 1507.764212 \nL 560.00858 1507.764212 \nz\n\" style=\"fill:#ce4e46;stroke:#ffffff;stroke-linejoin:miter;\"/>\n   </g>\n   <g id=\"patch_114\">\n    <path clip-path=\"url(#pffe98cbc09)\" d=\"M 560.00858 1514.854647 \nL 866.852291 1514.854647 \nL 866.852291 1543.216386 \nL 560.00858 1543.216386 \nz\n\" style=\"fill:#d45f55;stroke:#ffffff;stroke-linejoin:miter;\"/>\n   </g>\n   <g id=\"patch_115\">\n    <path clip-path=\"url(#pffe98cbc09)\" d=\"M 560.00858 1550.306821 \nL 884.4746 1550.306821 \nL 884.4746 1578.66856 \nL 560.00858 1578.66856 \nz\n\" style=\"fill:#db7264;stroke:#ffffff;stroke-linejoin:miter;\"/>\n   </g>\n   <g id=\"patch_116\">\n    <path clip-path=\"url(#pffe98cbc09)\" d=\"M 560.00858 1585.758995 \nL 896.260837 1585.758995 \nL 896.260837 1614.120734 \nL 560.00858 1614.120734 \nz\n\" style=\"fill:#e18473;stroke:#ffffff;stroke-linejoin:miter;\"/>\n   </g>\n   <g id=\"patch_117\">\n    <path clip-path=\"url(#pffe98cbc09)\" d=\"M 560.00858 1621.211168 \nL 922.346242 1621.211168 \nL 922.346242 1649.572908 \nL 560.00858 1649.572908 \nz\n\" style=\"fill:#e79682;stroke:#ffffff;stroke-linejoin:miter;\"/>\n   </g>\n   <g id=\"line2d_131\">\n    <path clip-path=\"url(#pffe98cbc09)\" style=\"fill:none;stroke:#424242;stroke-linecap:round;stroke-width:2.7;\"/>\n   </g>\n   <g id=\"line2d_132\">\n    <path clip-path=\"url(#pffe98cbc09)\" style=\"fill:none;stroke:#424242;stroke-linecap:round;stroke-width:2.7;\"/>\n   </g>\n   <g id=\"line2d_133\">\n    <path clip-path=\"url(#pffe98cbc09)\" style=\"fill:none;stroke:#424242;stroke-linecap:round;stroke-width:2.7;\"/>\n   </g>\n   <g id=\"line2d_134\">\n    <path clip-path=\"url(#pffe98cbc09)\" style=\"fill:none;stroke:#424242;stroke-linecap:round;stroke-width:2.7;\"/>\n   </g>\n   <g id=\"line2d_135\">\n    <path clip-path=\"url(#pffe98cbc09)\" style=\"fill:none;stroke:#424242;stroke-linecap:round;stroke-width:2.7;\"/>\n   </g>\n   <g id=\"line2d_136\">\n    <path clip-path=\"url(#pffe98cbc09)\" style=\"fill:none;stroke:#424242;stroke-linecap:round;stroke-width:2.7;\"/>\n   </g>\n   <g id=\"line2d_137\">\n    <path clip-path=\"url(#pffe98cbc09)\" style=\"fill:none;stroke:#424242;stroke-linecap:round;stroke-width:2.7;\"/>\n   </g>\n   <g id=\"line2d_138\">\n    <path clip-path=\"url(#pffe98cbc09)\" style=\"fill:none;stroke:#424242;stroke-linecap:round;stroke-width:2.7;\"/>\n   </g>\n   <g id=\"line2d_139\">\n    <path clip-path=\"url(#pffe98cbc09)\" style=\"fill:none;stroke:#424242;stroke-linecap:round;stroke-width:2.7;\"/>\n   </g>\n   <g id=\"line2d_140\">\n    <path clip-path=\"url(#pffe98cbc09)\" style=\"fill:none;stroke:#424242;stroke-linecap:round;stroke-width:2.7;\"/>\n   </g>\n   <g id=\"patch_118\">\n    <path d=\"M 560.00858 1653.118125 \nL 560.00858 1298.596386 \n\" style=\"fill:none;stroke:#ffffff;stroke-linecap:square;stroke-linejoin:miter;stroke-width:1.25;\"/>\n   </g>\n   <g id=\"patch_119\">\n    <path d=\"M 940.463125 1653.118125 \nL 940.463125 1298.596386 \n\" style=\"fill:none;stroke:#ffffff;stroke-linecap:square;stroke-linejoin:miter;stroke-width:1.25;\"/>\n   </g>\n   <g id=\"patch_120\">\n    <path d=\"M 560.00858 1653.118125 \nL 940.463125 1653.118125 \n\" style=\"fill:none;stroke:#ffffff;stroke-linecap:square;stroke-linejoin:miter;stroke-width:1.25;\"/>\n   </g>\n   <g id=\"patch_121\">\n    <path d=\"M 560.00858 1298.596386 \nL 940.463125 1298.596386 \n\" style=\"fill:none;stroke:#ffffff;stroke-linecap:square;stroke-linejoin:miter;stroke-width:1.25;\"/>\n   </g>\n   <g id=\"text_164\">\n    <!-- topic 8 -->\n    <g style=\"fill:#262626;\" transform=\"translate(729.71304 1292.596386)scale(0.12 -0.12)\">\n     <use xlink:href=\"#DejaVuSans-116\"/>\n     <use x=\"39.208984\" xlink:href=\"#DejaVuSans-111\"/>\n     <use x=\"100.390625\" xlink:href=\"#DejaVuSans-112\"/>\n     <use x=\"163.867188\" xlink:href=\"#DejaVuSans-105\"/>\n     <use x=\"191.650391\" xlink:href=\"#DejaVuSans-99\"/>\n     <use x=\"246.630859\" xlink:href=\"#DejaVuSans-32\"/>\n     <use x=\"278.417969\" xlink:href=\"#DejaVuSans-56\"/>\n    </g>\n   </g>\n  </g>\n </g>\n <defs>\n  <clipPath id=\"p73f44e6a5d\">\n   <rect height=\"354.521739\" width=\"380.454545\" x=\"103.463125\" y=\"22.318125\"/>\n  </clipPath>\n  <clipPath id=\"p29f52f8a98\">\n   <rect height=\"354.521739\" width=\"380.454545\" x=\"560.00858\" y=\"22.318125\"/>\n  </clipPath>\n  <clipPath id=\"pa9de59e7c1\">\n   <rect height=\"354.521739\" width=\"380.454545\" x=\"103.463125\" y=\"447.744212\"/>\n  </clipPath>\n  <clipPath id=\"pf1a3de1eee\">\n   <rect height=\"354.521739\" width=\"380.454545\" x=\"560.00858\" y=\"447.744212\"/>\n  </clipPath>\n  <clipPath id=\"pae0bd56805\">\n   <rect height=\"354.521739\" width=\"380.454545\" x=\"103.463125\" y=\"873.170299\"/>\n  </clipPath>\n  <clipPath id=\"peed07c4f7d\">\n   <rect height=\"354.521739\" width=\"380.454545\" x=\"560.00858\" y=\"873.170299\"/>\n  </clipPath>\n  <clipPath id=\"p66a8b0c696\">\n   <rect height=\"354.521739\" width=\"380.454545\" x=\"103.463125\" y=\"1298.596386\"/>\n  </clipPath>\n  <clipPath id=\"pffe98cbc09\">\n   <rect height=\"354.521739\" width=\"380.454545\" x=\"560.00858\" y=\"1298.596386\"/>\n  </clipPath>\n </defs>\n</svg>\n"
          },
          "metadata": {
            "tags": []
          }
        }
      ]
    }
  ]
}