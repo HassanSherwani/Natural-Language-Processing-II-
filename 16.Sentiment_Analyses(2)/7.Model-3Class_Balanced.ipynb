{
 "cells": [
  {
   "cell_type": "markdown",
   "metadata": {
    "colab_type": "text",
    "id": "Qp6Jzx49W_ta"
   },
   "source": [
    "# Self-Drive Cars' Sentiment Analysis"
   ]
  },
  {
   "cell_type": "markdown",
   "metadata": {},
   "source": [
    "- Implementing model based on previous notebook work\n",
    "- Taking care of imbalnced classes issue"
   ]
  },
  {
   "cell_type": "markdown",
   "metadata": {},
   "source": [
    "# 1)- Importing modules"
   ]
  },
  {
   "cell_type": "code",
   "execution_count": 1,
   "metadata": {
    "colab": {},
    "colab_type": "code",
    "id": "4V11g1goXDyF"
   },
   "outputs": [],
   "source": [
    "import warnings\n",
    "warnings.filterwarnings('ignore')\n",
    "import pandas as pd"
   ]
  },
  {
   "cell_type": "code",
   "execution_count": 2,
   "metadata": {
    "colab": {
     "base_uri": "https://localhost:8080/",
     "height": 67
    },
    "colab_type": "code",
    "id": "6NA0sfPXXLCL",
    "outputId": "00773d00-fc99-41d0-fe36-89c6bd5f511a"
   },
   "outputs": [
    {
     "name": "stderr",
     "output_type": "stream",
     "text": [
      "[nltk_data] Downloading package stopwords to\n",
      "[nltk_data]     C:\\Users\\hassan.sherwani\\AppData\\Roaming\\nltk_data...\n",
      "[nltk_data]   Package stopwords is already up-to-date!\n",
      "Using TensorFlow backend.\n"
     ]
    }
   ],
   "source": [
    "import nltk\n",
    "nltk.download('stopwords')\n",
    "from nltk.corpus import stopwords\n",
    "from sklearn.feature_extraction.text import CountVectorizer\n",
    "from keras.preprocessing.text import Tokenizer\n",
    "from keras.preprocessing.sequence import pad_sequences\n",
    "from keras.models import Sequential\n",
    "from keras.layers import Dense, Embedding, LSTM, SpatialDropout1D,Dropout\n",
    "from keras.utils.np_utils import to_categorical"
   ]
  },
  {
   "cell_type": "code",
   "execution_count": 3,
   "metadata": {
    "colab": {
     "base_uri": "https://localhost:8080/",
     "height": 34
    },
    "colab_type": "code",
    "id": "8VXLUoaCXPlB",
    "outputId": "63dffe60-2f5c-4233-8465-6f3b8d899179"
   },
   "outputs": [
    {
     "name": "stdout",
     "output_type": "stream",
     "text": [
      "Populating the interactive namespace from numpy and matplotlib\n"
     ]
    }
   ],
   "source": [
    "# Visualization \n",
    "import matplotlib.pyplot as plt\n",
    "import seaborn as sns\n",
    "from pprint import pprint\n",
    "%matplotlib inline\n",
    "%pylab inline"
   ]
  },
  {
   "cell_type": "markdown",
   "metadata": {},
   "source": [
    "# 2)- Load Data"
   ]
  },
  {
   "cell_type": "code",
   "execution_count": 87,
   "metadata": {
    "colab": {
     "base_uri": "https://localhost:8080/",
     "height": 34
    },
    "colab_type": "code",
    "id": "lo6xgI9uXZxj",
    "outputId": "677e9467-c1b6-4353-897c-abb52d788a40"
   },
   "outputs": [
    {
     "data": {
      "text/plain": [
       "(15000, 2)"
      ]
     },
     "execution_count": 87,
     "metadata": {},
     "output_type": "execute_result"
    }
   ],
   "source": [
    "import pickle\n",
    "#Loading from firm cleaned file\n",
    "df = pd.read_pickle('model.pkl')\n",
    "df.shape"
   ]
  },
  {
   "cell_type": "code",
   "execution_count": 88,
   "metadata": {
    "colab": {
     "base_uri": "https://localhost:8080/",
     "height": 195
    },
    "colab_type": "code",
    "id": "FTOu9B8UY5Ns",
    "outputId": "30e1d485-0d1d-4956-df0c-12ba1ce3a875"
   },
   "outputs": [
    {
     "data": {
      "text/html": [
       "<div>\n",
       "<style scoped>\n",
       "    .dataframe tbody tr th:only-of-type {\n",
       "        vertical-align: middle;\n",
       "    }\n",
       "\n",
       "    .dataframe tbody tr th {\n",
       "        vertical-align: top;\n",
       "    }\n",
       "\n",
       "    .dataframe thead th {\n",
       "        text-align: right;\n",
       "    }\n",
       "</style>\n",
       "<table border=\"1\" class=\"dataframe\">\n",
       "  <thead>\n",
       "    <tr style=\"text-align: right;\">\n",
       "      <th></th>\n",
       "      <th>TEXT</th>\n",
       "      <th>Sent_type</th>\n",
       "    </tr>\n",
       "  </thead>\n",
       "  <tbody>\n",
       "    <tr>\n",
       "      <th>143880</th>\n",
       "      <td>\"Over the years, the MLK estate has also licen...</td>\n",
       "      <td>Benefit</td>\n",
       "    </tr>\n",
       "    <tr>\n",
       "      <th>87455</th>\n",
       "      <td>Porsche celebrates its racing history with the...</td>\n",
       "      <td>Benefit</td>\n",
       "    </tr>\n",
       "    <tr>\n",
       "      <th>103986</th>\n",
       "      <td>Hmm, could that be the Mercedes? It made a ver...</td>\n",
       "      <td>Risky</td>\n",
       "    </tr>\n",
       "    <tr>\n",
       "      <th>261437</th>\n",
       "      <td>The Full Carbon Audi RS6 is simply Amazing  pi...</td>\n",
       "      <td>Benefit</td>\n",
       "    </tr>\n",
       "    <tr>\n",
       "      <th>205444</th>\n",
       "      <td>Vijay Mayadas explores #blockchain potential i...</td>\n",
       "      <td>Benefit</td>\n",
       "    </tr>\n",
       "  </tbody>\n",
       "</table>\n",
       "</div>"
      ],
      "text/plain": [
       "                                                     TEXT Sent_type\n",
       "143880  \"Over the years, the MLK estate has also licen...   Benefit\n",
       "87455   Porsche celebrates its racing history with the...   Benefit\n",
       "103986  Hmm, could that be the Mercedes? It made a ver...     Risky\n",
       "261437  The Full Carbon Audi RS6 is simply Amazing  pi...   Benefit\n",
       "205444  Vijay Mayadas explores #blockchain potential i...   Benefit"
      ]
     },
     "execution_count": 88,
     "metadata": {},
     "output_type": "execute_result"
    }
   ],
   "source": [
    "df.head()"
   ]
  },
  {
   "cell_type": "code",
   "execution_count": 89,
   "metadata": {},
   "outputs": [
    {
     "data": {
      "text/html": [
       "<div>\n",
       "<style scoped>\n",
       "    .dataframe tbody tr th:only-of-type {\n",
       "        vertical-align: middle;\n",
       "    }\n",
       "\n",
       "    .dataframe tbody tr th {\n",
       "        vertical-align: top;\n",
       "    }\n",
       "\n",
       "    .dataframe thead th {\n",
       "        text-align: right;\n",
       "    }\n",
       "</style>\n",
       "<table border=\"1\" class=\"dataframe\">\n",
       "  <thead>\n",
       "    <tr style=\"text-align: right;\">\n",
       "      <th></th>\n",
       "      <th>TEXT</th>\n",
       "      <th>Sent_type</th>\n",
       "    </tr>\n",
       "  </thead>\n",
       "  <tbody>\n",
       "    <tr>\n",
       "      <th>6</th>\n",
       "      <td>Oshey  version of \"theChefchi\". Porsche and as...</td>\n",
       "      <td>Benefit</td>\n",
       "    </tr>\n",
       "    <tr>\n",
       "      <th>37</th>\n",
       "      <td>He's rocking it in Tampa tonight! Great crowd,...</td>\n",
       "      <td>Benefit</td>\n",
       "    </tr>\n",
       "    <tr>\n",
       "      <th>100</th>\n",
       "      <td>Munich is an amazing city full of so many surp...</td>\n",
       "      <td>Benefit</td>\n",
       "    </tr>\n",
       "    <tr>\n",
       "      <th>103</th>\n",
       "      <td>Prince Harry’s @Audi RS6 Avant up for sale: ht...</td>\n",
       "      <td>Neutral</td>\n",
       "    </tr>\n",
       "    <tr>\n",
       "      <th>108</th>\n",
       "      <td>Porsche Taycan will have dual electric motors ...</td>\n",
       "      <td>Neutral</td>\n",
       "    </tr>\n",
       "    <tr>\n",
       "      <th>...</th>\n",
       "      <td>...</td>\n",
       "      <td>...</td>\n",
       "    </tr>\n",
       "    <tr>\n",
       "      <th>455623</th>\n",
       "      <td>The more I find out about BMW the more impress...</td>\n",
       "      <td>Benefit</td>\n",
       "    </tr>\n",
       "    <tr>\n",
       "      <th>455686</th>\n",
       "      <td>Mercedes doesn't like Billy Joel therefore I d...</td>\n",
       "      <td>Risky</td>\n",
       "    </tr>\n",
       "    <tr>\n",
       "      <th>455690</th>\n",
       "      <td>Earlier today Lauren said \"would you rather ta...</td>\n",
       "      <td>Neutral</td>\n",
       "    </tr>\n",
       "    <tr>\n",
       "      <th>455717</th>\n",
       "      <td>Techart based on Porsche 911 997 GT3 pic.twitt...</td>\n",
       "      <td>Neutral</td>\n",
       "    </tr>\n",
       "    <tr>\n",
       "      <th>455718</th>\n",
       "      <td>LOL @KronoviRL with the technical issues... Yo...</td>\n",
       "      <td>Benefit</td>\n",
       "    </tr>\n",
       "  </tbody>\n",
       "</table>\n",
       "<p>15000 rows × 2 columns</p>\n",
       "</div>"
      ],
      "text/plain": [
       "                                                     TEXT Sent_type\n",
       "6       Oshey  version of \"theChefchi\". Porsche and as...   Benefit\n",
       "37      He's rocking it in Tampa tonight! Great crowd,...   Benefit\n",
       "100     Munich is an amazing city full of so many surp...   Benefit\n",
       "103     Prince Harry’s @Audi RS6 Avant up for sale: ht...   Neutral\n",
       "108     Porsche Taycan will have dual electric motors ...   Neutral\n",
       "...                                                   ...       ...\n",
       "455623  The more I find out about BMW the more impress...   Benefit\n",
       "455686  Mercedes doesn't like Billy Joel therefore I d...     Risky\n",
       "455690  Earlier today Lauren said \"would you rather ta...   Neutral\n",
       "455717  Techart based on Porsche 911 997 GT3 pic.twitt...   Neutral\n",
       "455718  LOL @KronoviRL with the technical issues... Yo...   Benefit\n",
       "\n",
       "[15000 rows x 2 columns]"
      ]
     },
     "execution_count": 89,
     "metadata": {},
     "output_type": "execute_result"
    }
   ],
   "source": [
    "df.sort_index(ascending=True)"
   ]
  },
  {
   "cell_type": "code",
   "execution_count": 95,
   "metadata": {},
   "outputs": [
    {
     "data": {
      "text/plain": [
       "Neutral    6513\n",
       "Benefit    5912\n",
       "Risky      2575\n",
       "Name: Sent_type, dtype: int64"
      ]
     },
     "execution_count": 95,
     "metadata": {},
     "output_type": "execute_result"
    }
   ],
   "source": [
    "df.Sent_type.value_counts()"
   ]
  },
  {
   "cell_type": "code",
   "execution_count": 6,
   "metadata": {
    "colab": {
     "base_uri": "https://localhost:8080/",
     "height": 325
    },
    "colab_type": "code",
    "id": "4bt8yJT3YqeM",
    "outputId": "101819b2-9d47-497f-fca1-5507547a1f07"
   },
   "outputs": [
    {
     "data": {
      "text/plain": [
       "<matplotlib.axes._subplots.AxesSubplot at 0x1e1407b1808>"
      ]
     },
     "execution_count": 6,
     "metadata": {},
     "output_type": "execute_result"
    },
    {
     "data": {
      "image/png": "[encoded data removed]",
      "text/plain": [
       "<Figure size 432x288 with 1 Axes>"
      ]
     },
     "metadata": {
      "needs_background": "light"
     },
     "output_type": "display_data"
    }
   ],
   "source": [
    "df.Sent_type.value_counts().plot(kind='bar')"
   ]
  },
  {
   "cell_type": "code",
   "execution_count": 7,
   "metadata": {},
   "outputs": [
    {
     "data": {
      "text/plain": [
       "Neutral    0.434200\n",
       "Benefit    0.394133\n",
       "Risky      0.171667\n",
       "Name: Sent_type, dtype: float64"
      ]
     },
     "execution_count": 7,
     "metadata": {},
     "output_type": "execute_result"
    }
   ],
   "source": [
    "df.Sent_type.value_counts(normalize=True)"
   ]
  },
  {
   "cell_type": "markdown",
   "metadata": {
    "colab_type": "text",
    "id": "D8l9q_6IZrCH"
   },
   "source": [
    "# 3)- Cleaning"
   ]
  },
  {
   "cell_type": "code",
   "execution_count": 8,
   "metadata": {
    "colab": {},
    "colab_type": "code",
    "id": "fY-fpNnMZoe0"
   },
   "outputs": [],
   "source": [
    "REPLACE_BY_SPACE_RE = re.compile('[/(){}\\[\\]\\|@,;#]')\n",
    "BAD_SYMBOLS_RE = re.compile('[^0-9a-z +_]')\n",
    "STOPWORDS = stopwords.words('english')\n",
    "STOPWORDS.extend(['rt', 'http','https','pictwittercom']) # extend stopwords; rt means re-tweet\n",
    "STOPWORDS = set(STOPWORDS)\n",
    "\n",
    "def text_prepare(text):\n",
    "    \"\"\"\n",
    "        text: a string\n",
    "        \n",
    "        return: modified initial string\n",
    "    \"\"\"\n",
    "    text = text.lower() # lowercase text\n",
    "    text = REPLACE_BY_SPACE_RE.sub(' ', text) # replace REPLACE_BY_SPACE_RE symbols by space in text\n",
    "    text = BAD_SYMBOLS_RE.sub('', text) # delete symbols which are in BAD_SYMBOLS_RE from text\n",
    "    text = ' '.join([word for word in text.split() if word not in STOPWORDS]) # delete stopwords from text\n",
    "    text = text.strip()\n",
    "    return text"
   ]
  },
  {
   "cell_type": "code",
   "execution_count": 9,
   "metadata": {
    "colab": {},
    "colab_type": "code",
    "id": "J2Bc40sPZv3N"
   },
   "outputs": [],
   "source": [
    "df['cleaned']=[text_prepare(x) for x in df['TEXT']]"
   ]
  },
  {
   "cell_type": "code",
   "execution_count": 10,
   "metadata": {
    "colab": {
     "base_uri": "https://localhost:8080/",
     "height": 118
    },
    "colab_type": "code",
    "id": "imVwFpEBZykV",
    "outputId": "fb4feb55-1eba-4bf3-d7dd-95daa17eaa46"
   },
   "outputs": [
    {
     "name": "stdout",
     "output_type": "stream",
     "text": [
      "143880    \"Over the years, the MLK estate has also licen...\n",
      "87455     Porsche celebrates its racing history with the...\n",
      "103986    Hmm, could that be the Mercedes? It made a ver...\n",
      "261437    The Full Carbon Audi RS6 is simply Amazing  pi...\n",
      "205444    Vijay Mayadas explores #blockchain potential i...\n",
      "Name: TEXT, dtype: object\n"
     ]
    }
   ],
   "source": [
    "print(df.TEXT[:5])"
   ]
  },
  {
   "cell_type": "code",
   "execution_count": 11,
   "metadata": {
    "colab": {
     "base_uri": "https://localhost:8080/",
     "height": 118
    },
    "colab_type": "code",
    "id": "n4E2CYMYZzja",
    "outputId": "0231b6fb-1a87-4320-c1fb-4c426aaddaa3"
   },
   "outputs": [
    {
     "data": {
      "text/plain": [
       "143880    years mlk estate also licensed king speeches u...\n",
       "87455     porsche celebrates racing history 911 carrera ...\n",
       "103986    hmm could mercedes made strange noise hamilton...\n",
       "261437       full carbon audi rs6 simply amazing lurgrsmbqs\n",
       "205444    vijay mayadas explores blockchain potential ch...\n",
       "Name: cleaned, dtype: object"
      ]
     },
     "execution_count": 11,
     "metadata": {},
     "output_type": "execute_result"
    }
   ],
   "source": [
    "df.cleaned[:5]"
   ]
  },
  {
   "cell_type": "code",
   "execution_count": 13,
   "metadata": {
    "colab": {
     "base_uri": "https://localhost:8080/",
     "height": 34
    },
    "colab_type": "code",
    "id": "LpEPLzlNkGWK",
    "outputId": "f443561e-6833-4de1-f174-5d982932999e"
   },
   "outputs": [
    {
     "data": {
      "text/plain": [
       "'years mlk estate also licensed king speeches used ads alcatel apple chevrolet mercedes add dodge list sued makers eyes prize wwwpoliticocom magazine story 2015 01 selmamartinlutherkingcanyoucopyrightadream114187'"
      ]
     },
     "execution_count": 13,
     "metadata": {},
     "output_type": "execute_result"
    }
   ],
   "source": [
    "df.cleaned[143880]"
   ]
  },
  {
   "cell_type": "markdown",
   "metadata": {
    "colab_type": "text",
    "id": "6te5QqOdZ9jR"
   },
   "source": [
    "### most common words"
   ]
  },
  {
   "cell_type": "code",
   "execution_count": 14,
   "metadata": {
    "colab": {
     "base_uri": "https://localhost:8080/",
     "height": 185
    },
    "colab_type": "code",
    "id": "-M9M5zA8Zzf_",
    "outputId": "b8893310-4d66-498e-d042-0365280778c1"
   },
   "outputs": [
    {
     "data": {
      "text/plain": [
       "[('selfdriving', 2738),\n",
       " ('bmw', 2367),\n",
       " ('porsche', 2177),\n",
       " ('cars', 1896),\n",
       " ('car', 1754),\n",
       " ('motors', 1693),\n",
       " ('mercedes', 1606),\n",
       " ('audi', 1458),\n",
       " ('new', 1150),\n",
       " ('general', 1123)]"
      ]
     },
     "execution_count": 14,
     "metadata": {},
     "output_type": "execute_result"
    }
   ],
   "source": [
    "# Dictionary of all words from train corpus with their counts.\n",
    "words_counts = {}\n",
    "\n",
    "from collections import Counter\n",
    "words_counts = Counter([word for line in df['cleaned'] for word in line.split(' ')])\n",
    "\n",
    "# Sorting \n",
    "most_common_words = sorted(words_counts.items(), key=lambda x: x[1], reverse=True)[:10]\n",
    "\n",
    "# Top 10\n",
    "most_common_words[:10]"
   ]
  },
  {
   "cell_type": "markdown",
   "metadata": {
    "colab_type": "text",
    "id": "zsd387xCoIKC"
   },
   "source": [
    "# 4)-RNN\n",
    "\n",
    "- Applying LSTM"
   ]
  },
  {
   "cell_type": "code",
   "execution_count": 15,
   "metadata": {
    "colab": {},
    "colab_type": "code",
    "id": "diMXCZiKntnV"
   },
   "outputs": [],
   "source": [
    "from sklearn.feature_extraction.text import CountVectorizer\n",
    "from keras.preprocessing.text import Tokenizer\n",
    "from keras.preprocessing.sequence import pad_sequences\n",
    "from keras.models import Sequential\n",
    "from keras.layers import Dense, Embedding, LSTM, SpatialDropout1D,Dropout\n",
    "from keras.utils.np_utils import to_categorical\n",
    "from keras.utils import np_utils"
   ]
  },
  {
   "cell_type": "code",
   "execution_count": 16,
   "metadata": {
    "colab": {
     "base_uri": "https://localhost:8080/",
     "height": 195
    },
    "colab_type": "code",
    "id": "_QCnBDvaoLGn",
    "outputId": "e6f1e37a-2696-4b97-a764-19819ce128ca"
   },
   "outputs": [
    {
     "data": {
      "text/html": [
       "<div>\n",
       "<style scoped>\n",
       "    .dataframe tbody tr th:only-of-type {\n",
       "        vertical-align: middle;\n",
       "    }\n",
       "\n",
       "    .dataframe tbody tr th {\n",
       "        vertical-align: top;\n",
       "    }\n",
       "\n",
       "    .dataframe thead th {\n",
       "        text-align: right;\n",
       "    }\n",
       "</style>\n",
       "<table border=\"1\" class=\"dataframe\">\n",
       "  <thead>\n",
       "    <tr style=\"text-align: right;\">\n",
       "      <th></th>\n",
       "      <th>TEXT</th>\n",
       "      <th>Sent_type</th>\n",
       "      <th>cleaned</th>\n",
       "    </tr>\n",
       "  </thead>\n",
       "  <tbody>\n",
       "    <tr>\n",
       "      <th>143880</th>\n",
       "      <td>\"Over the years, the MLK estate has also licen...</td>\n",
       "      <td>Benefit</td>\n",
       "      <td>years mlk estate also licensed king speeches u...</td>\n",
       "    </tr>\n",
       "    <tr>\n",
       "      <th>87455</th>\n",
       "      <td>Porsche celebrates its racing history with the...</td>\n",
       "      <td>Benefit</td>\n",
       "      <td>porsche celebrates racing history 911 carrera ...</td>\n",
       "    </tr>\n",
       "    <tr>\n",
       "      <th>103986</th>\n",
       "      <td>Hmm, could that be the Mercedes? It made a ver...</td>\n",
       "      <td>Risky</td>\n",
       "      <td>hmm could mercedes made strange noise hamilton...</td>\n",
       "    </tr>\n",
       "    <tr>\n",
       "      <th>261437</th>\n",
       "      <td>The Full Carbon Audi RS6 is simply Amazing  pi...</td>\n",
       "      <td>Benefit</td>\n",
       "      <td>full carbon audi rs6 simply amazing lurgrsmbqs</td>\n",
       "    </tr>\n",
       "    <tr>\n",
       "      <th>205444</th>\n",
       "      <td>Vijay Mayadas explores #blockchain potential i...</td>\n",
       "      <td>Benefit</td>\n",
       "      <td>vijay mayadas explores blockchain potential ch...</td>\n",
       "    </tr>\n",
       "  </tbody>\n",
       "</table>\n",
       "</div>"
      ],
      "text/plain": [
       "                                                     TEXT Sent_type  \\\n",
       "143880  \"Over the years, the MLK estate has also licen...   Benefit   \n",
       "87455   Porsche celebrates its racing history with the...   Benefit   \n",
       "103986  Hmm, could that be the Mercedes? It made a ver...     Risky   \n",
       "261437  The Full Carbon Audi RS6 is simply Amazing  pi...   Benefit   \n",
       "205444  Vijay Mayadas explores #blockchain potential i...   Benefit   \n",
       "\n",
       "                                                  cleaned  \n",
       "143880  years mlk estate also licensed king speeches u...  \n",
       "87455   porsche celebrates racing history 911 carrera ...  \n",
       "103986  hmm could mercedes made strange noise hamilton...  \n",
       "261437     full carbon audi rs6 simply amazing lurgrsmbqs  \n",
       "205444  vijay mayadas explores blockchain potential ch...  "
      ]
     },
     "execution_count": 16,
     "metadata": {},
     "output_type": "execute_result"
    }
   ],
   "source": [
    "df.head()"
   ]
  },
  {
   "cell_type": "code",
   "execution_count": 17,
   "metadata": {
    "colab": {},
    "colab_type": "code",
    "id": "hw8_2HH5oLCU"
   },
   "outputs": [],
   "source": [
    "y=df['Sent_type']"
   ]
  },
  {
   "cell_type": "code",
   "execution_count": 18,
   "metadata": {
    "colab": {
     "base_uri": "https://localhost:8080/",
     "height": 34
    },
    "colab_type": "code",
    "id": "8vFuAleapE5d",
    "outputId": "dab305ae-1a13-4c73-f151-a4dd97dabb22"
   },
   "outputs": [
    {
     "data": {
      "text/plain": [
       "(15000,)"
      ]
     },
     "execution_count": 18,
     "metadata": {},
     "output_type": "execute_result"
    }
   ],
   "source": [
    "df['cleaned'].shape"
   ]
  },
  {
   "cell_type": "code",
   "execution_count": 19,
   "metadata": {
    "colab": {},
    "colab_type": "code",
    "id": "pODw9T1wpPJk"
   },
   "outputs": [],
   "source": [
    "X=df.cleaned"
   ]
  },
  {
   "cell_type": "code",
   "execution_count": 20,
   "metadata": {},
   "outputs": [
    {
     "name": "stdout",
     "output_type": "stream",
     "text": [
      "(15000,)\n",
      "(15000,)\n"
     ]
    }
   ],
   "source": [
    "print(X.shape)\n",
    "print(y.shape)"
   ]
  },
  {
   "cell_type": "markdown",
   "metadata": {
    "colab_type": "text",
    "id": "o3zcu8d3uLKk"
   },
   "source": [
    "## Step1- Convert words to matrix\n",
    "\n",
    "We need to convert words into matrices. One way is shown through sklearn. Other way is given. We can always match the two\n",
    "\n",
    "- Vectorize tweet, by turning each text into either a sequence of integers or into a vector.\n",
    "- Limit the data set to the top 5,000 words.\n",
    "- Set the max number of words in each complaint at 280(max size limit for twitter is 280 ).\n"
   ]
  },
  {
   "cell_type": "markdown",
   "metadata": {
    "colab_type": "text",
    "id": "O7cqQhvQ6UBE"
   },
   "source": [
    "### i-I started by fitting a tokenizer on my document as in here:"
   ]
  },
  {
   "cell_type": "code",
   "execution_count": 21,
   "metadata": {
    "colab": {},
    "colab_type": "code",
    "id": "8cZL1Ultz2sp"
   },
   "outputs": [],
   "source": [
    "# The maximum number of words to be used. (most frequent)\n",
    "MAX_NB_WORDS = 5000\n",
    "# Max number of words in each complaint.\n",
    "MAX_SEQUENCE_LENGTH = 280\n",
    "# This is fixed.\n",
    "EMBEDDING_DIM = 100\n",
    "\n",
    "tokenizer = Tokenizer(num_words=MAX_NB_WORDS, filters='!\"#$%&()*+,-./:;<=>?@[\\]^_`{|}~', lower=True)\n",
    "tokenizer.fit_on_texts(X.values)"
   ]
  },
  {
   "cell_type": "code",
   "execution_count": 22,
   "metadata": {},
   "outputs": [
    {
     "name": "stdout",
     "output_type": "stream",
     "text": [
      "Found 50716 unique tokens.\n"
     ]
    }
   ],
   "source": [
    "word_index = tokenizer.word_index\n",
    "print('Found %s unique tokens.' % len(word_index))"
   ]
  },
  {
   "cell_type": "markdown",
   "metadata": {
    "colab_type": "text",
    "id": "0VBD7Zq06zll"
   },
   "source": [
    "### ii- I wanted to check if my data is fitted correctly so I converted into sequence"
   ]
  },
  {
   "cell_type": "code",
   "execution_count": 23,
   "metadata": {
    "colab": {},
    "colab_type": "code",
    "id": "KQLS74VW0pI1"
   },
   "outputs": [],
   "source": [
    "# convert to sequence\n",
    "X_token = tokenizer.texts_to_sequences(X.values)"
   ]
  },
  {
   "cell_type": "code",
   "execution_count": 24,
   "metadata": {
    "colab": {
     "base_uri": "https://localhost:8080/",
     "height": 195
    },
    "colab_type": "code",
    "id": "1vnv-xwo0pGh",
    "outputId": "fd3d169d-8c24-4702-daf2-ad32656b2d39"
   },
   "outputs": [
    {
     "data": {
      "text/html": [
       "<div>\n",
       "<style scoped>\n",
       "    .dataframe tbody tr th:only-of-type {\n",
       "        vertical-align: middle;\n",
       "    }\n",
       "\n",
       "    .dataframe tbody tr th {\n",
       "        vertical-align: top;\n",
       "    }\n",
       "\n",
       "    .dataframe thead th {\n",
       "        text-align: right;\n",
       "    }\n",
       "</style>\n",
       "<table border=\"1\" class=\"dataframe\">\n",
       "  <thead>\n",
       "    <tr style=\"text-align: right;\">\n",
       "      <th></th>\n",
       "      <th>0</th>\n",
       "      <th>1</th>\n",
       "      <th>2</th>\n",
       "      <th>3</th>\n",
       "      <th>4</th>\n",
       "      <th>5</th>\n",
       "      <th>6</th>\n",
       "      <th>7</th>\n",
       "      <th>8</th>\n",
       "      <th>9</th>\n",
       "      <th>...</th>\n",
       "      <th>38</th>\n",
       "      <th>39</th>\n",
       "      <th>40</th>\n",
       "      <th>41</th>\n",
       "      <th>42</th>\n",
       "      <th>43</th>\n",
       "      <th>44</th>\n",
       "      <th>45</th>\n",
       "      <th>46</th>\n",
       "      <th>47</th>\n",
       "    </tr>\n",
       "  </thead>\n",
       "  <tbody>\n",
       "    <tr>\n",
       "      <th>0</th>\n",
       "      <td>73.0</td>\n",
       "      <td>1792.0</td>\n",
       "      <td>158.0</td>\n",
       "      <td>1537.0</td>\n",
       "      <td>181.0</td>\n",
       "      <td>1462.0</td>\n",
       "      <td>189.0</td>\n",
       "      <td>398.0</td>\n",
       "      <td>7.0</td>\n",
       "      <td>1212.0</td>\n",
       "      <td>...</td>\n",
       "      <td>NaN</td>\n",
       "      <td>NaN</td>\n",
       "      <td>NaN</td>\n",
       "      <td>NaN</td>\n",
       "      <td>NaN</td>\n",
       "      <td>NaN</td>\n",
       "      <td>NaN</td>\n",
       "      <td>NaN</td>\n",
       "      <td>NaN</td>\n",
       "      <td>NaN</td>\n",
       "    </tr>\n",
       "    <tr>\n",
       "      <th>1</th>\n",
       "      <td>3.0</td>\n",
       "      <td>2674.0</td>\n",
       "      <td>104.0</td>\n",
       "      <td>496.0</td>\n",
       "      <td>37.0</td>\n",
       "      <td>450.0</td>\n",
       "      <td>1793.0</td>\n",
       "      <td>104.0</td>\n",
       "      <td>451.0</td>\n",
       "      <td>2031.0</td>\n",
       "      <td>...</td>\n",
       "      <td>NaN</td>\n",
       "      <td>NaN</td>\n",
       "      <td>NaN</td>\n",
       "      <td>NaN</td>\n",
       "      <td>NaN</td>\n",
       "      <td>NaN</td>\n",
       "      <td>NaN</td>\n",
       "      <td>NaN</td>\n",
       "      <td>NaN</td>\n",
       "      <td>NaN</td>\n",
       "    </tr>\n",
       "    <tr>\n",
       "      <th>2</th>\n",
       "      <td>69.0</td>\n",
       "      <td>7.0</td>\n",
       "      <td>99.0</td>\n",
       "      <td>4067.0</td>\n",
       "      <td>3610.0</td>\n",
       "      <td>277.0</td>\n",
       "      <td>1794.0</td>\n",
       "      <td>2935.0</td>\n",
       "      <td>78.0</td>\n",
       "      <td>NaN</td>\n",
       "      <td>...</td>\n",
       "      <td>NaN</td>\n",
       "      <td>NaN</td>\n",
       "      <td>NaN</td>\n",
       "      <td>NaN</td>\n",
       "      <td>NaN</td>\n",
       "      <td>NaN</td>\n",
       "      <td>NaN</td>\n",
       "      <td>NaN</td>\n",
       "      <td>NaN</td>\n",
       "      <td>NaN</td>\n",
       "    </tr>\n",
       "    <tr>\n",
       "      <th>3</th>\n",
       "      <td>146.0</td>\n",
       "      <td>1463.0</td>\n",
       "      <td>8.0</td>\n",
       "      <td>1325.0</td>\n",
       "      <td>2167.0</td>\n",
       "      <td>380.0</td>\n",
       "      <td>NaN</td>\n",
       "      <td>NaN</td>\n",
       "      <td>NaN</td>\n",
       "      <td>NaN</td>\n",
       "      <td>...</td>\n",
       "      <td>NaN</td>\n",
       "      <td>NaN</td>\n",
       "      <td>NaN</td>\n",
       "      <td>NaN</td>\n",
       "      <td>NaN</td>\n",
       "      <td>NaN</td>\n",
       "      <td>NaN</td>\n",
       "      <td>NaN</td>\n",
       "      <td>NaN</td>\n",
       "      <td>NaN</td>\n",
       "    </tr>\n",
       "    <tr>\n",
       "      <th>4</th>\n",
       "      <td>1213.0</td>\n",
       "      <td>1795.0</td>\n",
       "      <td>245.0</td>\n",
       "      <td>1326.0</td>\n",
       "      <td>59.0</td>\n",
       "      <td>23.0</td>\n",
       "      <td>1159.0</td>\n",
       "      <td>1.0</td>\n",
       "      <td>4.0</td>\n",
       "      <td>19.0</td>\n",
       "      <td>...</td>\n",
       "      <td>NaN</td>\n",
       "      <td>NaN</td>\n",
       "      <td>NaN</td>\n",
       "      <td>NaN</td>\n",
       "      <td>NaN</td>\n",
       "      <td>NaN</td>\n",
       "      <td>NaN</td>\n",
       "      <td>NaN</td>\n",
       "      <td>NaN</td>\n",
       "      <td>NaN</td>\n",
       "    </tr>\n",
       "  </tbody>\n",
       "</table>\n",
       "<p>5 rows × 48 columns</p>\n",
       "</div>"
      ],
      "text/plain": [
       "       0       1      2       3       4       5       6       7      8   \\\n",
       "0    73.0  1792.0  158.0  1537.0   181.0  1462.0   189.0   398.0    7.0   \n",
       "1     3.0  2674.0  104.0   496.0    37.0   450.0  1793.0   104.0  451.0   \n",
       "2    69.0     7.0   99.0  4067.0  3610.0   277.0  1794.0  2935.0   78.0   \n",
       "3   146.0  1463.0    8.0  1325.0  2167.0   380.0     NaN     NaN    NaN   \n",
       "4  1213.0  1795.0  245.0  1326.0    59.0    23.0  1159.0     1.0    4.0   \n",
       "\n",
       "       9   ...  38  39  40  41  42  43  44  45  46  47  \n",
       "0  1212.0  ... NaN NaN NaN NaN NaN NaN NaN NaN NaN NaN  \n",
       "1  2031.0  ... NaN NaN NaN NaN NaN NaN NaN NaN NaN NaN  \n",
       "2     NaN  ... NaN NaN NaN NaN NaN NaN NaN NaN NaN NaN  \n",
       "3     NaN  ... NaN NaN NaN NaN NaN NaN NaN NaN NaN NaN  \n",
       "4    19.0  ... NaN NaN NaN NaN NaN NaN NaN NaN NaN NaN  \n",
       "\n",
       "[5 rows x 48 columns]"
      ]
     },
     "execution_count": 24,
     "metadata": {},
     "output_type": "execute_result"
    }
   ],
   "source": [
    "pd.DataFrame(X_token).head()"
   ]
  },
  {
   "cell_type": "markdown",
   "metadata": {
    "colab_type": "text",
    "id": "21rZlL519zcR"
   },
   "source": [
    "It means that \"two\" is encoded as 153, \"places\" as 944 and so on...... \"selfdriving\" as 5 and finally \"cars\" as 3"
   ]
  },
  {
   "cell_type": "code",
   "execution_count": 25,
   "metadata": {},
   "outputs": [
    {
     "data": {
      "text/html": [
       "<div>\n",
       "<style scoped>\n",
       "    .dataframe tbody tr th:only-of-type {\n",
       "        vertical-align: middle;\n",
       "    }\n",
       "\n",
       "    .dataframe tbody tr th {\n",
       "        vertical-align: top;\n",
       "    }\n",
       "\n",
       "    .dataframe thead th {\n",
       "        text-align: right;\n",
       "    }\n",
       "</style>\n",
       "<table border=\"1\" class=\"dataframe\">\n",
       "  <thead>\n",
       "    <tr style=\"text-align: right;\">\n",
       "      <th></th>\n",
       "      <th>TEXT</th>\n",
       "      <th>Sent_type</th>\n",
       "      <th>cleaned</th>\n",
       "    </tr>\n",
       "  </thead>\n",
       "  <tbody>\n",
       "    <tr>\n",
       "      <th>143880</th>\n",
       "      <td>\"Over the years, the MLK estate has also licen...</td>\n",
       "      <td>Benefit</td>\n",
       "      <td>years mlk estate also licensed king speeches u...</td>\n",
       "    </tr>\n",
       "    <tr>\n",
       "      <th>87455</th>\n",
       "      <td>Porsche celebrates its racing history with the...</td>\n",
       "      <td>Benefit</td>\n",
       "      <td>porsche celebrates racing history 911 carrera ...</td>\n",
       "    </tr>\n",
       "    <tr>\n",
       "      <th>103986</th>\n",
       "      <td>Hmm, could that be the Mercedes? It made a ver...</td>\n",
       "      <td>Risky</td>\n",
       "      <td>hmm could mercedes made strange noise hamilton...</td>\n",
       "    </tr>\n",
       "    <tr>\n",
       "      <th>261437</th>\n",
       "      <td>The Full Carbon Audi RS6 is simply Amazing  pi...</td>\n",
       "      <td>Benefit</td>\n",
       "      <td>full carbon audi rs6 simply amazing lurgrsmbqs</td>\n",
       "    </tr>\n",
       "    <tr>\n",
       "      <th>205444</th>\n",
       "      <td>Vijay Mayadas explores #blockchain potential i...</td>\n",
       "      <td>Benefit</td>\n",
       "      <td>vijay mayadas explores blockchain potential ch...</td>\n",
       "    </tr>\n",
       "  </tbody>\n",
       "</table>\n",
       "</div>"
      ],
      "text/plain": [
       "                                                     TEXT Sent_type  \\\n",
       "143880  \"Over the years, the MLK estate has also licen...   Benefit   \n",
       "87455   Porsche celebrates its racing history with the...   Benefit   \n",
       "103986  Hmm, could that be the Mercedes? It made a ver...     Risky   \n",
       "261437  The Full Carbon Audi RS6 is simply Amazing  pi...   Benefit   \n",
       "205444  Vijay Mayadas explores #blockchain potential i...   Benefit   \n",
       "\n",
       "                                                  cleaned  \n",
       "143880  years mlk estate also licensed king speeches u...  \n",
       "87455   porsche celebrates racing history 911 carrera ...  \n",
       "103986  hmm could mercedes made strange noise hamilton...  \n",
       "261437     full carbon audi rs6 simply amazing lurgrsmbqs  \n",
       "205444  vijay mayadas explores blockchain potential ch...  "
      ]
     },
     "execution_count": 25,
     "metadata": {},
     "output_type": "execute_result"
    }
   ],
   "source": [
    "df.head()"
   ]
  },
  {
   "cell_type": "code",
   "execution_count": 27,
   "metadata": {
    "colab": {
     "base_uri": "https://localhost:8080/",
     "height": 34
    },
    "colab_type": "code",
    "id": "qrOvsAIO8a4S",
    "outputId": "fb7a0065-d2f3-43ff-d06a-3c83079f4ad8"
   },
   "outputs": [
    {
     "data": {
      "text/plain": [
       "'years mlk estate also licensed king speeches used ads alcatel apple chevrolet mercedes add dodge list sued makers eyes prize wwwpoliticocom magazine story 2015 01 selmamartinlutherkingcanyoucopyrightadream114187'"
      ]
     },
     "execution_count": 27,
     "metadata": {},
     "output_type": "execute_result"
    }
   ],
   "source": [
    "df['cleaned'][143880]"
   ]
  },
  {
   "cell_type": "code",
   "execution_count": 28,
   "metadata": {
    "colab": {
     "base_uri": "https://localhost:8080/",
     "height": 34
    },
    "colab_type": "code",
    "id": "6WoFLOQf-Szl",
    "outputId": "bad3a9fe-4426-4b09-80c2-e238e0874a32"
   },
   "outputs": [
    {
     "data": {
      "text/plain": [
       "'hmm could mercedes made strange noise hamilton passed pits f1'"
      ]
     },
     "execution_count": 28,
     "metadata": {},
     "output_type": "execute_result"
    }
   ],
   "source": [
    "df['cleaned'][103986]"
   ]
  },
  {
   "cell_type": "markdown",
   "metadata": {
    "colab_type": "text",
    "id": "8MhVFubL-mNc"
   },
   "source": [
    "**google is encoded as 4. And cars as 3 . car as 2. Let's confirm our encoding scheme with one more**"
   ]
  },
  {
   "cell_type": "code",
   "execution_count": 29,
   "metadata": {
    "colab": {
     "base_uri": "https://localhost:8080/",
     "height": 34
    },
    "colab_type": "code",
    "id": "tQvHM15Q-juk",
    "outputId": "962e7dd5-5458-40f7-ccb5-026c036fd727"
   },
   "outputs": [
    {
     "data": {
      "text/plain": [
       "'vijay mayadas explores blockchain potential china impact tech like 5g selfdriving cars scmp_news owly nxef309orempictwittercom us7a02saia'"
      ]
     },
     "execution_count": 29,
     "metadata": {},
     "output_type": "execute_result"
    }
   ],
   "source": [
    "df['cleaned'][205444]"
   ]
  },
  {
   "cell_type": "markdown",
   "metadata": {
    "colab_type": "text",
    "id": "-6cjKbKN-0Dk"
   },
   "source": [
    "Perfect google is 4 and cars is 3"
   ]
  },
  {
   "cell_type": "markdown",
   "metadata": {
    "colab_type": "text",
    "id": "9TnwL79O09Rd"
   },
   "source": [
    "###  pad_sequence:To keep all vectors of same length, I will use pad_sequence"
   ]
  },
  {
   "cell_type": "code",
   "execution_count": 30,
   "metadata": {
    "colab": {},
    "colab_type": "code",
    "id": "0PtZoGfB0pDT"
   },
   "outputs": [],
   "source": [
    "X_pd_sq = pad_sequences(X_token,maxlen=MAX_SEQUENCE_LENGTH)"
   ]
  },
  {
   "cell_type": "code",
   "execution_count": 31,
   "metadata": {},
   "outputs": [
    {
     "name": "stdout",
     "output_type": "stream",
     "text": [
      "Shape of data tensor: (15000, 280)\n"
     ]
    }
   ],
   "source": [
    "print('Shape of data tensor:', X_pd_sq.shape)"
   ]
  },
  {
   "cell_type": "markdown",
   "metadata": {
    "colab_type": "text",
    "id": "khuQ3S_X1VUF"
   },
   "source": [
    "To avoid AttributeError: 'numpy.ndarray' object has no attribute 'head', we will check in dataframe. Still input to neural network will be numpy array not dataframe"
   ]
  },
  {
   "cell_type": "code",
   "execution_count": 32,
   "metadata": {
    "colab": {
     "base_uri": "https://localhost:8080/",
     "height": 195
    },
    "colab_type": "code",
    "id": "3bsluvli0pAi",
    "outputId": "c1440e51-e5b1-493c-b540-4d9e4f7d41ff"
   },
   "outputs": [
    {
     "data": {
      "text/html": [
       "<div>\n",
       "<style scoped>\n",
       "    .dataframe tbody tr th:only-of-type {\n",
       "        vertical-align: middle;\n",
       "    }\n",
       "\n",
       "    .dataframe tbody tr th {\n",
       "        vertical-align: top;\n",
       "    }\n",
       "\n",
       "    .dataframe thead th {\n",
       "        text-align: right;\n",
       "    }\n",
       "</style>\n",
       "<table border=\"1\" class=\"dataframe\">\n",
       "  <thead>\n",
       "    <tr style=\"text-align: right;\">\n",
       "      <th></th>\n",
       "      <th>0</th>\n",
       "      <th>1</th>\n",
       "      <th>2</th>\n",
       "      <th>3</th>\n",
       "      <th>4</th>\n",
       "      <th>5</th>\n",
       "      <th>6</th>\n",
       "      <th>7</th>\n",
       "      <th>8</th>\n",
       "      <th>9</th>\n",
       "      <th>...</th>\n",
       "      <th>270</th>\n",
       "      <th>271</th>\n",
       "      <th>272</th>\n",
       "      <th>273</th>\n",
       "      <th>274</th>\n",
       "      <th>275</th>\n",
       "      <th>276</th>\n",
       "      <th>277</th>\n",
       "      <th>278</th>\n",
       "      <th>279</th>\n",
       "    </tr>\n",
       "  </thead>\n",
       "  <tbody>\n",
       "    <tr>\n",
       "      <th>0</th>\n",
       "      <td>0</td>\n",
       "      <td>0</td>\n",
       "      <td>0</td>\n",
       "      <td>0</td>\n",
       "      <td>0</td>\n",
       "      <td>0</td>\n",
       "      <td>0</td>\n",
       "      <td>0</td>\n",
       "      <td>0</td>\n",
       "      <td>0</td>\n",
       "      <td>...</td>\n",
       "      <td>2673</td>\n",
       "      <td>991</td>\n",
       "      <td>2934</td>\n",
       "      <td>1695</td>\n",
       "      <td>915</td>\n",
       "      <td>2487</td>\n",
       "      <td>1385</td>\n",
       "      <td>159</td>\n",
       "      <td>511</td>\n",
       "      <td>345</td>\n",
       "    </tr>\n",
       "    <tr>\n",
       "      <th>1</th>\n",
       "      <td>0</td>\n",
       "      <td>0</td>\n",
       "      <td>0</td>\n",
       "      <td>0</td>\n",
       "      <td>0</td>\n",
       "      <td>0</td>\n",
       "      <td>0</td>\n",
       "      <td>0</td>\n",
       "      <td>0</td>\n",
       "      <td>0</td>\n",
       "      <td>...</td>\n",
       "      <td>2674</td>\n",
       "      <td>104</td>\n",
       "      <td>496</td>\n",
       "      <td>37</td>\n",
       "      <td>450</td>\n",
       "      <td>1793</td>\n",
       "      <td>104</td>\n",
       "      <td>451</td>\n",
       "      <td>2031</td>\n",
       "      <td>3</td>\n",
       "    </tr>\n",
       "    <tr>\n",
       "      <th>2</th>\n",
       "      <td>0</td>\n",
       "      <td>0</td>\n",
       "      <td>0</td>\n",
       "      <td>0</td>\n",
       "      <td>0</td>\n",
       "      <td>0</td>\n",
       "      <td>0</td>\n",
       "      <td>0</td>\n",
       "      <td>0</td>\n",
       "      <td>0</td>\n",
       "      <td>...</td>\n",
       "      <td>0</td>\n",
       "      <td>69</td>\n",
       "      <td>7</td>\n",
       "      <td>99</td>\n",
       "      <td>4067</td>\n",
       "      <td>3610</td>\n",
       "      <td>277</td>\n",
       "      <td>1794</td>\n",
       "      <td>2935</td>\n",
       "      <td>78</td>\n",
       "    </tr>\n",
       "    <tr>\n",
       "      <th>3</th>\n",
       "      <td>0</td>\n",
       "      <td>0</td>\n",
       "      <td>0</td>\n",
       "      <td>0</td>\n",
       "      <td>0</td>\n",
       "      <td>0</td>\n",
       "      <td>0</td>\n",
       "      <td>0</td>\n",
       "      <td>0</td>\n",
       "      <td>0</td>\n",
       "      <td>...</td>\n",
       "      <td>0</td>\n",
       "      <td>0</td>\n",
       "      <td>0</td>\n",
       "      <td>0</td>\n",
       "      <td>146</td>\n",
       "      <td>1463</td>\n",
       "      <td>8</td>\n",
       "      <td>1325</td>\n",
       "      <td>2167</td>\n",
       "      <td>380</td>\n",
       "    </tr>\n",
       "    <tr>\n",
       "      <th>4</th>\n",
       "      <td>0</td>\n",
       "      <td>0</td>\n",
       "      <td>0</td>\n",
       "      <td>0</td>\n",
       "      <td>0</td>\n",
       "      <td>0</td>\n",
       "      <td>0</td>\n",
       "      <td>0</td>\n",
       "      <td>0</td>\n",
       "      <td>0</td>\n",
       "      <td>...</td>\n",
       "      <td>1795</td>\n",
       "      <td>245</td>\n",
       "      <td>1326</td>\n",
       "      <td>59</td>\n",
       "      <td>23</td>\n",
       "      <td>1159</td>\n",
       "      <td>1</td>\n",
       "      <td>4</td>\n",
       "      <td>19</td>\n",
       "      <td>40</td>\n",
       "    </tr>\n",
       "  </tbody>\n",
       "</table>\n",
       "<p>5 rows × 280 columns</p>\n",
       "</div>"
      ],
      "text/plain": [
       "   0    1    2    3    4    5    6    7    8    9    ...   270  271   272  \\\n",
       "0    0    0    0    0    0    0    0    0    0    0  ...  2673  991  2934   \n",
       "1    0    0    0    0    0    0    0    0    0    0  ...  2674  104   496   \n",
       "2    0    0    0    0    0    0    0    0    0    0  ...     0   69     7   \n",
       "3    0    0    0    0    0    0    0    0    0    0  ...     0    0     0   \n",
       "4    0    0    0    0    0    0    0    0    0    0  ...  1795  245  1326   \n",
       "\n",
       "    273   274   275   276   277   278  279  \n",
       "0  1695   915  2487  1385   159   511  345  \n",
       "1    37   450  1793   104   451  2031    3  \n",
       "2    99  4067  3610   277  1794  2935   78  \n",
       "3     0   146  1463     8  1325  2167  380  \n",
       "4    59    23  1159     1     4    19   40  \n",
       "\n",
       "[5 rows x 280 columns]"
      ]
     },
     "execution_count": 32,
     "metadata": {},
     "output_type": "execute_result"
    }
   ],
   "source": [
    "pd.DataFrame(X_pd_sq).head()"
   ]
  },
  {
   "cell_type": "markdown",
   "metadata": {
    "colab_type": "text",
    "id": "maVt0zGJAAHz"
   },
   "source": [
    "**All in one step**"
   ]
  },
  {
   "cell_type": "code",
   "execution_count": 33,
   "metadata": {
    "colab": {},
    "colab_type": "code",
    "id": "lKtbpsvMpZpQ"
   },
   "outputs": [],
   "source": [
    "#max_fatures = 2000\n",
    "#tokenizer = Tokenizer(num_words=max_fatures, split=' ')\n",
    "#tokenizer.fit_on_texts(X)\n",
    "#X = tokenizer.texts_to_sequences(X)\n",
    "#X = pad_sequences(X)"
   ]
  },
  {
   "cell_type": "code",
   "execution_count": 34,
   "metadata": {
    "colab": {
     "base_uri": "https://localhost:8080/",
     "height": 34
    },
    "colab_type": "code",
    "id": "8VOZvWUb0mg8",
    "outputId": "10a212ed-38a6-4e46-9de6-978430c8bbbd"
   },
   "outputs": [],
   "source": [
    "#X_pd_sq.shape"
   ]
  },
  {
   "cell_type": "markdown",
   "metadata": {
    "colab_type": "text",
    "id": "We8N3ZKvAvRg"
   },
   "source": [
    "## Step 2- Train-test split"
   ]
  },
  {
   "cell_type": "code",
   "execution_count": 35,
   "metadata": {
    "colab": {},
    "colab_type": "code",
    "id": "W0XeBVBWp35U"
   },
   "outputs": [],
   "source": [
    "from sklearn.model_selection import train_test_split\n",
    "X_train, X_test, y_train, y_test = train_test_split(X_pd_sq,y,random_state=42)"
   ]
  },
  {
   "cell_type": "code",
   "execution_count": 36,
   "metadata": {
    "colab": {
     "base_uri": "https://localhost:8080/",
     "height": 34
    },
    "colab_type": "code",
    "id": "OZUX4PUPqAEz",
    "outputId": "8068906a-574c-4fb3-be66-42cec4ab5088"
   },
   "outputs": [
    {
     "data": {
      "text/plain": [
       "((11250, 280), (3750, 280))"
      ]
     },
     "execution_count": 36,
     "metadata": {},
     "output_type": "execute_result"
    }
   ],
   "source": [
    "X_train.shape, X_test.shape"
   ]
  },
  {
   "cell_type": "code",
   "execution_count": 37,
   "metadata": {
    "colab": {
     "base_uri": "https://localhost:8080/",
     "height": 50
    },
    "colab_type": "code",
    "id": "YSVXeern-HWJ",
    "outputId": "963ac015-09dd-4e7f-b8ad-9bb684b36e4a"
   },
   "outputs": [
    {
     "name": "stdout",
     "output_type": "stream",
     "text": [
      "(11250,)\n",
      "(3750,)\n"
     ]
    }
   ],
   "source": [
    "print(y_train.shape)\n",
    "print(y_test.shape)"
   ]
  },
  {
   "cell_type": "markdown",
   "metadata": {
    "colab_type": "text",
    "id": "bwQ9d-jeA1A4"
   },
   "source": [
    "## Step 3- Encoding y-labeled feature"
   ]
  },
  {
   "cell_type": "code",
   "execution_count": 38,
   "metadata": {
    "colab": {},
    "colab_type": "code",
    "id": "Fnesdam6-Rs9"
   },
   "outputs": [],
   "source": [
    "# keras needs inputs to be vectors , so one hot encoding values\n",
    "from keras.utils import np_utils\n",
    "def one_hot_encode_object_array(arr):\n",
    "    '''One hot encode a numpy array of objects (e.g. strings)'''\n",
    "    uniques, ids = np.unique(arr, return_inverse=True)\n",
    "    return np_utils.to_categorical(ids, len(uniques))\n",
    "\n",
    "y_train_ohe=one_hot_encode_object_array(y_train)\n",
    "y_test_ohe=one_hot_encode_object_array(y_test)"
   ]
  },
  {
   "cell_type": "markdown",
   "metadata": {
    "colab_type": "text",
    "id": "D-CNjemi-8Wh"
   },
   "source": [
    "**this step is very important as we need to decode categorical variables into dummy**"
   ]
  },
  {
   "cell_type": "code",
   "execution_count": 39,
   "metadata": {
    "colab": {
     "base_uri": "https://localhost:8080/",
     "height": 118
    },
    "colab_type": "code",
    "id": "Nke5DcC9-n8a",
    "outputId": "84cbcecb-2b1e-4d55-9fd9-8ba6006d5b99"
   },
   "outputs": [
    {
     "data": {
      "text/plain": [
       "32374     Benefit\n",
       "66909     Benefit\n",
       "119175    Benefit\n",
       "175091    Benefit\n",
       "117650    Neutral\n",
       "Name: Sent_type, dtype: object"
      ]
     },
     "execution_count": 39,
     "metadata": {},
     "output_type": "execute_result"
    }
   ],
   "source": [
    "y_train[:5]"
   ]
  },
  {
   "cell_type": "code",
   "execution_count": 40,
   "metadata": {
    "colab": {
     "base_uri": "https://localhost:8080/",
     "height": 101
    },
    "colab_type": "code",
    "id": "Q0oVHJha-n_N",
    "outputId": "e344acf6-2a69-4a14-d219-2e224e74489c"
   },
   "outputs": [
    {
     "data": {
      "text/plain": [
       "array([[1., 0., 0.],\n",
       "       [1., 0., 0.],\n",
       "       [1., 0., 0.],\n",
       "       [1., 0., 0.],\n",
       "       [0., 1., 0.]], dtype=float32)"
      ]
     },
     "execution_count": 40,
     "metadata": {},
     "output_type": "execute_result"
    }
   ],
   "source": [
    "y_train_ohe[:5]"
   ]
  },
  {
   "cell_type": "code",
   "execution_count": 41,
   "metadata": {
    "colab": {
     "base_uri": "https://localhost:8080/",
     "height": 118
    },
    "colab_type": "code",
    "id": "KRCvrfmh-oCL",
    "outputId": "a970eaa1-541b-4686-a1fc-6a3d5f083cc7"
   },
   "outputs": [
    {
     "data": {
      "text/plain": [
       "381167    Neutral\n",
       "17841     Neutral\n",
       "357487    Benefit\n",
       "47925     Benefit\n",
       "368707    Benefit\n",
       "Name: Sent_type, dtype: object"
      ]
     },
     "execution_count": 41,
     "metadata": {},
     "output_type": "execute_result"
    }
   ],
   "source": [
    "y_test[:5]"
   ]
  },
  {
   "cell_type": "code",
   "execution_count": 42,
   "metadata": {
    "colab": {
     "base_uri": "https://localhost:8080/",
     "height": 101
    },
    "colab_type": "code",
    "id": "sKEWG3Ty-srY",
    "outputId": "5530962f-f5cd-4026-e3ed-8dcddf47bb53"
   },
   "outputs": [
    {
     "data": {
      "text/plain": [
       "array([[0., 1., 0.],\n",
       "       [0., 1., 0.],\n",
       "       [1., 0., 0.],\n",
       "       [1., 0., 0.],\n",
       "       [1., 0., 0.]], dtype=float32)"
      ]
     },
     "execution_count": 42,
     "metadata": {},
     "output_type": "execute_result"
    }
   ],
   "source": [
    "y_test_ohe[:5]"
   ]
  },
  {
   "cell_type": "markdown",
   "metadata": {},
   "source": [
    "From above, we can see what is encoding scheme\n",
    "\n",
    "- Neutral is 0,1,0\n",
    "- Risky is 0,0,1\n",
    "- Beneficial is 1,0,0"
   ]
  },
  {
   "cell_type": "code",
   "execution_count": 43,
   "metadata": {
    "colab": {
     "base_uri": "https://localhost:8080/",
     "height": 34
    },
    "colab_type": "code",
    "id": "9_f8rG_fEAdm",
    "outputId": "05322e95-4f51-429a-be54-3dfe38c1e28f"
   },
   "outputs": [
    {
     "data": {
      "text/plain": [
       "['Neutral', 'Benefit', 'Risky']"
      ]
     },
     "execution_count": 43,
     "metadata": {},
     "output_type": "execute_result"
    }
   ],
   "source": [
    "unique_y_labels = list(y_train.value_counts().index)\n",
    "unique_y_labels"
   ]
  },
  {
   "cell_type": "code",
   "execution_count": 44,
   "metadata": {
    "colab": {
     "base_uri": "https://localhost:8080/",
     "height": 34
    },
    "colab_type": "code",
    "id": "9BgCYy2hEIJo",
    "outputId": "cabd71c8-f025-48c0-c37b-0339db892d6d"
   },
   "outputs": [
    {
     "data": {
      "text/plain": [
       "3"
      ]
     },
     "execution_count": 44,
     "metadata": {},
     "output_type": "execute_result"
    }
   ],
   "source": [
    "len(unique_y_labels)"
   ]
  },
  {
   "cell_type": "markdown",
   "metadata": {
    "colab_type": "text",
    "id": "KUyRRaOvEJny"
   },
   "source": [
    "**Hence , our last dense layer will be of size 3"
   ]
  },
  {
   "cell_type": "markdown",
   "metadata": {
    "colab_type": "text",
    "id": "1M2CP7UpqFrm"
   },
   "source": [
    "## Step 4- Build LSTM model\n",
    "\n",
    "- The first layer is the embedded layer that uses 100 length vectors to represent each word.\n",
    "- SpatialDropout1D performs variational dropout in NLP models.\n",
    "- The next layer is the LSTM layer with 100 memory units.\n",
    "- The output layer must create 3 output values, one for each class.\n",
    "- Activation function is softmax for multi-class classification.\n",
    "- Because it is a multi-class classification problem, categorical_crossentropy is used as the loss function\n"
   ]
  },
  {
   "cell_type": "code",
   "execution_count": 45,
   "metadata": {},
   "outputs": [],
   "source": [
    "# The maximum number of words to be used. (most frequent)\n",
    "MAX_NB_WORDS = 5000\n",
    "# Max number of words in each tweet.\n",
    "MAX_SEQUENCE_LENGTH = 250\n",
    "# This is fixed.\n",
    "EMBEDDING_DIM = 100\n",
    "# for our padding seq\n",
    "input_length=X_pd_sq.shape[1]\n",
    "uniq_y_label=len(unique_y_labels)"
   ]
  },
  {
   "cell_type": "code",
   "execution_count": 46,
   "metadata": {},
   "outputs": [
    {
     "data": {
      "text/plain": [
       "280"
      ]
     },
     "execution_count": 46,
     "metadata": {},
     "output_type": "execute_result"
    }
   ],
   "source": [
    "X_pd_sq.shape[1]"
   ]
  },
  {
   "cell_type": "code",
   "execution_count": 47,
   "metadata": {},
   "outputs": [
    {
     "data": {
      "text/plain": [
       "3"
      ]
     },
     "execution_count": 47,
     "metadata": {},
     "output_type": "execute_result"
    }
   ],
   "source": [
    "uniq_y_label"
   ]
  },
  {
   "cell_type": "markdown",
   "metadata": {},
   "source": [
    "**Stacked LSTM with 100 hidden units and input size 280 (whose outputs are concatenated)**\n",
    "\n",
    "We can reduce this size by 50. Mostly 64 is given as hidden layer and 128 for embedding layer. We have more of a comprehensive data so we have given different values.\n",
    "Embed dim could be also 200 or even higher."
   ]
  },
  {
   "cell_type": "code",
   "execution_count": 48,
   "metadata": {},
   "outputs": [],
   "source": [
    "model = Sequential()\n",
    "model.add(Embedding(MAX_NB_WORDS, EMBEDDING_DIM, input_length=X_pd_sq.shape[1]))\n",
    "#model.add(SpatialDropout1D(0.2))\n",
    "model.add(Dropout(0.2))\n",
    "model.add(LSTM(100, recurrent_dropout=0.2))\n",
    "model.add(Dropout(0.2))\n",
    "model.add(Dense(3, activation='softmax'))\n",
    "model.compile(loss='categorical_crossentropy', optimizer='adam', metrics=['accuracy'])"
   ]
  },
  {
   "cell_type": "code",
   "execution_count": 49,
   "metadata": {},
   "outputs": [
    {
     "name": "stdout",
     "output_type": "stream",
     "text": [
      "Model: \"sequential_1\"\n",
      "_________________________________________________________________\n",
      "Layer (type)                 Output Shape              Param #   \n",
      "=================================================================\n",
      "embedding_1 (Embedding)      (None, 280, 100)          500000    \n",
      "_________________________________________________________________\n",
      "dropout_1 (Dropout)          (None, 280, 100)          0         \n",
      "_________________________________________________________________\n",
      "lstm_1 (LSTM)                (None, 100)               80400     \n",
      "_________________________________________________________________\n",
      "dropout_2 (Dropout)          (None, 100)               0         \n",
      "_________________________________________________________________\n",
      "dense_1 (Dense)              (None, 3)                 303       \n",
      "=================================================================\n",
      "Total params: 580,703\n",
      "Trainable params: 580,703\n",
      "Non-trainable params: 0\n",
      "_________________________________________________________________\n",
      "None\n"
     ]
    }
   ],
   "source": [
    "print(model.summary())"
   ]
  },
  {
   "cell_type": "markdown",
   "metadata": {},
   "source": [
    "### preview of summary and params calculations\n",
    "\n",
    "https://towardsdatascience.com/counting-no-of-parameters-in-deep-learning-models-by-hand-8f1716241889"
   ]
  },
  {
   "cell_type": "markdown",
   "metadata": {},
   "source": [
    "- Formula for Parameter calculation for RNN - LSTM \n",
    "\n",
    "g × [h(h+i) + h]\n",
    "\n",
    "\n",
    "g= 4(LSTM has 4 FFNNs), h=100 , i= 280"
   ]
  },
  {
   "cell_type": "markdown",
   "metadata": {},
   "source": [
    "**For simple Neural Network**\n",
    "\n",
    "\n",
    "num param= (i×h + h×o) + (h+o)\n",
    "\n",
    " where (h+o) is biaseness <br>\n",
    "- i, input size\n",
    "- h, size of hidden layer\n",
    "- o, output size"
   ]
  },
  {
   "cell_type": "markdown",
   "metadata": {},
   "source": [
    "**How are these results come up**\n",
    "\n",
    "- 1. embedding_1 (Embedding)\n",
    "\n",
    "MAX_NB_WORDS = 5000. Multiply this with EMBEDDING_DIM = 100. We get 500,000.\n",
    "\n",
    "- 2. dropout_1 (Dropout): No parameter is calculated at this point. It performs an action\n",
    "\n",
    "- 3.lstm_1 (LSTM)\n",
    "\n",
    "500.000 i.e total param from above are multiplied by 0.8. As we have one recurrent dropout and one normal dropout. It is of 0.2 and hence it will reduce our data 20% and we are left with 80%. That is why division by 0.8\n",
    " \n",
    "500.000 * 0.8 = 400.000 ...............this will be multiplied by 2 as of 2 dropout layers.So we have 800.000\n",
    " \n",
    "As for this point, we have (None, 100) meaning we have 100 hidden layer units and LSTM has 4 Feed Forward NNs. So 100*4=400\n",
    "\n",
    "Summing up all, 800.000+400= 80400\n",
    "\n",
    "\n",
    "- dense_1 (Dense) :\n",
    "\n",
    "100(Embedding DIM) multiply by 3(last dense layer as size of output classes) = 300 +3(size of output) \n",
    "\n",
    "- Total Param= adding all i.e 500,000+0+80400+0+303= 580,703"
   ]
  },
  {
   "cell_type": "markdown",
   "metadata": {},
   "source": [
    "**What does 'None' mean?** i.e (None, 280, 100)\n",
    "\n",
    "- None means this dimension is variable.\n",
    "\n",
    "The first dimension in a keras model is always the batch size. You don't need fixed batch sizes, unless in very specific cases (for instance, when working with stateful=True LSTM layers).\n",
    "\n",
    "That's why this dimension is often ignored when you define your model. For instance, when you define input_shape=(100,200), actually you're ignoring the batch size and defining the shape of \"each sample\". Internally the shape will be (None, 100, 200), allowing a variable batch size, each sample in the batch having the shape (100,200).\n",
    "\n",
    "The batch size will be then automatically defined in the fit or predict methods."
   ]
  },
  {
   "cell_type": "markdown",
   "metadata": {},
   "source": [
    "### Taking care of Imbalanced class issue"
   ]
  },
  {
   "cell_type": "code",
   "execution_count": 50,
   "metadata": {},
   "outputs": [],
   "source": [
    "from sklearn.utils import class_weight"
   ]
  },
  {
   "cell_type": "code",
   "execution_count": 51,
   "metadata": {},
   "outputs": [],
   "source": [
    "class_weights = class_weight.compute_class_weight('balanced',\n",
    "                                                 np.unique(y_train),\n",
    "                                                 y_train)"
   ]
  },
  {
   "cell_type": "markdown",
   "metadata": {
    "colab_type": "text",
    "id": "qmRIVDZMrSUj"
   },
   "source": [
    "## Step 5- Train model"
   ]
  },
  {
   "cell_type": "code",
   "execution_count": 52,
   "metadata": {
    "colab": {},
    "colab_type": "code",
    "id": "s6YRmq7yqrOk"
   },
   "outputs": [],
   "source": [
    "batch_size = 64\n",
    "epochs = 15"
   ]
  },
  {
   "cell_type": "code",
   "execution_count": 53,
   "metadata": {
    "colab": {},
    "colab_type": "code",
    "id": "mWXmVkpyqryT"
   },
   "outputs": [],
   "source": [
    "from keras.callbacks import EarlyStopping"
   ]
  },
  {
   "cell_type": "code",
   "execution_count": 54,
   "metadata": {
    "colab": {
     "base_uri": "https://localhost:8080/",
     "height": 272
    },
    "colab_type": "code",
    "id": "c-u4WAVnqrrs",
    "outputId": "a7e2c3dc-5572-4725-bcd6-b3367b63de03"
   },
   "outputs": [
    {
     "name": "stdout",
     "output_type": "stream",
     "text": [
      "Train on 10125 samples, validate on 1125 samples\n",
      "Epoch 1/15\n",
      "10125/10125 [==============================] - 73s 7ms/step - loss: 0.9327 - accuracy: 0.5544 - val_loss: 0.7292 - val_accuracy: 0.7031\n",
      "Epoch 2/15\n",
      "10125/10125 [==============================] - 78s 8ms/step - loss: 0.4978 - accuracy: 0.8181 - val_loss: 0.5927 - val_accuracy: 0.7804\n",
      "Epoch 3/15\n",
      "10125/10125 [==============================] - 79s 8ms/step - loss: 0.2992 - accuracy: 0.8986 - val_loss: 0.6161 - val_accuracy: 0.7884\n",
      "Epoch 4/15\n",
      "10125/10125 [==============================] - 79s 8ms/step - loss: 0.2224 - accuracy: 0.9275 - val_loss: 0.6663 - val_accuracy: 0.7911\n",
      "Epoch 5/15\n",
      "10125/10125 [==============================] - 79s 8ms/step - loss: 0.1756 - accuracy: 0.9447 - val_loss: 0.7602 - val_accuracy: 0.7813\n"
     ]
    }
   ],
   "source": [
    "%%time\n",
    "history = model.fit(X_train, y_train_ohe, epochs=epochs, batch_size=batch_size,validation_split=0.1,class_weight=class_weights,callbacks=[EarlyStopping(monitor='val_loss', patience=3, min_delta=0.0001)])"
   ]
  },
  {
   "cell_type": "code",
   "execution_count": 94,
   "metadata": {},
   "outputs": [
    {
     "name": "stdout",
     "output_type": "stream",
     "text": [
      "3750/3750 [==============================] - 7s 2ms/step\n",
      "Test set\n",
      "  Loss: 0.677\n",
      "  Accuracy: 0.811\n"
     ]
    }
   ],
   "source": [
    "accr = model.evaluate(X_test,y_test_ohe)\n",
    "print('Test set\\n  Loss: {:0.3f}\\n  Accuracy: {:0.3f}'.format(accr[0],accr[1]))"
   ]
  },
  {
   "cell_type": "markdown",
   "metadata": {
    "colab_type": "text",
    "id": "S1rZxDs4ZCwW"
   },
   "source": [
    "## Step 6- Evaluate"
   ]
  },
  {
   "cell_type": "code",
   "execution_count": 56,
   "metadata": {
    "colab": {},
    "colab_type": "code",
    "id": "aYMY7ur9qrl0"
   },
   "outputs": [],
   "source": [
    "y_pred = model.predict(X_test)"
   ]
  },
  {
   "cell_type": "code",
   "execution_count": 57,
   "metadata": {
    "colab": {
     "base_uri": "https://localhost:8080/",
     "height": 101
    },
    "colab_type": "code",
    "id": "2g4fdnm2qrdk",
    "outputId": "380d968f-0abd-4915-faea-79c242571d61"
   },
   "outputs": [
    {
     "data": {
      "text/plain": [
       "array([[2.3440903e-01, 7.1820807e-01, 4.7382887e-02],\n",
       "       [1.3797609e-03, 9.9688256e-01, 1.7378114e-03],\n",
       "       [9.9439079e-01, 4.4180816e-03, 1.1911216e-03],\n",
       "       [9.9418712e-01, 5.3478023e-03, 4.6501850e-04],\n",
       "       [2.6500069e-02, 9.4846386e-01, 2.5035994e-02]], dtype=float32)"
      ]
     },
     "execution_count": 57,
     "metadata": {},
     "output_type": "execute_result"
    }
   ],
   "source": [
    "y_pred[:5]"
   ]
  },
  {
   "cell_type": "markdown",
   "metadata": {
    "colab_type": "text",
    "id": "00jPyc_LDR0D"
   },
   "source": [
    "**These are probabilities of output**"
   ]
  },
  {
   "cell_type": "code",
   "execution_count": 58,
   "metadata": {
    "colab": {
     "base_uri": "https://localhost:8080/",
     "height": 101
    },
    "colab_type": "code",
    "id": "HQNopGbOrjXi",
    "outputId": "27386d9e-ed8a-4662-9bd0-d6ceaaf6298d"
   },
   "outputs": [
    {
     "data": {
      "text/plain": [
       "array([[0., 1., 0.],\n",
       "       [0., 1., 0.],\n",
       "       [1., 0., 0.],\n",
       "       [1., 0., 0.],\n",
       "       [1., 0., 0.]], dtype=float32)"
      ]
     },
     "execution_count": 58,
     "metadata": {},
     "output_type": "execute_result"
    }
   ],
   "source": [
    "y_test_ohe[:5]"
   ]
  },
  {
   "cell_type": "code",
   "execution_count": 59,
   "metadata": {
    "colab": {},
    "colab_type": "code",
    "id": "AZjjnbGtrjRG"
   },
   "outputs": [],
   "source": [
    "## predict crisp classes for test set. Output will be 1-D\n",
    "y_test_class = np.argmax(y_test_ohe,axis=1)\n",
    "y_pred_class = np.argmax(y_pred,axis=1)"
   ]
  },
  {
   "cell_type": "markdown",
   "metadata": {
    "colab_type": "text",
    "id": "veRdZ9m7DVuO"
   },
   "source": [
    "**Converting prob. into crisp classes i.e in 1D.**"
   ]
  },
  {
   "cell_type": "code",
   "execution_count": 60,
   "metadata": {
    "colab": {
     "base_uri": "https://localhost:8080/",
     "height": 34
    },
    "colab_type": "code",
    "id": "gI67MM26TxfH",
    "outputId": "8119854e-fb53-48e2-efe8-337f20ac9347"
   },
   "outputs": [
    {
     "data": {
      "text/plain": [
       "array([1, 1, 0, 0, 0], dtype=int64)"
      ]
     },
     "execution_count": 60,
     "metadata": {},
     "output_type": "execute_result"
    }
   ],
   "source": [
    "y_test_class[:5]"
   ]
  },
  {
   "cell_type": "markdown",
   "metadata": {
    "colab_type": "text",
    "id": "tcmbdxGDGr-j"
   },
   "source": [
    "**By comparing from y_test_ohe, we can see that '1' in y_test_class means neutral. <br>\n",
    "2 means [0,0,1] of y_test_ohe .It means we have Risky component<br>\n",
    "0 means [1,0,0] which means beneficial**"
   ]
  },
  {
   "cell_type": "code",
   "execution_count": 61,
   "metadata": {
    "colab": {
     "base_uri": "https://localhost:8080/",
     "height": 34
    },
    "colab_type": "code",
    "id": "kQIT8KqqTyGS",
    "outputId": "556bc9f3-0fc3-40dd-9afc-876de1850b91"
   },
   "outputs": [
    {
     "data": {
      "text/plain": [
       "array([1, 1, 0, 0, 1], dtype=int64)"
      ]
     },
     "execution_count": 61,
     "metadata": {},
     "output_type": "execute_result"
    }
   ],
   "source": [
    "y_pred_class[:5]"
   ]
  },
  {
   "cell_type": "markdown",
   "metadata": {
    "colab_type": "text",
    "id": "Akw3mqLsrtHh"
   },
   "source": [
    "### a)- Classification Report"
   ]
  },
  {
   "cell_type": "code",
   "execution_count": 62,
   "metadata": {
    "colab": {
     "base_uri": "https://localhost:8080/",
     "height": 185
    },
    "colab_type": "code",
    "id": "zHQBRRLxrjLE",
    "outputId": "aede526b-e19f-4893-c0a3-63f2e779977f"
   },
   "outputs": [
    {
     "name": "stdout",
     "output_type": "stream",
     "text": [
      "              precision    recall  f1-score   support\n",
      "\n",
      "           0       0.83      0.84      0.83      1512\n",
      "           1       0.83      0.87      0.85      1606\n",
      "           2       0.70      0.59      0.64       632\n",
      "\n",
      "    accuracy                           0.81      3750\n",
      "   macro avg       0.79      0.77      0.77      3750\n",
      "weighted avg       0.81      0.81      0.81      3750\n",
      "\n"
     ]
    }
   ],
   "source": [
    "from sklearn.metrics import classification_report,confusion_matrix\n",
    "print(classification_report(y_test_class,y_pred_class))"
   ]
  },
  {
   "cell_type": "markdown",
   "metadata": {
    "colab_type": "text",
    "id": "_VnnJLT7HLcp"
   },
   "source": [
    "0 is Beneficial<br>\n",
    "1 is Neutral <br>\n",
    "2 is Risky<br>"
   ]
  },
  {
   "cell_type": "code",
   "execution_count": 63,
   "metadata": {},
   "outputs": [
    {
     "data": {
      "text/plain": [
       "Neutral    1606\n",
       "Benefit    1512\n",
       "Risky       632\n",
       "Name: Sent_type, dtype: int64"
      ]
     },
     "execution_count": 63,
     "metadata": {},
     "output_type": "execute_result"
    }
   ],
   "source": [
    "y_test.value_counts()"
   ]
  },
  {
   "cell_type": "markdown",
   "metadata": {
    "colab_type": "text",
    "id": "EojRVan0BS8U"
   },
   "source": [
    "### b)-Confusion Matrix"
   ]
  },
  {
   "cell_type": "code",
   "execution_count": 64,
   "metadata": {},
   "outputs": [
    {
     "name": "stdout",
     "output_type": "stream",
     "text": [
      "[[1266  164   82]\n",
      " [ 122 1402   82]\n",
      " [ 135  123  374]]\n"
     ]
    }
   ],
   "source": [
    "cm=confusion_matrix(y_test_class,y_pred_class)\n",
    "print(cm)"
   ]
  },
  {
   "cell_type": "code",
   "execution_count": 65,
   "metadata": {},
   "outputs": [
    {
     "data": {
      "text/plain": [
       "Neutral    1606\n",
       "Benefit    1512\n",
       "Risky       632\n",
       "Name: Sent_type, dtype: int64"
      ]
     },
     "execution_count": 65,
     "metadata": {},
     "output_type": "execute_result"
    }
   ],
   "source": [
    "y_test.value_counts()"
   ]
  },
  {
   "cell_type": "code",
   "execution_count": 66,
   "metadata": {
    "colab": {
     "base_uri": "https://localhost:8080/",
     "height": 67
    },
    "colab_type": "code",
    "id": "6f5ENqqtrq8Q",
    "outputId": "748229ee-1bd8-4bc6-f2d6-2f156d19feb9"
   },
   "outputs": [
    {
     "data": {
      "text/plain": [
       "<Figure size 720x720 with 0 Axes>"
      ]
     },
     "metadata": {},
     "output_type": "display_data"
    },
    {
     "data": {
      "image/png": "[encoded data removed]",
      "text/plain": [
       "<Figure size 432x288 with 2 Axes>"
      ]
     },
     "metadata": {
      "needs_background": "light"
     },
     "output_type": "display_data"
    }
   ],
   "source": [
    "import scikitplot as skplt\n",
    "plt.figure(figsize=(10,10))\n",
    "skplt.metrics.plot_confusion_matrix(y_test_class,y_pred_class)\n",
    "plt.show()"
   ]
  },
  {
   "cell_type": "code",
   "execution_count": 67,
   "metadata": {},
   "outputs": [
    {
     "name": "stdout",
     "output_type": "stream",
     "text": [
      "[[0.83730159 0.10846561 0.0542328 ]\n",
      " [0.07596513 0.87297634 0.05105853]\n",
      " [0.21360759 0.19462025 0.59177215]]\n"
     ]
    }
   ],
   "source": [
    "cm_norm = cm.astype('float') / cm.sum(axis=1)[:, np.newaxis]\n",
    "print(cm_norm)"
   ]
  },
  {
   "cell_type": "code",
   "execution_count": 68,
   "metadata": {},
   "outputs": [
    {
     "data": {
      "text/plain": [
       "<Figure size 720x720 with 0 Axes>"
      ]
     },
     "metadata": {},
     "output_type": "display_data"
    },
    {
     "data": {
      "image/png": "[encoded data removed]",
      "text/plain": [
       "<Figure size 432x288 with 2 Axes>"
      ]
     },
     "metadata": {
      "needs_background": "light"
     },
     "output_type": "display_data"
    }
   ],
   "source": [
    "plt.figure(figsize=(10,10))\n",
    "skplt.metrics.plot_confusion_matrix(y_test_class,y_pred_class, normalize=True)\n",
    "plt.show()"
   ]
  },
  {
   "cell_type": "markdown",
   "metadata": {
    "colab_type": "text",
    "id": "UTsW3c8NBWk2"
   },
   "source": [
    "### c)- Loss and Accuracy"
   ]
  },
  {
   "cell_type": "code",
   "execution_count": 69,
   "metadata": {
    "colab": {
     "base_uri": "https://localhost:8080/",
     "height": 50
    },
    "colab_type": "code",
    "id": "dbfUWH3_sG7c",
    "outputId": "09980e0c-885c-4b92-90a7-5c1d9a87294d"
   },
   "outputs": [
    {
     "name": "stdout",
     "output_type": "stream",
     "text": [
      "Training Accuracy: 0.9533\n",
      "Training Loss: 0.1697\n"
     ]
    }
   ],
   "source": [
    "loss, accuracy = model.evaluate(X_train, y_train_ohe, verbose=False)\n",
    "print(\"Training Accuracy: {:.4f}\".format(accuracy))\n",
    "print(\"Training Loss: {:.4f}\".format(loss))"
   ]
  },
  {
   "cell_type": "code",
   "execution_count": 70,
   "metadata": {
    "colab": {
     "base_uri": "https://localhost:8080/",
     "height": 50
    },
    "colab_type": "code",
    "id": "1YLV6NumsKM4",
    "outputId": "4b6121ac-50af-4498-86cf-d7c1569491b8"
   },
   "outputs": [
    {
     "name": "stdout",
     "output_type": "stream",
     "text": [
      "Testing Accuracy:  0.8112\n",
      "Testing Loss:  0.6767\n"
     ]
    }
   ],
   "source": [
    "loss, accuracy = model.evaluate(X_test, y_test_ohe, verbose=False)\n",
    "print(\"Testing Accuracy:  {:.4f}\".format(accuracy))\n",
    "print(\"Testing Loss:  {:.4f}\".format(loss))"
   ]
  },
  {
   "cell_type": "code",
   "execution_count": 71,
   "metadata": {
    "colab": {},
    "colab_type": "code",
    "id": "wDIaUe-WsP28"
   },
   "outputs": [],
   "source": [
    "import matplotlib.pyplot as plt\n",
    "plt.style.use('ggplot')\n",
    "\n",
    "def plot_history(history):\n",
    "    acc = history.history['accuracy']\n",
    "    val_acc = history.history['val_accuracy']\n",
    "    loss = history.history['loss']\n",
    "    val_loss = history.history['val_loss']\n",
    "    x = range(1, len(acc) + 1)\n",
    "\n",
    "    plt.figure(figsize=(12, 5))\n",
    "    plt.subplot(1, 2, 1)\n",
    "    plt.plot(x, acc, 'b', label='Training acc')\n",
    "    plt.plot(x, val_acc, 'r', label='Validation acc')\n",
    "    plt.title('Training and validation accuracy')\n",
    "    plt.legend()\n",
    "    plt.subplot(1, 2, 2)\n",
    "    plt.plot(x, loss, 'b', label='Training loss')\n",
    "    plt.plot(x, val_loss, 'r', label='Validation loss')\n",
    "    plt.title('Training and validation loss')\n",
    "    plt.legend()"
   ]
  },
  {
   "cell_type": "code",
   "execution_count": 72,
   "metadata": {
    "colab": {
     "base_uri": "https://localhost:8080/",
     "height": 337
    },
    "colab_type": "code",
    "id": "LWn7459_sZnd",
    "outputId": "8849dd76-d276-4c23-d920-a35573ece4be"
   },
   "outputs": [
    {
     "data": {
      "image/png": "[encoded data removed]",
      "text/plain": [
       "<Figure size 864x360 with 2 Axes>"
      ]
     },
     "metadata": {},
     "output_type": "display_data"
    }
   ],
   "source": [
    "plot_history(history)"
   ]
  },
  {
   "cell_type": "code",
   "execution_count": 73,
   "metadata": {},
   "outputs": [],
   "source": [
    "import matplotlib.pyplot as plt\n",
    "plt.style.use('ggplot')\n",
    "\n",
    "def plot_history2(history):\n",
    "    acc = history.history['accuracy']\n",
    "    val_acc = history.history['val_accuracy']\n",
    "    loss = history.history['loss']\n",
    "    val_loss = history.history['val_loss']\n",
    "    x = range(1, len(acc) + 1)\n",
    "\n",
    "    plt.figure(figsize=(12, 5))\n",
    "    plt.subplot(1, 2, 1)\n",
    "    plt.plot(x, acc, 'b', label='Training acc')\n",
    "    plt.plot(x, val_acc, 'r', label='Validation acc')\n",
    "    plt.title('Training and validation accuracy')\n",
    "    plt.legend()\n",
    "    plt.subplot(1, 2, 2)\n",
    "    plt.plot(x, loss, 'b', label='Training loss')\n",
    "    plt.plot(x, val_loss, 'r', label='Validation loss')\n",
    "    plt.title('Training and validation loss')\n",
    "    plt.legend()"
   ]
  },
  {
   "cell_type": "code",
   "execution_count": 74,
   "metadata": {},
   "outputs": [
    {
     "data": {
      "image/png": "[encoded data removed]",
      "text/plain": [
       "<Figure size 864x360 with 2 Axes>"
      ]
     },
     "metadata": {},
     "output_type": "display_data"
    }
   ],
   "source": [
    "plot_history(history)"
   ]
  },
  {
   "cell_type": "markdown",
   "metadata": {
    "colab_type": "text",
    "id": "WRj6yQszV3YJ"
   },
   "source": [
    "### d)- Checking results test set"
   ]
  },
  {
   "cell_type": "code",
   "execution_count": 75,
   "metadata": {
    "colab": {
     "base_uri": "https://localhost:8080/",
     "height": 118
    },
    "colab_type": "code",
    "id": "Tyffe1_8LcFq",
    "outputId": "fc5bf4a2-7a24-408d-fe2c-40454920b971"
   },
   "outputs": [
    {
     "data": {
      "text/plain": [
       "381167    Neutral\n",
       "17841     Neutral\n",
       "357487    Benefit\n",
       "47925     Benefit\n",
       "368707    Benefit\n",
       "Name: Sent_type, dtype: object"
      ]
     },
     "execution_count": 75,
     "metadata": {},
     "output_type": "execute_result"
    }
   ],
   "source": [
    "y_test[:5]"
   ]
  },
  {
   "cell_type": "code",
   "execution_count": 76,
   "metadata": {
    "colab": {
     "base_uri": "https://localhost:8080/",
     "height": 101
    },
    "colab_type": "code",
    "id": "by6CJzIDOrp_",
    "outputId": "65c7a4af-822b-4ccb-e3e2-6a89b40506b7"
   },
   "outputs": [
    {
     "data": {
      "text/plain": [
       "array([[0., 1., 0.],\n",
       "       [0., 1., 0.],\n",
       "       [1., 0., 0.],\n",
       "       [1., 0., 0.],\n",
       "       [1., 0., 0.]], dtype=float32)"
      ]
     },
     "execution_count": 76,
     "metadata": {},
     "output_type": "execute_result"
    }
   ],
   "source": [
    "y_test_ohe[:5]"
   ]
  },
  {
   "cell_type": "code",
   "execution_count": 77,
   "metadata": {
    "colab": {
     "base_uri": "https://localhost:8080/",
     "height": 101
    },
    "colab_type": "code",
    "id": "-QOsVe_vO7lX",
    "outputId": "a3d3756a-76d6-4d34-f856-84c30afe56b9"
   },
   "outputs": [
    {
     "data": {
      "text/plain": [
       "array([[2.3440903e-01, 7.1820807e-01, 4.7382887e-02],\n",
       "       [1.3797609e-03, 9.9688256e-01, 1.7378114e-03],\n",
       "       [9.9439079e-01, 4.4180816e-03, 1.1911216e-03],\n",
       "       [9.9418712e-01, 5.3478023e-03, 4.6501850e-04],\n",
       "       [2.6500069e-02, 9.4846386e-01, 2.5035994e-02]], dtype=float32)"
      ]
     },
     "execution_count": 77,
     "metadata": {},
     "output_type": "execute_result"
    }
   ],
   "source": [
    "prediction=model.predict(X_test)\n",
    "prediction[:5]"
   ]
  },
  {
   "cell_type": "code",
   "execution_count": 78,
   "metadata": {},
   "outputs": [
    {
     "data": {
      "text/html": [
       "<div>\n",
       "<style scoped>\n",
       "    .dataframe tbody tr th:only-of-type {\n",
       "        vertical-align: middle;\n",
       "    }\n",
       "\n",
       "    .dataframe tbody tr th {\n",
       "        vertical-align: top;\n",
       "    }\n",
       "\n",
       "    .dataframe thead th {\n",
       "        text-align: right;\n",
       "    }\n",
       "</style>\n",
       "<table border=\"1\" class=\"dataframe\">\n",
       "  <thead>\n",
       "    <tr style=\"text-align: right;\">\n",
       "      <th></th>\n",
       "      <th>TEXT</th>\n",
       "      <th>Sent_type</th>\n",
       "      <th>cleaned</th>\n",
       "    </tr>\n",
       "  </thead>\n",
       "  <tbody>\n",
       "    <tr>\n",
       "      <th>143880</th>\n",
       "      <td>\"Over the years, the MLK estate has also licen...</td>\n",
       "      <td>Benefit</td>\n",
       "      <td>years mlk estate also licensed king speeches u...</td>\n",
       "    </tr>\n",
       "    <tr>\n",
       "      <th>87455</th>\n",
       "      <td>Porsche celebrates its racing history with the...</td>\n",
       "      <td>Benefit</td>\n",
       "      <td>porsche celebrates racing history 911 carrera ...</td>\n",
       "    </tr>\n",
       "    <tr>\n",
       "      <th>103986</th>\n",
       "      <td>Hmm, could that be the Mercedes? It made a ver...</td>\n",
       "      <td>Risky</td>\n",
       "      <td>hmm could mercedes made strange noise hamilton...</td>\n",
       "    </tr>\n",
       "    <tr>\n",
       "      <th>261437</th>\n",
       "      <td>The Full Carbon Audi RS6 is simply Amazing  pi...</td>\n",
       "      <td>Benefit</td>\n",
       "      <td>full carbon audi rs6 simply amazing lurgrsmbqs</td>\n",
       "    </tr>\n",
       "    <tr>\n",
       "      <th>205444</th>\n",
       "      <td>Vijay Mayadas explores #blockchain potential i...</td>\n",
       "      <td>Benefit</td>\n",
       "      <td>vijay mayadas explores blockchain potential ch...</td>\n",
       "    </tr>\n",
       "  </tbody>\n",
       "</table>\n",
       "</div>"
      ],
      "text/plain": [
       "                                                     TEXT Sent_type  \\\n",
       "143880  \"Over the years, the MLK estate has also licen...   Benefit   \n",
       "87455   Porsche celebrates its racing history with the...   Benefit   \n",
       "103986  Hmm, could that be the Mercedes? It made a ver...     Risky   \n",
       "261437  The Full Carbon Audi RS6 is simply Amazing  pi...   Benefit   \n",
       "205444  Vijay Mayadas explores #blockchain potential i...   Benefit   \n",
       "\n",
       "                                                  cleaned  \n",
       "143880  years mlk estate also licensed king speeches u...  \n",
       "87455   porsche celebrates racing history 911 carrera ...  \n",
       "103986  hmm could mercedes made strange noise hamilton...  \n",
       "261437     full carbon audi rs6 simply amazing lurgrsmbqs  \n",
       "205444  vijay mayadas explores blockchain potential ch...  "
      ]
     },
     "execution_count": 78,
     "metadata": {},
     "output_type": "execute_result"
    }
   ],
   "source": [
    "df.head()"
   ]
  },
  {
   "cell_type": "code",
   "execution_count": 80,
   "metadata": {
    "colab": {
     "base_uri": "https://localhost:8080/",
     "height": 34
    },
    "colab_type": "code",
    "id": "GdnFa3KKPWCq",
    "outputId": "cfa221e0-86ff-426f-d8c9-21eb2ce3b52a"
   },
   "outputs": [
    {
     "data": {
      "text/plain": [
       "'Vijay Mayadas explores #blockchain potential in China and impact on tech like 5G and self-driving cars in @SCMP_News http://ow.ly/nxEf309oREM\\xa0pic.twitter.com/US7A02sAiA'"
      ]
     },
     "execution_count": 80,
     "metadata": {},
     "output_type": "execute_result"
    }
   ],
   "source": [
    "# checking with original text at index 225777. It is risky\n",
    "df.TEXT.loc[205444]"
   ]
  },
  {
   "cell_type": "code",
   "execution_count": 81,
   "metadata": {
    "colab": {
     "base_uri": "https://localhost:8080/",
     "height": 101
    },
    "colab_type": "code",
    "id": "BMux1cghQSF8",
    "outputId": "c596d395-45cf-49fd-9022-2e6597ff674b"
   },
   "outputs": [
    {
     "data": {
      "text/plain": [
       "TEXT         The Full Carbon Audi RS6 is simply Amazing  pi...\n",
       "Sent_type                                              Benefit\n",
       "cleaned         full carbon audi rs6 simply amazing lurgrsmbqs\n",
       "Name: 261437, dtype: object"
      ]
     },
     "execution_count": 81,
     "metadata": {},
     "output_type": "execute_result"
    }
   ],
   "source": [
    "df.loc[261437]"
   ]
  },
  {
   "cell_type": "code",
   "execution_count": 84,
   "metadata": {
    "colab": {},
    "colab_type": "code",
    "id": "l2SUeNDUscwD"
   },
   "outputs": [],
   "source": [
    "#[print(df['TEXT'][i], y_pred[i], y_test_ohe[i]) for i in range(143880, 205444)]"
   ]
  },
  {
   "cell_type": "markdown",
   "metadata": {
    "colab_type": "text",
    "id": "dkcA0Fl3V8r5"
   },
   "source": [
    "**Interpret**\n",
    "\n",
    "- We have checked 1st five sentiment from 'text' feature. So, 1st column is text<br>\n",
    "- 2nd column is predicted results. These are probability values of each sentiment. 0 ,1,2 as they were encoded. 'Risky':0, 'Beneficial':1, 'Neutral':2. So, 0 is risky, 1 is beneficial and 2 is neut. Probability of risky is 0.15, beneficial is 0.819 and neut is 0.119. Clearly, this text has tendency to be beneficial having highest probability<br>\n",
    "- Third column shows real values of sentiment. Sequence is same as we encoded. And we can see that actual text was of beneficial sentiment. So, our prediction is correct in this case"
   ]
  },
  {
   "cell_type": "code",
   "execution_count": 85,
   "metadata": {
    "colab": {
     "base_uri": "https://localhost:8080/",
     "height": 118
    },
    "colab_type": "code",
    "id": "itwBZsUzsfOo",
    "outputId": "7b5d033b-5620-4a09-c977-87caedfeebb0"
   },
   "outputs": [
    {
     "name": "stdout",
     "output_type": "stream",
     "text": [
      "Benefit predictions: 1523\n",
      "Neutral predictions: 1689\n",
      "Risk predictions: 538\n",
      "Real Benefit values: 1512\n",
      "Real neutral values: 1606\n",
      "Real Risk values: 632\n"
     ]
    }
   ],
   "source": [
    "ben_count, neu_count, risk_count = 0, 0, 0\n",
    "real_ben, real_neu, real_risk = 0, 0, 0\n",
    "for i, y_pred in enumerate(y_pred):\n",
    "    if np.argmax(y_pred)==2:\n",
    "        risk_count += 1\n",
    "    elif np.argmax(y_pred)==1:\n",
    "        neu_count += 1\n",
    "    else:\n",
    "        ben_count += 1\n",
    "    \n",
    "    if np.argmax(y_test_ohe[i])==2:\n",
    "        real_risk += 1\n",
    "    elif np.argmax(y_test_ohe[i])==1:    \n",
    "        real_neu += 1\n",
    "    else:\n",
    "        real_ben +=1\n",
    "\n",
    "print('Benefit predictions:', ben_count)\n",
    "print('Neutral predictions:', neu_count)\n",
    "print('Risk predictions:', risk_count)\n",
    "print('Real Benefit values:', real_ben)\n",
    "print('Real neutral values:', real_neu)\n",
    "print('Real Risk values:', real_risk)"
   ]
  },
  {
   "cell_type": "markdown",
   "metadata": {
    "colab_type": "text",
    "id": "1ixneqGbU61n"
   },
   "source": [
    "test set has 3750.<br>\n",
    "Real values are risky as 632, neutral as 1606, benefit as 1512<br>\n",
    "We predicted Risky as 480, neutral as 1699, benefit as  15716<br>"
   ]
  },
  {
   "cell_type": "code",
   "execution_count": 86,
   "metadata": {
    "colab": {
     "base_uri": "https://localhost:8080/",
     "height": 84
    },
    "colab_type": "code",
    "id": "guIDzmPLgCOU",
    "outputId": "817da0be-b266-461e-df99-3e7b95575fe2"
   },
   "outputs": [
    {
     "data": {
      "text/plain": [
       "Risky       632\n",
       "Benefit    1512\n",
       "Neutral    1606\n",
       "Name: Sent_type, dtype: int64"
      ]
     },
     "execution_count": 86,
     "metadata": {},
     "output_type": "execute_result"
    }
   ],
   "source": [
    "y_test.value_counts(ascending=True)"
   ]
  }
 ],
 "metadata": {
  "accelerator": "GPU",
  "colab": {
   "collapsed_sections": [],
   "name": "Paper3.ipynb",
   "provenance": [],
   "version": "0.3.2"
  },
  "kernelspec": {
   "display_name": "Python 3",
   "language": "python",
   "name": "python3"
  },
  "language_info": {
   "codemirror_mode": {
    "name": "ipython",
    "version": 3
   },
   "file_extension": ".py",
   "mimetype": "text/x-python",
   "name": "python",
   "nbconvert_exporter": "python",
   "pygments_lexer": "ipython3",
   "version": "3.7.7"
  }
 },
 "nbformat": 4,
 "nbformat_minor": 1
}
