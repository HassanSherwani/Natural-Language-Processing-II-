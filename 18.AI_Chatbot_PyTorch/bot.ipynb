{
 "cells": [
  {
   "cell_type": "markdown",
   "metadata": {},
   "source": [
    "# Creating a basic bot using PyTorch"
   ]
  },
  {
   "cell_type": "markdown",
   "metadata": {},
   "source": [
    "# 1)- Importing key Modules"
   ]
  },
  {
   "cell_type": "code",
   "execution_count": 1,
   "metadata": {},
   "outputs": [],
   "source": [
    "import numpy as np\n",
    "import random\n",
    "import json\n",
    "\n",
    "import torch\n",
    "import torch.nn as nn\n",
    "from torch.utils.data import Dataset, DataLoader\n",
    "\n",
    "from nltk_utils import bag_of_words, tokenize, stem\n",
    "from model import NeuralNet"
   ]
  },
  {
   "cell_type": "markdown",
   "metadata": {},
   "source": [
    "# 2-Load Data"
   ]
  },
  {
   "cell_type": "code",
   "execution_count": 2,
   "metadata": {},
   "outputs": [],
   "source": [
    "with open('intents.json', 'r') as f:\n",
    "    data = json.load(f)"
   ]
  },
  {
   "cell_type": "code",
   "execution_count": 3,
   "metadata": {},
   "outputs": [
    {
     "data": {
      "text/plain": [
       "{'intents': [{'tag': 'greeting',\n",
       "   'patterns': ['Hi',\n",
       "    'How are you',\n",
       "    'Is anyone there?',\n",
       "    'Hello',\n",
       "    'Good day',\n",
       "    'Whats up'],\n",
       "   'responses': ['Hello!',\n",
       "    'Good to see you again!',\n",
       "    'Hi there, how can I help?'],\n",
       "   'context_set': ''},\n",
       "  {'tag': 'goodbye',\n",
       "   'patterns': ['cya',\n",
       "    'See you later',\n",
       "    'Goodbye',\n",
       "    'I am Leaving',\n",
       "    'Have a Good day'],\n",
       "   'responses': ['Sad to see you go :(', 'Talk to you later', 'Goodbye!'],\n",
       "   'context_set': ''},\n",
       "  {'tag': 'age',\n",
       "   'patterns': ['how old',\n",
       "    'how old is Hassan',\n",
       "    'what is your age',\n",
       "    'how old are you',\n",
       "    'age please?'],\n",
       "   'responses': ['I am 32 years old!', '32 years young!'],\n",
       "   'context_set': ''},\n",
       "  {'tag': 'name',\n",
       "   'patterns': ['what is your name',\n",
       "    'what should I call you',\n",
       "    'whats your name?'],\n",
       "   'responses': ['You can call me Hassan.',\n",
       "    \"I'm Hassan!\",\n",
       "    \"I'm Hassan Sherwani.You may call me Hassan.\"],\n",
       "   'context_set': ''},\n",
       "  {'tag': 'profession',\n",
       "   'patterns': ['Id like to get some information about you',\n",
       "    'what is your profession',\n",
       "    'what do you do for work?',\n",
       "    'Could I know what is your field?'],\n",
       "   'responses': ['I am PhD student at Erasmus school of management',\n",
       "    'I am third year PhD student at RSM. My research focus is on Natural Language Processing'],\n",
       "   'context_set': ''},\n",
       "  {'tag': 'hours',\n",
       "   'patterns': ['when are you available for discussion?',\n",
       "    'what are your office hours',\n",
       "    'hours of work'],\n",
       "   'responses': ['I am available from 10-12 every Thursday.',\n",
       "    'I am in office from 10-12 every Thursday. Room is T09-7'],\n",
       "   'context_set': ''}]}"
      ]
     },
     "execution_count": 3,
     "metadata": {},
     "output_type": "execute_result"
    }
   ],
   "source": [
    "data"
   ]
  },
  {
   "cell_type": "code",
   "execution_count": 4,
   "metadata": {},
   "outputs": [
    {
     "data": {
      "text/plain": [
       "[{'tag': 'greeting',\n",
       "  'patterns': ['Hi',\n",
       "   'How are you',\n",
       "   'Is anyone there?',\n",
       "   'Hello',\n",
       "   'Good day',\n",
       "   'Whats up'],\n",
       "  'responses': ['Hello!',\n",
       "   'Good to see you again!',\n",
       "   'Hi there, how can I help?'],\n",
       "  'context_set': ''},\n",
       " {'tag': 'goodbye',\n",
       "  'patterns': ['cya',\n",
       "   'See you later',\n",
       "   'Goodbye',\n",
       "   'I am Leaving',\n",
       "   'Have a Good day'],\n",
       "  'responses': ['Sad to see you go :(', 'Talk to you later', 'Goodbye!'],\n",
       "  'context_set': ''},\n",
       " {'tag': 'age',\n",
       "  'patterns': ['how old',\n",
       "   'how old is Hassan',\n",
       "   'what is your age',\n",
       "   'how old are you',\n",
       "   'age please?'],\n",
       "  'responses': ['I am 32 years old!', '32 years young!'],\n",
       "  'context_set': ''},\n",
       " {'tag': 'name',\n",
       "  'patterns': ['what is your name',\n",
       "   'what should I call you',\n",
       "   'whats your name?'],\n",
       "  'responses': ['You can call me Hassan.',\n",
       "   \"I'm Hassan!\",\n",
       "   \"I'm Hassan Sherwani.You may call me Hassan.\"],\n",
       "  'context_set': ''},\n",
       " {'tag': 'profession',\n",
       "  'patterns': ['Id like to get some information about you',\n",
       "   'what is your profession',\n",
       "   'what do you do for work?',\n",
       "   'Could I know what is your field?'],\n",
       "  'responses': ['I am PhD student at Erasmus school of management',\n",
       "   'I am third year PhD student at RSM. My research focus is on Natural Language Processing'],\n",
       "  'context_set': ''},\n",
       " {'tag': 'hours',\n",
       "  'patterns': ['when are you available for discussion?',\n",
       "   'what are your office hours',\n",
       "   'hours of work'],\n",
       "  'responses': ['I am available from 10-12 every Thursday.',\n",
       "   'I am in office from 10-12 every Thursday. Room is T09-7'],\n",
       "  'context_set': ''}]"
      ]
     },
     "execution_count": 4,
     "metadata": {},
     "output_type": "execute_result"
    }
   ],
   "source": [
    "data['intents']"
   ]
  },
  {
   "cell_type": "code",
   "execution_count": 5,
   "metadata": {},
   "outputs": [
    {
     "data": {
      "text/plain": [
       "[{'tag': 'greeting',\n",
       "  'patterns': ['Hi',\n",
       "   'How are you',\n",
       "   'Is anyone there?',\n",
       "   'Hello',\n",
       "   'Good day',\n",
       "   'Whats up'],\n",
       "  'responses': ['Hello!',\n",
       "   'Good to see you again!',\n",
       "   'Hi there, how can I help?'],\n",
       "  'context_set': ''},\n",
       " {'tag': 'goodbye',\n",
       "  'patterns': ['cya',\n",
       "   'See you later',\n",
       "   'Goodbye',\n",
       "   'I am Leaving',\n",
       "   'Have a Good day'],\n",
       "  'responses': ['Sad to see you go :(', 'Talk to you later', 'Goodbye!'],\n",
       "  'context_set': ''},\n",
       " {'tag': 'age',\n",
       "  'patterns': ['how old',\n",
       "   'how old is Hassan',\n",
       "   'what is your age',\n",
       "   'how old are you',\n",
       "   'age please?'],\n",
       "  'responses': ['I am 32 years old!', '32 years young!'],\n",
       "  'context_set': ''},\n",
       " {'tag': 'name',\n",
       "  'patterns': ['what is your name',\n",
       "   'what should I call you',\n",
       "   'whats your name?'],\n",
       "  'responses': ['You can call me Hassan.',\n",
       "   \"I'm Hassan!\",\n",
       "   \"I'm Hassan Sherwani.You may call me Hassan.\"],\n",
       "  'context_set': ''},\n",
       " {'tag': 'profession',\n",
       "  'patterns': ['Id like to get some information about you',\n",
       "   'what is your profession',\n",
       "   'what do you do for work?',\n",
       "   'Could I know what is your field?'],\n",
       "  'responses': ['I am PhD student at Erasmus school of management',\n",
       "   'I am third year PhD student at RSM. My research focus is on Natural Language Processing'],\n",
       "  'context_set': ''},\n",
       " {'tag': 'hours',\n",
       "  'patterns': ['when are you available for discussion?',\n",
       "   'what are your office hours',\n",
       "   'hours of work'],\n",
       "  'responses': ['I am available from 10-12 every Thursday.',\n",
       "   'I am in office from 10-12 every Thursday. Room is T09-7'],\n",
       "  'context_set': ''}]"
      ]
     },
     "execution_count": 5,
     "metadata": {},
     "output_type": "execute_result"
    }
   ],
   "source": [
    "data['intents']"
   ]
  },
  {
   "cell_type": "markdown",
   "metadata": {},
   "source": [
    "# 3)- Exploring data"
   ]
  },
  {
   "cell_type": "code",
   "execution_count": 6,
   "metadata": {},
   "outputs": [
    {
     "name": "stdout",
     "output_type": "stream",
     "text": [
      "['Hi', 'How', 'are', 'you', 'Is', 'anyone', 'there', '?', 'Hello', 'Good', 'day', 'Whats', 'up', 'cya', 'See', 'you', 'later', 'Goodbye', 'I', 'am', 'Leaving', 'Have', 'a', 'Good', 'day', 'how', 'old', 'how', 'old', 'is', 'Hassan', 'what', 'is', 'your', 'age', 'how', 'old', 'are', 'you', 'age', 'please', '?', 'what', 'is', 'your', 'name', 'what', 'should', 'I', 'call', 'you', 'whats', 'your', 'name', '?', 'Id', 'like', 'to', 'get', 'some', 'information', 'about', 'you', 'what', 'is', 'your', 'profession', 'what', 'do', 'you', 'do', 'for', 'work', '?', 'Could', 'I', 'know', 'what', 'is', 'your', 'field', '?', 'when', 'are', 'you', 'available', 'for', 'discussion', '?', 'what', 'are', 'your', 'office', 'hours', 'hours', 'of', 'work']\n"
     ]
    }
   ],
   "source": [
    "all_words = []\n",
    "tags = []\n",
    "xy = []\n",
    "# loop through each sentence in our intents patterns\n",
    "for intent in data['intents']:\n",
    "    tag = intent['tag']\n",
    "    # add to tag list\n",
    "    tags.append(tag)\n",
    "    for pattern in intent['patterns']:\n",
    "        # tokenize each word in the sentence\n",
    "        w = tokenize(pattern)\n",
    "        # add to our words list\n",
    "        all_words.extend(w) # notice use of extend instead of append\n",
    "        # add to xy pair\n",
    "        xy.append((w, tag))\n",
    "\n",
    "print(all_words)\n"
   ]
  },
  {
   "cell_type": "markdown",
   "metadata": {},
   "source": [
    "This is like our vocab."
   ]
  },
  {
   "cell_type": "code",
   "execution_count": 7,
   "metadata": {},
   "outputs": [],
   "source": [
    "# stem and lower each word\n",
    "ignore_words = ['?', '.', '!']\n",
    "all_words = [stem(w) for w in all_words if w not in ignore_words]\n",
    "# remove duplicates and sort. Set does trick of getting rid of all duplicated ones\n",
    "all_words = sorted(set(all_words))\n",
    "tags = sorted(set(tags))"
   ]
  },
  {
   "cell_type": "code",
   "execution_count": 8,
   "metadata": {},
   "outputs": [
    {
     "name": "stdout",
     "output_type": "stream",
     "text": [
      "26 patterns\n"
     ]
    }
   ],
   "source": [
    "print(len(xy), \"patterns\")"
   ]
  },
  {
   "cell_type": "code",
   "execution_count": 9,
   "metadata": {},
   "outputs": [
    {
     "name": "stdout",
     "output_type": "stream",
     "text": [
      "6 tags: ['age', 'goodbye', 'greeting', 'hours', 'name', 'profession']\n"
     ]
    }
   ],
   "source": [
    "print(len(tags), \"tags:\", tags)"
   ]
  },
  {
   "cell_type": "code",
   "execution_count": 10,
   "metadata": {},
   "outputs": [
    {
     "name": "stdout",
     "output_type": "stream",
     "text": [
      "49 unique stemmed words: ['a', 'about', 'age', 'am', 'anyon', 'are', 'avail', 'call', 'could', 'cya', 'day', 'discuss', 'do', 'field', 'for', 'get', 'good', 'goodby', 'hassan', 'have', 'hello', 'hi', 'hour', 'how', 'i', 'id', 'inform', 'is', 'know', 'later', 'leav', 'like', 'name', 'of', 'offic', 'old', 'pleas', 'profess', 'see', 'should', 'some', 'there', 'to', 'up', 'what', 'when', 'work', 'you', 'your']\n"
     ]
    }
   ],
   "source": [
    "print(len(all_words), \"unique stemmed words:\", all_words)"
   ]
  },
  {
   "cell_type": "markdown",
   "metadata": {},
   "source": [
    "# 4)-Train-Test Split"
   ]
  },
  {
   "cell_type": "code",
   "execution_count": 11,
   "metadata": {},
   "outputs": [],
   "source": [
    "# create training data\n",
    "X_train = []\n",
    "y_train = []\n",
    "for (pattern_sentence, tag) in xy:\n",
    "    # X: bag of words for each pattern_sentence\n",
    "    bag = bag_of_words(pattern_sentence, all_words)\n",
    "    X_train.append(bag)\n",
    "    # y: PyTorch CrossEntropyLoss needs only class labels, not one-hot\n",
    "    label = tags.index(tag)\n",
    "    y_train.append(label)\n",
    "\n",
    "X_train = np.array(X_train)\n",
    "y_train = np.array(y_train)"
   ]
  },
  {
   "cell_type": "code",
   "execution_count": 12,
   "metadata": {},
   "outputs": [
    {
     "data": {
      "text/plain": [
       "array([[0., 0., 0., ..., 0., 0., 0.],\n",
       "       [0., 0., 0., ..., 0., 1., 0.],\n",
       "       [0., 0., 0., ..., 0., 0., 0.],\n",
       "       ...,\n",
       "       [0., 0., 0., ..., 0., 1., 0.],\n",
       "       [0., 0., 0., ..., 0., 0., 1.],\n",
       "       [0., 0., 0., ..., 1., 0., 0.]], dtype=float32)"
      ]
     },
     "execution_count": 12,
     "metadata": {},
     "output_type": "execute_result"
    }
   ],
   "source": [
    "X_train"
   ]
  },
  {
   "cell_type": "code",
   "execution_count": 13,
   "metadata": {},
   "outputs": [
    {
     "data": {
      "text/plain": [
       "array([2, 2, 2, 2, 2, 2, 1, 1, 1, 1, 1, 0, 0, 0, 0, 0, 4, 4, 4, 5, 5, 5,\n",
       "       5, 3, 3, 3])"
      ]
     },
     "execution_count": 13,
     "metadata": {},
     "output_type": "execute_result"
    }
   ],
   "source": [
    "y_train"
   ]
  },
  {
   "cell_type": "code",
   "execution_count": 14,
   "metadata": {},
   "outputs": [
    {
     "name": "stdout",
     "output_type": "stream",
     "text": [
      "(26, 49)\n",
      "(26,)\n"
     ]
    }
   ],
   "source": [
    "print(X_train.shape)\n",
    "print(y_train.shape)"
   ]
  },
  {
   "cell_type": "markdown",
   "metadata": {},
   "source": [
    "### Hyper-parameters defined"
   ]
  },
  {
   "cell_type": "code",
   "execution_count": 15,
   "metadata": {},
   "outputs": [
    {
     "name": "stdout",
     "output_type": "stream",
     "text": [
      "49\n",
      "6\n"
     ]
    }
   ],
   "source": [
    "# Hyper-parameters \n",
    "num_epochs = 1200\n",
    "batch_size = 8\n",
    "learning_rate = 0.001\n",
    "input_size = len(X_train[0])\n",
    "hidden_size = 8\n",
    "output_size = len(tags)\n",
    "print(input_size) \n",
    "print(output_size)"
   ]
  },
  {
   "cell_type": "markdown",
   "metadata": {},
   "source": [
    "- Input beig X and its feature \n",
    "\n",
    "- y being number of classes we have"
   ]
  },
  {
   "cell_type": "markdown",
   "metadata": {},
   "source": [
    "# 5)- Model Building"
   ]
  },
  {
   "cell_type": "code",
   "execution_count": 16,
   "metadata": {},
   "outputs": [],
   "source": [
    "class ChatDataset(Dataset):\n",
    "\n",
    "    def __init__(self):\n",
    "        self.n_samples = len(X_train)\n",
    "        self.x_data = X_train\n",
    "        self.y_data = y_train\n",
    "\n",
    "    # support indexing such that dataset[i] can be used to get i-th sample\n",
    "    def __getitem__(self, index):\n",
    "        return self.x_data[index], self.y_data[index]\n",
    "\n",
    "    # we can call len(dataset) to return the size\n",
    "    def __len__(self):\n",
    "        return self.n_samples\n",
    "\n",
    "dataset = ChatDataset()\n",
    "train_loader = DataLoader(dataset=dataset,\n",
    "                          batch_size=batch_size,\n",
    "                          shuffle=True,\n",
    "                          num_workers=0)\n",
    "\n",
    "device = torch.device('cuda' if torch.cuda.is_available() else 'cpu')\n",
    "\n",
    "model = NeuralNet(input_size, hidden_size, output_size).to(device)\n"
   ]
  },
  {
   "cell_type": "markdown",
   "metadata": {},
   "source": [
    "### Loss and optimizer"
   ]
  },
  {
   "cell_type": "code",
   "execution_count": 17,
   "metadata": {},
   "outputs": [],
   "source": [
    "criterion = nn.CrossEntropyLoss()\n",
    "optimizer = torch.optim.Adam(model.parameters(), lr=learning_rate)"
   ]
  },
  {
   "cell_type": "markdown",
   "metadata": {},
   "source": [
    "### Train the model"
   ]
  },
  {
   "cell_type": "code",
   "execution_count": 18,
   "metadata": {},
   "outputs": [
    {
     "name": "stdout",
     "output_type": "stream",
     "text": [
      "Epoch [100/1200], Loss: 1.8693\n",
      "Epoch [200/1200], Loss: 0.3177\n",
      "Epoch [300/1200], Loss: 0.0538\n",
      "Epoch [400/1200], Loss: 0.0278\n",
      "Epoch [500/1200], Loss: 0.0008\n",
      "Epoch [600/1200], Loss: 0.0056\n",
      "Epoch [700/1200], Loss: 0.0033\n",
      "Epoch [800/1200], Loss: 0.0015\n",
      "Epoch [900/1200], Loss: 0.0015\n",
      "Epoch [1000/1200], Loss: 0.0007\n",
      "Epoch [1100/1200], Loss: 0.0004\n",
      "Epoch [1200/1200], Loss: 0.0001\n",
      "final loss: 0.0001\n"
     ]
    }
   ],
   "source": [
    "for epoch in range(num_epochs):\n",
    "    for (words, labels) in train_loader:\n",
    "        words = words.to(device)\n",
    "        labels = labels.to(device=device,dtype=torch.int64)\n",
    "        \n",
    "        # Forward pass\n",
    "        outputs = model(words)\n",
    "        # if y would be one-hot, we must apply\n",
    "        # labels = torch.max(labels, 1)[1]\n",
    "        loss = criterion(outputs, labels)\n",
    "        \n",
    "        # Backward for back-propagation and optimize\n",
    "        optimizer.zero_grad()\n",
    "        loss.backward()\n",
    "        optimizer.step()\n",
    "        \n",
    "    if (epoch+1) % 100 == 0:\n",
    "        print (f'Epoch [{epoch+1}/{num_epochs}], Loss: {loss.item():.4f}')\n",
    "\n",
    "\n",
    "print(f'final loss: {loss.item():.4f}')"
   ]
  },
  {
   "cell_type": "markdown",
   "metadata": {},
   "source": [
    "### save model"
   ]
  },
  {
   "cell_type": "code",
   "execution_count": 19,
   "metadata": {},
   "outputs": [
    {
     "name": "stdout",
     "output_type": "stream",
     "text": [
      "training complete. file saved to data.pth\n"
     ]
    }
   ],
   "source": [
    "data = {\n",
    "\"model_state\": model.state_dict(),\n",
    "\"input_size\": input_size,\n",
    "\"hidden_size\": hidden_size,\n",
    "\"output_size\": output_size,\n",
    "\"all_words\": all_words,\n",
    "\"tags\": tags\n",
    "}\n",
    "\n",
    "FILE = \"data.pth\"\n",
    "torch.save(data, FILE)\n",
    "\n",
    "print(f'training complete. file saved to {FILE}')"
   ]
  },
  {
   "cell_type": "markdown",
   "metadata": {},
   "source": [
    "# END OF NOTEBOOK"
   ]
  }
 ],
 "metadata": {
  "kernelspec": {
   "display_name": "Python 3.7 (torch)",
   "language": "python",
   "name": "torch"
  },
  "language_info": {
   "codemirror_mode": {
    "name": "ipython",
    "version": 3
   },
   "file_extension": ".py",
   "mimetype": "text/x-python",
   "name": "python",
   "nbconvert_exporter": "python",
   "pygments_lexer": "ipython3",
   "version": "3.7.6"
  }
 },
 "nbformat": 4,
 "nbformat_minor": 4
}
