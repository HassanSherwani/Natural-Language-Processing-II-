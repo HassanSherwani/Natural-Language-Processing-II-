{
 "cells": [
  {
   "cell_type": "markdown",
   "metadata": {},
   "source": [
    "# Basic Regex Application"
   ]
  },
  {
   "cell_type": "code",
   "execution_count": 1,
   "metadata": {},
   "outputs": [],
   "source": [
    "# for Python 2: use print only as a function\n",
    "from __future__ import print_function"
   ]
  },
  {
   "cell_type": "markdown",
   "metadata": {},
   "source": [
    "## Exercise 1: Baltimore homicides\n",
    "\n",
    "A Baltimore newspaper's website contains a map of all homicides in the city, including details about the victims. That map has been scraped, and the data is stored in the file **`homicides.txt`** (in the **`data`** directory of the course repository)."
   ]
  },
  {
   "cell_type": "code",
   "execution_count": 2,
   "metadata": {},
   "outputs": [],
   "source": [
    "# read the data into a list (each row is one list element)\n",
    "with open('../data/homicides.txt') as f:\n",
    "    data = [row for row in f]"
   ]
  },
  {
   "cell_type": "code",
   "execution_count": 3,
   "metadata": {},
   "outputs": [
    {
     "data": {
      "text/plain": [
       "1250"
      ]
     },
     "execution_count": 3,
     "metadata": {},
     "output_type": "execute_result"
    }
   ],
   "source": [
    "# check the number of rows\n",
    "len(data)"
   ]
  },
  {
   "cell_type": "code",
   "execution_count": 4,
   "metadata": {},
   "outputs": [
    {
     "data": {
      "text/plain": [
       "['39.311024, -76.674227, iconHomicideShooting, \\'p2\\', \\'<dl><dt>Leon Nelson</dt><dd class=\"address\">3400 Clifton Ave.<br />Baltimore, MD 21216</dd><dd>black male, 17 years old</dd><dd>Found on January 1, 2007</dd><dd>Victim died at Shock Trauma</dd><dd>Cause: shooting</dd></dl>\\'\\n',\n",
       " '39.312641, -76.698948, iconHomicideShooting, \\'p3\\', \\'<dl><dt>Eddie Golf</dt><dd class=\"address\">4900 Challedon Road<br />Baltimore, MD 21207</dd><dd>black male, 26 years old</dd><dd>Found on January 2, 2007</dd><dd>Victim died at scene</dd><dd>Cause: shooting</dd></dl>\\'\\n',\n",
       " '39.309781, -76.649882, iconHomicideBluntForce, \\'p4\\', \\'<dl><dt>Nelsene Burnette</dt><dd class=\"address\">2000 West North Ave<br />Baltimore, MD 21217</dd><dd>black female, 44 years old</dd><dd>Found on January 2, 2007</dd><dd>Victim died at scene</dd><dd>Cause: blunt force</dd></dl>\\'\\n',\n",
       " '39.363925, -76.598772, iconHomicideAsphyxiation, \\'p5\\', \\'<dl><dt>Thomas MacKenney</dt><dd class=\"address\">5900 Northwood Drive<br />Baltimore, MD 21212</dd><dd>black male, 21 years old</dd><dd>Found on January 3, 2007</dd><dd>Victim died at scene</dd><dd>Cause: asphyxiation</dd></dl>\\'\\n',\n",
       " '39.238928, -76.602718, iconHomicideBluntForce, \\'p6\\', \\'<dl><dt>Edward Canupp</dt><dd class=\"address\">500 Maude Ave.<br />Baltimore, MD 21225</dd><dd>white male, 61 years old</dd><dd>Found on January 5, 2007</dd><dd>Victim died at scene</dd><dd>Cause: blunt force</dd></dl>\\'\\n']"
      ]
     },
     "execution_count": 4,
     "metadata": {},
     "output_type": "execute_result"
    }
   ],
   "source": [
    "# examine the first 5 rows\n",
    "data[0:5]"
   ]
  },
  {
   "cell_type": "markdown",
   "metadata": {},
   "source": [
    "We want a list of the **ages** of the Baltimore homicide victims. (If the age is missing, insert a zero instead.) Here is the **expected output:**\n",
    "\n",
    "> `ages = ['17 years old', '26 years old', ..., '0 years old', ...]`"
   ]
  },
  {
   "cell_type": "code",
   "execution_count": 5,
   "metadata": {},
   "outputs": [],
   "source": [
    "import re"
   ]
  },
  {
   "cell_type": "code",
   "execution_count": 6,
   "metadata": {},
   "outputs": [],
   "source": [
    "ages = []\n",
    "for row in data:\n",
    "    match=re.search(r'\\d+ years? old' , row)\n",
    "    if match:\n",
    "        ages.append(match.group())\n",
    "    else:\n",
    "        ages.append('0 years old')"
   ]
  },
  {
   "cell_type": "code",
   "execution_count": 7,
   "metadata": {},
   "outputs": [
    {
     "data": {
      "text/plain": [
       "['17 years old',\n",
       " '26 years old',\n",
       " '44 years old',\n",
       " '21 years old',\n",
       " '61 years old']"
      ]
     },
     "execution_count": 7,
     "metadata": {},
     "output_type": "execute_result"
    }
   ],
   "source": [
    "ages[:5]"
   ]
  },
  {
   "cell_type": "markdown",
   "metadata": {},
   "source": [
    "As a **bonus task**, use the `ages` list to create a second list of integers. (This does not require regular expressions.) Here is the **expected output:**\n",
    "\n",
    "> `age_nums = [17, 26, ..., 0, ...]`"
   ]
  },
  {
   "cell_type": "markdown",
   "metadata": {},
   "source": [
    "As **another bonus task**, use the `age_nums` list to calculate the **mean age** of a homicide victim (excluding zeros)."
   ]
  },
  {
   "cell_type": "markdown",
   "metadata": {},
   "source": [
    "## Exercise 2: Baltimore homicides, revisited\n",
    "\n",
    "Using **match groups**, create the `age_nums` list directly from the regular expression. Here is the **expected output:**\n",
    "\n",
    "> `age_nums = [17, 26, ..., 0, ...]`"
   ]
  },
  {
   "cell_type": "code",
   "execution_count": 8,
   "metadata": {},
   "outputs": [],
   "source": [
    "age_nums = []\n",
    "for row in data:\n",
    "    match = re.search(r'(\\d+) years? old', row)\n",
    "    if match:\n",
    "        age_nums.append(int(match.group(1)))\n",
    "    else:\n",
    "        age_nums.append(0)"
   ]
  },
  {
   "cell_type": "code",
   "execution_count": 11,
   "metadata": {},
   "outputs": [
    {
     "name": "stdout",
     "output_type": "stream",
     "text": [
      "[17, 26, 44, 21, 61, 46, 27, 21, 16, 21, 34, 25, 23, 30, 26, 36, 21, 27, 30, 19]\n"
     ]
    }
   ],
   "source": [
    "print(age_nums[:20])"
   ]
  }
 ],
 "metadata": {
  "kernelspec": {
   "display_name": "Python 3.7 (tensorflow)",
   "language": "python",
   "name": "tensorflow"
  },
  "language_info": {
   "codemirror_mode": {
    "name": "ipython",
    "version": 3
   },
   "file_extension": ".py",
   "mimetype": "text/x-python",
   "name": "python",
   "nbconvert_exporter": "python",
   "pygments_lexer": "ipython3",
   "version": "3.7.5"
  }
 },
 "nbformat": 4,
 "nbformat_minor": 1
}
