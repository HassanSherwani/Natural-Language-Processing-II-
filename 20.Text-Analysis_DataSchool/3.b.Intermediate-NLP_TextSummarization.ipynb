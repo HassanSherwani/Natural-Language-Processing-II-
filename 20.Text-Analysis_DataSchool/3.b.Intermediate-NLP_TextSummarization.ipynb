{
 "cells": [
  {
   "cell_type": "markdown",
   "metadata": {},
   "source": [
    "# Document Summarization\n",
    "\n",
    "Using TF-IDF, write a document summarizer for a corpus of your choosing, but summarize using full sentences or paragraphs rather than individual words."
   ]
  },
  {
   "cell_type": "code",
   "execution_count": 1,
   "metadata": {},
   "outputs": [],
   "source": [
    "# for Python 2: use print only as a function\n",
    "from __future__ import print_function"
   ]
  },
  {
   "cell_type": "code",
   "execution_count": 2,
   "metadata": {},
   "outputs": [],
   "source": [
    "# read yelp.csv into a DataFrame using a relative path\n",
    "import pandas as pd\n",
    "path = '../data/yelp.csv'\n",
    "yelp = pd.read_csv(path)"
   ]
  },
  {
   "cell_type": "code",
   "execution_count": 3,
   "metadata": {},
   "outputs": [
    {
     "data": {
      "text/plain": [
       "(10000, 29185)"
      ]
     },
     "execution_count": 3,
     "metadata": {},
     "output_type": "execute_result"
    }
   ],
   "source": [
    "# create a document-term matrix using TfidfVectorizer\n",
    "from sklearn.feature_extraction.text import TfidfVectorizer\n",
    "vect = TfidfVectorizer()\n",
    "dtm = vect.fit_transform(yelp.text)\n",
    "dtm.shape"
   ]
  },
  {
   "cell_type": "code",
   "execution_count": 4,
   "metadata": {},
   "outputs": [
    {
     "data": {
      "text/plain": [
       "29185"
      ]
     },
     "execution_count": 4,
     "metadata": {},
     "output_type": "execute_result"
    }
   ],
   "source": [
    "# create a list of all of the features\n",
    "features = vect.get_feature_names()\n",
    "len(features)"
   ]
  },
  {
   "cell_type": "code",
   "execution_count": 5,
   "metadata": {},
   "outputs": [],
   "source": [
    "import numpy as np\n",
    "from textblob import TextBlob\n",
    "from sklearn.feature_extraction.text import CountVectorizer\n",
    "\n",
    "def summarize():\n",
    "    \n",
    "    # choose a random review that has at least 10 sentences\n",
    "    num_sentences = 0\n",
    "    while num_sentences < 10:\n",
    "        review_id = np.random.randint(0, yelp.shape[0])\n",
    "        review_text = yelp.loc[review_id, 'text']\n",
    "        review_blob = TextBlob(review_text)\n",
    "        num_sentences = len(review_blob.sentences)\n",
    "    \n",
    "    # create a list of all unique words in the review using CountVectorizer\n",
    "    vect = CountVectorizer()\n",
    "    vect.fit([review_text])\n",
    "    unique_words = vect.get_feature_names()\n",
    "    \n",
    "    # create a dictionary of words and their TF-IDF scores\n",
    "    word_scores = {}\n",
    "    for word in unique_words:\n",
    "        word_scores[word] = dtm[review_id, features.index(word)]\n",
    "    \n",
    "    # calculate the mean TF-IDF score for each sentence that has at least 6 words\n",
    "    sentences = review_blob.sentences\n",
    "    sentence_scores = []\n",
    "    for sentence in sentences:\n",
    "        sentence_words = sentence.words.lower()\n",
    "        if len(sentence_words) >= 6:\n",
    "            sentence_score = np.mean([word_scores[word] for word in sentence_words if word in unique_words])\n",
    "            sentence_scores.append((sentence_score, sentence))\n",
    "    \n",
    "    # print sentences with the top 3 TF-IDF scores\n",
    "    print('TOP SCORING SENTENCES:')\n",
    "    top_scores = sorted(sentence_scores, reverse=True)[0:3]\n",
    "    for score, sentence in top_scores:\n",
    "        print(sentence)\n",
    "    \n",
    "    # print 3 random sentences (for comparison)\n",
    "    print('\\n' + 'RANDOM SENTENCES:')\n",
    "    random_sentences = np.random.choice(sentences, size=3, replace=False)\n",
    "    for sentence in random_sentences:\n",
    "        print(sentence)\n",
    "    \n",
    "    # print the review\n",
    "    print('\\n' + 'REVIEW:' + '\\n' + review_text)"
   ]
  },
  {
   "cell_type": "code",
   "execution_count": 6,
   "metadata": {},
   "outputs": [
    {
     "name": "stdout",
     "output_type": "stream",
     "text": [
      "TOP SCORING SENTENCES:\n",
      "Everybody in the restaurant excitedly awaited the arrival of the new year and when the clock struck 12 there was toasting and cheering.\n",
      "When we finished our meal, it was about 11:15 p.m. - definitely too late to go somewhere else to countdown to the new year.\n",
      "At ten minutes to the hour, the music turned off and the volume on the TVs, which had all been switched to the big ball drop in NYC, was turned up.\n",
      "\n",
      "RANDOM SENTENCES:\n",
      "We were also provided with champagne for a midnight toast.\n",
      "When we finished our meal, it was about 11:15 p.m. - definitely too late to go somewhere else to countdown to the new year.\n",
      "Yeah, that's a long time to wait for this place, but like I said it was NYE and we didn't have any later plans, so we didn't mind hanging out.\n",
      "\n",
      "REVIEW:\n",
      "I think ordinarily I would give this place 3 stars, but this review is based on my experience here on New Year's Eve.  After attending a Coyotes game, we came over to the Yard House for a late dinner.  Not surprisingly, the place was packed but we were able to find a couch to sit on outside during our 1.5 hour wait for a table.  Yeah, that's a long time to wait for this place, but like I said it was NYE and we didn't have any later plans, so we didn't mind hanging out.  Coincidentally, you can get full bar and menu service on the couches outside and we enjoyed some drinks while happily waiting for a proper table and chairs for dinner.\n",
      "\n",
      "The food was OK; nothing really to write home about.  My favorite part of the meal was probably dessert - the warm brownie with ice cream was a treat!  When we finished our meal, it was about 11:15 p.m. - definitely too late to go somewhere else to countdown to the new year.  So, we hung out.  Our waitress, Jaime, was very friendly and surprisingly attentive for how busy the restaurant was.  She gave us festive top hats, tiaras, and beads to wear to celebrate.  We were also provided with champagne for a midnight toast.   All of this was free, and there had been no cover charge to get in.  I thought that was a really nice touch.  At ten minutes to the hour, the music turned off and the volume on the TVs, which had all been switched to the big ball drop in NYC, was turned up.  Everybody in the restaurant excitedly awaited the arrival of the new year and when the clock struck 12 there was toasting and cheering.  Yeah, this may all sound very mellow, but it was a fun, relatively cheap (given that every other place had a cover charge and/or price fixe menu), safe place to bring in the new year.\n"
     ]
    }
   ],
   "source": [
    "summarize()"
   ]
  }
 ],
 "metadata": {
  "kernelspec": {
   "display_name": "Python 3.7 (tensorflow)",
   "language": "python",
   "name": "tensorflow"
  },
  "language_info": {
   "codemirror_mode": {
    "name": "ipython",
    "version": 3
   },
   "file_extension": ".py",
   "mimetype": "text/x-python",
   "name": "python",
   "nbconvert_exporter": "python",
   "pygments_lexer": "ipython3",
   "version": "3.7.5"
  }
 },
 "nbformat": 4,
 "nbformat_minor": 1
}
