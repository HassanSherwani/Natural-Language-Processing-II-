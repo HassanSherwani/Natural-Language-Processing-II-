{
 "cells": [
  {
   "cell_type": "markdown",
   "metadata": {},
   "source": [
    "# Intermediate Regex Exercises (Solution)"
   ]
  },
  {
   "cell_type": "code",
   "execution_count": 1,
   "metadata": {
    "collapsed": true
   },
   "outputs": [],
   "source": [
    "# for Python 2: use print only as a function\n",
    "from __future__ import print_function"
   ]
  },
  {
   "cell_type": "markdown",
   "metadata": {},
   "source": [
    "## Exercise 1: IMDb top 100 movies\n",
    "\n",
    "Data about the 100 highest rated movies has been been scraped from the IMDb website and stored in the file **`imdb_100.csv`** (in the **`data`** directory of the course repository)."
   ]
  },
  {
   "cell_type": "code",
   "execution_count": 2,
   "metadata": {
    "collapsed": true
   },
   "outputs": [],
   "source": [
    "# read the file into a DataFrame\n",
    "import pandas as pd\n",
    "path = '../data/imdb_100.csv'\n",
    "imdb = pd.read_csv(path)"
   ]
  },
  {
   "cell_type": "code",
   "execution_count": 3,
   "metadata": {},
   "outputs": [
    {
     "data": {
      "text/plain": [
       "Index([u'star_rating', u'title', u'content_rating', u'genre', u'duration',\n",
       "       u'actors_list'],\n",
       "      dtype='object')"
      ]
     },
     "execution_count": 3,
     "metadata": {},
     "output_type": "execute_result"
    }
   ],
   "source": [
    "imdb.columns"
   ]
  },
  {
   "cell_type": "code",
   "execution_count": 4,
   "metadata": {
    "collapsed": true
   },
   "outputs": [],
   "source": [
    "# save the 'title' Series as a Python list\n",
    "titles = imdb.title.tolist()"
   ]
  },
  {
   "cell_type": "code",
   "execution_count": 5,
   "metadata": {},
   "outputs": [
    {
     "name": "stdout",
     "output_type": "stream",
     "text": [
      "['The Shawshank Redemption', 'The Godfather', 'The Godfather: Part II', 'The Dark Knight', 'Pulp Fiction', '12 Angry Men', 'The Good, the Bad and the Ugly', 'The Lord of the Rings: The Return of the King', \"Schindler's List\", 'Fight Club', 'The Lord of the Rings: The Fellowship of the Ring', 'Inception', 'Star Wars: Episode V - The Empire Strikes Back', 'Forrest Gump', 'The Lord of the Rings: The Two Towers', 'Interstellar', \"One Flew Over the Cuckoo's Nest\", 'Seven Samurai', 'Goodfellas', 'Star Wars', 'The Matrix', 'City of God', \"It's a Wonderful Life\", 'The Usual Suspects', 'Se7en', 'Life Is Beautiful', 'Once Upon a Time in the West', 'The Silence of the Lambs', 'Leon: The Professional', 'City Lights', 'Spirited Away', 'The Intouchables', 'Casablanca', 'Whiplash', 'American History X', 'Modern Times', 'Saving Private Ryan', 'Raiders of the Lost Ark', 'Rear Window', 'Psycho', 'The Green Mile', 'Sunset Blvd.', 'The Pianist', 'The Dark Knight Rises', 'Gladiator', 'Terminator 2: Judgment Day', 'Memento', 'Taare Zameen Par', 'Dr. Strangelove or: How I Learned to Stop Worrying and Love the Bomb', 'The Departed', 'Cinema Paradiso', 'Apocalypse Now', 'The Great Dictator', 'The Prestige', 'Back to the Future', 'The Lion King', 'The Lives of Others', 'Alien', 'Paths of Glory', 'Django Unchained', '3 Idiots', 'Grave of the Fireflies', 'The Shining', 'M', 'WALL-E', 'Witness for the Prosecution', 'Munna Bhai M.B.B.S.', 'American Beauty', 'Das Boot', 'Princess Mononoke', 'Amelie', 'North by Northwest', 'Rang De Basanti', 'Jodaeiye Nader az Simin', 'Citizen Kane', 'Aliens', 'Vertigo', 'Oldeuboi', 'Once Upon a Time in America', 'Double Indemnity', 'Star Wars: Episode VI - Return of the Jedi', 'Toy Story 3', 'Braveheart', 'To Kill a Mockingbird', 'Requiem for a Dream', 'Lawrence of Arabia', 'A Clockwork Orange', 'Bicycle Thieves', 'The Kid', 'Swades', 'Reservoir Dogs', 'Eternal Sunshine of the Spotless Mind', 'Taxi Driver', 'Dilwale Dulhania Le Jayenge', \"Singin' in the Rain\", 'All About Eve', 'Yojimbo', 'The Sting', 'Rashomon', 'Amadeus']\n"
     ]
    }
   ],
   "source": [
    "print(titles)"
   ]
  },
  {
   "cell_type": "markdown",
   "metadata": {},
   "source": [
    "Here are a few of the titles from this list:\n",
    "\n",
    "> `titles = [..., \"It's a Wonderful Life\", 'The Usual Suspects', 'Se7en', ...]`\n",
    "\n",
    "We want a revised list with the **initial article (A/An/The) removed**, without affecting the rest of the title. Here is the **expected output:**\n",
    "\n",
    "> `clean_titles = [..., \"It's a Wonderful Life\", 'Usual Suspects', 'Se7en', ...]`"
   ]
  },
  {
   "cell_type": "code",
   "execution_count": 6,
   "metadata": {
    "collapsed": true
   },
   "outputs": [],
   "source": [
    "import re"
   ]
  },
  {
   "cell_type": "code",
   "execution_count": 7,
   "metadata": {},
   "outputs": [
    {
     "name": "stdout",
     "output_type": "stream",
     "text": [
      "['Shawshank Redemption', 'Godfather', 'Godfather: Part II', 'Dark Knight', 'Pulp Fiction', '12 Angry Men', 'Good, the Bad and the Ugly', 'Lord of the Rings: The Return of the King', \"Schindler's List\", 'Fight Club', 'Lord of the Rings: The Fellowship of the Ring', 'Inception', 'Star Wars: Episode V - The Empire Strikes Back', 'Forrest Gump', 'Lord of the Rings: The Two Towers', 'Interstellar', \"One Flew Over the Cuckoo's Nest\", 'Seven Samurai', 'Goodfellas', 'Star Wars', 'Matrix', 'City of God', \"It's a Wonderful Life\", 'Usual Suspects', 'Se7en', 'Life Is Beautiful', 'Once Upon a Time in the West', 'Silence of the Lambs', 'Leon: The Professional', 'City Lights', 'Spirited Away', 'Intouchables', 'Casablanca', 'Whiplash', 'American History X', 'Modern Times', 'Saving Private Ryan', 'Raiders of the Lost Ark', 'Rear Window', 'Psycho', 'Green Mile', 'Sunset Blvd.', 'Pianist', 'Dark Knight Rises', 'Gladiator', 'Terminator 2: Judgment Day', 'Memento', 'Taare Zameen Par', 'Dr. Strangelove or: How I Learned to Stop Worrying and Love the Bomb', 'Departed', 'Cinema Paradiso', 'Apocalypse Now', 'Great Dictator', 'Prestige', 'Back to the Future', 'Lion King', 'Lives of Others', 'Alien', 'Paths of Glory', 'Django Unchained', '3 Idiots', 'Grave of the Fireflies', 'Shining', 'M', 'WALL-E', 'Witness for the Prosecution', 'Munna Bhai M.B.B.S.', 'American Beauty', 'Das Boot', 'Princess Mononoke', 'Amelie', 'North by Northwest', 'Rang De Basanti', 'Jodaeiye Nader az Simin', 'Citizen Kane', 'Aliens', 'Vertigo', 'Oldeuboi', 'Once Upon a Time in America', 'Double Indemnity', 'Star Wars: Episode VI - Return of the Jedi', 'Toy Story 3', 'Braveheart', 'To Kill a Mockingbird', 'Requiem for a Dream', 'Lawrence of Arabia', 'Clockwork Orange', 'Bicycle Thieves', 'Kid', 'Swades', 'Reservoir Dogs', 'Eternal Sunshine of the Spotless Mind', 'Taxi Driver', 'Dilwale Dulhania Le Jayenge', \"Singin' in the Rain\", 'All About Eve', 'Yojimbo', 'Sting', 'Rashomon', 'Amadeus']\n"
     ]
    }
   ],
   "source": [
    "# remove the initial article\n",
    "clean_titles = [re.sub(r'^(A|An|The) ', r'', title) for title in titles]\n",
    "print(clean_titles)"
   ]
  },
  {
   "cell_type": "markdown",
   "metadata": {},
   "source": [
    "As a **bonus task**, add the removed article to the end of the title. Here is the **expected output:**\n",
    "\n",
    "> `better_titles = [..., \"It's a Wonderful Life\", 'Usual Suspects, The', 'Se7en', ...]`"
   ]
  },
  {
   "cell_type": "code",
   "execution_count": 8,
   "metadata": {},
   "outputs": [
    {
     "name": "stdout",
     "output_type": "stream",
     "text": [
      "['Shawshank Redemption, The', 'Godfather, The', 'Godfather: Part II, The', 'Dark Knight, The', 'Pulp Fiction', '12 Angry Men', 'Good, the Bad and the Ugly, The', 'Lord of the Rings: The Return of the King, The', \"Schindler's List\", 'Fight Club', 'Lord of the Rings: The Fellowship of the Ring, The', 'Inception', 'Star Wars: Episode V - The Empire Strikes Back', 'Forrest Gump', 'Lord of the Rings: The Two Towers, The', 'Interstellar', \"One Flew Over the Cuckoo's Nest\", 'Seven Samurai', 'Goodfellas', 'Star Wars', 'Matrix, The', 'City of God', \"It's a Wonderful Life\", 'Usual Suspects, The', 'Se7en', 'Life Is Beautiful', 'Once Upon a Time in the West', 'Silence of the Lambs, The', 'Leon: The Professional', 'City Lights', 'Spirited Away', 'Intouchables, The', 'Casablanca', 'Whiplash', 'American History X', 'Modern Times', 'Saving Private Ryan', 'Raiders of the Lost Ark', 'Rear Window', 'Psycho', 'Green Mile, The', 'Sunset Blvd.', 'Pianist, The', 'Dark Knight Rises, The', 'Gladiator', 'Terminator 2: Judgment Day', 'Memento', 'Taare Zameen Par', 'Dr. Strangelove or: How I Learned to Stop Worrying and Love the Bomb', 'Departed, The', 'Cinema Paradiso', 'Apocalypse Now', 'Great Dictator, The', 'Prestige, The', 'Back to the Future', 'Lion King, The', 'Lives of Others, The', 'Alien', 'Paths of Glory', 'Django Unchained', '3 Idiots', 'Grave of the Fireflies', 'Shining, The', 'M', 'WALL-E', 'Witness for the Prosecution', 'Munna Bhai M.B.B.S.', 'American Beauty', 'Das Boot', 'Princess Mononoke', 'Amelie', 'North by Northwest', 'Rang De Basanti', 'Jodaeiye Nader az Simin', 'Citizen Kane', 'Aliens', 'Vertigo', 'Oldeuboi', 'Once Upon a Time in America', 'Double Indemnity', 'Star Wars: Episode VI - Return of the Jedi', 'Toy Story 3', 'Braveheart', 'To Kill a Mockingbird', 'Requiem for a Dream', 'Lawrence of Arabia', 'Clockwork Orange, A', 'Bicycle Thieves', 'Kid, The', 'Swades', 'Reservoir Dogs', 'Eternal Sunshine of the Spotless Mind', 'Taxi Driver', 'Dilwale Dulhania Le Jayenge', \"Singin' in the Rain\", 'All About Eve', 'Yojimbo', 'Sting, The', 'Rashomon', 'Amadeus']\n"
     ]
    }
   ],
   "source": [
    "# move the initial article to the end\n",
    "better_titles = [re.sub(r'^(A|An|The) (.+)', r'\\2, \\1', title) for title in titles]\n",
    "print(better_titles)"
   ]
  },
  {
   "cell_type": "markdown",
   "metadata": {},
   "source": [
    "## Exercise 2: FAA tower closures, revisited\n",
    "\n",
    "A list of FAA tower closures has been copied from a [PDF](http://www.faa.gov/news/media/fct_closed.pdf) into the file **`faa.txt`**, which is stored in the **`data`** directory of the course repository."
   ]
  },
  {
   "cell_type": "code",
   "execution_count": 9,
   "metadata": {
    "collapsed": true
   },
   "outputs": [],
   "source": [
    "# read the file into a single string\n",
    "with open('../data/faa.txt') as f:\n",
    "    data = f.read()"
   ]
  },
  {
   "cell_type": "code",
   "execution_count": 10,
   "metadata": {},
   "outputs": [
    {
     "name": "stdout",
     "output_type": "stream",
     "text": [
      "FAA Contract Tower Closure List\n",
      "(149 FCTs)\n",
      "3-22-2013\n",
      "LOC\n",
      "ID Facility Name City State\n",
      "DHN DOTHAN RGNL DOTHAN AL\n",
      "TCL TUSCALOOSA RGNL TUSCALOOSA AL\n",
      "FYV DRAKE FIELD FAYETTEVILLE AR\n",
      "TXK TEXARKANA RGNL-WEBB FIELD TEXARKANA AR\n",
      "GEU GLENDALE MUNI GLENDALE AZ\n",
      "GYR PHOENIX GOODYEAR GOODYEAR AZ\n",
      "IFP LAUGHLIN/BULL\n"
     ]
    }
   ],
   "source": [
    "# examine the first 300 characters\n",
    "print(data[0:300])"
   ]
  },
  {
   "cell_type": "code",
   "execution_count": 11,
   "metadata": {},
   "outputs": [
    {
     "name": "stdout",
     "output_type": "stream",
     "text": [
      "[('DHN', 'AL'), ('TCL', 'AL'), ('FYV', 'AR'), ('TXK', 'AR'), ('GEU', 'AZ'), ('GYR', 'AZ'), ('IFP', 'AZ'), ('RYN', 'AZ'), ('FUL', 'CA'), ('MER', 'CA'), ('OXR', 'CA'), ('RAL', 'CA'), ('RNM', 'CA'), ('SAC', 'CA'), ('SDM', 'CA'), ('SNS', 'CA'), ('VCV', 'CA'), ('WHP', 'CA'), ('WJF', 'CA'), ('BDR', 'CT'), ('DXR', 'CT'), ('GON', 'CT'), ('HFD', 'CT'), ('HVN', 'CT'), ('OXC', 'CT'), ('APF', 'FL'), ('BCT', 'FL'), ('EVB', 'FL'), ('FMY', 'FL'), ('HWO', 'FL'), ('LAL', 'FL'), ('LEE', 'FL'), ('OCF', 'FL'), ('OMN', 'FL'), ('PGD', 'FL'), ('SGJ', 'FL'), ('SPG', 'FL'), ('SUA', 'FL'), ('TIX', 'FL'), ('ABY', 'GA'), ('AHN', 'GA'), ('LZU', 'GA'), ('MCN', 'GA'), ('RYY', 'GA'), ('DBQ', 'IA'), ('IDA', 'ID'), ('LWS', 'ID'), ('PIH', 'ID'), ('SUN', 'ID'), ('ALN', 'IL'), ('BMI', 'IL'), ('DEC', 'IL'), ('MDH', 'IL'), ('UGN', 'IL'), ('BAK', 'IN'), ('GYY', 'IN'), ('HUT', 'KS'), ('IXD', 'KS'), ('MHK', 'KS'), ('OJC', 'KS'), ('TOP', 'KS'), ('OWB', 'KY'), ('PAH', 'KY'), ('DTN', 'LA'), ('BVY', 'MA'), ('EWB', 'MA'), ('LWM', 'MA'), ('ORH', 'MA'), ('OWD', 'MA'), ('ESN', 'MD'), ('FDK', 'MD'), ('HGR', 'MD'), ('MTN', 'MD'), ('SBY', 'MD'), ('BTL', 'MI'), ('DET', 'MI'), ('SAW', 'MI'), ('ANE', 'MN'), ('STC', 'MN'), ('BBG', 'MO'), ('COU', 'MO'), ('GLH', 'MS'), ('HKS', 'MS'), ('HSA', 'MS'), ('OLV', 'MS'), ('TUP', 'MS'), ('GPI', 'MT'), ('EWN', 'NC'), ('HKY', 'NC'), ('INT', 'NC'), ('ISO', 'NC'), ('JQF', 'NC'), ('ASH', 'NH'), ('TTN', 'NJ'), ('AEG', 'NM'), ('SAF', 'NM'), ('ITH', 'NY'), ('RME', 'NY'), ('CGF', 'OH'), ('OSU', 'OH'), ('TZR', 'OH'), ('LAW', 'OK'), ('OUN', 'OK'), ('PWA', 'OK'), ('SWO', 'OK'), ('OTH', 'OR'), ('PDT', 'OR'), ('SLE', 'OR'), ('TTD', 'OR'), ('CXY', 'PA'), ('LBE', 'PA'), ('LNS', 'PA'), ('CRE', 'SC'), ('GYH', 'SC'), ('HXD', 'SC'), ('MKL', 'TN'), ('NQA', 'TN'), ('BAZ', 'TX'), ('BRO', 'TX'), ('CLL', 'TX'), ('CNW', 'TX'), ('CXO', 'TX'), ('GTU', 'TX'), ('HYI', 'TX'), ('RBD', 'TX'), ('SGR', 'TX'), ('SSF', 'TX'), ('TKI', 'TX'), ('TYR', 'TX'), ('VCT', 'TX'), ('OGD', 'UT'), ('PVU', 'UT'), ('LYH', 'VA'), ('OLM', 'WA'), ('RNT', 'WA'), ('SFF', 'WA'), ('TIW', 'WA'), ('YKM', 'WA'), ('CWA', 'WI'), ('EAU', 'WI'), ('ENW', 'WI'), ('JVL', 'WI'), ('LSE', 'WI'), ('MWC', 'WI'), ('OSH', 'WI'), ('UES', 'WI'), ('HLG', 'WV'), ('LWB', 'WV'), ('PKB', 'WV')]\n"
     ]
    }
   ],
   "source": [
    "# create a list of tuples containing the tower IDs and their states\n",
    "print(re.findall(r'([A-Z]{3}) .+ ([A-Z]{2})', data))"
   ]
  },
  {
   "cell_type": "markdown",
   "metadata": {},
   "source": [
    "Without changing the output, make this regular expression pattern more readable by using the **`re.VERBOSE`** option flag and adding comments."
   ]
  },
  {
   "cell_type": "code",
   "execution_count": 12,
   "metadata": {},
   "outputs": [
    {
     "name": "stdout",
     "output_type": "stream",
     "text": [
      "[('DHN', 'AL'), ('TCL', 'AL'), ('FYV', 'AR'), ('TXK', 'AR'), ('GEU', 'AZ'), ('GYR', 'AZ'), ('IFP', 'AZ'), ('RYN', 'AZ'), ('FUL', 'CA'), ('MER', 'CA'), ('OXR', 'CA'), ('RAL', 'CA'), ('RNM', 'CA'), ('SAC', 'CA'), ('SDM', 'CA'), ('SNS', 'CA'), ('VCV', 'CA'), ('WHP', 'CA'), ('WJF', 'CA'), ('BDR', 'CT'), ('DXR', 'CT'), ('GON', 'CT'), ('HFD', 'CT'), ('HVN', 'CT'), ('OXC', 'CT'), ('APF', 'FL'), ('BCT', 'FL'), ('EVB', 'FL'), ('FMY', 'FL'), ('HWO', 'FL'), ('LAL', 'FL'), ('LEE', 'FL'), ('OCF', 'FL'), ('OMN', 'FL'), ('PGD', 'FL'), ('SGJ', 'FL'), ('SPG', 'FL'), ('SUA', 'FL'), ('TIX', 'FL'), ('ABY', 'GA'), ('AHN', 'GA'), ('LZU', 'GA'), ('MCN', 'GA'), ('RYY', 'GA'), ('DBQ', 'IA'), ('IDA', 'ID'), ('LWS', 'ID'), ('PIH', 'ID'), ('SUN', 'ID'), ('ALN', 'IL'), ('BMI', 'IL'), ('DEC', 'IL'), ('MDH', 'IL'), ('UGN', 'IL'), ('BAK', 'IN'), ('GYY', 'IN'), ('HUT', 'KS'), ('IXD', 'KS'), ('MHK', 'KS'), ('OJC', 'KS'), ('TOP', 'KS'), ('OWB', 'KY'), ('PAH', 'KY'), ('DTN', 'LA'), ('BVY', 'MA'), ('EWB', 'MA'), ('LWM', 'MA'), ('ORH', 'MA'), ('OWD', 'MA'), ('ESN', 'MD'), ('FDK', 'MD'), ('HGR', 'MD'), ('MTN', 'MD'), ('SBY', 'MD'), ('BTL', 'MI'), ('DET', 'MI'), ('SAW', 'MI'), ('ANE', 'MN'), ('STC', 'MN'), ('BBG', 'MO'), ('COU', 'MO'), ('GLH', 'MS'), ('HKS', 'MS'), ('HSA', 'MS'), ('OLV', 'MS'), ('TUP', 'MS'), ('GPI', 'MT'), ('EWN', 'NC'), ('HKY', 'NC'), ('INT', 'NC'), ('ISO', 'NC'), ('JQF', 'NC'), ('ASH', 'NH'), ('TTN', 'NJ'), ('AEG', 'NM'), ('SAF', 'NM'), ('ITH', 'NY'), ('RME', 'NY'), ('CGF', 'OH'), ('OSU', 'OH'), ('TZR', 'OH'), ('LAW', 'OK'), ('OUN', 'OK'), ('PWA', 'OK'), ('SWO', 'OK'), ('OTH', 'OR'), ('PDT', 'OR'), ('SLE', 'OR'), ('TTD', 'OR'), ('CXY', 'PA'), ('LBE', 'PA'), ('LNS', 'PA'), ('CRE', 'SC'), ('GYH', 'SC'), ('HXD', 'SC'), ('MKL', 'TN'), ('NQA', 'TN'), ('BAZ', 'TX'), ('BRO', 'TX'), ('CLL', 'TX'), ('CNW', 'TX'), ('CXO', 'TX'), ('GTU', 'TX'), ('HYI', 'TX'), ('RBD', 'TX'), ('SGR', 'TX'), ('SSF', 'TX'), ('TKI', 'TX'), ('TYR', 'TX'), ('VCT', 'TX'), ('OGD', 'UT'), ('PVU', 'UT'), ('LYH', 'VA'), ('OLM', 'WA'), ('RNT', 'WA'), ('SFF', 'WA'), ('TIW', 'WA'), ('YKM', 'WA'), ('CWA', 'WI'), ('EAU', 'WI'), ('ENW', 'WI'), ('JVL', 'WI'), ('LSE', 'WI'), ('MWC', 'WI'), ('OSH', 'WI'), ('UES', 'WI'), ('HLG', 'WV'), ('LWB', 'WV'), ('PKB', 'WV')]\n"
     ]
    }
   ],
   "source": [
    "print(re.findall(r'''\n",
    "([A-Z]{3})\\    # match group 1 is ID, then space\n",
    ".+\\            # any characters, then space\n",
    "([A-Z]{2})     # match group 2 is state\n",
    "''', data, flags=re.VERBOSE))"
   ]
  }
 ],
 "metadata": {
  "kernelspec": {
   "display_name": "Python 3.7 (tensorflow)",
   "language": "python",
   "name": "tensorflow"
  },
  "language_info": {
   "codemirror_mode": {
    "name": "ipython",
    "version": 3
   },
   "file_extension": ".py",
   "mimetype": "text/x-python",
   "name": "python",
   "nbconvert_exporter": "python",
   "pygments_lexer": "ipython3",
   "version": "3.7.5"
  }
 },
 "nbformat": 4,
 "nbformat_minor": 1
}
