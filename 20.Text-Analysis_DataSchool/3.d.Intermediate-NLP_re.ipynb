{
 "cells": [
  {
   "cell_type": "markdown",
   "metadata": {},
   "source": [
    "# Basic Regex Homework (Solution)\n",
    "\n",
    "- Using re with re.search and re.findall"
   ]
  },
  {
   "cell_type": "code",
   "execution_count": 1,
   "metadata": {
    "collapsed": true
   },
   "outputs": [],
   "source": [
    "# for Python 2: use print only as a function\n",
    "from __future__ import print_function"
   ]
  },
  {
   "cell_type": "markdown",
   "metadata": {},
   "source": [
    "## Homework 1: FAA tower closures\n",
    "\n",
    "A list of FAA tower closures has been copied from a [PDF](http://www.faa.gov/news/media/fct_closed.pdf) into the file **`faa.txt`**, which is stored in the **`data`** directory of the course repository."
   ]
  },
  {
   "cell_type": "code",
   "execution_count": 1,
   "metadata": {},
   "outputs": [],
   "source": [
    "# read the file into a single string\n",
    "with open('../data/faa.txt') as f:\n",
    "    data = f.read()"
   ]
  },
  {
   "cell_type": "code",
   "execution_count": 2,
   "metadata": {},
   "outputs": [
    {
     "data": {
      "text/plain": [
       "5574"
      ]
     },
     "execution_count": 2,
     "metadata": {},
     "output_type": "execute_result"
    }
   ],
   "source": [
    "# check the number of characters\n",
    "len(data)"
   ]
  },
  {
   "cell_type": "code",
   "execution_count": 3,
   "metadata": {},
   "outputs": [
    {
     "name": "stdout",
     "output_type": "stream",
     "text": [
      "FAA Contract Tower Closure List\n",
      "(149 FCTs)\n",
      "3-22-2013\n",
      "LOC\n",
      "ID Facility Name City State\n",
      "DHN DOTHAN RGNL DOTHAN AL\n",
      "TCL TUSCALOOSA RGNL TUSCALOOSA AL\n",
      "FYV DRAKE FIELD FAYETTEVILLE AR\n",
      "TXK TEXARKANA RGNL-WEBB FIELD TEXARKANA AR\n",
      "GEU GLENDALE MUNI GLENDALE AZ\n",
      "GYR PHOENIX GOODYEAR GOODYEAR AZ\n",
      "IFP LAUGHLIN/BULLHEAD INTL BULLHEAD CITY AZ\n",
      "RYN RYAN FIELD TUCSON AZ\n",
      "FUL FULLERTON MUNI FULLERTON CA\n",
      "MER CASTLE ATWATER CA\n",
      "OXR OXNARD OXNARD CA\n",
      "RAL RIVERSIDE MUNI RIVERSIDE CA\n",
      "RNM RAMONA RAMONA CA\n",
      "SAC SACRAMENTO EXECU\n"
     ]
    }
   ],
   "source": [
    "# examine the first 500 characters\n",
    "print(data[0:500])"
   ]
  },
  {
   "cell_type": "code",
   "execution_count": 4,
   "metadata": {},
   "outputs": [
    {
     "name": "stdout",
     "output_type": "stream",
     "text": [
      " YAKIMA WA\n",
      "CWA CENTRAL WISCONSIN MOSINEE WI\n",
      "EAU CHIPPEWA VALLEY RGNL EAU CLAIRE WI\n",
      "ENW KENOSHA RGNL KENOSHA WI\n",
      "Page 3 of 4\n",
      "FAA Contract Tower Closure List\n",
      "(149 FCTs)\n",
      "3-22-2013\n",
      "LOC\n",
      "ID Facility Name City State\n",
      "JVL SOUTHERN WISCONSIN RGNL JANESVILLE WI\n",
      "LSE LA CROSSE MUNI LA CROSSE WI\n",
      "MWC LAWRENCE J TIMMERMAN MILWAUKEE WI\n",
      "OSH WITTMAN RGNL OSHKOSH WI\n",
      "UES WAUKESHA COUNTY WAUKESHA WI\n",
      "HLG WHEELING OHIO CO WHEELING WV\n",
      "LWB GREENBRIER VALLEY LEWISBURG WV\n",
      "PKB MID-OHIO VALLEY RGNL PARKERSBURG WV\n",
      "Page 4 of 4\n",
      "\n"
     ]
    }
   ],
   "source": [
    "# examine the last 500 characters\n",
    "print(data[-500:])"
   ]
  },
  {
   "cell_type": "markdown",
   "metadata": {},
   "source": [
    "Your assignment is to **create a list of tuples** containing the **tower IDs** and the **states** they are located in.\n",
    "\n",
    "Here is the **expected output:**\n",
    "\n",
    "> `faa = [('DHN', 'AL'), ('TCL', 'AL'), ..., ('PKB', 'WV')]`"
   ]
  },
  {
   "cell_type": "code",
   "execution_count": 5,
   "metadata": {},
   "outputs": [],
   "source": [
    "import re"
   ]
  },
  {
   "cell_type": "code",
   "execution_count": 6,
   "metadata": {},
   "outputs": [],
   "source": [
    "# method 1\n",
    "faa = re.findall(r'([A-Z][A-Z][A-Z]) .+ ([A-Z][A-Z])', data)"
   ]
  },
  {
   "cell_type": "code",
   "execution_count": 7,
   "metadata": {},
   "outputs": [],
   "source": [
    "# method 2\n",
    "faa = re.findall(r'([A-Z]{3}) .+ ([A-Z]{2})', data)"
   ]
  },
  {
   "cell_type": "code",
   "execution_count": 8,
   "metadata": {},
   "outputs": [
    {
     "name": "stdout",
     "output_type": "stream",
     "text": [
      "[('DHN', 'AL'), ('TCL', 'AL'), ('FYV', 'AR'), ('TXK', 'AR'), ('GEU', 'AZ'), ('GYR', 'AZ'), ('IFP', 'AZ'), ('RYN', 'AZ'), ('FUL', 'CA'), ('MER', 'CA'), ('OXR', 'CA'), ('RAL', 'CA'), ('RNM', 'CA'), ('SAC', 'CA'), ('SDM', 'CA'), ('SNS', 'CA'), ('VCV', 'CA'), ('WHP', 'CA'), ('WJF', 'CA'), ('BDR', 'CT'), ('DXR', 'CT'), ('GON', 'CT'), ('HFD', 'CT'), ('HVN', 'CT'), ('OXC', 'CT'), ('APF', 'FL'), ('BCT', 'FL'), ('EVB', 'FL'), ('FMY', 'FL'), ('HWO', 'FL'), ('LAL', 'FL'), ('LEE', 'FL'), ('OCF', 'FL'), ('OMN', 'FL'), ('PGD', 'FL'), ('SGJ', 'FL'), ('SPG', 'FL'), ('SUA', 'FL'), ('TIX', 'FL'), ('ABY', 'GA'), ('AHN', 'GA'), ('LZU', 'GA'), ('MCN', 'GA'), ('RYY', 'GA'), ('DBQ', 'IA'), ('IDA', 'ID'), ('LWS', 'ID'), ('PIH', 'ID'), ('SUN', 'ID'), ('ALN', 'IL'), ('BMI', 'IL'), ('DEC', 'IL'), ('MDH', 'IL'), ('UGN', 'IL'), ('BAK', 'IN'), ('GYY', 'IN'), ('HUT', 'KS'), ('IXD', 'KS'), ('MHK', 'KS'), ('OJC', 'KS'), ('TOP', 'KS'), ('OWB', 'KY'), ('PAH', 'KY'), ('DTN', 'LA'), ('BVY', 'MA'), ('EWB', 'MA'), ('LWM', 'MA'), ('ORH', 'MA'), ('OWD', 'MA'), ('ESN', 'MD'), ('FDK', 'MD'), ('HGR', 'MD'), ('MTN', 'MD'), ('SBY', 'MD'), ('BTL', 'MI'), ('DET', 'MI'), ('SAW', 'MI'), ('ANE', 'MN'), ('STC', 'MN'), ('BBG', 'MO'), ('COU', 'MO'), ('GLH', 'MS'), ('HKS', 'MS'), ('HSA', 'MS'), ('OLV', 'MS'), ('TUP', 'MS'), ('GPI', 'MT'), ('EWN', 'NC'), ('HKY', 'NC'), ('INT', 'NC'), ('ISO', 'NC'), ('JQF', 'NC'), ('ASH', 'NH'), ('TTN', 'NJ'), ('AEG', 'NM'), ('SAF', 'NM'), ('ITH', 'NY'), ('RME', 'NY'), ('CGF', 'OH'), ('OSU', 'OH'), ('TZR', 'OH'), ('LAW', 'OK'), ('OUN', 'OK'), ('PWA', 'OK'), ('SWO', 'OK'), ('OTH', 'OR'), ('PDT', 'OR'), ('SLE', 'OR'), ('TTD', 'OR'), ('CXY', 'PA'), ('LBE', 'PA'), ('LNS', 'PA'), ('CRE', 'SC'), ('GYH', 'SC'), ('HXD', 'SC'), ('MKL', 'TN'), ('NQA', 'TN'), ('BAZ', 'TX'), ('BRO', 'TX'), ('CLL', 'TX'), ('CNW', 'TX'), ('CXO', 'TX'), ('GTU', 'TX'), ('HYI', 'TX'), ('RBD', 'TX'), ('SGR', 'TX'), ('SSF', 'TX'), ('TKI', 'TX'), ('TYR', 'TX'), ('VCT', 'TX'), ('OGD', 'UT'), ('PVU', 'UT'), ('LYH', 'VA'), ('OLM', 'WA'), ('RNT', 'WA'), ('SFF', 'WA'), ('TIW', 'WA'), ('YKM', 'WA'), ('CWA', 'WI'), ('EAU', 'WI'), ('ENW', 'WI'), ('JVL', 'WI'), ('LSE', 'WI'), ('MWC', 'WI'), ('OSH', 'WI'), ('UES', 'WI'), ('HLG', 'WV'), ('LWB', 'WV'), ('PKB', 'WV')]\n"
     ]
    }
   ],
   "source": [
    "print(faa)"
   ]
  },
  {
   "cell_type": "markdown",
   "metadata": {},
   "source": [
    "As a **bonus task**, use regular expressions to extract the **number of closures** listed in the second line of the file (149), and then use an **assertion** to check that the number of closures is equal to the length of the `faa` list."
   ]
  },
  {
   "cell_type": "code",
   "execution_count": 9,
   "metadata": {},
   "outputs": [],
   "source": [
    "# method 1\n",
    "num_closures = int(re.search(r'\\((\\d+) FCTs\\)', data).group(1))"
   ]
  },
  {
   "cell_type": "code",
   "execution_count": 10,
   "metadata": {},
   "outputs": [],
   "source": [
    "# method 2\n",
    "num_closures = int(re.findall(r'\\((\\d+) FCTs\\)', data)[0])"
   ]
  },
  {
   "cell_type": "code",
   "execution_count": 11,
   "metadata": {},
   "outputs": [
    {
     "name": "stdout",
     "output_type": "stream",
     "text": [
      "149\n"
     ]
    }
   ],
   "source": [
    "print(num_closures)"
   ]
  },
  {
   "cell_type": "code",
   "execution_count": 12,
   "metadata": {},
   "outputs": [],
   "source": [
    "# check that the list has the correct number of entries\n",
    "assert(len(faa) == num_closures)"
   ]
  },
  {
   "cell_type": "markdown",
   "metadata": {},
   "source": [
    "## Homework 2: Stack Overflow reputation\n",
    "\n",
    "I have downloaded my **Stack Overflow reputation history** into the file **`reputation.txt`**, which is stored in the **`data`** directory of the course repository. (If you are a Stack Overflow user with a reputation of 10 or more, you should be able to [download your own reputation history](http://stackoverflow.com/reputation).)\n",
    "\n",
    "We are only interested in the lines that **begin with two dashes**, such as:\n",
    "\n",
    "> `-- 2012-08-30 rep +5    = 6`\n",
    "\n",
    "That line can be interpreted as follows: \"On 2012-08-30, my reputation increased by 5, bringing my reputation total to 6.\""
   ]
  },
  {
   "cell_type": "markdown",
   "metadata": {},
   "source": [
    "Your assignment is to **create a list of tuples** containing only these dated entries, including the **date**, **reputation change** (regardless of whether it is positive/negative/zero), and **running total**.\n",
    "\n",
    "Here is the **expected output:**\n",
    "\n",
    "> `rep = [('2012-08-30', '+5', '6'), ('2012-12-11', '+10', '16'), ...,  ('2015-10-14', '-1', '317')]`"
   ]
  },
  {
   "cell_type": "code",
   "execution_count": 13,
   "metadata": {},
   "outputs": [],
   "source": [
    "# read the file into a single string\n",
    "with open('../data/reputation.txt') as f:\n",
    "    data = f.read()"
   ]
  },
  {
   "cell_type": "code",
   "execution_count": 14,
   "metadata": {},
   "outputs": [
    {
     "name": "stdout",
     "output_type": "stream",
     "text": [
      "total votes: 36\n",
      " 2  12201376 (5)\n",
      "-- 2012-08-30 rep +5    = 6         \n",
      " 2  13822612 (10)\n",
      "-- 2012-12-11 rep +10   = 16        \n",
      " 2  13822612 (10)\n",
      "-- 2013-03-20 rep +10   = 26        \n",
      "-- 2013-12-05 rep 0     = 26        \n",
      "-- 2014-01-25 rep 0     = 26        \n",
      " 16  7141669 (2)\n",
      "-- 2014-03-19 rep +2    = 28        \n",
      " 1  12202249 (2)\n",
      "-- 2014-05-11 rep +2    = 30        \n",
      " 16 23599806 (2)\n",
      " 2  23597220 (10)\n",
      "-- 2014-05-12 rep +12   = 42        \n",
      " 2  13822612 (10)\n",
      "-- 2014-06-12 rep +10   = 52        \n",
      " 2  2359722\n"
     ]
    }
   ],
   "source": [
    "# examine the first 500 characters\n",
    "print(data[0:500])"
   ]
  },
  {
   "cell_type": "code",
   "execution_count": 15,
   "metadata": {},
   "outputs": [
    {
     "data": {
      "text/plain": [
       "[('2012-08-30', '+5', '6'),\n",
       " ('2012-12-11', '+10', '16'),\n",
       " ('2013-03-20', '+10', '26'),\n",
       " ('2013-12-05', '0', '26'),\n",
       " ('2014-01-25', '0', '26'),\n",
       " ('2014-03-19', '+2', '28'),\n",
       " ('2014-05-11', '+2', '30'),\n",
       " ('2014-05-12', '+12', '42'),\n",
       " ('2014-06-12', '+10', '52'),\n",
       " ('2014-06-26', '+10', '62'),\n",
       " ('2014-07-05', '0', '62'),\n",
       " ('2014-09-02', '0', '62'),\n",
       " ('2014-09-03', '+10', '72'),\n",
       " ('2014-10-28', '0', '72'),\n",
       " ('2014-11-14', '+10', '82'),\n",
       " ('2014-11-18', '+2', '84'),\n",
       " ('2014-12-08', '+2', '86'),\n",
       " ('2014-12-09', '+10', '96'),\n",
       " ('2014-12-12', '+2', '98'),\n",
       " ('2014-12-24', '+10', '108'),\n",
       " ('2015-02-03', '0', '108'),\n",
       " ('2015-02-20', '+10', '118'),\n",
       " ('2015-03-28', '+10', '128'),\n",
       " ('2015-04-26', '+10', '138'),\n",
       " ('2015-05-05', '+10', '148'),\n",
       " ('2015-05-26', '+10', '158'),\n",
       " ('2015-05-27', '+20', '178'),\n",
       " ('2015-06-09', '0', '178'),\n",
       " ('2015-07-03', '+10', '188'),\n",
       " ('2015-07-06', '0', '188'),\n",
       " ('2015-07-22', '+110', '298'),\n",
       " ('2015-08-21', '+10', '308'),\n",
       " ('2015-09-07', '+10', '318'),\n",
       " ('2015-10-14', '-1', '317')]"
      ]
     },
     "execution_count": 15,
     "metadata": {},
     "output_type": "execute_result"
    }
   ],
   "source": [
    "rep = re.findall(r'-- (\\d{4}-\\d{2}-\\d{2}) rep ([+-]?\\d+) += (\\d+)', data)\n",
    "rep"
   ]
  },
  {
   "cell_type": "markdown",
   "metadata": {},
   "source": [
    "As a **bonus task**, convert this list of tuples into a **pandas DataFrame**. It should have appropriate column names, and the second and third columns should be of type integer (rather than string/object)."
   ]
  },
  {
   "cell_type": "code",
   "execution_count": 16,
   "metadata": {},
   "outputs": [
    {
     "data": {
      "text/html": [
       "<div>\n",
       "<style scoped>\n",
       "    .dataframe tbody tr th:only-of-type {\n",
       "        vertical-align: middle;\n",
       "    }\n",
       "\n",
       "    .dataframe tbody tr th {\n",
       "        vertical-align: top;\n",
       "    }\n",
       "\n",
       "    .dataframe thead th {\n",
       "        text-align: right;\n",
       "    }\n",
       "</style>\n",
       "<table border=\"1\" class=\"dataframe\">\n",
       "  <thead>\n",
       "    <tr style=\"text-align: right;\">\n",
       "      <th></th>\n",
       "      <th>date</th>\n",
       "      <th>change</th>\n",
       "      <th>running_total</th>\n",
       "    </tr>\n",
       "  </thead>\n",
       "  <tbody>\n",
       "    <tr>\n",
       "      <th>0</th>\n",
       "      <td>2012-08-30</td>\n",
       "      <td>+5</td>\n",
       "      <td>6</td>\n",
       "    </tr>\n",
       "    <tr>\n",
       "      <th>1</th>\n",
       "      <td>2012-12-11</td>\n",
       "      <td>+10</td>\n",
       "      <td>16</td>\n",
       "    </tr>\n",
       "    <tr>\n",
       "      <th>2</th>\n",
       "      <td>2013-03-20</td>\n",
       "      <td>+10</td>\n",
       "      <td>26</td>\n",
       "    </tr>\n",
       "    <tr>\n",
       "      <th>3</th>\n",
       "      <td>2013-12-05</td>\n",
       "      <td>0</td>\n",
       "      <td>26</td>\n",
       "    </tr>\n",
       "    <tr>\n",
       "      <th>4</th>\n",
       "      <td>2014-01-25</td>\n",
       "      <td>0</td>\n",
       "      <td>26</td>\n",
       "    </tr>\n",
       "    <tr>\n",
       "      <th>5</th>\n",
       "      <td>2014-03-19</td>\n",
       "      <td>+2</td>\n",
       "      <td>28</td>\n",
       "    </tr>\n",
       "    <tr>\n",
       "      <th>6</th>\n",
       "      <td>2014-05-11</td>\n",
       "      <td>+2</td>\n",
       "      <td>30</td>\n",
       "    </tr>\n",
       "    <tr>\n",
       "      <th>7</th>\n",
       "      <td>2014-05-12</td>\n",
       "      <td>+12</td>\n",
       "      <td>42</td>\n",
       "    </tr>\n",
       "    <tr>\n",
       "      <th>8</th>\n",
       "      <td>2014-06-12</td>\n",
       "      <td>+10</td>\n",
       "      <td>52</td>\n",
       "    </tr>\n",
       "    <tr>\n",
       "      <th>9</th>\n",
       "      <td>2014-06-26</td>\n",
       "      <td>+10</td>\n",
       "      <td>62</td>\n",
       "    </tr>\n",
       "    <tr>\n",
       "      <th>10</th>\n",
       "      <td>2014-07-05</td>\n",
       "      <td>0</td>\n",
       "      <td>62</td>\n",
       "    </tr>\n",
       "    <tr>\n",
       "      <th>11</th>\n",
       "      <td>2014-09-02</td>\n",
       "      <td>0</td>\n",
       "      <td>62</td>\n",
       "    </tr>\n",
       "    <tr>\n",
       "      <th>12</th>\n",
       "      <td>2014-09-03</td>\n",
       "      <td>+10</td>\n",
       "      <td>72</td>\n",
       "    </tr>\n",
       "    <tr>\n",
       "      <th>13</th>\n",
       "      <td>2014-10-28</td>\n",
       "      <td>0</td>\n",
       "      <td>72</td>\n",
       "    </tr>\n",
       "    <tr>\n",
       "      <th>14</th>\n",
       "      <td>2014-11-14</td>\n",
       "      <td>+10</td>\n",
       "      <td>82</td>\n",
       "    </tr>\n",
       "    <tr>\n",
       "      <th>15</th>\n",
       "      <td>2014-11-18</td>\n",
       "      <td>+2</td>\n",
       "      <td>84</td>\n",
       "    </tr>\n",
       "    <tr>\n",
       "      <th>16</th>\n",
       "      <td>2014-12-08</td>\n",
       "      <td>+2</td>\n",
       "      <td>86</td>\n",
       "    </tr>\n",
       "    <tr>\n",
       "      <th>17</th>\n",
       "      <td>2014-12-09</td>\n",
       "      <td>+10</td>\n",
       "      <td>96</td>\n",
       "    </tr>\n",
       "    <tr>\n",
       "      <th>18</th>\n",
       "      <td>2014-12-12</td>\n",
       "      <td>+2</td>\n",
       "      <td>98</td>\n",
       "    </tr>\n",
       "    <tr>\n",
       "      <th>19</th>\n",
       "      <td>2014-12-24</td>\n",
       "      <td>+10</td>\n",
       "      <td>108</td>\n",
       "    </tr>\n",
       "    <tr>\n",
       "      <th>20</th>\n",
       "      <td>2015-02-03</td>\n",
       "      <td>0</td>\n",
       "      <td>108</td>\n",
       "    </tr>\n",
       "    <tr>\n",
       "      <th>21</th>\n",
       "      <td>2015-02-20</td>\n",
       "      <td>+10</td>\n",
       "      <td>118</td>\n",
       "    </tr>\n",
       "    <tr>\n",
       "      <th>22</th>\n",
       "      <td>2015-03-28</td>\n",
       "      <td>+10</td>\n",
       "      <td>128</td>\n",
       "    </tr>\n",
       "    <tr>\n",
       "      <th>23</th>\n",
       "      <td>2015-04-26</td>\n",
       "      <td>+10</td>\n",
       "      <td>138</td>\n",
       "    </tr>\n",
       "    <tr>\n",
       "      <th>24</th>\n",
       "      <td>2015-05-05</td>\n",
       "      <td>+10</td>\n",
       "      <td>148</td>\n",
       "    </tr>\n",
       "    <tr>\n",
       "      <th>25</th>\n",
       "      <td>2015-05-26</td>\n",
       "      <td>+10</td>\n",
       "      <td>158</td>\n",
       "    </tr>\n",
       "    <tr>\n",
       "      <th>26</th>\n",
       "      <td>2015-05-27</td>\n",
       "      <td>+20</td>\n",
       "      <td>178</td>\n",
       "    </tr>\n",
       "    <tr>\n",
       "      <th>27</th>\n",
       "      <td>2015-06-09</td>\n",
       "      <td>0</td>\n",
       "      <td>178</td>\n",
       "    </tr>\n",
       "    <tr>\n",
       "      <th>28</th>\n",
       "      <td>2015-07-03</td>\n",
       "      <td>+10</td>\n",
       "      <td>188</td>\n",
       "    </tr>\n",
       "    <tr>\n",
       "      <th>29</th>\n",
       "      <td>2015-07-06</td>\n",
       "      <td>0</td>\n",
       "      <td>188</td>\n",
       "    </tr>\n",
       "    <tr>\n",
       "      <th>30</th>\n",
       "      <td>2015-07-22</td>\n",
       "      <td>+110</td>\n",
       "      <td>298</td>\n",
       "    </tr>\n",
       "    <tr>\n",
       "      <th>31</th>\n",
       "      <td>2015-08-21</td>\n",
       "      <td>+10</td>\n",
       "      <td>308</td>\n",
       "    </tr>\n",
       "    <tr>\n",
       "      <th>32</th>\n",
       "      <td>2015-09-07</td>\n",
       "      <td>+10</td>\n",
       "      <td>318</td>\n",
       "    </tr>\n",
       "    <tr>\n",
       "      <th>33</th>\n",
       "      <td>2015-10-14</td>\n",
       "      <td>-1</td>\n",
       "      <td>317</td>\n",
       "    </tr>\n",
       "  </tbody>\n",
       "</table>\n",
       "</div>"
      ],
      "text/plain": [
       "          date change running_total\n",
       "0   2012-08-30     +5             6\n",
       "1   2012-12-11    +10            16\n",
       "2   2013-03-20    +10            26\n",
       "3   2013-12-05      0            26\n",
       "4   2014-01-25      0            26\n",
       "5   2014-03-19     +2            28\n",
       "6   2014-05-11     +2            30\n",
       "7   2014-05-12    +12            42\n",
       "8   2014-06-12    +10            52\n",
       "9   2014-06-26    +10            62\n",
       "10  2014-07-05      0            62\n",
       "11  2014-09-02      0            62\n",
       "12  2014-09-03    +10            72\n",
       "13  2014-10-28      0            72\n",
       "14  2014-11-14    +10            82\n",
       "15  2014-11-18     +2            84\n",
       "16  2014-12-08     +2            86\n",
       "17  2014-12-09    +10            96\n",
       "18  2014-12-12     +2            98\n",
       "19  2014-12-24    +10           108\n",
       "20  2015-02-03      0           108\n",
       "21  2015-02-20    +10           118\n",
       "22  2015-03-28    +10           128\n",
       "23  2015-04-26    +10           138\n",
       "24  2015-05-05    +10           148\n",
       "25  2015-05-26    +10           158\n",
       "26  2015-05-27    +20           178\n",
       "27  2015-06-09      0           178\n",
       "28  2015-07-03    +10           188\n",
       "29  2015-07-06      0           188\n",
       "30  2015-07-22   +110           298\n",
       "31  2015-08-21    +10           308\n",
       "32  2015-09-07    +10           318\n",
       "33  2015-10-14     -1           317"
      ]
     },
     "execution_count": 16,
     "metadata": {},
     "output_type": "execute_result"
    }
   ],
   "source": [
    "# convert the list of tuples into a DataFrame\n",
    "import pandas as pd\n",
    "col_names = ['date', 'change', 'running_total']\n",
    "pd.DataFrame(rep, columns=col_names, dtype='int')"
   ]
  }
 ],
 "metadata": {
  "kernelspec": {
   "display_name": "Python 3.7 (tensorflow)",
   "language": "python",
   "name": "tensorflow"
  },
  "language_info": {
   "codemirror_mode": {
    "name": "ipython",
    "version": 3
   },
   "file_extension": ".py",
   "mimetype": "text/x-python",
   "name": "python",
   "nbconvert_exporter": "python",
   "pygments_lexer": "ipython3",
   "version": "3.7.5"
  }
 },
 "nbformat": 4,
 "nbformat_minor": 1
}
