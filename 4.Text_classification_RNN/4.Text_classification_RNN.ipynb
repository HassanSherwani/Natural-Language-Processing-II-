{
  "nbformat": 4,
  "nbformat_minor": 0,
  "metadata": {
    "accelerator": "GPU",
    "colab": {
      "name": "4.Text_classification_RNN.ipynb",
      "provenance": [],
      "collapsed_sections": []
    },
    "kernelspec": {
      "display_name": "Python 3",
      "language": "python",
      "name": "python3"
    },
    "language_info": {
      "codemirror_mode": {
        "name": "ipython",
        "version": 3
      },
      "file_extension": ".py",
      "mimetype": "text/x-python",
      "name": "python",
      "nbconvert_exporter": "python",
      "pygments_lexer": "ipython3",
      "version": "3.7.3"
    }
  },
  "cells": [
    {
      "cell_type": "markdown",
      "metadata": {
        "colab_type": "text",
        "id": "hOS97iA-YqZR"
      },
      "source": [
        "# RNN Text Classification\n",
        "\n",
        "- Predict the sentiment of IMDB movie reviews"
      ]
    },
    {
      "cell_type": "markdown",
      "metadata": {
        "id": "a-5_lP9wtp70",
        "colab_type": "text"
      },
      "source": [
        "# 1)- Importing key modules"
      ]
    },
    {
      "cell_type": "code",
      "metadata": {
        "colab_type": "code",
        "id": "GavNnGaE_sD_",
        "colab": {}
      },
      "source": [
        "from pathlib import Path\n",
        "\n",
        "import pandas as pd\n",
        "import torch\n",
        "import torch.nn.functional as F\n",
        "import torch.nn as nn\n",
        "import torch.optim as optim\n",
        "from google_drive_downloader import GoogleDriveDownloader as gdd\n",
        "from sklearn.feature_extraction.text import CountVectorizer\n",
        "from torch.nn.utils.rnn import pack_padded_sequence, pad_packed_sequence\n",
        "from torch.utils.data import DataLoader, Dataset\n",
        "from tqdm import tqdm, tqdm_notebook"
      ],
      "execution_count": 0,
      "outputs": []
    },
    {
      "cell_type": "markdown",
      "metadata": {
        "colab_type": "text",
        "id": "dKg8Lj61b3FO"
      },
      "source": [
        "In order to perform deep learning on a GPU (so that everything runs super quick!), CUDA has to be installed and configured. Fortunately, Google Colab already has this set up, but if you want to try this on your own GPU, you can [install CUDA from here](https://developer.nvidia.com/cuda-downloads). Make sure you also [install cuDNN](https://developer.nvidia.com/cudnn) for optimized performance."
      ]
    },
    {
      "cell_type": "code",
      "metadata": {
        "colab_type": "code",
        "id": "Cz-5stSEbUzQ",
        "outputId": "e4fcaf4f-6679-42b6-d85d-b4e12970ce41",
        "colab": {
          "base_uri": "https://localhost:8080/",
          "height": 34
        }
      },
      "source": [
        "device = torch.device('cuda' if torch.cuda.is_available() else 'cpu')\n",
        "device"
      ],
      "execution_count": 2,
      "outputs": [
        {
          "output_type": "execute_result",
          "data": {
            "text/plain": [
              "device(type='cuda')"
            ]
          },
          "metadata": {
            "tags": []
          },
          "execution_count": 2
        }
      ]
    },
    {
      "cell_type": "markdown",
      "metadata": {
        "colab_type": "text",
        "id": "r3ACuac9H6e0"
      },
      "source": [
        "# 2)- Loading data\n",
        "\n",
        "This is a dataset of positive and negative IMDB reviews. We can download the data from a public Google Drive folder."
      ]
    },
    {
      "cell_type": "code",
      "metadata": {
        "colab_type": "code",
        "id": "HygBcmu9YqZY",
        "colab": {}
      },
      "source": [
        "DATA_PATH = 'data/imdb_reviews.csv'\n",
        "if not Path(DATA_PATH).is_file():\n",
        "    gdd.download_file_from_google_drive(\n",
        "        file_id='1zfM5E6HvKIe7f3rEt1V2gBpw5QOSSKQz',\n",
        "        dest_path=DATA_PATH,\n",
        "    )"
      ],
      "execution_count": 0,
      "outputs": []
    },
    {
      "cell_type": "code",
      "metadata": {
        "id": "2YP6GTplpCoO",
        "colab_type": "code",
        "colab": {
          "base_uri": "https://localhost:8080/",
          "height": 197
        },
        "outputId": "b97d9b5a-cb98-4825-9433-d5c854866137"
      },
      "source": [
        "# View some example records\n",
        "pd.read_csv(DATA_PATH).sample(5)"
      ],
      "execution_count": 4,
      "outputs": [
        {
          "output_type": "execute_result",
          "data": {
            "text/html": [
              "<div>\n",
              "<style scoped>\n",
              "    .dataframe tbody tr th:only-of-type {\n",
              "        vertical-align: middle;\n",
              "    }\n",
              "\n",
              "    .dataframe tbody tr th {\n",
              "        vertical-align: top;\n",
              "    }\n",
              "\n",
              "    .dataframe thead th {\n",
              "        text-align: right;\n",
              "    }\n",
              "</style>\n",
              "<table border=\"1\" class=\"dataframe\">\n",
              "  <thead>\n",
              "    <tr style=\"text-align: right;\">\n",
              "      <th></th>\n",
              "      <th>review</th>\n",
              "      <th>label</th>\n",
              "    </tr>\n",
              "  </thead>\n",
              "  <tbody>\n",
              "    <tr>\n",
              "      <th>12329</th>\n",
              "      <td>I was looking forward to watching this film an...</td>\n",
              "      <td>0</td>\n",
              "    </tr>\n",
              "    <tr>\n",
              "      <th>14020</th>\n",
              "      <td>Jolene (Heather Graham) operates a night club ...</td>\n",
              "      <td>1</td>\n",
              "    </tr>\n",
              "    <tr>\n",
              "      <th>56149</th>\n",
              "      <td>If I hadn't read his name on the DVD cover, I ...</td>\n",
              "      <td>0</td>\n",
              "    </tr>\n",
              "    <tr>\n",
              "      <th>52672</th>\n",
              "      <td>It was the Sixties, and anyone with long hair ...</td>\n",
              "      <td>0</td>\n",
              "    </tr>\n",
              "    <tr>\n",
              "      <th>22757</th>\n",
              "      <td>\"From C. Jay Cox, the writer of the hit comedy...</td>\n",
              "      <td>1</td>\n",
              "    </tr>\n",
              "  </tbody>\n",
              "</table>\n",
              "</div>"
            ],
            "text/plain": [
              "                                                  review  label\n",
              "12329  I was looking forward to watching this film an...      0\n",
              "14020  Jolene (Heather Graham) operates a night club ...      1\n",
              "56149  If I hadn't read his name on the DVD cover, I ...      0\n",
              "52672  It was the Sixties, and anyone with long hair ...      0\n",
              "22757  \"From C. Jay Cox, the writer of the hit comedy...      1"
            ]
          },
          "metadata": {
            "tags": []
          },
          "execution_count": 4
        }
      ]
    },
    {
      "cell_type": "code",
      "metadata": {
        "id": "05h2t2PTpGJA",
        "colab_type": "code",
        "colab": {}
      },
      "source": [
        "df=pd.read_csv(DATA_PATH)"
      ],
      "execution_count": 0,
      "outputs": []
    },
    {
      "cell_type": "code",
      "metadata": {
        "id": "3xf4gK19pHLT",
        "colab_type": "code",
        "colab": {
          "base_uri": "https://localhost:8080/",
          "height": 34
        },
        "outputId": "44293556-e727-4e55-c964-fcc3aec08796"
      },
      "source": [
        "df.shape"
      ],
      "execution_count": 6,
      "outputs": [
        {
          "output_type": "execute_result",
          "data": {
            "text/plain": [
              "(62155, 2)"
            ]
          },
          "metadata": {
            "tags": []
          },
          "execution_count": 6
        }
      ]
    },
    {
      "cell_type": "markdown",
      "metadata": {
        "colab_type": "text",
        "id": "nmNt55pgKIDa"
      },
      "source": [
        "# 3)- Preprocess the text"
      ]
    },
    {
      "cell_type": "code",
      "metadata": {
        "id": "XBAwWqLVpVlW",
        "colab_type": "code",
        "colab": {}
      },
      "source": [
        "vectorizer = CountVectorizer(stop_words='english', max_df=0.99, min_df=0.015)"
      ],
      "execution_count": 0,
      "outputs": []
    },
    {
      "cell_type": "code",
      "metadata": {
        "id": "BuctPrjMp128",
        "colab_type": "code",
        "colab": {}
      },
      "source": [
        "sequences = vectorizer.fit_transform(df.review.tolist())"
      ],
      "execution_count": 0,
      "outputs": []
    },
    {
      "cell_type": "code",
      "metadata": {
        "id": "hv5oYcHLp34k",
        "colab_type": "code",
        "colab": {
          "base_uri": "https://localhost:8080/",
          "height": 52
        },
        "outputId": "d850930a-5ebb-47e7-e7bf-e1b9b3dd3771"
      },
      "source": [
        "sequences"
      ],
      "execution_count": 9,
      "outputs": [
        {
          "output_type": "execute_result",
          "data": {
            "text/plain": [
              "<62155x1103 sparse matrix of type '<class 'numpy.int64'>'\n",
              "\twith 3101989 stored elements in Compressed Sparse Row format>"
            ]
          },
          "metadata": {
            "tags": []
          },
          "execution_count": 9
        }
      ]
    },
    {
      "cell_type": "code",
      "metadata": {
        "id": "AMbyx8V0p9aE",
        "colab_type": "code",
        "colab": {
          "base_uri": "https://localhost:8080/",
          "height": 70
        },
        "outputId": "33132f33-4494-4751-861c-5e93fd46527a"
      },
      "source": [
        "print(pd.DataFrame(sequences).head(2))"
      ],
      "execution_count": 10,
      "outputs": [
        {
          "output_type": "stream",
          "text": [
            "                                                   0\n",
            "0    (0, 640)\\t1\\n  (0, 637)\\t1\\n  (0, 343)\\t1\\n ...\n",
            "1    (0, 145)\\t3\\n  (0, 777)\\t2\\n  (0, 173)\\t1\\n ...\n"
          ],
          "name": "stdout"
        }
      ]
    },
    {
      "cell_type": "code",
      "metadata": {
        "id": "bgA0GHSPqJKz",
        "colab_type": "code",
        "colab": {}
      },
      "source": [
        "token2idx = vectorizer.vocabulary_"
      ],
      "execution_count": 0,
      "outputs": []
    },
    {
      "cell_type": "markdown",
      "metadata": {
        "id": "BkIZp8wZqlIF",
        "colab_type": "text"
      },
      "source": [
        "**All in one**"
      ]
    },
    {
      "cell_type": "code",
      "metadata": {
        "colab_type": "code",
        "id": "jvHQmJZQB2gQ",
        "colab": {}
      },
      "source": [
        "class Sequences(Dataset):\n",
        "    def __init__(self, path, max_seq_len):\n",
        "        self.max_seq_len = max_seq_len\n",
        "        df = pd.read_csv(path)\n",
        "        vectorizer = CountVectorizer(stop_words='english', min_df=0.015)\n",
        "        vectorizer.fit(df.review.tolist())\n",
        "        \n",
        "        self.token2idx = vectorizer.vocabulary_\n",
        "        self.token2idx['<PAD>'] = max(self.token2idx.values()) + 1 # for removing zeros\n",
        "\n",
        "        tokenizer = vectorizer.build_analyzer()\n",
        "        self.encode = lambda x: [self.token2idx[token] for token in tokenizer(x)\n",
        "                                 if token in self.token2idx]\n",
        "        self.pad = lambda x: x + (max_seq_len - len(x)) * [self.token2idx['<PAD>']]\n",
        "        \n",
        "        sequences = [self.encode(sequence)[:max_seq_len] for sequence in df.review.tolist()]\n",
        "        sequences, self.labels = zip(*[(sequence, label) for sequence, label\n",
        "                                    in zip(sequences, df.label.tolist()) if sequence])\n",
        "        self.sequences = [self.pad(sequence) for sequence in sequences]\n",
        "\n",
        "    def __getitem__(self, i):\n",
        "        assert len(self.sequences[i]) == self.max_seq_len\n",
        "        return self.sequences[i], self.labels[i]\n",
        "    \n",
        "    def __len__(self):\n",
        "        return len(self.sequences)"
      ],
      "execution_count": 0,
      "outputs": []
    },
    {
      "cell_type": "code",
      "metadata": {
        "id": "iKaZQyxam9pc",
        "colab_type": "code",
        "colab": {}
      },
      "source": [
        "dataset = Sequences(DATA_PATH, max_seq_len=128)"
      ],
      "execution_count": 0,
      "outputs": []
    },
    {
      "cell_type": "code",
      "metadata": {
        "id": "GJ2yDgZZm9pd",
        "colab_type": "code",
        "colab": {
          "base_uri": "https://localhost:8080/",
          "height": 34
        },
        "outputId": "42ccf331-6490-48bd-a7a4-f4de04970705"
      },
      "source": [
        "len(dataset.token2idx)"
      ],
      "execution_count": 14,
      "outputs": [
        {
          "output_type": "execute_result",
          "data": {
            "text/plain": [
              "1104"
            ]
          },
          "metadata": {
            "tags": []
          },
          "execution_count": 14
        }
      ]
    },
    {
      "cell_type": "code",
      "metadata": {
        "colab_type": "code",
        "id": "2YcDPSgKIgcm",
        "colab": {}
      },
      "source": [
        "def collate(batch):\n",
        "    inputs = torch.LongTensor([item[0] for item in batch])\n",
        "    target = torch.FloatTensor([item[1] for item in batch])\n",
        "    return inputs, target\n",
        "\n",
        "batch_size = 2048\n",
        "train_loader = DataLoader(dataset, batch_size=batch_size, collate_fn=collate)"
      ],
      "execution_count": 0,
      "outputs": []
    },
    {
      "cell_type": "markdown",
      "metadata": {
        "id": "MvkbWf4HuH8P",
        "colab_type": "text"
      },
      "source": [
        "**What is collate?**\n",
        "\n",
        "https://discuss.pytorch.org/t/how-to-use-collate-fn/27181/2"
      ]
    },
    {
      "cell_type": "markdown",
      "metadata": {
        "id": "XBlzA3knm9ph",
        "colab_type": "text"
      },
      "source": [
        "# 4)- GRU Model Building"
      ]
    },
    {
      "cell_type": "code",
      "metadata": {
        "id": "8FLZwmqLsGvV",
        "colab_type": "code",
        "colab": {
          "base_uri": "https://localhost:8080/",
          "height": 651
        },
        "outputId": "fce2f710-cabd-4190-86c5-1dc12c6049b1"
      },
      "source": [
        "from IPython.display import Image\n",
        "Image(\"GRU.jpg\")"
      ],
      "execution_count": 16,
      "outputs": [
        {
          "output_type": "execute_result",
          "data": {
            "image/jpeg": "[encoded data removed]",
            "text/plain": [
              "<IPython.core.display.Image object>"
            ]
          },
          "metadata": {
            "tags": []
          },
          "execution_count": 16
        }
      ]
    },
    {
      "cell_type": "code",
      "metadata": {
        "colab_type": "code",
        "id": "ARBIogVSNWog",
        "colab": {}
      },
      "source": [
        "class RNN(nn.Module):\n",
        "    def __init__(\n",
        "        self,\n",
        "        vocab_size,\n",
        "        batch_size,\n",
        "        embedding_dimension=100,\n",
        "        hidden_size=128, \n",
        "        n_layers=1,\n",
        "        device='cuda',\n",
        "    ):\n",
        "        super(RNN, self).__init__()\n",
        "        self.n_layers = n_layers\n",
        "        self.hidden_size = hidden_size\n",
        "        self.device = device\n",
        "        self.batch_size = batch_size\n",
        "        \n",
        "        self.encoder = nn.Embedding(vocab_size, embedding_dimension)\n",
        "        self.rnn = nn.GRU(\n",
        "            embedding_dimension,\n",
        "            hidden_size,\n",
        "            num_layers=n_layers,\n",
        "            batch_first=True,\n",
        "        )\n",
        "        self.decoder = nn.Linear(hidden_size, 1)\n",
        "        \n",
        "    def init_hidden(self):\n",
        "        return torch.randn(self.n_layers, self.batch_size, self.hidden_size).to(self.device)\n",
        "    \n",
        "    def forward(self, inputs):\n",
        "        # Avoid breaking if the last batch has a different size\n",
        "        batch_size = inputs.size(0)\n",
        "        if batch_size != self.batch_size:\n",
        "            self.batch_size = batch_size\n",
        "            \n",
        "        encoded = self.encoder(inputs)\n",
        "        output, hidden = self.rnn(encoded, self.init_hidden())\n",
        "        output = self.decoder(output[:, :, -1]).squeeze()\n",
        "        return output"
      ],
      "execution_count": 0,
      "outputs": []
    },
    {
      "cell_type": "code",
      "metadata": {
        "colab_type": "code",
        "id": "kIzJ2mFGPMAs",
        "outputId": "265a3035-466e-4839-eee1-4079dc7b3b80",
        "colab": {
          "base_uri": "https://localhost:8080/",
          "height": 105
        }
      },
      "source": [
        "model = RNN(\n",
        "    hidden_size=128,\n",
        "    vocab_size=len(dataset.token2idx),\n",
        "    device=device,\n",
        "    batch_size=batch_size,\n",
        ")\n",
        "model = model.to(device)\n",
        "model"
      ],
      "execution_count": 18,
      "outputs": [
        {
          "output_type": "execute_result",
          "data": {
            "text/plain": [
              "RNN(\n",
              "  (encoder): Embedding(1104, 100)\n",
              "  (rnn): GRU(100, 128, batch_first=True)\n",
              "  (decoder): Linear(in_features=128, out_features=1, bias=True)\n",
              ")"
            ]
          },
          "metadata": {
            "tags": []
          },
          "execution_count": 18
        }
      ]
    },
    {
      "cell_type": "markdown",
      "metadata": {
        "id": "-X5Mc_uxm9pl",
        "colab_type": "text"
      },
      "source": [
        "# 5)- Train the model\n",
        "\n"
      ]
    },
    {
      "cell_type": "code",
      "metadata": {
        "colab_type": "code",
        "id": "nkojdeZgWqtX",
        "colab": {}
      },
      "source": [
        "criterion = nn.BCEWithLogitsLoss()\n",
        "optimizer = optim.Adam([p for p in model.parameters() if p.requires_grad], lr=0.001)# Adam: Dynmaically change learning rate"
      ],
      "execution_count": 0,
      "outputs": []
    },
    {
      "cell_type": "markdown",
      "metadata": {
        "id": "oUOIMEI_swrS",
        "colab_type": "text"
      },
      "source": [
        "**Binary crossentropy(BCEWithLogitsLoss)**<br>\n",
        "\n",
        "**It's called Binary Cross-Entropy Loss because it sets up a binary classification problem between C′=2 classes for every class in C i.e Positive or negative sentiment**"
      ]
    },
    {
      "cell_type": "code",
      "metadata": {
        "id": "nGVO5APbm9pn",
        "colab_type": "code",
        "colab": {
          "base_uri": "https://localhost:8080/",
          "height": 372
        },
        "outputId": "fb1a45f0-4d3f-43e5-f874-7ccba742041e"
      },
      "source": [
        "model.train()\n",
        "train_losses = []\n",
        "for epoch in range(20): # epoch size\n",
        "    progress_bar = tqdm_notebook(train_loader, leave=False)\n",
        "    losses = []\n",
        "    total = 0\n",
        "    for inputs, target in progress_bar:\n",
        "        inputs, target = inputs.to(device), target.to(device\n",
        "                                                     )\n",
        "        model.zero_grad()\n",
        "        \n",
        "        output = model(inputs)\n",
        "    \n",
        "        loss = criterion(output, target)\n",
        "        \n",
        "        loss.backward()\n",
        "              \n",
        "        nn.utils.clip_grad_norm_(model.parameters(), 3)\n",
        "\n",
        "        optimizer.step()\n",
        "        \n",
        "        progress_bar.set_description(f'Loss: {loss.item():.3f}')\n",
        "        \n",
        "        losses.append(loss.item())\n",
        "        total += 1\n",
        "    \n",
        "    epoch_loss = sum(losses) / total\n",
        "    train_losses.append(epoch_loss)\n",
        "\n",
        "    tqdm.write(f'Epoch #{epoch + 1}\\tTrain Loss: {epoch_loss:.3f}')"
      ],
      "execution_count": 20,
      "outputs": [
        {
          "output_type": "display_data",
          "data": {
            "application/vnd.jupyter.widget-view+json": {
              "model_id": "df9772894efd43d48313f0b22fc72e71",
              "version_minor": 0,
              "version_major": 2
            },
            "text/plain": [
              "HBox(children=(IntProgress(value=0, max=31), HTML(value='')))"
            ]
          },
          "metadata": {
            "tags": []
          }
        },
        {
          "output_type": "stream",
          "text": [
            "\rEpoch #1\tTrain Loss: 0.811\n"
          ],
          "name": "stdout"
        },
        {
          "output_type": "display_data",
          "data": {
            "application/vnd.jupyter.widget-view+json": {
              "model_id": "5fc66f6406e54a6eae95ee1a1e7022d8",
              "version_minor": 0,
              "version_major": 2
            },
            "text/plain": [
              "HBox(children=(IntProgress(value=0, max=31), HTML(value='')))"
            ]
          },
          "metadata": {
            "tags": []
          }
        },
        {
          "output_type": "stream",
          "text": [
            "\rEpoch #2\tTrain Loss: 0.723\n"
          ],
          "name": "stdout"
        },
        {
          "output_type": "display_data",
          "data": {
            "application/vnd.jupyter.widget-view+json": {
              "model_id": "7cd89981f1554429a3610e2c0ff63ecf",
              "version_minor": 0,
              "version_major": 2
            },
            "text/plain": [
              "HBox(children=(IntProgress(value=0, max=31), HTML(value='')))"
            ]
          },
          "metadata": {
            "tags": []
          }
        },
        {
          "output_type": "stream",
          "text": [
            "\rEpoch #3\tTrain Loss: 0.711\n"
          ],
          "name": "stdout"
        },
        {
          "output_type": "display_data",
          "data": {
            "application/vnd.jupyter.widget-view+json": {
              "model_id": "fff82c031e0444ed94577e10fba5ef65",
              "version_minor": 0,
              "version_major": 2
            },
            "text/plain": [
              "HBox(children=(IntProgress(value=0, max=31), HTML(value='')))"
            ]
          },
          "metadata": {
            "tags": []
          }
        },
        {
          "output_type": "stream",
          "text": [
            "\rEpoch #4\tTrain Loss: 0.699\n"
          ],
          "name": "stdout"
        },
        {
          "output_type": "display_data",
          "data": {
            "application/vnd.jupyter.widget-view+json": {
              "model_id": "78f2986466254065a40145c780b787d6",
              "version_minor": 0,
              "version_major": 2
            },
            "text/plain": [
              "HBox(children=(IntProgress(value=0, max=31), HTML(value='')))"
            ]
          },
          "metadata": {
            "tags": []
          }
        },
        {
          "output_type": "stream",
          "text": [
            "\rEpoch #5\tTrain Loss: 0.670\n"
          ],
          "name": "stdout"
        },
        {
          "output_type": "display_data",
          "data": {
            "application/vnd.jupyter.widget-view+json": {
              "model_id": "6118fbedfb8c454fa2f5125242ff5183",
              "version_minor": 0,
              "version_major": 2
            },
            "text/plain": [
              "HBox(children=(IntProgress(value=0, max=31), HTML(value='')))"
            ]
          },
          "metadata": {
            "tags": []
          }
        },
        {
          "output_type": "stream",
          "text": [
            "\rEpoch #6\tTrain Loss: 0.608\n"
          ],
          "name": "stdout"
        },
        {
          "output_type": "display_data",
          "data": {
            "application/vnd.jupyter.widget-view+json": {
              "model_id": "6285b4993e894d9195b2d1fce36f5187",
              "version_minor": 0,
              "version_major": 2
            },
            "text/plain": [
              "HBox(children=(IntProgress(value=0, max=31), HTML(value='')))"
            ]
          },
          "metadata": {
            "tags": []
          }
        },
        {
          "output_type": "stream",
          "text": [
            "\rEpoch #7\tTrain Loss: 0.585\n"
          ],
          "name": "stdout"
        },
        {
          "output_type": "display_data",
          "data": {
            "application/vnd.jupyter.widget-view+json": {
              "model_id": "0320d9811359404abfd9dd5fd950e684",
              "version_minor": 0,
              "version_major": 2
            },
            "text/plain": [
              "HBox(children=(IntProgress(value=0, max=31), HTML(value='')))"
            ]
          },
          "metadata": {
            "tags": []
          }
        },
        {
          "output_type": "stream",
          "text": [
            "\rEpoch #8\tTrain Loss: 0.512\n"
          ],
          "name": "stdout"
        },
        {
          "output_type": "display_data",
          "data": {
            "application/vnd.jupyter.widget-view+json": {
              "model_id": "bc8714f579054dbba14a46643f6c2982",
              "version_minor": 0,
              "version_major": 2
            },
            "text/plain": [
              "HBox(children=(IntProgress(value=0, max=31), HTML(value='')))"
            ]
          },
          "metadata": {
            "tags": []
          }
        },
        {
          "output_type": "stream",
          "text": [
            "\rEpoch #9\tTrain Loss: 0.490\n"
          ],
          "name": "stdout"
        },
        {
          "output_type": "display_data",
          "data": {
            "application/vnd.jupyter.widget-view+json": {
              "model_id": "0afe4130f4b94cdd91a370afe3b330a4",
              "version_minor": 0,
              "version_major": 2
            },
            "text/plain": [
              "HBox(children=(IntProgress(value=0, max=31), HTML(value='')))"
            ]
          },
          "metadata": {
            "tags": []
          }
        },
        {
          "output_type": "stream",
          "text": [
            "\rEpoch #10\tTrain Loss: 0.456\n"
          ],
          "name": "stdout"
        },
        {
          "output_type": "display_data",
          "data": {
            "application/vnd.jupyter.widget-view+json": {
              "model_id": "403d4b51b4af44c8b6775a28d8b992ec",
              "version_minor": 0,
              "version_major": 2
            },
            "text/plain": [
              "HBox(children=(IntProgress(value=0, max=31), HTML(value='')))"
            ]
          },
          "metadata": {
            "tags": []
          }
        },
        {
          "output_type": "stream",
          "text": [
            "\rEpoch #11\tTrain Loss: 0.441\n"
          ],
          "name": "stdout"
        },
        {
          "output_type": "display_data",
          "data": {
            "application/vnd.jupyter.widget-view+json": {
              "model_id": "bbab7df8154b4df597a48bac96ba5907",
              "version_minor": 0,
              "version_major": 2
            },
            "text/plain": [
              "HBox(children=(IntProgress(value=0, max=31), HTML(value='')))"
            ]
          },
          "metadata": {
            "tags": []
          }
        },
        {
          "output_type": "stream",
          "text": [
            "\rEpoch #12\tTrain Loss: 0.424\n"
          ],
          "name": "stdout"
        },
        {
          "output_type": "display_data",
          "data": {
            "application/vnd.jupyter.widget-view+json": {
              "model_id": "818dcb5d69b44007b2588d5c2d4483ae",
              "version_minor": 0,
              "version_major": 2
            },
            "text/plain": [
              "HBox(children=(IntProgress(value=0, max=31), HTML(value='')))"
            ]
          },
          "metadata": {
            "tags": []
          }
        },
        {
          "output_type": "stream",
          "text": [
            "\rEpoch #13\tTrain Loss: 0.411\n"
          ],
          "name": "stdout"
        },
        {
          "output_type": "display_data",
          "data": {
            "application/vnd.jupyter.widget-view+json": {
              "model_id": "7c7fdb90f310401b9a3e689fb84e12ee",
              "version_minor": 0,
              "version_major": 2
            },
            "text/plain": [
              "HBox(children=(IntProgress(value=0, max=31), HTML(value='')))"
            ]
          },
          "metadata": {
            "tags": []
          }
        },
        {
          "output_type": "stream",
          "text": [
            "\rEpoch #14\tTrain Loss: 0.401\n"
          ],
          "name": "stdout"
        },
        {
          "output_type": "display_data",
          "data": {
            "application/vnd.jupyter.widget-view+json": {
              "model_id": "6155fddb030c48d98c5d5a661ef12c75",
              "version_minor": 0,
              "version_major": 2
            },
            "text/plain": [
              "HBox(children=(IntProgress(value=0, max=31), HTML(value='')))"
            ]
          },
          "metadata": {
            "tags": []
          }
        },
        {
          "output_type": "stream",
          "text": [
            "\rEpoch #15\tTrain Loss: 0.391\n"
          ],
          "name": "stdout"
        },
        {
          "output_type": "display_data",
          "data": {
            "application/vnd.jupyter.widget-view+json": {
              "model_id": "905c8fa22f934b2f85ca63b89f44500c",
              "version_minor": 0,
              "version_major": 2
            },
            "text/plain": [
              "HBox(children=(IntProgress(value=0, max=31), HTML(value='')))"
            ]
          },
          "metadata": {
            "tags": []
          }
        },
        {
          "output_type": "stream",
          "text": [
            "\rEpoch #16\tTrain Loss: 0.384\n"
          ],
          "name": "stdout"
        },
        {
          "output_type": "display_data",
          "data": {
            "application/vnd.jupyter.widget-view+json": {
              "model_id": "fee44184dd954147bd834021a5bb9173",
              "version_minor": 0,
              "version_major": 2
            },
            "text/plain": [
              "HBox(children=(IntProgress(value=0, max=31), HTML(value='')))"
            ]
          },
          "metadata": {
            "tags": []
          }
        },
        {
          "output_type": "stream",
          "text": [
            "\rEpoch #17\tTrain Loss: 0.376\n"
          ],
          "name": "stdout"
        },
        {
          "output_type": "display_data",
          "data": {
            "application/vnd.jupyter.widget-view+json": {
              "model_id": "b3d2c29ef0fb44db8819bb5da726dfb3",
              "version_minor": 0,
              "version_major": 2
            },
            "text/plain": [
              "HBox(children=(IntProgress(value=0, max=31), HTML(value='')))"
            ]
          },
          "metadata": {
            "tags": []
          }
        },
        {
          "output_type": "stream",
          "text": [
            "\rEpoch #18\tTrain Loss: 0.370\n"
          ],
          "name": "stdout"
        },
        {
          "output_type": "display_data",
          "data": {
            "application/vnd.jupyter.widget-view+json": {
              "model_id": "c9ebcde9fe614ce48cd2161fa9205600",
              "version_minor": 0,
              "version_major": 2
            },
            "text/plain": [
              "HBox(children=(IntProgress(value=0, max=31), HTML(value='')))"
            ]
          },
          "metadata": {
            "tags": []
          }
        },
        {
          "output_type": "stream",
          "text": [
            "\rEpoch #19\tTrain Loss: 0.363\n"
          ],
          "name": "stdout"
        },
        {
          "output_type": "display_data",
          "data": {
            "application/vnd.jupyter.widget-view+json": {
              "model_id": "cc58879ced724da893ed62dd99794dc1",
              "version_minor": 0,
              "version_major": 2
            },
            "text/plain": [
              "HBox(children=(IntProgress(value=0, max=31), HTML(value='')))"
            ]
          },
          "metadata": {
            "tags": []
          }
        },
        {
          "output_type": "stream",
          "text": [
            "\rEpoch #20\tTrain Loss: 0.358\n"
          ],
          "name": "stdout"
        }
      ]
    },
    {
      "cell_type": "markdown",
      "metadata": {
        "id": "CRjJ2cEIw9iC",
        "colab_type": "text"
      },
      "source": [
        "# 6)- Prediction"
      ]
    },
    {
      "cell_type": "code",
      "metadata": {
        "colab_type": "code",
        "id": "4CpZARwhQFSf",
        "colab": {}
      },
      "source": [
        "def predict_sentiment(text):\n",
        "    model.eval()\n",
        "    with torch.no_grad():\n",
        "        test_vector = torch.LongTensor([dataset.pad(dataset.encode(text))]).to(device)\n",
        "        \n",
        "        output = model(test_vector)\n",
        "        prediction = torch.sigmoid(output).item()\n",
        "\n",
        "        if prediction > 0.5:\n",
        "            print(f'{prediction:0.3}: Positive sentiment')\n",
        "        else:\n",
        "            print(f'{prediction:0.3}: Negative sentiment')"
      ],
      "execution_count": 0,
      "outputs": []
    },
    {
      "cell_type": "code",
      "metadata": {
        "id": "IZuX6UimyCwb",
        "colab_type": "code",
        "colab": {
          "base_uri": "https://localhost:8080/",
          "height": 118
        },
        "outputId": "3bba2665-9614-49ac-9eb4-44a2cc0c3694"
      },
      "source": [
        "Image(\"men_in_black.jpg\")"
      ],
      "execution_count": 22,
      "outputs": [
        {
          "output_type": "execute_result",
          "data": {
            "image/jpeg": "[encoded data removed]",
            "text/plain": [
              "<IPython.core.display.Image object>"
            ]
          },
          "metadata": {
            "tags": []
          },
          "execution_count": 22
        }
      ]
    },
    {
      "cell_type": "code",
      "metadata": {
        "colab_type": "code",
        "id": "3O-UyplvcCY-",
        "outputId": "56dc67dc-f49c-4bf1-ccaf-4c16fc822a41",
        "colab": {
          "base_uri": "https://localhost:8080/",
          "height": 34
        }
      },
      "source": [
        "test_text = \"\"\"\n",
        "Men in Black: International starring Chris Hemsworth and Tessa Thompson appears uninspiring, staid and predictable but is engaging in parts. \n",
        "\"\"\"\n",
        "predict_sentiment(test_text)"
      ],
      "execution_count": 23,
      "outputs": [
        {
          "output_type": "stream",
          "text": [
            "0.23: Negative sentiment\n"
          ],
          "name": "stdout"
        }
      ]
    },
    {
      "cell_type": "code",
      "metadata": {
        "id": "vzC-fw8zyDSi",
        "colab_type": "code",
        "colab": {
          "base_uri": "https://localhost:8080/",
          "height": 203
        },
        "outputId": "e3e691bb-8b5f-453b-93b8-70f2c5a4a75f"
      },
      "source": [
        "Image(\"Avengers.jpg\")"
      ],
      "execution_count": 24,
      "outputs": [
        {
          "output_type": "execute_result",
          "data": {
            "image/jpeg": "[encoded data removed]",
            "text/plain": [
              "<IPython.core.display.Image object>"
            ]
          },
          "metadata": {
            "tags": []
          },
          "execution_count": 24
        }
      ]
    },
    {
      "cell_type": "code",
      "metadata": {
        "id": "sRzoiBQRm9pt",
        "colab_type": "code",
        "colab": {
          "base_uri": "https://localhost:8080/",
          "height": 34
        },
        "outputId": "d8543102-757d-4193-aa1a-20a6176a281f"
      },
      "source": [
        "test_text = \"\"\"\n",
        "Phenomenally entertaining and a masterpiece!!! The Russo brothers nailed it again!!! I'm so grateful they're directing these movies. It makes them so much better and everything is so well thought out. Love it!! It's so on-point. Has everything drama, suspense, some \n",
        "funny comedy moments, full of adventure, mystery, and impressive action sequences I've ever seen. It's the most best superhero movie I've ever seen in my life. The acting was superb and convincing. \n",
        "Very well directed, written and acted.\n",
        "\"\"\"\n",
        "predict_sentiment(test_text)"
      ],
      "execution_count": 25,
      "outputs": [
        {
          "output_type": "stream",
          "text": [
            "0.979: Positive sentiment\n"
          ],
          "name": "stdout"
        }
      ]
    },
    {
      "cell_type": "code",
      "metadata": {
        "id": "362nAfQSyEcF",
        "colab_type": "code",
        "colab": {
          "base_uri": "https://localhost:8080/",
          "height": 203
        },
        "outputId": "53553ccb-c44c-4061-b313-fc54882f8ecb"
      },
      "source": [
        "Image(\"star_is_born.jpg\")"
      ],
      "execution_count": 26,
      "outputs": [
        {
          "output_type": "execute_result",
          "data": {
            "image/jpeg": "[encoded data removed]",
            "text/plain": [
              "<IPython.core.display.Image object>"
            ]
          },
          "metadata": {
            "tags": []
          },
          "execution_count": 26
        }
      ]
    },
    {
      "cell_type": "code",
      "metadata": {
        "id": "W-CdK0Ukm9pu",
        "colab_type": "code",
        "colab": {
          "base_uri": "https://localhost:8080/",
          "height": 34
        },
        "outputId": "51aa49e9-7d74-47c9-b1be-24c78afd15a1"
      },
      "source": [
        "test_text = \"\"\"\n",
        "An absolutely incredible movie that looks at important issues like substance abuse, suicide and what fame can do  to a person. Lady Gaga and Bradley Cooper truly deliver strong emotions in their performances throughout. The  soundtrack for the film is so \n",
        "heart warming and listening to the songs takes you back and reminds you of the story of  Jackson and Ally.\n",
        "\"\"\"\n",
        "predict_sentiment(test_text)"
      ],
      "execution_count": 27,
      "outputs": [
        {
          "output_type": "stream",
          "text": [
            "0.988: Positive sentiment\n"
          ],
          "name": "stdout"
        }
      ]
    }
  ]
}