{
  "nbformat": 4,
  "nbformat_minor": 0,
  "metadata": {
    "colab": {
      "name": "10.b.Part_of_Speech_Tagging.ipynb",
      "provenance": [],
      "collapsed_sections": []
    },
    "kernelspec": {
      "name": "python3",
      "display_name": "Python 3"
    },
    "language_info": {
      "codemirror_mode": {
        "name": "ipython",
        "version": 3
      },
      "file_extension": ".py",
      "mimetype": "text/x-python",
      "name": "python",
      "nbconvert_exporter": "python",
      "pygments_lexer": "ipython3",
      "version": "3.6.3"
    },
    "accelerator": "GPU"
  },
  "cells": [
    {
      "cell_type": "markdown",
      "metadata": {
        "colab_type": "text",
        "id": "L5WEerzzSeID"
      },
      "source": [
        "# Part-of-Speech Tagging\n",
        "\n",
        "- using LSTM\n",
        "- Very simple example to understand concept"
      ]
    },
    {
      "cell_type": "markdown",
      "metadata": {
        "colab_type": "text",
        "id": "vnDcCpN-Sw9d"
      },
      "source": [
        "# 1)- Importing key modules"
      ]
    },
    {
      "cell_type": "code",
      "metadata": {
        "colab_type": "code",
        "id": "ormhGRA1SkYP",
        "colab": {}
      },
      "source": [
        "#support both Python 2 and Python 3 with minimal overhead.\n",
        "from __future__ import absolute_import, division, print_function\n",
        "\n",
        "# I am an engineer. I care only about error not warning. So, let's be maverick and ignore warnings.\n",
        "import warnings\n",
        "warnings.filterwarnings('ignore')"
      ],
      "execution_count": 0,
      "outputs": []
    },
    {
      "cell_type": "code",
      "metadata": {
        "colab_type": "code",
        "id": "ffmlRA40S1bS",
        "colab": {}
      },
      "source": [
        "# For data processing and maths\n",
        "import numpy as np\n",
        "import pandas as pd\n",
        "import time\n",
        "import math\n",
        "import os\n",
        "#For Visuals\n",
        "import matplotlib.pyplot as plt\n",
        "import seaborn as sns\n",
        "sns.set()\n",
        "from matplotlib import rcParams\n",
        "rcParams['figure.figsize'] = 11, 8\n",
        "%config InlineBackend.figure_format = 'svg'\n",
        "%matplotlib inline"
      ],
      "execution_count": 0,
      "outputs": []
    },
    {
      "cell_type": "code",
      "metadata": {
        "colab_type": "code",
        "id": "BJ2K4n6-S_tg",
        "colab": {}
      },
      "source": [
        "# for deep learning and neural network\n",
        "import torch\n",
        "import torch.nn as nn\n",
        "import torch.nn.functional as F\n",
        "import torch.optim as optim"
      ],
      "execution_count": 0,
      "outputs": []
    },
    {
      "cell_type": "code",
      "metadata": {
        "colab_type": "code",
        "id": "rNbXWUUTTLOV",
        "outputId": "1012e3bc-3e88-4850-d0ef-fb829d771a50",
        "colab": {
          "base_uri": "https://localhost:8080/",
          "height": 35
        }
      },
      "source": [
        "! pip install version_information"
      ],
      "execution_count": 4,
      "outputs": [
        {
          "output_type": "stream",
          "text": [
            "Requirement already satisfied: version_information in /usr/local/lib/python3.6/dist-packages (1.0.3)\n"
          ],
          "name": "stdout"
        }
      ]
    },
    {
      "cell_type": "code",
      "metadata": {
        "colab_type": "code",
        "id": "WRJECjnJTOyF",
        "outputId": "ebc01c37-e86b-40d2-9742-5b047e7fde69",
        "colab": {
          "base_uri": "https://localhost:8080/",
          "height": 228
        }
      },
      "source": [
        "# first install: pip install version_information\n",
        "%reload_ext version_information\n",
        "%version_information pandas,torch,numpy,seaborn, matplotlib"
      ],
      "execution_count": 5,
      "outputs": [
        {
          "output_type": "execute_result",
          "data": {
            "text/latex": "\\begin{tabular}{|l|l|}\\hline\n{\\bf Software} & {\\bf Version} \\\\ \\hline\\hline\nPython & 3.6.8 64bit [GCC 8.0.1 20180414 (experimental) [trunk revision 259383] \\\\ \\hline\nIPython & 5.5.0 \\\\ \\hline\nOS & Linux 4.14.137+ x86\\_64 with Ubuntu 18.04 bionic \\\\ \\hline\npandas & 0.24.2 \\\\ \\hline\ntorch & 1.3.0+cu100 \\\\ \\hline\nnumpy & 1.16.5 \\\\ \\hline\nseaborn & 0.9.0 \\\\ \\hline\nmatplotlib & 3.0.3 \\\\ \\hline\n\\hline \\multicolumn{2}{|l|}{Tue Oct 22 15:17:35 2019 UTC} \\\\ \\hline\n\\end{tabular}\n",
            "application/json": {
              "Software versions": [
                {
                  "version": "3.6.8 64bit [GCC 8.0.1 20180414 (experimental) [trunk revision 259383]",
                  "module": "Python"
                },
                {
                  "version": "5.5.0",
                  "module": "IPython"
                },
                {
                  "version": "Linux 4.14.137+ x86_64 with Ubuntu 18.04 bionic",
                  "module": "OS"
                },
                {
                  "version": "0.24.2",
                  "module": "pandas"
                },
                {
                  "version": "1.3.0+cu100",
                  "module": "torch"
                },
                {
                  "version": "1.16.5",
                  "module": "numpy"
                },
                {
                  "version": "0.9.0",
                  "module": "seaborn"
                },
                {
                  "version": "3.0.3",
                  "module": "matplotlib"
                }
              ]
            },
            "text/html": [
              "<table><tr><th>Software</th><th>Version</th></tr><tr><td>Python</td><td>3.6.8 64bit [GCC 8.0.1 20180414 (experimental) [trunk revision 259383]</td></tr><tr><td>IPython</td><td>5.5.0</td></tr><tr><td>OS</td><td>Linux 4.14.137+ x86_64 with Ubuntu 18.04 bionic</td></tr><tr><td>pandas</td><td>0.24.2</td></tr><tr><td>torch</td><td>1.3.0+cu100</td></tr><tr><td>numpy</td><td>1.16.5</td></tr><tr><td>seaborn</td><td>0.9.0</td></tr><tr><td>matplotlib</td><td>3.0.3</td></tr><tr><td colspan='2'>Tue Oct 22 15:17:35 2019 UTC</td></tr></table>"
            ],
            "text/plain": [
              "Software versions\n",
              "Python 3.6.8 64bit [GCC 8.0.1 20180414 (experimental) [trunk revision 259383]\n",
              "IPython 5.5.0\n",
              "OS Linux 4.14.137+ x86_64 with Ubuntu 18.04 bionic\n",
              "pandas 0.24.2\n",
              "torch 1.3.0+cu100\n",
              "numpy 1.16.5\n",
              "seaborn 0.9.0\n",
              "matplotlib 3.0.3\n",
              "Tue Oct 22 15:17:35 2019 UTC"
            ]
          },
          "metadata": {
            "tags": []
          },
          "execution_count": 5
        }
      ]
    },
    {
      "cell_type": "markdown",
      "metadata": {
        "colab_type": "text",
        "id": "5zjfC12iTUFU"
      },
      "source": [
        "# 2)-  Loading data & its preprocessing"
      ]
    },
    {
      "cell_type": "code",
      "metadata": {
        "id": "us1lWYnbuiro",
        "colab_type": "code",
        "colab": {
          "base_uri": "https://localhost:8080/",
          "height": 72
        },
        "outputId": "249f5677-3b13-4d4b-deb8-dc46d7c1e3a0"
      },
      "source": [
        "import nltk\n",
        "nltk.download('treebank')"
      ],
      "execution_count": 6,
      "outputs": [
        {
          "output_type": "stream",
          "text": [
            "[nltk_data] Downloading package treebank to /root/nltk_data...\n",
            "[nltk_data]   Package treebank is already up-to-date!\n"
          ],
          "name": "stdout"
        },
        {
          "output_type": "execute_result",
          "data": {
            "text/plain": [
              "True"
            ]
          },
          "metadata": {
            "tags": []
          },
          "execution_count": 6
        }
      ]
    },
    {
      "cell_type": "code",
      "metadata": {
        "id": "jzEqt_6yurTo",
        "colab_type": "code",
        "colab": {
          "base_uri": "https://localhost:8080/",
          "height": 72
        },
        "outputId": "10d769d2-41c6-402f-982c-1dc9b446d29e"
      },
      "source": [
        "nltk.download('universal_tagset')"
      ],
      "execution_count": 7,
      "outputs": [
        {
          "output_type": "stream",
          "text": [
            "[nltk_data] Downloading package universal_tagset to /root/nltk_data...\n",
            "[nltk_data]   Package universal_tagset is already up-to-date!\n"
          ],
          "name": "stdout"
        },
        {
          "output_type": "execute_result",
          "data": {
            "text/plain": [
              "True"
            ]
          },
          "metadata": {
            "tags": []
          },
          "execution_count": 7
        }
      ]
    },
    {
      "cell_type": "code",
      "metadata": {
        "id": "lPMweGnvuRig",
        "colab_type": "code",
        "colab": {}
      },
      "source": [
        "tagged_sentence = nltk.corpus.treebank.tagged_sents(tagset='universal')"
      ],
      "execution_count": 0,
      "outputs": []
    },
    {
      "cell_type": "code",
      "metadata": {
        "id": "02TU72QiudBf",
        "colab_type": "code",
        "colab": {
          "base_uri": "https://localhost:8080/",
          "height": 55
        },
        "outputId": "b3676f10-dd91-4d52-de94-cc60c04398e8"
      },
      "source": [
        "# Let's have a look at some sentences\n",
        "\n",
        "print(tagged_sentence[3])"
      ],
      "execution_count": 9,
      "outputs": [
        {
          "output_type": "stream",
          "text": [
            "[('A', 'DET'), ('form', 'NOUN'), ('of', 'ADP'), ('asbestos', 'NOUN'), ('once', 'ADV'), ('used', 'VERB'), ('*', 'X'), ('*', 'X'), ('to', 'PRT'), ('make', 'VERB'), ('Kent', 'NOUN'), ('cigarette', 'NOUN'), ('filters', 'NOUN'), ('has', 'VERB'), ('caused', 'VERB'), ('a', 'DET'), ('high', 'ADJ'), ('percentage', 'NOUN'), ('of', 'ADP'), ('cancer', 'NOUN'), ('deaths', 'NOUN'), ('among', 'ADP'), ('a', 'DET'), ('group', 'NOUN'), ('of', 'ADP'), ('workers', 'NOUN'), ('exposed', 'VERB'), ('*', 'X'), ('to', 'PRT'), ('it', 'PRON'), ('more', 'ADV'), ('than', 'ADP'), ('30', 'NUM'), ('years', 'NOUN'), ('ago', 'ADP'), (',', '.'), ('researchers', 'NOUN'), ('reported', 'VERB'), ('0', 'X'), ('*T*-1', 'X'), ('.', '.')]\n"
          ],
          "name": "stdout"
        }
      ]
    },
    {
      "cell_type": "code",
      "metadata": {
        "id": "-e4Y8P9FunpW",
        "colab_type": "code",
        "colab": {
          "base_uri": "https://localhost:8080/",
          "height": 35
        },
        "outputId": "128985cc-7786-46e5-9cac-f30bcadf70df"
      },
      "source": [
        "print(\"Number of Tagged Sentences \",len(tagged_sentence))"
      ],
      "execution_count": 10,
      "outputs": [
        {
          "output_type": "stream",
          "text": [
            "Number of Tagged Sentences  3914\n"
          ],
          "name": "stdout"
        }
      ]
    },
    {
      "cell_type": "markdown",
      "metadata": {
        "id": "Gmd8_Iy8vHy3",
        "colab_type": "text"
      },
      "source": [
        "### 2a)- Preprocess Data\n",
        "\n",
        "- A word/tag dictionary,\n",
        "- A letter/character dictionary\n",
        "- A POS tag dictionary"
      ]
    },
    {
      "cell_type": "code",
      "metadata": {
        "id": "muRs5j0qu0Qt",
        "colab_type": "code",
        "colab": {}
      },
      "source": [
        "def word_to_ix(word, ix):\n",
        "    return torch.tensor(ix[word], dtype = torch.long)"
      ],
      "execution_count": 0,
      "outputs": []
    },
    {
      "cell_type": "code",
      "metadata": {
        "id": "tXOw9hyivSBl",
        "colab_type": "code",
        "colab": {}
      },
      "source": [
        "def char_to_ix(char, ix):\n",
        "    return torch.tensor(ix[char], dtype= torch.long)\n"
      ],
      "execution_count": 0,
      "outputs": []
    },
    {
      "cell_type": "code",
      "metadata": {
        "id": "I9m80SC6vU1M",
        "colab_type": "code",
        "colab": {}
      },
      "source": [
        "def tag_to_ix(tag, ix):\n",
        "    return torch.tensor(ix[tag], dtype= torch.long)"
      ],
      "execution_count": 0,
      "outputs": []
    },
    {
      "cell_type": "code",
      "metadata": {
        "id": "LIUCx7XovW2U",
        "colab_type": "code",
        "colab": {}
      },
      "source": [
        "def sequence_to_idx(sequence, ix):\n",
        "    return torch.tensor([ix[s] for s in sequence], dtype=torch.long)"
      ],
      "execution_count": 0,
      "outputs": []
    },
    {
      "cell_type": "code",
      "metadata": {
        "id": "3sYd9dc9vYrU",
        "colab_type": "code",
        "colab": {}
      },
      "source": [
        "word_to_idx = {}\n",
        "tag_to_idx = {}\n",
        "char_to_idx = {}\n",
        "for sentence in tagged_sentence:\n",
        "    for word, pos_tag in sentence:\n",
        "        if word not in word_to_idx.keys():\n",
        "            word_to_idx[word] = len(word_to_idx)\n",
        "        if pos_tag not in tag_to_idx.keys():\n",
        "            tag_to_idx[pos_tag] = len(tag_to_idx)\n",
        "        for char in word:\n",
        "            if char not in char_to_idx.keys():\n",
        "                char_to_idx[char] = len(char_to_idx)"
      ],
      "execution_count": 0,
      "outputs": []
    },
    {
      "cell_type": "code",
      "metadata": {
        "id": "mDt9RRt4ysYI",
        "colab_type": "code",
        "colab": {
          "base_uri": "https://localhost:8080/",
          "height": 72
        },
        "outputId": "d2fd3bd4-0f16-4a65-da7b-25f67be2dca4"
      },
      "source": [
        "print(type(word_to_idx))\n",
        "print(type(tag_to_idx))\n",
        "print(type(char_to_idx))"
      ],
      "execution_count": 16,
      "outputs": [
        {
          "output_type": "stream",
          "text": [
            "<class 'dict'>\n",
            "<class 'dict'>\n",
            "<class 'dict'>\n"
          ],
          "name": "stdout"
        }
      ]
    },
    {
      "cell_type": "code",
      "metadata": {
        "id": "JExjzgiYzhHn",
        "colab_type": "code",
        "colab": {
          "base_uri": "https://localhost:8080/",
          "height": 145
        },
        "outputId": "f090efa3-8fb1-46eb-db18-ec0d44844d5c"
      },
      "source": [
        "pd.DataFrame(word_to_idx, index=[0])"
      ],
      "execution_count": 17,
      "outputs": [
        {
          "output_type": "execute_result",
          "data": {
            "text/html": [
              "<div>\n",
              "<style scoped>\n",
              "    .dataframe tbody tr th:only-of-type {\n",
              "        vertical-align: middle;\n",
              "    }\n",
              "\n",
              "    .dataframe tbody tr th {\n",
              "        vertical-align: top;\n",
              "    }\n",
              "\n",
              "    .dataframe thead th {\n",
              "        text-align: right;\n",
              "    }\n",
              "</style>\n",
              "<table border=\"1\" class=\"dataframe\">\n",
              "  <thead>\n",
              "    <tr style=\"text-align: right;\">\n",
              "      <th></th>\n",
              "      <th>Pierre</th>\n",
              "      <th>Vinken</th>\n",
              "      <th>,</th>\n",
              "      <th>61</th>\n",
              "      <th>years</th>\n",
              "      <th>old</th>\n",
              "      <th>will</th>\n",
              "      <th>join</th>\n",
              "      <th>the</th>\n",
              "      <th>board</th>\n",
              "      <th>as</th>\n",
              "      <th>a</th>\n",
              "      <th>nonexecutive</th>\n",
              "      <th>director</th>\n",
              "      <th>Nov.</th>\n",
              "      <th>29</th>\n",
              "      <th>.</th>\n",
              "      <th>Mr.</th>\n",
              "      <th>is</th>\n",
              "      <th>chairman</th>\n",
              "      <th>of</th>\n",
              "      <th>Elsevier</th>\n",
              "      <th>N.V.</th>\n",
              "      <th>Dutch</th>\n",
              "      <th>publishing</th>\n",
              "      <th>group</th>\n",
              "      <th>Rudolph</th>\n",
              "      <th>Agnew</th>\n",
              "      <th>55</th>\n",
              "      <th>and</th>\n",
              "      <th>former</th>\n",
              "      <th>Consolidated</th>\n",
              "      <th>Gold</th>\n",
              "      <th>Fields</th>\n",
              "      <th>PLC</th>\n",
              "      <th>was</th>\n",
              "      <th>named</th>\n",
              "      <th>*-1</th>\n",
              "      <th>this</th>\n",
              "      <th>British</th>\n",
              "      <th>...</th>\n",
              "      <th>TXO</th>\n",
              "      <th>Proceeds</th>\n",
              "      <th>15.5</th>\n",
              "      <th>257</th>\n",
              "      <th>Icahn</th>\n",
              "      <th>13.1</th>\n",
              "      <th>721</th>\n",
              "      <th>2.62</th>\n",
              "      <th>598</th>\n",
              "      <th>2.07</th>\n",
              "      <th>Barrett</th>\n",
              "      <th>Leon</th>\n",
              "      <th>Level</th>\n",
              "      <th>McFarlan</th>\n",
              "      <th>DiLoreto</th>\n",
              "      <th>container</th>\n",
              "      <th>Delmont</th>\n",
              "      <th>constitutional-law</th>\n",
              "      <th>Professors</th>\n",
              "      <th>Kurland</th>\n",
              "      <th>Laurence</th>\n",
              "      <th>Tribe</th>\n",
              "      <th>procedure</th>\n",
              "      <th>scuttle</th>\n",
              "      <th>implicitly</th>\n",
              "      <th>Kennedy</th>\n",
              "      <th>professors</th>\n",
              "      <th>spectrum</th>\n",
              "      <th>authorizes</th>\n",
              "      <th>partial</th>\n",
              "      <th>Civil</th>\n",
              "      <th>shared</th>\n",
              "      <th>lawmaking</th>\n",
              "      <th>supports</th>\n",
              "      <th>reckless</th>\n",
              "      <th>Trinity</th>\n",
              "      <th>railcar</th>\n",
              "      <th>platforms</th>\n",
              "      <th>Trailer</th>\n",
              "      <th>Train</th>\n",
              "    </tr>\n",
              "  </thead>\n",
              "  <tbody>\n",
              "    <tr>\n",
              "      <th>0</th>\n",
              "      <td>0</td>\n",
              "      <td>1</td>\n",
              "      <td>2</td>\n",
              "      <td>3</td>\n",
              "      <td>4</td>\n",
              "      <td>5</td>\n",
              "      <td>6</td>\n",
              "      <td>7</td>\n",
              "      <td>8</td>\n",
              "      <td>9</td>\n",
              "      <td>10</td>\n",
              "      <td>11</td>\n",
              "      <td>12</td>\n",
              "      <td>13</td>\n",
              "      <td>14</td>\n",
              "      <td>15</td>\n",
              "      <td>16</td>\n",
              "      <td>17</td>\n",
              "      <td>18</td>\n",
              "      <td>19</td>\n",
              "      <td>20</td>\n",
              "      <td>21</td>\n",
              "      <td>22</td>\n",
              "      <td>23</td>\n",
              "      <td>24</td>\n",
              "      <td>25</td>\n",
              "      <td>26</td>\n",
              "      <td>27</td>\n",
              "      <td>28</td>\n",
              "      <td>29</td>\n",
              "      <td>30</td>\n",
              "      <td>31</td>\n",
              "      <td>32</td>\n",
              "      <td>33</td>\n",
              "      <td>34</td>\n",
              "      <td>35</td>\n",
              "      <td>36</td>\n",
              "      <td>37</td>\n",
              "      <td>38</td>\n",
              "      <td>39</td>\n",
              "      <td>...</td>\n",
              "      <td>12368</td>\n",
              "      <td>12369</td>\n",
              "      <td>12370</td>\n",
              "      <td>12371</td>\n",
              "      <td>12372</td>\n",
              "      <td>12373</td>\n",
              "      <td>12374</td>\n",
              "      <td>12375</td>\n",
              "      <td>12376</td>\n",
              "      <td>12377</td>\n",
              "      <td>12378</td>\n",
              "      <td>12379</td>\n",
              "      <td>12380</td>\n",
              "      <td>12381</td>\n",
              "      <td>12382</td>\n",
              "      <td>12383</td>\n",
              "      <td>12384</td>\n",
              "      <td>12385</td>\n",
              "      <td>12386</td>\n",
              "      <td>12387</td>\n",
              "      <td>12388</td>\n",
              "      <td>12389</td>\n",
              "      <td>12390</td>\n",
              "      <td>12391</td>\n",
              "      <td>12392</td>\n",
              "      <td>12393</td>\n",
              "      <td>12394</td>\n",
              "      <td>12395</td>\n",
              "      <td>12396</td>\n",
              "      <td>12397</td>\n",
              "      <td>12398</td>\n",
              "      <td>12399</td>\n",
              "      <td>12400</td>\n",
              "      <td>12401</td>\n",
              "      <td>12402</td>\n",
              "      <td>12403</td>\n",
              "      <td>12404</td>\n",
              "      <td>12405</td>\n",
              "      <td>12406</td>\n",
              "      <td>12407</td>\n",
              "    </tr>\n",
              "  </tbody>\n",
              "</table>\n",
              "<p>1 rows × 12408 columns</p>\n",
              "</div>"
            ],
            "text/plain": [
              "   Pierre  Vinken  ,  61  years  ...  Trinity  railcar  platforms  Trailer  Train\n",
              "0       0       1  2   3      4  ...    12403    12404      12405    12406  12407\n",
              "\n",
              "[1 rows x 12408 columns]"
            ]
          },
          "metadata": {
            "tags": []
          },
          "execution_count": 17
        }
      ]
    },
    {
      "cell_type": "code",
      "metadata": {
        "id": "QPrqCj8A0JO6",
        "colab_type": "code",
        "colab": {
          "base_uri": "https://localhost:8080/",
          "height": 78
        },
        "outputId": "ce314724-4c96-42af-e6d8-69697694198d"
      },
      "source": [
        "pd.DataFrame(tag_to_idx, index=[0])"
      ],
      "execution_count": 18,
      "outputs": [
        {
          "output_type": "execute_result",
          "data": {
            "text/html": [
              "<div>\n",
              "<style scoped>\n",
              "    .dataframe tbody tr th:only-of-type {\n",
              "        vertical-align: middle;\n",
              "    }\n",
              "\n",
              "    .dataframe tbody tr th {\n",
              "        vertical-align: top;\n",
              "    }\n",
              "\n",
              "    .dataframe thead th {\n",
              "        text-align: right;\n",
              "    }\n",
              "</style>\n",
              "<table border=\"1\" class=\"dataframe\">\n",
              "  <thead>\n",
              "    <tr style=\"text-align: right;\">\n",
              "      <th></th>\n",
              "      <th>NOUN</th>\n",
              "      <th>.</th>\n",
              "      <th>NUM</th>\n",
              "      <th>ADJ</th>\n",
              "      <th>VERB</th>\n",
              "      <th>DET</th>\n",
              "      <th>ADP</th>\n",
              "      <th>CONJ</th>\n",
              "      <th>X</th>\n",
              "      <th>ADV</th>\n",
              "      <th>PRT</th>\n",
              "      <th>PRON</th>\n",
              "    </tr>\n",
              "  </thead>\n",
              "  <tbody>\n",
              "    <tr>\n",
              "      <th>0</th>\n",
              "      <td>0</td>\n",
              "      <td>1</td>\n",
              "      <td>2</td>\n",
              "      <td>3</td>\n",
              "      <td>4</td>\n",
              "      <td>5</td>\n",
              "      <td>6</td>\n",
              "      <td>7</td>\n",
              "      <td>8</td>\n",
              "      <td>9</td>\n",
              "      <td>10</td>\n",
              "      <td>11</td>\n",
              "    </tr>\n",
              "  </tbody>\n",
              "</table>\n",
              "</div>"
            ],
            "text/plain": [
              "   NOUN  .  NUM  ADJ  VERB  DET  ADP  CONJ  X  ADV  PRT  PRON\n",
              "0     0  1    2    3     4    5    6     7  8    9   10    11"
            ]
          },
          "metadata": {
            "tags": []
          },
          "execution_count": 18
        }
      ]
    },
    {
      "cell_type": "markdown",
      "metadata": {
        "id": "v3jeXLy00QhR",
        "colab_type": "text"
      },
      "source": [
        "These are our our 12 categories for part of speech"
      ]
    },
    {
      "cell_type": "code",
      "metadata": {
        "id": "X5l4me-T0KHK",
        "colab_type": "code",
        "colab": {
          "base_uri": "https://localhost:8080/",
          "height": 98
        },
        "outputId": "440b501c-09bf-4987-c391-9f4922ffc2d1"
      },
      "source": [
        "pd.DataFrame(char_to_idx, index=[0])"
      ],
      "execution_count": 19,
      "outputs": [
        {
          "output_type": "execute_result",
          "data": {
            "text/html": [
              "<div>\n",
              "<style scoped>\n",
              "    .dataframe tbody tr th:only-of-type {\n",
              "        vertical-align: middle;\n",
              "    }\n",
              "\n",
              "    .dataframe tbody tr th {\n",
              "        vertical-align: top;\n",
              "    }\n",
              "\n",
              "    .dataframe thead th {\n",
              "        text-align: right;\n",
              "    }\n",
              "</style>\n",
              "<table border=\"1\" class=\"dataframe\">\n",
              "  <thead>\n",
              "    <tr style=\"text-align: right;\">\n",
              "      <th></th>\n",
              "      <th>P</th>\n",
              "      <th>i</th>\n",
              "      <th>e</th>\n",
              "      <th>r</th>\n",
              "      <th>V</th>\n",
              "      <th>n</th>\n",
              "      <th>k</th>\n",
              "      <th>,</th>\n",
              "      <th>6</th>\n",
              "      <th>1</th>\n",
              "      <th>y</th>\n",
              "      <th>a</th>\n",
              "      <th>s</th>\n",
              "      <th>o</th>\n",
              "      <th>l</th>\n",
              "      <th>d</th>\n",
              "      <th>w</th>\n",
              "      <th>j</th>\n",
              "      <th>t</th>\n",
              "      <th>h</th>\n",
              "      <th>b</th>\n",
              "      <th>x</th>\n",
              "      <th>c</th>\n",
              "      <th>u</th>\n",
              "      <th>v</th>\n",
              "      <th>N</th>\n",
              "      <th>.</th>\n",
              "      <th>2</th>\n",
              "      <th>9</th>\n",
              "      <th>M</th>\n",
              "      <th>m</th>\n",
              "      <th>f</th>\n",
              "      <th>E</th>\n",
              "      <th>D</th>\n",
              "      <th>p</th>\n",
              "      <th>g</th>\n",
              "      <th>R</th>\n",
              "      <th>A</th>\n",
              "      <th>5</th>\n",
              "      <th>C</th>\n",
              "      <th>G</th>\n",
              "      <th>F</th>\n",
              "      <th>L</th>\n",
              "      <th>*</th>\n",
              "      <th>-</th>\n",
              "      <th>B</th>\n",
              "      <th>K</th>\n",
              "      <th>3</th>\n",
              "      <th>0</th>\n",
              "      <th>T</th>\n",
              "      <th>I</th>\n",
              "      <th>Y</th>\n",
              "      <th>'</th>\n",
              "      <th>J</th>\n",
              "      <th>`</th>\n",
              "      <th>W</th>\n",
              "      <th>q</th>\n",
              "      <th>H</th>\n",
              "      <th>U</th>\n",
              "      <th>8</th>\n",
              "      <th>4</th>\n",
              "      <th>?</th>\n",
              "      <th>z</th>\n",
              "      <th>&amp;</th>\n",
              "      <th>S</th>\n",
              "      <th>7</th>\n",
              "      <th>%</th>\n",
              "      <th>$</th>\n",
              "      <th>;</th>\n",
              "      <th>O</th>\n",
              "      <th>:</th>\n",
              "      <th>Q</th>\n",
              "      <th>Z</th>\n",
              "      <th>\\</th>\n",
              "      <th>/</th>\n",
              "      <th>X</th>\n",
              "      <th>@</th>\n",
              "      <th>!</th>\n",
              "      <th>#</th>\n",
              "    </tr>\n",
              "  </thead>\n",
              "  <tbody>\n",
              "    <tr>\n",
              "      <th>0</th>\n",
              "      <td>0</td>\n",
              "      <td>1</td>\n",
              "      <td>2</td>\n",
              "      <td>3</td>\n",
              "      <td>4</td>\n",
              "      <td>5</td>\n",
              "      <td>6</td>\n",
              "      <td>7</td>\n",
              "      <td>8</td>\n",
              "      <td>9</td>\n",
              "      <td>10</td>\n",
              "      <td>11</td>\n",
              "      <td>12</td>\n",
              "      <td>13</td>\n",
              "      <td>14</td>\n",
              "      <td>15</td>\n",
              "      <td>16</td>\n",
              "      <td>17</td>\n",
              "      <td>18</td>\n",
              "      <td>19</td>\n",
              "      <td>20</td>\n",
              "      <td>21</td>\n",
              "      <td>22</td>\n",
              "      <td>23</td>\n",
              "      <td>24</td>\n",
              "      <td>25</td>\n",
              "      <td>26</td>\n",
              "      <td>27</td>\n",
              "      <td>28</td>\n",
              "      <td>29</td>\n",
              "      <td>30</td>\n",
              "      <td>31</td>\n",
              "      <td>32</td>\n",
              "      <td>33</td>\n",
              "      <td>34</td>\n",
              "      <td>35</td>\n",
              "      <td>36</td>\n",
              "      <td>37</td>\n",
              "      <td>38</td>\n",
              "      <td>39</td>\n",
              "      <td>40</td>\n",
              "      <td>41</td>\n",
              "      <td>42</td>\n",
              "      <td>43</td>\n",
              "      <td>44</td>\n",
              "      <td>45</td>\n",
              "      <td>46</td>\n",
              "      <td>47</td>\n",
              "      <td>48</td>\n",
              "      <td>49</td>\n",
              "      <td>50</td>\n",
              "      <td>51</td>\n",
              "      <td>52</td>\n",
              "      <td>53</td>\n",
              "      <td>54</td>\n",
              "      <td>55</td>\n",
              "      <td>56</td>\n",
              "      <td>57</td>\n",
              "      <td>58</td>\n",
              "      <td>59</td>\n",
              "      <td>60</td>\n",
              "      <td>61</td>\n",
              "      <td>62</td>\n",
              "      <td>63</td>\n",
              "      <td>64</td>\n",
              "      <td>65</td>\n",
              "      <td>66</td>\n",
              "      <td>67</td>\n",
              "      <td>68</td>\n",
              "      <td>69</td>\n",
              "      <td>70</td>\n",
              "      <td>71</td>\n",
              "      <td>72</td>\n",
              "      <td>73</td>\n",
              "      <td>74</td>\n",
              "      <td>75</td>\n",
              "      <td>76</td>\n",
              "      <td>77</td>\n",
              "      <td>78</td>\n",
              "    </tr>\n",
              "  </tbody>\n",
              "</table>\n",
              "</div>"
            ],
            "text/plain": [
              "   P  i  e  r  V  n  k  ,  6  1   y  ...   ;   O   :   Q   Z   \\   /   X   @   !   #\n",
              "0  0  1  2  3  4  5  6  7  8  9  10  ...  68  69  70  71  72  73  74  75  76  77  78\n",
              "\n",
              "[1 rows x 79 columns]"
            ]
          },
          "metadata": {
            "tags": []
          },
          "execution_count": 19
        }
      ]
    },
    {
      "cell_type": "code",
      "metadata": {
        "id": "uu5PnAWOx59D",
        "colab_type": "code",
        "colab": {}
      },
      "source": [
        "word_vocab_size = len(word_to_idx)\n",
        "tag_vocab_size = len(tag_to_idx)\n",
        "char_vocab_size = len(char_to_idx)"
      ],
      "execution_count": 0,
      "outputs": []
    },
    {
      "cell_type": "code",
      "metadata": {
        "id": "81RPv0o2x_IK",
        "colab_type": "code",
        "colab": {
          "base_uri": "https://localhost:8080/",
          "height": 72
        },
        "outputId": "69658d44-56cd-456b-a3ad-5233c26b4d28"
      },
      "source": [
        "print(\"Unique words: {}\".format(len(word_to_idx)))\n",
        "print(\"Unique tags: {}\".format(len(tag_to_idx)))\n",
        "print(\"Unique characters: {}\".format(len(char_to_idx)))"
      ],
      "execution_count": 21,
      "outputs": [
        {
          "output_type": "stream",
          "text": [
            "Unique words: 12408\n",
            "Unique tags: 12\n",
            "Unique characters: 79\n"
          ],
          "name": "stdout"
        }
      ]
    },
    {
      "cell_type": "markdown",
      "metadata": {
        "id": "0B_30aqh0jf2",
        "colab_type": "text"
      },
      "source": [
        "### 2b)-Train/Test Splitting the data"
      ]
    },
    {
      "cell_type": "code",
      "metadata": {
        "id": "lnUp846N0DqC",
        "colab_type": "code",
        "colab": {}
      },
      "source": [
        "from sklearn.model_selection import train_test_split\n",
        "Train,Test = train_test_split(tagged_sentence, test_size=0.20, random_state=42)"
      ],
      "execution_count": 0,
      "outputs": []
    },
    {
      "cell_type": "code",
      "metadata": {
        "id": "tJDOlEIu1Bmx",
        "colab_type": "code",
        "colab": {
          "base_uri": "https://localhost:8080/",
          "height": 1000
        },
        "outputId": "82a65d58-a923-4c23-a9a7-9ab34fdcd826"
      },
      "source": [
        "Train[:3]"
      ],
      "execution_count": 23,
      "outputs": [
        {
          "output_type": "execute_result",
          "data": {
            "text/plain": [
              "[[('Pierre', 'NOUN'),\n",
              "  ('Vinken', 'NOUN'),\n",
              "  (',', '.'),\n",
              "  ('61', 'NUM'),\n",
              "  ('years', 'NOUN'),\n",
              "  ('old', 'ADJ'),\n",
              "  (',', '.'),\n",
              "  ('will', 'VERB'),\n",
              "  ('join', 'VERB'),\n",
              "  ('the', 'DET'),\n",
              "  ('board', 'NOUN'),\n",
              "  ('as', 'ADP'),\n",
              "  ('a', 'DET'),\n",
              "  ('nonexecutive', 'ADJ'),\n",
              "  ('director', 'NOUN'),\n",
              "  ('Nov.', 'NOUN'),\n",
              "  ('29', 'NUM'),\n",
              "  ('.', '.')],\n",
              " [('And', 'CONJ'),\n",
              "  ('it', 'PRON'),\n",
              "  ('was', 'VERB'),\n",
              "  ('stupid', 'ADJ'),\n",
              "  ('.', '.')],\n",
              " [('Some', 'DET'),\n",
              "  ('dealers', 'NOUN'),\n",
              "  ('said', 'VERB'),\n",
              "  ('0', 'X'),\n",
              "  ('the', 'DET'),\n",
              "  ('dollar', 'NOUN'),\n",
              "  ('was', 'VERB'),\n",
              "  ('pressured', 'ADJ'),\n",
              "  ('*-1', 'X'),\n",
              "  ('slightly', 'ADV'),\n",
              "  ('because', 'ADP'),\n",
              "  ('a', 'DET'),\n",
              "  ('number', 'NOUN'),\n",
              "  ('of', 'ADP'),\n",
              "  ('market', 'NOUN'),\n",
              "  ('participants', 'NOUN'),\n",
              "  ('had', 'VERB'),\n",
              "  ('boosted', 'VERB'),\n",
              "  ('their', 'PRON'),\n",
              "  ('expectations', 'NOUN'),\n",
              "  ('in', 'ADP'),\n",
              "  ('the', 'DET'),\n",
              "  ('past', 'ADJ'),\n",
              "  ('day', 'NOUN'),\n",
              "  ('and', 'CONJ'),\n",
              "  ('were', 'VERB'),\n",
              "  ('looking', 'VERB'),\n",
              "  ('for', 'ADP'),\n",
              "  ('an', 'DET'),\n",
              "  ('index', 'NOUN'),\n",
              "  ('above', 'ADP'),\n",
              "  ('50', 'NUM'),\n",
              "  (',', '.'),\n",
              "  ('which', 'DET'),\n",
              "  ('*T*-148', 'X'),\n",
              "  ('indicates', 'VERB'),\n",
              "  ('an', 'DET'),\n",
              "  ('expanding', 'VERB'),\n",
              "  ('manufacturing', 'NOUN'),\n",
              "  ('economy', 'NOUN'),\n",
              "  ('.', '.')]]"
            ]
          },
          "metadata": {
            "tags": []
          },
          "execution_count": 23
        }
      ]
    },
    {
      "cell_type": "code",
      "metadata": {
        "id": "7BCP1Y0_1Dsb",
        "colab_type": "code",
        "colab": {
          "base_uri": "https://localhost:8080/",
          "height": 1000
        },
        "outputId": "c3a38a80-76fd-4cc1-f9e7-b120c10b9b8a"
      },
      "source": [
        "Test[:3]"
      ],
      "execution_count": 24,
      "outputs": [
        {
          "output_type": "execute_result",
          "data": {
            "text/plain": [
              "[[('For', 'ADP'),\n",
              "  ('the', 'DET'),\n",
              "  ('Agency', 'NOUN'),\n",
              "  ('for', 'ADP'),\n",
              "  ('International', 'NOUN'),\n",
              "  ('Development', 'NOUN'),\n",
              "  (',', '.'),\n",
              "  ('appropriators', 'NOUN'),\n",
              "  ('approved', 'VERB'),\n",
              "  ('$', '.'),\n",
              "  ('200', 'NUM'),\n",
              "  ('million', 'NUM'),\n",
              "  ('*U*', 'X'),\n",
              "  ('in', 'ADP'),\n",
              "  ('secondary', 'ADJ'),\n",
              "  ('loan', 'NOUN'),\n",
              "  ('guarantees', 'NOUN'),\n",
              "  ('under', 'ADP'),\n",
              "  ('an', 'DET'),\n",
              "  ('expanded', 'VERB'),\n",
              "  ('trade', 'NOUN'),\n",
              "  ('credit', 'NOUN'),\n",
              "  ('insurance', 'NOUN'),\n",
              "  ('program', 'NOUN'),\n",
              "  (',', '.'),\n",
              "  ('and', 'CONJ'),\n",
              "  ('total', 'ADJ'),\n",
              "  ('loan', 'NOUN'),\n",
              "  ('guarantees', 'NOUN'),\n",
              "  ('for', 'ADP'),\n",
              "  ('the', 'DET'),\n",
              "  ('Overseas', 'NOUN'),\n",
              "  ('Private', 'NOUN'),\n",
              "  ('Investment', 'NOUN'),\n",
              "  ('Corp.', 'NOUN'),\n",
              "  ('are', 'VERB'),\n",
              "  ('increased', 'VERB'),\n",
              "  ('*-3', 'X'),\n",
              "  ('by', 'ADP'),\n",
              "  ('$', '.'),\n",
              "  ('40', 'NUM'),\n",
              "  ('million', 'NUM'),\n",
              "  ('*U*', 'X'),\n",
              "  ('over', 'ADP'),\n",
              "  ('fiscal', 'ADJ'),\n",
              "  ('1989', 'NUM'),\n",
              "  ('as', 'ADP'),\n",
              "  ('part', 'NOUN'),\n",
              "  ('of', 'ADP'),\n",
              "  ('the', 'DET'),\n",
              "  ('same', 'ADJ'),\n",
              "  ('Poland', 'NOUN'),\n",
              "  ('package', 'NOUN'),\n",
              "  ('.', '.')],\n",
              " [('The', 'DET'),\n",
              "  ('market', 'NOUN'),\n",
              "  ('is', 'VERB'),\n",
              "  ('just', 'ADV'),\n",
              "  ('becoming', 'VERB'),\n",
              "  ('more', 'ADV'),\n",
              "  ('efficient', 'ADJ'),\n",
              "  ('.', '.'),\n",
              "  (\"''\", '.')],\n",
              " [('Moscow', 'NOUN'),\n",
              "  ('has', 'VERB'),\n",
              "  ('settled', 'VERB'),\n",
              "  ('pre-1917', 'ADJ'),\n",
              "  ('debts', 'NOUN'),\n",
              "  ('with', 'ADP'),\n",
              "  ('other', 'ADJ'),\n",
              "  ('countries', 'NOUN'),\n",
              "  ('in', 'ADP'),\n",
              "  ('recent', 'ADJ'),\n",
              "  ('years', 'NOUN'),\n",
              "  ('at', 'ADP'),\n",
              "  ('less', 'ADJ'),\n",
              "  ('than', 'ADP'),\n",
              "  ('face', 'NOUN'),\n",
              "  ('value', 'NOUN'),\n",
              "  ('.', '.')]]"
            ]
          },
          "metadata": {
            "tags": []
          },
          "execution_count": 24
        }
      ]
    },
    {
      "cell_type": "markdown",
      "metadata": {
        "id": "RxcNnGq21RLs",
        "colab_type": "text"
      },
      "source": [
        "**Alternative way**"
      ]
    },
    {
      "cell_type": "code",
      "metadata": {
        "id": "Labz5mn11Hh8",
        "colab_type": "code",
        "colab": {}
      },
      "source": [
        "import random\n",
        "\n",
        "tr_random = random.sample(list(range(len(tagged_sentence))), int(0.95 * len(tagged_sentence)))\n",
        "\n",
        "train = [tagged_sentence[i] for i in tr_random]\n",
        "test = [tagged_sentence[i] for i in range(len(tagged_sentence)) if i not in tr_random]"
      ],
      "execution_count": 0,
      "outputs": []
    },
    {
      "cell_type": "code",
      "metadata": {
        "id": "R2VqBKRO1LT8",
        "colab_type": "code",
        "colab": {
          "base_uri": "https://localhost:8080/",
          "height": 1000
        },
        "outputId": "bff9b12f-2bc5-483e-bcd1-c0c1d5dc1d08"
      },
      "source": [
        "train[:3]"
      ],
      "execution_count": 26,
      "outputs": [
        {
          "output_type": "execute_result",
          "data": {
            "text/plain": [
              "[[('``', '.'),\n",
              "  ('Only', 'ADV'),\n",
              "  ('five', 'NUM'),\n",
              "  ('of', 'ADP'),\n",
              "  ('the', 'DET'),\n",
              "  ('40', 'NUM'),\n",
              "  ('questions', 'NOUN'),\n",
              "  ('were', 'VERB'),\n",
              "  ('geography', 'NOUN'),\n",
              "  ('questions', 'NOUN'),\n",
              "  ('.', '.')],\n",
              " [('Williams', 'NOUN'),\n",
              "  (',', '.'),\n",
              "  ('Duluth', 'NOUN'),\n",
              "  (',', '.'),\n",
              "  ('Ga.', 'NOUN'),\n",
              "  (',', '.'),\n",
              "  ('is', 'VERB'),\n",
              "  ('an', 'DET'),\n",
              "  ('insurance', 'NOUN'),\n",
              "  ('and', 'CONJ'),\n",
              "  ('financial-services', 'NOUN'),\n",
              "  ('holding', 'VERB'),\n",
              "  ('company', 'NOUN'),\n",
              "  ('.', '.')],\n",
              " [('Employers', 'NOUN'),\n",
              "  ('can', 'VERB'),\n",
              "  ('pay', 'VERB'),\n",
              "  ('the', 'DET'),\n",
              "  ('subminimum', 'NOUN'),\n",
              "  ('for', 'ADP'),\n",
              "  ('90', 'NUM'),\n",
              "  ('days', 'NOUN'),\n",
              "  (',', '.'),\n",
              "  ('without', 'ADP'),\n",
              "  ('restriction', 'NOUN'),\n",
              "  (',', '.'),\n",
              "  ('to', 'PRT'),\n",
              "  ('workers', 'NOUN'),\n",
              "  ('with', 'ADP'),\n",
              "  ('less', 'ADJ'),\n",
              "  ('than', 'ADP'),\n",
              "  ('six', 'NUM'),\n",
              "  ('months', 'NOUN'),\n",
              "  ('of', 'ADP'),\n",
              "  ('job', 'NOUN'),\n",
              "  ('experience', 'NOUN'),\n",
              "  ('*NOT*', 'X'),\n",
              "  (',', '.'),\n",
              "  ('and', 'CONJ'),\n",
              "  ('for', 'ADP'),\n",
              "  ('another', 'DET'),\n",
              "  ('90', 'NUM'),\n",
              "  ('days', 'NOUN'),\n",
              "  ('if', 'ADP'),\n",
              "  ('the', 'DET'),\n",
              "  ('company', 'NOUN'),\n",
              "  ('uses', 'VERB'),\n",
              "  ('a', 'DET'),\n",
              "  ('government-certified', 'ADJ'),\n",
              "  ('training', 'NOUN'),\n",
              "  ('program', 'NOUN'),\n",
              "  ('for', 'ADP'),\n",
              "  ('the', 'DET'),\n",
              "  ('young', 'ADJ'),\n",
              "  ('workers', 'NOUN'),\n",
              "  ('.', '.')]]"
            ]
          },
          "metadata": {
            "tags": []
          },
          "execution_count": 26
        }
      ]
    },
    {
      "cell_type": "code",
      "metadata": {
        "id": "jvprXL9e1NIU",
        "colab_type": "code",
        "colab": {
          "base_uri": "https://localhost:8080/",
          "height": 1000
        },
        "outputId": "77c6a169-aa88-4ae2-ce06-1bed8170bdaa"
      },
      "source": [
        "test[:3]"
      ],
      "execution_count": 27,
      "outputs": [
        {
          "output_type": "execute_result",
          "data": {
            "text/plain": [
              "[[('Four', 'NUM'),\n",
              "  ('of', 'ADP'),\n",
              "  ('the', 'DET'),\n",
              "  ('five', 'NUM'),\n",
              "  ('surviving', 'VERB'),\n",
              "  ('workers', 'NOUN'),\n",
              "  ('have', 'VERB'),\n",
              "  ('asbestos-related', 'ADJ'),\n",
              "  ('diseases', 'NOUN'),\n",
              "  (',', '.'),\n",
              "  ('including', 'VERB'),\n",
              "  ('three', 'NUM'),\n",
              "  ('with', 'ADP'),\n",
              "  ('recently', 'ADV'),\n",
              "  ('diagnosed', 'VERB'),\n",
              "  ('cancer', 'NOUN'),\n",
              "  ('.', '.')],\n",
              " [('The', 'DET'),\n",
              "  ('30-day', 'ADJ'),\n",
              "  ('simple', 'ADJ'),\n",
              "  ('yield', 'NOUN'),\n",
              "  ('fell', 'VERB'),\n",
              "  ('to', 'PRT'),\n",
              "  ('an', 'DET'),\n",
              "  ('average', 'ADJ'),\n",
              "  ('8.19', 'NUM'),\n",
              "  ('%', 'NOUN'),\n",
              "  ('from', 'ADP'),\n",
              "  ('8.22', 'NUM'),\n",
              "  ('%', 'NOUN'),\n",
              "  (';', '.'),\n",
              "  ('the', 'DET'),\n",
              "  ('30-day', 'ADJ'),\n",
              "  ('compound', 'NOUN'),\n",
              "  ('yield', 'NOUN'),\n",
              "  ('slid', 'VERB'),\n",
              "  ('to', 'PRT'),\n",
              "  ('an', 'DET'),\n",
              "  ('average', 'ADJ'),\n",
              "  ('8.53', 'NUM'),\n",
              "  ('%', 'NOUN'),\n",
              "  ('from', 'ADP'),\n",
              "  ('8.56', 'NUM'),\n",
              "  ('%', 'NOUN'),\n",
              "  ('.', '.')],\n",
              " [('Finmeccanica', 'NOUN'),\n",
              "  ('is', 'VERB'),\n",
              "  ('an', 'DET'),\n",
              "  ('Italian', 'ADJ'),\n",
              "  ('state-owned', 'ADJ'),\n",
              "  ('holding', 'VERB'),\n",
              "  ('company', 'NOUN'),\n",
              "  ('with', 'ADP'),\n",
              "  ('interests', 'NOUN'),\n",
              "  ('in', 'ADP'),\n",
              "  ('the', 'DET'),\n",
              "  ('mechanical', 'ADJ'),\n",
              "  ('engineering', 'NOUN'),\n",
              "  ('industry', 'NOUN'),\n",
              "  ('.', '.')]]"
            ]
          },
          "metadata": {
            "tags": []
          },
          "execution_count": 27
        }
      ]
    },
    {
      "cell_type": "markdown",
      "metadata": {
        "id": "unh-ioiN1eBz",
        "colab_type": "text"
      },
      "source": [
        "# 3)- Model Building"
      ]
    },
    {
      "cell_type": "markdown",
      "metadata": {
        "id": "1XGP-PNF1gzt",
        "colab_type": "text"
      },
      "source": [
        "### 3.1)-Model Parameters"
      ]
    },
    {
      "cell_type": "code",
      "metadata": {
        "id": "gmzEWM0V1Ooj",
        "colab_type": "code",
        "colab": {}
      },
      "source": [
        "WORD_EMBEDDING_DIM = 1024\n",
        "CHAR_EMBEDDING_DIM = 128\n",
        "WORD_HIDDEN_DIM = 1024\n",
        "CHAR_HIDDEN_DIM = 1024\n",
        "EPOCHS = 70"
      ],
      "execution_count": 0,
      "outputs": []
    },
    {
      "cell_type": "markdown",
      "metadata": {
        "id": "qb8QxEOd1rCT",
        "colab_type": "text"
      },
      "source": [
        "### 3.2)-Model Classes\n",
        "\n",
        "\n",
        "I will construct the model classes, the Word LSTM tagger and the Character LSTM Tagger. The LSTM in both cases takes in a sequence (words or characters), embeds the sequence into an embedding space (dimension of the space is a hyperparameter), and runs the LSTM model.\n",
        "\n",
        "In our case, first the word level LSTM will take in a sequence of words and convert them into the word embedding space. Similarly, it will take the words sequentially and run the character level LSTM model, which will first take in the sequence of characters in each word and project it in the character embedding space and then run the LSTM model and take its hidden state and feed it back to the word LSTM model.\n",
        "\n",
        "Using the character level hidden representation for every word as well as the word embedding, the word level model then runs LSTM on the sequence of words, and outputs the predictions for every tag. This prediction is later processed to find the corresponding tags.\n",
        "\n",
        "- Credit: https://www.kaggle.com/krishanudb/lstm-character-word-pos-tag-model-pytorch/data"
      ]
    },
    {
      "cell_type": "code",
      "metadata": {
        "id": "NtQXDu191nBx",
        "colab_type": "code",
        "colab": {}
      },
      "source": [
        "class DualLSTMTagger(nn.Module):\n",
        "    def __init__(self, word_embedding_dim, word_hidden_dim, char_embedding_dim, char_hidden_dim, word_vocab_size, char_vocab_size, tag_vocab_size):\n",
        "        super(DualLSTMTagger, self).__init__()\n",
        "        self.word_embedding = nn.Embedding(word_vocab_size, word_embedding_dim)\n",
        "        \n",
        "        self.char_embedding = nn.Embedding(char_vocab_size, char_embedding_dim)\n",
        "        self.char_lstm = nn.LSTM(char_embedding_dim, char_hidden_dim)\n",
        "        \n",
        "        self.lstm = nn.LSTM(word_embedding_dim + char_hidden_dim, word_hidden_dim)\n",
        "        self.hidden2tag = nn.Linear(word_hidden_dim, tag_vocab_size)\n",
        "        \n",
        "    def forward(self, sentence, words):\n",
        "        embeds = self.word_embedding(sentence)\n",
        "        char_hidden_final = []\n",
        "        for word in words:\n",
        "            char_embeds = self.char_embedding(word)\n",
        "            _, (char_hidden, char_cell_state) = self.char_lstm(char_embeds.view(len(word), 1, -1))\n",
        "            word_char_hidden_state = char_hidden.view(-1)\n",
        "            char_hidden_final.append(word_char_hidden_state)\n",
        "        char_hidden_final = torch.stack(tuple(char_hidden_final))\n",
        "        \n",
        "        combined = torch.cat((embeds, char_hidden_final), 1)\n",
        "\n",
        "        lstm_out, _ = self.lstm(combined.view(len(sentence), 1, -1))\n",
        "        tag_space = self.hidden2tag(lstm_out.view(len(sentence), -1))\n",
        "        \n",
        "        tag_scores = F.log_softmax(tag_space, dim=1)\n",
        "        return tag_scores"
      ],
      "execution_count": 0,
      "outputs": []
    },
    {
      "cell_type": "markdown",
      "metadata": {
        "id": "4Q8zS0FkDBg4",
        "colab_type": "text"
      },
      "source": [
        "**training is too computing intensive. But, concept and code has been provided**"
      ]
    },
    {
      "cell_type": "code",
      "metadata": {
        "id": "NV_mxxen2ORu",
        "colab_type": "code",
        "colab": {
          "base_uri": "https://localhost:8080/",
          "height": 128
        },
        "outputId": "cf613b66-faa4-40fc-e359-9fca67ccc41d"
      },
      "source": [
        "model = DualLSTMTagger(WORD_EMBEDDING_DIM, WORD_HIDDEN_DIM, CHAR_EMBEDDING_DIM, CHAR_HIDDEN_DIM, word_vocab_size, char_vocab_size, tag_vocab_size)\n",
        "\n",
        "use_cuda = torch.cuda.is_available()\n",
        "device = torch.device(\"cuda:0\" if use_cuda else \"cpu\")\n",
        "\n",
        "if use_cuda:\n",
        "    model.cuda()\n",
        "\n",
        "# Define the loss function as the Negative Log Likelihood loss (NLLLoss)\n",
        "loss_function = nn.NLLLoss()\n",
        "\n",
        "# We will be using a simple SGD optimizer\n",
        "optimizer = optim.Adam(model.parameters(), lr=0.01)\n",
        "\n",
        "# The test sentence\n",
        "seq = \"everybody eat the food . I kept looking out the window , trying to find the one I was waiting for .\".split()\n",
        "print(\"Running a check on the model before training.\\nSentences:\\n{}\".format(\" \".join(seq)))\n",
        "with torch.no_grad():\n",
        "    words = [torch.tensor(sequence_to_idx(s[0], char_to_idx), dtype=torch.long).to(device) for s in seq]\n",
        "    sentence = torch.tensor(sequence_to_idx(seq, word_to_idx), dtype=torch.long).to(device)\n",
        "        \n",
        "    tag_scores = model(sentence, words)\n",
        "    _, indices = torch.max(tag_scores, 1)\n",
        "    ret = []\n",
        "    for i in range(len(indices)):\n",
        "        for key, value in tag_to_idx.items():\n",
        "            if indices[i] == value:\n",
        "                ret.append((seq[i], key))\n",
        "    print(ret)\n",
        "# Training start\n",
        "print(\"Training Started\")\n",
        "accuracy_list = []\n",
        "loss_list = []\n",
        "interval = round(len(train) / 100.)\n",
        "epochs = EPOCHS\n",
        "e_interval = round(epochs / 10.)\n",
        "for epoch in range(epochs):\n",
        "    acc = 0 #to keep track of accuracy\n",
        "    loss = 0 # To keep track of the loss value\n",
        "    i = 0\n",
        "    for sentence_tag in train:\n",
        "        i += 1\n",
        "        words = [torch.tensor(sequence_to_idx(s[0], char_to_idx), dtype=torch.long).to(device) for s in sentence_tag]\n",
        "        sentence = [s[0] for s in sentence_tag]\n",
        "        sentence = torch.tensor(sequence_to_idx(sentence, word_to_idx), dtype=torch.long).to(device)\n",
        "        targets = [s[1] for s in sentence_tag]\n",
        "        targets = torch.tensor(sequence_to_idx(targets, tag_to_idx), dtype=torch.long).to(device)\n",
        "        \n",
        "        model.zero_grad()\n",
        "        \n",
        "        tag_scores = model(sentence, words)\n",
        "        \n",
        "        loss = loss_function(tag_scores, targets)\n",
        "        loss.backward()\n",
        "        optimizer.step()\n",
        "        loss += loss.item()\n",
        "        _, indices = torch.max(tag_scores, 1)\n",
        "#         print(indices == targets)\n",
        "        acc += torch.mean(torch.tensor(targets == indices, dtype=torch.float))\n",
        "        if i % interval == 0:\n",
        "            print(\"Epoch {} Running;\\t{}% Complete\".format(epoch + 1, i / interval), end = \"\\r\", flush = True)\n",
        "    loss = loss / len(train)\n",
        "    acc = acc / len(train)\n",
        "    loss_list.append(float(loss))\n",
        "    accuracy_list.append(float(acc))\n",
        "    if (epoch + 1) % e_interval == 0:\n",
        "        print(\"Epoch {} Completed,\\tLoss {}\\tAccuracy: {}\".format(epoch + 1, np.mean(loss_list[-e_interval:]), np.mean(accuracy_list[-e_interval:])))"
      ],
      "execution_count": 0,
      "outputs": [
        {
          "output_type": "stream",
          "text": [
            "Running a check on the model before training.\n",
            "Sentences:\n",
            "everybody eat the food . I kept looking out the window , trying to find the one I was waiting for .\n",
            "[('everybody', 'ADV'), ('eat', 'NUM'), ('the', 'ADV'), ('food', 'ADJ'), ('.', 'X'), ('I', 'ADV'), ('kept', 'ADV'), ('looking', 'ADV'), ('out', 'ADV'), ('the', 'ADV'), ('window', 'ADV'), (',', 'ADV'), ('trying', 'ADV'), ('to', 'ADV'), ('find', 'ADV'), ('the', 'ADV'), ('one', 'ADV'), ('I', 'ADV'), ('was', '.'), ('waiting', 'ADJ'), ('for', 'ADV'), ('.', 'VERB')]\n",
            "Training Started\n"
          ],
          "name": "stdout"
        }
      ]
    },
    {
      "cell_type": "markdown",
      "metadata": {
        "id": "KnPBU8DV2mup",
        "colab_type": "text"
      },
      "source": [
        "# 4)-Plotting results"
      ]
    },
    {
      "cell_type": "code",
      "metadata": {
        "id": "Ya4EaNyH2cB-",
        "colab_type": "code",
        "colab": {}
      },
      "source": [
        "import matplotlib.pyplot as plt\n",
        "plt.plot(accuracy_list, c=\"red\", label =\"Accuracy\")\n",
        "plt.xlabel(\"Epochs\")\n",
        "plt.ylabel(\"Value\")\n",
        "plt.legend()\n",
        "plt.show()\n",
        "\n",
        "plt.plot(loss_list, c=\"blue\", label =\"Loss\")\n",
        "plt.xlabel(\"Epochs\")\n",
        "plt.ylabel(\"Value\")\n",
        "plt.legend()\n",
        "plt.show()"
      ],
      "execution_count": 0,
      "outputs": []
    },
    {
      "cell_type": "markdown",
      "metadata": {
        "id": "TTKniux92uDQ",
        "colab_type": "text"
      },
      "source": [
        "# 5)- Testing results"
      ]
    },
    {
      "cell_type": "code",
      "metadata": {
        "id": "qW-q1d0b2xCS",
        "colab_type": "code",
        "colab": {}
      },
      "source": [
        "with torch.no_grad():\n",
        "    words = [torch.tensor(sequence_to_idx(s[0], char_to_idx), dtype=torch.long).to(device) for s in seq]\n",
        "    sentence = torch.tensor(sequence_to_idx(seq, word_to_idx), dtype=torch.long).to(device)\n",
        "        \n",
        "    tag_scores = model(sentence, words)\n",
        "    _, indices = torch.max(tag_scores, 1)\n",
        "    ret = []\n",
        "    for i in range(len(indices)):\n",
        "        for key, value in tag_to_idx.items():\n",
        "            if indices[i] == value:\n",
        "                ret.append((seq[i], key))\n",
        "    print(ret)"
      ],
      "execution_count": 0,
      "outputs": []
    }
  ]
}