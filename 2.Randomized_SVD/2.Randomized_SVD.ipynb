{
  "nbformat": 4,
  "nbformat_minor": 0,
  "metadata": {
    "colab": {
      "name": "Randomized SVD.ipynb",
      "version": "0.3.2",
      "provenance": [],
      "collapsed_sections": []
    },
    "kernelspec": {
      "name": "python3",
      "display_name": "Python 3"
    }
  },
  "cells": [
    {
      "cell_type": "markdown",
      "metadata": {
        "id": "aodpZesTYq_t",
        "colab_type": "text"
      },
      "source": [
        "**The purpose of this section is to illustrate the idea of random projections preserving structure with the concrete example of word vectors.**"
      ]
    },
    {
      "cell_type": "markdown",
      "metadata": {
        "id": "n-mF7MFdY2lf",
        "colab_type": "text"
      },
      "source": [
        "# 1)- Importing key modules"
      ]
    },
    {
      "cell_type": "code",
      "metadata": {
        "id": "2LZ3dEtoY1_f",
        "colab_type": "code",
        "colab": {}
      },
      "source": [
        "import pickle\n",
        "import numpy as np\n",
        "import re\n",
        "import json"
      ],
      "execution_count": 0,
      "outputs": []
    },
    {
      "cell_type": "code",
      "metadata": {
        "id": "RYw_cttPY8Vn",
        "colab_type": "code",
        "colab": {}
      },
      "source": [
        "np.set_printoptions(precision=4, suppress=True)"
      ],
      "execution_count": 0,
      "outputs": []
    },
    {
      "cell_type": "markdown",
      "metadata": {
        "id": "trDGFLiDZBru",
        "colab_type": "text"
      },
      "source": [
        "# 2)- Loading data"
      ]
    },
    {
      "cell_type": "code",
      "metadata": {
        "id": "DOsHJMQwY8aP",
        "colab_type": "code",
        "colab": {
          "base_uri": "https://localhost:8080/",
          "height": 269
        },
        "outputId": "055fe3a2-ea89-40a0-870f-74e0cd008612"
      },
      "source": [
        "! wget http://files.fast.ai/models/glove_50_glove_100.tgz \n",
        "! tar xvzf glove_50_glove_100.tgz"
      ],
      "execution_count": 3,
      "outputs": [
        {
          "output_type": "stream",
          "text": [
            "--2019-08-24 20:59:37--  http://files.fast.ai/models/glove_50_glove_100.tgz\n",
            "Resolving files.fast.ai (files.fast.ai)... 67.205.15.147\n",
            "Connecting to files.fast.ai (files.fast.ai)|67.205.15.147|:80... connected.\n",
            "HTTP request sent, awaiting response... 200 OK\n",
            "Length: 225083583 (215M) [application/x-gtar-compressed]\n",
            "Saving to: ‘glove_50_glove_100.tgz.1’\n",
            "\n",
            "glove_50_glove_100. 100%[===================>] 214.66M   105MB/s    in 2.0s    \n",
            "\n",
            "2019-08-24 20:59:39 (105 MB/s) - ‘glove_50_glove_100.tgz.1’ saved [225083583/225083583]\n",
            "\n",
            "glove_vectors_100d.npy\n",
            "glove_vectors_50d.npy\n",
            "words.txt\n",
            "wordsidx.txt\n"
          ],
          "name": "stdout"
        }
      ]
    },
    {
      "cell_type": "code",
      "metadata": {
        "id": "-tpQpt1IZK7u",
        "colab_type": "code",
        "colab": {}
      },
      "source": [
        "vecs = np.load(\"glove_vectors_100d.npy\")"
      ],
      "execution_count": 0,
      "outputs": []
    },
    {
      "cell_type": "code",
      "metadata": {
        "id": "hDArNJKuZK-b",
        "colab_type": "code",
        "colab": {}
      },
      "source": [
        "with open(\"words.txt\") as f:\n",
        "    content = f.readlines()\n",
        "words = [x.strip() for x in content]"
      ],
      "execution_count": 0,
      "outputs": []
    },
    {
      "cell_type": "code",
      "metadata": {
        "id": "hZfWOO0VZeY_",
        "colab_type": "code",
        "colab": {}
      },
      "source": [
        "wordidx = json.load(open(\"wordsidx.txt\"))"
      ],
      "execution_count": 0,
      "outputs": []
    },
    {
      "cell_type": "markdown",
      "metadata": {
        "id": "HiDMRsiJZn14",
        "colab_type": "text"
      },
      "source": [
        "# 3)- Exploring data"
      ]
    },
    {
      "cell_type": "code",
      "metadata": {
        "id": "mNM7JN0LZecs",
        "colab_type": "code",
        "colab": {
          "base_uri": "https://localhost:8080/",
          "height": 34
        },
        "outputId": "e9a08835-e22f-46e6-ce10-906f76405aff"
      },
      "source": [
        "len(words)"
      ],
      "execution_count": 7,
      "outputs": [
        {
          "output_type": "execute_result",
          "data": {
            "text/plain": [
              "400000"
            ]
          },
          "metadata": {
            "tags": []
          },
          "execution_count": 7
        }
      ]
    },
    {
      "cell_type": "code",
      "metadata": {
        "id": "j_Dh9L_9YrwT",
        "colab_type": "code",
        "colab": {
          "base_uri": "https://localhost:8080/",
          "height": 269
        },
        "outputId": "c99e53ad-2211-44fc-cf2c-3d4703cd28ac"
      },
      "source": [
        "vecs[wordidx['python']]"
      ],
      "execution_count": 8,
      "outputs": [
        {
          "output_type": "execute_result",
          "data": {
            "text/plain": [
              "array([ 0.2493,  0.6832, -0.0447, -1.3842, -0.0073,  0.651 , -0.3396,\n",
              "       -0.1979, -0.3392,  0.2669, -0.0331,  0.1592,  0.8955,  0.54  ,\n",
              "       -0.5582,  0.4624,  0.3672,  0.1889,  0.8319,  0.8142, -0.1183,\n",
              "       -0.5346,  0.2416, -0.0389,  1.1907,  0.7935, -0.1231,  0.6642,\n",
              "       -0.7762, -0.4571, -1.054 , -0.2056, -0.133 ,  0.1224,  0.8846,\n",
              "        1.024 ,  0.3229,  0.821 , -0.0694,  0.0242, -0.5142,  0.8727,\n",
              "        0.2576,  0.9153, -0.6422,  0.0412, -0.6021,  0.5463,  0.6608,\n",
              "        0.198 , -1.1393,  0.7951,  0.4597, -0.1846, -0.6413, -0.2493,\n",
              "       -0.4019, -0.5079,  0.8058,  0.5336,  0.5273,  0.3925, -0.2988,\n",
              "        0.0096,  0.9995, -0.0613,  0.7194,  0.329 , -0.0528,  0.6714,\n",
              "       -0.8025, -0.2579,  0.4961,  0.4808, -0.684 , -0.0122,  0.0482,\n",
              "        0.2946,  0.2061,  0.3356, -0.6417, -0.6471,  0.1338, -0.1257,\n",
              "       -0.4638,  1.3878,  0.9564, -0.0679, -0.0017,  0.5296,  0.4567,\n",
              "        0.6104, -0.1151,  0.4263,  0.1734, -0.7995, -0.245 , -0.6089,\n",
              "       -0.3847, -0.4797], dtype=float32)"
            ]
          },
          "metadata": {
            "tags": []
          },
          "execution_count": 8
        }
      ]
    },
    {
      "cell_type": "code",
      "metadata": {
        "id": "FRkJMWd8YyIs",
        "colab_type": "code",
        "colab": {
          "base_uri": "https://localhost:8080/",
          "height": 34
        },
        "outputId": "9ea51c16-9b82-415a-9b8a-bd496bf47159"
      },
      "source": [
        "words[:10]"
      ],
      "execution_count": 9,
      "outputs": [
        {
          "output_type": "execute_result",
          "data": {
            "text/plain": [
              "['the', ',', '.', 'of', 'to', 'and', 'in', 'a', '\"', \"'s\"]"
            ]
          },
          "metadata": {
            "tags": []
          },
          "execution_count": 9
        }
      ]
    },
    {
      "cell_type": "code",
      "metadata": {
        "id": "QteV_m1tZtBz",
        "colab_type": "code",
        "colab": {
          "base_uri": "https://localhost:8080/",
          "height": 185
        },
        "outputId": "53064415-b857-4e81-e14c-9c4d554b5b8a"
      },
      "source": [
        "words[600:610]"
      ],
      "execution_count": 10,
      "outputs": [
        {
          "output_type": "execute_result",
          "data": {
            "text/plain": [
              "['together',\n",
              " 'congress',\n",
              " 'index',\n",
              " 'australia',\n",
              " 'results',\n",
              " 'hard',\n",
              " 'hours',\n",
              " 'land',\n",
              " 'action',\n",
              " 'higher']"
            ]
          },
          "metadata": {
            "tags": []
          },
          "execution_count": 10
        }
      ]
    },
    {
      "cell_type": "code",
      "metadata": {
        "id": "VCMAKDppZvUE",
        "colab_type": "code",
        "colab": {
          "base_uri": "https://localhost:8080/",
          "height": 34
        },
        "outputId": "eb64b23f-d371-41a9-b130-c738f0fc4669"
      },
      "source": [
        "wordidx['python']"
      ],
      "execution_count": 11,
      "outputs": [
        {
          "output_type": "execute_result",
          "data": {
            "text/plain": [
              "20019"
            ]
          },
          "metadata": {
            "tags": []
          },
          "execution_count": 11
        }
      ]
    },
    {
      "cell_type": "code",
      "metadata": {
        "id": "wVVWGzh1Zx1R",
        "colab_type": "code",
        "colab": {
          "base_uri": "https://localhost:8080/",
          "height": 34
        },
        "outputId": "1ec55938-5827-449a-9800-baf4a4c503c7"
      },
      "source": [
        "words[20019]"
      ],
      "execution_count": 12,
      "outputs": [
        {
          "output_type": "execute_result",
          "data": {
            "text/plain": [
              "'python'"
            ]
          },
          "metadata": {
            "tags": []
          },
          "execution_count": 12
        }
      ]
    },
    {
      "cell_type": "markdown",
      "metadata": {
        "id": "iv9--xYrZ1nX",
        "colab_type": "text"
      },
      "source": [
        "# 4)-Words as vectors"
      ]
    },
    {
      "cell_type": "code",
      "metadata": {
        "id": "1sBErLSGZzjn",
        "colab_type": "code",
        "colab": {
          "base_uri": "https://localhost:8080/",
          "height": 269
        },
        "outputId": "515ebd2e-8408-4eee-9717-5281f2802e02"
      },
      "source": [
        "vecs[wordidx['python']]"
      ],
      "execution_count": 13,
      "outputs": [
        {
          "output_type": "execute_result",
          "data": {
            "text/plain": [
              "array([ 0.2493,  0.6832, -0.0447, -1.3842, -0.0073,  0.651 , -0.3396,\n",
              "       -0.1979, -0.3392,  0.2669, -0.0331,  0.1592,  0.8955,  0.54  ,\n",
              "       -0.5582,  0.4624,  0.3672,  0.1889,  0.8319,  0.8142, -0.1183,\n",
              "       -0.5346,  0.2416, -0.0389,  1.1907,  0.7935, -0.1231,  0.6642,\n",
              "       -0.7762, -0.4571, -1.054 , -0.2056, -0.133 ,  0.1224,  0.8846,\n",
              "        1.024 ,  0.3229,  0.821 , -0.0694,  0.0242, -0.5142,  0.8727,\n",
              "        0.2576,  0.9153, -0.6422,  0.0412, -0.6021,  0.5463,  0.6608,\n",
              "        0.198 , -1.1393,  0.7951,  0.4597, -0.1846, -0.6413, -0.2493,\n",
              "       -0.4019, -0.5079,  0.8058,  0.5336,  0.5273,  0.3925, -0.2988,\n",
              "        0.0096,  0.9995, -0.0613,  0.7194,  0.329 , -0.0528,  0.6714,\n",
              "       -0.8025, -0.2579,  0.4961,  0.4808, -0.684 , -0.0122,  0.0482,\n",
              "        0.2946,  0.2061,  0.3356, -0.6417, -0.6471,  0.1338, -0.1257,\n",
              "       -0.4638,  1.3878,  0.9564, -0.0679, -0.0017,  0.5296,  0.4567,\n",
              "        0.6104, -0.1151,  0.4263,  0.1734, -0.7995, -0.245 , -0.6089,\n",
              "       -0.3847, -0.4797], dtype=float32)"
            ]
          },
          "metadata": {
            "tags": []
          },
          "execution_count": 13
        }
      ]
    },
    {
      "cell_type": "code",
      "metadata": {
        "id": "v57znj3cZ5RJ",
        "colab_type": "code",
        "colab": {}
      },
      "source": [
        "from scipy.spatial.distance import cosine as dist"
      ],
      "execution_count": 0,
      "outputs": []
    },
    {
      "cell_type": "code",
      "metadata": {
        "id": "m7ThGc0YZ7e2",
        "colab_type": "code",
        "colab": {
          "base_uri": "https://localhost:8080/",
          "height": 34
        },
        "outputId": "0688064a-2065-42e2-c882-f3fdf3d13bb5"
      },
      "source": [
        "dist(vecs[wordidx[\"puppy\"]], vecs[wordidx[\"dog\"]])"
      ],
      "execution_count": 15,
      "outputs": [
        {
          "output_type": "execute_result",
          "data": {
            "text/plain": [
              "0.27636247873306274"
            ]
          },
          "metadata": {
            "tags": []
          },
          "execution_count": 15
        }
      ]
    },
    {
      "cell_type": "code",
      "metadata": {
        "id": "tLxXrojxZ9KY",
        "colab_type": "code",
        "colab": {
          "base_uri": "https://localhost:8080/",
          "height": 34
        },
        "outputId": "99eee3ef-e351-4fc5-f9ba-2be8567a67f6"
      },
      "source": [
        "dist(vecs[wordidx[\"queen\"]], vecs[wordidx[\"princess\"]])"
      ],
      "execution_count": 16,
      "outputs": [
        {
          "output_type": "execute_result",
          "data": {
            "text/plain": [
              "0.20527541637420654"
            ]
          },
          "metadata": {
            "tags": []
          },
          "execution_count": 16
        }
      ]
    },
    {
      "cell_type": "code",
      "metadata": {
        "id": "ndLOcPSAZ_NG",
        "colab_type": "code",
        "colab": {
          "base_uri": "https://localhost:8080/",
          "height": 34
        },
        "outputId": "89f32454-9e7d-4490-d076-34dec0a68812"
      },
      "source": [
        "dist(vecs[wordidx[\"celebrity\"]], vecs[wordidx[\"dusty\"]])"
      ],
      "execution_count": 17,
      "outputs": [
        {
          "output_type": "execute_result",
          "data": {
            "text/plain": [
              "0.9883578838780522"
            ]
          },
          "metadata": {
            "tags": []
          },
          "execution_count": 17
        }
      ]
    },
    {
      "cell_type": "code",
      "metadata": {
        "id": "HciPk7mHaA9O",
        "colab_type": "code",
        "colab": {
          "base_uri": "https://localhost:8080/",
          "height": 34
        },
        "outputId": "7326379c-b067-477f-b70a-88241dd91ddb"
      },
      "source": [
        "dist(vecs[wordidx[\"avalanche\"]], vecs[wordidx[\"antique\"]])"
      ],
      "execution_count": 18,
      "outputs": [
        {
          "output_type": "execute_result",
          "data": {
            "text/plain": [
              "0.9621107056736946"
            ]
          },
          "metadata": {
            "tags": []
          },
          "execution_count": 18
        }
      ]
    },
    {
      "cell_type": "markdown",
      "metadata": {
        "id": "15YI4XM5aFAa",
        "colab_type": "text"
      },
      "source": [
        "### Bias"
      ]
    },
    {
      "cell_type": "code",
      "metadata": {
        "id": "MYwlGIB-aCxw",
        "colab_type": "code",
        "colab": {
          "base_uri": "https://localhost:8080/",
          "height": 34
        },
        "outputId": "d04187a5-818f-4862-880d-f70c6a316105"
      },
      "source": [
        "dist(vecs[wordidx[\"man\"]], vecs[wordidx[\"genius\"]])"
      ],
      "execution_count": 19,
      "outputs": [
        {
          "output_type": "execute_result",
          "data": {
            "text/plain": [
              "0.5098515152931213"
            ]
          },
          "metadata": {
            "tags": []
          },
          "execution_count": 19
        }
      ]
    },
    {
      "cell_type": "code",
      "metadata": {
        "id": "7rygF6S1aIEO",
        "colab_type": "code",
        "colab": {
          "base_uri": "https://localhost:8080/",
          "height": 34
        },
        "outputId": "1aa01b66-68b6-4350-8e4e-c0d394423749"
      },
      "source": [
        "dist(vecs[wordidx[\"woman\"]], vecs[wordidx[\"genius\"]])"
      ],
      "execution_count": 20,
      "outputs": [
        {
          "output_type": "execute_result",
          "data": {
            "text/plain": [
              "0.689783364534378"
            ]
          },
          "metadata": {
            "tags": []
          },
          "execution_count": 20
        }
      ]
    },
    {
      "cell_type": "markdown",
      "metadata": {
        "id": "hsIPawB7ahjA",
        "colab_type": "text"
      },
      "source": [
        "# 5)-Visualizations"
      ]
    },
    {
      "cell_type": "code",
      "metadata": {
        "id": "FtSj_aRjaKIS",
        "colab_type": "code",
        "colab": {}
      },
      "source": [
        "import plotly\n",
        "import plotly.graph_objs as go    \n",
        "from IPython.display import IFrame"
      ],
      "execution_count": 0,
      "outputs": []
    },
    {
      "cell_type": "code",
      "metadata": {
        "id": "ngwHq4z9alLw",
        "colab_type": "code",
        "colab": {}
      },
      "source": [
        "def plotly_3d(Y, cat_labels, filename=\"temp-plot.html\"):\n",
        "    trace_dict = {}\n",
        "    for i, label in enumerate(cat_labels):\n",
        "        trace_dict[i] = go.Scatter3d(\n",
        "            x=Y[i*5:(i+1)*5, 0],\n",
        "            y=Y[i*5:(i+1)*5, 1],\n",
        "            z=Y[i*5:(i+1)*5, 2],\n",
        "            mode='markers',\n",
        "            marker=dict(\n",
        "                size=8,\n",
        "                line=dict(\n",
        "                    color='rgba('+ str(i*40) + ',' + str(i*40) + ',' + str(i*40) + ', 0.14)',\n",
        "                    width=0.5\n",
        "                ),\n",
        "                opacity=0.8\n",
        "            ),\n",
        "            text = my_words[i*5:(i+1)*5],\n",
        "            name = label\n",
        "        )\n",
        "\n",
        "    data = [item for item in trace_dict.values()]\n",
        "    layout = go.Layout(\n",
        "        margin=dict(\n",
        "            l=0,\n",
        "            r=0,\n",
        "            b=0,\n",
        "            t=0\n",
        "        )\n",
        "    )\n",
        "\n",
        "    plotly.offline.plot({\n",
        "        \"data\": data,\n",
        "        \"layout\": layout,\n",
        "    }, filename=filename)"
      ],
      "execution_count": 0,
      "outputs": []
    },
    {
      "cell_type": "code",
      "metadata": {
        "id": "6b9TWOGWapIP",
        "colab_type": "code",
        "colab": {}
      },
      "source": [
        "def plotly_2d(Y, cat_labels, filename=\"temp-plot.html\"):\n",
        "    trace_dict = {}\n",
        "    for i, label in enumerate(cat_labels):\n",
        "        trace_dict[i] = go.Scatter(\n",
        "            x=Y[i*5:(i+1)*5, 0],\n",
        "            y=Y[i*5:(i+1)*5, 1],\n",
        "            mode='markers',\n",
        "            marker=dict(\n",
        "                size=8,\n",
        "                line=dict(\n",
        "                    color='rgba('+ str(i*40) + ',' + str(i*40) + ',' + str(i*40) + ', 0.14)',\n",
        "                    width=0.5\n",
        "                ),\n",
        "                opacity=0.8\n",
        "            ),\n",
        "            text = my_words[i*5:(i+1)*5],\n",
        "            name = label\n",
        "        )\n",
        "\n",
        "    data = [item for item in trace_dict.values()]\n",
        "    layout = go.Layout(\n",
        "        margin=dict(\n",
        "            l=0,\n",
        "            r=0,\n",
        "            b=0,\n",
        "            t=0\n",
        "        )\n",
        "    )\n",
        "\n",
        "    plotly.offline.plot({\n",
        "        \"data\": data,\n",
        "        \"layout\": layout\n",
        "    }, filename=filename)"
      ],
      "execution_count": 0,
      "outputs": []
    },
    {
      "cell_type": "code",
      "metadata": {
        "id": "q3nGyYhlarg0",
        "colab_type": "code",
        "colab": {}
      },
      "source": [
        "def get_components(data, categories, word_indices):\n",
        "    num_components = 30\n",
        "    pca = decomposition.PCA(n_components=num_components).fit(data.T)\n",
        "    all_components = pca.components_\n",
        "    centroids = {}\n",
        "    print(all_components.shape)\n",
        "    for i, category in enumerate(categories):\n",
        "        cen = np.mean(all_components[:, i*5:(i+1)*5], axis = 1)\n",
        "        dist_within_cats = np.sum(np.abs(np.expand_dims(cen, axis=1) - all_components[:, i*5:(i+1)*5]), axis=1)\n",
        "        centroids[category] = cen\n",
        "    dist_btwn_cats = np.zeros(num_components)\n",
        "    for category1, averages1 in centroids.items():\n",
        "        for category2, averages2 in centroids.items():\n",
        "            dist_btwn_cats += abs(averages1 - averages2)\n",
        "            clusterness = dist_btwn_cats / dist_within_cats\n",
        "    comp_indices = np.argpartition(clusterness, -3)[-3:]\n",
        "    return all_components[comp_indices]"
      ],
      "execution_count": 0,
      "outputs": []
    },
    {
      "cell_type": "code",
      "metadata": {
        "id": "niCAHfIkauC4",
        "colab_type": "code",
        "colab": {}
      },
      "source": [
        "# preparing data\n",
        "my_words = [\n",
        "            \"maggot\", \"flea\", \"tarantula\", \"bedbug\", \"mosquito\", \n",
        "            \"violin\", \"cello\", \"flute\", \"harp\", \"mandolin\",\n",
        "            \"joy\", \"love\", \"peace\", \"pleasure\", \"wonderful\",\n",
        "            \"agony\", \"terrible\", \"horrible\", \"nasty\", \"failure\", \n",
        "            \"physics\", \"chemistry\", \"science\", \"technology\", \"engineering\",\n",
        "            \"poetry\", \"art\", \"literature\", \"dance\", \"symphony\",\n",
        "           ]"
      ],
      "execution_count": 0,
      "outputs": []
    },
    {
      "cell_type": "code",
      "metadata": {
        "id": "hdeyB4Qyaz3I",
        "colab_type": "code",
        "colab": {}
      },
      "source": [
        "categories = [\n",
        "              \"bugs\", \"music\", \n",
        "              \"pleasant\", \"unpleasant\", \n",
        "              \"science\", \"arts\"\n",
        "             ]"
      ],
      "execution_count": 0,
      "outputs": []
    },
    {
      "cell_type": "code",
      "metadata": {
        "id": "RpumQEjwaz6U",
        "colab_type": "code",
        "colab": {}
      },
      "source": [
        "my_word_indices = np.array([wordidx[word] for word in my_words])"
      ],
      "execution_count": 0,
      "outputs": []
    },
    {
      "cell_type": "code",
      "metadata": {
        "id": "mRWxmaS_az80",
        "colab_type": "code",
        "colab": {
          "base_uri": "https://localhost:8080/",
          "height": 34
        },
        "outputId": "ca856f14-a095-4d56-b433-479a42baedc7"
      },
      "source": [
        "vecs[my_word_indices].shape"
      ],
      "execution_count": 28,
      "outputs": [
        {
          "output_type": "execute_result",
          "data": {
            "text/plain": [
              "(30, 100)"
            ]
          },
          "metadata": {
            "tags": []
          },
          "execution_count": 28
        }
      ]
    },
    {
      "cell_type": "code",
      "metadata": {
        "id": "rgqYYaX2awhU",
        "colab_type": "code",
        "colab": {
          "base_uri": "https://localhost:8080/",
          "height": 34
        },
        "outputId": "06febe45-e8f5-4f24-bedf-2d3f76e9924d"
      },
      "source": [
        "embeddings = np.concatenate((vecs[my_word_indices], vecs[:10000,:]), axis=0); embeddings.shape"
      ],
      "execution_count": 29,
      "outputs": [
        {
          "output_type": "execute_result",
          "data": {
            "text/plain": [
              "(10030, 100)"
            ]
          },
          "metadata": {
            "tags": []
          },
          "execution_count": 29
        }
      ]
    },
    {
      "cell_type": "markdown",
      "metadata": {
        "id": "B1IAu99_a9sG",
        "colab_type": "text"
      },
      "source": [
        "### 5.1)PCA "
      ]
    },
    {
      "cell_type": "code",
      "metadata": {
        "id": "7HYlNgGha7_P",
        "colab_type": "code",
        "colab": {}
      },
      "source": [
        "from collections import defaultdict\n",
        "from sklearn import decomposition"
      ],
      "execution_count": 0,
      "outputs": []
    },
    {
      "cell_type": "code",
      "metadata": {
        "id": "_YQWsEopbBT5",
        "colab_type": "code",
        "colab": {
          "base_uri": "https://localhost:8080/",
          "height": 34
        },
        "outputId": "fac24b5d-2319-4e2a-f6b3-ec8739067c7b"
      },
      "source": [
        "components = get_components(embeddings, categories, my_word_indices)\n",
        "plotly_3d(components.T[:len(my_words),:], categories, \"pca.html\")"
      ],
      "execution_count": 31,
      "outputs": [
        {
          "output_type": "stream",
          "text": [
            "(30, 10030)\n"
          ],
          "name": "stdout"
        }
      ]
    },
    {
      "cell_type": "code",
      "metadata": {
        "id": "EyOMMjClbDGV",
        "colab_type": "code",
        "colab": {
          "base_uri": "https://localhost:8080/",
          "height": 421
        },
        "outputId": "5e4823c8-8895-42e1-91fb-0a439bf1bc73"
      },
      "source": [
        "IFrame('pca.html', width=600, height=400)"
      ],
      "execution_count": 32,
      "outputs": [
        {
          "output_type": "execute_result",
          "data": {
            "text/html": [
              "\n",
              "        <iframe\n",
              "            width=\"600\"\n",
              "            height=\"400\"\n",
              "            src=\"pca.html\"\n",
              "            frameborder=\"0\"\n",
              "            allowfullscreen\n",
              "        ></iframe>\n",
              "        "
            ],
            "text/plain": [
              "<IPython.lib.display.IFrame at 0x7f770ec0b048>"
            ]
          },
          "metadata": {
            "tags": []
          },
          "execution_count": 32
        }
      ]
    },
    {
      "cell_type": "markdown",
      "metadata": {
        "id": "o0EbujAQb9Op",
        "colab_type": "text"
      },
      "source": [
        "### 5.2)- Random Projections\n",
        "\n",
        "- Johnson-Lindenstrauss Lemma: \n",
        "\n",
        "a small set of points in a high-dimensional space can be embedded into a space of much lower dimension in such a way that distances between the points are nearly preserved (proof uses random projections).\n",
        "\n",
        "It is useful to be able to reduce dimensionality of data in a way that preserves distances. The Johnson–Lindenstrauss lemma is a classic result of this type."
      ]
    },
    {
      "cell_type": "code",
      "metadata": {
        "id": "fgYJiwP8cDpQ",
        "colab_type": "code",
        "colab": {
          "base_uri": "https://localhost:8080/",
          "height": 34
        },
        "outputId": "3790fff0-916b-42c8-b898-7d0d741dce2e"
      },
      "source": [
        "embeddings.shape"
      ],
      "execution_count": 33,
      "outputs": [
        {
          "output_type": "execute_result",
          "data": {
            "text/plain": [
              "(10030, 100)"
            ]
          },
          "metadata": {
            "tags": []
          },
          "execution_count": 33
        }
      ]
    },
    {
      "cell_type": "code",
      "metadata": {
        "id": "1J9OiIwpcFwz",
        "colab_type": "code",
        "colab": {
          "base_uri": "https://localhost:8080/",
          "height": 34
        },
        "outputId": "5b4cf4f4-a570-48e3-8b23-87a1b43341d0"
      },
      "source": [
        "rand_proj = embeddings @ np.random.normal(size=(embeddings.shape[1], 40)); rand_proj.shape"
      ],
      "execution_count": 34,
      "outputs": [
        {
          "output_type": "execute_result",
          "data": {
            "text/plain": [
              "(10030, 40)"
            ]
          },
          "metadata": {
            "tags": []
          },
          "execution_count": 34
        }
      ]
    },
    {
      "cell_type": "code",
      "metadata": {
        "id": "CceEnsZ7cHnu",
        "colab_type": "code",
        "colab": {
          "base_uri": "https://localhost:8080/",
          "height": 34
        },
        "outputId": "59a0b4fd-64f0-4184-ef0a-926f8fe36b93"
      },
      "source": [
        "pca = decomposition.PCA(n_components=3).fit(rand_proj.T)\n",
        "components = pca.components_\n",
        "components = get_components(rand_proj, categories, my_word_indices)\n",
        "plotly_3d(components.T[:len(my_words),:], categories, \"pca-rand-proj.html\")"
      ],
      "execution_count": 35,
      "outputs": [
        {
          "output_type": "stream",
          "text": [
            "(30, 10030)\n"
          ],
          "name": "stdout"
        }
      ]
    },
    {
      "cell_type": "code",
      "metadata": {
        "id": "80Pe3geTcLOy",
        "colab_type": "code",
        "colab": {
          "base_uri": "https://localhost:8080/",
          "height": 421
        },
        "outputId": "b3b50204-c5e7-4a94-f4f7-a6998ea7690e"
      },
      "source": [
        "IFrame('pca-rand-proj.html', width=600, height=400)"
      ],
      "execution_count": 36,
      "outputs": [
        {
          "output_type": "execute_result",
          "data": {
            "text/html": [
              "\n",
              "        <iframe\n",
              "            width=\"600\"\n",
              "            height=\"400\"\n",
              "            src=\"pca-rand-proj.html\"\n",
              "            frameborder=\"0\"\n",
              "            allowfullscreen\n",
              "        ></iframe>\n",
              "        "
            ],
            "text/plain": [
              "<IPython.lib.display.IFrame at 0x7f7703bf4c18>"
            ]
          },
          "metadata": {
            "tags": []
          },
          "execution_count": 36
        }
      ]
    }
  ]
}