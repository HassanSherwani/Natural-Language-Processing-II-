{
  "nbformat": 4,
  "nbformat_minor": 0,
  "metadata": {
    "colab": {
      "name": "c.NER_nltk(1).ipynb",
      "provenance": [],
      "collapsed_sections": []
    },
    "kernelspec": {
      "name": "python3",
      "display_name": "Python 3"
    },
    "language_info": {
      "codemirror_mode": {
        "name": "ipython",
        "version": 3
      },
      "file_extension": ".py",
      "mimetype": "text/x-python",
      "name": "python",
      "nbconvert_exporter": "python",
      "pygments_lexer": "ipython3",
      "version": "3.6.3"
    },
    "accelerator": "GPU"
  },
  "cells": [
    {
      "cell_type": "markdown",
      "metadata": {
        "colab_type": "text",
        "id": "L5WEerzzSeID"
      },
      "source": [
        "# Named Entity Recognition\n",
        "- using nltk"
      ]
    },
    {
      "cell_type": "markdown",
      "metadata": {
        "colab_type": "text",
        "id": "vnDcCpN-Sw9d"
      },
      "source": [
        "# 1)- Importing key modules"
      ]
    },
    {
      "cell_type": "code",
      "metadata": {
        "colab_type": "code",
        "id": "ormhGRA1SkYP",
        "colab": {}
      },
      "source": [
        "#support both Python 2 and Python 3 with minimal overhead.\n",
        "from __future__ import absolute_import, division, print_function\n",
        "\n",
        "# I am an engineer. I care only about error not warning. So, let's be maverick and ignore warnings.\n",
        "import warnings\n",
        "warnings.filterwarnings('ignore')"
      ],
      "execution_count": 0,
      "outputs": []
    },
    {
      "cell_type": "code",
      "metadata": {
        "colab_type": "code",
        "id": "ffmlRA40S1bS",
        "colab": {}
      },
      "source": [
        "# For data processing and maths\n",
        "\n",
        "import pandas as pd\n",
        "#For Visuals\n",
        "import matplotlib.pyplot as plt\n",
        "import seaborn as sns\n",
        "sns.set()\n",
        "from matplotlib import rcParams\n",
        "rcParams['figure.figsize'] = 11, 8\n",
        "%config InlineBackend.figure_format = 'svg'\n",
        "%matplotlib inline"
      ],
      "execution_count": 0,
      "outputs": []
    },
    {
      "cell_type": "code",
      "metadata": {
        "id": "idwYxVfvlP86",
        "colab_type": "code",
        "colab": {}
      },
      "source": [
        "# For text we shall use nltk\n",
        "\n",
        "import nltk\n",
        "from nltk.tokenize import word_tokenize\n",
        "from nltk.tag import pos_tag\n",
        "from nltk.chunk import ne_chunk"
      ],
      "execution_count": 0,
      "outputs": []
    },
    {
      "cell_type": "code",
      "metadata": {
        "id": "DdM1Hu5n0YxI",
        "colab_type": "code",
        "colab": {
          "base_uri": "https://localhost:8080/",
          "height": 67
        },
        "outputId": "eae9b512-96bf-42ac-da6f-c412c4d4db1b"
      },
      "source": [
        "nltk.download('punkt')"
      ],
      "execution_count": 4,
      "outputs": [
        {
          "output_type": "stream",
          "text": [
            "[nltk_data] Downloading package punkt to /root/nltk_data...\n",
            "[nltk_data]   Package punkt is already up-to-date!\n"
          ],
          "name": "stdout"
        },
        {
          "output_type": "execute_result",
          "data": {
            "text/plain": [
              "True"
            ]
          },
          "metadata": {
            "tags": []
          },
          "execution_count": 4
        }
      ]
    },
    {
      "cell_type": "code",
      "metadata": {
        "id": "-EdOW2fx0f3x",
        "colab_type": "code",
        "colab": {
          "base_uri": "https://localhost:8080/",
          "height": 101
        },
        "outputId": "6ac4df1d-5d4e-4d31-a2a4-6c507e1200ac"
      },
      "source": [
        "nltk.download('averaged_perceptron_tagger')"
      ],
      "execution_count": 5,
      "outputs": [
        {
          "output_type": "stream",
          "text": [
            "[nltk_data] Downloading package averaged_perceptron_tagger to\n",
            "[nltk_data]     /root/nltk_data...\n",
            "[nltk_data]   Package averaged_perceptron_tagger is already up-to-\n",
            "[nltk_data]       date!\n"
          ],
          "name": "stdout"
        },
        {
          "output_type": "execute_result",
          "data": {
            "text/plain": [
              "True"
            ]
          },
          "metadata": {
            "tags": []
          },
          "execution_count": 5
        }
      ]
    },
    {
      "cell_type": "code",
      "metadata": {
        "colab_type": "code",
        "id": "rNbXWUUTTLOV",
        "outputId": "433e37d0-181d-41c3-fcfc-b468217e522e",
        "colab": {
          "base_uri": "https://localhost:8080/",
          "height": 34
        }
      },
      "source": [
        "! pip install version_information"
      ],
      "execution_count": 6,
      "outputs": [
        {
          "output_type": "stream",
          "text": [
            "Requirement already satisfied: version_information in /usr/local/lib/python3.6/dist-packages (1.0.3)\n"
          ],
          "name": "stdout"
        }
      ]
    },
    {
      "cell_type": "code",
      "metadata": {
        "colab_type": "code",
        "id": "WRJECjnJTOyF",
        "outputId": "31dfc085-000d-44d1-f1c8-bc40560eebb6",
        "colab": {
          "base_uri": "https://localhost:8080/",
          "height": 198
        }
      },
      "source": [
        "# first install: pip install version_information\n",
        "%reload_ext version_information\n",
        "%version_information pandas,nltk,seaborn, matplotlib"
      ],
      "execution_count": 7,
      "outputs": [
        {
          "output_type": "execute_result",
          "data": {
            "text/latex": "\\begin{tabular}{|l|l|}\\hline\n{\\bf Software} & {\\bf Version} \\\\ \\hline\\hline\nPython & 3.6.8 64bit [GCC 8.3.0] \\\\ \\hline\nIPython & 5.5.0 \\\\ \\hline\nOS & Linux 4.14.137+ x86\\_64 with Ubuntu 18.04 bionic \\\\ \\hline\npandas & 0.25.3 \\\\ \\hline\nnltk & 3.2.5 \\\\ \\hline\nseaborn & 0.9.0 \\\\ \\hline\nmatplotlib & 3.1.1 \\\\ \\hline\n\\hline \\multicolumn{2}{|l|}{Mon Nov 25 00:02:14 2019 UTC} \\\\ \\hline\n\\end{tabular}\n",
            "application/json": {
              "Software versions": [
                {
                  "version": "3.6.8 64bit [GCC 8.3.0]",
                  "module": "Python"
                },
                {
                  "version": "5.5.0",
                  "module": "IPython"
                },
                {
                  "version": "Linux 4.14.137+ x86_64 with Ubuntu 18.04 bionic",
                  "module": "OS"
                },
                {
                  "version": "0.25.3",
                  "module": "pandas"
                },
                {
                  "version": "3.2.5",
                  "module": "nltk"
                },
                {
                  "version": "0.9.0",
                  "module": "seaborn"
                },
                {
                  "version": "3.1.1",
                  "module": "matplotlib"
                }
              ]
            },
            "text/html": [
              "<table><tr><th>Software</th><th>Version</th></tr><tr><td>Python</td><td>3.6.8 64bit [GCC 8.3.0]</td></tr><tr><td>IPython</td><td>5.5.0</td></tr><tr><td>OS</td><td>Linux 4.14.137+ x86_64 with Ubuntu 18.04 bionic</td></tr><tr><td>pandas</td><td>0.25.3</td></tr><tr><td>nltk</td><td>3.2.5</td></tr><tr><td>seaborn</td><td>0.9.0</td></tr><tr><td>matplotlib</td><td>3.1.1</td></tr><tr><td colspan='2'>Mon Nov 25 00:02:14 2019 UTC</td></tr></table>"
            ],
            "text/plain": [
              "Software versions\n",
              "Python 3.6.8 64bit [GCC 8.3.0]\n",
              "IPython 5.5.0\n",
              "OS Linux 4.14.137+ x86_64 with Ubuntu 18.04 bionic\n",
              "pandas 0.25.3\n",
              "nltk 3.2.5\n",
              "seaborn 0.9.0\n",
              "matplotlib 3.1.1\n",
              "Mon Nov 25 00:02:14 2019 UTC"
            ]
          },
          "metadata": {
            "tags": []
          },
          "execution_count": 7
        }
      ]
    },
    {
      "cell_type": "markdown",
      "metadata": {
        "id": "oIY_Q1yip4I0",
        "colab_type": "text"
      },
      "source": [
        "# 2)- Getting Data"
      ]
    },
    {
      "cell_type": "code",
      "metadata": {
        "id": "ARbNZYPB9jyv",
        "colab_type": "code",
        "colab": {}
      },
      "source": [
        "text_select=(\"\"\"The Gabba remained unbreached as Australia wrapped up a win within four days, kickstarting their summer on a bright note.\" \n",
        "Pakistan, who made Australia work hard for that win on Sunday (November 24), were bowled out eventually for 355, conceding a win by an innings and 5 runs in Brisbane. \n",
        "This was Pakistan's fifth consecutive loss away from home, while Australia maintained their unbeaten record at the Gabba, not having lost a Test here since 1988.\"\"\")"
      ],
      "execution_count": 0,
      "outputs": []
    },
    {
      "cell_type": "code",
      "metadata": {
        "id": "S8R6vXFoB6Dg",
        "colab_type": "code",
        "outputId": "e74b9910-bf4c-465f-941b-8083e52e54b0",
        "colab": {
          "base_uri": "https://localhost:8080/",
          "height": 34
        }
      },
      "source": [
        "type(text_select)"
      ],
      "execution_count": 9,
      "outputs": [
        {
          "output_type": "execute_result",
          "data": {
            "text/plain": [
              "str"
            ]
          },
          "metadata": {
            "tags": []
          },
          "execution_count": 9
        }
      ]
    },
    {
      "cell_type": "code",
      "metadata": {
        "id": "EfX7u3Yr-Cns",
        "colab_type": "code",
        "outputId": "f803556f-326b-48a8-b24d-18c15d0bbd93",
        "colab": {
          "base_uri": "https://localhost:8080/",
          "height": 54
        }
      },
      "source": [
        "text_select"
      ],
      "execution_count": 10,
      "outputs": [
        {
          "output_type": "execute_result",
          "data": {
            "text/plain": [
              "'The Gabba remained unbreached as Australia wrapped up a win within four days, kickstarting their summer on a bright note.\" \\nPakistan, who made Australia work hard for that win on Sunday (November 24), were bowled out eventually for 355, conceding a win by an innings and 5 runs in Brisbane. \\nThis was Pakistan\\'s fifth consecutive loss away from home, while Australia maintained their unbeaten record at the Gabba, not having lost a Test here since 1988.'"
            ]
          },
          "metadata": {
            "tags": []
          },
          "execution_count": 10
        }
      ]
    },
    {
      "cell_type": "code",
      "metadata": {
        "id": "RZQWcEEt2COo",
        "colab_type": "code",
        "colab": {}
      },
      "source": [
        "ne_tree = ne_chunk(pos_tag(word_tokenize(text_select)))"
      ],
      "execution_count": 0,
      "outputs": []
    },
    {
      "cell_type": "code",
      "metadata": {
        "id": "l7OuA7262CSj",
        "colab_type": "code",
        "colab": {
          "base_uri": "https://localhost:8080/",
          "height": 1000
        },
        "outputId": "e8cd0239-abdb-4cb0-bc3b-942bffd7db9b"
      },
      "source": [
        "print(ne_tree)"
      ],
      "execution_count": 12,
      "outputs": [
        {
          "output_type": "stream",
          "text": [
            "(S\n",
            "  The/DT\n",
            "  (PERSON Gabba/NNP)\n",
            "  remained/VBD\n",
            "  unbreached/JJ\n",
            "  as/IN\n",
            "  (GPE Australia/NNP)\n",
            "  wrapped/VBD\n",
            "  up/RP\n",
            "  a/DT\n",
            "  win/NN\n",
            "  within/IN\n",
            "  four/CD\n",
            "  days/NNS\n",
            "  ,/,\n",
            "  kickstarting/VBG\n",
            "  their/PRP$\n",
            "  summer/NN\n",
            "  on/IN\n",
            "  a/DT\n",
            "  bright/JJ\n",
            "  note/NN\n",
            "  ./.\n",
            "  ''/''\n",
            "  (GPE Pakistan/NNP)\n",
            "  ,/,\n",
            "  who/WP\n",
            "  made/VBD\n",
            "  (GPE Australia/NNP)\n",
            "  work/VB\n",
            "  hard/RB\n",
            "  for/IN\n",
            "  that/DT\n",
            "  win/NN\n",
            "  on/IN\n",
            "  Sunday/NNP\n",
            "  (/(\n",
            "  November/NNP\n",
            "  24/CD\n",
            "  )/)\n",
            "  ,/,\n",
            "  were/VBD\n",
            "  bowled/VBN\n",
            "  out/RP\n",
            "  eventually/RB\n",
            "  for/IN\n",
            "  355/CD\n",
            "  ,/,\n",
            "  conceding/VBG\n",
            "  a/DT\n",
            "  win/NN\n",
            "  by/IN\n",
            "  an/DT\n",
            "  innings/NNS\n",
            "  and/CC\n",
            "  5/CD\n",
            "  runs/NNS\n",
            "  in/IN\n",
            "  (GPE Brisbane/NNP)\n",
            "  ./.\n",
            "  This/DT\n",
            "  was/VBD\n",
            "  (GPE Pakistan/NNP)\n",
            "  's/POS\n",
            "  fifth/JJ\n",
            "  consecutive/JJ\n",
            "  loss/NN\n",
            "  away/RB\n",
            "  from/IN\n",
            "  home/NN\n",
            "  ,/,\n",
            "  while/IN\n",
            "  (GPE Australia/NNP)\n",
            "  maintained/VBD\n",
            "  their/PRP$\n",
            "  unbeaten/JJ\n",
            "  record/NN\n",
            "  at/IN\n",
            "  the/DT\n",
            "  (GPE Gabba/NNP)\n",
            "  ,/,\n",
            "  not/RB\n",
            "  having/VBG\n",
            "  lost/VBN\n",
            "  a/DT\n",
            "  Test/NN\n",
            "  here/RB\n",
            "  since/IN\n",
            "  1988/CD\n",
            "  ./.)\n"
          ],
          "name": "stdout"
        }
      ]
    },
    {
      "cell_type": "code",
      "metadata": {
        "id": "cGOAg6wI0PJ6",
        "colab_type": "code",
        "colab": {}
      },
      "source": [
        "def preprocess(sent):\n",
        "    sent = nltk.word_tokenize(sent)\n",
        "    sent = nltk.pos_tag(sent)\n",
        "    return sent"
      ],
      "execution_count": 0,
      "outputs": []
    },
    {
      "cell_type": "code",
      "metadata": {
        "id": "LkLeOoK20PNB",
        "colab_type": "code",
        "colab": {
          "base_uri": "https://localhost:8080/",
          "height": 1000
        },
        "outputId": "059ee599-f24a-4a3a-e22a-b57bf58549c5"
      },
      "source": [
        "sent = preprocess(text_select)\n",
        "sent"
      ],
      "execution_count": 14,
      "outputs": [
        {
          "output_type": "execute_result",
          "data": {
            "text/plain": [
              "[('The', 'DT'),\n",
              " ('Gabba', 'NNP'),\n",
              " ('remained', 'VBD'),\n",
              " ('unbreached', 'JJ'),\n",
              " ('as', 'IN'),\n",
              " ('Australia', 'NNP'),\n",
              " ('wrapped', 'VBD'),\n",
              " ('up', 'RP'),\n",
              " ('a', 'DT'),\n",
              " ('win', 'NN'),\n",
              " ('within', 'IN'),\n",
              " ('four', 'CD'),\n",
              " ('days', 'NNS'),\n",
              " (',', ','),\n",
              " ('kickstarting', 'VBG'),\n",
              " ('their', 'PRP$'),\n",
              " ('summer', 'NN'),\n",
              " ('on', 'IN'),\n",
              " ('a', 'DT'),\n",
              " ('bright', 'JJ'),\n",
              " ('note', 'NN'),\n",
              " ('.', '.'),\n",
              " (\"''\", \"''\"),\n",
              " ('Pakistan', 'NNP'),\n",
              " (',', ','),\n",
              " ('who', 'WP'),\n",
              " ('made', 'VBD'),\n",
              " ('Australia', 'NNP'),\n",
              " ('work', 'VB'),\n",
              " ('hard', 'RB'),\n",
              " ('for', 'IN'),\n",
              " ('that', 'DT'),\n",
              " ('win', 'NN'),\n",
              " ('on', 'IN'),\n",
              " ('Sunday', 'NNP'),\n",
              " ('(', '('),\n",
              " ('November', 'NNP'),\n",
              " ('24', 'CD'),\n",
              " (')', ')'),\n",
              " (',', ','),\n",
              " ('were', 'VBD'),\n",
              " ('bowled', 'VBN'),\n",
              " ('out', 'RP'),\n",
              " ('eventually', 'RB'),\n",
              " ('for', 'IN'),\n",
              " ('355', 'CD'),\n",
              " (',', ','),\n",
              " ('conceding', 'VBG'),\n",
              " ('a', 'DT'),\n",
              " ('win', 'NN'),\n",
              " ('by', 'IN'),\n",
              " ('an', 'DT'),\n",
              " ('innings', 'NNS'),\n",
              " ('and', 'CC'),\n",
              " ('5', 'CD'),\n",
              " ('runs', 'NNS'),\n",
              " ('in', 'IN'),\n",
              " ('Brisbane', 'NNP'),\n",
              " ('.', '.'),\n",
              " ('This', 'DT'),\n",
              " ('was', 'VBD'),\n",
              " ('Pakistan', 'NNP'),\n",
              " (\"'s\", 'POS'),\n",
              " ('fifth', 'JJ'),\n",
              " ('consecutive', 'JJ'),\n",
              " ('loss', 'NN'),\n",
              " ('away', 'RB'),\n",
              " ('from', 'IN'),\n",
              " ('home', 'NN'),\n",
              " (',', ','),\n",
              " ('while', 'IN'),\n",
              " ('Australia', 'NNP'),\n",
              " ('maintained', 'VBD'),\n",
              " ('their', 'PRP$'),\n",
              " ('unbeaten', 'JJ'),\n",
              " ('record', 'NN'),\n",
              " ('at', 'IN'),\n",
              " ('the', 'DT'),\n",
              " ('Gabba', 'NNP'),\n",
              " (',', ','),\n",
              " ('not', 'RB'),\n",
              " ('having', 'VBG'),\n",
              " ('lost', 'VBN'),\n",
              " ('a', 'DT'),\n",
              " ('Test', 'NN'),\n",
              " ('here', 'RB'),\n",
              " ('since', 'IN'),\n",
              " ('1988', 'CD'),\n",
              " ('.', '.')]"
            ]
          },
          "metadata": {
            "tags": []
          },
          "execution_count": 14
        }
      ]
    },
    {
      "cell_type": "code",
      "metadata": {
        "id": "t31pRHzb0PP_",
        "colab_type": "code",
        "colab": {}
      },
      "source": [
        "pattern = 'NP: {<DT>?<JJ>*<NN>}'"
      ],
      "execution_count": 0,
      "outputs": []
    },
    {
      "cell_type": "code",
      "metadata": {
        "id": "8jq0sORt0PSa",
        "colab_type": "code",
        "colab": {
          "base_uri": "https://localhost:8080/",
          "height": 1000
        },
        "outputId": "f438cfa4-ad64-435d-9b16-ad15433dd40d"
      },
      "source": [
        "cp = nltk.RegexpParser(pattern)\n",
        "cs = cp.parse(sent)\n",
        "print(cs)"
      ],
      "execution_count": 16,
      "outputs": [
        {
          "output_type": "stream",
          "text": [
            "(S\n",
            "  The/DT\n",
            "  Gabba/NNP\n",
            "  remained/VBD\n",
            "  unbreached/JJ\n",
            "  as/IN\n",
            "  Australia/NNP\n",
            "  wrapped/VBD\n",
            "  up/RP\n",
            "  (NP a/DT win/NN)\n",
            "  within/IN\n",
            "  four/CD\n",
            "  days/NNS\n",
            "  ,/,\n",
            "  kickstarting/VBG\n",
            "  their/PRP$\n",
            "  (NP summer/NN)\n",
            "  on/IN\n",
            "  (NP a/DT bright/JJ note/NN)\n",
            "  ./.\n",
            "  ''/''\n",
            "  Pakistan/NNP\n",
            "  ,/,\n",
            "  who/WP\n",
            "  made/VBD\n",
            "  Australia/NNP\n",
            "  work/VB\n",
            "  hard/RB\n",
            "  for/IN\n",
            "  (NP that/DT win/NN)\n",
            "  on/IN\n",
            "  Sunday/NNP\n",
            "  (/(\n",
            "  November/NNP\n",
            "  24/CD\n",
            "  )/)\n",
            "  ,/,\n",
            "  were/VBD\n",
            "  bowled/VBN\n",
            "  out/RP\n",
            "  eventually/RB\n",
            "  for/IN\n",
            "  355/CD\n",
            "  ,/,\n",
            "  conceding/VBG\n",
            "  (NP a/DT win/NN)\n",
            "  by/IN\n",
            "  an/DT\n",
            "  innings/NNS\n",
            "  and/CC\n",
            "  5/CD\n",
            "  runs/NNS\n",
            "  in/IN\n",
            "  Brisbane/NNP\n",
            "  ./.\n",
            "  This/DT\n",
            "  was/VBD\n",
            "  Pakistan/NNP\n",
            "  's/POS\n",
            "  (NP fifth/JJ consecutive/JJ loss/NN)\n",
            "  away/RB\n",
            "  from/IN\n",
            "  (NP home/NN)\n",
            "  ,/,\n",
            "  while/IN\n",
            "  Australia/NNP\n",
            "  maintained/VBD\n",
            "  their/PRP$\n",
            "  (NP unbeaten/JJ record/NN)\n",
            "  at/IN\n",
            "  the/DT\n",
            "  Gabba/NNP\n",
            "  ,/,\n",
            "  not/RB\n",
            "  having/VBG\n",
            "  lost/VBN\n",
            "  (NP a/DT Test/NN)\n",
            "  here/RB\n",
            "  since/IN\n",
            "  1988/CD\n",
            "  ./.)\n"
          ],
          "name": "stdout"
        }
      ]
    },
    {
      "cell_type": "code",
      "metadata": {
        "id": "vrcecueP3Bef",
        "colab_type": "code",
        "colab": {
          "base_uri": "https://localhost:8080/",
          "height": 337
        },
        "outputId": "98b8d206-f375-4054-c374-5df819b0d1b0"
      },
      "source": [
        "NPChunker = nltk.RegexpParser(pattern) \n",
        "result = NPChunker.parse(sent)\n",
        "result.draw()"
      ],
      "execution_count": 17,
      "outputs": [
        {
          "output_type": "error",
          "ename": "TclError",
          "evalue": "ignored",
          "traceback": [
            "\u001b[0;31m---------------------------------------------------------------------------\u001b[0m",
            "\u001b[0;31mTclError\u001b[0m                                  Traceback (most recent call last)",
            "\u001b[0;32m<ipython-input-17-ef9db3d1c363>\u001b[0m in \u001b[0;36m<module>\u001b[0;34m()\u001b[0m\n\u001b[1;32m      1\u001b[0m \u001b[0mNPChunker\u001b[0m \u001b[0;34m=\u001b[0m \u001b[0mnltk\u001b[0m\u001b[0;34m.\u001b[0m\u001b[0mRegexpParser\u001b[0m\u001b[0;34m(\u001b[0m\u001b[0mpattern\u001b[0m\u001b[0;34m)\u001b[0m\u001b[0;34m\u001b[0m\u001b[0;34m\u001b[0m\u001b[0m\n\u001b[1;32m      2\u001b[0m \u001b[0mresult\u001b[0m \u001b[0;34m=\u001b[0m \u001b[0mNPChunker\u001b[0m\u001b[0;34m.\u001b[0m\u001b[0mparse\u001b[0m\u001b[0;34m(\u001b[0m\u001b[0msent\u001b[0m\u001b[0;34m)\u001b[0m\u001b[0;34m\u001b[0m\u001b[0;34m\u001b[0m\u001b[0m\n\u001b[0;32m----> 3\u001b[0;31m \u001b[0mresult\u001b[0m\u001b[0;34m.\u001b[0m\u001b[0mdraw\u001b[0m\u001b[0;34m(\u001b[0m\u001b[0;34m)\u001b[0m\u001b[0;34m\u001b[0m\u001b[0;34m\u001b[0m\u001b[0m\n\u001b[0m",
            "\u001b[0;32m/usr/local/lib/python3.6/dist-packages/nltk/tree.py\u001b[0m in \u001b[0;36mdraw\u001b[0;34m(self)\u001b[0m\n\u001b[1;32m    688\u001b[0m         \"\"\"\n\u001b[1;32m    689\u001b[0m         \u001b[0;32mfrom\u001b[0m \u001b[0mnltk\u001b[0m\u001b[0;34m.\u001b[0m\u001b[0mdraw\u001b[0m\u001b[0;34m.\u001b[0m\u001b[0mtree\u001b[0m \u001b[0;32mimport\u001b[0m \u001b[0mdraw_trees\u001b[0m\u001b[0;34m\u001b[0m\u001b[0;34m\u001b[0m\u001b[0m\n\u001b[0;32m--> 690\u001b[0;31m         \u001b[0mdraw_trees\u001b[0m\u001b[0;34m(\u001b[0m\u001b[0mself\u001b[0m\u001b[0;34m)\u001b[0m\u001b[0;34m\u001b[0m\u001b[0;34m\u001b[0m\u001b[0m\n\u001b[0m\u001b[1;32m    691\u001b[0m \u001b[0;34m\u001b[0m\u001b[0m\n\u001b[1;32m    692\u001b[0m     \u001b[0;32mdef\u001b[0m \u001b[0mpretty_print\u001b[0m\u001b[0;34m(\u001b[0m\u001b[0mself\u001b[0m\u001b[0;34m,\u001b[0m \u001b[0msentence\u001b[0m\u001b[0;34m=\u001b[0m\u001b[0;32mNone\u001b[0m\u001b[0;34m,\u001b[0m \u001b[0mhighlight\u001b[0m\u001b[0;34m=\u001b[0m\u001b[0;34m(\u001b[0m\u001b[0;34m)\u001b[0m\u001b[0;34m,\u001b[0m \u001b[0mstream\u001b[0m\u001b[0;34m=\u001b[0m\u001b[0;32mNone\u001b[0m\u001b[0;34m,\u001b[0m \u001b[0;34m**\u001b[0m\u001b[0mkwargs\u001b[0m\u001b[0;34m)\u001b[0m\u001b[0;34m:\u001b[0m\u001b[0;34m\u001b[0m\u001b[0;34m\u001b[0m\u001b[0m\n",
            "\u001b[0;32m/usr/local/lib/python3.6/dist-packages/nltk/draw/tree.py\u001b[0m in \u001b[0;36mdraw_trees\u001b[0;34m(*trees)\u001b[0m\n\u001b[1;32m    861\u001b[0m     \u001b[0;34m:\u001b[0m\u001b[0mrtype\u001b[0m\u001b[0;34m:\u001b[0m \u001b[0;32mNone\u001b[0m\u001b[0;34m\u001b[0m\u001b[0;34m\u001b[0m\u001b[0m\n\u001b[1;32m    862\u001b[0m     \"\"\"\n\u001b[0;32m--> 863\u001b[0;31m     \u001b[0mTreeView\u001b[0m\u001b[0;34m(\u001b[0m\u001b[0;34m*\u001b[0m\u001b[0mtrees\u001b[0m\u001b[0;34m)\u001b[0m\u001b[0;34m.\u001b[0m\u001b[0mmainloop\u001b[0m\u001b[0;34m(\u001b[0m\u001b[0;34m)\u001b[0m\u001b[0;34m\u001b[0m\u001b[0;34m\u001b[0m\u001b[0m\n\u001b[0m\u001b[1;32m    864\u001b[0m     \u001b[0;32mreturn\u001b[0m\u001b[0;34m\u001b[0m\u001b[0;34m\u001b[0m\u001b[0m\n\u001b[1;32m    865\u001b[0m \u001b[0;34m\u001b[0m\u001b[0m\n",
            "\u001b[0;32m/usr/local/lib/python3.6/dist-packages/nltk/draw/tree.py\u001b[0m in \u001b[0;36m__init__\u001b[0;34m(self, *trees)\u001b[0m\n\u001b[1;32m    754\u001b[0m         \u001b[0mself\u001b[0m\u001b[0;34m.\u001b[0m\u001b[0m_trees\u001b[0m \u001b[0;34m=\u001b[0m \u001b[0mtrees\u001b[0m\u001b[0;34m\u001b[0m\u001b[0;34m\u001b[0m\u001b[0m\n\u001b[1;32m    755\u001b[0m \u001b[0;34m\u001b[0m\u001b[0m\n\u001b[0;32m--> 756\u001b[0;31m         \u001b[0mself\u001b[0m\u001b[0;34m.\u001b[0m\u001b[0m_top\u001b[0m \u001b[0;34m=\u001b[0m \u001b[0mTk\u001b[0m\u001b[0;34m(\u001b[0m\u001b[0;34m)\u001b[0m\u001b[0;34m\u001b[0m\u001b[0;34m\u001b[0m\u001b[0m\n\u001b[0m\u001b[1;32m    757\u001b[0m         \u001b[0mself\u001b[0m\u001b[0;34m.\u001b[0m\u001b[0m_top\u001b[0m\u001b[0;34m.\u001b[0m\u001b[0mtitle\u001b[0m\u001b[0;34m(\u001b[0m\u001b[0;34m'NLTK'\u001b[0m\u001b[0;34m)\u001b[0m\u001b[0;34m\u001b[0m\u001b[0;34m\u001b[0m\u001b[0m\n\u001b[1;32m    758\u001b[0m         \u001b[0mself\u001b[0m\u001b[0;34m.\u001b[0m\u001b[0m_top\u001b[0m\u001b[0;34m.\u001b[0m\u001b[0mbind\u001b[0m\u001b[0;34m(\u001b[0m\u001b[0;34m'<Control-x>'\u001b[0m\u001b[0;34m,\u001b[0m \u001b[0mself\u001b[0m\u001b[0;34m.\u001b[0m\u001b[0mdestroy\u001b[0m\u001b[0;34m)\u001b[0m\u001b[0;34m\u001b[0m\u001b[0;34m\u001b[0m\u001b[0m\n",
            "\u001b[0;32m/usr/lib/python3.6/tkinter/__init__.py\u001b[0m in \u001b[0;36m__init__\u001b[0;34m(self, screenName, baseName, className, useTk, sync, use)\u001b[0m\n\u001b[1;32m   2021\u001b[0m                 \u001b[0mbaseName\u001b[0m \u001b[0;34m=\u001b[0m \u001b[0mbaseName\u001b[0m \u001b[0;34m+\u001b[0m \u001b[0mext\u001b[0m\u001b[0;34m\u001b[0m\u001b[0;34m\u001b[0m\u001b[0m\n\u001b[1;32m   2022\u001b[0m         \u001b[0minteractive\u001b[0m \u001b[0;34m=\u001b[0m \u001b[0;36m0\u001b[0m\u001b[0;34m\u001b[0m\u001b[0;34m\u001b[0m\u001b[0m\n\u001b[0;32m-> 2023\u001b[0;31m         \u001b[0mself\u001b[0m\u001b[0;34m.\u001b[0m\u001b[0mtk\u001b[0m \u001b[0;34m=\u001b[0m \u001b[0m_tkinter\u001b[0m\u001b[0;34m.\u001b[0m\u001b[0mcreate\u001b[0m\u001b[0;34m(\u001b[0m\u001b[0mscreenName\u001b[0m\u001b[0;34m,\u001b[0m \u001b[0mbaseName\u001b[0m\u001b[0;34m,\u001b[0m \u001b[0mclassName\u001b[0m\u001b[0;34m,\u001b[0m \u001b[0minteractive\u001b[0m\u001b[0;34m,\u001b[0m \u001b[0mwantobjects\u001b[0m\u001b[0;34m,\u001b[0m \u001b[0museTk\u001b[0m\u001b[0;34m,\u001b[0m \u001b[0msync\u001b[0m\u001b[0;34m,\u001b[0m \u001b[0muse\u001b[0m\u001b[0;34m)\u001b[0m\u001b[0;34m\u001b[0m\u001b[0;34m\u001b[0m\u001b[0m\n\u001b[0m\u001b[1;32m   2024\u001b[0m         \u001b[0;32mif\u001b[0m \u001b[0museTk\u001b[0m\u001b[0;34m:\u001b[0m\u001b[0;34m\u001b[0m\u001b[0;34m\u001b[0m\u001b[0m\n\u001b[1;32m   2025\u001b[0m             \u001b[0mself\u001b[0m\u001b[0;34m.\u001b[0m\u001b[0m_loadtk\u001b[0m\u001b[0;34m(\u001b[0m\u001b[0;34m)\u001b[0m\u001b[0;34m\u001b[0m\u001b[0;34m\u001b[0m\u001b[0m\n",
            "\u001b[0;31mTclError\u001b[0m: no display name and no $DISPLAY environment variable"
          ]
        }
      ]
    },
    {
      "cell_type": "code",
      "metadata": {
        "id": "P81FML-W0PVJ",
        "colab_type": "code",
        "colab": {
          "base_uri": "https://localhost:8080/",
          "height": 1000
        },
        "outputId": "e7d09f55-538a-42db-b675-eb996a34d657"
      },
      "source": [
        "from nltk.chunk import conlltags2tree, tree2conlltags\n",
        "from pprint import pprint\n",
        "\n",
        "iob_tagged = tree2conlltags(cs)\n",
        "pprint(iob_tagged)"
      ],
      "execution_count": 18,
      "outputs": [
        {
          "output_type": "stream",
          "text": [
            "[('The', 'DT', 'O'),\n",
            " ('Gabba', 'NNP', 'O'),\n",
            " ('remained', 'VBD', 'O'),\n",
            " ('unbreached', 'JJ', 'O'),\n",
            " ('as', 'IN', 'O'),\n",
            " ('Australia', 'NNP', 'O'),\n",
            " ('wrapped', 'VBD', 'O'),\n",
            " ('up', 'RP', 'O'),\n",
            " ('a', 'DT', 'B-NP'),\n",
            " ('win', 'NN', 'I-NP'),\n",
            " ('within', 'IN', 'O'),\n",
            " ('four', 'CD', 'O'),\n",
            " ('days', 'NNS', 'O'),\n",
            " (',', ',', 'O'),\n",
            " ('kickstarting', 'VBG', 'O'),\n",
            " ('their', 'PRP$', 'O'),\n",
            " ('summer', 'NN', 'B-NP'),\n",
            " ('on', 'IN', 'O'),\n",
            " ('a', 'DT', 'B-NP'),\n",
            " ('bright', 'JJ', 'I-NP'),\n",
            " ('note', 'NN', 'I-NP'),\n",
            " ('.', '.', 'O'),\n",
            " (\"''\", \"''\", 'O'),\n",
            " ('Pakistan', 'NNP', 'O'),\n",
            " (',', ',', 'O'),\n",
            " ('who', 'WP', 'O'),\n",
            " ('made', 'VBD', 'O'),\n",
            " ('Australia', 'NNP', 'O'),\n",
            " ('work', 'VB', 'O'),\n",
            " ('hard', 'RB', 'O'),\n",
            " ('for', 'IN', 'O'),\n",
            " ('that', 'DT', 'B-NP'),\n",
            " ('win', 'NN', 'I-NP'),\n",
            " ('on', 'IN', 'O'),\n",
            " ('Sunday', 'NNP', 'O'),\n",
            " ('(', '(', 'O'),\n",
            " ('November', 'NNP', 'O'),\n",
            " ('24', 'CD', 'O'),\n",
            " (')', ')', 'O'),\n",
            " (',', ',', 'O'),\n",
            " ('were', 'VBD', 'O'),\n",
            " ('bowled', 'VBN', 'O'),\n",
            " ('out', 'RP', 'O'),\n",
            " ('eventually', 'RB', 'O'),\n",
            " ('for', 'IN', 'O'),\n",
            " ('355', 'CD', 'O'),\n",
            " (',', ',', 'O'),\n",
            " ('conceding', 'VBG', 'O'),\n",
            " ('a', 'DT', 'B-NP'),\n",
            " ('win', 'NN', 'I-NP'),\n",
            " ('by', 'IN', 'O'),\n",
            " ('an', 'DT', 'O'),\n",
            " ('innings', 'NNS', 'O'),\n",
            " ('and', 'CC', 'O'),\n",
            " ('5', 'CD', 'O'),\n",
            " ('runs', 'NNS', 'O'),\n",
            " ('in', 'IN', 'O'),\n",
            " ('Brisbane', 'NNP', 'O'),\n",
            " ('.', '.', 'O'),\n",
            " ('This', 'DT', 'O'),\n",
            " ('was', 'VBD', 'O'),\n",
            " ('Pakistan', 'NNP', 'O'),\n",
            " (\"'s\", 'POS', 'O'),\n",
            " ('fifth', 'JJ', 'B-NP'),\n",
            " ('consecutive', 'JJ', 'I-NP'),\n",
            " ('loss', 'NN', 'I-NP'),\n",
            " ('away', 'RB', 'O'),\n",
            " ('from', 'IN', 'O'),\n",
            " ('home', 'NN', 'B-NP'),\n",
            " (',', ',', 'O'),\n",
            " ('while', 'IN', 'O'),\n",
            " ('Australia', 'NNP', 'O'),\n",
            " ('maintained', 'VBD', 'O'),\n",
            " ('their', 'PRP$', 'O'),\n",
            " ('unbeaten', 'JJ', 'B-NP'),\n",
            " ('record', 'NN', 'I-NP'),\n",
            " ('at', 'IN', 'O'),\n",
            " ('the', 'DT', 'O'),\n",
            " ('Gabba', 'NNP', 'O'),\n",
            " (',', ',', 'O'),\n",
            " ('not', 'RB', 'O'),\n",
            " ('having', 'VBG', 'O'),\n",
            " ('lost', 'VBN', 'O'),\n",
            " ('a', 'DT', 'B-NP'),\n",
            " ('Test', 'NN', 'I-NP'),\n",
            " ('here', 'RB', 'O'),\n",
            " ('since', 'IN', 'O'),\n",
            " ('1988', 'CD', 'O'),\n",
            " ('.', '.', 'O')]\n"
          ],
          "name": "stdout"
        }
      ]
    }
  ]
}