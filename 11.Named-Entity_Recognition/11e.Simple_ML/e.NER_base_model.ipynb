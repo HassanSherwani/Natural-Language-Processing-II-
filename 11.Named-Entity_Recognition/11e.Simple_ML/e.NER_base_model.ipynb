{
  "nbformat": 4,
  "nbformat_minor": 0,
  "metadata": {
    "colab": {
      "name": "e.NER_base_model.ipynb",
      "provenance": [],
      "collapsed_sections": []
    },
    "kernelspec": {
      "name": "python3",
      "display_name": "Python 3"
    },
    "language_info": {
      "codemirror_mode": {
        "name": "ipython",
        "version": 3
      },
      "file_extension": ".py",
      "mimetype": "text/x-python",
      "name": "python",
      "nbconvert_exporter": "python",
      "pygments_lexer": "ipython3",
      "version": "3.6.3"
    },
    "accelerator": "GPU"
  },
  "cells": [
    {
      "cell_type": "markdown",
      "metadata": {
        "colab_type": "text",
        "id": "L5WEerzzSeID"
      },
      "source": [
        "# Named Entity Recognition\n",
        "- using ML base model"
      ]
    },
    {
      "cell_type": "markdown",
      "metadata": {
        "colab_type": "text",
        "id": "vnDcCpN-Sw9d"
      },
      "source": [
        "# 1)- Importing key modules"
      ]
    },
    {
      "cell_type": "code",
      "metadata": {
        "colab_type": "code",
        "id": "ormhGRA1SkYP",
        "colab": {}
      },
      "source": [
        "#support both Python 2 and Python 3 with minimal overhead.\n",
        "from __future__ import absolute_import, division, print_function\n",
        "\n",
        "# I am an engineer. I care only about error not warning. So, let's be maverick and ignore warnings.\n",
        "import warnings\n",
        "warnings.filterwarnings('ignore')"
      ],
      "execution_count": 0,
      "outputs": []
    },
    {
      "cell_type": "code",
      "metadata": {
        "colab_type": "code",
        "id": "ffmlRA40S1bS",
        "colab": {}
      },
      "source": [
        "# For data processing and maths\n",
        "\n",
        "import pandas as pd\n",
        "import numpy as np\n",
        "#For Visuals\n",
        "import matplotlib.pyplot as plt\n",
        "import seaborn as sns\n",
        "sns.set()\n",
        "from matplotlib import rcParams\n",
        "rcParams['figure.figsize'] = 11, 8\n",
        "%config InlineBackend.figure_format = 'svg'\n",
        "%matplotlib inline"
      ],
      "execution_count": 0,
      "outputs": []
    },
    {
      "cell_type": "code",
      "metadata": {
        "colab_type": "code",
        "id": "rNbXWUUTTLOV",
        "outputId": "c749d217-5ec3-4ff6-ccef-612349a8e4b9",
        "colab": {
          "base_uri": "https://localhost:8080/",
          "height": 34
        }
      },
      "source": [
        "! pip install version_information"
      ],
      "execution_count": 3,
      "outputs": [
        {
          "output_type": "stream",
          "text": [
            "Requirement already satisfied: version_information in /usr/local/lib/python3.6/dist-packages (1.0.3)\n"
          ],
          "name": "stdout"
        }
      ]
    },
    {
      "cell_type": "code",
      "metadata": {
        "colab_type": "code",
        "id": "WRJECjnJTOyF",
        "outputId": "ee2c9421-e2d8-490a-9963-64172387b31b",
        "colab": {
          "base_uri": "https://localhost:8080/",
          "height": 198
        }
      },
      "source": [
        "# first install: pip install version_information\n",
        "%reload_ext version_information\n",
        "%version_information pandas,numpy,seaborn, matplotlib"
      ],
      "execution_count": 4,
      "outputs": [
        {
          "output_type": "execute_result",
          "data": {
            "text/latex": "\\begin{tabular}{|l|l|}\\hline\n{\\bf Software} & {\\bf Version} \\\\ \\hline\\hline\nPython & 3.6.8 64bit [GCC 8.3.0] \\\\ \\hline\nIPython & 5.5.0 \\\\ \\hline\nOS & Linux 4.14.137+ x86\\_64 with Ubuntu 18.04 bionic \\\\ \\hline\npandas & 0.25.3 \\\\ \\hline\nnumpy & 1.17.4 \\\\ \\hline\nseaborn & 0.9.0 \\\\ \\hline\nmatplotlib & 3.1.1 \\\\ \\hline\n\\hline \\multicolumn{2}{|l|}{Tue Nov 26 19:33:42 2019 UTC} \\\\ \\hline\n\\end{tabular}\n",
            "application/json": {
              "Software versions": [
                {
                  "version": "3.6.8 64bit [GCC 8.3.0]",
                  "module": "Python"
                },
                {
                  "version": "5.5.0",
                  "module": "IPython"
                },
                {
                  "version": "Linux 4.14.137+ x86_64 with Ubuntu 18.04 bionic",
                  "module": "OS"
                },
                {
                  "version": "0.25.3",
                  "module": "pandas"
                },
                {
                  "version": "1.17.4",
                  "module": "numpy"
                },
                {
                  "version": "0.9.0",
                  "module": "seaborn"
                },
                {
                  "version": "3.1.1",
                  "module": "matplotlib"
                }
              ]
            },
            "text/html": [
              "<table><tr><th>Software</th><th>Version</th></tr><tr><td>Python</td><td>3.6.8 64bit [GCC 8.3.0]</td></tr><tr><td>IPython</td><td>5.5.0</td></tr><tr><td>OS</td><td>Linux 4.14.137+ x86_64 with Ubuntu 18.04 bionic</td></tr><tr><td>pandas</td><td>0.25.3</td></tr><tr><td>numpy</td><td>1.17.4</td></tr><tr><td>seaborn</td><td>0.9.0</td></tr><tr><td>matplotlib</td><td>3.1.1</td></tr><tr><td colspan='2'>Tue Nov 26 19:33:42 2019 UTC</td></tr></table>"
            ],
            "text/plain": [
              "Software versions\n",
              "Python 3.6.8 64bit [GCC 8.3.0]\n",
              "IPython 5.5.0\n",
              "OS Linux 4.14.137+ x86_64 with Ubuntu 18.04 bionic\n",
              "pandas 0.25.3\n",
              "numpy 1.17.4\n",
              "seaborn 0.9.0\n",
              "matplotlib 3.1.1\n",
              "Tue Nov 26 19:33:42 2019 UTC"
            ]
          },
          "metadata": {
            "tags": []
          },
          "execution_count": 4
        }
      ]
    },
    {
      "cell_type": "markdown",
      "metadata": {
        "id": "oIY_Q1yip4I0",
        "colab_type": "text"
      },
      "source": [
        "# 2)- Getting Data\n",
        "\n",
        "https://www.kaggle.com/abhinavwalia95/entity-annotated-corpus"
      ]
    },
    {
      "cell_type": "code",
      "metadata": {
        "id": "ARbNZYPB9jyv",
        "colab_type": "code",
        "colab": {}
      },
      "source": [
        "data = pd.read_csv(\"ner_dataset.csv\", encoding=\"latin1\")"
      ],
      "execution_count": 0,
      "outputs": []
    },
    {
      "cell_type": "code",
      "metadata": {
        "id": "EwHZ2fgyWfAi",
        "colab_type": "code",
        "colab": {
          "base_uri": "https://localhost:8080/",
          "height": 195
        },
        "outputId": "1858cae3-f67a-4f59-e154-2dde03e82747"
      },
      "source": [
        "data.head()"
      ],
      "execution_count": 6,
      "outputs": [
        {
          "output_type": "execute_result",
          "data": {
            "text/html": [
              "<div>\n",
              "<style scoped>\n",
              "    .dataframe tbody tr th:only-of-type {\n",
              "        vertical-align: middle;\n",
              "    }\n",
              "\n",
              "    .dataframe tbody tr th {\n",
              "        vertical-align: top;\n",
              "    }\n",
              "\n",
              "    .dataframe thead th {\n",
              "        text-align: right;\n",
              "    }\n",
              "</style>\n",
              "<table border=\"1\" class=\"dataframe\">\n",
              "  <thead>\n",
              "    <tr style=\"text-align: right;\">\n",
              "      <th></th>\n",
              "      <th>Sentence #</th>\n",
              "      <th>Word</th>\n",
              "      <th>POS</th>\n",
              "      <th>Tag</th>\n",
              "    </tr>\n",
              "  </thead>\n",
              "  <tbody>\n",
              "    <tr>\n",
              "      <th>0</th>\n",
              "      <td>Sentence: 1</td>\n",
              "      <td>Thousands</td>\n",
              "      <td>NNS</td>\n",
              "      <td>O</td>\n",
              "    </tr>\n",
              "    <tr>\n",
              "      <th>1</th>\n",
              "      <td>NaN</td>\n",
              "      <td>of</td>\n",
              "      <td>IN</td>\n",
              "      <td>O</td>\n",
              "    </tr>\n",
              "    <tr>\n",
              "      <th>2</th>\n",
              "      <td>NaN</td>\n",
              "      <td>demonstrators</td>\n",
              "      <td>NNS</td>\n",
              "      <td>O</td>\n",
              "    </tr>\n",
              "    <tr>\n",
              "      <th>3</th>\n",
              "      <td>NaN</td>\n",
              "      <td>have</td>\n",
              "      <td>VBP</td>\n",
              "      <td>O</td>\n",
              "    </tr>\n",
              "    <tr>\n",
              "      <th>4</th>\n",
              "      <td>NaN</td>\n",
              "      <td>marched</td>\n",
              "      <td>VBN</td>\n",
              "      <td>O</td>\n",
              "    </tr>\n",
              "  </tbody>\n",
              "</table>\n",
              "</div>"
            ],
            "text/plain": [
              "    Sentence #           Word  POS Tag\n",
              "0  Sentence: 1      Thousands  NNS   O\n",
              "1          NaN             of   IN   O\n",
              "2          NaN  demonstrators  NNS   O\n",
              "3          NaN           have  VBP   O\n",
              "4          NaN        marched  VBN   O"
            ]
          },
          "metadata": {
            "tags": []
          },
          "execution_count": 6
        }
      ]
    },
    {
      "cell_type": "markdown",
      "metadata": {
        "id": "ji7B-RcMWhIY",
        "colab_type": "text"
      },
      "source": [
        "There are missing values. We shall fill wit ffill. Also it makes sense as sentence 1 contains all words and then comes sentence2."
      ]
    },
    {
      "cell_type": "code",
      "metadata": {
        "id": "MjNsyz7eWfDn",
        "colab_type": "code",
        "colab": {}
      },
      "source": [
        "data = data.fillna(method=\"ffill\")"
      ],
      "execution_count": 0,
      "outputs": []
    },
    {
      "cell_type": "code",
      "metadata": {
        "id": "lJT20YiuWfGH",
        "colab_type": "code",
        "colab": {
          "base_uri": "https://localhost:8080/",
          "height": 195
        },
        "outputId": "252590f3-3bec-4bf3-8ee5-fb12387f7fff"
      },
      "source": [
        "data.head()"
      ],
      "execution_count": 8,
      "outputs": [
        {
          "output_type": "execute_result",
          "data": {
            "text/html": [
              "<div>\n",
              "<style scoped>\n",
              "    .dataframe tbody tr th:only-of-type {\n",
              "        vertical-align: middle;\n",
              "    }\n",
              "\n",
              "    .dataframe tbody tr th {\n",
              "        vertical-align: top;\n",
              "    }\n",
              "\n",
              "    .dataframe thead th {\n",
              "        text-align: right;\n",
              "    }\n",
              "</style>\n",
              "<table border=\"1\" class=\"dataframe\">\n",
              "  <thead>\n",
              "    <tr style=\"text-align: right;\">\n",
              "      <th></th>\n",
              "      <th>Sentence #</th>\n",
              "      <th>Word</th>\n",
              "      <th>POS</th>\n",
              "      <th>Tag</th>\n",
              "    </tr>\n",
              "  </thead>\n",
              "  <tbody>\n",
              "    <tr>\n",
              "      <th>0</th>\n",
              "      <td>Sentence: 1</td>\n",
              "      <td>Thousands</td>\n",
              "      <td>NNS</td>\n",
              "      <td>O</td>\n",
              "    </tr>\n",
              "    <tr>\n",
              "      <th>1</th>\n",
              "      <td>Sentence: 1</td>\n",
              "      <td>of</td>\n",
              "      <td>IN</td>\n",
              "      <td>O</td>\n",
              "    </tr>\n",
              "    <tr>\n",
              "      <th>2</th>\n",
              "      <td>Sentence: 1</td>\n",
              "      <td>demonstrators</td>\n",
              "      <td>NNS</td>\n",
              "      <td>O</td>\n",
              "    </tr>\n",
              "    <tr>\n",
              "      <th>3</th>\n",
              "      <td>Sentence: 1</td>\n",
              "      <td>have</td>\n",
              "      <td>VBP</td>\n",
              "      <td>O</td>\n",
              "    </tr>\n",
              "    <tr>\n",
              "      <th>4</th>\n",
              "      <td>Sentence: 1</td>\n",
              "      <td>marched</td>\n",
              "      <td>VBN</td>\n",
              "      <td>O</td>\n",
              "    </tr>\n",
              "  </tbody>\n",
              "</table>\n",
              "</div>"
            ],
            "text/plain": [
              "    Sentence #           Word  POS Tag\n",
              "0  Sentence: 1      Thousands  NNS   O\n",
              "1  Sentence: 1             of   IN   O\n",
              "2  Sentence: 1  demonstrators  NNS   O\n",
              "3  Sentence: 1           have  VBP   O\n",
              "4  Sentence: 1        marched  VBN   O"
            ]
          },
          "metadata": {
            "tags": []
          },
          "execution_count": 8
        }
      ]
    },
    {
      "cell_type": "code",
      "metadata": {
        "id": "d8Me8K0lWfI7",
        "colab_type": "code",
        "colab": {
          "base_uri": "https://localhost:8080/",
          "height": 195
        },
        "outputId": "b547aefc-f069-4aba-bbbc-c8c196bf55ba"
      },
      "source": [
        "data.tail()"
      ],
      "execution_count": 9,
      "outputs": [
        {
          "output_type": "execute_result",
          "data": {
            "text/html": [
              "<div>\n",
              "<style scoped>\n",
              "    .dataframe tbody tr th:only-of-type {\n",
              "        vertical-align: middle;\n",
              "    }\n",
              "\n",
              "    .dataframe tbody tr th {\n",
              "        vertical-align: top;\n",
              "    }\n",
              "\n",
              "    .dataframe thead th {\n",
              "        text-align: right;\n",
              "    }\n",
              "</style>\n",
              "<table border=\"1\" class=\"dataframe\">\n",
              "  <thead>\n",
              "    <tr style=\"text-align: right;\">\n",
              "      <th></th>\n",
              "      <th>Sentence #</th>\n",
              "      <th>Word</th>\n",
              "      <th>POS</th>\n",
              "      <th>Tag</th>\n",
              "    </tr>\n",
              "  </thead>\n",
              "  <tbody>\n",
              "    <tr>\n",
              "      <th>1048570</th>\n",
              "      <td>Sentence: 47959</td>\n",
              "      <td>they</td>\n",
              "      <td>PRP</td>\n",
              "      <td>O</td>\n",
              "    </tr>\n",
              "    <tr>\n",
              "      <th>1048571</th>\n",
              "      <td>Sentence: 47959</td>\n",
              "      <td>responded</td>\n",
              "      <td>VBD</td>\n",
              "      <td>O</td>\n",
              "    </tr>\n",
              "    <tr>\n",
              "      <th>1048572</th>\n",
              "      <td>Sentence: 47959</td>\n",
              "      <td>to</td>\n",
              "      <td>TO</td>\n",
              "      <td>O</td>\n",
              "    </tr>\n",
              "    <tr>\n",
              "      <th>1048573</th>\n",
              "      <td>Sentence: 47959</td>\n",
              "      <td>the</td>\n",
              "      <td>DT</td>\n",
              "      <td>O</td>\n",
              "    </tr>\n",
              "    <tr>\n",
              "      <th>1048574</th>\n",
              "      <td>Sentence: 47959</td>\n",
              "      <td>attack</td>\n",
              "      <td>NN</td>\n",
              "      <td>O</td>\n",
              "    </tr>\n",
              "  </tbody>\n",
              "</table>\n",
              "</div>"
            ],
            "text/plain": [
              "              Sentence #       Word  POS Tag\n",
              "1048570  Sentence: 47959       they  PRP   O\n",
              "1048571  Sentence: 47959  responded  VBD   O\n",
              "1048572  Sentence: 47959         to   TO   O\n",
              "1048573  Sentence: 47959        the   DT   O\n",
              "1048574  Sentence: 47959     attack   NN   O"
            ]
          },
          "metadata": {
            "tags": []
          },
          "execution_count": 9
        }
      ]
    },
    {
      "cell_type": "markdown",
      "metadata": {
        "id": "oxg0619jXLuZ",
        "colab_type": "text"
      },
      "source": [
        "So, in total we have 47959 sentences in our data. Let's see how many words we have"
      ]
    },
    {
      "cell_type": "code",
      "metadata": {
        "id": "rubPgSxkXgQJ",
        "colab_type": "code",
        "colab": {
          "base_uri": "https://localhost:8080/",
          "height": 34
        },
        "outputId": "e6bfa598-3048-43e6-e2c7-b6dd5cb3575b"
      },
      "source": [
        "len(data[\"Word\"])"
      ],
      "execution_count": 10,
      "outputs": [
        {
          "output_type": "execute_result",
          "data": {
            "text/plain": [
              "1048575"
            ]
          },
          "metadata": {
            "tags": []
          },
          "execution_count": 10
        }
      ]
    },
    {
      "cell_type": "markdown",
      "metadata": {
        "id": "ZX-BW4VaXoaA",
        "colab_type": "text"
      },
      "source": [
        "Total words are 1048575. But , there might be many repeating words. Let's find unique words or vocab."
      ]
    },
    {
      "cell_type": "code",
      "metadata": {
        "id": "4k_tCbQkXzlI",
        "colab_type": "code",
        "colab": {
          "base_uri": "https://localhost:8080/",
          "height": 34
        },
        "outputId": "fe8b6777-8b42-4a8c-84ae-8745a158fef2"
      },
      "source": [
        "len(data[\"Word\"].unique())"
      ],
      "execution_count": 11,
      "outputs": [
        {
          "output_type": "execute_result",
          "data": {
            "text/plain": [
              "35178"
            ]
          },
          "metadata": {
            "tags": []
          },
          "execution_count": 11
        }
      ]
    },
    {
      "cell_type": "code",
      "metadata": {
        "id": "QRB1ScpeW0Z_",
        "colab_type": "code",
        "colab": {}
      },
      "source": [
        "# making list of unique \"word\" feature\n",
        "words = list(set(data[\"Word\"].values))"
      ],
      "execution_count": 0,
      "outputs": []
    },
    {
      "cell_type": "code",
      "metadata": {
        "id": "lSXU-h5IW90n",
        "colab_type": "code",
        "colab": {
          "base_uri": "https://localhost:8080/",
          "height": 34
        },
        "outputId": "6e3f1282-6bd4-4675-f0fe-d57804cab4b9"
      },
      "source": [
        "words[:5]"
      ],
      "execution_count": 13,
      "outputs": [
        {
          "output_type": "execute_result",
          "data": {
            "text/plain": [
              "['15-second', 'fortune', 'diesel', 'lesions', '5']"
            ]
          },
          "metadata": {
            "tags": []
          },
          "execution_count": 13
        }
      ]
    },
    {
      "cell_type": "code",
      "metadata": {
        "id": "8dSgiaYcW-wE",
        "colab_type": "code",
        "colab": {
          "base_uri": "https://localhost:8080/",
          "height": 34
        },
        "outputId": "75e17c13-91a8-40fe-ac23-5bd85fb64bec"
      },
      "source": [
        "n_words = len(words)\n",
        "n_words"
      ],
      "execution_count": 14,
      "outputs": [
        {
          "output_type": "execute_result",
          "data": {
            "text/plain": [
              "35178"
            ]
          },
          "metadata": {
            "tags": []
          },
          "execution_count": 14
        }
      ]
    },
    {
      "cell_type": "markdown",
      "metadata": {
        "id": "UNfeK1QlXS3A",
        "colab_type": "text"
      },
      "source": [
        "We have 47959 sentences containing 35178 unique words"
      ]
    },
    {
      "cell_type": "code",
      "metadata": {
        "id": "dY3O6dFr8GLJ",
        "colab_type": "code",
        "colab": {
          "base_uri": "https://localhost:8080/",
          "height": 319
        },
        "outputId": "029b70c8-6201-4809-fd89-c12c7a341e4b"
      },
      "source": [
        "# let's see how many tag we have in our data or what kind of tags we have\n",
        "\n",
        "data.Tag.value_counts()"
      ],
      "execution_count": 15,
      "outputs": [
        {
          "output_type": "execute_result",
          "data": {
            "text/plain": [
              "O        887908\n",
              "B-geo     37644\n",
              "B-tim     20333\n",
              "B-org     20143\n",
              "I-per     17251\n",
              "B-per     16990\n",
              "I-org     16784\n",
              "B-gpe     15870\n",
              "I-geo      7414\n",
              "I-tim      6528\n",
              "B-art       402\n",
              "B-eve       308\n",
              "I-art       297\n",
              "I-eve       253\n",
              "B-nat       201\n",
              "I-gpe       198\n",
              "I-nat        51\n",
              "Name: Tag, dtype: int64"
            ]
          },
          "metadata": {
            "tags": []
          },
          "execution_count": 15
        }
      ]
    },
    {
      "cell_type": "code",
      "metadata": {
        "id": "6VogLeqN8ZVj",
        "colab_type": "code",
        "colab": {
          "base_uri": "https://localhost:8080/",
          "height": 34
        },
        "outputId": "47ad448b-044f-45bf-879e-28cf3400ecd3"
      },
      "source": [
        "len(data.Tag.value_counts())"
      ],
      "execution_count": 16,
      "outputs": [
        {
          "output_type": "execute_result",
          "data": {
            "text/plain": [
              "17"
            ]
          },
          "metadata": {
            "tags": []
          },
          "execution_count": 16
        }
      ]
    },
    {
      "cell_type": "code",
      "metadata": {
        "id": "JxtmUejU8Qfa",
        "colab_type": "code",
        "colab": {
          "base_uri": "https://localhost:8080/",
          "height": 34
        },
        "outputId": "70fbfca2-8eb2-464d-b2df-3839083e23d9"
      },
      "source": [
        "# how about POS\n",
        "\n",
        "len(data.POS.value_counts())"
      ],
      "execution_count": 17,
      "outputs": [
        {
          "output_type": "execute_result",
          "data": {
            "text/plain": [
              "42"
            ]
          },
          "metadata": {
            "tags": []
          },
          "execution_count": 17
        }
      ]
    },
    {
      "cell_type": "markdown",
      "metadata": {
        "id": "mDWwmE0s6qmh",
        "colab_type": "text"
      },
      "source": [
        "#3)- Retrieving sentence"
      ]
    },
    {
      "cell_type": "code",
      "metadata": {
        "id": "q4Zqlc_Y7g_S",
        "colab_type": "code",
        "colab": {}
      },
      "source": [
        "d=data"
      ],
      "execution_count": 0,
      "outputs": []
    },
    {
      "cell_type": "code",
      "metadata": {
        "id": "NnAsnmMR720T",
        "colab_type": "code",
        "colab": {}
      },
      "source": [
        "d=d.groupby([\"Sentence #\",\"Tag\"]).size()"
      ],
      "execution_count": 0,
      "outputs": []
    },
    {
      "cell_type": "code",
      "metadata": {
        "id": "756iTvOK8BiZ",
        "colab_type": "code",
        "colab": {
          "base_uri": "https://localhost:8080/",
          "height": 134
        },
        "outputId": "83b98ed2-c6b4-4292-d175-99c77b13e8a9"
      },
      "source": [
        "d.head()"
      ],
      "execution_count": 20,
      "outputs": [
        {
          "output_type": "execute_result",
          "data": {
            "text/plain": [
              "Sentence #    Tag  \n",
              "Sentence: 1   B-geo     2\n",
              "              B-gpe     1\n",
              "              O        21\n",
              "Sentence: 10  B-gpe     1\n",
              "              B-org     1\n",
              "dtype: int64"
            ]
          },
          "metadata": {
            "tags": []
          },
          "execution_count": 20
        }
      ]
    },
    {
      "cell_type": "code",
      "metadata": {
        "id": "bo57LVv08oZr",
        "colab_type": "code",
        "colab": {}
      },
      "source": [
        "d_tag=d.unstack('Tag')"
      ],
      "execution_count": 0,
      "outputs": []
    },
    {
      "cell_type": "code",
      "metadata": {
        "id": "UNum4dj38sbg",
        "colab_type": "code",
        "colab": {
          "base_uri": "https://localhost:8080/",
          "height": 431
        },
        "outputId": "7f5b6288-d1c9-4816-c15b-876dddc5987f"
      },
      "source": [
        "d_tag"
      ],
      "execution_count": 22,
      "outputs": [
        {
          "output_type": "execute_result",
          "data": {
            "text/html": [
              "<div>\n",
              "<style scoped>\n",
              "    .dataframe tbody tr th:only-of-type {\n",
              "        vertical-align: middle;\n",
              "    }\n",
              "\n",
              "    .dataframe tbody tr th {\n",
              "        vertical-align: top;\n",
              "    }\n",
              "\n",
              "    .dataframe thead th {\n",
              "        text-align: right;\n",
              "    }\n",
              "</style>\n",
              "<table border=\"1\" class=\"dataframe\">\n",
              "  <thead>\n",
              "    <tr style=\"text-align: right;\">\n",
              "      <th>Tag</th>\n",
              "      <th>B-art</th>\n",
              "      <th>B-eve</th>\n",
              "      <th>B-geo</th>\n",
              "      <th>B-gpe</th>\n",
              "      <th>B-nat</th>\n",
              "      <th>B-org</th>\n",
              "      <th>B-per</th>\n",
              "      <th>B-tim</th>\n",
              "      <th>I-art</th>\n",
              "      <th>I-eve</th>\n",
              "      <th>I-geo</th>\n",
              "      <th>I-gpe</th>\n",
              "      <th>I-nat</th>\n",
              "      <th>I-org</th>\n",
              "      <th>I-per</th>\n",
              "      <th>I-tim</th>\n",
              "      <th>O</th>\n",
              "    </tr>\n",
              "    <tr>\n",
              "      <th>Sentence #</th>\n",
              "      <th></th>\n",
              "      <th></th>\n",
              "      <th></th>\n",
              "      <th></th>\n",
              "      <th></th>\n",
              "      <th></th>\n",
              "      <th></th>\n",
              "      <th></th>\n",
              "      <th></th>\n",
              "      <th></th>\n",
              "      <th></th>\n",
              "      <th></th>\n",
              "      <th></th>\n",
              "      <th></th>\n",
              "      <th></th>\n",
              "      <th></th>\n",
              "      <th></th>\n",
              "    </tr>\n",
              "  </thead>\n",
              "  <tbody>\n",
              "    <tr>\n",
              "      <th>Sentence: 1</th>\n",
              "      <td>NaN</td>\n",
              "      <td>NaN</td>\n",
              "      <td>2.0</td>\n",
              "      <td>1.0</td>\n",
              "      <td>NaN</td>\n",
              "      <td>NaN</td>\n",
              "      <td>NaN</td>\n",
              "      <td>NaN</td>\n",
              "      <td>NaN</td>\n",
              "      <td>NaN</td>\n",
              "      <td>NaN</td>\n",
              "      <td>NaN</td>\n",
              "      <td>NaN</td>\n",
              "      <td>NaN</td>\n",
              "      <td>NaN</td>\n",
              "      <td>NaN</td>\n",
              "      <td>21.0</td>\n",
              "    </tr>\n",
              "    <tr>\n",
              "      <th>Sentence: 10</th>\n",
              "      <td>NaN</td>\n",
              "      <td>NaN</td>\n",
              "      <td>NaN</td>\n",
              "      <td>1.0</td>\n",
              "      <td>NaN</td>\n",
              "      <td>1.0</td>\n",
              "      <td>NaN</td>\n",
              "      <td>1.0</td>\n",
              "      <td>NaN</td>\n",
              "      <td>NaN</td>\n",
              "      <td>NaN</td>\n",
              "      <td>NaN</td>\n",
              "      <td>NaN</td>\n",
              "      <td>NaN</td>\n",
              "      <td>NaN</td>\n",
              "      <td>NaN</td>\n",
              "      <td>22.0</td>\n",
              "    </tr>\n",
              "    <tr>\n",
              "      <th>Sentence: 100</th>\n",
              "      <td>NaN</td>\n",
              "      <td>NaN</td>\n",
              "      <td>2.0</td>\n",
              "      <td>NaN</td>\n",
              "      <td>NaN</td>\n",
              "      <td>1.0</td>\n",
              "      <td>NaN</td>\n",
              "      <td>1.0</td>\n",
              "      <td>NaN</td>\n",
              "      <td>NaN</td>\n",
              "      <td>1.0</td>\n",
              "      <td>NaN</td>\n",
              "      <td>NaN</td>\n",
              "      <td>NaN</td>\n",
              "      <td>NaN</td>\n",
              "      <td>NaN</td>\n",
              "      <td>27.0</td>\n",
              "    </tr>\n",
              "    <tr>\n",
              "      <th>Sentence: 1000</th>\n",
              "      <td>NaN</td>\n",
              "      <td>NaN</td>\n",
              "      <td>NaN</td>\n",
              "      <td>NaN</td>\n",
              "      <td>NaN</td>\n",
              "      <td>NaN</td>\n",
              "      <td>NaN</td>\n",
              "      <td>NaN</td>\n",
              "      <td>NaN</td>\n",
              "      <td>NaN</td>\n",
              "      <td>NaN</td>\n",
              "      <td>NaN</td>\n",
              "      <td>NaN</td>\n",
              "      <td>NaN</td>\n",
              "      <td>NaN</td>\n",
              "      <td>NaN</td>\n",
              "      <td>11.0</td>\n",
              "    </tr>\n",
              "    <tr>\n",
              "      <th>Sentence: 10000</th>\n",
              "      <td>NaN</td>\n",
              "      <td>NaN</td>\n",
              "      <td>3.0</td>\n",
              "      <td>2.0</td>\n",
              "      <td>NaN</td>\n",
              "      <td>NaN</td>\n",
              "      <td>1.0</td>\n",
              "      <td>1.0</td>\n",
              "      <td>NaN</td>\n",
              "      <td>NaN</td>\n",
              "      <td>NaN</td>\n",
              "      <td>NaN</td>\n",
              "      <td>NaN</td>\n",
              "      <td>NaN</td>\n",
              "      <td>1.0</td>\n",
              "      <td>NaN</td>\n",
              "      <td>27.0</td>\n",
              "    </tr>\n",
              "    <tr>\n",
              "      <th>...</th>\n",
              "      <td>...</td>\n",
              "      <td>...</td>\n",
              "      <td>...</td>\n",
              "      <td>...</td>\n",
              "      <td>...</td>\n",
              "      <td>...</td>\n",
              "      <td>...</td>\n",
              "      <td>...</td>\n",
              "      <td>...</td>\n",
              "      <td>...</td>\n",
              "      <td>...</td>\n",
              "      <td>...</td>\n",
              "      <td>...</td>\n",
              "      <td>...</td>\n",
              "      <td>...</td>\n",
              "      <td>...</td>\n",
              "      <td>...</td>\n",
              "    </tr>\n",
              "    <tr>\n",
              "      <th>Sentence: 9995</th>\n",
              "      <td>NaN</td>\n",
              "      <td>NaN</td>\n",
              "      <td>NaN</td>\n",
              "      <td>NaN</td>\n",
              "      <td>NaN</td>\n",
              "      <td>NaN</td>\n",
              "      <td>2.0</td>\n",
              "      <td>NaN</td>\n",
              "      <td>NaN</td>\n",
              "      <td>NaN</td>\n",
              "      <td>NaN</td>\n",
              "      <td>NaN</td>\n",
              "      <td>NaN</td>\n",
              "      <td>NaN</td>\n",
              "      <td>3.0</td>\n",
              "      <td>NaN</td>\n",
              "      <td>27.0</td>\n",
              "    </tr>\n",
              "    <tr>\n",
              "      <th>Sentence: 9996</th>\n",
              "      <td>NaN</td>\n",
              "      <td>NaN</td>\n",
              "      <td>NaN</td>\n",
              "      <td>1.0</td>\n",
              "      <td>NaN</td>\n",
              "      <td>1.0</td>\n",
              "      <td>NaN</td>\n",
              "      <td>1.0</td>\n",
              "      <td>NaN</td>\n",
              "      <td>NaN</td>\n",
              "      <td>NaN</td>\n",
              "      <td>NaN</td>\n",
              "      <td>NaN</td>\n",
              "      <td>1.0</td>\n",
              "      <td>NaN</td>\n",
              "      <td>NaN</td>\n",
              "      <td>21.0</td>\n",
              "    </tr>\n",
              "    <tr>\n",
              "      <th>Sentence: 9997</th>\n",
              "      <td>NaN</td>\n",
              "      <td>NaN</td>\n",
              "      <td>1.0</td>\n",
              "      <td>NaN</td>\n",
              "      <td>NaN</td>\n",
              "      <td>NaN</td>\n",
              "      <td>NaN</td>\n",
              "      <td>1.0</td>\n",
              "      <td>NaN</td>\n",
              "      <td>NaN</td>\n",
              "      <td>NaN</td>\n",
              "      <td>NaN</td>\n",
              "      <td>NaN</td>\n",
              "      <td>NaN</td>\n",
              "      <td>NaN</td>\n",
              "      <td>1.0</td>\n",
              "      <td>24.0</td>\n",
              "    </tr>\n",
              "    <tr>\n",
              "      <th>Sentence: 9998</th>\n",
              "      <td>NaN</td>\n",
              "      <td>NaN</td>\n",
              "      <td>NaN</td>\n",
              "      <td>NaN</td>\n",
              "      <td>NaN</td>\n",
              "      <td>NaN</td>\n",
              "      <td>NaN</td>\n",
              "      <td>NaN</td>\n",
              "      <td>NaN</td>\n",
              "      <td>NaN</td>\n",
              "      <td>NaN</td>\n",
              "      <td>NaN</td>\n",
              "      <td>NaN</td>\n",
              "      <td>NaN</td>\n",
              "      <td>NaN</td>\n",
              "      <td>NaN</td>\n",
              "      <td>21.0</td>\n",
              "    </tr>\n",
              "    <tr>\n",
              "      <th>Sentence: 9999</th>\n",
              "      <td>NaN</td>\n",
              "      <td>NaN</td>\n",
              "      <td>NaN</td>\n",
              "      <td>NaN</td>\n",
              "      <td>NaN</td>\n",
              "      <td>1.0</td>\n",
              "      <td>NaN</td>\n",
              "      <td>1.0</td>\n",
              "      <td>NaN</td>\n",
              "      <td>NaN</td>\n",
              "      <td>NaN</td>\n",
              "      <td>NaN</td>\n",
              "      <td>NaN</td>\n",
              "      <td>1.0</td>\n",
              "      <td>NaN</td>\n",
              "      <td>1.0</td>\n",
              "      <td>28.0</td>\n",
              "    </tr>\n",
              "  </tbody>\n",
              "</table>\n",
              "<p>47959 rows × 17 columns</p>\n",
              "</div>"
            ],
            "text/plain": [
              "Tag              B-art  B-eve  B-geo  B-gpe  ...  I-org  I-per  I-tim     O\n",
              "Sentence #                                   ...                           \n",
              "Sentence: 1        NaN    NaN    2.0    1.0  ...    NaN    NaN    NaN  21.0\n",
              "Sentence: 10       NaN    NaN    NaN    1.0  ...    NaN    NaN    NaN  22.0\n",
              "Sentence: 100      NaN    NaN    2.0    NaN  ...    NaN    NaN    NaN  27.0\n",
              "Sentence: 1000     NaN    NaN    NaN    NaN  ...    NaN    NaN    NaN  11.0\n",
              "Sentence: 10000    NaN    NaN    3.0    2.0  ...    NaN    1.0    NaN  27.0\n",
              "...                ...    ...    ...    ...  ...    ...    ...    ...   ...\n",
              "Sentence: 9995     NaN    NaN    NaN    NaN  ...    NaN    3.0    NaN  27.0\n",
              "Sentence: 9996     NaN    NaN    NaN    1.0  ...    1.0    NaN    NaN  21.0\n",
              "Sentence: 9997     NaN    NaN    1.0    NaN  ...    NaN    NaN    1.0  24.0\n",
              "Sentence: 9998     NaN    NaN    NaN    NaN  ...    NaN    NaN    NaN  21.0\n",
              "Sentence: 9999     NaN    NaN    NaN    NaN  ...    1.0    NaN    1.0  28.0\n",
              "\n",
              "[47959 rows x 17 columns]"
            ]
          },
          "metadata": {
            "tags": []
          },
          "execution_count": 22
        }
      ]
    },
    {
      "cell_type": "markdown",
      "metadata": {
        "id": "_QGn-5wF8_oh",
        "colab_type": "text"
      },
      "source": [
        "Thanks to blog by http://www.depends-on-the-definition.com/introduction-named-entity-recognition-python/\n",
        "\n",
        "We can use a simpler solution for this "
      ]
    },
    {
      "cell_type": "code",
      "metadata": {
        "id": "1tuavfsWXG9n",
        "colab_type": "code",
        "colab": {}
      },
      "source": [
        "class SentenceGetter(object):\n",
        "    \n",
        "    def __init__(self, data):\n",
        "        self.n_sent = 1\n",
        "        self.data = data\n",
        "        self.empty = False\n",
        "    \n",
        "    def get_next(self):\n",
        "        try:\n",
        "            s = self.data[self.data[\"Sentence #\"] == \"Sentence: {}\".format(self.n_sent)]\n",
        "            self.n_sent += 1\n",
        "            return s[\"Word\"].values.tolist(), s[\"POS\"].values.tolist(), s[\"Tag\"].values.tolist()    \n",
        "        except:\n",
        "            self.empty = True\n",
        "            return None, None, None"
      ],
      "execution_count": 0,
      "outputs": []
    },
    {
      "cell_type": "code",
      "metadata": {
        "id": "bghOPSjQ6xxE",
        "colab_type": "code",
        "colab": {}
      },
      "source": [
        "getter = SentenceGetter(data)"
      ],
      "execution_count": 0,
      "outputs": []
    },
    {
      "cell_type": "code",
      "metadata": {
        "id": "FnqALdqH61wi",
        "colab_type": "code",
        "colab": {}
      },
      "source": [
        "sent, pos, tag = getter.get_next()"
      ],
      "execution_count": 0,
      "outputs": []
    },
    {
      "cell_type": "code",
      "metadata": {
        "id": "zj4lubjz65Qb",
        "colab_type": "code",
        "colab": {
          "base_uri": "https://localhost:8080/",
          "height": 54
        },
        "outputId": "755f08e6-3e88-4d3e-d15b-89c661d2eff5"
      },
      "source": [
        "print(sent)"
      ],
      "execution_count": 26,
      "outputs": [
        {
          "output_type": "stream",
          "text": [
            "['Thousands', 'of', 'demonstrators', 'have', 'marched', 'through', 'London', 'to', 'protest', 'the', 'war', 'in', 'Iraq', 'and', 'demand', 'the', 'withdrawal', 'of', 'British', 'troops', 'from', 'that', 'country', '.']\n"
          ],
          "name": "stdout"
        }
      ]
    },
    {
      "cell_type": "code",
      "metadata": {
        "id": "pQg4DK_Y7Iwx",
        "colab_type": "code",
        "colab": {
          "base_uri": "https://localhost:8080/",
          "height": 34
        },
        "outputId": "f22748d6-cc94-4967-8996-8bb5241d6f64"
      },
      "source": [
        "print(pos)"
      ],
      "execution_count": 27,
      "outputs": [
        {
          "output_type": "stream",
          "text": [
            "['NNS', 'IN', 'NNS', 'VBP', 'VBN', 'IN', 'NNP', 'TO', 'VB', 'DT', 'NN', 'IN', 'NNP', 'CC', 'VB', 'DT', 'NN', 'IN', 'JJ', 'NNS', 'IN', 'DT', 'NN', '.']\n"
          ],
          "name": "stdout"
        }
      ]
    },
    {
      "cell_type": "code",
      "metadata": {
        "id": "UeEL9nil7Kyk",
        "colab_type": "code",
        "colab": {
          "base_uri": "https://localhost:8080/",
          "height": 34
        },
        "outputId": "8fe73f2f-41cc-496a-abb5-860c135459bc"
      },
      "source": [
        " print(tag)"
      ],
      "execution_count": 28,
      "outputs": [
        {
          "output_type": "stream",
          "text": [
            "['O', 'O', 'O', 'O', 'O', 'O', 'B-geo', 'O', 'O', 'O', 'O', 'O', 'B-geo', 'O', 'O', 'O', 'O', 'O', 'B-gpe', 'O', 'O', 'O', 'O', 'O']\n"
          ],
          "name": "stdout"
        }
      ]
    },
    {
      "cell_type": "markdown",
      "metadata": {
        "id": "RICmCdWS9O_x",
        "colab_type": "text"
      },
      "source": [
        "O is for the word that we don't know so, we predict it as \"O\""
      ]
    },
    {
      "cell_type": "markdown",
      "metadata": {
        "id": "C4Ltkpc1CkPS",
        "colab_type": "text"
      },
      "source": [
        "# 4)- Base model"
      ]
    },
    {
      "cell_type": "code",
      "metadata": {
        "id": "z2vR991FC8wq",
        "colab_type": "code",
        "colab": {
          "base_uri": "https://localhost:8080/",
          "height": 195
        },
        "outputId": "2c1b0fdb-5c8b-45bd-cb92-74b8a71b5ba3"
      },
      "source": [
        "data.head()"
      ],
      "execution_count": 29,
      "outputs": [
        {
          "output_type": "execute_result",
          "data": {
            "text/html": [
              "<div>\n",
              "<style scoped>\n",
              "    .dataframe tbody tr th:only-of-type {\n",
              "        vertical-align: middle;\n",
              "    }\n",
              "\n",
              "    .dataframe tbody tr th {\n",
              "        vertical-align: top;\n",
              "    }\n",
              "\n",
              "    .dataframe thead th {\n",
              "        text-align: right;\n",
              "    }\n",
              "</style>\n",
              "<table border=\"1\" class=\"dataframe\">\n",
              "  <thead>\n",
              "    <tr style=\"text-align: right;\">\n",
              "      <th></th>\n",
              "      <th>Sentence #</th>\n",
              "      <th>Word</th>\n",
              "      <th>POS</th>\n",
              "      <th>Tag</th>\n",
              "    </tr>\n",
              "  </thead>\n",
              "  <tbody>\n",
              "    <tr>\n",
              "      <th>0</th>\n",
              "      <td>Sentence: 1</td>\n",
              "      <td>Thousands</td>\n",
              "      <td>NNS</td>\n",
              "      <td>O</td>\n",
              "    </tr>\n",
              "    <tr>\n",
              "      <th>1</th>\n",
              "      <td>Sentence: 1</td>\n",
              "      <td>of</td>\n",
              "      <td>IN</td>\n",
              "      <td>O</td>\n",
              "    </tr>\n",
              "    <tr>\n",
              "      <th>2</th>\n",
              "      <td>Sentence: 1</td>\n",
              "      <td>demonstrators</td>\n",
              "      <td>NNS</td>\n",
              "      <td>O</td>\n",
              "    </tr>\n",
              "    <tr>\n",
              "      <th>3</th>\n",
              "      <td>Sentence: 1</td>\n",
              "      <td>have</td>\n",
              "      <td>VBP</td>\n",
              "      <td>O</td>\n",
              "    </tr>\n",
              "    <tr>\n",
              "      <th>4</th>\n",
              "      <td>Sentence: 1</td>\n",
              "      <td>marched</td>\n",
              "      <td>VBN</td>\n",
              "      <td>O</td>\n",
              "    </tr>\n",
              "  </tbody>\n",
              "</table>\n",
              "</div>"
            ],
            "text/plain": [
              "    Sentence #           Word  POS Tag\n",
              "0  Sentence: 1      Thousands  NNS   O\n",
              "1  Sentence: 1             of   IN   O\n",
              "2  Sentence: 1  demonstrators  NNS   O\n",
              "3  Sentence: 1           have  VBP   O\n",
              "4  Sentence: 1        marched  VBN   O"
            ]
          },
          "metadata": {
            "tags": []
          },
          "execution_count": 29
        }
      ]
    },
    {
      "cell_type": "code",
      "metadata": {
        "id": "o5pDr18DCqwy",
        "colab_type": "code",
        "colab": {
          "base_uri": "https://localhost:8080/",
          "height": 185
        },
        "outputId": "a86895c0-b451-49b8-a4d1-3b5599456c17"
      },
      "source": [
        "words_counts = {}\n",
        "\n",
        "from collections import Counter\n",
        "words_counts = Counter([word for line in data['Word'] for word in line.split(' ')])\n",
        "\n",
        "# Sorting \n",
        "most_common_words = sorted(words_counts.items(), key=lambda x: x[1], reverse=True)[:10]\n",
        "\n",
        "# Top 10\n",
        "most_common_words[:10]"
      ],
      "execution_count": 30,
      "outputs": [
        {
          "output_type": "execute_result",
          "data": {
            "text/plain": [
              "[('the', 52573),\n",
              " ('.', 47761),\n",
              " (',', 32754),\n",
              " ('of', 26354),\n",
              " ('in', 26323),\n",
              " ('to', 23213),\n",
              " ('a', 20481),\n",
              " ('and', 19936),\n",
              " ('The', 11313),\n",
              " (\"'s\", 10923)]"
            ]
          },
          "metadata": {
            "tags": []
          },
          "execution_count": 30
        }
      ]
    },
    {
      "cell_type": "code",
      "metadata": {
        "id": "6rXcw9kEEUtu",
        "colab_type": "code",
        "colab": {}
      },
      "source": [
        "#Splitting data\n",
        "\n",
        "\n",
        "X=data['Word']\n",
        "y=data['Tag']"
      ],
      "execution_count": 0,
      "outputs": []
    },
    {
      "cell_type": "code",
      "metadata": {
        "id": "4VtZuElmCqqq",
        "colab_type": "code",
        "colab": {
          "base_uri": "https://localhost:8080/",
          "height": 84
        },
        "outputId": "46e8e9e9-b69b-41e1-8093-dc87ab426b70"
      },
      "source": [
        "from sklearn.model_selection import train_test_split\n",
        "X_train, X_test, y_train, y_test = train_test_split(X, y, random_state=1)\n",
        "print(X_train.shape)\n",
        "print(X_test.shape)\n",
        "print(y_train.shape)\n",
        "print(y_test.shape)"
      ],
      "execution_count": 32,
      "outputs": [
        {
          "output_type": "stream",
          "text": [
            "(786431,)\n",
            "(262144,)\n",
            "(786431,)\n",
            "(262144,)\n"
          ],
          "name": "stdout"
        }
      ]
    },
    {
      "cell_type": "code",
      "metadata": {
        "id": "-IM4Vp5tEji5",
        "colab_type": "code",
        "colab": {}
      },
      "source": [
        "from sklearn.feature_extraction.text import TfidfVectorizer\n",
        "\n",
        "def tfidf_features(X_train, X_test):\n",
        "    \"\"\"\n",
        "        X_train, X_val, X_test - input text       \n",
        "        return TF-IDF vectorizer for each dataset\n",
        "    \"\"\"\n",
        "    \n",
        "    # filter out too rare words (occur less than in 5 titles) and too frequent words (occur more than in 90% of the tweets)\n",
        "    # ngram!!! -->  ngram_range=(1,2)\n",
        "    tfidf_vectorizer = TfidfVectorizer(max_features= 500, max_df=0.9, min_df=5, token_pattern='(\\S+)')\n",
        "    \n",
        "    # Fit and transform the vectorizer on the train set\n",
        "    X_train_tfidf = tfidf_vectorizer.fit_transform(X_train)\n",
        "    \n",
        "    # Only Transform the test sets \n",
        "    X_test_tfidf = tfidf_vectorizer.transform(X_test)\n",
        "    \n",
        "    return X_train_tfidf, X_test_tfidf, tfidf_vectorizer.vocabulary_\n",
        "    \n",
        "    \n",
        "X_train_tfidf, X_test_tfidf, tfidf_vocab = tfidf_features(X_train, X_test)"
      ],
      "execution_count": 0,
      "outputs": []
    },
    {
      "cell_type": "code",
      "metadata": {
        "id": "9_AEJg_oEoAH",
        "colab_type": "code",
        "colab": {}
      },
      "source": [
        "\n",
        "# convert to dense array\n",
        "X_train_tfidf=X_train_tfidf.toarray()"
      ],
      "execution_count": 0,
      "outputs": []
    },
    {
      "cell_type": "code",
      "metadata": {
        "id": "YNUJ9GTfEsc1",
        "colab_type": "code",
        "colab": {
          "base_uri": "https://localhost:8080/",
          "height": 34
        },
        "outputId": "9074844b-6987-42f2-c298-a5cf61b0f49d"
      },
      "source": [
        "\n",
        "type(X_train_tfidf)"
      ],
      "execution_count": 35,
      "outputs": [
        {
          "output_type": "execute_result",
          "data": {
            "text/plain": [
              "numpy.ndarray"
            ]
          },
          "metadata": {
            "tags": []
          },
          "execution_count": 35
        }
      ]
    },
    {
      "cell_type": "code",
      "metadata": {
        "id": "WwBKdrn7Fp75",
        "colab_type": "code",
        "colab": {}
      },
      "source": [
        "X_test_tfidf=X_test_tfidf.toarray()"
      ],
      "execution_count": 0,
      "outputs": []
    },
    {
      "cell_type": "code",
      "metadata": {
        "id": "X6FKq20cFuF8",
        "colab_type": "code",
        "colab": {}
      },
      "source": [
        "from sklearn.naive_bayes import MultinomialNB\n",
        "mnb = MultinomialNB()\n",
        "mnb.fit(X_train_tfidf,y_train)\n",
        "predmnb = mnb.predict(X_test_tfidf)"
      ],
      "execution_count": 0,
      "outputs": []
    },
    {
      "cell_type": "code",
      "metadata": {
        "id": "aYGmGjrLFyk9",
        "colab_type": "code",
        "colab": {
          "base_uri": "https://localhost:8080/",
          "height": 34
        },
        "outputId": "5e76bbe1-176a-4e23-d350-a586b319059c"
      },
      "source": [
        "from sklearn.metrics import accuracy_score\n",
        "accuracy_score(y_test, predmnb)"
      ],
      "execution_count": 38,
      "outputs": [
        {
          "output_type": "execute_result",
          "data": {
            "text/plain": [
              "0.8945159912109375"
            ]
          },
          "metadata": {
            "tags": []
          },
          "execution_count": 38
        }
      ]
    },
    {
      "cell_type": "code",
      "metadata": {
        "id": "2P5QVgVeF0Bn",
        "colab_type": "code",
        "colab": {
          "base_uri": "https://localhost:8080/",
          "height": 420
        },
        "outputId": "7ba140b0-a769-49a8-fc46-5c5958a576bf"
      },
      "source": [
        "from sklearn.metrics import classification_report\n",
        "print (classification_report(y_test, predmnb))"
      ],
      "execution_count": 39,
      "outputs": [
        {
          "output_type": "stream",
          "text": [
            "              precision    recall  f1-score   support\n",
            "\n",
            "       B-art       0.00      0.00      0.00        97\n",
            "       B-eve       0.00      0.00      0.00        70\n",
            "       B-geo       0.80      0.49      0.61      9436\n",
            "       B-gpe       0.95      0.49      0.65      4000\n",
            "       B-nat       0.00      0.00      0.00        55\n",
            "       B-org       0.73      0.21      0.32      5056\n",
            "       B-per       0.85      0.38      0.52      4194\n",
            "       B-tim       0.93      0.56      0.70      5188\n",
            "       I-art       0.00      0.00      0.00        72\n",
            "       I-eve       0.00      0.00      0.00        70\n",
            "       I-geo       0.73      0.35      0.47      1783\n",
            "       I-gpe       0.00      0.00      0.00        41\n",
            "       I-nat       0.00      0.00      0.00        11\n",
            "       I-org       0.61      0.17      0.27      4182\n",
            "       I-per       0.52      0.10      0.17      4334\n",
            "       I-tim       0.38      0.02      0.04      1593\n",
            "           O       0.90      0.99      0.94    221962\n",
            "\n",
            "    accuracy                           0.89    262144\n",
            "   macro avg       0.44      0.22      0.28    262144\n",
            "weighted avg       0.88      0.89      0.87    262144\n",
            "\n"
          ],
          "name": "stdout"
        }
      ]
    },
    {
      "cell_type": "markdown",
      "metadata": {
        "id": "wxWxk5h_F83z",
        "colab_type": "text"
      },
      "source": [
        "Results are not good. So we better attempt some other approaches. Thanks to internet, I found some useful content that I used for my understanding in this project.\n",
        "\n",
        "I have used a post :http://www.depends-on-the-definition.com/introduction-named-entity-recognition-python/\n",
        "\n",
        "-  where author solved problem by memorizing entities for words and then used a simple classification model to improve the results."
      ]
    },
    {
      "cell_type": "markdown",
      "metadata": {
        "id": "T8Q0LFs_9jkJ",
        "colab_type": "text"
      },
      "source": [
        "# 5)- Prediction by Memorization Memorization\n",
        "\n",
        "Here sentence will be our X and tag will be y\n"
      ]
    },
    {
      "cell_type": "code",
      "metadata": {
        "id": "KJJGx2DY7LiZ",
        "colab_type": "code",
        "colab": {}
      },
      "source": [
        "from sklearn.base import BaseEstimator, TransformerMixin\n",
        "\n",
        "\n",
        "class MemoryTagger(BaseEstimator, TransformerMixin):\n",
        "    \n",
        "    def fit(self, X, y):\n",
        "        '''\n",
        "        Expects a list of words as X and a list of tags as y.\n",
        "        '''\n",
        "        voc = {}\n",
        "        self.tags = []\n",
        "        for x, t in zip(X, y):\n",
        "            if t not in self.tags:\n",
        "                self.tags.append(t)\n",
        "            if x in voc:\n",
        "                if t in voc[x]:\n",
        "                    voc[x][t] += 1\n",
        "                else:\n",
        "                    voc[x][t] = 1\n",
        "            else:\n",
        "                voc[x] = {t: 1}\n",
        "        self.memory = {}\n",
        "        for k, d in voc.items():\n",
        "            self.memory[k] = max(d, key=d.get)\n",
        "    \n",
        "    def predict(self, X, y=None):\n",
        "        '''\n",
        "        Predict the the tag from memory. If word is unknown, predict 'O'.\n",
        "        '''\n",
        "        return [self.memory.get(x, 'O') for x in X]"
      ],
      "execution_count": 0,
      "outputs": []
    },
    {
      "cell_type": "code",
      "metadata": {
        "id": "mxclqvVM9uBy",
        "colab_type": "code",
        "colab": {}
      },
      "source": [
        "# initialize \n",
        "tagger = MemoryTagger()"
      ],
      "execution_count": 0,
      "outputs": []
    },
    {
      "cell_type": "code",
      "metadata": {
        "id": "jVOVdfSS9zf_",
        "colab_type": "code",
        "colab": {}
      },
      "source": [
        "tagger.fit(sent, tag)\n",
        "\n",
        "# X being sent and y being tag"
      ],
      "execution_count": 0,
      "outputs": []
    },
    {
      "cell_type": "code",
      "metadata": {
        "id": "lIAu17r7-CTa",
        "colab_type": "code",
        "colab": {
          "base_uri": "https://localhost:8080/",
          "height": 34
        },
        "outputId": "9b670941-30ff-4b6e-df9f-a6b46c2ae389"
      },
      "source": [
        "print(tagger.predict(sent))"
      ],
      "execution_count": 43,
      "outputs": [
        {
          "output_type": "stream",
          "text": [
            "['O', 'O', 'O', 'O', 'O', 'O', 'B-geo', 'O', 'O', 'O', 'O', 'O', 'B-geo', 'O', 'O', 'O', 'O', 'O', 'B-gpe', 'O', 'O', 'O', 'O', 'O']\n"
          ],
          "name": "stdout"
        }
      ]
    },
    {
      "cell_type": "code",
      "metadata": {
        "id": "Niin5nAW-Gwj",
        "colab_type": "code",
        "colab": {
          "base_uri": "https://localhost:8080/",
          "height": 34
        },
        "outputId": "39d451ff-6ee5-4025-cda7-f7d8a814b4ea"
      },
      "source": [
        "tagger.tags"
      ],
      "execution_count": 44,
      "outputs": [
        {
          "output_type": "execute_result",
          "data": {
            "text/plain": [
              "['O', 'B-geo', 'B-gpe']"
            ]
          },
          "metadata": {
            "tags": []
          },
          "execution_count": 44
        }
      ]
    },
    {
      "cell_type": "markdown",
      "metadata": {
        "id": "YF_oNMGv-eYx",
        "colab_type": "text"
      },
      "source": [
        "# 6)- Cross Validation Method"
      ]
    },
    {
      "cell_type": "code",
      "metadata": {
        "id": "4b8ttG67-KjH",
        "colab_type": "code",
        "colab": {}
      },
      "source": [
        "from sklearn.metrics import accuracy_score\n",
        "from sklearn.model_selection import cross_val_predict\n",
        "from sklearn.metrics import classification_report"
      ],
      "execution_count": 0,
      "outputs": []
    },
    {
      "cell_type": "code",
      "metadata": {
        "id": "MMwAqPlu-jyJ",
        "colab_type": "code",
        "colab": {}
      },
      "source": [
        "words = data[\"Word\"].values.tolist()\n",
        "tags = data[\"Tag\"].values.tolist()"
      ],
      "execution_count": 0,
      "outputs": []
    },
    {
      "cell_type": "code",
      "metadata": {
        "id": "RHXFCiTT_Bze",
        "colab_type": "code",
        "colab": {}
      },
      "source": [
        "pred = cross_val_predict(estimator=MemoryTagger(), X=words, y=tags, cv=5)"
      ],
      "execution_count": 0,
      "outputs": []
    },
    {
      "cell_type": "code",
      "metadata": {
        "id": "2vCq3Oym_EeL",
        "colab_type": "code",
        "colab": {
          "base_uri": "https://localhost:8080/",
          "height": 34
        },
        "outputId": "4300c45f-9e7f-49ce-8bf8-14d62c5a6119"
      },
      "source": [
        "accuracy = accuracy_score(y_pred=pred, y_true=tags)\n",
        "print(accuracy)"
      ],
      "execution_count": 48,
      "outputs": [
        {
          "output_type": "stream",
          "text": [
            "0.9458875140071049\n"
          ],
          "name": "stdout"
        }
      ]
    },
    {
      "cell_type": "markdown",
      "metadata": {
        "id": "eiUmacd3_jMN",
        "colab_type": "text"
      },
      "source": [
        "What if we need more detail then classification report would be more useful"
      ]
    },
    {
      "cell_type": "code",
      "metadata": {
        "id": "0GM1GwFl_Hux",
        "colab_type": "code",
        "colab": {
          "base_uri": "https://localhost:8080/",
          "height": 420
        },
        "outputId": "993723a8-6360-493e-d8a7-2be8cfef810c"
      },
      "source": [
        "report = classification_report(y_pred=pred, y_true=tags)\n",
        "print(report)"
      ],
      "execution_count": 49,
      "outputs": [
        {
          "output_type": "stream",
          "text": [
            "              precision    recall  f1-score   support\n",
            "\n",
            "       B-art       0.20      0.05      0.09       402\n",
            "       B-eve       0.54      0.25      0.34       308\n",
            "       B-geo       0.78      0.85      0.81     37644\n",
            "       B-gpe       0.94      0.93      0.94     15870\n",
            "       B-nat       0.42      0.28      0.33       201\n",
            "       B-org       0.67      0.49      0.56     20143\n",
            "       B-per       0.78      0.65      0.71     16990\n",
            "       B-tim       0.87      0.77      0.82     20333\n",
            "       I-art       0.04      0.01      0.01       297\n",
            "       I-eve       0.39      0.12      0.18       253\n",
            "       I-geo       0.73      0.58      0.65      7414\n",
            "       I-gpe       0.62      0.45      0.52       198\n",
            "       I-nat       0.00      0.00      0.00        51\n",
            "       I-org       0.69      0.53      0.60     16784\n",
            "       I-per       0.73      0.65      0.69     17251\n",
            "       I-tim       0.58      0.13      0.21      6528\n",
            "           O       0.97      0.99      0.98    887908\n",
            "\n",
            "    accuracy                           0.95   1048575\n",
            "   macro avg       0.59      0.45      0.50   1048575\n",
            "weighted avg       0.94      0.95      0.94   1048575\n",
            "\n"
          ],
          "name": "stdout"
        }
      ]
    },
    {
      "cell_type": "markdown",
      "metadata": {
        "id": "u4GKbZ9R_2up",
        "colab_type": "text"
      },
      "source": [
        "# 7)- Back to ML model"
      ]
    },
    {
      "cell_type": "code",
      "metadata": {
        "id": "2gl12TG9_X76",
        "colab_type": "code",
        "colab": {}
      },
      "source": [
        "from sklearn.ensemble import RandomForestClassifier"
      ],
      "execution_count": 0,
      "outputs": []
    },
    {
      "cell_type": "code",
      "metadata": {
        "id": "5UupfrZe_6zu",
        "colab_type": "code",
        "colab": {}
      },
      "source": [
        "def feature_map(word):\n",
        "    '''Simple feature map.'''\n",
        "    return np.array([word.istitle(), word.islower(), word.isupper(), len(word),\n",
        "                     word.isdigit(),  word.isalpha()])"
      ],
      "execution_count": 0,
      "outputs": []
    },
    {
      "cell_type": "code",
      "metadata": {
        "id": "Xi6yVhepBnkZ",
        "colab_type": "code",
        "colab": {}
      },
      "source": [
        "words = [feature_map(w) for w in data[\"Word\"].values.tolist()]"
      ],
      "execution_count": 0,
      "outputs": []
    },
    {
      "cell_type": "code",
      "metadata": {
        "id": "7dl0ffv2Bq23",
        "colab_type": "code",
        "colab": {
          "base_uri": "https://localhost:8080/",
          "height": 101
        },
        "outputId": "b5d6d2f5-a2be-40b8-8c0a-72cb8f83286d"
      },
      "source": [
        "words[:5]"
      ],
      "execution_count": 53,
      "outputs": [
        {
          "output_type": "execute_result",
          "data": {
            "text/plain": [
              "[array([1, 0, 0, 9, 0, 1]),\n",
              " array([0, 1, 0, 2, 0, 1]),\n",
              " array([ 0,  1,  0, 13,  0,  1]),\n",
              " array([0, 1, 0, 4, 0, 1]),\n",
              " array([0, 1, 0, 7, 0, 1])]"
            ]
          },
          "metadata": {
            "tags": []
          },
          "execution_count": 53
        }
      ]
    },
    {
      "cell_type": "code",
      "metadata": {
        "id": "58VhqyIiBr7W",
        "colab_type": "code",
        "colab": {}
      },
      "source": [
        "pred = cross_val_predict(RandomForestClassifier(n_estimators=20),\n",
        "                         X=words, y=tags, cv=5)"
      ],
      "execution_count": 0,
      "outputs": []
    },
    {
      "cell_type": "code",
      "metadata": {
        "id": "3juqpURXB0cV",
        "colab_type": "code",
        "colab": {
          "base_uri": "https://localhost:8080/",
          "height": 420
        },
        "outputId": "ebd3db13-e208-4569-91e1-49855c33c72a"
      },
      "source": [
        "report = classification_report(y_pred=pred, y_true=tags)\n",
        "print(report)"
      ],
      "execution_count": 55,
      "outputs": [
        {
          "output_type": "stream",
          "text": [
            "              precision    recall  f1-score   support\n",
            "\n",
            "       B-art       0.00      0.00      0.00       402\n",
            "       B-eve       0.00      0.00      0.00       308\n",
            "       B-geo       0.26      0.80      0.40     37644\n",
            "       B-gpe       0.26      0.04      0.07     15870\n",
            "       B-nat       0.00      0.00      0.00       201\n",
            "       B-org       0.65      0.17      0.27     20143\n",
            "       B-per       0.97      0.20      0.33     16990\n",
            "       B-tim       0.29      0.32      0.30     20333\n",
            "       I-art       0.00      0.00      0.00       297\n",
            "       I-eve       0.00      0.00      0.00       253\n",
            "       I-geo       0.00      0.00      0.00      7414\n",
            "       I-gpe       0.00      0.00      0.00       198\n",
            "       I-nat       0.00      0.00      0.00        51\n",
            "       I-org       0.36      0.03      0.06     16784\n",
            "       I-per       0.46      0.02      0.04     17251\n",
            "       I-tim       0.50      0.06      0.11      6528\n",
            "           O       0.97      0.98      0.97    887908\n",
            "\n",
            "    accuracy                           0.87   1048575\n",
            "   macro avg       0.28      0.15      0.15   1048575\n",
            "weighted avg       0.88      0.87      0.86   1048575\n",
            "\n"
          ],
          "name": "stdout"
        }
      ]
    },
    {
      "cell_type": "markdown",
      "metadata": {
        "id": "6o407Mz-B-1M",
        "colab_type": "text"
      },
      "source": [
        "# 7)- Feature Transformation\n",
        "\n",
        "To improve results"
      ]
    },
    {
      "cell_type": "code",
      "metadata": {
        "id": "yC7BIqiACCpI",
        "colab_type": "code",
        "colab": {}
      },
      "source": [
        "from sklearn.preprocessing import LabelEncoder\n",
        "\n",
        "class FeatureTransformer(BaseEstimator, TransformerMixin):\n",
        "    \n",
        "    def __init__(self):\n",
        "        self.memory_tagger = MemoryTagger()\n",
        "        self.tag_encoder = LabelEncoder()\n",
        "        self.pos_encoder = LabelEncoder()\n",
        "        \n",
        "    def fit(self, X, y):\n",
        "        words = X[\"Word\"].values.tolist()\n",
        "        self.pos = X[\"POS\"].values.tolist()\n",
        "        tags = X[\"Tag\"].values.tolist()\n",
        "        self.memory_tagger.fit(words, tags)\n",
        "        self.tag_encoder.fit(tags)\n",
        "        self.pos_encoder.fit(self.pos)\n",
        "        return self\n",
        "    \n",
        "    def transform(self, X, y=None):\n",
        "        def pos_default(p):\n",
        "            if p in self.pos:\n",
        "                return self.pos_encoder.transform([p])[0]\n",
        "            else:\n",
        "                return -1\n",
        "        \n",
        "        pos = X[\"POS\"].values.tolist()\n",
        "        words = X[\"Word\"].values.tolist()\n",
        "        out = []\n",
        "        for i in range(len(words)):\n",
        "            w = words[i]\n",
        "            p = pos[i]\n",
        "            if i < len(words) - 1:\n",
        "                wp = self.tag_encoder.transform(self.memory_tagger.predict([words[i+1]]))[0]\n",
        "                posp = pos_default(pos[i+1])\n",
        "            else:\n",
        "                wp = self.tag_encoder.transform(['O'])[0]\n",
        "                posp = pos_default(\".\")\n",
        "            if i > 0:\n",
        "                if words[i-1] != \".\":\n",
        "                    wm = self.tag_encoder.transform(self.memory_tagger.predict([words[i-1]]))[0]\n",
        "                    posm = pos_default(pos[i-1])\n",
        "                else:\n",
        "                    wm = self.tag_encoder.transform(['O'])[0]\n",
        "                    posm = pos_default(\".\")\n",
        "            else:\n",
        "                posm = pos_default(\".\")\n",
        "                wm = self.tag_encoder.transform(['O'])[0]\n",
        "            out.append(np.array([w.istitle(), w.islower(), w.isupper(), len(w), w.isdigit(), w.isalpha(),\n",
        "                                 self.tag_encoder.transform(self.memory_tagger.predict([w]))[0],\n",
        "                                 pos_default(p), wp, wm, posp, posm]))\n",
        "        return out"
      ],
      "execution_count": 0,
      "outputs": []
    },
    {
      "cell_type": "markdown",
      "metadata": {
        "id": "WwaFov2sCIRK",
        "colab_type": "text"
      },
      "source": [
        "### using pipeline\n",
        "\n",
        "in order to utilize featuretransform + random forest at same. Else we can do one by one."
      ]
    },
    {
      "cell_type": "code",
      "metadata": {
        "id": "EgYYzolwCENq",
        "colab_type": "code",
        "colab": {}
      },
      "source": [
        "from sklearn.pipeline import Pipeline\n",
        "pred = cross_val_predict(Pipeline([(\"feature_map\", FeatureTransformer()), \n",
        "                                   (\"clf\", RandomForestClassifier(n_estimators=20, n_jobs=3))]),\n",
        "                         X=data, y=tags, cv=5)"
      ],
      "execution_count": 0,
      "outputs": []
    },
    {
      "cell_type": "code",
      "metadata": {
        "id": "mDegVx-GCS1z",
        "colab_type": "code",
        "colab": {}
      },
      "source": [
        "report = classification_report(y_pred=pred, y_true=tags)\n",
        "print(report)"
      ],
      "execution_count": 0,
      "outputs": []
    }
  ]
}